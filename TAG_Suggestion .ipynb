{
 "cells": [
  {
   "cell_type": "code",
   "execution_count": 1,
   "id": "8e16bdff",
   "metadata": {},
   "outputs": [],
   "source": [
    "import numpy as np\n",
    "import pandas as pd\n",
    "from bs4 import BeautifulSoup\n",
    "import re\n",
    "from nltk.corpus import stopwords\n",
    "import nltk\n",
    "from nltk.tokenize import sent_tokenize, word_tokenize\n",
    "from nltk.stem import WordNetLemmatizer\n",
    "from sklearn.feature_extraction.text import CountVectorizer\n",
    "import seaborn as sns"
   ]
  },
  {
   "cell_type": "code",
   "execution_count": 2,
   "id": "fbd4a90d",
   "metadata": {},
   "outputs": [],
   "source": [
    "data = pd.read_csv('QueryResults_2.csv')"
   ]
  },
  {
   "cell_type": "markdown",
   "id": "a00b1457",
   "metadata": {},
   "source": [
    "# Data preparation for text analysis"
   ]
  },
  {
   "cell_type": "markdown",
   "id": "d5ec8188",
   "metadata": {},
   "source": [
    "### Fonctions primaires "
   ]
  },
  {
   "cell_type": "code",
   "execution_count": 4,
   "id": "66b6d65c",
   "metadata": {},
   "outputs": [],
   "source": [
    "def tokenizer_fct(question) :\n",
    "    # print(sentence)\n",
    "    question = BeautifulSoup(question).get_text()\n",
    "    question = question.lower()\n",
    "    #sentence_clean = sentence.replace('-', ' ').replace('+', ' ').replace('/', ' ').replace('#', ' ')\n",
    "    word_tokens = word_tokenize(question)\n",
    "    return word_tokens\n",
    "\n",
    "\n",
    "def lemma_fct(list_words) :\n",
    "    lemmatizer = WordNetLemmatizer()\n",
    "    lem_w = [lemmatizer.lemmatize(w) for w in list_words]\n",
    "    return lem_w\n",
    "\n",
    "def stop_word_filter_fct(list_words) :\n",
    "    filtered_w = [w for w in list_words if not w in stop_w]\n",
    "    filtered_w2 = [w for w in filtered_w if len(w) > 2]\n",
    "    return filtered_w2"
   ]
  },
  {
   "cell_type": "markdown",
   "id": "f5ae84ca",
   "metadata": {},
   "source": [
    "### Fonction déstinée à la création d'un \"Bag of Word\""
   ]
  },
  {
   "cell_type": "code",
   "execution_count": 5,
   "id": "4db45986",
   "metadata": {},
   "outputs": [],
   "source": [
    "def question_to_words_BW(question):\n",
    "    # On récupère le texte\n",
    "    question_text = BeautifulSoup(question).get_text()\n",
    "    \n",
    "    #On ne garde que les caractères intéressants. \n",
    "    question = re.sub(\"[^a-zA-Z+#]\",\" \", question_text)\n",
    "    \n",
    "    # On tokenize nos questions en mots.\n",
    "    words = question.lower().split()\n",
    "    \n",
    "    # On retire les mots clés plus courants avec peu de valeur ajoutée. \n",
    "    stops = set(stopwords.words('english'))\n",
    "    meaningful_words = [w for w in words if not w in stops]\n",
    "        \n",
    "    # On lemmatize les mots\n",
    "    meaningful_words = lemma_fct(meaningful_words)\n",
    "    \n",
    "    #On retourne une liste comprenant les mots ainsi récupérés. \n",
    "    return(\" \".join( meaningful_words))"
   ]
  },
  {
   "cell_type": "markdown",
   "id": "4972aff9",
   "metadata": {},
   "source": [
    "### Fonctions déstinée à la création du modèle Word2vec. "
   ]
  },
  {
   "cell_type": "code",
   "execution_count": 6,
   "id": "4922892d",
   "metadata": {},
   "outputs": [],
   "source": [
    "def sentence_to_wordlist(sentence, remove_stopwords=False, remove_ponctuation=False,lemmatize = False):\n",
    "\n",
    "    # 1. Remove HTML\n",
    "    sentence = BeautifulSoup(sentence).get_text()\n",
    "    sentence = re.sub(\"[^a-zA-Z+#]\",\" \", sentence)\n",
    "    # 1. Tokenization des phrases en liste de mots. \n",
    "    words = sentence.split()    \n",
    "    # 2. Lemmatisation des listes de mots(en option)\n",
    "    if lemmatize:\n",
    "        words = lemma_fct(words)\n",
    "    \n",
    "    # 3. Gestion des stopWords (en option)\n",
    "    if remove_stopwords:\n",
    "        stops = set(stopwords.words('english'))\n",
    "        words = [w for w in words if not w in stops]\n",
    "        \n",
    "    # 4. Gestion de la ponctuation (en option)\n",
    "    if remove_ponctuation:\n",
    "        ponct = ['[', ']', ',', '.', ':', '?', '(', ')','\\'','\\\"','`']\n",
    "        words = [w for w in words if not w in ponct]\n",
    "    \n",
    "    # 5. Return a list of words\n",
    "    return(words)"
   ]
  },
  {
   "cell_type": "code",
   "execution_count": 7,
   "id": "505aec45",
   "metadata": {},
   "outputs": [],
   "source": [
    "def question_to_sentences(question, tokenizer):\n",
    "    # Function to split a question into parsed sentences. Returns a \n",
    "    # list of sentences, where each sentence is a list of words\n",
    "    \n",
    "    question = BeautifulSoup(question).get_text()\n",
    "    # 1. Use the NLTK tokenizer to split the paragraph into sentences\n",
    "    raw_sentences = tokenizer.tokenize(question.strip())\n",
    "    # 2. Loop over each sentence\n",
    "    sentences = []\n",
    "    for raw_sentence in raw_sentences:\n",
    "        # If a sentence is empty, skip it\n",
    "        if len(raw_sentence) > 0:\n",
    "            # Otherwise, call review_to_wordlist to get a list of words\n",
    "            sentences.append(sentence_to_wordlist(raw_sentence, remove_stopwords=False,\\\n",
    "                                                  remove_ponctuation=False, lemmatize=False))\n",
    "    #\n",
    "    # Return the list of sentences (each sentence is a list of words,\n",
    "    # so this returns a list of lists\n",
    "    return sentences"
   ]
  },
  {
   "cell_type": "code",
   "execution_count": 8,
   "id": "02aeb5a6",
   "metadata": {
    "scrolled": true
   },
   "outputs": [],
   "source": [
    "#tokenizer qui décompose en phrases via la ponctuation= punkt\n",
    "tokenizer = nltk.data.load('tokenizers/punkt/english.pickle')"
   ]
  },
  {
   "cell_type": "markdown",
   "id": "151cdb42",
   "metadata": {},
   "source": [
    "## Gestion des TAGS ( cible ) "
   ]
  },
  {
   "cell_type": "code",
   "execution_count": 9,
   "id": "b2d2c14d",
   "metadata": {},
   "outputs": [],
   "source": [
    "def tag_remover(tag):\n",
    "    tag = tag.replace('>' , \" \").replace('<', \" \")\n",
    "    return tag\n",
    "\n",
    "def tag_to_word_list(tag):\n",
    "    tag = BeautifulSoup(tag).get_text()\n",
    "    tag = tag.split()\n",
    "    return(tag)"
   ]
  },
  {
   "cell_type": "code",
   "execution_count": 10,
   "id": "bdd72025",
   "metadata": {
    "scrolled": false
   },
   "outputs": [],
   "source": [
    "Tags = []\n",
    "for tag in data.Tags:\n",
    "    tag = tag_remover(tag)\n",
    "    tag = tag_to_word_list(tag)\n",
    "    Tags.append(tag)\n",
    "    \n",
    "tag_bank = [] \n",
    "for tag in Tags : \n",
    "    for y in tag:\n",
    "        tag_bank.append(y)"
   ]
  },
  {
   "cell_type": "code",
   "execution_count": 11,
   "id": "1ded7572",
   "metadata": {
    "scrolled": true
   },
   "outputs": [
    {
     "name": "stderr",
     "output_type": "stream",
     "text": [
      "/Users/florentmargery/opt/anaconda3/envs/work_env/lib/python3.9/site-packages/seaborn/_decorators.py:36: FutureWarning: Pass the following variables as keyword args: x, y. From version 0.12, the only valid positional argument will be `data`, and passing other arguments without an explicit keyword will result in an error or misinterpretation.\n",
      "  warnings.warn(\n"
     ]
    },
    {
     "data": {
      "image/png": "[encoded data removed]",
      "text/plain": [
       "<Figure size 432x288 with 1 Axes>"
      ]
     },
     "metadata": {
      "needs_background": "light"
     },
     "output_type": "display_data"
    }
   ],
   "source": [
    "tags = pd.DataFrame()\n",
    "tags['Tags'] = tag_bank\n",
    "sns.barplot(tags['Tags'].value_counts().head(10).index,\\\n",
    "            tags['Tags'].value_counts().head(10))\n",
    "top_ten = tags['Tags'].value_counts().head(10).index\n",
    "top_ten_tags=[]\n",
    "for i in range(len(top_ten)):\n",
    "    top_ten_tags.append(top_ten[i])"
   ]
  },
  {
   "cell_type": "code",
   "execution_count": 12,
   "id": "3fcada7a",
   "metadata": {},
   "outputs": [
    {
     "data": {
      "text/plain": [
       "37339"
      ]
     },
     "execution_count": 12,
     "metadata": {},
     "output_type": "execute_result"
    }
   ],
   "source": [
    "tags['Tags'].value_counts().head(10).sum()"
   ]
  },
  {
   "cell_type": "code",
   "execution_count": 13,
   "id": "f87b5963",
   "metadata": {},
   "outputs": [],
   "source": [
    "#Création des data que nous utiliserons pour créer notre modèle supervisé\n",
    "data_to_train = [] #--> X\n",
    "target_to_train = [] #--> y\n",
    "counter = 0\n",
    "for tag in Tags:\n",
    "    for i in tag:\n",
    "        if i in top_ten_tags:            \n",
    "            data_to_train.append(data.Body[counter])\n",
    "            target_to_train.append(i)\n",
    "            \n",
    "            \n",
    "    counter+=1"
   ]
  },
  {
   "cell_type": "code",
   "execution_count": 14,
   "id": "2e10fa5d",
   "metadata": {
    "scrolled": true
   },
   "outputs": [
    {
     "name": "stdout",
     "output_type": "stream",
     "text": [
      "java\n",
      "python\n",
      "c#\n",
      "javascript\n",
      "android\n",
      "ios\n",
      "c++\n",
      ".net\n",
      "html\n",
      "iphone\n"
     ]
    }
   ],
   "source": [
    "for tag in top_ten:\n",
    "    print(tag)\n",
    "    top_ten_tags.append(tag)"
   ]
  },
  {
   "cell_type": "markdown",
   "id": "722e68c3",
   "metadata": {},
   "source": [
    "# BAG Of WORDS"
   ]
  },
  {
   "cell_type": "markdown",
   "id": "a91634cc",
   "metadata": {},
   "source": [
    "### Préprocessing"
   ]
  },
  {
   "cell_type": "code",
   "execution_count": 15,
   "id": "33776930",
   "metadata": {},
   "outputs": [],
   "source": [
    "questions_cleared = []\n",
    "for question in data.Body:\n",
    "        cleared_question = question_to_words_BW(question)\n",
    "        questions_cleared.append(cleared_question)\n",
    "        \n",
    "# On créé le vectorizer qui va vectorizer les mots de nos questions. \n",
    "vectorizer = CountVectorizer(analyzer = \"word\", max_features = 5000) \n",
    "    \n",
    "# On fit notre vectorizer avec nos questions. \n",
    "questions_features = vectorizer.fit_transform(questions_cleared)\n",
    "#questions_features = questions_features.toarray()"
   ]
  },
  {
   "cell_type": "markdown",
   "id": "a56c3593",
   "metadata": {},
   "source": [
    "### Modèle de prédiction"
   ]
  },
  {
   "cell_type": "code",
   "execution_count": 16,
   "id": "a9563596",
   "metadata": {},
   "outputs": [
    {
     "data": {
      "text/plain": [
       "LatentDirichletAllocation(learning_method='online', learning_offset=50.0,\n",
       "                          max_iter=5, n_components=20, random_state=0)"
      ]
     },
     "execution_count": 16,
     "metadata": {},
     "output_type": "execute_result"
    }
   ],
   "source": [
    "from sklearn.decomposition import LatentDirichletAllocation\n",
    "n_topics = 20\n",
    "\n",
    "lda = LatentDirichletAllocation(n_components = n_topics, max_iter = 5, learning_method='online',learning_offset=50.,random_state=0)\n",
    "\n",
    "lda.fit(questions_features)"
   ]
  },
  {
   "cell_type": "code",
   "execution_count": 17,
   "id": "26fa9484",
   "metadata": {
    "scrolled": true
   },
   "outputs": [
    {
     "data": {
      "text/plain": [
       "array([[0.00142857, 0.00142857, 0.00142857, 0.00142857, 0.00142857,\n",
       "        0.00142857, 0.37140788, 0.00142857, 0.00142857, 0.00142857,\n",
       "        0.00142857, 0.36347772, 0.00142857, 0.00142857, 0.00142857,\n",
       "        0.14473674, 0.00142857, 0.09752052, 0.00142857, 0.00142857]])"
      ]
     },
     "execution_count": 17,
     "metadata": {},
     "output_type": "execute_result"
    }
   ],
   "source": [
    "lda.transform(questions_features[1])"
   ]
  },
  {
   "cell_type": "markdown",
   "id": "559d3005",
   "metadata": {},
   "source": [
    "### Affichage des topics trouvés par notre modèle.\n"
   ]
  },
  {
   "cell_type": "code",
   "execution_count": 18,
   "id": "44507ea0",
   "metadata": {
    "scrolled": true
   },
   "outputs": [
    {
     "name": "stdout",
     "output_type": "stream",
     "text": [
      "Topic 0:\n",
      "model build library project framework\n",
      "Topic 1:\n",
      "image import file data print\n",
      "Topic 2:\n",
      "user server request http client\n",
      "Topic 3:\n",
      "string name value list id\n",
      "Topic 4:\n",
      "table data database column query\n",
      "Topic 5:\n",
      "width height color td px\n",
      "Topic 6:\n",
      "error app code using work\n",
      "Topic 7:\n",
      "android java com layout org\n",
      "Topic 8:\n",
      "map size memory value byte\n",
      "Topic 9:\n",
      "test number testing option algorithm\n",
      "Topic 10:\n",
      "public class new void return\n",
      "Topic 11:\n",
      "one question use example case\n",
      "Topic 12:\n",
      "page http html url app\n",
      "Topic 13:\n",
      "div event form class button\n",
      "Topic 14:\n",
      "video stream frame cell angular\n",
      "Topic 15:\n",
      "would like way time use\n",
      "Topic 16:\n",
      "file command path local line\n",
      "Topic 17:\n",
      "function int array std return\n",
      "Topic 18:\n",
      "lib org python module package\n",
      "Topic 19:\n",
      "self view float nil def\n"
     ]
    },
    {
     "name": "stderr",
     "output_type": "stream",
     "text": [
      "/Users/florentmargery/opt/anaconda3/envs/work_env/lib/python3.9/site-packages/sklearn/utils/deprecation.py:87: FutureWarning: Function get_feature_names is deprecated; get_feature_names is deprecated in 1.0 and will be removed in 1.2. Please use get_feature_names_out instead.\n",
      "  warnings.warn(msg, category=FutureWarning)\n"
     ]
    }
   ],
   "source": [
    "def display_topics(model, feature_names, no_top_words):\n",
    "    topic_list = pd.DataFrame()\n",
    "    for topic_idx, topic in enumerate(model.components_):\n",
    "        print(\"Topic {}:\".format(topic_idx))\n",
    "        print(\" \".join([feature_names[i] for i in topic.argsort()[:-no_top_words - 1:-1]]))\n",
    "        topic_list[topic_idx] = [feature_names[i] for i in topic.argsort()[:-no_top_words - 1:-1]]\n",
    "\n",
    "no_top_words = 5\n",
    "display_topics(lda,vectorizer.get_feature_names(), 5)"
   ]
  },
  {
   "cell_type": "code",
   "execution_count": 23,
   "id": "0b743bdb",
   "metadata": {},
   "outputs": [
    {
     "name": "stderr",
     "output_type": "stream",
     "text": [
      "/Users/florentmargery/opt/anaconda3/envs/work_env/lib/python3.9/site-packages/pyLDAvis/_prepare.py:246: FutureWarning: In a future version of pandas all arguments of DataFrame.drop except for the argument 'labels' will be keyword-only.\n",
      "  default_term_info = default_term_info.sort_values(\n",
      "/Users/florentmargery/opt/anaconda3/envs/work_env/lib/python3.9/site-packages/past/builtins/misc.py:45: DeprecationWarning: the imp module is deprecated in favour of importlib; see the module's documentation for alternative uses\n",
      "  from imp import reload\n",
      "/Users/florentmargery/opt/anaconda3/envs/work_env/lib/python3.9/site-packages/past/builtins/misc.py:45: DeprecationWarning: the imp module is deprecated in favour of importlib; see the module's documentation for alternative uses\n",
      "  from imp import reload\n",
      "/Users/florentmargery/opt/anaconda3/envs/work_env/lib/python3.9/site-packages/past/builtins/misc.py:45: DeprecationWarning: the imp module is deprecated in favour of importlib; see the module's documentation for alternative uses\n",
      "  from imp import reload\n",
      "/Users/florentmargery/opt/anaconda3/envs/work_env/lib/python3.9/site-packages/past/builtins/misc.py:45: DeprecationWarning: the imp module is deprecated in favour of importlib; see the module's documentation for alternative uses\n",
      "  from imp import reload\n",
      "/Users/florentmargery/opt/anaconda3/envs/work_env/lib/python3.9/site-packages/past/builtins/misc.py:45: DeprecationWarning: the imp module is deprecated in favour of importlib; see the module's documentation for alternative uses\n",
      "  from imp import reload\n",
      "/Users/florentmargery/opt/anaconda3/envs/work_env/lib/python3.9/site-packages/past/builtins/misc.py:45: DeprecationWarning: the imp module is deprecated in favour of importlib; see the module's documentation for alternative uses\n",
      "  from imp import reload\n",
      "/Users/florentmargery/opt/anaconda3/envs/work_env/lib/python3.9/site-packages/past/builtins/misc.py:45: DeprecationWarning: the imp module is deprecated in favour of importlib; see the module's documentation for alternative uses\n",
      "  from imp import reload\n",
      "/Users/florentmargery/opt/anaconda3/envs/work_env/lib/python3.9/site-packages/past/builtins/misc.py:45: DeprecationWarning: the imp module is deprecated in favour of importlib; see the module's documentation for alternative uses\n",
      "  from imp import reload\n",
      "/Users/florentmargery/opt/anaconda3/envs/work_env/lib/python3.9/site-packages/past/builtins/misc.py:45: DeprecationWarning: the imp module is deprecated in favour of importlib; see the module's documentation for alternative uses\n",
      "  from imp import reload\n"
     ]
    },
    {
     "data": {
      "text/html": [
       "\n",
       "<link rel=\"stylesheet\" type=\"text/css\" href=\"https://cdn.jsdelivr.net/gh/bmabey/pyLDAvis@3.3.1/pyLDAvis/js/ldavis.v1.0.0.css\">\n",
       "\n",
       "\n",
       "<div id=\"ldavis_el160391404881334022885698356519\"></div>\n",
       "<script type=\"text/javascript\">\n",
       "\n",
       "var ldavis_el160391404881334022885698356519_data = {\"mdsDat\": {\"x\": [-0.1956862066586331, -0.24086566550241736, -0.07535560065478301, -0.06741419872485653, 0.04281364462087807, -0.1292308343172826, 0.081681840006307, 0.06997152193975263, -0.1608647744759536, 0.2750725535737138, 0.030559236156930625, 0.21464084868414848, -0.041898800435932644, -0.035721521380041116, 0.08125755138927962, 0.0561267647080537, -0.0841841169227766, -0.02081926189955206, -0.06099644264092746, 0.260913462534093], \"y\": [-0.087600838223713, -0.03679993579882072, -0.15960205872265057, -0.013277877882324589, -0.16501173142295403, 0.022906125372890787, -0.12311180414526932, -0.18023001004896483, 0.04423815671975085, -0.09099353607246187, -0.030268364975356135, -0.05929755259230484, 0.03057418864542752, 0.02964973965430753, 0.09129578318298798, -0.04727967948333221, 0.1279509147614671, 0.2891964286164532, 0.12235913907097686, 0.23530291334388947], \"topics\": [1, 2, 3, 4, 5, 6, 7, 8, 9, 10, 11, 12, 13, 14, 15, 16, 17, 18, 19, 20], \"cluster\": [1, 1, 1, 1, 1, 1, 1, 1, 1, 1, 1, 1, 1, 1, 1, 1, 1, 1, 1, 1], \"Freq\": [14.106682515846055, 9.409445997638176, 8.020084580822767, 7.365515344163642, 7.141227585533631, 6.726382632589237, 5.270883107581692, 4.552008080297843, 4.400121706252835, 4.217761166756909, 4.188440837220558, 4.086454320478508, 3.695443117491676, 3.3762771249741403, 3.255827769308025, 2.8739442618683753, 2.2744227025709063, 1.999787357195175, 1.5760777623368392, 1.4632120290730075]}, \"tinfo\": {\"Term\": [\"android\", \"file\", \"java\", \"test\", \"function\", \"public\", \"string\", \"class\", \"self\", \"image\", \"data\", \"value\", \"int\", \"id\", \"name\", \"view\", \"model\", \"http\", \"table\", \"user\", \"org\", \"com\", \"return\", \"page\", \"void\", \"app\", \"size\", \"build\", \"project\", \"import\", \"jvm\", \"ram\", \"timezone\", \"heavy\", \"backbone\", \"expensive\", \"latency\", \"tenant\", \"practical\", \"reliable\", \"clarification\", \"unity\", \"experience\", \"peak\", \"figuring\", \"dedicated\", \"discover\", \"primarily\", \"focused\", \"preferably\", \"outdated\", \"early\", \"bandwidth\", \"robust\", \"mpi\", \"buy\", \"hear\", \"zookeeper\", \"discussed\", \"trade\", \"day\", \"parallel\", \"love\", \"job\", \"minute\", \"ideally\", \"thousand\", \"slow\", \"besides\", \"year\", \"hour\", \"gui\", \"huge\", \"time\", \"nice\", \"fast\", \"month\", \"recommend\", \"would\", \"maybe\", \"looking\", \"large\", \"team\", \"way\", \"best\", \"need\", \"like\", \"every\", \"much\", \"solution\", \"know\", \"could\", \"wondering\", \"possible\", \"good\", \"lot\", \"something\", \"find\", \"really\", \"use\", \"able\", \"want\", \"process\", \"using\", \"based\", \"etc\", \"application\", \"also\", \"one\", \"anyone\", \"seems\", \"work\", \"thanks\", \"make\", \"example\", \"question\", \"problem\", \"get\", \"code\", \"tree\", \"advantage\", \"easier\", \"concept\", \"friend\", \"haskell\", \"decide\", \"monad\", \"hadoop\", \"con\", \"disadvantage\", \"theory\", \"roll\", \"transforms\", \"rating\", \"principle\", \"recursion\", \"keywords\", \"confusion\", \"pdo\", \"involve\", \"unclear\", \"involves\", \"designing\", \"esp\", \"choosing\", \"grammar\", \"rolling\", \"wise\", \"oop\", \"strong\", \"wikipedia\", \"diagram\", \"convention\", \"complexity\", \"understood\", \"difference\", \"trivial\", \"explanation\", \"language\", \"meaning\", \"functional\", \"maintain\", \"programming\", \"term\", \"understand\", \"understanding\", \"pattern\", \"explain\", \"question\", \"case\", \"two\", \"confused\", \"answer\", \"one\", \"mean\", \"three\", \"comment\", \"example\", \"sense\", \"different\", \"say\", \"used\", \"use\", \"structure\", \"thing\", \"would\", \"first\", \"code\", \"make\", \"also\", \"seems\", \"point\", \"know\", \"like\", \"object\", \"way\", \"think\", \"many\", \"data\", \"read\", \"using\", \"see\", \"visual\", \"dll\", \"scala\", \"excel\", \"dylib\", \"debugger\", \"lldb\", \"patch\", \"culture\", \"glibc\", \"msvcrt\", \"bluetooth\", \"tile\", \"msvcr\", \"publickeytoken\", \"neutral\", \"breakpoint\", \"office\", \"school\", \"uitextview\", \"xl\", \"spreadsheet\", \"dlls\", \"uinavigationcontroller\", \"sprite\", \"pdb\", \"dotnet\", \"latex\", \"unsafe\", \"workbook\", \"studio\", \"assembly\", \"device\", \"compression\", \"xcode\", \"microsoft\", \"crash\", \"io\", \"debugging\", \"debug\", \"warning\", \"mode\", \"bug\", \"fix\", \"error\", \"iphone\", \"play\", \"setting\", \"app\", \"issue\", \"flag\", \"tried\", \"project\", \"version\", \"apps\", \"problem\", \"work\", \"application\", \"code\", \"update\", \"fine\", \"change\", \"using\", \"system\", \"get\", \"file\", \"try\", \"see\", \"also\", \"working\", \"new\", \"following\", \"use\", \"run\", \"found\", \"message\", \"obj\", \"constructor\", \"private\", \"void\", \"arg\", \"writeline\", \"myclass\", \"setter\", \"printstacktrace\", \"argv\", \"public\", \"singleton\", \"readonly\", \"getname\", \"dword\", \"executor\", \"iostream\", \"dispose\", \"synchronized\", \"runnable\", \"serializable\", \"instantiate\", \"intptr\", \"stdio\", \"stopwatch\", \"httppost\", \"myobject\", \"jan\", \"argc\", \"memorystream\", \"println\", \"await\", \"mutex\", \"printf\", \"thread\", \"async\", \"static\", \"catch\", \"worker\", \"sleep\", \"pthread\", \"queue\", \"class\", \"concurrent\", \"args\", \"throw\", \"boolean\", \"exception\", \"override\", \"protected\", \"new\", \"context\", \"method\", \"null\", \"interface\", \"task\", \"return\", \"object\", \"int\", \"system\", \"final\", \"string\", \"block\", \"call\", \"instance\", \"get\", \"code\", \"main\", \"true\", \"try\", \"password\", \"session\", \"token\", \"email\", \"username\", \"socket\", \"connect\", \"ssl\", \"authentication\", \"certificate\", \"account\", \"auth\", \"cookie\", \"protocol\", \"mail\", \"tcp\", \"timeout\", \"oauth\", \"sha\", \"firebase\", \"credential\", \"endpoint\", \"packet\", \"authorization\", \"cert\", \"ip\", \"cooky\", \"soap\", \"handshake\", \"wsdl\", \"response\", \"httpclient\", \"request\", \"client\", \"proxy\", \"req\", \"send\", \"sending\", \"login\", \"port\", \"security\", \"service\", \"server\", \"connection\", \"localhost\", \"user\", \"api\", \"message\", \"http\", \"header\", \"access\", \"domain\", \"com\", \"post\", \"url\", \"data\", \"error\", \"get\", \"application\", \"using\", \"character\", \"datetime\", \"price\", \"country\", \"city\", \"enum\", \"rsa\", \"lastname\", \"ascii\", \"dbo\", \"firstname\", \"epoch\", \"substring\", \"stringbuilder\", \"sb\", \"desc\", \"quot\", \"initializer\", \"gender\", \"mystring\", \"objectid\", \"pyspark\", \"underscore\", \"fmt\", \"mytable\", \"pk\", \"aaa\", \"unicode\", \"getproperty\", \"pub\", \"abc\", \"age\", \"regex\", \"encode\", \"escape\", \"date\", \"dt\", \"person\", \"formatted\", \"key\", \"name\", \"str\", \"string\", \"utf\", \"list\", \"dictionary\", \"value\", \"param\", \"field\", \"convert\", \"json\", \"encoding\", \"id\", \"item\", \"parse\", \"format\", \"length\", \"attribute\", \"null\", \"filter\", \"set\", \"object\", \"get\", \"type\", \"text\", \"property\", \"return\", \"like\", \"data\", \"want\", \"result\", \"new\", \"array\", \"using\", \"git\", \"txt\", \"docker\", \"bash\", \"shell\", \"ssh\", \"terminal\", \"sudo\", \"cmd\", \"exec\", \"clang\", \"sh\", \"openssl\", \"svn\", \"heroku\", \"grep\", \"cp\", \"diff\", \"mingw\", \"lxml\", \"ini\", \"gdb\", \"rm\", \"llvm\", \"commits\", \"crt\", \"powershell\", \"mercurial\", \"sed\", \"xsl\", \"command\", \"ubuntu\", \"daemon\", \"proc\", \"directory\", \"bin\", \"branch\", \"folder\", \"exit\", \"local\", \"file\", \"tmp\", \"pid\", \"usr\", \"path\", \"echo\", \"exe\", \"php\", \"script\", \"linux\", \"line\", \"dir\", \"root\", \"run\", \"environment\", \"install\", \"dev\", \"program\", \"window\", \"running\", \"process\", \"error\", \"get\", \"output\", \"include\", \"copy\", \"server\", \"using\", \"asp\", \"react\", \"mvc\", \"mainwindow\", \"locationmanager\", \"uiwebview\", \"visitor\", \"aspnet\", \"youtube\", \"redux\", \"actionresult\", \"localstorage\", \"mozilla\", \"azure\", \"markdown\", \"razor\", \"appsettings\", \"redirected\", \"owin\", \"appender\", \"webrequest\", \"itunes\", \"phonegap\", \"aspnetcore\", \"getresponse\", \"sinatra\", \"elmah\", \"ico\", \"gecko\", \"coffee\", \"page\", \"controller\", \"wp\", \"chrome\", \"dtd\", \"router\", \"safari\", \"fr\", \"route\", \"browser\", \"render\", \"ii\", \"www\", \"contact\", \"firefox\", \"html\", \"vue\", \"xhtml\", \"url\", \"tag\", \"component\", \"log\", \"aspx\", \"website\", \"web\", \"location\", \"http\", \"document\", \"site\", \"ie\", \"asset\", \"action\", \"app\", \"com\", \"javascript\", \"net\", \"index\", \"link\", \"load\", \"view\", \"content\", \"get\", \"using\", \"application\", \"std\", \"df\", \"vector\", \"struct\", \"dataframe\", \"nan\", \"ptr\", \"panda\", \"spark\", \"cout\", \"uint\", \"sizeof\", \"arr\", \"pd\", \"typename\", \"endl\", \"iterator\", \"vec\", \"fn\", \"typedef\", \"loc\", \"groupby\", \"allocator\", \"const\", \"trait\", \"constexpr\", \"iter\", \"closure\", \"stringify\", \"operand\", \"lambda\", \"tuple\", \"char\", \"operator\", \"function\", \"array\", \"int\", \"pointer\", \"index\", \"loop\", \"var\", \"template\", \"num\", \"type\", \"return\", \"count\", \"include\", \"double\", \"variable\", \"value\", \"argument\", \"main\", \"code\", \"error\", \"result\", \"call\", \"like\", \"foo\", \"gem\", \"ruby\", \"springframework\", \"maven\", \"rb\", \"npm\", \"groupid\", \"artifactid\", \"rvm\", \"conf\", \"pg\", \"anaconda\", \"vagrant\", \"rake\", \"selenium\", \"pom\", \"pip\", \"downloading\", \"gyp\", \"bundler\", \"egg\", \"webdriver\", \"jetty\", \"baz\", \"sas\", \"tar\", \"rack\", \"war\", \"conda\", \"bean\", \"lib\", \"boot\", \"inf\", \"servlet\", \"opt\", \"package\", \"module\", \"py\", \"jar\", \"spring\", \"driver\", \"tomcat\", \"dependency\", \"datasource\", \"python\", \"org\", \"node\", \"apache\", \"install\", \"plugin\", \"rail\", \"version\", \"bar\", \"configuration\", \"import\", \"src\", \"error\", \"usr\", \"build\", \"li\", \"span\", \"modal\", \"ul\", \"wpf\", \"checkbox\", \"xaml\", \"textbox\", \"classname\", \"dropdown\", \"dim\", \"cart\", \"radio\", \"viewmodel\", \"textfield\", \"textarea\", \"innerhtml\", \"addeventlistener\", \"datagrid\", \"datepicker\", \"onchange\", \"pane\", \"textblock\", \"preventdefault\", \"slider\", \"datacontext\", \"keycode\", \"draggable\", \"datagridview\", \"itemssource\", \"submit\", \"getelementbyid\", \"prop\", \"placeholder\", \"btn\", \"br\", \"event\", \"button\", \"clicked\", \"calendar\", \"form\", \"div\", \"jquery\", \"click\", \"panel\", \"binding\", \"alert\", \"child\", \"href\", \"label\", \"selected\", \"input\", \"script\", \"element\", \"text\", \"ng\", \"ajax\", \"title\", \"function\", \"javascript\", \"class\", \"hello\", \"window\", \"type\", \"var\", \"id\", \"html\", \"control\", \"item\", \"document\", \"data\", \"true\", \"name\", \"value\", \"code\", \"android\", \"activity\", \"intent\", \"lang\", \"fragment\", \"sun\", \"menu\", \"textview\", \"gradle\", \"drawable\", \"dp\", \"webview\", \"apk\", \"androidruntime\", \"linearlayout\", \"oncreate\", \"savedinstancestate\", \"findviewbyid\", \"activitythread\", \"edittext\", \"viewgroup\", \"recyclerview\", \"layoutinflater\", \"drawer\", \"cordova\", \"adb\", \"mainactivity\", \"relativelayout\", \"zygoteinit\", \"appcompat\", \"xmlns\", \"toast\", \"java\", \"launcher\", \"settext\", \"layout\", \"javax\", \"util\", \"reflect\", \"internal\", \"widget\", \"jdbc\", \"com\", \"org\", \"parent\", \"schema\", \"wrap\", \"xml\", \"view\", \"id\", \"support\", \"app\", \"http\", \"content\", \"item\", \"main\", \"import\", \"color\", \"td\", \"px\", \"font\", \"border\", \"padding\", \"white\", \"blue\", \"svg\", \"circle\", \"iframe\", \"radius\", \"scrolling\", \"decimal\", \"green\", \"round\", \"corner\", \"hover\", \"landscape\", \"paint\", \"bold\", \"overlay\", \"collapse\", \"opacity\", \"scroll\", \"contour\", \"viewport\", \"bg\", \"triangle\", \"responsive\", \"center\", \"margin\", \"black\", \"tr\", \"webkit\", \"width\", \"align\", \"red\", \"col\", \"height\", \"bottom\", \"style\", \"cs\", \"position\", \"background\", \"top\", \"screen\", \"left\", \"th\", \"bar\", \"text\", \"icon\", \"size\", \"div\", \"right\", \"content\", \"display\", \"want\", \"set\", \"like\", \"sql\", \"mysql\", \"sqlite\", \"postgresql\", \"userid\", \"activerecord\", \"oracle\", \"postgres\", \"datatable\", \"foreign\", \"innodb\", \"association\", \"jsf\", \"cascade\", \"iqueryable\", \"sqlalchemy\", \"decorator\", \"locking\", \"populated\", \"scanner\", \"emp\", \"na\", \"mar\", \"generatedvalue\", \"vehicle\", \"tablename\", \"proj\", \"elastic\", \"subscriber\", \"za\", \"column\", \"entity\", \"database\", \"db\", \"employee\", \"query\", \"varchar\", \"record\", \"table\", \"transaction\", \"row\", \"insert\", \"migration\", \"student\", \"select\", \"customer\", \"join\", \"ef\", \"group\", \"primary\", \"data\", \"linq\", \"id\", \"user\", \"cache\", \"role\", \"create\", \"schema\", \"delete\", \"update\", \"order\", \"server\", \"using\", \"np\", \"png\", \"plot\", \"cv\", \"shape\", \"csv\", \"canvas\", \"bitmap\", \"jpg\", \"train\", \"photo\", \"plt\", \"tf\", \"tensorflow\", \"matplotlib\", \"uiimage\", \"opencv\", \"chart\", \"shadow\", \"lnk\", \"ggplot\", \"cgrectmake\", \"matrix\", \"jpeg\", \"img\", \"uibutton\", \"geom\", \"uiimageview\", \"thumbnail\", \"dense\", \"kera\", \"numpy\", \"aes\", \"pdf\", \"image\", \"camera\", \"ax\", \"mat\", \"upload\", \"len\", \"import\", \"print\", \"dataset\", \"medium\", \"file\", \"data\", \"def\", \"python\", \"line\", \"frame\", \"size\", \"output\", \"input\", \"read\", \"code\", \"path\", \"using\", \"get\", \"django\", \"cross\", \"qt\", \"arm\", \"intellij\", \"pod\", \"ci\", \"linking\", \"jam\", \"linker\", \"charfield\", \"sdl\", \"msbuild\", \"actor\", \"operating\", \"foreignkey\", \"iphoneos\", \"mono\", \"frontend\", \"armv\", \"asm\", \"clojure\", \"sa\", \"optimizer\", \"deriveddata\", \"pickle\", \"jni\", \"composer\", \"cocoapods\", \"portable\", \"platform\", \"model\", \"variant\", \"pipeline\", \"activation\", \"appname\", \"build\", \"symbol\", \"ld\", \"library\", \"sdk\", \"kernel\", \"framework\", \"intel\", \"shared\", \"laravel\", \"product\", \"boost\", \"target\", \"share\", \"project\", \"compile\", \"architecture\", \"compiler\", \"gcc\", \"common\", \"feature\", \"tool\", \"mac\", \"developer\", \"core\", \"version\", \"source\", \"system\", \"include\", \"class\", \"use\", \"nil\", \"self\", \"alloc\", \"nsstring\", \"swift\", \"math\", \"uiview\", \"nslog\", \"uitableview\", \"score\", \"animated\", \"viewdidload\", \"car\", \"nsarray\", \"vertex\", \"sin\", \"nsurl\", \"uiviewcontroller\", \"gl\", \"sentence\", \"viewcontroller\", \"polygon\", \"nsdictionary\", \"nsdata\", \"accuracy\", \"boundary\", \"nsdate\", \"uilabel\", \"frequency\", \"addsubview\", \"metric\", \"uicolor\", \"float\", \"cycle\", \"scene\", \"category\", \"delegate\", \"view\", \"def\", \"animation\", \"func\", \"double\", \"layer\", \"yes\", \"weight\", \"let\", \"bound\", \"word\", \"super\", \"return\", \"list\", \"bool\", \"code\", \"method\", \"end\", \"add\", \"map\", \"sum\", \"heap\", \"marker\", \"maximum\", \"lat\", \"persistence\", \"latitude\", \"longitude\", \"tp\", \"eax\", \"observable\", \"compute\", \"uuid\", \"leak\", \"hashmap\", \"fft\", \"segment\", \"gson\", \"retrofit\", \"se\", \"sensor\", \"entitymanager\", \"shift\", \"formula\", \"gps\", \"delta\", \"acc\", \"latlng\", \"mapview\", \"allocation\", \"distance\", \"hash\", \"sec\", \"total\", \"ref\", \"memory\", \"region\", \"coordinate\", \"size\", \"max\", \"byte\", \"kb\", \"calculate\", \"point\", \"min\", \"integer\", \"long\", \"value\", \"address\", \"bit\", \"level\", \"entry\", \"space\", \"number\", \"result\", \"unit\", \"mock\", \"welcome\", \"test\", \"generation\", \"myproject\", \"suite\", \"union\", \"digit\", \"reminder\", \"vote\", \"printer\", \"accurate\", \"lstm\", \"rspec\", \"jest\", \"coverage\", \"fake\", \"fixture\", \"classrunner\", \"prime\", \"classification\", \"assertion\", \"parentrunner\", \"bracket\", \"eslint\", \"dm\", \"mockito\", \"solr\", \"phpunit\", \"keyboard\", \"seed\", \"runner\", \"random\", \"testing\", \"promise\", \"junit\", \"loader\", \"generator\", \"card\", \"algorithm\", \"assert\", \"constraint\", \"hint\", \"rule\", \"spec\", \"sequence\", \"number\", \"signature\", \"range\", \"generate\", \"option\", \"output\", \"input\", \"run\", \"validation\", \"check\", \"result\", \"angular\", \"video\", \"audio\", \"ymm\", \"mm\", \"mod\", \"dd\", \"stdout\", \"indexpath\", \"po\", \"pm\", \"storyboard\", \"fb\", \"fd\", \"movie\", \"cipher\", \"pt\", \"xmm\", \"gpu\", \"dog\", \"uiapplication\", \"rax\", \"ffmpeg\", \"mp\", \"ac\", \"cf\", \"collectionview\", \"dc\", \"subprocess\", \"fe\", \"duration\", \"stream\", \"profile\", \"cell\", \"offset\", \"buffer\", \"portaudiomodule\", \"frame\", \"cat\", \"section\", \"apache\", \"apple\", \"core\", \"de\", \"pipe\", \"start\", \"src\", \"mb\", \"init\"], \"Freq\": [18529.0, 28794.0, 18626.0, 11668.0, 17755.0, 17110.0, 20046.0, 23469.0, 9470.0, 10512.0, 21153.0, 16898.0, 13474.0, 17907.0, 18813.0, 10281.0, 7478.0, 15991.0, 7878.0, 19894.0, 9897.0, 13356.0, 16873.0, 8050.0, 8923.0, 13987.0, 7386.0, 7233.0, 9045.0, 8406.0, 484.5688672353666, 407.9408365983046, 366.01727680941144, 212.92760112469787, 205.4554418614499, 188.8858421163487, 162.07934511475486, 157.84606448066626, 256.5979731277107, 184.22203710879123, 151.54740052913832, 151.2711122217238, 1033.5565846531135, 129.83898061752095, 125.90571942779373, 123.8865167822001, 119.44810901071088, 118.62424297654358, 117.13346216207557, 334.4780372148308, 110.5018567253753, 109.63459952054426, 107.4827481174406, 105.45018916100743, 100.96628052452657, 100.91322173172573, 230.0801110089439, 97.43146516639814, 97.24800118564973, 92.22671714803697, 1540.0270097950781, 515.7562971522952, 399.5742410043737, 1459.270560690858, 761.3072643049081, 522.5881756739975, 239.4778826947027, 796.4612889419524, 220.0840571093459, 1018.8447262918783, 801.8126406822769, 597.1408751625445, 390.18899946363024, 9388.389597401096, 848.0492183118864, 848.2362591435452, 766.8303077247532, 315.8546312366923, 13056.025812309901, 1422.682195581527, 2897.42249545683, 1285.3151128795134, 591.3256964806275, 9950.82742434808, 2650.095379612039, 7893.819215459218, 12901.662295357542, 2280.1876638597532, 2209.7179551071326, 3795.9854627588147, 6128.92335670578, 4427.197873791555, 1228.1433673956237, 3514.7690982652985, 2395.297619349885, 1971.6290547570247, 4399.706122595833, 4191.248752044602, 2465.95896574205, 8310.70315578922, 2684.7560591098686, 6508.622960930284, 2537.4805578899227, 8205.855814817907, 1925.8752662495629, 2212.723536118715, 4048.74347397785, 3445.176602618254, 4348.888530424085, 2237.9925371488193, 2605.718907891881, 3674.3169153713466, 2366.6244726607038, 2947.0242884703416, 3138.1646639249752, 2723.4331989683596, 2596.5486305384175, 2728.6655820220976, 2498.3881947646064, 1181.021089174723, 701.8694962184403, 669.0067310387636, 681.3951154121985, 493.5744808477974, 483.46548826454006, 304.24972669561777, 261.50394156963694, 257.9622467774173, 657.3152672635924, 218.33372128023524, 212.23346184771577, 193.78285943462328, 189.9477841017803, 186.24766574515021, 181.54130076439384, 178.55458263547007, 173.9315717040754, 207.8069875313526, 168.4792725228613, 162.65006206013322, 162.7458581113673, 158.90490993089762, 156.27820572719327, 146.61208204713932, 144.30046642048393, 140.5734098021698, 138.74818475164517, 136.7263022327325, 134.67930618427795, 415.7135588568669, 308.1549513596533, 203.16464836688166, 297.899456071795, 306.55136053429413, 256.4795804520695, 3263.218301048951, 299.5592494633317, 688.3097661446631, 2288.379729566784, 367.2741717749278, 454.164472787523, 278.5868970234183, 1083.6085438948107, 974.3109209986417, 2921.6626484715466, 916.1279503585947, 1393.044619832727, 1106.647480613248, 6169.5256384410595, 3913.0439368368316, 3885.965626405776, 716.3085925836035, 3046.1649059866772, 7456.912907720125, 2149.3599607045267, 988.8273649851249, 1189.0678864681051, 5019.574099109557, 724.3818142826701, 2497.3192380130017, 2083.7172712430215, 2854.8470124161995, 5962.481831579236, 1058.5949189102923, 1933.760267182353, 3753.128091642949, 2177.5563007462883, 3873.219993698519, 2346.3018527773525, 2315.354080827253, 1855.9205642481338, 1765.7881055870337, 2369.070369553291, 3104.1491439990377, 2233.411066325054, 2188.601287322446, 1435.6280475891526, 1439.9502877889813, 1874.2067027650867, 1546.6551342761668, 1761.3988427025788, 1534.796943250132, 1666.7706276023116, 1579.74354083013, 787.463947272761, 563.5811076796508, 472.665394518619, 379.04306034066883, 298.65178246915764, 288.4428642478285, 288.08340660229675, 275.32867141175973, 268.7742189857254, 246.12977688986757, 241.26917566513146, 234.15013139364913, 219.30865401570594, 217.01685985472594, 210.436786932085, 197.19950927685917, 180.83697737400428, 150.00116327573397, 148.20293561588858, 146.29835545861465, 142.36901042075755, 139.83722477765244, 138.68812677793105, 134.01857258726767, 129.40407020397936, 127.46177242826322, 121.72767338527346, 113.69796013434626, 1883.3837118504737, 1272.1898656462417, 2755.046713488395, 197.8448164762915, 1633.988776645352, 1650.3096533790588, 605.5251428619586, 3596.8392243099684, 572.8627818398627, 2067.8238306914463, 1484.592794421308, 1401.047987784437, 718.8910257388576, 1160.1138296629415, 8953.572553414466, 1212.650744376119, 868.0737631616681, 2041.6714297722629, 5808.8134063779935, 2349.3181104017863, 923.2295222002218, 3370.502511608968, 3503.482560424171, 3489.618176899815, 916.8709053350444, 3306.567346960448, 4129.590482848693, 3363.2343175058227, 4698.9118179061425, 2092.941942460215, 1407.8007706449966, 1997.9736152490786, 4144.363515345295, 2441.7526826860153, 3361.6671320696464, 3514.3613961413917, 1735.5653722895286, 1852.3405404337968, 1983.0055567087004, 1677.035837166556, 2137.9482780782096, 1833.1233160391205, 2045.734261233174, 1784.603104816882, 1730.3263669108621, 1693.5314631616234, 1636.2742947685922, 1579.8945546081154, 6172.108260860819, 8913.428962820713, 599.1730365948839, 552.3830045993609, 511.17913811850906, 401.16163269518023, 396.84198986375173, 379.53442990227063, 17064.68429907634, 337.5959922568833, 336.24273099225906, 316.47477356384695, 312.882179116944, 293.2723025149348, 275.4458093826339, 249.52341355496952, 249.13068053339353, 245.05402560056058, 243.0361234718386, 241.21863162693683, 226.31830667013574, 221.8006803202192, 216.94637345057978, 206.7571501074521, 203.71714650827286, 182.59230267686402, 182.49073609213673, 174.8462350690957, 1424.9371980648332, 929.9176660310719, 355.41265450664537, 755.0911537901653, 5236.786969437039, 1381.6851176826867, 4721.104150071199, 1766.2040212920429, 793.9820484845475, 478.49579690899475, 484.51760312574976, 1379.7364947644273, 15961.975531048382, 764.2767309664624, 1444.7865781085884, 1724.7733072179342, 1018.9747047425657, 3226.6455103025455, 2245.0267228384664, 913.3154941290786, 12627.079074502344, 3407.114964530936, 6978.325794359337, 4095.1810236166257, 1873.9370775142975, 2345.8096282969, 7247.997605326258, 5559.235825102161, 5519.567642903476, 4294.05082396412, 1524.273338910466, 5755.418418609493, 1429.2532645190918, 2427.686479077348, 1718.4348991731335, 3615.6952237725404, 3109.349098749683, 1953.6269592138271, 1736.3440207796768, 1620.3761711048742, 3597.686673141804, 3082.395817513144, 2821.8889451392415, 2610.4573344684422, 2571.0075740101393, 2008.6477361347154, 1867.8135669760952, 1794.4018620636652, 1681.2990572076665, 1596.9059398089182, 1540.4301133248812, 1019.5717569475962, 930.125347181998, 893.4154211928513, 839.1212948461003, 826.2554889306463, 803.1803965779967, 763.3265647729862, 700.3001892086422, 644.8007548222616, 606.9101216085976, 585.9743551257485, 550.81133156335, 530.2222012747097, 528.6840224028239, 1068.7611208571086, 500.8109552135855, 471.1587461555704, 396.8790863217967, 395.40669788004294, 3985.0150728699823, 515.2521497552076, 7327.022737428513, 5209.845277020817, 1208.2366224641496, 786.775062390595, 2359.2817028770664, 675.6969102989445, 2013.7499739048133, 1931.0920186572498, 2015.0088975622689, 4432.226568806193, 7726.803880025172, 2985.8159988206226, 1365.172889928803, 8809.531966043052, 3432.4327229891924, 3157.2120180256484, 6269.732052540415, 2435.8629677654067, 2614.612919458763, 1492.3111282412701, 3373.811034176586, 2323.4974217780905, 2203.480755990538, 3098.240946928643, 2806.1127362892016, 2720.6007132900927, 2172.9358142545843, 2327.2349657345535, 2302.5301192500087, 1384.5035585328505, 609.1860431040868, 550.6422143969875, 539.1629481692984, 535.6274821277424, 458.8113798381002, 420.9811190649203, 326.13966101462177, 299.2073413496462, 499.99591346055854, 282.81501178448406, 250.66860624130632, 249.6744389306353, 229.0634450234128, 236.43870219400475, 201.9702369084042, 176.10282237151384, 173.47194338008293, 167.2607352498642, 167.0158334418346, 161.85971618585992, 155.95650368885293, 152.9249442644911, 152.8257894754843, 152.39078266516972, 144.2959429094866, 585.5540201897458, 140.21816733794492, 139.73855930939348, 595.1566857436247, 771.9601275103382, 513.0196780325928, 493.919159482211, 234.4906092182576, 4122.929920871967, 538.4983353024757, 1582.192623064974, 209.65134454572967, 6484.57386847993, 13653.446532621234, 1325.744651937896, 13999.078759498869, 1801.5869399557084, 7403.956351255111, 821.8531856638283, 10221.036926760795, 985.1875520525001, 2560.856740291214, 1509.5077100522146, 2985.432973340397, 1222.6701711138098, 7184.986258613953, 3110.595346243462, 935.0224374265896, 1715.219453495583, 1745.7088131407886, 1395.3032655884288, 2649.0100024324074, 1308.493952274058, 3677.4774284328855, 3356.190358037272, 4629.225156875479, 3396.814775695625, 2625.609110043935, 1847.233563280919, 2678.9122396214893, 3148.004756741772, 2834.057960096976, 2512.761938441559, 1909.957996568658, 2254.701856857203, 1763.8228557400505, 1715.725214213061, 3286.143686098914, 1448.0745855791258, 1104.2151881937546, 1036.6996349660283, 1026.5669939383629, 804.0313119811483, 731.8271176534661, 723.9032670923116, 653.9431374333528, 742.5537875193376, 535.1188610860548, 495.84388908710133, 481.56804105695466, 494.3837200940715, 413.4668574390281, 392.90900667436904, 350.62169385280816, 343.5134781972465, 330.47193905835854, 312.6612145708219, 311.8570769635508, 310.0819788610445, 254.01537734681682, 245.90880011965078, 231.2574408367272, 215.55686864590083, 202.39861350909428, 195.8228148488293, 192.85384572631813, 192.49027422190812, 5748.8474739426165, 960.0194083575878, 472.557929223561, 302.84034871815857, 3114.953003210471, 2695.2581552237066, 1285.961559918243, 2365.983616487094, 1059.4206586541015, 4039.6085149533824, 18976.79233084667, 852.1763376641998, 541.1163380569438, 2824.6226893562766, 4164.648987126697, 1203.7077748116155, 1066.9971667351265, 3026.360250452693, 3377.498470952756, 1509.9177458452466, 3864.225534346743, 991.0469315614273, 1440.7784232509873, 3123.635790996239, 1200.4086805531815, 1517.243705603896, 977.0008948058454, 1551.3008835889098, 1989.9234590184785, 1538.2656538585738, 1501.6321459385726, 2227.3032417515524, 1607.8592204199454, 1288.2431836654025, 1225.7543757869043, 1113.356646775805, 1143.0939646479958, 1151.6193387716905, 1916.4876859462024, 1571.1595475119138, 2012.7186078286911, 287.47026764020416, 285.8589004873349, 281.1403382359094, 259.0338754827397, 237.76606910475266, 445.5370725968901, 224.9510492681707, 236.20734670124205, 214.44775616088958, 207.4775551262166, 204.89791476770546, 183.15898926069232, 172.59720778490595, 165.5928343955705, 157.96846123991605, 149.78967237711865, 148.90228844443288, 148.26269982601906, 135.89117730510822, 132.4289447973715, 131.75933039177175, 131.20968234092697, 130.9789379302936, 130.22362531562342, 126.18358927791076, 117.37392999629154, 116.50100913507524, 7852.59581296583, 3672.7800529806095, 211.43599170104346, 1585.492861604883, 182.57171086735346, 580.8197927535082, 647.9607349717486, 195.5406681894826, 1200.9899971604755, 2702.2719676114134, 1195.5052635676866, 715.577962003756, 2937.148672012544, 548.4404424037785, 751.5487925481666, 5613.046945494438, 272.1222421928264, 246.22617795324007, 4192.073490163372, 1953.6325525149584, 1931.6677663242574, 3784.5517593928657, 321.0480677974202, 1198.0511113663622, 3569.0870495410727, 1610.7396614434792, 6242.594422548495, 1884.7951465612468, 1903.222737281723, 918.0475746843323, 613.6370347064797, 1647.5540606157278, 4013.057592397292, 3874.7293228897624, 1689.78219294464, 2275.6234192462816, 1817.527402825386, 1650.241458176877, 1455.1521728104497, 2159.9118848408407, 1749.411322926685, 1735.545750588748, 1724.4255192604971, 1461.1805667422136, 4422.26211928383, 2334.119787899958, 2174.2935938985834, 1350.9213485253415, 1121.0277415574942, 1035.8318916839805, 940.5246347942771, 902.861319908014, 699.8043068544033, 701.7211906643801, 693.206586701666, 671.906260824961, 658.9899968217517, 551.8239898428362, 513.4052329713165, 490.20748965550933, 612.7285546428452, 323.33730253174434, 294.4653247066445, 271.3576073718363, 268.78164982580216, 233.23759061265048, 230.57862484221067, 2959.879305550272, 216.9515959491298, 206.4952063914779, 181.33623686740847, 168.83021322356737, 152.96563332107263, 144.45216555952265, 1108.125198281282, 288.5371076672848, 2246.152751324622, 1154.2665072670375, 12988.219735445748, 5451.273685594698, 7808.000448640112, 1205.0577561731939, 2689.370883868329, 1443.7195046771456, 3877.2635710161744, 1496.5676358991861, 643.6281234128627, 4128.9612040023985, 4379.3158124944575, 1355.6807164807847, 1708.67905708326, 1144.6426757634838, 1474.6493155169644, 2374.107811951225, 1007.5263724084798, 1360.454553237793, 1879.531594998115, 1596.4768713677136, 1230.8958281460345, 1125.611437368129, 1203.978258211648, 3809.7504140018827, 3258.7550822491203, 2822.846766800664, 2837.0954377014405, 1721.9370830934454, 1716.7421416464892, 1439.1038888709793, 1084.9580494158465, 1083.3850619836169, 900.5204604940217, 610.611455729527, 562.3762957258517, 527.5273007108358, 510.0224587144951, 550.3809005269511, 408.69505584555736, 403.71198968950887, 1079.1111981869294, 346.46786096742443, 317.3317676582614, 314.78042768490087, 301.8129665370705, 263.65502859471485, 251.3937608039191, 241.90502443778237, 232.17326252124658, 311.12774831046147, 227.211831365901, 225.571158332405, 213.27394781684674, 2173.1124627194567, 6074.19207893363, 928.5710115522822, 352.19737881013805, 993.1447923068969, 733.0452800057705, 4082.5028277438064, 4849.030912309475, 3419.366825897642, 2041.759761104919, 2535.51472111714, 851.4397086580552, 864.5303659473834, 2267.767540017449, 681.6832964131722, 5312.9167150080375, 5736.036849782422, 3080.5768029046526, 2225.2936829874143, 2035.1571068919466, 1332.8851925455895, 1240.2343633680941, 2892.991872671194, 1372.9180029219904, 1234.717126691353, 1562.3384756012294, 1280.1899018812703, 1626.4444050913262, 1260.751210933852, 1284.722283149576, 1744.5122160470944, 1091.2098022735875, 712.4121617841001, 675.0301757766632, 601.8171404114048, 503.28917171881864, 436.0201911502863, 432.3271009147687, 412.737955230258, 350.9125268102274, 285.35395920315005, 264.0357758798367, 255.4932949864682, 457.4495968178757, 245.43036253874857, 214.75720735060386, 209.30222591613764, 173.5186279184573, 172.05531227533098, 171.10366559311902, 156.3720234754219, 165.15864831854415, 154.32737884386677, 149.25016960602903, 149.4409801524338, 160.01536209085302, 135.63979800631367, 132.6828807653645, 127.75422808686405, 123.57757200307272, 1077.2117701505142, 416.0380994315486, 928.1769988536013, 507.3233025123312, 618.8777068817648, 847.5257268233952, 4825.781825335107, 4596.652204252898, 485.4102805485144, 425.43227681677337, 4769.77998648888, 5820.368758147579, 2636.4628727511213, 2331.9344526246978, 546.985429076282, 1159.9581415315986, 1270.658711569437, 1655.6072977108981, 1067.849616004887, 1876.6569822111264, 817.4423154274854, 3052.563810352275, 3017.1016690616407, 2220.9630937760776, 3666.183635400778, 600.5417223724317, 1125.8891336511124, 1638.9884632571834, 4557.997122748644, 1681.2047727438664, 4763.908024507465, 1031.1579230036198, 2144.408829888969, 2904.0961561993354, 2365.6355587227868, 2927.3594691198587, 1885.3454202193057, 1269.2641166911826, 1505.1580735059827, 1253.520356641109, 1520.2610768498553, 1282.1333495728586, 1360.8975728380751, 1310.8018078877328, 1324.6124369702686, 18528.426390691708, 2496.4551751373265, 1787.6771952180325, 1557.4218893689047, 1492.4481872979184, 1439.7546772015432, 1325.318288412913, 1127.7486602414888, 1460.96834377855, 783.4120309597307, 763.4093099188138, 758.8531458416654, 720.2275245736178, 700.3249358778306, 699.8854587439296, 683.7218899027263, 598.882702690357, 577.1201895992562, 407.95853546813163, 334.0888915402741, 332.02208583204873, 325.81027083669227, 302.3296527001165, 288.65013200547935, 274.36686080007956, 273.6466926388389, 269.9096774277266, 258.650081099528, 255.79572347981923, 250.5873899625692, 1350.8104644515179, 371.2927657535406, 16566.632179370892, 512.689638601571, 344.4412116438192, 4948.272922937895, 830.7099977553146, 1429.9811006460868, 581.4675789316151, 1526.961696780626, 1066.5245191892855, 711.9948535223689, 5276.978123344222, 4126.433484979255, 1800.0718420365563, 1399.7096113909852, 1075.9722121050577, 1927.105711231726, 2592.861331700368, 3423.784576098298, 1452.4696478809356, 2281.618541526208, 1734.0156119842811, 1306.5530013301316, 1165.608173973957, 1144.3239663580882, 1050.4114575586461, 4001.5962983099157, 3412.9249125874358, 3083.7206205995676, 1933.7346709299445, 878.5900455523581, 666.1277048377524, 647.8626585176977, 590.5719587004348, 556.382878658436, 566.451462296284, 524.2327685697029, 513.8999500625633, 495.9468726629633, 425.09643367453833, 421.4650754188828, 359.30242090983074, 358.421391718365, 328.1380623089515, 301.5641038065022, 273.1728891250402, 263.3560593369467, 313.9938145347344, 249.6211370042932, 247.87132143281195, 1197.7853988724735, 225.70192568207818, 217.33383818252543, 211.8612967120031, 194.59242664130736, 191.78809042273303, 1326.710351449578, 751.5827110573778, 592.2736228258071, 1285.7185835393798, 522.296549305615, 4623.6163772025275, 562.8863586794283, 831.8510889451597, 1524.359542226472, 4069.6943919442724, 962.8966989054777, 2816.6050010073454, 2202.878502725561, 1749.3581643491943, 2134.64749126363, 1834.94625632206, 1729.1142076350814, 1680.7807614004641, 753.7223201845129, 1726.0448913726639, 3011.4385343832296, 851.4261685599325, 1701.3798193933749, 1586.6747110945912, 1296.0652666575925, 1273.584564776722, 896.006148013895, 1199.407471571533, 981.20886571399, 1014.1217390733684, 3184.140185018641, 3104.622360544307, 920.9518030452311, 620.7487410062781, 595.6636895462731, 568.0393600894321, 561.4618427982422, 355.40957119681576, 294.68937767685816, 359.2227998797665, 275.8252644599337, 253.56095189286802, 247.16396496711408, 221.19998519003127, 209.00223517831304, 186.98187722857395, 171.01772084218294, 170.87576062767178, 166.75467114152647, 157.2030159495033, 150.6638278657611, 566.8360842858153, 144.57981285197837, 140.33595991364146, 126.15251220459672, 124.87571411476803, 123.28297848493143, 118.54805027005698, 113.85480496411964, 113.5928818458022, 4851.195951573208, 3026.1226454159178, 6045.889124910616, 2931.372540345993, 574.72445493529, 4336.202112668015, 427.1811221937917, 2076.6303066753867, 7519.707535488288, 1204.8051597000456, 4164.8525494867845, 2152.2340552418395, 778.7675700194609, 432.54935538698555, 3572.2002305212604, 947.0422970284029, 1208.1169846546184, 565.2616893375891, 1914.0754235580198, 778.4265802333741, 6736.672774688966, 569.5556370812794, 4042.6325995119446, 4041.708242602211, 1016.2395089995985, 754.3862894573239, 1660.559525147728, 968.0544172050946, 815.2961481177947, 1146.667985060133, 782.0880355791408, 907.0529196269936, 995.8341744723602, 1624.4807929380013, 1291.748963134968, 1278.4932959719072, 1275.1477219852109, 1128.29317746715, 1188.9653580555012, 1031.7447203240806, 879.7924571434556, 808.2796281147874, 791.1776650735146, 751.6876610783959, 726.6522381527997, 696.2987079120313, 619.354522182435, 579.5196724075603, 570.3945487308179, 529.0233028378847, 396.2191321784728, 376.3951144623885, 343.55998431168064, 299.42256826068126, 284.2749045267442, 1101.5465102100186, 267.6153883937621, 1473.6461458916983, 244.5737958339563, 237.3822585026872, 217.2686166604732, 214.6944972337163, 221.28188567532968, 384.03439041372485, 1336.5727378120835, 542.3881814090041, 1140.293238608896, 9727.468955678618, 823.8565765164602, 607.5589146338574, 381.8493463958268, 1086.0011856993679, 727.4426265796588, 5479.050975856272, 2875.9996063188128, 522.0661861498041, 688.0968901834926, 4851.461568523234, 4041.853992127592, 1289.507432805522, 1991.1692583439083, 1795.246105606894, 1022.9276139978313, 1345.1137073545638, 1155.9530473290108, 1122.3904878715332, 1056.2329016132712, 1130.1982836470736, 936.9913130307666, 1016.9737920181404, 920.273558226502, 1984.9307661829437, 821.507473025473, 488.6987788351853, 435.6355412650973, 366.1882114767169, 353.61653714617324, 318.6372686798267, 286.51352976448146, 263.6246677949833, 253.92511688140092, 227.74386105189257, 214.0146771961115, 210.41880906508257, 208.00390731709666, 197.25962902801405, 194.89760868298032, 191.9795414187263, 191.18833290044273, 185.8685603211794, 182.0389373492747, 181.6440094662421, 172.58941458889413, 166.13670873237112, 148.83347005364834, 147.91319452148113, 144.75403314924677, 144.08616964978845, 141.4530834648185, 135.5926050161065, 129.21571313829457, 1606.402671566185, 7248.31774959788, 599.4824691854716, 285.64747303072556, 242.92019801956747, 262.69132862238104, 5533.711926439463, 1095.5326003854548, 380.6818314261261, 4583.678062242019, 933.3775358768755, 769.6913305040141, 2561.6020296113775, 430.3285507466866, 1014.6597783202097, 326.10973330270014, 1494.0382722533893, 1179.3367292033724, 1608.9718234808693, 1028.5897913050946, 4069.9482341990524, 1485.3112485135484, 623.3787710643145, 1192.0881235870359, 849.0490108042662, 1056.59563540796, 1000.2812338853556, 1089.1141048710952, 626.8531385725108, 847.1357615849984, 1051.0348392631981, 1112.5696304919293, 799.084050527815, 912.6792236172458, 757.0594106026977, 889.7696992944144, 703.0317087918522, 1712.9425218289368, 9464.848400205961, 1136.9493434747058, 1081.240667917705, 965.3954499984077, 877.1341773877865, 850.7985488693736, 818.6128249168879, 507.89516227777625, 490.681959214688, 439.6298850277008, 386.1763866197246, 361.06076474678713, 360.07783680796825, 353.19203035911073, 350.9716744543708, 338.3891184883081, 320.4122509942437, 324.0621731097255, 313.1609586983566, 304.76418987542263, 302.9966535008935, 298.25076233649276, 284.4504452604021, 280.1966397487168, 278.6000711136311, 271.6065939334731, 265.36069520897263, 252.11602845848427, 239.3683620561852, 269.2051276325815, 405.95726437444, 1824.2090183987002, 488.2088126311462, 306.5319086400332, 948.2842394515844, 784.9323375156293, 5093.926726868821, 1523.3678476464504, 748.630009668368, 870.268596364765, 993.0216786631271, 898.2336477523464, 861.5645007052901, 562.9502642175265, 1154.6321400537495, 511.06270213690374, 760.0081061728919, 645.1765757265987, 1198.1373392164944, 1013.1970513201995, 546.4902586756767, 823.1626536635843, 637.1420440869358, 590.2863111716366, 530.8832458269803, 4350.58912492459, 1084.9431256324315, 737.7115786407089, 565.6290483044322, 572.7973304477953, 493.90145393763464, 463.0312642952014, 432.91982734064754, 428.0496174368096, 386.0502311340708, 365.7651548689752, 341.5068187316067, 317.7657009023992, 316.8134612142323, 312.0721426845549, 306.3074800067317, 282.66684446087766, 282.41692794416883, 278.1376373697892, 249.2074677425429, 237.1092860783801, 227.73246942614693, 226.72046834357258, 333.7057375290934, 253.1272037066101, 215.99033370779765, 205.0659751902649, 194.32610523058696, 194.1649128436309, 181.63959904772304, 313.17936719866, 750.4924665105058, 1462.6097956169144, 623.2467679803021, 1177.1437644228977, 921.215294325897, 3049.477806889693, 482.35796089089547, 650.9607425874145, 4326.972169202824, 1492.275009760756, 2205.978765529069, 596.469141268134, 503.5483651208129, 1910.3333165523275, 757.1817116662986, 949.234057117447, 1180.765175128634, 2452.560323281696, 914.6871886414951, 1057.191282277526, 775.0223536418762, 652.0490060058576, 537.7295189497679, 630.7450437644942, 538.189425184682, 1473.0133300953685, 717.6766644565354, 526.1844779289295, 11647.47334227106, 274.5041252270526, 241.24830973780172, 214.4452024482791, 220.378107686506, 308.58499282495495, 221.25534289677051, 193.09293083716437, 174.20195218618503, 169.92959004790524, 166.4632255421267, 164.51431451918023, 162.65732204549573, 158.85313669953254, 141.94801849640547, 136.74745294824666, 135.47164941895952, 134.4477530417628, 131.33259026592424, 137.45398631191966, 126.47991731945298, 126.43277691493068, 122.12625525867936, 118.33239238741841, 116.14369454700943, 112.9609395744802, 109.44585639231649, 695.5899334129182, 356.66399367776, 380.3375161721423, 1498.6457779280636, 1692.1062235064444, 613.0882479791651, 678.0990545694548, 662.2211042061853, 559.9484553908852, 706.4780502172199, 1501.169127739196, 442.99612590595115, 721.7618857506548, 366.2669905448562, 682.1647991197837, 415.3319012267922, 587.7319653236208, 2150.242430752999, 414.0658895956908, 787.420740582592, 754.3660588467263, 1536.1132924473143, 832.957202977844, 873.3017473656204, 1004.4804207838289, 429.09786746847794, 531.2861317126111, 498.4801546961373, 1499.6606836518097, 2417.6705579400186, 855.1994007682532, 650.477229606977, 629.7951488474508, 619.8806504130441, 444.57809828797724, 435.8843282248, 402.98167179345705, 392.9413439238634, 499.6485394843422, 374.9812519065601, 387.4870462070417, 342.1610605917675, 330.26395757057037, 329.5374737112203, 328.50419664755555, 320.73890961177534, 304.6710546610919, 295.1974962671258, 294.47384356395867, 280.5250145690975, 280.27177960988627, 610.9583853348151, 262.97275920660445, 264.5793731903258, 259.334011936885, 250.08150105994952, 250.17311236299915, 246.2771348385559, 550.8793398461073, 2272.967335604092, 1208.9579113377877, 1523.0024995022375, 649.8140204202532, 1407.398533945733, 463.9589928937681, 1599.021807583247, 439.56197532321096, 720.3776359102222, 1054.2107753291587, 678.8787579297541, 855.2220589519427, 422.4620608437579, 386.8752777954966, 670.5421287304775, 503.3210678932988, 406.2626441447177, 434.2212577886844], \"Total\": [18529.0, 28794.0, 18626.0, 11668.0, 17755.0, 17110.0, 20046.0, 23469.0, 9470.0, 10512.0, 21153.0, 16898.0, 13474.0, 17907.0, 18813.0, 10281.0, 7478.0, 15991.0, 7878.0, 19894.0, 9897.0, 13356.0, 16873.0, 8050.0, 8923.0, 13987.0, 7386.0, 7233.0, 9045.0, 8406.0, 485.4879043345371, 408.859874140018, 366.9363194181499, 213.8711263194828, 206.37448244657168, 189.80535855239125, 162.9992292073213, 158.7651018443597, 258.1093782938539, 185.31466625977095, 152.46643771239448, 152.21598575016202, 1040.2982454059709, 130.7580192732502, 126.82475656977718, 124.80561935135923, 120.36714619858378, 119.54328399001238, 118.05249943630686, 337.1697293019284, 111.42089393088695, 110.55729674858615, 108.40178646560362, 106.37097431554955, 101.88531765466178, 101.83227150245035, 232.24892174398516, 98.35050242449374, 98.1670384323622, 93.14575451751233, 1594.7285713261062, 533.1271875967603, 414.3011697036057, 1562.2165620510718, 824.4225306534606, 557.269086715051, 248.2667445839763, 876.7010704459792, 228.8964540379667, 1156.0123242268119, 897.9000461203709, 663.1252963717573, 422.08982017776077, 12642.687315422352, 966.9168316220212, 978.987466895019, 882.3498536000973, 337.8261436825874, 19449.82172348682, 1779.3147580109148, 3989.2875277110643, 1626.112069375301, 686.8168255349668, 17295.219164891972, 3890.9784578425933, 13950.581508372905, 25931.937277528537, 3396.3522988610903, 3362.4644597186593, 6512.486387564168, 11721.02888289575, 8117.326561030221, 1658.5914043502555, 6317.416340439305, 3866.1123150279363, 3123.9058427538157, 8869.594988889363, 8378.113991686512, 4274.846558299318, 23130.859737130326, 4856.1760969916095, 17392.596142824525, 4702.5584435236915, 27709.035477368492, 3241.788279511507, 4141.427496418175, 12442.436494556798, 9768.040765790838, 15940.466235685853, 4359.423813098434, 6040.027414883979, 15497.237364006907, 5180.25077765366, 9574.347451569776, 13154.788384394587, 10370.09639010719, 10185.3920849288, 24576.548617862707, 23376.68810177142, 1181.9410210026128, 702.7893578167439, 669.9265871942125, 682.439231413617, 494.4943389850771, 484.3853452166672, 305.16958976428435, 262.423799282685, 258.8821084913685, 659.8052269794742, 219.2535774557844, 213.15342757888706, 194.7027155051066, 190.86764021689947, 187.16752228639157, 182.46117079410362, 179.47443899828886, 174.8514335767996, 208.92798688509012, 169.399128583191, 163.5699882414459, 163.6710567051474, 159.82749214917544, 157.22196394509422, 147.5319381388576, 145.2203224949371, 141.49485457460662, 139.66929542621122, 137.64615832724732, 135.5991622716691, 420.5733298941694, 311.22654031015907, 205.17272185220324, 302.1427777174894, 311.34514400744126, 260.505298293802, 3545.449810649345, 305.9401449872995, 724.2431196265677, 2546.8113993302513, 381.46221172401056, 479.1038893921383, 286.874077637477, 1259.6475547026773, 1126.6817070963007, 4011.899248749686, 1102.2645304255732, 1811.14955683821, 1427.5481786758035, 10370.09639010719, 6302.2121165227945, 6418.8146950822575, 882.7703729154649, 5190.836984104509, 15940.466235685853, 3549.78882866898, 1359.8632201553899, 1761.6510339576166, 13154.788384394587, 990.5324707130825, 5407.150400776852, 4220.824812538462, 6847.378579762363, 23130.859737130326, 1705.4892878751841, 5065.968614675182, 19449.82172348682, 7037.482422390471, 23376.68810177142, 9574.347451569776, 9768.040765790838, 6040.027414883979, 5579.370376605345, 11721.02888289575, 25931.937277528537, 13108.640328036166, 17295.219164891972, 3888.336006725143, 3950.1281629198593, 21153.55968782668, 6458.681618366059, 27709.035477368492, 7259.089876740649, 1667.691568316679, 1580.664798957972, 788.3850405986649, 564.5020410400201, 473.5873107415054, 379.9641433055753, 299.57273985054593, 289.36456326575814, 289.0044105856456, 276.24963178786834, 269.6951526443514, 247.0577882545326, 242.1901089685209, 235.07106520314588, 220.22959294855042, 217.93784668541485, 211.35773225236792, 198.120468287354, 181.75791068373468, 150.92287236391246, 149.1238693568598, 147.21928874105973, 143.28995825337628, 140.75815862929105, 139.6090628167689, 134.93950591018145, 130.3250097306416, 128.40177149464014, 122.64860873016417, 114.61890715830049, 1907.9459715522587, 1363.764299856754, 3308.713352848829, 204.26923917020457, 1935.4475797177975, 1964.2861227392348, 677.6706617652808, 4757.123662005985, 649.377431262222, 2914.1061604677056, 2047.411586073563, 1935.541048647589, 908.4930776639907, 1611.1553951928474, 18808.17362229493, 1798.3606551666671, 1193.28886518114, 3506.6383382665254, 13987.087670853547, 4400.842629299917, 1333.4322271085239, 7839.150230890177, 9045.618134413271, 9073.158388439368, 1433.762162975438, 10185.3920849288, 15497.237364006907, 12442.436494556798, 23376.68810177142, 6374.56894363753, 3101.9896357402035, 6431.135377132179, 27709.035477368492, 9842.72677188452, 24576.548617862707, 28794.61248987538, 5567.757689460258, 7259.089876740649, 9768.040765790838, 5312.647262261857, 23513.781716913913, 9487.806442528059, 23130.859737130326, 10395.68039516113, 6680.572239394888, 5815.723409779199, 1637.1951736494404, 1580.823202828842, 6176.558199539723, 8923.568920926718, 600.1193087839714, 553.3039280331196, 512.1000435573488, 402.08308668696884, 397.76337473614706, 380.4559161785553, 17110.398000636753, 338.51687841297786, 337.1636093937862, 317.3956666257725, 313.8030617856221, 294.19318592900436, 276.36668780632476, 250.44429439846277, 250.05155866283098, 245.9749318918992, 243.95700913515617, 242.13951336812963, 227.2392103570939, 222.72155968912102, 217.86725158850797, 207.67803380217336, 204.638029980876, 183.51318084029455, 183.41164353495296, 175.76711372923225, 1451.4985863664706, 948.8540641604151, 361.25874224322126, 780.3665709923429, 5901.001661765468, 1496.2911368917548, 5496.413266726859, 1977.8592772334862, 864.5646250299417, 502.0150936921039, 511.8172338645415, 1605.749192290483, 23469.228782818343, 856.866283832483, 1742.6380092881764, 2159.165675971311, 1191.4761669694021, 4459.48402682903, 3026.5320884478188, 1068.140648808717, 23513.781716913913, 5423.511084790322, 13363.913508886943, 7201.093579803226, 2806.087095829281, 3739.47400965582, 16873.636679683237, 13108.640328036166, 13474.608714527605, 9842.72677188452, 2363.8367744081856, 20046.8873971182, 2388.5848085546922, 7554.282942131042, 3719.164519416237, 24576.548617862707, 23376.68810177142, 7069.065992006597, 8427.240218639283, 5567.757689460258, 3598.6082210848267, 3083.3173685263732, 2822.811146885202, 2611.385090849559, 2571.929117509549, 2009.5692792399607, 1868.7351137925436, 1795.3317824170595, 1682.2314559054862, 1597.8285479926915, 1541.4017717263469, 1020.4933056644068, 931.0468902560872, 894.3369643413607, 840.0428379385833, 827.1770336961206, 804.101939848964, 764.2481080008013, 701.224426397738, 645.7223051429273, 607.8316650322461, 586.8958982471482, 551.7328767106487, 531.1437462230061, 529.6056361011064, 1070.654311315006, 501.74924878296997, 472.0807841570303, 397.8006295426266, 396.328437735893, 4021.9420682219575, 516.7452828420887, 7930.812463338447, 5606.3413729433905, 1248.7549670531369, 804.9969263422162, 2593.4641698850037, 690.4366814078807, 2295.1841299534253, 2225.797189589335, 2337.0646173715777, 5740.2566142958585, 10975.42275557809, 3749.923335102278, 1647.6142386753334, 19894.483240914535, 5784.088712203412, 5815.723409779199, 15991.630621975697, 4119.7867781827845, 4740.580966299263, 1975.1739296000505, 13356.124144653802, 5627.575003666252, 6772.881325569684, 21153.55968782668, 18808.17362229493, 24576.548617862707, 12442.436494556798, 27709.035477368492, 2303.45162242306, 1385.4819685749246, 610.1264820955306, 551.562980197924, 540.0914431625422, 536.552562383489, 459.7320585861124, 422.039879183563, 327.0618332388931, 300.1280182472648, 501.5927064269956, 283.7356900533597, 251.58929281141536, 250.59513304807686, 229.9843228250366, 237.41134094699365, 202.89092412168637, 177.02349926761795, 174.39263069993063, 168.18141620994325, 167.93787608908568, 162.78039306977942, 156.8771806022644, 153.84564608926436, 153.74646634169886, 153.31146228180745, 145.21663472561173, 589.3630176941066, 141.1388443005469, 140.6592376276054, 603.3734084213463, 787.5982255747556, 522.7851606318413, 506.85317399269303, 237.26603929891135, 4539.092937410855, 558.9404159236861, 1703.253545322828, 213.20310415015285, 8275.998722945786, 18813.451942780022, 1539.3032073452137, 20046.8873971182, 2177.079176143737, 10518.477465367048, 951.3480928964497, 16898.95061516779, 1184.8362481930853, 3969.0352118275086, 2187.1662355838525, 5160.909347262702, 1707.0794317686784, 17907.09857250066, 6228.285030488531, 1230.7845292645482, 3104.5083784902445, 3367.697023701313, 2451.210140719717, 7201.093579803226, 2266.0962001407047, 12894.654880913373, 13108.640328036166, 24576.548617862707, 14414.214927911016, 9974.87998730545, 5638.193239289821, 16873.636679683237, 25931.937277528537, 21153.55968782668, 17392.596142824525, 7859.821629434571, 23513.781716913913, 7217.03802382052, 27709.035477368492, 3287.064513606117, 1449.0502299331552, 1105.1360164100822, 1037.6204622840314, 1027.4878214153425, 804.961795523318, 732.7480013323549, 724.8348474822169, 654.8639692924002, 743.6356442722466, 536.0396886889064, 496.76471650994097, 482.489861520189, 495.4016256179181, 414.3877378521133, 393.8304403222169, 351.5434973477609, 344.43430587081605, 331.3927741797382, 313.58403722738035, 312.7779246165424, 311.0028078264871, 254.9362047327139, 246.82962742295558, 232.21106467398886, 216.47773338173724, 203.31944117565234, 196.74364362810726, 193.77472040601796, 193.4111829898088, 5866.8824348230655, 971.2701209564717, 475.4923419180008, 304.7629369803225, 3268.825960597748, 2827.7274259019014, 1341.5092925817783, 2618.733781453973, 1144.84686399641, 4938.998327615114, 28794.61248987538, 954.360098803609, 576.753368409807, 4086.248843552857, 6566.241277653984, 1500.9005454794255, 1326.8793157373811, 4984.29565920511, 6407.206146672693, 2299.9973912341407, 9003.152703906613, 1327.2519737797888, 2400.5381060782593, 10395.68039516113, 2033.6059800044723, 3553.2757060267413, 1371.2177482810428, 4092.412972784419, 7658.85967011812, 4755.280840030931, 4702.5584435236915, 18808.17362229493, 24576.548617862707, 5165.24796534625, 4420.730588275281, 2625.211073371474, 10975.42275557809, 27709.035477368492, 1917.4083698619222, 1572.080407583188, 2013.9554945419436, 288.3909251723716, 286.77956291889234, 282.0610069740703, 259.96134659675664, 238.68673869102247, 447.3334910153507, 225.87171055079324, 237.1840532757236, 215.3684165217202, 208.39850034934125, 205.81857430387134, 184.0796470295394, 173.51786524996908, 166.51349183832366, 158.88911925893012, 150.71033984511854, 149.82294593608307, 149.18335738829285, 136.81183909661817, 133.34960684275083, 132.67998893771292, 132.13034090708794, 131.89959590881153, 131.14428304951815, 127.10424778654037, 118.29458778858151, 117.42168816382099, 8050.908266793097, 3885.0915087477274, 214.97451956425036, 1704.677915739075, 185.19016610963502, 610.9541805738577, 688.3685424181391, 200.04795177444305, 1334.3414664377337, 3175.775325488201, 1345.4595318274496, 793.8974510087154, 3639.9141243552826, 604.4814332869344, 855.6554771390936, 7822.520043067972, 287.0981450642969, 257.5373538820285, 6772.881325569684, 2793.7704906502277, 2886.3623523803376, 6483.383039652859, 350.7146170578256, 1797.5053210370836, 7217.959886687417, 2723.7801394333587, 15991.630621975697, 3670.8192575901426, 3864.540191288752, 1502.3144542462578, 861.3032153293047, 3720.616493172053, 13987.087670853547, 13356.124144653802, 3907.924209045254, 6583.787977423556, 4519.744465089879, 4241.868206370102, 3846.815670792321, 10281.099768759503, 7094.876192833881, 24576.548617862707, 27709.035477368492, 12442.436494556798, 4423.184395678408, 2335.0414105721643, 2175.21530357696, 1351.913403997803, 1121.949364224374, 1036.7535162600984, 941.446269204446, 903.7829425794113, 700.7259295421233, 702.6480635095711, 694.136459348059, 672.8281713015754, 659.9116292863433, 552.7456125169418, 514.3268667208364, 491.134300271811, 613.8982460787993, 324.2589259057968, 295.3878015274536, 272.28037802704046, 269.7033878286998, 234.15937816168716, 231.50115723884332, 2972.1104106430817, 217.87321900908572, 207.41682906047188, 182.2578716171615, 169.7518359298459, 153.88725636778918, 145.37387551938426, 1123.2431828621886, 291.35100607262234, 2444.6666057178727, 1263.2801636643226, 17755.377463392873, 7217.03802382052, 13474.608714527605, 1649.16413299487, 4519.744465089879, 2562.7017989386327, 10066.931783488999, 2763.0183931390643, 876.5086859366859, 14414.214927911016, 16873.636679683237, 2728.7021323732984, 4420.730588275281, 2138.5385317991727, 4238.819304651599, 16898.95061516779, 1888.9332874595714, 7069.065992006597, 23376.68810177142, 18808.17362229493, 7859.821629434571, 7554.282942131042, 25931.937277528537, 3810.677692292103, 3259.6784692266515, 2823.7702203008726, 2838.0275927626, 1722.8604722540294, 1717.6655360498385, 1440.0272757564671, 1085.8814372526072, 1084.3084535025546, 901.4438487679842, 611.5348440254566, 563.3033536303383, 528.4535180317483, 510.9461653765154, 551.4022326033545, 409.6184427090174, 404.6353773138363, 1081.7291379193384, 347.3912479512394, 318.2551548580059, 315.7038150744305, 302.73644089408754, 264.5784154500184, 252.31714786233886, 242.828412847887, 233.09664959804323, 312.3823659859105, 228.13647811489656, 226.49454535157435, 214.20305542638613, 2191.2911302446314, 6363.308083277528, 952.7464665669372, 356.1254119099, 1029.4340202194787, 753.0996967291371, 4603.2748913316, 5560.564598901344, 3871.591966621369, 2257.9258658298004, 2896.938350399378, 922.5439449214034, 939.5309405396913, 2858.8746305129152, 732.3697946729708, 8140.819906111457, 9897.248981975687, 4714.234777246487, 3585.758557274763, 3553.2757060267413, 1925.2959375393282, 1802.2433834440849, 9073.158388439368, 3180.5569084884355, 2881.974067135765, 8406.992787755204, 3776.283358634301, 18808.17362229493, 4086.248843552857, 7233.667569858636, 1745.4328008521913, 1092.12915479717, 713.3315154559475, 675.9535059320585, 602.7364927002237, 504.20852438122483, 436.9395460847544, 433.2469777661068, 413.79445438094257, 351.8319428722997, 286.27331153966225, 264.95512860653315, 256.41264781229614, 459.1561928422071, 246.34971532092476, 215.67656195410302, 210.22179925521803, 174.43799788287814, 172.97466989010115, 172.0230180532118, 157.29137579608349, 166.1332086262219, 155.24673826914034, 150.1695221313388, 150.36913378339355, 161.09008232201828, 136.5591506388063, 133.60223370583438, 128.67358145065333, 124.49692431225826, 1100.1822802685203, 422.2569308941481, 958.0406706933553, 523.81155641912, 648.3245916290444, 900.5756557453192, 5528.976718900093, 5274.574883252751, 512.0498891533593, 448.7557539709677, 5844.289449571349, 7407.914559624898, 3203.392826706934, 2818.3746842866713, 604.9462690451876, 1403.2703083663994, 1555.9947464189063, 2179.76892677099, 1367.3037068447702, 2728.0512685369936, 1015.8791597198505, 5876.1036001341245, 6407.206146672693, 4712.315984546877, 9974.87998730545, 709.5008874247945, 1892.4274670029022, 3405.910611056284, 17755.377463392873, 3907.924209045254, 23469.228782818343, 1744.7282669607903, 7658.85967011812, 14414.214927911016, 10066.931783488999, 17907.09857250066, 7822.520043067972, 3156.542668170565, 6228.285030488531, 3670.8192575901426, 21153.55968782668, 8427.240218639283, 18813.451942780022, 16898.95061516779, 23376.68810177142, 18529.34866940942, 2497.377462241231, 1788.6039866107408, 1558.3441680776998, 1493.371758401706, 1440.6772438300588, 1326.240567128485, 1128.6709389245723, 1462.2891333605194, 784.3343095701337, 764.331590184796, 759.7760925224057, 721.1498034498261, 701.2472143972769, 700.80774431489, 684.6441684336019, 599.8049890955417, 578.0424695860441, 408.88081398698, 335.0111700718633, 332.94436493285275, 326.73255009504044, 303.2519316111415, 289.5724107730658, 275.2907848019877, 274.568971355622, 270.83195611443784, 259.5724292086744, 256.7180019989303, 251.50966848414163, 1362.3093315424442, 375.3788325440184, 18626.228313499927, 524.5213537521381, 348.7852293782721, 5729.254975429005, 875.9588702019036, 1619.31729957877, 650.3280851110038, 2095.381521246061, 1363.6934340500372, 859.4750311120091, 13356.124144653802, 9897.248981975687, 3158.7846924632845, 2368.972352909283, 1623.607583725088, 4123.513756561692, 10281.099768759503, 17907.09857250066, 4319.201456449432, 13987.087670853547, 15991.630621975697, 7094.876192833881, 6228.285030488531, 7069.065992006597, 8406.992787755204, 4002.517670971013, 3413.8464189602037, 3084.6416901123957, 1934.6570697263717, 879.5111020054155, 667.0492719796208, 648.7840507949929, 591.4930195014404, 557.3049319351102, 567.4311207950135, 525.1538250077047, 514.8536966634977, 496.9876453631663, 426.01749012946755, 422.38613337774245, 360.223477408863, 359.3424488213098, 329.0591189262289, 302.4888104156721, 274.0940196781845, 264.27790258921425, 315.09774218354687, 250.5421955304565, 248.79237934595486, 1202.357753462751, 226.6229850812995, 218.25509801991686, 212.7825714840437, 195.51349127084595, 192.7091752212101, 1337.2216428274673, 760.009546370411, 603.9066436437238, 1335.1308159572059, 532.6437409222488, 5011.972157575003, 575.0133105192735, 865.425290431055, 1635.827258055566, 4553.914748457086, 1051.186403714255, 3504.8035232170737, 3011.7227276414624, 2310.4531196860976, 3026.1381483479204, 2545.7708656864315, 2437.287150701553, 2421.0779353280645, 873.2178930574117, 3180.5569084884355, 9974.87998730545, 1167.4278564399103, 7386.902052239998, 7407.914559624898, 5098.212884371722, 7094.876192833881, 3087.1285140652853, 17392.596142824525, 12894.654880913373, 25931.937277528537, 3185.06124689502, 3105.541402419045, 921.9094231276478, 621.6688458981424, 596.5825452418806, 568.9626343788402, 562.3904011563277, 356.32830369273887, 295.6080790734552, 360.3799744572247, 276.7439659342636, 254.47968512102358, 248.08266683600064, 222.11869266809407, 209.9209366934621, 187.9005786110955, 171.9364224391744, 171.79446204849836, 167.67337256431753, 158.12171756265292, 151.58252951192046, 570.4126639956811, 145.49851466687684, 141.2668267295388, 127.0712136614889, 125.79455056332455, 124.20167998433209, 119.46675172100555, 114.7735067227321, 114.51158329939264, 4897.471658227645, 3076.812448403888, 6254.213622242097, 3019.454138122422, 582.9661091666703, 4495.383405621846, 433.4841931405671, 2142.0557390740755, 7878.290239803128, 1239.9237411564945, 4429.038122052547, 2260.2158487988863, 804.379600772934, 444.8390290143898, 3997.5159712580958, 1054.1490398664562, 1416.9101241015921, 637.2229785446916, 2608.0937868043, 935.2301177935828, 21153.55968782668, 691.7302940338509, 17907.09857250066, 19894.483240914535, 2268.630145665534, 1236.4015972332031, 8760.468858978073, 2368.972352909283, 1695.883948810437, 6374.56894363753, 3565.854392880691, 10975.42275557809, 27709.035477368492, 1625.4077349125778, 1292.6725435198848, 1279.4147252240816, 1276.0691425804039, 1129.2145970777703, 1189.9606100864364, 1032.66614748262, 880.7138984750627, 809.2010471884064, 792.0990859577713, 752.6090939154877, 727.5736571270957, 697.220126823603, 620.2759410819918, 580.441092718015, 571.3159681426768, 529.9449212040241, 397.14055112476393, 377.3204114708271, 344.48140324588843, 300.3440139096571, 285.19632345276096, 1105.1934063935148, 268.5368073455065, 1479.1825983555323, 245.4952148056521, 238.3038191561323, 218.19003671886955, 215.6159176860491, 222.26143934016977, 386.63041235589156, 1376.6922158121497, 549.9547490850138, 1178.717533366824, 10512.233504673368, 854.0130780370056, 625.1001543271267, 390.4268449831613, 1224.4822805354047, 794.2586644547955, 8406.992787755204, 4130.15324969621, 605.615228560056, 935.015235262107, 28794.61248987538, 21153.55968782668, 3021.6458803798864, 8140.819906111457, 9003.152703906613, 3063.5039526135834, 7386.902052239998, 5165.24796534625, 5876.1036001341245, 6458.681618366059, 23376.68810177142, 6566.241277653984, 27709.035477368492, 24576.548617862707, 1985.9090916112063, 822.4291944101789, 489.6205002210056, 436.55726256637746, 367.10995326731756, 354.53840327398746, 319.55899133631874, 287.48598370565855, 264.54638930512914, 254.84684896218525, 228.6655824347386, 214.93639854324104, 211.34692292575858, 208.92562944757285, 198.18135097408967, 195.81933026087273, 192.9012748795914, 192.1100544475148, 186.79045626812004, 182.9606638307102, 182.5657363015801, 173.511190624324, 167.05941841017258, 149.75522493207117, 148.83491648443245, 145.6757544801569, 145.01735302319426, 142.37480476646212, 136.51433803636994, 130.13758301822472, 1626.976855660663, 7478.515986653866, 613.6999916787088, 290.68841255171407, 248.7235067307213, 273.17390748243486, 7233.667569858636, 1272.7887113766317, 417.0582501329846, 6783.134611076247, 1199.3037599624183, 968.329083358781, 3972.3274326797614, 502.8886711357411, 1411.879433605627, 362.94141858414025, 2303.5188261337544, 1733.5020279237983, 2562.486472420479, 1514.602174201613, 9045.618134413271, 2536.451410142801, 848.3543420308903, 2095.3606893947995, 1488.722095802307, 2356.830415618346, 2625.5762751377692, 3115.06971956515, 1166.7749038301329, 2185.5289022088896, 3694.3913548245773, 9073.158388439368, 5038.76086810129, 9842.72677188452, 4420.730588275281, 23469.228782818343, 23130.859737130326, 1713.8645006878714, 9470.62630159112, 1137.892811914956, 1082.1626234072528, 966.3173177430302, 878.0560438165072, 851.720737882874, 819.5346922770887, 508.82405734634216, 491.6039341501622, 440.553655983379, 387.0988843201155, 361.98264379196115, 360.999704817383, 354.1138975524006, 351.89354157636257, 339.31098605708934, 321.3380521872815, 325.00331860891833, 314.0828257539077, 305.6864086331924, 303.91852022962973, 299.1726301557896, 285.37231216599866, 281.11850860744835, 279.521942029118, 272.5319069710801, 266.2825770513372, 253.03789483862766, 240.29714271948782, 270.66140238970837, 412.3861413167944, 2186.188209609901, 529.0480602050673, 315.1448059203877, 1232.5667458475054, 999.4132041569422, 10281.099768759503, 3021.6458803798864, 1195.4023767460517, 1635.052818390326, 2138.5385317991727, 1862.0054156720232, 1859.611727698451, 907.041131812869, 4210.832625681501, 841.2377148432902, 2124.2333329497255, 1689.9696706345105, 16873.636679683237, 10518.477465367048, 1538.7950644505804, 23376.68810177142, 13363.913508886943, 5812.959927741123, 9167.041716754282, 4351.509760016016, 1085.8644220671317, 738.8228412746827, 566.5504021831223, 573.7315066474197, 494.83134411195294, 463.9518898825969, 433.8404498243649, 428.9702399045414, 386.97118600200594, 366.68610472868284, 342.4274418096089, 318.6863236361314, 317.7340836943889, 312.9927654079837, 307.2281025292223, 283.5874670233549, 283.34210498560145, 279.05825990698906, 250.12809027313253, 238.02995410732325, 228.65341926931268, 227.6411054743142, 335.09161742798716, 254.19093411479042, 216.91100115626958, 205.98659857218982, 195.2467281440454, 195.0855394318124, 182.56318728269662, 316.17902755663573, 787.699078893498, 1642.2492190919054, 672.3059951809532, 1341.9816915678598, 1033.0773437515275, 4078.251624630864, 534.3580163426228, 763.4632048269953, 7386.902052239998, 2139.035014814829, 3875.5600986742384, 732.4820574475418, 602.3014369597722, 5579.370376605345, 1422.2173962175152, 2269.024790469938, 3845.487087454938, 16898.95061516779, 2737.88173772428, 4047.023189196406, 2394.381121494524, 1636.2711050180283, 1785.8097818291496, 5885.982654887176, 7859.821629434571, 1473.9337141453052, 718.5972059687765, 527.1048604690529, 11668.855982180032, 275.42450743496346, 242.1686919005128, 215.36566670594215, 221.32952575400714, 309.925021136489, 222.30015244141953, 194.01331824288636, 175.1223343487668, 170.84997280033164, 167.384209100359, 165.43469697721542, 163.57770467733047, 159.77352277720962, 142.8691121302836, 137.66787512863596, 136.39204479052063, 135.38174251818924, 132.25297247960353, 138.4205623171084, 127.40032356778832, 127.35315907075739, 123.04664933440326, 119.25277459967126, 117.06407698145145, 113.88132217505944, 110.36623861863283, 703.0521971441341, 360.7559097083468, 387.96838667225313, 1565.6498530213391, 1862.7893710580615, 653.7666663325062, 728.3478319889053, 711.349762499282, 609.4038467116568, 782.9013041461214, 1839.6988568359786, 512.7632723627988, 957.8717870183514, 454.6947547386521, 1063.2805775540398, 561.4134977860253, 901.3010550915385, 5885.982654887176, 592.9708676062166, 1779.6521566881659, 1698.057199166256, 5948.495881338823, 5165.24796534625, 5876.1036001341245, 10395.68039516113, 1214.93855228341, 3368.1609221799754, 7859.821629434571, 1500.580984047616, 2419.464557138603, 856.1196988981403, 651.3975446358336, 630.7154476773756, 620.8017873065623, 445.49839754956554, 436.81617811565326, 403.9019698668951, 393.86164215737534, 500.833092977715, 375.90155031092013, 388.48304165616344, 343.09347828420096, 331.1842559530811, 330.4577749808523, 329.4249366233073, 321.65920856546035, 305.59142791368237, 296.11779434540875, 295.3941416849303, 281.44531261154896, 281.1920778837368, 613.0427748837478, 263.89305749116136, 265.5123682462498, 260.25431000810823, 251.00179991513008, 251.0938719992439, 247.1975966406589, 559.2972218318295, 2512.067543841653, 1354.363338429653, 1898.2861105952252, 734.2093780351142, 1797.7670611949923, 535.2159085153855, 3063.5039526135834, 595.859208367224, 1611.2402427144964, 3585.758557274763, 1663.4185129202137, 3694.3913548245773, 634.9198141582845, 575.2061981919794, 5738.2418281263, 3776.283358634301, 961.7872368212358, 2776.246012376376], \"Category\": [\"Default\", \"Default\", \"Default\", \"Default\", \"Default\", \"Default\", \"Default\", \"Default\", \"Default\", \"Default\", \"Default\", \"Default\", \"Default\", \"Default\", \"Default\", \"Default\", \"Default\", \"Default\", \"Default\", \"Default\", \"Default\", \"Default\", \"Default\", \"Default\", \"Default\", \"Default\", \"Default\", \"Default\", \"Default\", \"Default\", \"Topic1\", \"Topic1\", \"Topic1\", \"Topic1\", \"Topic1\", \"Topic1\", \"Topic1\", \"Topic1\", \"Topic1\", \"Topic1\", \"Topic1\", \"Topic1\", \"Topic1\", \"Topic1\", \"Topic1\", \"Topic1\", \"Topic1\", \"Topic1\", \"Topic1\", \"Topic1\", \"Topic1\", \"Topic1\", \"Topic1\", \"Topic1\", \"Topic1\", \"Topic1\", \"Topic1\", \"Topic1\", \"Topic1\", \"Topic1\", \"Topic1\", \"Topic1\", \"Topic1\", \"Topic1\", \"Topic1\", \"Topic1\", \"Topic1\", \"Topic1\", \"Topic1\", \"Topic1\", \"Topic1\", \"Topic1\", \"Topic1\", \"Topic1\", \"Topic1\", \"Topic1\", \"Topic1\", \"Topic1\", \"Topic1\", \"Topic1\", \"Topic1\", \"Topic1\", \"Topic1\", \"Topic1\", \"Topic1\", \"Topic1\", \"Topic1\", \"Topic1\", \"Topic1\", \"Topic1\", \"Topic1\", \"Topic1\", \"Topic1\", \"Topic1\", \"Topic1\", \"Topic1\", \"Topic1\", \"Topic1\", \"Topic1\", \"Topic1\", \"Topic1\", \"Topic1\", \"Topic1\", \"Topic1\", \"Topic1\", \"Topic1\", \"Topic1\", \"Topic1\", \"Topic1\", \"Topic1\", \"Topic1\", \"Topic1\", \"Topic1\", \"Topic1\", \"Topic1\", \"Topic1\", \"Topic1\", \"Topic1\", \"Topic1\", \"Topic2\", \"Topic2\", \"Topic2\", \"Topic2\", \"Topic2\", \"Topic2\", \"Topic2\", \"Topic2\", \"Topic2\", \"Topic2\", \"Topic2\", \"Topic2\", \"Topic2\", \"Topic2\", \"Topic2\", \"Topic2\", \"Topic2\", \"Topic2\", \"Topic2\", \"Topic2\", \"Topic2\", \"Topic2\", \"Topic2\", \"Topic2\", \"Topic2\", \"Topic2\", \"Topic2\", \"Topic2\", \"Topic2\", \"Topic2\", \"Topic2\", \"Topic2\", \"Topic2\", \"Topic2\", \"Topic2\", \"Topic2\", \"Topic2\", \"Topic2\", \"Topic2\", \"Topic2\", \"Topic2\", \"Topic2\", \"Topic2\", \"Topic2\", \"Topic2\", \"Topic2\", \"Topic2\", \"Topic2\", \"Topic2\", \"Topic2\", \"Topic2\", \"Topic2\", \"Topic2\", \"Topic2\", \"Topic2\", \"Topic2\", \"Topic2\", \"Topic2\", \"Topic2\", \"Topic2\", \"Topic2\", \"Topic2\", \"Topic2\", \"Topic2\", \"Topic2\", \"Topic2\", \"Topic2\", \"Topic2\", \"Topic2\", \"Topic2\", \"Topic2\", \"Topic2\", \"Topic2\", \"Topic2\", \"Topic2\", \"Topic2\", \"Topic2\", \"Topic2\", \"Topic2\", \"Topic2\", \"Topic2\", \"Topic2\", \"Topic2\", \"Topic3\", \"Topic3\", \"Topic3\", \"Topic3\", \"Topic3\", \"Topic3\", \"Topic3\", \"Topic3\", \"Topic3\", \"Topic3\", \"Topic3\", \"Topic3\", \"Topic3\", \"Topic3\", \"Topic3\", \"Topic3\", \"Topic3\", \"Topic3\", \"Topic3\", \"Topic3\", \"Topic3\", \"Topic3\", \"Topic3\", \"Topic3\", \"Topic3\", \"Topic3\", \"Topic3\", \"Topic3\", \"Topic3\", \"Topic3\", \"Topic3\", \"Topic3\", \"Topic3\", \"Topic3\", \"Topic3\", \"Topic3\", \"Topic3\", \"Topic3\", \"Topic3\", \"Topic3\", \"Topic3\", \"Topic3\", \"Topic3\", \"Topic3\", \"Topic3\", \"Topic3\", \"Topic3\", \"Topic3\", \"Topic3\", \"Topic3\", \"Topic3\", \"Topic3\", \"Topic3\", \"Topic3\", \"Topic3\", \"Topic3\", \"Topic3\", \"Topic3\", \"Topic3\", \"Topic3\", \"Topic3\", \"Topic3\", \"Topic3\", \"Topic3\", \"Topic3\", \"Topic3\", \"Topic3\", \"Topic3\", \"Topic3\", \"Topic3\", \"Topic3\", \"Topic3\", \"Topic3\", \"Topic3\", \"Topic3\", \"Topic3\", \"Topic4\", \"Topic4\", \"Topic4\", \"Topic4\", \"Topic4\", \"Topic4\", \"Topic4\", \"Topic4\", \"Topic4\", \"Topic4\", \"Topic4\", \"Topic4\", \"Topic4\", \"Topic4\", \"Topic4\", \"Topic4\", \"Topic4\", \"Topic4\", \"Topic4\", \"Topic4\", \"Topic4\", \"Topic4\", \"Topic4\", \"Topic4\", \"Topic4\", \"Topic4\", \"Topic4\", \"Topic4\", \"Topic4\", \"Topic4\", \"Topic4\", \"Topic4\", \"Topic4\", \"Topic4\", \"Topic4\", \"Topic4\", \"Topic4\", \"Topic4\", \"Topic4\", \"Topic4\", \"Topic4\", \"Topic4\", \"Topic4\", \"Topic4\", \"Topic4\", \"Topic4\", \"Topic4\", \"Topic4\", \"Topic4\", \"Topic4\", \"Topic4\", \"Topic4\", \"Topic4\", \"Topic4\", \"Topic4\", \"Topic4\", \"Topic4\", \"Topic4\", \"Topic4\", \"Topic4\", \"Topic4\", \"Topic4\", \"Topic4\", \"Topic4\", \"Topic4\", \"Topic4\", \"Topic4\", \"Topic4\", \"Topic4\", \"Topic4\", \"Topic5\", \"Topic5\", \"Topic5\", \"Topic5\", \"Topic5\", \"Topic5\", \"Topic5\", \"Topic5\", \"Topic5\", \"Topic5\", \"Topic5\", \"Topic5\", \"Topic5\", \"Topic5\", \"Topic5\", \"Topic5\", \"Topic5\", \"Topic5\", \"Topic5\", \"Topic5\", \"Topic5\", \"Topic5\", \"Topic5\", \"Topic5\", \"Topic5\", \"Topic5\", \"Topic5\", \"Topic5\", \"Topic5\", \"Topic5\", \"Topic5\", \"Topic5\", \"Topic5\", \"Topic5\", \"Topic5\", \"Topic5\", \"Topic5\", \"Topic5\", \"Topic5\", \"Topic5\", \"Topic5\", \"Topic5\", \"Topic5\", \"Topic5\", \"Topic5\", \"Topic5\", \"Topic5\", \"Topic5\", \"Topic5\", \"Topic5\", \"Topic5\", \"Topic5\", \"Topic5\", \"Topic5\", \"Topic5\", \"Topic5\", \"Topic5\", \"Topic5\", \"Topic5\", \"Topic5\", \"Topic6\", \"Topic6\", \"Topic6\", \"Topic6\", \"Topic6\", \"Topic6\", \"Topic6\", \"Topic6\", \"Topic6\", \"Topic6\", \"Topic6\", \"Topic6\", \"Topic6\", \"Topic6\", \"Topic6\", \"Topic6\", \"Topic6\", \"Topic6\", \"Topic6\", \"Topic6\", \"Topic6\", \"Topic6\", \"Topic6\", \"Topic6\", \"Topic6\", \"Topic6\", \"Topic6\", \"Topic6\", \"Topic6\", \"Topic6\", \"Topic6\", \"Topic6\", \"Topic6\", \"Topic6\", \"Topic6\", \"Topic6\", \"Topic6\", \"Topic6\", \"Topic6\", \"Topic6\", \"Topic6\", \"Topic6\", \"Topic6\", \"Topic6\", \"Topic6\", \"Topic6\", \"Topic6\", \"Topic6\", \"Topic6\", \"Topic6\", \"Topic6\", \"Topic6\", \"Topic6\", \"Topic6\", \"Topic6\", \"Topic6\", \"Topic6\", \"Topic6\", \"Topic6\", \"Topic6\", \"Topic6\", \"Topic6\", \"Topic6\", \"Topic6\", \"Topic6\", \"Topic6\", \"Topic6\", \"Topic6\", \"Topic6\", \"Topic6\", \"Topic6\", \"Topic6\", \"Topic6\", \"Topic6\", \"Topic7\", \"Topic7\", \"Topic7\", \"Topic7\", \"Topic7\", \"Topic7\", \"Topic7\", \"Topic7\", \"Topic7\", \"Topic7\", \"Topic7\", \"Topic7\", \"Topic7\", \"Topic7\", \"Topic7\", \"Topic7\", \"Topic7\", \"Topic7\", \"Topic7\", \"Topic7\", \"Topic7\", \"Topic7\", \"Topic7\", \"Topic7\", \"Topic7\", \"Topic7\", \"Topic7\", \"Topic7\", \"Topic7\", \"Topic7\", \"Topic7\", \"Topic7\", \"Topic7\", \"Topic7\", \"Topic7\", \"Topic7\", \"Topic7\", \"Topic7\", \"Topic7\", \"Topic7\", \"Topic7\", \"Topic7\", \"Topic7\", \"Topic7\", \"Topic7\", \"Topic7\", \"Topic7\", \"Topic7\", \"Topic7\", \"Topic7\", \"Topic7\", \"Topic7\", \"Topic7\", \"Topic7\", \"Topic7\", \"Topic7\", \"Topic7\", \"Topic7\", \"Topic7\", \"Topic7\", \"Topic7\", \"Topic7\", \"Topic7\", \"Topic7\", \"Topic7\", \"Topic7\", \"Topic7\", \"Topic7\", \"Topic8\", \"Topic8\", \"Topic8\", \"Topic8\", \"Topic8\", \"Topic8\", \"Topic8\", \"Topic8\", \"Topic8\", \"Topic8\", \"Topic8\", \"Topic8\", \"Topic8\", \"Topic8\", \"Topic8\", \"Topic8\", \"Topic8\", \"Topic8\", \"Topic8\", \"Topic8\", \"Topic8\", \"Topic8\", \"Topic8\", \"Topic8\", \"Topic8\", \"Topic8\", \"Topic8\", \"Topic8\", \"Topic8\", \"Topic8\", \"Topic8\", \"Topic8\", \"Topic8\", \"Topic8\", \"Topic8\", \"Topic8\", \"Topic8\", \"Topic8\", \"Topic8\", \"Topic8\", \"Topic8\", \"Topic8\", \"Topic8\", \"Topic8\", \"Topic8\", \"Topic8\", \"Topic8\", \"Topic8\", \"Topic8\", \"Topic8\", \"Topic8\", \"Topic8\", \"Topic8\", \"Topic8\", \"Topic8\", \"Topic8\", \"Topic8\", \"Topic8\", \"Topic8\", \"Topic8\", \"Topic8\", \"Topic8\", \"Topic8\", \"Topic8\", \"Topic8\", \"Topic8\", \"Topic8\", \"Topic8\", \"Topic8\", \"Topic8\", \"Topic8\", \"Topic8\", \"Topic8\", \"Topic8\", \"Topic9\", \"Topic9\", \"Topic9\", \"Topic9\", \"Topic9\", \"Topic9\", \"Topic9\", \"Topic9\", \"Topic9\", \"Topic9\", \"Topic9\", \"Topic9\", \"Topic9\", \"Topic9\", \"Topic9\", \"Topic9\", \"Topic9\", \"Topic9\", \"Topic9\", \"Topic9\", \"Topic9\", \"Topic9\", \"Topic9\", \"Topic9\", \"Topic9\", \"Topic9\", \"Topic9\", \"Topic9\", \"Topic9\", \"Topic9\", \"Topic9\", \"Topic9\", \"Topic9\", \"Topic9\", \"Topic9\", \"Topic9\", \"Topic9\", \"Topic9\", \"Topic9\", \"Topic9\", \"Topic9\", \"Topic9\", \"Topic9\", \"Topic9\", \"Topic9\", \"Topic9\", \"Topic9\", \"Topic9\", \"Topic9\", \"Topic9\", \"Topic9\", \"Topic9\", \"Topic9\", \"Topic9\", \"Topic9\", \"Topic9\", \"Topic9\", \"Topic10\", \"Topic10\", \"Topic10\", \"Topic10\", \"Topic10\", \"Topic10\", \"Topic10\", \"Topic10\", \"Topic10\", \"Topic10\", \"Topic10\", \"Topic10\", \"Topic10\", \"Topic10\", \"Topic10\", \"Topic10\", \"Topic10\", \"Topic10\", \"Topic10\", \"Topic10\", \"Topic10\", \"Topic10\", \"Topic10\", \"Topic10\", \"Topic10\", \"Topic10\", \"Topic10\", \"Topic10\", \"Topic10\", \"Topic10\", \"Topic10\", \"Topic10\", \"Topic10\", \"Topic10\", \"Topic10\", \"Topic10\", \"Topic10\", \"Topic10\", \"Topic10\", \"Topic10\", \"Topic10\", \"Topic10\", \"Topic10\", \"Topic10\", \"Topic10\", \"Topic10\", \"Topic10\", \"Topic10\", \"Topic10\", \"Topic10\", \"Topic10\", \"Topic10\", \"Topic10\", \"Topic10\", \"Topic10\", \"Topic10\", \"Topic10\", \"Topic10\", \"Topic10\", \"Topic10\", \"Topic11\", \"Topic11\", \"Topic11\", \"Topic11\", \"Topic11\", \"Topic11\", \"Topic11\", \"Topic11\", \"Topic11\", \"Topic11\", \"Topic11\", \"Topic11\", \"Topic11\", \"Topic11\", \"Topic11\", \"Topic11\", \"Topic11\", \"Topic11\", \"Topic11\", \"Topic11\", \"Topic11\", \"Topic11\", \"Topic11\", \"Topic11\", \"Topic11\", \"Topic11\", \"Topic11\", \"Topic11\", \"Topic11\", \"Topic11\", \"Topic11\", \"Topic11\", \"Topic11\", \"Topic11\", \"Topic11\", \"Topic11\", \"Topic11\", \"Topic11\", \"Topic11\", \"Topic11\", \"Topic11\", \"Topic11\", \"Topic11\", \"Topic11\", \"Topic11\", \"Topic11\", \"Topic11\", \"Topic11\", \"Topic11\", \"Topic11\", \"Topic11\", \"Topic11\", \"Topic11\", \"Topic11\", \"Topic11\", \"Topic11\", \"Topic11\", \"Topic11\", \"Topic11\", \"Topic11\", \"Topic11\", \"Topic11\", \"Topic11\", \"Topic11\", \"Topic11\", \"Topic11\", \"Topic11\", \"Topic11\", \"Topic11\", \"Topic11\", \"Topic11\", \"Topic11\", \"Topic11\", \"Topic11\", \"Topic11\", \"Topic12\", \"Topic12\", \"Topic12\", \"Topic12\", \"Topic12\", \"Topic12\", \"Topic12\", \"Topic12\", \"Topic12\", \"Topic12\", \"Topic12\", \"Topic12\", \"Topic12\", \"Topic12\", \"Topic12\", \"Topic12\", \"Topic12\", \"Topic12\", \"Topic12\", \"Topic12\", \"Topic12\", \"Topic12\", \"Topic12\", \"Topic12\", \"Topic12\", \"Topic12\", \"Topic12\", \"Topic12\", \"Topic12\", \"Topic12\", \"Topic12\", \"Topic12\", \"Topic12\", \"Topic12\", \"Topic12\", \"Topic12\", \"Topic12\", \"Topic12\", \"Topic12\", \"Topic12\", \"Topic12\", \"Topic12\", \"Topic12\", \"Topic12\", \"Topic12\", \"Topic12\", \"Topic12\", \"Topic12\", \"Topic12\", \"Topic12\", \"Topic12\", \"Topic12\", \"Topic12\", \"Topic12\", \"Topic12\", \"Topic12\", \"Topic12\", \"Topic13\", \"Topic13\", \"Topic13\", \"Topic13\", \"Topic13\", \"Topic13\", \"Topic13\", \"Topic13\", \"Topic13\", \"Topic13\", \"Topic13\", \"Topic13\", \"Topic13\", \"Topic13\", \"Topic13\", \"Topic13\", \"Topic13\", \"Topic13\", \"Topic13\", \"Topic13\", \"Topic13\", \"Topic13\", \"Topic13\", \"Topic13\", \"Topic13\", \"Topic13\", \"Topic13\", \"Topic13\", \"Topic13\", \"Topic13\", \"Topic13\", \"Topic13\", \"Topic13\", \"Topic13\", \"Topic13\", \"Topic13\", \"Topic13\", \"Topic13\", \"Topic13\", \"Topic13\", \"Topic13\", \"Topic13\", \"Topic13\", \"Topic13\", \"Topic13\", \"Topic13\", \"Topic13\", \"Topic13\", \"Topic13\", \"Topic13\", \"Topic13\", \"Topic13\", \"Topic13\", \"Topic13\", \"Topic13\", \"Topic13\", \"Topic13\", \"Topic13\", \"Topic13\", \"Topic13\", \"Topic14\", \"Topic14\", \"Topic14\", \"Topic14\", \"Topic14\", \"Topic14\", \"Topic14\", \"Topic14\", \"Topic14\", \"Topic14\", \"Topic14\", \"Topic14\", \"Topic14\", \"Topic14\", \"Topic14\", \"Topic14\", \"Topic14\", \"Topic14\", \"Topic14\", \"Topic14\", \"Topic14\", \"Topic14\", \"Topic14\", \"Topic14\", \"Topic14\", \"Topic14\", \"Topic14\", \"Topic14\", \"Topic14\", \"Topic14\", \"Topic14\", \"Topic14\", \"Topic14\", \"Topic14\", \"Topic14\", \"Topic14\", \"Topic14\", \"Topic14\", \"Topic14\", \"Topic14\", \"Topic14\", \"Topic14\", \"Topic14\", \"Topic14\", \"Topic14\", \"Topic14\", \"Topic14\", \"Topic14\", \"Topic14\", \"Topic14\", \"Topic14\", \"Topic14\", \"Topic14\", \"Topic14\", \"Topic14\", \"Topic14\", \"Topic14\", \"Topic14\", \"Topic14\", \"Topic14\", \"Topic14\", \"Topic14\", \"Topic14\", \"Topic15\", \"Topic15\", \"Topic15\", \"Topic15\", \"Topic15\", \"Topic15\", \"Topic15\", \"Topic15\", \"Topic15\", \"Topic15\", \"Topic15\", \"Topic15\", \"Topic15\", \"Topic15\", \"Topic15\", \"Topic15\", \"Topic15\", \"Topic15\", \"Topic15\", \"Topic15\", \"Topic15\", \"Topic15\", \"Topic15\", \"Topic15\", \"Topic15\", \"Topic15\", \"Topic15\", \"Topic15\", \"Topic15\", \"Topic15\", \"Topic15\", \"Topic15\", \"Topic15\", \"Topic15\", \"Topic15\", \"Topic15\", \"Topic15\", \"Topic15\", \"Topic15\", \"Topic15\", \"Topic15\", \"Topic15\", \"Topic15\", \"Topic15\", \"Topic15\", \"Topic15\", \"Topic15\", \"Topic15\", \"Topic15\", \"Topic15\", \"Topic15\", \"Topic15\", \"Topic15\", \"Topic15\", \"Topic15\", \"Topic15\", \"Topic15\", \"Topic15\", \"Topic16\", \"Topic16\", \"Topic16\", \"Topic16\", \"Topic16\", \"Topic16\", \"Topic16\", \"Topic16\", \"Topic16\", \"Topic16\", \"Topic16\", \"Topic16\", \"Topic16\", \"Topic16\", \"Topic16\", \"Topic16\", \"Topic16\", \"Topic16\", \"Topic16\", \"Topic16\", \"Topic16\", \"Topic16\", \"Topic16\", \"Topic16\", \"Topic16\", \"Topic16\", \"Topic16\", \"Topic16\", \"Topic16\", \"Topic16\", \"Topic16\", \"Topic16\", \"Topic16\", \"Topic16\", \"Topic16\", \"Topic16\", \"Topic16\", \"Topic16\", \"Topic16\", \"Topic16\", \"Topic16\", \"Topic16\", \"Topic16\", \"Topic16\", \"Topic16\", \"Topic16\", \"Topic16\", \"Topic16\", \"Topic16\", \"Topic16\", \"Topic16\", \"Topic16\", \"Topic16\", \"Topic16\", \"Topic16\", \"Topic16\", \"Topic16\", \"Topic16\", \"Topic16\", \"Topic16\", \"Topic16\", \"Topic16\", \"Topic16\", \"Topic16\", \"Topic16\", \"Topic16\", \"Topic16\", \"Topic17\", \"Topic17\", \"Topic17\", \"Topic17\", \"Topic17\", \"Topic17\", \"Topic17\", \"Topic17\", \"Topic17\", \"Topic17\", \"Topic17\", \"Topic17\", \"Topic17\", \"Topic17\", \"Topic17\", \"Topic17\", \"Topic17\", \"Topic17\", \"Topic17\", \"Topic17\", \"Topic17\", \"Topic17\", \"Topic17\", \"Topic17\", \"Topic17\", \"Topic17\", \"Topic17\", \"Topic17\", \"Topic17\", \"Topic17\", \"Topic17\", \"Topic17\", \"Topic17\", \"Topic17\", \"Topic17\", \"Topic17\", \"Topic17\", \"Topic17\", \"Topic17\", \"Topic17\", \"Topic17\", \"Topic17\", \"Topic17\", \"Topic17\", \"Topic17\", \"Topic17\", \"Topic17\", \"Topic17\", \"Topic17\", \"Topic17\", \"Topic17\", \"Topic17\", \"Topic17\", \"Topic17\", \"Topic17\", \"Topic17\", \"Topic18\", \"Topic18\", \"Topic18\", \"Topic18\", \"Topic18\", \"Topic18\", \"Topic18\", \"Topic18\", \"Topic18\", \"Topic18\", \"Topic18\", \"Topic18\", \"Topic18\", \"Topic18\", \"Topic18\", \"Topic18\", \"Topic18\", \"Topic18\", \"Topic18\", \"Topic18\", \"Topic18\", \"Topic18\", \"Topic18\", \"Topic18\", \"Topic18\", \"Topic18\", \"Topic18\", \"Topic18\", \"Topic18\", \"Topic18\", \"Topic18\", \"Topic18\", \"Topic18\", \"Topic18\", \"Topic18\", \"Topic18\", \"Topic18\", \"Topic18\", \"Topic18\", \"Topic18\", \"Topic18\", \"Topic18\", \"Topic18\", \"Topic18\", \"Topic18\", \"Topic18\", \"Topic18\", \"Topic18\", \"Topic18\", \"Topic18\", \"Topic18\", \"Topic18\", \"Topic18\", \"Topic18\", \"Topic18\", \"Topic18\", \"Topic19\", \"Topic19\", \"Topic19\", \"Topic19\", \"Topic19\", \"Topic19\", \"Topic19\", \"Topic19\", \"Topic19\", \"Topic19\", \"Topic19\", \"Topic19\", \"Topic19\", \"Topic19\", \"Topic19\", \"Topic19\", \"Topic19\", \"Topic19\", \"Topic19\", \"Topic19\", \"Topic19\", \"Topic19\", \"Topic19\", \"Topic19\", \"Topic19\", \"Topic19\", \"Topic19\", \"Topic19\", \"Topic19\", \"Topic19\", \"Topic19\", \"Topic19\", \"Topic19\", \"Topic19\", \"Topic19\", \"Topic19\", \"Topic19\", \"Topic19\", \"Topic19\", \"Topic19\", \"Topic19\", \"Topic19\", \"Topic19\", \"Topic19\", \"Topic19\", \"Topic19\", \"Topic19\", \"Topic19\", \"Topic19\", \"Topic19\", \"Topic19\", \"Topic19\", \"Topic19\", \"Topic19\", \"Topic19\", \"Topic19\", \"Topic19\", \"Topic19\", \"Topic20\", \"Topic20\", \"Topic20\", \"Topic20\", \"Topic20\", \"Topic20\", \"Topic20\", \"Topic20\", \"Topic20\", \"Topic20\", \"Topic20\", \"Topic20\", \"Topic20\", \"Topic20\", \"Topic20\", \"Topic20\", \"Topic20\", \"Topic20\", \"Topic20\", \"Topic20\", \"Topic20\", \"Topic20\", \"Topic20\", \"Topic20\", \"Topic20\", \"Topic20\", \"Topic20\", \"Topic20\", \"Topic20\", \"Topic20\", \"Topic20\", \"Topic20\", \"Topic20\", \"Topic20\", \"Topic20\", \"Topic20\", \"Topic20\", \"Topic20\", \"Topic20\", \"Topic20\", \"Topic20\", \"Topic20\", \"Topic20\", \"Topic20\", \"Topic20\", \"Topic20\", \"Topic20\", \"Topic20\", \"Topic20\"], \"logprob\": [30.0, 29.0, 28.0, 27.0, 26.0, 25.0, 24.0, 23.0, 22.0, 21.0, 20.0, 19.0, 18.0, 17.0, 16.0, 15.0, 14.0, 13.0, 12.0, 11.0, 10.0, 9.0, 8.0, 7.0, 6.0, 5.0, 4.0, 3.0, 2.0, 1.0, -7.0562, -7.2284, -7.3368, -7.8786, -7.9143, -7.9984, -8.1514, -8.1779, -7.692, -8.0234, -8.2186, -8.2204, -6.2987, -8.3732, -8.404, -8.4201, -8.4566, -8.4635, -8.4762, -7.4269, -8.5345, -8.5424, -8.5622, -8.5813, -8.6247, -8.6252, -7.8011, -8.6604, -8.6622, -8.7153, -5.8999, -6.9939, -7.2491, -5.9538, -6.6045, -6.9807, -7.761, -6.5593, -7.8455, -6.3131, -6.5526, -6.8474, -7.2729, -4.0923, -6.4966, -6.4963, -6.5972, -7.4842, -3.7625, -5.9792, -5.2679, -6.0807, -6.8571, -4.0341, -5.3572, -4.2657, -3.7744, -5.5075, -5.5389, -4.9978, -4.5187, -4.844, -6.1262, -5.0748, -5.4582, -5.6529, -4.8502, -4.8987, -5.4292, -4.2142, -5.3442, -4.4586, -5.4006, -4.2269, -5.6764, -5.5375, -4.9333, -5.0948, -4.8618, -5.5262, -5.374, -5.0304, -5.4703, -5.251, -5.1881, -5.3299, -5.3776, -5.3279, -5.4161, -5.7604, -6.2808, -6.3288, -6.3104, -6.6329, -6.6536, -7.1167, -7.2681, -7.2818, -6.3464, -7.4485, -7.4769, -7.5678, -7.5878, -7.6075, -7.6331, -7.6497, -7.6759, -7.498, -7.7078, -7.743, -7.7424, -7.7663, -7.7829, -7.8468, -7.8627, -7.8888, -7.9019, -7.9166, -7.9317, -6.8046, -7.104, -7.5206, -7.1378, -7.1092, -7.2875, -4.7441, -7.1323, -6.3003, -5.099, -6.9285, -6.7161, -7.2048, -5.8465, -5.9528, -4.8547, -6.0144, -5.5953, -5.8255, -4.1072, -4.5625, -4.5694, -6.2605, -4.8129, -3.9177, -5.1616, -5.938, -5.7536, -4.3135, -6.2493, -5.0116, -5.1927, -4.8778, -4.1413, -5.8699, -5.2673, -4.6042, -5.1486, -4.5727, -5.074, -5.0873, -5.3084, -5.3582, -5.0643, -4.7941, -5.1233, -5.1436, -5.5652, -5.5622, -5.2986, -5.4907, -5.3607, -5.4984, -5.2562, -5.3098, -6.006, -6.3405, -6.5164, -6.7372, -6.9755, -7.0103, -7.0116, -7.0568, -7.0809, -7.1689, -7.1889, -7.2188, -7.2843, -7.2948, -7.3256, -7.3906, -7.4772, -7.6642, -7.6762, -7.6892, -7.7164, -7.7343, -7.7426, -7.7768, -7.8119, -7.827, -7.873, -7.9413, -5.134, -5.5263, -4.7536, -7.3873, -5.276, -5.2661, -6.2687, -4.487, -6.3242, -5.0406, -5.3719, -5.4298, -6.0971, -5.6185, -3.575, -5.5742, -5.9085, -5.0533, -4.0077, -4.9129, -5.8469, -4.552, -4.5133, -4.5173, -5.8538, -4.5711, -4.3489, -4.5541, -4.2197, -5.0285, -5.425, -5.0749, -4.3453, -4.8743, -4.5546, -4.5102, -5.2157, -5.1506, -5.0824, -5.25, -5.0072, -5.161, -5.0513, -5.1879, -5.2187, -5.2402, -5.1895, -5.2246, -3.8619, -3.4943, -6.1941, -6.2754, -6.3529, -6.5953, -6.6061, -6.6507, -2.8449, -6.7678, -6.7718, -6.8324, -6.8438, -6.9086, -6.9713, -7.0701, -7.0717, -7.0882, -7.0965, -7.104, -7.1677, -7.1879, -7.21, -7.2581, -7.2729, -7.3824, -7.383, -7.4258, -5.3278, -5.7546, -6.7164, -5.9628, -4.0262, -5.3586, -4.1299, -5.1131, -5.9126, -6.419, -6.4065, -5.36, -2.9117, -5.9507, -5.3139, -5.1368, -5.6631, -4.5105, -4.8732, -5.7726, -3.1461, -4.456, -3.7391, -4.2721, -5.0539, -4.8293, -3.7012, -3.9664, -3.9736, -4.2247, -5.2604, -3.9318, -5.3248, -4.795, -5.1405, -4.3966, -4.5475, -5.0122, -5.1301, -5.1993, -4.3707, -4.5253, -4.6136, -4.6915, -4.7067, -4.9535, -5.0262, -5.0663, -5.1314, -5.1829, -5.2189, -5.6316, -5.7234, -5.7637, -5.8264, -5.8418, -5.8702, -5.9211, -6.0072, -6.0898, -6.1504, -6.1855, -6.2473, -6.2854, -6.2883, -5.5845, -6.3425, -6.4035, -6.5751, -6.5788, -4.2684, -6.3141, -3.6594, -4.0004, -5.4618, -5.8908, -4.7926, -6.043, -4.951, -4.9929, -4.9504, -4.1621, -3.6063, -4.5571, -5.3397, -3.4752, -4.4177, -4.5013, -3.8153, -4.7607, -4.6899, -5.2507, -4.4349, -4.8079, -4.8609, -4.5201, -4.6192, -4.6501, -4.8749, -4.8063, -4.7571, -5.2658, -6.0868, -6.1878, -6.2089, -6.2155, -6.3703, -6.4563, -6.7116, -6.7978, -6.2843, -6.8541, -6.9748, -6.9787, -7.0649, -7.0332, -7.1908, -7.3278, -7.3429, -7.3793, -7.3808, -7.4122, -7.4493, -7.4689, -7.4696, -7.4724, -7.527, -6.1263, -7.5557, -7.5591, -6.1101, -5.85, -6.2586, -6.2965, -7.0415, -4.1746, -6.2101, -5.1323, -7.1534, -3.7217, -2.9771, -5.3092, -2.9521, -5.0025, -3.5891, -5.7873, -3.2667, -5.6061, -4.6508, -5.1794, -4.4974, -5.3901, -3.6191, -4.4563, -5.6583, -5.0516, -5.034, -5.258, -4.617, -5.3223, -4.2889, -4.3803, -4.0587, -4.3683, -4.6258, -4.9774, -4.6057, -4.4444, -4.5494, -4.6698, -4.9441, -4.7781, -5.0237, -5.0513, -4.1576, -4.9771, -5.2482, -5.3113, -5.3211, -5.5654, -5.6595, -5.6704, -5.772, -5.645, -5.9726, -6.0488, -6.078, -6.0517, -6.2305, -6.2815, -6.3953, -6.4158, -6.4545, -6.5099, -6.5125, -6.5182, -6.7177, -6.7501, -6.8115, -6.8818, -6.9448, -6.9778, -6.9931, -6.995, -3.5983, -5.3881, -6.0969, -6.5418, -4.2111, -4.3558, -5.0958, -4.4861, -5.2896, -3.9511, -2.4041, -5.5073, -5.9614, -4.3089, -3.9207, -5.1619, -5.2824, -4.2399, -4.1302, -4.9352, -3.9955, -5.3563, -4.9821, -4.2083, -5.1646, -4.9304, -5.3706, -4.9082, -4.6592, -4.9166, -4.9407, -4.5465, -4.8724, -5.094, -5.1437, -5.2399, -5.2136, -5.2061, -4.5502, -4.7489, -4.5012, -6.4473, -6.4529, -6.4696, -6.5515, -6.6371, -6.0091, -6.6925, -6.6437, -6.7404, -6.7734, -6.7859, -6.8981, -6.9575, -6.9989, -7.046, -7.0992, -7.1051, -7.1094, -7.1966, -7.2224, -7.2274, -7.2316, -7.2334, -7.2392, -7.2707, -7.3431, -7.3505, -3.1398, -3.8997, -6.7545, -4.7398, -6.9013, -5.744, -5.6346, -6.8327, -5.0175, -4.2066, -5.0221, -5.5353, -4.1232, -5.8013, -5.4863, -3.4756, -6.5022, -6.6022, -3.7675, -4.531, -4.5423, -3.8697, -6.3368, -5.02, -3.9284, -4.724, -3.3693, -4.5668, -4.5571, -5.2862, -5.689, -4.7014, -3.8111, -3.8462, -4.6761, -4.3784, -4.6032, -4.6997, -4.8256, -4.4306, -4.6414, -4.6493, -4.6558, -4.8214, -3.6801, -4.3191, -4.39, -4.8659, -5.0525, -5.1315, -5.228, -5.2689, -5.5237, -5.521, -5.5332, -5.5644, -5.5838, -5.7613, -5.8334, -5.8797, -5.6566, -6.2958, -6.3893, -6.471, -6.4806, -6.6224, -6.6339, -4.0816, -6.6948, -6.7442, -6.8741, -6.9456, -7.0443, -7.1015, -5.0641, -6.4097, -4.3575, -5.0233, -2.6027, -3.4709, -3.1116, -4.9802, -4.1774, -4.7995, -3.8116, -4.7636, -5.6074, -3.7487, -3.6898, -4.8624, -4.631, -5.0316, -4.7783, -4.3021, -5.1592, -4.8589, -4.5357, -4.6989, -4.959, -5.0484, -4.9811, -3.7868, -3.9431, -4.0867, -4.0816, -4.581, -4.584, -4.7604, -5.0429, -5.0443, -5.2292, -5.6177, -5.7, -5.764, -5.7977, -5.7215, -6.0192, -6.0315, -5.0483, -6.1844, -6.2722, -6.2803, -6.3224, -6.4575, -6.5051, -6.5436, -6.5847, -6.292, -6.6063, -6.6135, -6.6696, -4.3482, -3.3204, -5.1985, -6.168, -5.1313, -5.435, -3.7177, -3.5456, -3.8949, -4.4106, -4.194, -5.2852, -5.27, -4.3056, -5.5076, -3.4543, -3.3776, -3.9993, -4.3245, -4.4138, -4.8371, -4.9091, -4.0621, -4.8075, -4.9136, -4.6782, -4.8774, -4.638, -4.8927, -4.8739, -4.561, -5.0301, -5.4565, -5.5104, -5.6252, -5.804, -5.9475, -5.956, -6.0024, -6.1646, -6.3715, -6.4491, -6.482, -5.8995, -6.5222, -6.6557, -6.6814, -6.8689, -6.8774, -6.8829, -6.9729, -6.9183, -6.9861, -7.0196, -7.0183, -6.9499, -7.1152, -7.1372, -7.1751, -7.2083, -5.0431, -5.9944, -5.192, -5.796, -5.5973, -5.2829, -3.5435, -3.5921, -5.8402, -5.9721, -3.5551, -3.3561, -4.148, -4.2707, -5.7208, -4.969, -4.8779, -4.6133, -5.0518, -4.4879, -5.319, -4.0014, -4.0131, -4.3195, -3.8183, -5.6274, -4.9989, -4.6233, -3.6005, -4.5979, -3.5564, -5.0867, -4.3546, -4.0513, -4.2564, -4.0433, -4.4833, -4.879, -4.7085, -4.8915, -4.6985, -4.8689, -4.8093, -4.8468, -4.8363, -2.1735, -4.1779, -4.5119, -4.6497, -4.6924, -4.7283, -4.8111, -4.9726, -4.7137, -5.3369, -5.3627, -5.3687, -5.421, -5.449, -5.4496, -5.473, -5.6055, -5.6425, -5.9894, -6.1891, -6.1953, -6.2142, -6.289, -6.3353, -6.3861, -6.3887, -6.4024, -6.4451, -6.4562, -6.4767, -4.7921, -6.0835, -2.2854, -5.7609, -6.1586, -3.4937, -5.2783, -4.7351, -5.635, -4.6695, -5.0284, -5.4325, -3.4294, -3.6754, -4.505, -4.7565, -5.0196, -4.4368, -4.14, -3.862, -4.7195, -4.2679, -4.5423, -4.8254, -4.9395, -4.958, -5.0436, -3.6055, -3.7646, -3.8661, -4.3327, -5.1216, -5.3985, -5.4263, -5.5189, -5.5785, -5.5606, -5.638, -5.6579, -5.6935, -5.8476, -5.8562, -6.0158, -6.0182, -6.1065, -6.191, -6.2899, -6.3264, -6.1506, -6.38, -6.387, -4.8117, -6.4807, -6.5185, -6.544, -6.629, -6.6436, -4.7095, -5.2778, -5.516, -4.7409, -5.6417, -3.461, -5.5669, -5.1763, -4.5706, -3.5886, -5.03, -3.9567, -4.2024, -4.433, -4.2339, -4.3852, -4.4446, -4.4729, -5.2749, -4.4464, -3.8898, -5.153, -4.4608, -4.5306, -4.7329, -4.7504, -5.102, -4.8104, -5.0112, -4.9782, -3.7437, -3.769, -4.9842, -5.3787, -5.42, -5.4674, -5.4791, -5.9364, -6.1237, -5.9257, -6.1899, -6.274, -6.2996, -6.4106, -6.4673, -6.5786, -6.6679, -6.6687, -6.6931, -6.7521, -6.7946, -5.4696, -6.8358, -6.8656, -6.9721, -6.9823, -6.9951, -7.0343, -7.0747, -7.077, -3.3226, -3.7946, -3.1025, -3.8264, -5.4557, -3.4349, -5.7524, -4.1711, -2.8843, -4.7156, -3.4752, -4.1354, -5.1519, -5.7399, -3.6287, -4.9563, -4.7128, -5.4723, -4.2526, -5.1524, -2.9943, -5.4648, -3.505, -3.5052, -4.8858, -5.1837, -4.3947, -4.9343, -5.1061, -4.765, -5.1477, -4.9994, -4.906, -4.3804, -4.6095, -4.6199, -4.6225, -4.7448, -4.6925, -4.8343, -4.9936, -5.0784, -5.0998, -5.151, -5.1849, -5.2275, -5.3446, -5.4111, -5.427, -5.5023, -5.7913, -5.8427, -5.9339, -6.0714, -6.1234, -4.7688, -6.1838, -4.4778, -6.2738, -6.3036, -6.3922, -6.4041, -6.3739, -5.8226, -4.5754, -5.4773, -4.7343, -2.5906, -5.0593, -5.3639, -5.8283, -4.783, -5.1838, -3.1646, -3.8091, -5.5155, -5.2394, -3.2863, -3.4688, -4.6113, -4.1768, -4.2804, -4.8429, -4.5691, -4.7206, -4.7501, -4.8108, -4.7432, -4.9306, -4.8487, -4.9486, -4.0552, -4.9374, -5.4568, -5.5717, -5.7454, -5.7803, -5.8845, -5.9908, -6.074, -6.1115, -6.2203, -6.2825, -6.2994, -6.311, -6.364, -6.3761, -6.3912, -6.3953, -6.4235, -6.4443, -6.4465, -6.4976, -6.5357, -6.6457, -6.6519, -6.6735, -6.6781, -6.6966, -6.7389, -6.7871, -4.2668, -2.76, -5.2525, -5.9938, -6.1558, -6.0776, -3.0299, -4.6495, -5.7066, -3.2183, -4.8097, -5.0026, -3.8002, -5.584, -4.7262, -5.8613, -4.3393, -4.5758, -4.2652, -4.7126, -3.3372, -4.3452, -5.2134, -4.5651, -4.9044, -4.6857, -4.7405, -4.6554, -5.2078, -4.9067, -4.691, -4.6341, -4.9651, -4.8322, -5.0191, -4.8576, -5.0931, -3.9686, -2.2592, -4.3785, -4.4287, -4.542, -4.6379, -4.6684, -4.707, -5.1843, -5.2188, -5.3286, -5.4583, -5.5255, -5.5283, -5.5476, -5.5539, -5.5904, -5.645, -5.6336, -5.6679, -5.695, -5.7009, -5.7166, -5.764, -5.7791, -5.7848, -5.8102, -5.8335, -5.8847, -5.9366, -5.8191, -5.4083, -3.9057, -5.2238, -5.6893, -4.5599, -4.749, -2.8788, -4.0859, -4.7963, -4.6458, -4.5138, -4.6142, -4.6558, -5.0814, -4.363, -5.1781, -4.7813, -4.9451, -4.3261, -4.4937, -5.1111, -4.7014, -4.9576, -5.034, -5.14, -2.9078, -4.2966, -4.6823, -4.948, -4.9354, -5.0836, -5.1481, -5.2153, -5.2267, -5.3299, -5.3839, -5.4525, -5.5246, -5.5276, -5.5427, -5.5613, -5.6416, -5.6425, -5.6578, -5.7676, -5.8174, -5.8577, -5.8622, -5.4756, -5.752, -5.9107, -5.9626, -6.0164, -6.0172, -6.0839, -5.5391, -4.6652, -3.9979, -4.851, -4.215, -4.4602, -3.2632, -5.1072, -4.8074, -2.9133, -3.9778, -3.587, -4.8949, -5.0642, -3.7309, -4.6563, -4.4302, -4.212, -3.481, -4.4673, -4.3225, -4.633, -4.8058, -4.9985, -4.839, -4.9977, -3.7527, -4.4718, -4.7821, -1.6849, -5.4328, -5.562, -5.6797, -5.6524, -5.3158, -5.6485, -5.7846, -5.8876, -5.9124, -5.933, -5.9448, -5.9561, -5.9798, -6.0923, -6.1297, -6.139, -6.1466, -6.1701, -6.1245, -6.2077, -6.2081, -6.2427, -6.2743, -6.293, -6.3208, -6.3524, -4.503, -5.171, -5.1067, -3.7355, -3.6141, -4.6293, -4.5285, -4.5522, -4.7199, -4.4875, -3.7338, -4.9542, -4.4661, -5.1444, -4.5225, -5.0187, -4.6715, -3.3745, -5.0218, -4.379, -4.4219, -3.7108, -4.3228, -4.2755, -4.1356, -4.9861, -4.7725, -4.8362, -3.6605, -3.1829, -4.2222, -4.4958, -4.5281, -4.544, -4.8764, -4.8961, -4.9746, -4.9998, -4.7596, -5.0466, -5.0138, -5.1382, -5.1736, -5.1758, -5.1789, -5.2029, -5.2543, -5.2858, -5.2883, -5.3368, -5.3377, -4.5585, -5.4014, -5.3953, -5.4154, -5.4517, -5.4513, -5.467, -4.662, -3.2446, -3.876, -3.6451, -4.4968, -3.724, -4.8337, -3.5963, -4.8877, -4.3937, -4.0129, -4.453, -4.2221, -4.9274, -5.0154, -4.4654, -4.7523, -4.9665, -4.8999], \"loglift\": [30.0, 29.0, 28.0, 27.0, 26.0, 25.0, 24.0, 23.0, 22.0, 21.0, 20.0, 19.0, 18.0, 17.0, 16.0, 15.0, 14.0, 13.0, 12.0, 11.0, 10.0, 9.0, 8.0, 7.0, 6.0, 5.0, 4.0, 3.0, 2.0, 1.0, 1.9566, 1.9563, 1.956, 1.9541, 1.9541, 1.9537, 1.9529, 1.9527, 1.9526, 1.9526, 1.9525, 1.9523, 1.952, 1.9515, 1.9512, 1.9511, 1.9509, 1.9508, 1.9507, 1.9505, 1.9502, 1.9501, 1.95, 1.9498, 1.9495, 1.9495, 1.9491, 1.9491, 1.9491, 1.9486, 1.9236, 1.9254, 1.9223, 1.8904, 1.8789, 1.8943, 1.9225, 1.8625, 1.9193, 1.8322, 1.8453, 1.8537, 1.8799, 1.6609, 1.8273, 1.8152, 1.8182, 1.8913, 1.5599, 1.7348, 1.6387, 1.7233, 1.8088, 1.4057, 1.5745, 1.3891, 1.2604, 1.5601, 1.5387, 1.4187, 1.3102, 1.3523, 1.6581, 1.3722, 1.4798, 1.4983, 1.2574, 1.2659, 1.4084, 0.9349, 1.3659, 0.9756, 1.3416, 0.7416, 1.4378, 1.3317, 0.8358, 0.9164, 0.6596, 1.2918, 1.1178, 0.5192, 1.1751, 0.7802, 0.5254, 0.6215, 0.5918, -0.2395, -0.2776, 2.3627, 2.3621, 2.3621, 2.3619, 2.3616, 2.3616, 2.3604, 2.3599, 2.3599, 2.3597, 2.3593, 2.3591, 2.3587, 2.3586, 2.3585, 2.3584, 2.3583, 2.3582, 2.3581, 2.358, 2.3578, 2.3578, 2.3577, 2.3574, 2.3572, 2.3571, 2.3569, 2.3568, 2.3568, 2.3566, 2.3518, 2.3535, 2.3536, 2.3493, 2.3479, 2.3479, 2.2805, 2.3424, 2.3126, 2.2565, 2.3256, 2.31, 2.3341, 2.2129, 2.2182, 2.0463, 2.1785, 2.101, 2.1088, 1.8442, 1.8869, 1.8616, 2.1545, 1.8304, 1.6037, 1.8617, 2.0448, 1.9704, 1.4, 2.0505, 1.591, 1.6576, 1.4886, 1.0078, 1.8865, 1.4004, 0.7182, 1.1904, 0.5658, 0.9572, 0.9239, 1.1834, 1.213, 0.7646, 0.2407, 0.5937, 0.2963, 1.3671, 1.3543, -0.0602, 0.9341, -0.3922, 0.8096, 2.5227, 2.5226, 2.5221, 2.5216, 2.5213, 2.5208, 2.5201, 2.52, 2.52, 2.5199, 2.5198, 2.5195, 2.5194, 2.5193, 2.519, 2.519, 2.5189, 2.5186, 2.5181, 2.5171, 2.517, 2.5169, 2.5168, 2.5167, 2.5166, 2.5164, 2.5161, 2.5159, 2.5157, 2.5152, 2.5103, 2.4537, 2.3401, 2.4913, 2.3539, 2.3491, 2.4107, 2.2436, 2.3979, 2.1802, 2.2018, 2.2001, 2.2891, 2.1948, 1.781, 2.1292, 2.205, 1.9823, 1.6445, 1.8956, 2.1556, 1.6792, 1.5747, 1.5677, 2.0761, 1.3982, 1.2007, 1.215, 0.9188, 1.4095, 1.7332, 1.3542, 0.6232, 1.1292, 0.5339, 0.4199, 1.3576, 1.1574, 0.9287, 1.3702, 0.1255, 0.8792, 0.0978, 0.761, 1.1723, 1.2895, 2.6078, 2.6078, 2.6076, 2.6072, 2.6068, 2.6067, 2.6066, 2.6061, 2.606, 2.6059, 2.6057, 2.6056, 2.6056, 2.6055, 2.6054, 2.6052, 2.605, 2.6047, 2.6047, 2.6046, 2.6046, 2.6046, 2.6043, 2.6042, 2.6041, 2.6039, 2.6039, 2.6033, 2.6033, 2.6031, 2.5899, 2.5882, 2.592, 2.5754, 2.4889, 2.5287, 2.4563, 2.4952, 2.5232, 2.5604, 2.5535, 2.4567, 2.2229, 2.494, 2.4209, 2.3837, 2.452, 2.2848, 2.3097, 2.4518, 1.9866, 2.1435, 1.9586, 2.0439, 2.2046, 2.142, 1.7633, 1.7506, 1.7159, 1.7789, 2.1696, 1.3604, 2.0948, 1.4732, 1.8363, 0.6919, 0.591, 1.3223, 1.0287, 1.374, 2.639, 2.639, 2.639, 2.6389, 2.6389, 2.6388, 2.6388, 2.6388, 2.6387, 2.6387, 2.6387, 2.6384, 2.6383, 2.6383, 2.6382, 2.6382, 2.6381, 2.6381, 2.638, 2.6379, 2.6378, 2.6377, 2.6376, 2.6375, 2.6375, 2.6375, 2.6374, 2.6373, 2.637, 2.637, 2.6301, 2.6364, 2.5601, 2.5659, 2.6063, 2.6164, 2.5446, 2.6177, 2.5085, 2.4973, 2.491, 2.3807, 2.2883, 2.4114, 2.4512, 1.8247, 2.1174, 2.0284, 1.703, 2.1138, 2.0442, 2.359, 1.2634, 1.7547, 1.5164, 0.7183, 0.7368, 0.4383, 0.8943, 0.1622, 2.6987, 2.6984, 2.6976, 2.6975, 2.6974, 2.6974, 2.6971, 2.6966, 2.6963, 2.6961, 2.6959, 2.6959, 2.6955, 2.6955, 2.6951, 2.695, 2.6946, 2.6939, 2.6938, 2.6936, 2.6936, 2.6935, 2.6932, 2.6931, 2.6931, 2.6931, 2.6928, 2.6926, 2.6926, 2.6926, 2.6854, 2.6791, 2.6803, 2.6733, 2.6874, 2.603, 2.6619, 2.6254, 2.6823, 2.4552, 2.3786, 2.5498, 2.3401, 2.5098, 2.348, 2.5528, 2.1963, 2.5146, 2.261, 2.3283, 2.1518, 2.3654, 1.7859, 2.0048, 2.4243, 2.1058, 2.0421, 2.1357, 1.6991, 2.15, 1.4445, 1.3367, 1.0297, 1.2538, 1.3644, 1.5833, 0.8588, 0.5904, 0.689, 0.7645, 1.2845, 0.3546, 1.2902, -0.0828, 2.9427, 2.9423, 2.9421, 2.9421, 2.9421, 2.9418, 2.9417, 2.9417, 2.9416, 2.9415, 2.9413, 2.9411, 2.9411, 2.9409, 2.9407, 2.9406, 2.9403, 2.9403, 2.9402, 2.94, 2.94, 2.94, 2.9394, 2.9392, 2.9389, 2.9387, 2.9384, 2.9383, 2.9382, 2.9382, 2.9226, 2.9313, 2.9368, 2.9366, 2.8948, 2.895, 2.9007, 2.8415, 2.8654, 2.742, 2.526, 2.8297, 2.8792, 2.5737, 2.4877, 2.7223, 2.725, 2.444, 2.3027, 2.5221, 2.0972, 2.6509, 2.4325, 1.7406, 2.4158, 2.092, 2.604, 1.9729, 1.5952, 1.8144, 1.8014, 0.8095, 0.2161, 1.5543, 1.6602, 2.0852, 0.6811, -0.2376, 3.0891, 3.089, 3.089, 3.0864, 3.0864, 3.0863, 3.086, 3.0857, 3.0856, 3.0855, 3.0855, 3.0853, 3.0852, 3.0851, 3.0846, 3.0843, 3.0841, 3.0838, 3.0835, 3.0834, 3.0834, 3.0828, 3.0827, 3.0826, 3.0826, 3.0826, 3.0826, 3.0823, 3.0818, 3.0817, 3.0647, 3.0334, 3.073, 3.0171, 3.0754, 3.039, 3.0291, 3.0668, 2.9843, 2.9281, 2.9714, 2.9857, 2.8751, 2.9923, 2.9599, 2.7577, 3.036, 3.0447, 2.6099, 2.7319, 2.688, 2.5513, 3.0012, 2.6839, 2.3853, 2.5643, 2.1489, 2.423, 2.3813, 2.5971, 2.7506, 2.275, 1.841, 1.8521, 2.2512, 2.0272, 2.1786, 2.1455, 2.1175, 1.5294, 1.6895, 0.4391, 0.3127, 0.9477, 3.1233, 3.1231, 3.1231, 3.1228, 3.1227, 3.1226, 3.1226, 3.1225, 3.1222, 3.1222, 3.1222, 3.1222, 3.1221, 3.1219, 3.1217, 3.1216, 3.1216, 3.1207, 3.1204, 3.1201, 3.1201, 3.1196, 3.1195, 3.1194, 3.1193, 3.1191, 3.1185, 3.1181, 3.1175, 3.1172, 3.11, 3.1138, 3.0388, 3.0333, 2.8109, 2.8429, 2.5779, 2.8098, 2.6044, 2.5497, 2.1694, 2.5104, 2.8147, 1.8733, 1.7747, 2.424, 2.173, 2.4985, 2.0677, 1.1609, 2.495, 1.4756, 0.6028, 0.657, 1.2695, 1.2197, 0.0537, 3.1656, 3.1656, 3.1655, 3.1655, 3.1653, 3.1653, 3.1652, 3.165, 3.165, 3.1648, 3.1644, 3.1642, 3.1641, 3.1641, 3.164, 3.1636, 3.1636, 3.1634, 3.1632, 3.163, 3.1629, 3.1628, 3.1624, 3.1622, 3.1621, 3.1619, 3.1618, 3.1618, 3.1618, 3.1615, 3.1575, 3.1194, 3.1402, 3.1548, 3.13, 3.1389, 3.0458, 3.0289, 3.0417, 3.0652, 3.0326, 3.0857, 3.0827, 2.9342, 3.0941, 2.7391, 2.6204, 2.7404, 2.6888, 2.6086, 2.7981, 2.7921, 2.0228, 2.3257, 2.3182, 1.483, 2.0841, 0.718, 1.9899, 1.4377, 3.1723, 3.172, 3.1716, 3.1715, 3.1713, 3.171, 3.1707, 3.1707, 3.1703, 3.1702, 3.1696, 3.1694, 3.1692, 3.1691, 3.1691, 3.1686, 3.1685, 3.1676, 3.1675, 3.1675, 3.167, 3.167, 3.1669, 3.1667, 3.1667, 3.1661, 3.1661, 3.1659, 3.1657, 3.1654, 3.1517, 3.158, 3.1412, 3.1409, 3.1264, 3.1121, 3.0368, 3.0353, 3.1194, 3.1195, 2.9697, 2.9317, 2.9781, 2.9834, 3.0721, 2.9824, 2.9703, 2.8978, 2.9256, 2.7987, 2.9555, 2.5179, 2.4197, 2.4206, 2.1719, 3.0061, 2.6536, 2.4414, 1.813, 2.3293, 1.5782, 2.6469, 1.8998, 1.5707, 1.7246, 1.3617, 1.7499, 2.2618, 1.7526, 2.0984, 0.5399, 1.2899, 0.5464, 0.6162, 0.3022, 3.1974, 3.1971, 3.197, 3.1969, 3.1969, 3.1969, 3.1968, 3.1967, 3.1966, 3.1963, 3.1963, 3.1963, 3.1962, 3.1962, 3.1962, 3.1961, 3.196, 3.1959, 3.1952, 3.1947, 3.1947, 3.1947, 3.1944, 3.1943, 3.1941, 3.1941, 3.1941, 3.1939, 3.1939, 3.1938, 3.189, 3.1865, 3.0803, 3.1747, 3.185, 3.0509, 3.1445, 3.0731, 3.0856, 2.881, 2.9517, 3.0092, 2.2689, 2.3226, 2.6351, 2.6713, 2.7861, 2.4368, 1.8199, 1.543, 2.1077, 1.3842, 0.9759, 1.5055, 1.5216, 1.3766, 1.1176, 3.2978, 3.2978, 3.2978, 3.2976, 3.297, 3.2967, 3.2966, 3.2965, 3.2964, 3.2963, 3.2963, 3.2962, 3.296, 3.2959, 3.2959, 3.2955, 3.2955, 3.2953, 3.295, 3.2947, 3.2946, 3.2946, 3.2944, 3.2944, 3.2943, 3.294, 3.2938, 3.2937, 3.2933, 3.2933, 3.2902, 3.2869, 3.2786, 3.2604, 3.2785, 3.2174, 3.2768, 3.2585, 3.2275, 3.1857, 3.2103, 3.0795, 2.9853, 3.0199, 2.9491, 2.9707, 2.9548, 2.9331, 3.1509, 2.6868, 2.1004, 2.9824, 1.8298, 1.7572, 1.9285, 1.5805, 2.061, 0.6239, 0.7223, 0.0566, 3.3881, 3.3881, 3.3874, 3.3869, 3.3869, 3.3868, 3.3867, 3.3858, 3.3853, 3.3852, 3.3851, 3.3848, 3.3847, 3.3843, 3.384, 3.3835, 3.383, 3.383, 3.3829, 3.3826, 3.3823, 3.3821, 3.3821, 3.3818, 3.3811, 3.3811, 3.381, 3.3807, 3.3804, 3.3803, 3.3789, 3.3718, 3.3545, 3.3588, 3.3742, 3.3523, 3.3737, 3.3574, 3.3418, 3.3597, 3.3269, 3.3394, 3.356, 3.3604, 3.2759, 3.2813, 3.229, 3.2686, 3.079, 3.2049, 2.2442, 3.1941, 1.9001, 1.7946, 2.5853, 2.8943, 1.7253, 2.4935, 2.656, 1.6729, 1.8712, 0.8952, 0.0625, 3.4242, 3.424, 3.424, 3.424, 3.4239, 3.4239, 3.4238, 3.4237, 3.4236, 3.4236, 3.4235, 3.4235, 3.4234, 3.4232, 3.4231, 3.4231, 3.423, 3.4224, 3.4223, 3.422, 3.4217, 3.4215, 3.4214, 3.4213, 3.421, 3.421, 3.4208, 3.4205, 3.4204, 3.4203, 3.418, 3.3951, 3.4109, 3.3916, 3.3471, 3.3888, 3.3963, 3.4025, 3.3047, 3.3368, 2.9966, 3.0628, 3.2763, 3.1181, 1.6438, 1.7696, 2.5732, 2.0166, 1.8123, 2.3278, 1.7215, 1.9277, 1.7693, 1.614, 0.3954, 1.4777, 0.1198, 0.1398, 3.549, 3.5484, 3.5476, 3.5474, 3.547, 3.5469, 3.5466, 3.5461, 3.546, 3.5459, 3.5454, 3.5452, 3.5451, 3.5451, 3.5448, 3.5448, 3.5447, 3.5447, 3.5445, 3.5444, 3.5444, 3.5442, 3.5439, 3.5433, 3.5433, 3.5431, 3.543, 3.543, 3.5427, 3.5424, 3.5368, 3.5182, 3.526, 3.532, 3.5259, 3.5104, 3.2816, 3.3995, 3.4582, 3.1575, 3.2988, 3.3199, 3.1108, 3.3937, 3.2191, 3.4425, 3.1165, 3.1643, 3.0841, 3.1625, 2.7508, 3.0143, 3.2413, 2.9855, 2.9879, 2.7472, 2.5845, 2.4986, 2.9282, 2.6017, 2.2924, 1.4508, 1.708, 1.1714, 1.7849, 0.277, 0.056, 3.7829, 3.7828, 3.7826, 3.7826, 3.7825, 3.7824, 3.7824, 3.7823, 3.7816, 3.7816, 3.7813, 3.7811, 3.7809, 3.7809, 3.7808, 3.7808, 3.7807, 3.7806, 3.7805, 3.7805, 3.7804, 3.7804, 3.7804, 3.7802, 3.7802, 3.7801, 3.78, 3.78, 3.7798, 3.7796, 3.778, 3.7677, 3.6024, 3.7031, 3.7557, 3.5212, 3.5419, 3.0812, 3.0986, 3.3155, 3.1528, 3.0163, 3.0545, 3.0141, 3.3064, 2.4896, 3.2851, 2.7556, 2.8205, 1.1385, 1.4434, 2.7482, 0.4371, 0.7401, 1.4962, 0.9346, 3.9119, 3.9113, 3.9106, 3.9105, 3.9105, 3.9102, 3.9101, 3.91, 3.91, 3.9097, 3.9096, 3.9094, 3.9092, 3.9092, 3.9092, 3.9091, 3.9089, 3.9089, 3.9088, 3.9084, 3.9083, 3.9081, 3.9081, 3.908, 3.9079, 3.9079, 3.9076, 3.9074, 3.9074, 3.9071, 3.9026, 3.8637, 3.7963, 3.8364, 3.7811, 3.7975, 3.6214, 3.8097, 3.7527, 3.3773, 3.5521, 3.3486, 3.7067, 3.7331, 2.8403, 3.2818, 3.0407, 2.7314, 1.982, 2.8158, 2.5698, 2.7841, 2.9921, 2.7119, 1.6787, 1.2308, 4.1496, 4.1489, 4.1485, 4.1484, 4.1469, 4.1464, 4.1459, 4.1459, 4.1459, 4.1455, 4.1455, 4.145, 4.1448, 4.1447, 4.1447, 4.1446, 4.1445, 4.1438, 4.1435, 4.1435, 4.1433, 4.1432, 4.1432, 4.143, 4.143, 4.1427, 4.1425, 4.1423, 4.1421, 4.1419, 4.1396, 4.1388, 4.1304, 4.1065, 4.0541, 4.086, 4.0787, 4.0787, 4.0656, 4.0475, 3.9469, 4.004, 3.8672, 3.934, 3.7064, 3.8489, 3.7227, 3.1432, 3.7911, 3.3348, 3.3389, 2.7963, 2.3255, 2.2439, 1.8133, 3.1095, 2.3034, 1.3923, 4.2239, 4.2238, 4.2235, 4.2231, 4.2231, 4.2231, 4.2225, 4.2224, 4.2223, 4.2222, 4.2222, 4.2221, 4.222, 4.2218, 4.2218, 4.2217, 4.2217, 4.2217, 4.2215, 4.2214, 4.2214, 4.2213, 4.2213, 4.2211, 4.221, 4.221, 4.221, 4.2209, 4.2209, 4.2208, 4.2094, 4.1245, 4.111, 4.0043, 4.1024, 3.9797, 4.0817, 3.5744, 3.9203, 3.4196, 3.0004, 3.3283, 2.7613, 3.8171, 3.8279, 2.0777, 2.2093, 3.3627, 2.3692]}, \"token.table\": {\"Topic\": [6, 6, 12, 1, 2, 3, 4, 5, 6, 7, 8, 9, 10, 13, 15, 17, 18, 19, 20, 18, 1, 2, 4, 5, 6, 8, 9, 10, 12, 5, 17, 19, 4, 5, 8, 11, 12, 14, 19, 8, 10, 16, 14, 12, 12, 16, 12, 1, 2, 3, 4, 5, 6, 7, 8, 9, 10, 11, 12, 13, 14, 15, 16, 17, 18, 20, 11, 1, 3, 5, 6, 9, 18, 17, 2, 15, 18, 6, 14, 5, 8, 11, 5, 11, 9, 17, 18, 19, 13, 20, 17, 1, 18, 9, 1, 2, 3, 4, 5, 6, 7, 8, 9, 10, 11, 12, 13, 16, 18, 19, 10, 12, 12, 20, 17, 11, 13, 17, 1, 2, 3, 4, 5, 6, 13, 17, 18, 19, 1, 2, 3, 5, 6, 7, 8, 12, 13, 16, 17, 19, 7, 10, 12, 20, 1, 5, 8, 9, 10, 12, 18, 12, 1, 3, 5, 8, 12, 12, 8, 2, 3, 17, 20, 1, 3, 5, 8, 10, 12, 14, 16, 3, 16, 1, 3, 5, 8, 12, 16, 8, 1, 16, 4, 4, 4, 7, 10, 15, 1, 2, 4, 6, 7, 9, 19, 4, 16, 16, 9, 6, 9, 17, 10, 6, 16, 8, 8, 8, 3, 4, 5, 8, 2, 3, 4, 4, 9, 19, 19, 8, 10, 13, 15, 14, 4, 5, 9, 1, 4, 5, 6, 8, 10, 11, 13, 15, 16, 17, 19, 20, 5, 5, 5, 4, 5, 15, 18, 8, 1, 1, 2, 3, 4, 12, 13, 1, 10, 11, 12, 13, 1, 2, 4, 5, 6, 7, 8, 9, 13, 14, 16, 17, 19, 7, 10, 4, 10, 1, 19, 1, 2, 6, 8, 13, 14, 16, 13, 7, 10, 2, 3, 5, 11, 1, 2, 3, 4, 6, 7, 9, 10, 13, 16, 17, 18, 15, 13, 15, 3, 4, 6, 11, 13, 13, 3, 13, 4, 17, 4, 6, 9, 12, 14, 9, 16, 5, 10, 13, 3, 12, 13, 15, 20, 2, 4, 11, 13, 17, 18, 17, 11, 13, 19, 2, 7, 3, 1, 5, 8, 13, 11, 12, 5, 6, 9, 17, 20, 2, 3, 4, 10, 12, 13, 3, 5, 7, 10, 12, 16, 10, 8, 11, 12, 1, 4, 5, 6, 9, 15, 18, 1, 5, 8, 10, 14, 16, 13, 17, 18, 11, 12, 1, 2, 3, 4, 5, 6, 7, 8, 9, 10, 14, 15, 12, 13, 15, 20, 15, 17, 12, 19, 11, 14, 1, 2, 3, 4, 6, 8, 9, 12, 14, 18, 19, 7, 20, 3, 4, 5, 11, 12, 14, 17, 13, 20, 12, 13, 5, 5, 20, 15, 1, 2, 3, 4, 5, 6, 7, 8, 11, 12, 13, 6, 9, 6, 16, 15, 1, 3, 4, 5, 6, 7, 10, 14, 15, 19, 11, 4, 6, 10, 11, 13, 2, 8, 11, 13, 16, 20, 13, 6, 7, 1, 2, 3, 4, 6, 9, 10, 11, 12, 13, 14, 16, 17, 19, 11, 19, 3, 8, 11, 12, 11, 12, 1, 5, 16, 9, 7, 16, 1, 2, 3, 4, 5, 6, 7, 8, 9, 11, 12, 13, 15, 16, 17, 19, 8, 6, 13, 13, 20, 13, 6, 9, 14, 1, 3, 5, 7, 8, 10, 11, 12, 13, 3, 7, 14, 1, 2, 3, 5, 9, 13, 16, 17, 7, 1, 2, 3, 5, 7, 8, 10, 12, 14, 16, 3, 4, 7, 9, 10, 12, 16, 2, 3, 4, 7, 9, 10, 16, 1, 2, 1, 4, 8, 11, 12, 14, 16, 20, 16, 3, 17, 18, 2, 13, 2, 1, 4, 5, 10, 10, 1, 3, 4, 5, 8, 10, 16, 1, 2, 3, 4, 9, 15, 16, 17, 2, 5, 5, 14, 4, 9, 9, 14, 19, 4, 8, 12, 3, 5, 6, 7, 8, 11, 12, 13, 1, 2, 3, 4, 5, 6, 8, 10, 12, 13, 17, 19, 13, 2, 3, 4, 5, 7, 8, 11, 4, 5, 8, 2, 16, 3, 6, 7, 9, 15, 18, 20, 5, 5, 13, 15, 17, 18, 1, 3, 4, 6, 7, 10, 15, 16, 19, 12, 1, 3, 5, 7, 8, 10, 16, 17, 20, 13, 1, 2, 3, 4, 5, 6, 7, 9, 10, 12, 13, 16, 17, 19, 1, 4, 6, 9, 12, 14, 17, 6, 9, 19, 7, 3, 4, 12, 17, 1, 2, 3, 4, 5, 6, 7, 8, 9, 10, 11, 12, 13, 14, 15, 16, 17, 19, 20, 5, 16, 7, 8, 11, 13, 15, 3, 1, 4, 6, 14, 15, 4, 17, 1, 7, 1, 2, 3, 4, 5, 6, 9, 11, 12, 14, 15, 16, 17, 18, 1, 2, 5, 6, 14, 11, 9, 11, 11, 6, 15, 6, 10, 14, 1, 6, 11, 11, 6, 1, 11, 12, 5, 6, 14, 6, 20, 20, 1, 3, 4, 5, 6, 8, 10, 12, 20, 3, 4, 7, 8, 10, 12, 20, 3, 3, 5, 7, 16, 2, 13, 14, 1, 5, 9, 10, 15, 17, 4, 17, 3, 5, 6, 7, 9, 14, 18, 15, 3, 4, 10, 16, 19, 16, 6, 2, 1, 5, 7, 8, 10, 20, 1, 2, 3, 12, 16, 1, 3, 5, 8, 12, 13, 15, 16, 20, 9, 2, 19, 6, 11, 17, 7, 1, 2, 4, 9, 16, 1, 2, 3, 4, 5, 6, 7, 8, 9, 12, 13, 15, 16, 17, 19, 19, 11, 7, 10, 7, 10, 2, 1, 1, 1, 3, 5, 6, 8, 11, 12, 13, 15, 4, 17, 18, 11, 13, 16, 3, 3, 19, 7, 6, 8, 9, 11, 13, 15, 16, 20, 2, 5, 12, 18, 3, 9, 17, 10, 12, 11, 12, 12, 10, 16, 11, 6, 20, 8, 12, 4, 20, 4, 3, 1, 2, 18, 6, 7, 11, 12, 14, 20, 10, 14, 2, 6, 8, 9, 11, 13, 17, 8, 5, 14, 4, 14, 5, 6, 5, 6, 10, 12, 1, 2, 3, 5, 6, 7, 8, 9, 11, 13, 16, 17, 20, 9, 5, 4, 14, 18, 18, 1, 3, 4, 5, 6, 7, 12, 14, 18, 19, 6, 1, 5, 7, 10, 16, 6, 3, 4, 5, 6, 7, 9, 10, 12, 15, 6, 19, 19, 2, 1, 2, 3, 5, 6, 7, 8, 9, 13, 16, 17, 19, 1, 4, 8, 11, 12, 1, 2, 3, 4, 5, 6, 7, 8, 9, 11, 12, 13, 14, 15, 17, 18, 19, 1, 2, 4, 5, 6, 7, 8, 9, 12, 13, 14, 15, 16, 17, 18, 19, 3, 3, 4, 5, 12, 3, 7, 7, 4, 5, 7, 12, 1, 1, 16, 1, 2, 3, 4, 6, 9, 14, 17, 2, 4, 9, 16, 18, 19, 19, 1, 17, 18, 20, 20, 20, 20, 1, 2, 3, 9, 13, 16, 17, 19, 20, 18, 4, 6, 11, 14, 19, 1, 1, 2, 3, 5, 6, 7, 8, 10, 12, 15, 16, 1, 5, 6, 8, 9, 10, 12, 13, 15, 19, 1, 4, 5, 6, 7, 10, 12, 13, 15, 18, 19, 1, 2, 3, 4, 6, 7, 9, 10, 12, 13, 15, 17, 18, 19, 12, 1, 2, 3, 4, 5, 6, 7, 8, 9, 10, 11, 12, 13, 15, 18, 19, 20, 5, 5, 8, 11, 13, 1, 2, 3, 4, 5, 6, 7, 8, 9, 10, 11, 12, 13, 14, 17, 19, 4, 6, 3, 4, 5, 6, 7, 8, 10, 11, 12, 13, 15, 19, 3, 4, 15, 13, 17, 6, 9, 1, 7, 10, 12, 16, 1, 2, 3, 4, 5, 6, 7, 8, 9, 10, 11, 12, 13, 14, 15, 17, 18, 13, 10, 14, 16, 1, 2, 4, 5, 6, 8, 9, 11, 1, 2, 3, 6, 7, 8, 13, 15, 16, 20, 3, 6, 18, 1, 3, 4, 5, 6, 7, 8, 9, 10, 12, 15, 16, 17, 18, 19, 20, 6, 8, 12, 13, 15, 20, 1, 2, 3, 5, 8, 10, 14, 16, 19, 17, 2, 16, 4, 9, 10, 15, 17, 2, 4, 5, 8, 9, 11, 15, 1, 2, 4, 16, 17, 7, 9, 16, 7, 8, 10, 6, 1, 2, 3, 5, 7, 8, 13, 16, 17, 19, 14, 19, 4, 10, 19, 15, 1, 2, 3, 4, 5, 6, 7, 8, 9, 10, 11, 12, 13, 14, 15, 17, 18, 19, 20, 8, 11, 4, 6, 8, 15, 7, 17, 3, 1, 2, 4, 13, 16, 17, 18, 19, 18, 20, 12, 2, 13, 7, 1, 5, 6, 7, 10, 11, 12, 14, 18, 19, 9, 10, 18, 1, 3, 4, 19, 10, 2, 5, 5, 18, 18, 2, 5, 7, 8, 9, 11, 13, 15, 18, 1, 17, 1, 12, 13, 15, 4, 5, 11, 7, 7, 19, 1, 3, 5, 12, 13, 8, 11, 13, 6, 8, 11, 13, 1, 3, 5, 7, 8, 10, 11, 12, 20, 4, 5, 4, 1, 2, 17, 8, 3, 8, 12, 13, 6, 11, 12, 13, 14, 1, 6, 9, 13, 19, 1, 3, 8, 11, 13, 13, 1, 5, 8, 13, 15, 11, 15, 4, 5, 10, 12, 15, 4, 5, 6, 7, 8, 9, 10, 11, 12, 13, 14, 16, 20, 8, 9, 19, 20, 20, 4, 10, 7, 4, 5, 7, 10, 12, 15, 20, 6, 11, 14, 3, 6, 11, 15, 19, 6, 11, 14, 7, 10, 1, 2, 3, 4, 5, 6, 8, 9, 10, 12, 14, 16, 17, 4, 4, 6, 9, 17, 4, 6, 9, 18, 16, 20, 16, 12, 1, 4, 10, 17, 2, 3, 4, 9, 12, 14, 4, 2, 2, 3, 4, 5, 10, 12, 15, 17, 4, 5, 7, 3, 8, 17, 16, 14, 1, 2, 3, 4, 5, 6, 7, 8, 10, 11, 12, 14, 15, 19, 6, 9, 11, 12, 14, 17, 11, 9, 9, 8, 16, 4, 10, 12, 1, 4, 6, 10, 12, 16, 18, 1, 8, 9, 11, 13, 4, 12, 5, 6, 12, 18, 19, 10, 16, 1, 2, 14, 7, 14, 15, 15, 15, 8, 11, 13, 14, 5, 6, 8, 9, 10, 10, 19, 1, 3, 10, 18, 20, 15, 16, 4, 7, 10, 16, 20, 2, 5, 6, 11, 14, 18, 19, 11, 19, 11, 2, 1, 2, 3, 4, 5, 6, 7, 8, 9, 11, 12, 13, 14, 15, 16, 17, 19, 11, 12, 15, 4, 9, 13, 12, 2, 5, 6, 16, 5, 16, 1, 14, 15, 16, 17, 18, 6, 18, 1, 3, 18, 18, 7, 12, 1, 2, 4, 5, 15, 16, 17, 18, 8, 12, 13, 12, 7, 16, 18, 1, 2, 3, 6, 9, 11, 13, 14, 6, 15, 4, 5, 6, 9, 12, 15, 17, 19, 1, 2, 3, 4, 5, 6, 9, 13, 14, 17, 18, 1, 2, 3, 4, 6, 7, 8, 10, 12, 16, 18, 11, 7, 10, 1, 3, 5, 10, 12, 15, 16, 17, 1, 2, 3, 4, 5, 6, 7, 8, 9, 11, 12, 13, 14, 15, 16, 17, 18, 19, 1, 2, 3, 4, 5, 6, 7, 11, 12, 13, 15, 17, 19, 20, 12, 1, 3, 5, 7, 8, 11, 12, 13, 16, 19, 16, 16, 6, 14, 17, 1, 7, 16, 1, 3, 4, 6, 7, 10, 12, 13, 17, 19, 3, 7, 15, 1, 2, 3, 4, 5, 6, 8, 10, 11, 15, 18, 20, 4, 15, 19, 9, 5, 7, 10, 5, 8, 10, 8, 1, 3, 5, 7, 8, 9, 10, 12, 13, 17, 20, 8, 14, 4, 5, 6, 8, 12, 15, 18, 5, 8, 1, 4, 5, 6, 9, 10, 14, 18, 20, 18, 1, 2, 3, 5, 6, 8, 9, 11, 16, 17, 18, 19, 2, 4, 6, 9, 12, 17, 20, 1, 2, 3, 4, 6, 9, 13, 16, 1, 3, 16, 17, 19, 7, 5, 7, 10, 16, 5, 1, 2, 4, 7, 8, 9, 10, 12, 15, 16, 17, 12, 2, 5, 8, 1, 2, 3, 4, 5, 6, 7, 8, 9, 10, 11, 12, 13, 14, 15, 16, 17, 18, 19, 1, 2, 3, 4, 5, 6, 8, 9, 14, 16, 19, 18, 18, 14, 11, 13, 8, 18, 13, 15, 17, 15, 15, 17, 10, 4, 6, 13, 14, 15, 16, 17, 18, 18, 1, 3, 5, 6, 8, 9, 12, 16, 17, 1, 3, 6, 15, 20, 1, 2, 3, 4, 5, 6, 7, 8, 9, 13, 14, 16, 17, 18, 19, 2, 18, 5, 10, 12, 15, 16, 1, 9, 18, 4, 12, 7, 3, 4, 5, 6, 7, 12, 1, 2, 3, 4, 5, 6, 8, 9, 10, 11, 12, 13, 17, 19, 14, 17, 1, 3, 4, 5, 8, 11, 14, 16, 14, 16, 11, 13, 15, 16, 18, 20, 7, 1, 4, 5, 14, 20, 19, 19, 20, 11, 1, 3, 4, 6, 7, 8, 12, 15, 16, 20, 6, 11, 14, 16, 5, 7, 8, 9, 10, 15, 20, 2, 16, 1, 6, 20, 8, 15, 20, 1, 16, 3, 3, 1, 2, 3, 5, 6, 9, 13, 16, 17, 19, 4, 14, 8, 4, 4, 19, 14, 6, 6, 13, 14, 3, 4, 5, 6, 7, 8, 9, 10, 11, 12, 14, 9, 1, 2, 3, 4, 5, 6, 7, 8, 9, 11, 12, 13, 14, 15, 16, 17, 19, 1, 2, 3, 4, 5, 6, 8, 10, 12, 14, 16, 3, 1, 2, 3, 4, 5, 6, 7, 8, 9, 10, 11, 12, 13, 14, 15, 16, 17, 11, 20, 1, 3, 6, 9, 13, 17, 19, 17, 2, 5, 7, 10, 20, 15, 10, 17, 17, 17, 17, 17, 17, 17, 4, 6, 9, 12, 14, 7, 9, 14, 15, 17, 20, 1, 2, 3, 4, 6, 7, 9, 14, 17, 18, 19, 9, 10, 15, 5, 4, 1, 2, 4, 6, 9, 11, 15, 16, 17, 18, 19, 6, 18, 3, 11, 15, 20, 11, 12, 1, 2, 3, 4, 6, 7, 8, 9, 11, 13, 14, 16, 17, 18, 19, 2, 13, 15, 7, 9, 16, 2, 4, 9, 10, 20, 16, 1, 3, 5, 6, 7, 8, 9, 10, 11, 16, 17, 19, 20, 14, 1, 2, 4, 6, 8, 9, 11, 14, 16, 17, 18, 19, 7, 10, 12, 20, 1, 1, 2, 3, 4, 6, 7, 11, 12, 15, 19, 20, 13, 4, 12, 13, 8, 3, 4, 10, 12, 15, 16, 5, 13, 5, 8, 13, 13, 9, 11, 3, 11, 13, 1, 2, 6, 10, 18, 4, 10, 11, 12, 13, 14, 17, 19, 1, 3, 4, 5, 6, 7, 5, 3, 3, 5, 7, 10, 11, 15, 1, 2, 4, 10, 14, 9, 3, 8, 15, 16, 2, 1, 18, 2, 6, 14, 10, 8, 15, 1, 5, 7, 11, 19, 16, 7, 12, 7, 10, 5, 7, 20, 5, 16, 6, 6, 11, 12, 10, 16, 3, 12, 17, 15, 15, 3, 8, 10, 11, 20, 15, 20, 16, 1, 2, 3, 4, 5, 7, 9, 13, 15, 16, 17, 18, 19, 2, 4, 9, 12, 13, 17, 17, 10, 14, 5, 7, 20, 16, 7, 9, 20, 12, 13, 18, 1, 2, 3, 4, 5, 6, 7, 8, 9, 11, 13, 14, 15, 16, 18, 19, 1, 2, 3, 4, 5, 6, 7, 8, 9, 11, 12, 14, 16, 17, 19, 14, 14, 7, 1, 17, 1, 13, 11, 6, 1, 11, 14, 16, 19, 19, 2, 3, 4, 6, 7, 15, 19, 4, 6, 4, 6, 4, 4, 6, 1, 2, 3, 4, 5, 6, 7, 8, 9, 10, 11, 12, 13, 14, 15, 19, 20, 6, 7, 1, 3, 4, 5, 7, 10, 11, 12, 6, 14, 16, 10, 20, 1, 3, 4, 7, 18, 1, 2, 16, 17, 14, 2, 3, 5, 7, 10, 12, 16, 5, 19, 5, 11, 1, 2, 3, 4, 5, 6, 8, 10, 11, 13, 16, 17, 19, 4, 5, 12, 5, 4, 5, 10, 20, 4, 7, 9, 6, 4, 6, 12, 3, 13, 7, 10, 15, 6, 6, 7, 9, 10, 15, 17, 16, 5, 6, 14, 1, 2, 3, 4, 5, 6, 7, 8, 9, 11, 12, 13, 14, 16, 17, 18, 19, 1, 4, 5, 15, 6, 10, 11, 13, 1, 8, 10, 10, 1, 9, 17, 19, 1, 6, 9, 15, 17, 18, 19, 2, 20, 8, 10, 8, 1, 2, 3, 4, 5, 6, 7, 9, 10, 12, 14, 15, 18, 4, 1, 2, 3, 4, 6, 9, 11, 13, 16, 17, 19, 1, 16, 5, 6, 14, 2, 12, 3, 13, 8, 8, 4, 6, 18, 2, 3, 12, 18, 6, 7, 5, 17, 18, 12, 1, 19, 8, 13, 5, 7, 4, 5, 8, 12, 4, 5, 19, 13, 1, 2, 3, 4, 5, 6, 9, 10, 13, 14, 15, 16, 17, 18, 19, 18, 4, 5, 6, 8, 9, 12, 13, 14, 15, 17, 18, 1, 2, 3, 4, 5, 6, 7, 8, 9, 11, 13, 14, 15, 16, 17, 19, 7, 1, 5, 8, 14, 2, 2, 6, 7, 8, 10, 11, 18, 13, 5, 8, 5, 8, 11, 14, 6, 19, 10, 5, 7, 9, 16, 19, 1, 2, 3, 4, 5, 7, 9, 10, 12, 14, 15, 16, 19, 20, 4, 10, 19, 1, 3, 4, 5, 7, 10, 14, 19, 20, 10, 16, 8, 13, 10, 12, 1, 2, 3, 4, 5, 6, 7, 9, 14, 16, 18, 6, 3, 14, 9, 17, 12, 14, 3, 17, 3, 8, 12, 13, 15, 20, 1, 7, 8, 11, 12, 13, 13, 12, 16, 17, 16, 18, 1, 4, 5, 7, 9, 17, 18, 3, 4, 8, 9, 14, 16, 17, 18, 20, 3, 5, 12, 7, 1, 2, 3, 4, 5, 6, 7, 8, 9, 10, 11, 12, 13, 15, 17, 19, 16, 19, 1, 2, 3, 4, 5, 6, 7, 8, 9, 12, 13, 18, 3, 6, 14, 8, 11, 12, 19, 10, 10, 17, 3, 4, 5, 8, 11, 1, 5, 8, 1, 2, 13, 16, 18, 19, 18, 17, 2, 6, 9, 18, 19, 4, 1, 3, 5, 7, 10, 14, 1, 3, 4, 5, 12, 5, 10, 5, 1, 2, 3, 4, 5, 6, 7, 8, 10, 12, 13, 14, 15, 16, 17, 18, 19, 20, 4, 12, 20, 1, 2, 3, 5, 6, 7, 8, 10, 12, 13, 15, 7, 5, 15, 15, 1, 3, 5, 16, 18, 1, 7, 9, 16, 18, 7, 7, 18, 4, 12, 19, 17, 8, 4, 1, 3, 5, 7, 8, 10, 15, 6, 9, 13, 15, 17, 18, 20, 9, 4, 5, 11, 1, 4, 14, 17, 19, 5, 5, 19, 1, 2, 3, 4, 5, 6, 7, 8, 10, 13, 14, 15, 16, 18, 19, 1, 2, 3, 4, 5, 6, 7, 8, 9, 11, 13, 14, 15, 17, 18, 19, 1, 2, 3, 4, 6, 7, 8, 10, 11, 12, 13, 15, 16, 18, 1, 3, 6, 13, 18, 11, 9, 2, 3, 5, 8, 10, 19, 3, 5, 10, 10, 3, 14, 14, 14, 7, 8, 10, 11, 12, 13, 15, 20, 7, 5, 1, 2, 3, 4, 5, 6, 7, 8, 9, 10, 11, 12, 15, 17, 19, 20, 2, 4, 8, 11, 16, 9, 4, 20, 4, 20, 6, 9, 4, 5, 15, 20, 4, 6, 9, 12, 6, 9, 2, 19, 9, 1, 2, 6, 9, 10, 13, 14, 16, 17, 18, 19, 14, 16, 3, 12, 2, 11, 12, 13, 5, 8, 11, 20, 14, 6, 7, 19, 18, 12, 4, 12, 17, 1, 2, 3, 5, 6, 8, 10, 12, 16, 19, 13, 7, 17, 2, 3, 6, 7, 9, 16, 4, 1, 3, 4, 5, 6, 10, 12, 16, 18, 13, 14, 14, 3, 6, 8, 11, 12, 13, 15, 10, 3, 4, 8, 10, 11, 12, 13, 15, 16, 17, 20, 1, 4, 5, 7, 10, 12, 16, 5, 13, 1, 3, 8, 9, 11, 16, 1, 15, 1, 2, 16, 17, 7, 4, 10, 19, 1, 19, 3, 6, 7, 8, 11, 12, 13, 15, 11, 11, 11, 11, 12, 15, 6, 13, 1, 2, 3, 4, 5, 6, 7, 8, 9, 11, 12, 13, 14, 15, 16, 17, 19, 2, 1, 2, 3, 4, 5, 6, 7, 9, 13, 16, 17, 19, 1, 2, 3, 4, 5, 6, 8, 9, 11, 12, 13, 16, 18, 1, 2, 6, 14, 1, 2, 4, 7, 20, 2, 6, 9, 13, 14, 16, 17, 19, 3, 4, 5, 6, 15, 3, 1, 2, 3, 4, 5, 6, 7, 8, 9, 10, 11, 15, 16, 17, 18, 20, 5, 1, 2, 6, 8, 11, 12, 13, 14, 15, 17, 7, 10, 15, 20, 4, 12, 5, 5, 10, 1, 3, 7, 10, 12, 16, 3, 6, 7, 8, 9, 11, 12, 13, 14, 16, 19, 1, 7, 9, 12, 14, 18, 18, 11, 13, 1, 15, 9, 2, 12, 14, 2, 2, 13, 1, 3, 4, 5, 6, 7, 8, 9, 10, 11, 12, 13, 14, 15, 17, 18, 19, 20, 2, 11, 2, 3, 4, 5, 6, 7, 8, 9, 10, 11, 12, 15, 16, 18, 19, 2, 3, 4, 5, 6, 7, 10, 11, 12, 13, 14, 15, 9, 17, 1, 2, 3, 4, 6, 7, 9, 13, 14, 16, 17, 18, 7, 1, 2, 3, 4, 5, 6, 7, 8, 9, 10, 11, 12, 13, 14, 16, 17, 9, 9, 7, 20, 20, 15, 13, 17, 15, 15, 17, 3, 9, 17, 3, 17, 17, 8, 11, 2, 6, 1, 2, 3, 4, 5, 6, 9, 13, 16, 17, 18, 1, 2, 4, 9, 16, 2, 9, 6, 7, 19, 19, 1, 3, 1, 2, 3, 4, 5, 6, 7, 8, 9, 10, 11, 12, 13, 14, 17, 20, 3, 5, 10, 15, 5, 8, 10, 12, 13, 1, 2, 3, 4, 5, 6, 7, 8, 9, 10, 11, 12, 13, 14, 15, 16, 18, 20, 1, 2, 3, 4, 5, 6, 7, 8, 9, 12, 13, 14, 16, 17, 18, 19, 20, 1, 3, 4, 5, 6, 7, 8, 10, 11, 12, 14, 15, 16, 19, 14, 5, 1, 2, 3, 4, 5, 6, 7, 8, 9, 10, 11, 12, 13, 14, 15, 16, 17, 18, 19, 20, 7, 10, 6, 12, 4, 12, 18, 18, 10, 1, 3, 5, 11, 19, 4, 6, 9, 11, 13, 15, 18, 4, 5, 6, 8, 9, 11, 20, 6, 14, 1, 2, 4, 6, 7, 9, 15, 17, 18, 1, 16, 18, 9, 9, 14, 3, 4, 6, 7, 8, 9, 10, 12, 14, 16, 20, 17, 15, 20, 3, 8, 11, 12, 13, 17, 17, 17, 12, 11, 16, 13, 8, 3, 4, 12, 19, 8, 11, 1, 2, 3, 4, 5, 6, 7, 8, 9, 10, 11, 12, 13, 14, 15, 16, 17, 18, 19, 10, 3, 7, 10, 1, 2, 3, 4, 5, 6, 7, 8, 9, 11, 13, 14, 15, 16, 17, 18, 19, 1, 3, 5, 8, 10, 12, 10, 12, 13, 8, 1, 5, 8, 13, 12, 13, 17, 19, 13, 11, 12, 13, 12, 13, 15, 2, 16, 1, 3, 7, 8, 11, 13, 16, 2, 1, 2, 4, 6, 9, 11, 13, 16, 18, 19, 2, 3, 6, 7, 13, 17, 1, 2, 3, 4, 5, 6, 7, 8, 9, 10, 11, 12, 13, 14, 15, 16, 17, 19, 20, 3, 2, 4, 1, 2, 3, 4, 5, 6, 7, 8, 9, 12, 13, 14, 15, 16, 20, 1, 2, 3, 4, 5, 6, 9, 11, 13, 14, 16, 17, 19, 8, 11, 11, 2, 4, 12, 13, 16, 4, 5, 7, 8, 11, 12, 20, 11, 3, 16, 8, 13, 3, 1, 4, 5, 6, 8, 10, 12, 11, 12, 20, 7, 1, 6, 9, 1, 2, 3, 4, 5, 7, 8, 9, 11, 13, 14, 16, 17, 20, 8, 12, 14, 1, 12], \"Freq\": [0.9916219327908915, 0.9861223442987745, 0.011601439344691466, 0.5529041670592119, 0.011531707022464008, 0.14064564100612353, 0.01873902391150401, 0.0650717753410469, 0.06713100873791547, 0.03191811765146288, 0.03335958102927088, 0.0026770034159291447, 0.00020592333968685728, 0.030064807594281165, 0.01523832713682744, 0.01729756053369601, 0.0010296166984342864, 0.012355400381211436, 0.9966158355977544, 0.9936146016074308, 0.12762148865317102, 0.1482940603688913, 0.07446344709846178, 0.5516201534347805, 0.00632833828032253, 0.018563125622279422, 0.04303270030619321, 0.0006328338280322531, 0.02911035608948364, 0.9990905864051416, 0.9960212203280779, 0.9950250340319048, 0.15803832539018126, 0.011288451813584375, 0.44293734735207263, 0.19082859018202158, 0.16610150525702722, 0.02257690362716875, 0.008063179866845982, 0.9950078714847361, 0.02010264355677975, 0.976988476859496, 0.9983080885796812, 0.9994484365050709, 0.9978457928157811, 0.9955695744460824, 0.9979277652794748, 0.0009817780128076666, 0.018435609351610628, 0.16984759621572634, 0.1455213187872697, 0.035889440690413596, 0.12632210431458643, 0.05465230937962678, 0.059452112997797596, 0.002072642471482852, 0.0007636051210726297, 0.09730510971382651, 0.01243585482889711, 0.01407215151690989, 0.05672495185110963, 0.045598134372622744, 0.05585226028416948, 0.05792490275565233, 0.025198968995396778, 0.021162770498298594, 0.9974890913207327, 0.023010489873227846, 0.004748196323047016, 0.4046924250720072, 0.21403408040811933, 0.01935803116319168, 0.3341999719683092, 0.9946019220003708, 0.9988768216138104, 0.9855356297981817, 0.012728319942042937, 0.9801951996992214, 0.01904524351747192, 0.06922326075063204, 0.3355478669973385, 0.5950029893527609, 0.18251989645441982, 0.8168408042027028, 0.0032614033420225903, 0.01250204614441993, 0.16796227211416342, 0.815894402729318, 0.9791077696820187, 0.019129991947606048, 0.9992153813561284, 0.00632553023979982, 0.9899454825286719, 0.9978351847359179, 0.3526807558036524, 0.2369973729130494, 0.2030089807717395, 0.013922955816922124, 0.038185753821411414, 0.03798100447116256, 0.026924539557724402, 0.0004094987004977096, 0.017813193471650366, 0.0009213720761198465, 0.005835356482092362, 0.002149868177612975, 0.03142902526319921, 0.011568338289060296, 0.005016359081096942, 0.015049077243290826, 0.9991418014711351, 0.9999272144189478, 0.9982214340796364, 0.9996128272623788, 0.9987432722987098, 0.0016730768140549507, 0.37142305272019904, 0.626567266863579, 0.28222808855029624, 0.5868032475933121, 0.0978647569853587, 0.011558829565199847, 0.006357356260859916, 0.0013485301159399821, 0.0009632357970999871, 0.006164709101439918, 0.002311765913039969, 0.004238237507239943, 0.5133705957369066, 0.09542545479291918, 0.22663545513318306, 0.022938811248297882, 0.04748333928397661, 0.0057347028120744705, 0.03234372386010001, 0.006193479037040428, 0.02569146859809363, 0.004358374137176597, 0.018351048998638306, 0.0013763286748978728, 0.0011155240756198787, 0.6205102670635575, 0.08422206770930084, 0.29394059392583805, 0.18913956103263976, 0.5933518953053196, 0.09214934737696252, 0.0022475450579746955, 0.017980360463797564, 0.08644404069133445, 0.018326136626562902, 0.998405596944871, 0.001501384740996515, 0.41531161716422643, 0.13312278036835765, 0.2869074745532864, 0.16315047518828796, 0.997973563055395, 0.994507210287841, 0.0006011716187073392, 0.5843388133835338, 0.006612887805780732, 0.40819552910228335, 0.3254185787302446, 0.27028468270432515, 0.1746442508226282, 0.11742073191525991, 0.05931314178881712, 0.028933239896983962, 0.00024111033247486635, 0.023628812582536903, 0.03660671728189487, 0.9627566645138352, 0.1827360260758174, 0.6395760912653609, 0.034873287419049125, 0.09625027327657558, 0.0013949314967619648, 0.045335273644763856, 0.9969162148204649, 0.26404061239760085, 0.7343629532308273, 0.9981348562401042, 0.9923034137432832, 0.8292026182708169, 0.01090301020563704, 0.11476852848038989, 0.04475972610735206, 0.034410955872040655, 0.10482106557944693, 0.14134961873592086, 0.04711653957864029, 0.13287922959818776, 0.5336345156771843, 0.006352791853299814, 0.9988016583284216, 0.998723506366378, 0.9947493422323879, 0.9986185585374072, 0.244421602626694, 0.7552960067562976, 0.00013856099922148184, 0.9987932829460768, 0.99675341745511, 0.9969011912473786, 0.9992654825732175, 0.9971228452205237, 0.9948749698944266, 0.005702642270168743, 0.028513211350843715, 0.045621138161349946, 0.9152740843620834, 0.0579278985439771, 0.9327124930118844, 0.008065909923844912, 0.048755442028444625, 0.08580957797006254, 0.8639464327440387, 0.9897373461476481, 0.7128732240541416, 0.16951057119202714, 0.03831403321463627, 0.07895012904834141, 0.9981150357019837, 0.9236170461256813, 0.07485174324607548, 0.0013366382722513478, 0.019582164418553843, 0.0836321605375737, 0.005711464622078204, 0.5691066534142211, 0.1097417130956455, 0.00938312045055705, 0.08607993108989294, 0.062418149084140374, 0.006527388139517948, 0.0008159235174397435, 0.03182101718014999, 0.015094585072635254, 0.9986921234266875, 0.999516600783495, 0.9992679628589971, 0.9978466352449042, 0.9801296480959926, 0.018970251253470825, 0.972644136769517, 0.027195641982042416, 0.996022835613161, 0.9933398624176925, 0.13383394284927286, 0.006939537777369704, 0.12127668401403245, 0.011565896295616175, 0.020818613332109114, 0.7055196740325866, 0.9870686036521324, 0.43168540589092, 0.012576413864265695, 0.012890824210872337, 0.5426722582430648, 0.594116528883935, 0.1369614427956735, 0.020359133388546058, 0.039175908187050745, 0.06878919311584501, 0.0003084717180082736, 0.039175908187050745, 0.013881227310372312, 0.012338868720330944, 0.01881677479850469, 0.040718266777092116, 0.0064779060781737455, 0.008945679822239934, 0.9994020334924143, 0.9965884846910155, 0.007757983302794711, 0.9916528068807592, 0.9611332815295992, 0.03495030114653088, 0.6810626244045898, 0.24800959718884116, 0.04651786227065311, 0.009766181029197891, 0.0015420285835575616, 0.004369080986746425, 0.008224152445640329, 0.996322201209499, 0.9530621570218819, 0.04668059544596973, 0.06413589702811602, 0.012114558327533026, 0.09620384554217402, 0.8266404505846064, 0.2050890151100934, 0.25846157807850323, 0.08030593965154259, 0.0009883807957112934, 0.007165760768906878, 0.017296663924947636, 0.03409913745203962, 0.0004941903978556467, 0.0037064279839173504, 0.12824240824354033, 0.0032122375860617037, 0.2611796252667093, 0.9991894093231652, 0.9802839664556694, 0.01821473586319656, 0.16118330763099825, 0.5982621989732376, 0.020095581211137442, 0.05651882215632406, 0.1632765973404917, 0.9991664829758161, 0.9957184581712405, 0.9951645499805537, 0.64401038376987, 0.35482307723345, 0.8552416139316437, 0.07134007574503407, 0.0125894251314766, 0.0503577005259064, 0.010910835113946386, 0.3190074145239528, 0.6801261152328036, 0.024140735029830822, 0.9750757757701232, 0.9994188794157912, 0.05232183350703869, 0.0009513060637643397, 0.9161077394050592, 0.019026121275286793, 0.011415672765172077, 0.07132347841914945, 0.03090684064829809, 0.12006118867223489, 0.016642144964468204, 0.6074382912030895, 0.15334547860117131, 0.9981327332468818, 0.9416199456315445, 0.05774084572268905, 0.9893747506490548, 0.04099859785104486, 0.9586217606626125, 0.9935761410860202, 0.0015744186812810404, 0.08281442263538272, 0.8508158553642742, 0.06423628219626645, 0.95476865754026, 0.04473068024017373, 0.04116217367494292, 0.02948101628070236, 0.1368364151896751, 0.009456175033432832, 0.7826375454141173, 0.13098613839302423, 0.7914204496183566, 0.028618820153097732, 0.018712305484717747, 0.004402895408168882, 0.02531664859697107, 0.00013824246004430951, 0.0008294547602658571, 0.04119625309320424, 0.17764156115693772, 0.015206670604874047, 0.7650337738852089, 0.9977706475474027, 0.013650389196029138, 0.8715394324186937, 0.11470118699441151, 0.9918270358681891, 0.1543002778371481, 0.017803878211978624, 0.2358368795036009, 0.0005160544409269167, 0.021932313739393958, 0.569208048342389, 0.1798442116179795, 0.11063945371596288, 0.19394963998017398, 0.06523760617514943, 0.44784735049967445, 0.0017631785452743088, 0.0365265607052991, 0.12452236604079239, 0.8367902997941249, 0.9470630654632128, 0.04902444103574278, 0.0852496530687702, 0.09809005112415951, 0.08538202830645464, 0.3214070770977858, 0.10100230635321687, 0.004633133318954903, 0.03057867990510236, 0.06764374645674158, 0.14905451763266345, 0.045801832238811326, 0.000661876188422129, 0.010325268539385212, 0.017564133835606236, 0.011709422557070826, 0.9648564187026359, 0.00468376902282833, 0.9993549246440934, 0.9972853842337096, 0.09707481594105927, 0.9017739480840505, 0.9963951307092774, 0.9949635365909266, 0.05109317078614318, 0.6208930971620442, 0.06791266179027726, 0.10472513266724999, 0.07997191949135454, 0.00809239661519659, 0.03189356313048068, 0.0049189077464920445, 0.0011107211040465908, 0.008885768832372727, 0.020151654316273863, 0.2601285636328952, 0.7384294709578961, 0.05460449145353965, 0.8928845546939909, 0.051570908595009665, 0.11196148238212612, 0.11439542765130277, 0.004056575448627758, 0.7691267050598228, 0.1970198264173828, 0.802302662122123, 0.007478191856703468, 0.9923560593845502, 0.9988564394715188, 0.9994814537556408, 0.9980702659931283, 0.9958052634119628, 0.007463689875146825, 0.21395910975420895, 0.31067609105298655, 0.013683431437769178, 0.020680640695719326, 0.05986501254024015, 0.11117788043187457, 0.033120123820964034, 0.10013783915821989, 0.00404283201570453, 0.12517229894777487, 0.08099263905225129, 0.918734683390689, 0.9998039366580727, 0.997089275842688, 0.9971280920028597, 0.2208920586604457, 0.1588403916442721, 0.05492611673680437, 0.1359792511646292, 0.11697778375297796, 0.1137119065416004, 0.010391427490746773, 0.024048732192871104, 0.006234856494448064, 0.15765279993104392, 0.9976031258441972, 0.1270776900239307, 0.002293821119565536, 0.002752585343478643, 0.7597135548001056, 0.10826835684349331, 0.9915967512399675, 0.9297944118158017, 0.03695712804062808, 0.032264159400548324, 0.9982507413295393, 0.9986147247378917, 0.99747789512671, 0.9979791511671594, 0.9980604259146383, 0.9969407187614998, 0.014146182777128785, 0.00029826288987922135, 0.6801246068931617, 0.018023600345558662, 8.521796853692039e-05, 0.012527041374927297, 0.20298920105494436, 0.004218289442577559, 0.02415929408021693, 0.00021304492134230097, 0.03792199599892957, 0.005283514049289064, 0.9905259408835082, 0.998080074847472, 0.9897937977786122, 0.09296137999703613, 0.04399698900623084, 0.8274272448591156, 0.03548144274696036, 0.9471733326647438, 0.05077630236965636, 0.07063430027845337, 0.9293048092190457, 0.9970538463687291, 0.9955709702594521, 0.998680688917221, 0.9962323515334125, 0.1068585930190303, 0.16567787460476555, 0.2010122212155418, 0.1329957428727643, 0.04401821145579751, 0.06335371347525376, 0.012020522273157532, 0.00021388829667540093, 0.08042199954995075, 0.05668039861898124, 0.00479109784552898, 0.012448298866508334, 0.04833875504864061, 0.020618831799508647, 0.03520601363277099, 0.015314402041958707, 0.9964087710676356, 0.06785557549147377, 0.9316387121532074, 0.997835911315024, 0.9951804448192648, 0.9998706636638315, 0.0026544308792803904, 0.006738170693557914, 0.9905110919530135, 0.0017220564701928482, 0.019242109253894, 0.2526181969752465, 0.027702647563971904, 0.2901290792172733, 0.00022461606132950193, 0.011230803066475097, 0.3950996518785939, 0.0020964165724086845, 0.00034089655318963563, 0.9799071421436075, 0.019601551808404047, 0.17483598854880253, 0.6749350337159942, 0.057332580660483946, 0.025544219106156216, 0.04200604919679022, 0.006244142448171519, 0.010217687642462486, 0.008514739702052071, 0.9947846383819431, 0.09886158904601092, 0.20026897008462297, 0.005940181316069325, 0.024609322595144346, 0.006364479981502849, 0.0004242986654335232, 0.1807512314746809, 0.0237607252642773, 0.010607466635838081, 0.4484836893632341, 0.032722881923973914, 0.026414856492846413, 0.009856289736136722, 0.14981560398927815, 0.16400866120931504, 0.031540127155637504, 0.5854636103265213, 0.05774662119625251, 0.004772448032748141, 0.02290775055719108, 0.0019089792130992564, 0.3202312629974003, 0.02290775055719108, 0.5688758055035784, 0.012847478359593103, 0.9860439640987707, 0.04919687227866412, 0.029102375150759058, 0.6693546284674584, 0.1832756720803755, 0.02979528884482475, 0.001039370541098538, 0.0339527710092189, 0.004503939011426998, 0.9903437636405036, 0.9693089414947064, 0.029372998227112312, 0.9978463975852473, 0.9957484013997339, 0.0030311975689489615, 0.9978910482466904, 0.10036571822542731, 0.8916210316770519, 0.007002259411076323, 0.9943835748561506, 0.9991254071118238, 0.0006939687705058671, 0.360169791892545, 0.030881610287511085, 0.09819658102658019, 0.08084736176393352, 0.4285257157873729, 0.0006939687705058671, 0.11554533673704026, 0.811082951997263, 0.035116719988708314, 0.02945273289375536, 0.005663987094952954, 0.0011327974189905908, 0.0011327974189905908, 0.0011327974189905908, 0.9955583409435687, 0.9996066249373076, 0.7962829458534938, 0.20347082641869246, 0.0037010738095762425, 0.9959253160314252, 0.993169170183106, 0.24533554822770634, 0.753754322640017, 0.9994792568660625, 0.9065621701897272, 0.09098707912488138, 0.012121423639057095, 0.1546186247912283, 0.06272131999279543, 0.06272131999279543, 0.24651592958966112, 0.09739422947195875, 0.18421744995636768, 0.17956620600184578, 0.008297208080978734, 0.08370961041698546, 0.0014750592143962194, 0.62819084293099, 0.017516328170955105, 0.00036876480359905486, 0.005715854455785351, 0.07338419591621193, 0.14418703820723044, 0.01641003376015794, 0.01936015218895038, 0.0011062944107971646, 0.9972510066396133, 0.13749220131769455, 0.18121091970903522, 0.011721685365794236, 0.13685859670332728, 0.00633604614367256, 0.12386970210879854, 0.4020221278160239, 0.04375701308893898, 0.010553161980273519, 0.9454088769157228, 0.9862886753448629, 0.009929080624277144, 0.0137163785321474, 0.6903910527847525, 0.006400976648335454, 0.031547670623939025, 0.19340093730327834, 0.04709289962703941, 0.01691686685631513, 0.9988755773022353, 0.9985067266472499, 0.07989906994119372, 0.009168745730956657, 0.05763211602315613, 0.8526933529789691, 0.09104029859704195, 0.10322979464350782, 0.08456462882235696, 0.07085144577008286, 0.423965909366141, 0.0007618435029041168, 0.027426366104548204, 0.19731746725216623, 0.0003809217514520584, 0.9953111950226881, 0.09988113455227632, 0.04006072605348752, 0.002436125232982349, 0.0002706805814424832, 0.05088794931118685, 0.27825963772287277, 0.28448529109604986, 0.012180626164911746, 0.23143189713332318, 0.9962641518537172, 0.5453766048113927, 0.08598890222686968, 0.16150637653212918, 0.020573276034222404, 0.03264621646149064, 0.04816856843940694, 0.012565713505932247, 0.026116973169192512, 0.03954503956278678, 0.0012319326966600242, 0.008623528876620169, 0.006406050022632126, 0.0061596634833001205, 0.0050509240563061, 0.006963017243466835, 0.0007329491835228248, 0.18653556720655892, 0.4969395464284752, 0.005130644284659773, 0.1781066515960464, 0.12570078497416445, 0.9989793002465067, 0.9990776840594505, 0.9951586297669093, 0.9984539684225101, 0.8942396863122507, 0.01328078742047897, 0.06345265100895509, 0.02951286093439771, 0.1939393915268357, 0.003310325105519856, 0.08903633042432715, 0.1719086072038932, 0.06301032614644692, 0.035043786461882616, 0.03778336585955422, 0.041778585814491974, 0.018606310075852985, 0.009131931325572017, 0.02237323174765144, 0.005136711370634259, 0.01084416844911677, 0.18960172414718898, 0.049540727441228186, 0.02225908260608179, 0.035842830452870164, 0.000570745707848251, 0.000570745707848251, 0.9986317510585732, 0.9994781381630224, 0.9977931523289982, 0.2672888817459006, 0.0009961076338356543, 0.7314750391133156, 0.9991927379122518, 0.9965245838857261, 0.09676051122042645, 0.0009486324629453573, 0.002845897388836072, 0.8983549424092534, 0.9991621593652504, 0.07560749770917859, 0.9224114720519788, 0.004206166585002335, 0.9947583973530522, 0.01030559410411919, 0.08859029060146496, 0.0008036472466514964, 0.00028364020470052816, 0.1464528923603727, 0.13397272335354946, 0.02869493404220343, 0.0718555185241338, 9.454673490017605e-05, 0.318480676511243, 0.1910789512332558, 9.454673490017605e-05, 0.008225565936315316, 0.0010400140839019365, 0.012151807499781958, 0.00015989220394449947, 0.02062609430884043, 0.00015989220394449947, 0.9667082650484436, 0.9932330885532779, 0.9991538261398898, 0.994365244976502, 0.9947651923335044, 0.1353995014210057, 0.8619334114849387, 0.06827152125017223, 0.9312235498523492, 0.997942955160897, 0.08636086667650406, 0.9083312584368016, 0.005067091667243861, 0.9940530164812283, 0.999652129305284, 0.9656815759683817, 0.021947308544735946, 0.011287187251578486, 0.027819597899981174, 0.0009935570678564704, 0.9707052552957717, 0.9962415430127038, 0.9960087938992118, 0.998881258490924, 0.10237513234040545, 0.028350036648112278, 0.011025014252043663, 0.03307504275613099, 0.07402509569229317, 0.017325022396068614, 0.0126000162880499, 0.056700073296224555, 0.6646508591946323, 0.7096515659086668, 0.022648454231127664, 0.08167169859103612, 0.00995159352579852, 0.08578959936033206, 0.08956434173218668, 0.00034315839744132826, 0.9974625413409077, 0.8823836068436133, 0.03849841216595171, 0.02155911081293296, 0.05697765000560854, 0.9961674105038194, 0.9976116235763974, 0.9945536703283118, 0.9935450073839127, 0.058577347249488834, 0.0009928363940591327, 0.009266473011218572, 0.4269196494454271, 0.504029942717353, 0.21412564804016201, 0.7854609051940522, 0.1232395649163383, 0.06250427694321464, 0.054838658072820394, 0.120880912956217, 0.15744001833809726, 0.4805753368747164, 0.9952103749514362, 0.9943245245602897, 0.02028770320354836, 0.022736219107424883, 0.7933191528559944, 0.15495607791675728, 0.008744699656701879, 0.9943903184538032, 0.9940552926352884, 0.9922277783941119, 0.010209902852811223, 0.05396662936485932, 0.7125053633711832, 0.18669536645140522, 0.03354682365923688, 0.002187836325602405, 0.16929540470777812, 0.10340746341610231, 0.32715193071908477, 0.012353988992189214, 0.3875492102364542, 0.004533484288412255, 0.8326499476383842, 0.02508527972921448, 0.003626787430729804, 0.022969653727955425, 0.03687233887908634, 0.021760724584378825, 0.0006044645717883007, 0.05228618545968801, 0.9995540076645111, 0.9894102791414525, 0.004873942261780554, 0.8640370503054883, 0.00105113996387529, 0.13349477541216181, 0.9987390748731663, 0.01748720284060227, 0.9203345624013741, 0.011000014690056265, 0.03864107724455662, 0.012410272983653221, 0.3127340419007121, 0.46179592112718987, 0.05992065616548238, 0.003698805936140888, 0.020343432648774883, 0.03828264143905819, 0.009801835730773353, 0.010541596918001531, 0.014980164041370595, 0.0016644626712633995, 0.032179611644425725, 0.009801835730773353, 0.014055462557335374, 0.004253626826562021, 0.006103029794632465, 0.9970153389581229, 0.9955521123054958, 0.7466555104663358, 0.2524012068680348, 0.9529415262690771, 0.04680579567228533, 0.9942825222268621, 0.9886418658100589, 0.9881117078502241, 0.0029153305277039953, 0.0868120646027412, 0.0029153305277039953, 0.08324888284665855, 0.1716805755203464, 0.23646569835821296, 0.027209751591903957, 0.29023735031364223, 0.09814946109936785, 0.9982259751633396, 0.04570273212781988, 0.9521402526629141, 0.7856462103006082, 0.21423033260258853, 0.9995422289897123, 0.9995794181293781, 0.9909975669677056, 0.9894947970487329, 0.9989720573818845, 0.04821811905721525, 0.5135093470217557, 0.004086281276035191, 0.341613114676542, 0.0029966062690924733, 0.07300822546516207, 0.016617543855876445, 0.9962251699602189, 0.21770234689512633, 0.755376515273322, 0.0010125690553261688, 0.02582051091081731, 0.9898330356285401, 0.5354123776468506, 0.46433580000290187, 0.9959951554351344, 0.9982578370410229, 0.9954923380460811, 0.9982987999455679, 0.9980232551452755, 0.9224492824268673, 0.07587714426542974, 0.9976353969866754, 0.9625355130401857, 0.03578198933234891, 0.9881734211073692, 0.010799709520299116, 0.014303664827438486, 0.9851649149898257, 0.997440873326562, 0.9987598680788431, 0.9949592042770955, 0.9986168824884332, 0.9981289044776035, 0.1252581329031019, 0.8021850639113546, 0.07195679975284576, 0.9969816825162982, 0.8866598020215207, 0.11142096627173093, 0.9975673860341604, 0.9960930408311798, 0.06854379058178943, 0.13072128482471296, 0.00021220987796219637, 0.20626800137925486, 0.4713181389540381, 0.12265730946214949, 0.00021220987796219637, 0.991274624993862, 0.9994695953291559, 0.9961570141770549, 0.012007559084362992, 0.9863352105012457, 0.023675495421032908, 0.9746412281658547, 0.07146709035888137, 0.7164282910566551, 0.01757387467841345, 0.19448421310777553, 0.09496022798397365, 0.18063086844777596, 0.0006881175940867656, 0.1238611669356178, 0.2083276016097683, 0.057113760309201546, 0.00877349932460626, 0.1539663116769138, 0.01221408729504009, 0.03819052647181549, 0.01720293985216914, 0.10149734512779793, 0.002236382180781988, 0.9976904478649052, 0.9984734971741599, 0.01560056090675928, 0.9834853604969496, 0.00065002337111497, 0.9971837007513279, 0.0268904094590824, 0.1381189213125596, 0.0048891653561968, 0.028723846467656203, 0.1381189213125596, 0.0562254015962632, 0.021390098433361, 0.1796768268402324, 0.3984669765300392, 0.006111456695246, 0.9989701616910851, 0.2242322281128408, 0.012293433558818026, 0.5900848108232652, 0.11555827545288945, 0.057533269055268364, 0.997407128961389, 0.47606961631756, 0.033974590666397235, 0.14919045604054873, 0.04529945422186298, 0.11840596778414185, 0.08485672410574333, 0.08645177531073851, 0.005582679217483114, 0.00010633674699967836, 0.9862346954137977, 0.0084293563710581, 0.9914938818727296, 0.9963944204518147, 0.5343568134209696, 0.19075548242321103, 0.00024146263597874814, 0.03525354485289723, 0.03114868004125851, 0.14584343213116388, 0.02438772623385356, 0.0004829252719574963, 0.00917558016719243, 0.02438772623385356, 0.0019317010878299851, 0.0019317010878299851, 0.002170383528470928, 0.10815744583546792, 0.00271297941058866, 0.8728559090333916, 0.013745762346982545, 0.6713084507648278, 0.05770897208329222, 0.07125291451100366, 0.019432613048455543, 0.028265618979571697, 0.04445946318661798, 0.0067719712138557195, 0.03209325488305537, 0.017371578331195105, 0.001766601186223231, 0.0005888670620744104, 0.010599607117339387, 0.02002148011052995, 0.008244138869041745, 0.005594237089706898, 0.001766601186223231, 0.0026499017793348467, 0.23854431620675726, 0.3816100915735887, 0.027746550482940217, 0.04355828336088971, 0.1187400324776784, 0.00775383054591754, 0.02090493529536592, 0.05146414979986446, 0.007221704920217317, 0.033827986205228484, 0.003800897326430167, 0.0005321256257002233, 0.03626056049414379, 0.006689579294517093, 0.00068416151875743, 0.0205248455627229, 0.9991106479631231, 0.1749081273320825, 0.7236263165392696, 0.023545324833164953, 0.07781169254388799, 0.19519484321455943, 0.8041424622005209, 0.9991452208119089, 0.9959442094988145, 0.043673963367869946, 0.9250145441314854, 0.030571774357508963, 0.9957569240482272, 0.9939457310114822, 0.0057675767756952545, 0.08265920671725212, 0.7754554392881194, 0.07005017518411197, 0.027319568321803666, 0.006304515766570077, 0.027319568321803666, 0.009106522773934556, 0.0014010035036822392, 0.9499572468907191, 0.016569021748093937, 0.006903759061705808, 0.004142255437023484, 0.016569021748093937, 0.004142255437023484, 0.9939167247746941, 0.8662010788447966, 0.004085854145494323, 0.10827513485559957, 0.020429270727471617, 0.9961824803218153, 0.9968128852531112, 0.9951553062936943, 0.11883105547319464, 0.36830009821339493, 0.11426063026268715, 0.001523475070169162, 0.007998244118388101, 0.3808687675422905, 0.0003808687675422905, 0.007998244118388101, 0.9957606277790313, 0.9979284450419434, 0.05341348430677852, 0.6452449684417915, 0.20231616933180732, 0.0891904407764132, 0.009574115111592377, 0.9934968803245965, 0.0034381431608016912, 3.472871879597668e-05, 0.12203671784906206, 0.0007293030947155103, 0.004966206787824666, 0.6590468965912495, 0.0005209307819396503, 0.03660406961095942, 0.0040285313803332945, 0.16846901487928287, 6.945743759195336e-05, 0.0379507277734547, 0.0891400815143936, 0.5772040921823111, 0.030890127257463127, 0.007501888048241045, 0.0057367379192431525, 0.10590900773987358, 0.04810034101519258, 0.0939942443691378, 0.003530300257995786, 0.028766791656765135, 0.6447145659545598, 0.00042304105377595784, 0.03722761273228429, 0.004653451591535536, 0.01776772425859023, 0.1374883424771863, 0.004230410537759579, 0.03384328430207663, 0.06980177387303305, 0.02157509374257385, 0.5002319142659878, 0.015397260066884376, 0.1852445552232911, 0.000358075815508939, 0.11911988795930704, 0.04810151788336747, 0.03437527828885814, 0.034613995499197435, 0.005132420022294792, 0.015755335882393317, 0.000358075815508939, 0.0038194753654286827, 0.02243941777189351, 0.015039184251375438, 0.9981965519128885, 0.00934883845705692, 0.02030954561360641, 0.45390222577710837, 0.06060626310092072, 0.09735686944935137, 0.061573384320616265, 0.06060626310092072, 0.08961989969178702, 0.027079394151475214, 0.005157979838376231, 0.0312702527701559, 0.01289494959594058, 0.03449399016914105, 0.02030954561360641, 0.0016118686994925724, 0.009671212196955433, 0.004190858618680688, 0.9988813997330208, 0.014024336103267069, 0.8788583958047362, 0.05259126038725151, 0.05375995506252376, 0.07374796395210145, 0.30948567531344306, 0.11325072691681089, 0.03666083757156488, 0.01520430085332342, 0.15985830336438175, 0.0287034464707601, 0.03282423829081972, 0.08539985806399417, 0.0009946738876005976, 0.007389006022175867, 0.006110139595260813, 0.029413927819046243, 0.06877459451409845, 0.0287034464707601, 0.0032682142021162493, 0.001993649403563537, 0.9968247017817684, 0.7199802101405332, 0.0006206725949487354, 0.033516320127231713, 0.02855093936764183, 0.0682739854443609, 0.0024826903797949417, 0.04282640905146275, 0.02358555860805195, 0.015516814873718386, 0.0490331350009501, 0.015516814873718386, 0.9951486493997826, 0.6921986593960429, 0.25048142170994403, 0.05699577260465792, 0.16512759441897096, 0.8343288981169058, 0.9945032822783058, 0.9953017642560822, 0.9910844798599565, 0.9034900824040044, 0.04467808099800022, 0.007255414862923112, 0.04429621705784637, 0.030143953898346423, 0.00969665649876878, 0.19319534089394752, 0.09285602581973147, 0.07346271282219391, 0.15472491021948445, 0.11361951853992114, 0.006429304852444517, 0.11351412009971713, 0.03119793830038651, 0.026665805371614143, 0.00484832824938439, 0.023187656844881863, 0.045005133967111616, 0.034676086827118785, 0.025401024089166044, 0.02139588336141372, 0.999660368890873, 0.9998221596401412, 0.9961707793023097, 0.9958158867166933, 0.0017110719936592896, 0.04756780142372825, 0.0003422143987318579, 0.07289166692988573, 0.017452934335324754, 0.042947907040848166, 0.0008555359968296448, 0.8161813409754811, 0.019970955926410242, 0.0057980194625062, 0.02512475100419353, 0.5524224098998962, 0.008374917001397844, 0.050571614200748516, 0.03639867773684447, 0.16782045222031833, 0.014172936463904042, 0.11918151117373854, 0.014071089686795487, 0.9849762780756841, 0.9953148049164783, 0.3351509301548701, 0.2589598522411457, 0.018561284206879806, 0.03652381731031188, 0.050594468241333665, 0.07768795567234371, 0.01601659201722693, 0.023800356362047494, 0.08771703665509328, 0.01377127537929792, 0.002395004413790943, 0.062419802534426444, 0.006735949913787027, 0.003891882172410282, 0.005239072155167688, 0.0005987511034477357, 0.01999520597196645, 0.979765092626356, 0.9990814354202237, 0.1436263856048302, 0.33393134653123024, 0.5219513422320988, 0.14374444445401602, 0.008810955439388021, 0.07476725044280692, 0.006545281183545388, 0.002769157423807664, 0.050348316796502986, 0.055383148476153284, 0.6449619381632032, 0.012587079199125746, 0.9958982632253972, 0.9990003141672124, 0.9957682191911057, 0.06421810893141068, 0.39876387641218825, 0.003669606224652039, 0.0012232020748840131, 0.5320929025745457, 0.0040551095096933824, 0.0010700983428357535, 0.0028160482706204044, 0.001971233789434283, 0.7314966987763561, 0.25671096034975605, 0.0018022708931970588, 0.006261689930771051, 0.9476024095233525, 0.014610609838465788, 0.020872299769236838, 0.008348919907694735, 0.21830803809279792, 0.21091915064965708, 0.5702877672024167, 0.996775566646824, 0.9890562382203384, 0.9997918600766742, 0.992014394792135, 0.24675258301412256, 0.08539170533901616, 0.020611790943900452, 0.06360209776974997, 0.028267599008777764, 0.007655808064877311, 0.00235563325073148, 0.09952550484340504, 0.00117781662536574, 0.44403686776288404, 0.991032383476949, 0.998458715824104, 0.001640947961513535, 0.07876550215264969, 0.9189308584475796, 0.9945287525783292, 0.11104081547140067, 0.009358515045226147, 0.13679707644369699, 0.14713213218929455, 0.1107153019046102, 0.1883502875841384, 0.06542822692488541, 0.070636443993533, 0.04036368228201886, 0.008219217561459486, 0.015461894422547546, 0.0025227301426261786, 0.010253677353899952, 0.015543272814245165, 0.03743406018090459, 0.01590947557688445, 0.010538501724841618, 0.0028482437094166533, 0.001464811050557136, 0.011841131865881453, 0.9851821712413369, 0.9956027546292304, 0.9919310356678152, 0.9914452585278443, 0.9955250850777355, 0.999676150680429, 0.9969128973414403, 0.9954764399873375, 0.6194853653605492, 0.36082759276741805, 0.0015519466355587873, 0.00439718213408323, 0.0031038932711175745, 0.0010346310903725248, 0.0002586577725931312, 0.00879436426816646, 0.995800115478637, 0.9980646449485834, 0.9991184141828663, 0.9965026673507361, 0.9967183265069386, 0.9978913759902931, 0.01265291921899593, 0.03642507047892767, 0.010735810246420788, 0.027606369205082026, 0.031440587150232305, 0.12461208321738415, 0.01265291921899593, 0.7338693147017639, 0.002683952561605197, 0.007285014095785535, 0.9950487647738515, 0.9991882748683528, 0.9962077456250827, 0.900282349755684, 0.07690854244144034, 0.0015080106361066734, 0.01809612763328008, 0.9960561365971718, 0.9965926247413969, 0.9979873597898848, 0.10899685499560137, 0.8908513902713118, 0.9960026360898886, 0.9971399935395495, 0.5912927370174498, 0.11335538102920734, 0.04393431256164138, 0.03786603734594506, 0.06359552426049747, 0.1439394881163168, 0.005825544207068471, 0.99888628067689, 0.9903167613132593, 0.004305725049188084, 0.9959268633663924, 0.1058430002808697, 0.8937365376413686, 0.00021959128688977115, 0.32325950732858444, 0.08482696291601152, 0.5909229646378911, 0.996651112652835, 0.19353643094163323, 0.8049356105072474, 0.8931951874434867, 0.06793629231178638, 0.028956452460761412, 0.00890967768023428, 0.9967813719015447, 0.09507763297153035, 0.7810993231814956, 0.12286955645551616, 0.00012783604190137716, 0.71754370319243, 0.24097093898409594, 0.041291041534144826, 0.001750915879805428, 0.000812925229909663, 0.39208009165642976, 0.016133439178207157, 0.39039170848661736, 0.0681606538924256, 0.020448196167727677, 0.10843171912795042, 0.001750915879805428, 0.0019351894118897807, 0.996622547123237, 0.9967351684250861, 0.9239739537801543, 0.047383279681033556, 0.026060803824568456, 0.9913122668536236, 0.004282919901575399, 0.07966231016930242, 0.18587872372837233, 0.728952967248133, 0.40123752996109413, 0.16345473210801983, 0.19120908873859238, 0.01831675850065955, 0.22577638603099562, 0.9385053154176236, 0.007177860920976089, 0.025122513223416312, 0.021533582762928268, 0.005383395690732067, 0.08919570707800356, 0.039272736698523956, 0.6110571574448304, 0.07188907734645063, 0.18771036862684332, 0.9978028818362168, 0.0012596085284433316, 0.0957302481616932, 0.9018797063654255, 0.07457977409381758, 0.9253028859828617, 0.0033802452824679688, 0.9964963092715572, 0.034732990424982686, 0.0026168691416082845, 0.18579770905418821, 0.12489602721312268, 0.6517193648578087, 0.020358625843135334, 0.0015834486766883038, 0.0018096556305009187, 0.27732972537426576, 0.04569380467014819, 0.3865876840657587, 0.0717076043585989, 0.001131034769063074, 0.007464829475816289, 0.004071725168627067, 0.008595864244879363, 0.17123866403614943, 0.002488276491938763, 0.4022351294508079, 0.5949451392151939, 0.00044250289268515724, 0.002212514463425786, 0.9977668594505931, 0.008423998680439582, 0.9884158451715777, 0.9975128531928967, 0.40306226285838864, 0.016929335437304974, 0.07456111564940701, 0.18370129942607524, 0.010085561537117857, 0.1545252106936986, 0.15632620382532678, 0.9942182858668348, 0.9941880468174724, 0.9973117175951712, 0.0001701807980337812, 0.14056933917590328, 0.519561976397134, 0.1909428553939025, 0.148567836683491, 0.02787344404892974, 0.01946716727226839, 0.952121453861854, 0.4269300007953234, 0.5727109766766534, 0.22827707555493126, 0.10835766955080954, 0.003764286287124897, 0.4619317029486124, 0.062379601329498297, 0.050817864876186114, 0.00026887759193749267, 0.0059153070226248385, 0.037642862871248975, 0.00026887759193749267, 0.025543371234061803, 0.001613265551624956, 0.013712757188812126, 0.9952939801014749, 0.4096593910032156, 0.009054066250433387, 0.5794602400277368, 0.0017811277869705024, 0.017628718808187015, 0.3151133486963429, 0.2485649351954369, 0.41824135372423693, 0.855060025569622, 0.1431728414907274, 0.9969765100144007, 0.9996623139525227, 0.25801052329276924, 0.6678338683020022, 0.0014254725043799407, 0.07234272959728198, 0.0801763298456958, 0.02958888363353059, 0.11024245353783171, 0.01145376140652797, 0.7287455694903421, 0.039610924864242565, 0.99454667020209, 0.9965153250448087, 0.9948225919205246, 0.7561291771177577, 0.005885909635612237, 0.14567626348140286, 0.002732743759391396, 0.020810894783057553, 0.02144152795830172, 0.04729748814331262, 0.9950548026711434, 0.9984548595213948, 0.000934008287672025, 0.6745031907337755, 0.15792160442571496, 0.16737465821176128, 0.9953277920005766, 0.9956129354795759, 0.25199719540446713, 0.029767026688895578, 0.5337614174978299, 0.017496649275152362, 0.06862322183241576, 0.008407480820527759, 0.014769898738764982, 0.03340269407074542, 0.0070441055523340675, 0.008861939243258989, 0.007498563975065298, 0.017042190852421132, 0.0002272292113656151, 0.0009089168454624604, 0.49949544453587424, 0.008670123434566766, 0.24163955127820338, 0.1872104430500898, 0.0012844627310469282, 0.06181476893163342, 0.9960085414559167, 0.993098396211914, 0.9985368160203475, 0.9940660172249798, 0.9979346181720177, 0.9972035750350753, 0.9043698160787726, 0.09522013244707939, 0.0518086637701411, 0.05707006174887045, 5.3687734476830154e-05, 5.3687734476830154e-05, 0.8894446970776452, 5.3687734476830154e-05, 0.0015032565653512442, 0.07651120748655685, 0.4324546510109735, 0.059622445967785105, 0.43015163807659557, 0.0012794516302099808, 0.05023066892382544, 0.9486746789931577, 0.059338547548048015, 0.01861601491703467, 0.8284126638080429, 0.09308007458517335, 0.9964683165198458, 0.9947797925210479, 0.9929846118275821, 0.9339294150642237, 0.0025604644689903324, 0.06273137949026314, 0.07057610662737422, 0.8525593680586805, 0.07622219515756415, 0.998000991555635, 0.9985157616978135, 0.17543898934734525, 0.8228775372234912, 0.001248676080764023, 0.9956358626347872, 0.30769771238905025, 0.5783864429983092, 0.08273735717262246, 0.004650343260287913, 0.026545709444143504, 0.06727554864300934, 0.9308739179583743, 0.9989950226768144, 0.06826105771687227, 0.10921769234699563, 0.8136718079851174, 0.006826105771687227, 0.9931965715271507, 0.005172898810037243, 0.0010327067700283917, 0.10946691762300953, 0.0072289473901987426, 0.7951842129218617, 0.0867473686823849, 0.0007249880287396106, 0.1806428504942863, 0.7835912277293958, 0.00024166267624653687, 0.03250362995515921, 0.00048332535249307374, 0.0018124700718490266, 0.009956586478834255, 0.9899691698955202, 0.9959054326554415, 0.9951305313351885, 0.5229063131943921, 0.20211536236865962, 0.09674918570116506, 0.010067375584424582, 0.017831199128345236, 0.028581108650696907, 0.01220029414044674, 0.023035520405039298, 0.0273866742593245, 0.007081289605993562, 0.001450384618095067, 0.016636764736972825, 0.013735995500782692, 0.001450384618095067, 0.002644819009467475, 0.010152692326665469, 0.00597217195686204, 0.6880369227835672, 0.042887757040851016, 0.26868996505080167, 0.01246390827347462, 0.9864293119292772, 0.9983840380244136, 0.999137438246804, 0.8983782625606622, 0.00824560468259349, 0.039657432044854404, 0.053007458673815296, 0.09918956106040062, 0.8982165807136279, 0.7902284376338556, 0.051041992469735425, 0.10454383999825329, 0.0006149637646956076, 0.0012299275293912151, 0.051656956234431034, 0.9975360641615796, 0.9983199445187837, 0.9938697304755327, 0.9890829271409339, 0.998062767488128, 0.9944355720317659, 0.020971500819389016, 0.9780345382133241, 0.013426384149896341, 0.29376928519973194, 0.0010741107319917073, 0.004296442927966829, 0.0961329105132578, 0.022556325371825853, 0.48227571866427654, 0.08539180319334072, 0.013090707312146467, 0.8636375970733429, 0.12305264873417679, 0.9958716450560096, 0.0863188774913838, 0.9135414534504785, 0.9968281522204206, 0.002891274129534155, 0.13836811905627744, 0.01899980142265302, 0.0016521566454480888, 0.01693460561584291, 0.016108527293118867, 0.6943188302495593, 0.11069449524502195, 0.0830963550713098, 0.9153189414673065, 0.08730001479672163, 0.0412744967916473, 0.5184551899152243, 0.16450410951491082, 0.01900408485370811, 0.14698471879039865, 0.006829592994301352, 0.01573775776947703, 0.1676628027659346, 0.2814170273054285, 0.0351474430727455, 0.0208984796648757, 0.03633485669006798, 0.07528202333824542, 0.07765685057289039, 0.013773997960940804, 0.01472392885479879, 0.2742925456014936, 0.0026123099581094626, 0.24139849534030078, 0.22135156147121005, 0.03842328991575722, 0.0008352889112121135, 0.0279821785256058, 0.0008352889112121135, 0.03717035654893905, 0.07642893537590838, 0.010023466934545361, 0.021299867235908893, 0.32367445309469395, 0.999752038089361, 0.04525947765390306, 0.9545349557979417, 0.19297862641005548, 0.057790390796594156, 0.00132682019686058, 0.03833036124263898, 0.00855061904643485, 0.02506215927403318, 0.6757937536009888, 0.00029484893263568445, 0.4975332101848133, 0.11969796034829176, 0.02992449008707294, 0.011067433833749914, 0.004781748415975573, 0.12139470978621858, 0.011645871142134057, 0.04843448395536548, 0.04642923461963379, 0.021016555537957157, 0.000925499693414627, 0.039102362046767994, 0.019782555946737654, 0.005784373083841419, 0.001581061976249988, 0.007056935162286532, 0.0001928124361280473, 0.01357399550341453, 0.006442187743281625, 0.04942713009931591, 0.09663281614922437, 0.03287737193123036, 0.00022214440494074567, 0.10463001472709121, 0.42918299034552065, 0.00022214440494074567, 0.0006664332148222371, 0.06453294963528662, 0.19937460343431923, 0.0005553610123518642, 0.014550458523618841, 0.0006664332148222371, 0.9988474095478502, 0.16054247017324305, 0.04644180121017456, 0.0037719229409278834, 0.02781793168934314, 0.388979553283188, 0.1815237915321544, 0.0009429807352319708, 0.04384860418828664, 0.14121136510098764, 0.004714903676159854, 0.9966770279262471, 0.9983095394794755, 0.17347801742239094, 0.824020582756357, 0.0014456501451865912, 0.06826094698992523, 0.6565224837884529, 0.27478292036708757, 0.059038962819922707, 0.003992973330816029, 0.06769040503669077, 0.7039041557467113, 0.021485999351533867, 0.0017112742846354407, 0.02452826474644132, 0.006464813964178332, 0.09630671390753898, 0.014926114593764677, 0.998088144299005, 0.9966388661214727, 0.9986025276216586, 0.08500537275097678, 0.0005199105367032219, 0.1902872564333792, 0.006758836977141885, 0.026775392640215927, 0.0002599552683516109, 0.37823491545159393, 0.07226756460174784, 0.016117226637799877, 0.1328371421276732, 0.06108948806262857, 0.029374945323732037, 0.06607157614682896, 0.0014057782158899779, 0.9306251789191653, 0.9973919948341673, 0.05912129963020205, 0.8179796250206037, 0.12269694375309055, 0.8284706261688096, 0.10014480096546051, 0.07040482976965708, 0.9936461597117133, 0.08370719673704352, 0.12519365827777124, 0.023129620151025185, 0.07306022873101606, 0.5914574295762154, 0.03451086181264075, 0.008077010211469112, 0.035979409123816954, 0.009912694350439365, 0.014685473111762022, 0.00036713682779405054, 0.9972816650149062, 0.9953755083893561, 0.0612334636981832, 0.25110347330136584, 0.0032390497170323605, 0.583800151379404, 0.05321295963696021, 0.009100187300233775, 0.038097394290809196, 0.8774895110663165, 0.12243026445364195, 0.30659315014897076, 0.23065998658366163, 0.0010401803228124538, 0.061630684126637886, 0.06891194638632506, 0.0007801352421093403, 0.01066184830882765, 0.30711324031037696, 0.012222118793046332, 0.9977382116186957, 0.7261948355129502, 0.17521925786108117, 0.002506713274121333, 0.0002506713274121333, 0.024064447431564797, 0.032837943890989464, 0.0022560419467091996, 0.002506713274121333, 0.020053706192970665, 0.0037600699111819996, 0.003509398583769866, 0.006768125840127599, 0.21344660554206707, 0.11199118060433866, 0.04175280949360361, 0.5634678215772301, 0.020681298160383096, 0.024973643061594684, 0.023412790370245018, 0.6312610236234341, 0.274015941288874, 0.06562297659371398, 0.00768268994267871, 0.014725155723467527, 0.0003201120809449463, 0.003841344971339355, 0.0022407845666146237, 0.9654812229619413, 0.004827406114809706, 0.007241109172214559, 0.02172332751664368, 0.9917303483536547, 0.9981375415899858, 0.010284760120060864, 0.448244128565986, 0.003428253373353621, 0.5373787162731801, 0.9987585895724767, 0.04837980015842534, 0.00466822633107613, 0.2764155833612957, 0.06323324757548576, 0.040457961535993126, 0.19238750940192534, 0.10128636524395482, 0.1618318461439725, 0.012872987761452358, 0.06351617038342977, 0.03479950537711297, 0.9969281464182672, 0.9725521465643631, 0.024400949913801224, 0.9951769454203864, 0.30780165592557646, 0.24502975391971576, 0.08178103040031434, 0.033840426372543864, 0.04052495503872537, 0.017337996227908277, 0.08104991007745074, 0.024753645216953384, 0.04710503794449779, 0.000835566083272688, 0.014309069176044782, 0.000417783041636344, 0.06214522744340617, 0.005013396499636128, 0.010340130280499514, 0.024126970654498866, 0.001671132166545376, 0.000417783041636344, 0.001253349124909032, 0.39163286257944785, 0.36454513388132187, 0.04809970516489663, 0.004556814173516523, 0.00025315634297314016, 0.02658141601217972, 0.009873097375952466, 0.0005063126859462803, 0.13189445468900604, 0.020252507437851213, 0.0017720944008119811, 0.9998828544472771, 0.9969151103731305, 0.9965737473814203, 0.010526183569937666, 0.9894612555741407, 0.9941348918961903, 0.9990285027051408, 0.02049039430253581, 0.9784163279460849, 0.9987972933801389, 0.9992400732416281, 0.9971105451995632, 0.002714457019599537, 0.9995005560416024, 0.0004675005285439741, 0.07667008668121175, 0.04581505179730946, 0.0037400042283517927, 0.09256510465170686, 0.08228009302373944, 0.0004675005285439741, 0.6975107885876093, 0.9987250017840327, 0.7997460784233381, 0.060697523871904795, 0.009554239868725754, 0.03990300180467815, 0.010678268088575842, 0.035406888925277796, 0.00899222575880071, 0.018546465627526463, 0.01686042329775133, 0.5053092632069636, 0.0010397309942530115, 0.006238385965518068, 0.0644633216436867, 0.42213078366672263, 0.15043148361031586, 0.60538812411717, 0.05577796583303846, 0.00507072416663986, 0.006760965555519814, 0.018029241481386172, 0.003943896574053225, 0.0022536551851732715, 0.0678913624533448, 0.006197551759226496, 0.003380482777759907, 0.02084631046285276, 0.0056341379629331785, 0.03408653467574573, 0.013803638009186287, 0.9620874328320782, 0.03407939135372484, 0.12192314702555952, 0.0010695012896978905, 0.09625511607281015, 0.7358168873121487, 0.0449190541673114, 0.22534166220878576, 0.026727139478517573, 0.7476242960550467, 0.9956356242475826, 0.9990645987166785, 0.9962202406421173, 0.29127932685923846, 0.10506001694863913, 0.5428387455103989, 0.021493456822553013, 0.038860169935175846, 0.0003438953091608482, 0.1810846799023887, 0.0037414190062477, 0.01571395982624034, 0.522152436511929, 0.05118261200546854, 0.07430458146407933, 0.004190389286997424, 0.02409473840023519, 7.4828380124954e-05, 0.02858444120773243, 0.04527116997559717, 0.0008231121813744941, 0.0476656781395957, 0.000897940561499448, 0.0036946531392021784, 0.993861694445386, 0.004072726425844646, 0.8399998253304581, 0.018836359719531483, 0.025454540161529034, 0.0005090908032305807, 0.04327271827459936, 0.03563635622614065, 0.031563629800296, 0.9684482292333786, 0.03107985331300958, 0.2460945850689557, 0.14695362365546213, 0.061875209960194584, 0.011250038174580833, 0.5322674311348556, 0.000703127385911302, 0.9957972101739829, 0.923070357377072, 0.003638910738674397, 0.04002801812541837, 0.031537226401844774, 0.9988656569614551, 0.9991689280673289, 0.9909103030674384, 0.9987084648869311, 0.9981333847908059, 0.00981637667321795, 0.7238286167988603, 0.026349221596532392, 0.012916285096339407, 0.04236541511599325, 0.023249313173410932, 0.028415827211946694, 0.05838160863545412, 0.0005166514038535763, 0.07439780215491498, 0.00013371636856624984, 0.02674327371324997, 0.003877774688421246, 0.9691762393681789, 0.019602325997891693, 0.005574973448941674, 0.02571681300640837, 0.013847514695758352, 0.8720337501263928, 0.029133732217050037, 0.03380951640003338, 0.9983850577430726, 0.9942217784971891, 0.8692697084614958, 0.130333789404266, 0.9964241779861392, 0.9932892974421749, 0.0016312075453293311, 0.9966678101962213, 0.9913106453899222, 0.993626957482453, 0.9954436535937748, 0.9974224503572442, 0.6572560175654356, 0.25249337507378045, 0.030632294031330255, 0.008029824648989485, 0.0023792073034042916, 0.013977842907500213, 0.01784405477553219, 0.0059480182585107295, 0.010706432865319313, 0.0005948018258510729, 0.9826751812167704, 0.013840495510095358, 0.999525563228913, 0.9978518971611342, 0.9968821534250714, 0.9951740586640616, 0.9998256656895241, 0.9929753462863669, 0.9951448227756997, 0.005259350272810063, 0.9940172015611018, 0.010364924023144755, 0.01775325448066845, 0.023440674329265828, 0.7257041419897197, 0.028490252699515838, 0.011374839697194756, 5.3153456528947456e-05, 0.059478717855892205, 0.07234185433589749, 0.039546171657536905, 0.011374839697194756, 0.9992731963303905, 0.5658545484474717, 0.083724108511103, 0.05827714059890988, 0.010823921562651159, 0.04078683025926165, 0.08902854689279958, 0.03161158549092159, 0.012974369555230857, 0.01576995194558447, 0.01591331514508978, 7.168159975265667e-05, 0.025375286312440463, 0.02257970392208685, 0.015124817547810558, 0.004802667183427997, 0.00021504479925797, 0.007168159975265667, 0.08217154043464661, 0.06364117456953222, 0.17284882257787032, 0.06288173334555212, 0.2067199011673827, 0.001670770692756216, 0.34569764515574064, 0.0028858766511243726, 0.010024624156537295, 0.0004556647343880589, 0.050882562006666576, 0.9956967240904762, 0.036106484708467716, 0.027770947602625936, 0.09092539965453944, 0.5370042195686948, 0.06472799732189384, 0.0959012049677205, 0.012290664406062628, 0.0243261593088852, 0.0088884043628619, 0.00017011300216003637, 0.02334800954646499, 0.01969058000002421, 0.006464294082081382, 0.01960552349894419, 0.03147090539960673, 0.00029769775378006363, 0.0009781497624202092, 0.8470743457156065, 0.15221968275754658, 0.8770144155805666, 0.020684302254258647, 0.022752732479684512, 0.027923808043249173, 0.024821162705110374, 0.0020684302254258646, 0.024821162705110374, 0.999495583993061, 0.25497245190280277, 0.08781913068865253, 0.0021212350407887083, 0.653552516067001, 0.001272741024473225, 0.9991339189039521, 0.999286627570351, 0.9972307323135106, 0.995191151672765, 0.9980482763394873, 0.9960804230147023, 0.9993475660248098, 0.9989256481585067, 0.9961363288812913, 0.5686636279085681, 0.3678607937313301, 0.014581118664322257, 0.022496583082097198, 0.026246013595780063, 0.0011408900060486502, 0.7347331638953307, 0.006845340036291901, 0.23730512125811926, 0.009127120048389201, 0.011408900060486503, 0.21253885261814104, 0.022596057072911877, 0.00016989516596174344, 0.001189266161732204, 0.18025877108540977, 0.0003397903319234869, 0.08137978449567511, 0.018008887591944803, 0.011043185787513322, 0.1072038497218601, 0.36527460681774837, 0.002905515084677287, 0.026149635762095582, 0.9711684170533832, 0.9983668811375063, 0.999269987067714, 0.04493219626602108, 0.17034566088629044, 0.4240714414988305, 0.25601434748517277, 0.07872670041856325, 0.001983424622948299, 7.628556242108843e-05, 0.010527407614110203, 0.004882275994949659, 0.008009984054214284, 0.0003051422496843537, 0.9944153391067768, 0.9987517302721124, 0.994344510201092, 0.09670266020029557, 0.017706120881744256, 0.8853060440872129, 0.9917899135311928, 0.9990591193742646, 0.2728276535766509, 0.4678031300807279, 0.08770132437345549, 0.027038105010700513, 0.04723826699085264, 0.0064615424967567345, 0.0018192692466596633, 0.01424048686178426, 0.009660947033985798, 0.015056021351666178, 0.037765520223762665, 0.0019447360912568813, 0.00809261147652057, 0.0022584032027499266, 0.00012546684459721814, 0.9955813718784731, 0.9968150980024472, 0.9982169445045774, 0.9989847216299104, 0.9905493644268907, 0.9940390406651123, 0.08153377450433003, 0.0039579502186567975, 0.9134949104659887, 0.9733107093039154, 0.025229063406240645, 0.9949569376800459, 0.17567466143471594, 0.20509386311038608, 0.11095241774824165, 0.03530304201080416, 0.0689249867829986, 0.030259750294974998, 0.0006724388954438888, 0.03311761560061152, 0.0658990117535011, 0.001681097238609722, 0.010422802879380277, 0.2582165358504533, 0.0036984139249413885, 0.9975276940120796, 0.26417231221799864, 0.10320107313824152, 0.01878932581592984, 0.1904171974480054, 0.017667575020948956, 0.051039661171630314, 0.006169629372394873, 0.2193022804187632, 0.003926127782433101, 0.00925444405859231, 0.054404913556572974, 0.06141585602520351, 0.0006062290653621893, 0.5795549864862529, 0.41688352061406553, 0.0028290689716902167, 0.9962224865010685, 0.002516820119230917, 0.0038720309526629492, 0.04452835595562392, 0.030008239883137857, 0.2071536559674678, 0.24935879335149394, 0.00019360154763314747, 0.0015488123810651797, 0.22380338906391847, 0.16127008917841185, 0.07550460357692751, 0.9965161851813352, 0.7417730704290554, 0.23954809624100898, 0.01850302536482276, 0.9952867212306167, 0.0010861832321627089, 0.003041313050055585, 0.8869772273840681, 0.05452639825456799, 0.04040601623645277, 0.013685908725250133, 0.9986716820012285, 0.9984269947907943, 0.00012420958814356582, 0.9754178956914225, 0.024345079276138902, 0.9960085970519569, 0.9991337050717325, 0.9931789156689831, 0.0446320630138198, 0.9042125358725716, 0.049591181126466446, 0.9678741058508635, 0.03188732519276101, 0.8313385090151975, 0.1628917078578001, 0.005063990917859071, 0.039888758578775635, 0.007914436225947548, 0.31056247750618177, 0.5698394082682233, 0.04400426541626836, 0.006964703878833842, 0.020577534187463623, 0.9890084771484648, 0.093436338583747, 0.03168710612840116, 0.0016249798014564697, 0.10074874769030112, 0.7596780571808996, 0.012187348510923523, 0.9998309843563233, 0.995284276518321, 0.030154237657063727, 0.08300030062171582, 0.6343050497054061, 0.06365894616491231, 0.046145121263082366, 0.14269959941751875, 0.05410928083215954, 0.7691247775428391, 0.12423049170648874, 0.049692196682595495, 0.002208542074782022, 0.9986510747438652, 0.9930375770694847, 0.03139004804171805, 0.9671528315556371, 0.0008483796768031904, 0.9917406388398045, 0.9942028850126114, 0.9979483004523642, 0.03698803397356747, 0.9288106308918054, 0.034052475721697034, 0.9976862313672757, 0.989879183938335, 0.9991906901997173, 0.1326165310396967, 0.14445371005836857, 0.6071068425508658, 0.11556296804669487, 0.987620864534907, 0.9953612426270361, 0.938009259471888, 0.060684517710750605, 0.0018488916771225354, 0.9974770598076078, 0.005215520989568209, 0.32162379435670624, 0.672802207654299, 0.013760438418880533, 0.983871346949958, 0.9914457649657219, 0.019090835010136066, 0.9679053350138985, 0.01145450100608164, 0.012292737865578699, 0.9871068506059695, 0.7274014074272273, 0.12402696808667008, 0.14749152961658063, 0.9988942403145831, 0.9992115476948948, 0.11634575009091262, 0.05142066633482299, 0.6923610931749399, 0.13919937957305617, 0.9983365856022776, 0.9994797263055859, 0.9978123227419261, 0.998481396460819, 0.15897851193375645, 0.31652317032132343, 0.027422449070873434, 0.0068108043443999376, 0.00035846338654736513, 0.005914645878031525, 0.01469699884844197, 0.03154477801616813, 0.013083913608978828, 0.0005376950798210477, 0.0781450182673256, 0.34233253415273374, 0.0035846338654736513, 0.22920702217404812, 0.009701884536467646, 0.7306731791527196, 0.0024254711341169114, 0.026680182475286023, 0.0006063677835292278, 0.9969777418337792, 0.9984297534287432, 0.99598402206612, 0.8675543347039063, 0.09479749592052006, 0.037290010243616896, 0.9912586126786648, 0.0018684048513689753, 0.13078833959582828, 0.8669398510352045, 0.13979941737310964, 0.7569943683763739, 0.10257728147810212, 0.5563983455545961, 0.12030234498477753, 0.072656284668438, 0.009339260992239308, 0.004115606538952915, 0.0634753162353892, 0.013929745208763713, 0.03846509188329071, 0.05112849661853045, 0.006648287486000863, 0.0389399695608622, 0.020578032694764575, 0.0011080479143334772, 0.0003165851183809935, 0.0011080479143334772, 0.001266340473523974, 0.09488989478631732, 0.08884821609205742, 0.015281893167833877, 0.00035539286436822966, 0.41278881196369877, 0.014926500303465647, 0.0008884821609205742, 0.17094396776111848, 0.006397071558628134, 0.13984709212889837, 0.0010661785931046892, 0.03518389357245474, 0.014571107439097416, 0.0035539286436822967, 0.00017769643218411483, 0.9962722475902889, 0.998924112246326, 0.9935105016617056, 0.9957019062957453, 0.003874326483641032, 0.9905990098562794, 0.005931730597941793, 0.99221198739438, 0.9981536908680613, 0.9954553365786925, 0.07912491117649478, 0.8318808229096344, 0.07484788895073831, 0.011761811120830306, 0.9897937307314271, 0.9974724989865157, 0.0016948523642590935, 0.06488863337449101, 0.19975045721625032, 0.03728675201370006, 0.6963421999441647, 0.9935911409990025, 0.9674940317342325, 0.030754777167710703, 0.9817439805898782, 0.017912521751113568, 0.9980808320106057, 0.9992620162568754, 0.0006476098614756159, 0.2549730023493891, 0.12311749901660912, 0.32468067723120125, 0.04329730228574531, 0.04496635928995772, 0.04241368387175051, 0.021010482288320857, 0.023955877001636865, 0.004810811365082813, 0.005694429779077615, 0.02267953929253326, 0.006970767488181219, 0.04241368387175051, 0.007658026254621621, 0.021894100702315657, 0.009228903435056824, 0.0002945394713316008, 0.003281238886553212, 0.9942153826256231, 0.539493560892141, 0.029345727789954847, 0.04019088806015555, 0.04614509369869711, 0.31940060246747953, 0.003827703624776719, 0.00021265020137648438, 0.02126502013764844, 0.2960687762837496, 0.05513304191794164, 0.6485729498063371, 0.10706137406829361, 0.8926703534383928, 0.3308561499057994, 0.13439503873573833, 0.1221773079415803, 0.3789940092347821, 0.03323222776010984, 0.0905015054206239, 0.860558174350494, 0.04683849841944571, 0.0015877457091337528, 0.9903247686787837, 0.024100066657759725, 0.38725932799143264, 0.0009949568803662271, 0.004311479814920318, 0.1311132066793717, 0.0021004645252175906, 0.44994161145450495, 0.06118390866330277, 0.937643400265115, 0.03027011366752526, 0.9686436373608083, 0.006030300586909751, 0.004079320985262479, 0.060303005869097516, 0.17576552593022246, 0.0008868089098396694, 0.32758721129477386, 0.0019509796016472726, 0.2188644389484304, 0.10233774819549785, 0.024121202347639006, 0.0010641706918076033, 0.0759108426822757, 0.0008868089098396694, 0.8547563478819542, 0.10391889881149717, 0.040256870710760166, 0.9985050776221183, 0.010410369001917111, 0.9673635195627593, 0.020820738003834223, 0.9987100654016572, 0.9476038865239951, 0.050799383607471896, 0.9995259748548123, 0.9953132290582243, 0.9973467595180975, 0.0007013279293417621, 0.0019286518056898458, 0.9944167678281198, 0.9997919725605562, 0.0005165833634439903, 0.8830992598075015, 0.11597296509317583, 0.995205853388959, 0.049012262229319634, 0.04790672247978611, 0.005527698747667628, 0.6526369654746246, 0.2445699601468055, 0.000245675499896339, 0.9987326915014271, 0.004449008726372118, 0.030698160211967612, 0.9645450918774751, 0.26258193729015605, 0.5949800048036221, 0.06065517390947784, 0.018225481508571242, 0.005496573788299264, 0.008968094075646168, 0.0013500356673015737, 0.005496573788299264, 0.009835974147482893, 0.006075160502857081, 0.00028929335727890864, 0.0014464667863945432, 0.011186009814784468, 0.004628693716462538, 0.00414653812099769, 0.0014464667863945432, 0.0032786580491609646, 0.1214386411876981, 0.8594119222514018, 0.009964196200016253, 0.009341433937515239, 0.9956088517732217, 0.9950184287743576, 0.9944907249141226, 0.9983418655260125, 0.11818603522514105, 0.19309267726924453, 0.688031378775469, 0.9974569696667094, 0.9978968977040689, 0.009580686237764783, 0.03321304562425125, 0.9574299113606274, 0.006742890713166856, 0.05057168034875142, 0.07979087343914112, 0.28320140995300797, 0.0028095377971528567, 0.13429590670390654, 0.44222124927185963, 0.9937621534327675, 0.9984177650449501, 0.9970154931930321, 0.9996125345500213, 0.9993127529749901, 0.18362880694218808, 0.2395225668967664, 0.0594548582342329, 0.06828018875337685, 0.11581310926876617, 0.059764518954202865, 0.05388096527477357, 0.01749583067830291, 0.0054190625994743535, 0.00015483035998498153, 0.0007741517999249076, 0.16350086014414048, 0.032049884516891176, 0.9965488286358117, 0.5768628104820352, 0.329368547104098, 0.052867394634606636, 0.0058481631232971945, 0.013567738446049492, 0.0014035591495913267, 0.0011696326246594389, 0.01052669362193495, 0.0014035591495913267, 0.0009357060997275511, 0.005614236598365307, 0.9353923783261291, 0.06216215172420478, 0.021474697955284745, 0.008869983938052394, 0.969629296807096, 0.997356509367368, 0.9977579518942102, 0.03813154106412028, 0.9613770353135781, 0.9944041526375309, 0.9961406829183365, 0.1055100091578587, 0.0019359634707863981, 0.8915111782971363, 0.06304510129375968, 0.019989910166314045, 0.8933952158944969, 0.021527595563722815, 0.9812826350694137, 0.017215484825779188, 0.08421320280361741, 0.011228427040482322, 0.9020169722520798, 0.9977947226120297, 0.9929057624725284, 0.9941513650479293, 0.8889156245194172, 0.11074283282056284, 0.9776434843993859, 0.021118093055641118, 0.0005043619450706586, 0.9238649928831788, 0.0752760203017958, 0.00012609048626766465, 0.007956355277426146, 0.9908148681419747, 0.0009945444096782683, 0.9963199716858523, 0.1288833319329251, 0.01068726543175292, 0.021120072162749817, 0.13817107451051988, 0.033206860448660856, 0.24300805922200092, 0.15661933031533148, 0.005089174015120438, 0.00941497192797281, 0.03333408979903887, 0.06170623493333531, 0.00012722935037801094, 0.026590934229004288, 0.06844939050336989, 0.06336021648824945, 0.9954899496817783, 0.42954581383911034, 0.04883357486250372, 0.1587683823503003, 0.0008889607074484899, 0.25951726252779583, 0.0005926404716323267, 0.002252033792202841, 0.005452292339017405, 0.023053714346497507, 0.07099832850155273, 5.9264047163232664e-05, 0.2149772920153501, 0.2551874606861045, 0.07904730719177563, 0.024518395530947777, 0.002746060299466151, 0.017260950453787234, 0.021380040902986463, 0.01686865612529207, 0.02471454269519536, 0.035894931057307546, 0.25420672486486656, 0.022556923888471955, 0.002549913135218569, 0.002549913135218569, 0.018830127767767893, 0.006669003584417795, 0.9963276901619547, 0.9871113870642705, 0.3453570433389384, 0.04367512960258237, 0.609834217043465, 0.9963908284315215, 0.995207998836331, 0.043323619707043105, 0.6002820769023953, 0.16454644023348103, 0.12038967399361016, 0.004582305930552636, 0.06665172262622016, 0.9966035600520442, 0.0989252026712457, 0.9000694576376218, 0.04746673469483562, 0.9509714778517069, 0.05938083907891902, 0.9403847709646301, 0.9984076407715315, 0.9973723953610814, 0.9997272369064114, 0.08934612557161259, 0.000940485532332764, 0.13260846005891974, 0.13448943112358527, 0.6414111330509451, 0.16218274667089433, 9.619379992342487e-05, 0.1717059328633134, 0.10648653651523132, 0.001442906998851373, 0.30050943096077926, 0.00048096899961712434, 0.07974466013651921, 0.06396887694907753, 0.00731072879418029, 0.0018276821985450725, 0.005771627995405492, 0.09657857512311857, 0.0019238759984684974, 0.9960364583317471, 0.018042707190762532, 0.9794612474985375, 0.274221448504715, 0.2746420335484339, 0.02649685775428995, 0.04647464733093713, 0.3234298986198249, 0.04437172211234269, 0.00021029252185944403, 0.009673456005534426, 0.00042058504371888806, 0.9995076246084648, 0.9936584335067452, 0.9413562068418608, 0.058108407829744496, 0.9952953008979996, 0.9986579153055136, 0.2200991610076531, 0.4937423590311615, 0.1182233383668664, 0.012082946406232838, 0.01990132349261879, 0.05259635494477824, 0.03151042886331309, 0.03364271352323653, 0.01611059520831045, 0.0009476820710770853, 0.001421523106615628, 0.995720043814528, 0.998243192694761, 0.9929059867300742, 0.025385155806822882, 0.9741553540868282, 0.5909735494720699, 0.40861599706354546, 0.995830108957109, 0.998771502609705, 0.20678728801197174, 0.046363022907446046, 0.029951333382686383, 0.7093952797077364, 0.006974968048022856, 0.0004102922381189916, 0.0006242970662146134, 0.5270627981516873, 0.0010925198658755734, 0.47087606219237216, 0.0033267968609842877, 0.9963756598647943, 0.9980127365893682, 0.184273582204833, 0.7779513674077339, 0.0366879530181568, 0.9956433691567013, 0.995673006318949, 0.040160284444188045, 0.00297483588475467, 0.010411925596641345, 0.001487417942377335, 0.0044622538271320055, 0.01189934353901868, 0.9266613781010797, 0.15702189735142452, 0.0006206399104799388, 0.20046669108502024, 0.035376474897356514, 0.0335145551659167, 0.06578783051087352, 0.023584316598237676, 0.036617754718316395, 0.446860735545556, 0.019682810504287527, 0.8621926775247688, 0.11766897584084934, 0.9960019531732793, 0.23294931302865526, 0.21145901567060074, 0.25512840196869874, 0.03884784522417551, 0.03154665445509288, 0.023694430420419105, 0.03595492057982201, 0.05152161033277178, 0.021214780725258967, 0.004821541073922493, 0.007301190769082631, 0.0004132749491933565, 0.04683782757524707, 0.0031684412771490664, 0.01777082281531433, 0.0170820312333254, 0.008315872087654367, 0.9895887784308697, 0.43145499531645054, 0.3072833734870807, 0.1546350597181753, 0.008774794609275471, 0.026324383827826415, 0.0218542054419691, 0.006291362172688074, 0.00016556216243915985, 0.024999886528313135, 0.00016556216243915985, 0.017880713543429263, 0.9952633055165957, 0.018511495771888254, 0.08780452724233481, 0.8935549040160113, 0.040359130914061264, 0.804229511141172, 0.06890583326790949, 0.08564010706154464, 0.998490198085498, 0.0005279481885120914, 0.999405920853389, 0.014266632417613315, 0.015423386397419801, 0.9095942127878327, 0.0065549392189034154, 0.0539818523909693, 0.017380304846391713, 0.9790905063467332, 0.002896717474398619, 0.2443130408696089, 0.730920006568582, 0.0010095580201223509, 0.0030286740603670524, 0.0030286740603670524, 0.017162486342079963, 0.9971423157746744, 0.9965524197277946, 0.08321303916856372, 0.11982677640273176, 0.0454897947454815, 0.09763663262444809, 0.6523902270815396, 0.9960771402365162, 0.10149950710862837, 0.0014578026155637827, 0.7040275506538343, 0.10414177434933773, 0.006195661116146076, 0.08263918576977193, 0.06550229811391853, 0.0006968329586587078, 0.054875595494373236, 0.7720909181938482, 0.10678965091444698, 0.03399926494807106, 0.9646077169552733, 0.9995727431305579, 0.12214363350905265, 0.0004653090800344863, 0.08088622841266153, 0.11826605784209861, 0.08251481019278224, 0.285156914547801, 0.06444530758477635, 0.019853187414804747, 0.0006204121067126484, 0.00038775756669540525, 0.07607803458563851, 0.031098156848971503, 0.04195536871644285, 0.033424702249143935, 0.03016753868890253, 0.006746981660500051, 0.002636751453528756, 0.0030245090202241608, 0.9973063112505102, 0.9862802980883049, 0.008601281669374752, 0.03621702261510701, 0.0008555202192544962, 0.5823240959058937, 0.10694002740681202, 0.02481008635838039, 0.04420187799481564, 0.09610343796292174, 0.03650219602152517, 0.020532485262107908, 0.0444870514012338, 0.007129335160454135, 0.9984606062296181, 0.9982538737219581, 0.9965005564748538, 0.998924387728503, 0.26277527312397814, 0.027069814568048002, 0.028390293327464976, 0.679386321720034, 0.0026409575188339513, 0.11686550286990625, 0.033288961423549056, 0.09632550539580151, 0.7188999115936657, 0.03399723719851818, 0.9995252290049818, 0.0029842584773547938, 0.996742331436501, 0.29681053423501247, 0.003372846979943323, 0.698179324848268, 0.9974607616486515, 0.9931796916994843, 0.9984731088878018, 0.10143509462875461, 0.0007762889895057751, 0.08668560382814489, 0.03700310849977528, 0.4924259823431633, 0.26704341238998663, 0.014231964807605876, 0.00013537474748250667, 0.00013537474748250667, 0.23027244546774384, 0.18207903536397146, 0.0006768737374125333, 0.5857665323568063, 0.0006768737374125333, 0.9987691191645955, 0.9521626062764701, 0.04581535553213141, 0.9908948482381644, 0.9079491594496099, 0.006843837885298566, 0.04334430660689092, 0.036500468721592357, 0.003421918942649283, 0.997710594895405, 0.9997167157928608, 0.9922610472180445, 0.5828802970319603, 0.10763938045822027, 0.20299466614232126, 0.002303267770147367, 0.0021497165854708756, 0.04806152080374172, 0.006295598571736135, 0.001535511846764911, 0.0018426142161178933, 0.03685228432235787, 0.0006142047387059645, 0.0016890630314414022, 0.0010748582927354378, 0.0019961654007943845, 0.0019961654007943845, 0.49607676624600433, 0.1484847957149972, 0.07373504661929246, 0.050735123820614084, 0.0007892130372095524, 0.08433305026182074, 0.009132322287710534, 0.007215662054487336, 0.06370076657477101, 0.02897539293755071, 0.01510779242658286, 0.003269596868439574, 0.0007892130372095524, 0.002480383831230022, 0.00011274471960136462, 0.015220537146184224, 0.13197689221766656, 0.07700305891797689, 0.2024307218977743, 0.00019846149205664148, 0.046836912125367385, 0.10498612929796333, 0.012701535491625055, 0.09248305529839493, 0.032944607681402484, 0.09228459380633829, 0.010518459079001998, 0.0349292226019689, 0.15857073215325654, 0.0019846149205664148, 0.15959146539565, 0.0274385326469714, 0.24246703339058404, 0.26878562592951577, 0.3012638890626656, 0.9989660977438335, 0.9989640321393592, 0.0605614224347677, 0.007124873227619729, 0.03918680275190851, 0.02315583798976412, 0.13002893640406005, 0.7392055973655469, 0.9917178737141958, 0.12461431909665312, 0.8754069618534966, 0.9996379200944979, 0.9956373690612889, 0.999666804870376, 0.995207153603505, 0.999013543950378, 0.10989641416900596, 0.042634512484843276, 0.33895761478633163, 0.20522824332766174, 0.0021184850924145728, 0.11572224817314604, 0.052167695400708855, 0.13319975018556626, 0.9988051662468121, 0.999258197047419, 0.3243153662291137, 0.0013941552551493335, 0.08643762581925868, 0.16294189544557836, 0.007319315089534002, 0.0038339269516606675, 0.12460262592897169, 0.022829292303070337, 0.018646826537622337, 0.036596575447670004, 0.020738059420346337, 0.041824657654480006, 0.004008196358554334, 0.027360296882305672, 0.0003485388137873334, 0.11693477202565035, 0.014373009482062635, 0.8589237691749075, 0.02310597726863234, 0.0005458104866606063, 0.10297624514996774, 0.9997322300920656, 0.9967602611524085, 0.9981315295619908, 0.99601935774108, 0.9976016318363826, 0.8614287254600795, 0.13837429752865532, 0.008359647833308309, 0.07364451662676368, 0.012738510984088852, 0.9048323583385613, 0.287076985369175, 0.6983128962959306, 0.00014964916700391397, 0.014366320032375743, 0.9976251212829313, 0.9942343739908609, 0.9891259631338959, 0.009510826568595152, 0.9993243620522573, 0.004690735999853127, 0.6209361779805578, 0.11902742599627311, 0.07270640799772347, 0.035766861998880094, 0.007622445999761332, 0.08267422199741137, 0.048080043998494554, 0.0005863419999816409, 0.0029317099999082046, 0.004690735999853127, 0.9733858131993927, 0.02472804606280212, 0.9869252211937829, 0.012578972548407218, 0.07903438756696425, 0.10585472125394851, 0.011412907951908196, 0.8037540425131346, 0.016360925205600257, 0.003635761156800057, 0.9789286914684153, 0.9956435734949072, 0.9932605812541677, 0.9976577190355351, 0.9988482238607639, 0.993658846710201, 0.999203931863348, 0.9995299128705203, 0.3497104180444286, 0.268052147841161, 0.38166365421092463, 0.2750508426102881, 0.07431929333156775, 0.09098904136855492, 0.006482679792161673, 0.003935912730955301, 0.013196883862614835, 0.09816629399559106, 0.33617325207924104, 0.1011761096133804, 0.00023152427829148834, 0.997658495627198, 0.9971707286665241, 0.9986367648402421, 0.0007856763585830464, 0.05499734510081325, 0.04949761059073192, 0.0007856763585830464, 0.03299840706048795, 0.8611012890070189, 0.995794632641147, 0.14030664794483463, 0.24810197992852004, 0.4362612210536712, 0.07071211221549957, 0.0023367508347076006, 0.009042209751694629, 0.00010159786237859133, 0.09275884835165389, 0.0004063914495143653, 0.045441331697998744, 0.9545218278462305, 0.9936837441704236, 0.0017896960458037804, 0.10022297856501171, 0.6994132147001174, 0.07624105155124104, 0.10022297856501171, 0.020402534922163096, 0.0014317568366430243, 0.9955747630582552, 0.019122052165885375, 0.02302451179157627, 0.0003902459625690893, 0.08390288195235421, 0.17483019123095203, 0.0031219677005527146, 0.01678057639047084, 0.01678057639047084, 0.6279057537736648, 0.020292790053592646, 0.013268362727349037, 0.2390710559002611, 0.6273609587718261, 0.0037438420387065495, 0.009092187808287334, 0.06498240110040654, 0.03369457834835895, 0.02219563494376026, 0.9985770474176958, 0.9997520629646657, 0.8604914411344912, 0.13831926718743937, 0.3449126514562565, 0.5417987819832277, 0.08975691244611922, 0.02316307417964367, 0.9951809192607722, 0.9979429460382324, 0.11449551296298273, 0.8644855009763192, 0.013313431739881712, 0.0071004969279369135, 0.9989791833877475, 0.00042849101982539645, 0.0013711712634412686, 0.9981269815812785, 0.09126098883817459, 0.9083152536128906, 0.007318383789369254, 0.26326131275183096, 0.04110325141974513, 0.0014035256582351995, 0.3675232187921601, 0.015138026742393937, 0.301858268353299, 0.002205540320083885, 0.9968630714994103, 0.9919693110268187, 0.9971217854247099, 0.9945211411380506, 0.9994055495703543, 0.9982500120454617, 0.1362775556320123, 0.86347291551712, 0.45692768585850346, 0.06949470507353665, 0.13802420590994086, 0.013898941014707329, 0.05019062033088758, 0.06930166422611016, 0.006949470507353664, 0.04208290473897497, 0.01698759457353118, 0.01640847203125171, 0.0038608169485298137, 0.04034553711213655, 0.009845083218751025, 0.02721875948713519, 0.003088653558823851, 0.034940393384194815, 0.0001930408474264907, 0.9945887448680121, 0.43071723612324525, 0.3817631231266528, 0.12455663427762043, 0.01460727565220905, 0.006316659741495805, 0.007698429059948013, 0.0025661430199826712, 0.013422901950678587, 0.011843737015304636, 0.002368747403060927, 0.0037505167215131346, 0.00019739561692174392, 0.4300039906808881, 0.36930964749865747, 0.07458203187646982, 0.017488200577930855, 0.021088712461622503, 0.04037716898139918, 0.017231021157667167, 0.017231021157667167, 0.006429485506592226, 0.0005143588405273781, 0.0028289736229005795, 0.0015430765215821343, 0.0007715382607910671, 0.9626742413708904, 0.008055851392225024, 0.012083777088337536, 0.012083777088337536, 0.07676662810233321, 0.023216397461412033, 0.8874764489446336, 0.0038976433694341366, 0.008642600514832217, 0.7272790272884858, 0.027943986892783077, 0.05368186955718854, 0.08236122452609748, 0.03382693150179004, 0.012501257294139798, 0.04191598033917461, 0.01838420190314676, 0.11717488973428904, 0.7989197027337889, 0.05835587393881588, 0.02500966025949252, 0.99714344983126, 0.9950860546139166, 0.742563646935088, 0.0010282623998888096, 0.018666917413366083, 0.03132245464276682, 0.004350340922606503, 0.0552097811632607, 0.015503033106015899, 0.00031638843073501837, 0.08684862423676254, 0.001740136369042601, 0.0015819421536750918, 0.0010282623998888096, 0.004904020676392784, 0.030294192242878007, 0.0010282623998888096, 0.0035593698457689563, 0.998629601802514, 0.9974482781654468, 0.0011744289433243433, 0.10217531806921787, 0.1077538555500085, 0.4812222595271497, 0.07956756091022427, 0.14034425872725903, 0.01967168480068275, 0.049326015619622424, 0.018497255857358407, 0.8927447837226973, 0.029339030450980665, 0.06182152845028068, 0.015717337741596785, 0.00799192639517895, 0.9883348975371302, 0.9997126457127331, 0.07876270680079195, 0.9206721808470951, 0.30368501676169785, 0.1213455986637651, 0.0808970657758434, 0.016693045318824828, 0.12744498060718187, 0.3495908913884661, 0.030246241340042213, 0.002356849974548744, 0.03613836627641407, 0.04203049121278593, 0.0019640416454572867, 0.020818841441847237, 0.007463358252737689, 0.7208032838828242, 0.07306234921101107, 0.047529807820066335, 0.01728356648002412, 0.03725833244534369, 0.007451666489068738, 0.022354999467206215, 0.010432333084696233, 0.0454551655833193, 0.8770611457633904, 0.997490288587014, 0.0367005235849268, 0.9632014965350177, 0.9876993372006352, 0.9986124388005797, 0.9959920773509602, 0.00725851090778016, 0.020162530299389334, 0.9718339604305659, 0.9954542309219442, 0.9992038342134749, 0.9973736274284284, 0.05906252417201397, 0.4300210993171903, 0.0005102593880951531, 0.05204645758570561, 0.11684939987379006, 0.09975571037260243, 0.012756484702378827, 0.027554006957138267, 0.015435346489878382, 0.03278416568511359, 0.010970576844045793, 0.06288946958272762, 0.003571815716666072, 0.048729771563087124, 0.005485288422022896, 0.0015307781642854594, 0.00956736352678412, 0.010460317455950639, 0.9805839636130587, 0.019611679272261175, 0.022189945361518866, 0.005339826423894915, 0.20599863715292382, 0.11605222761264948, 0.13539426554809106, 0.0046278495673755925, 0.045922507245496264, 0.07511355836278846, 0.022664596599198415, 0.15212572167629512, 0.10264333014820225, 0.10323664419530168, 0.0008306396659392089, 0.0034412214731767226, 0.0042718611391159315, 0.04454216828966227, 0.3117951780276359, 0.290960938021181, 0.09788500692687879, 0.07256062898799823, 0.07884682209339411, 0.02712043311185082, 0.0001796055172970253, 0.0016164496556732278, 0.00574737655350481, 0.0007184220691881012, 0.06789088553827556, 0.9919306746034152, 0.006864572142584189, 0.11170286634841257, 0.6054077247279376, 0.027263600573182986, 0.020564544432343738, 0.061070465283929884, 0.009191728193244549, 0.04704918498915007, 0.026484640556806327, 0.051567153084134676, 0.000934752019651988, 0.02554988853715434, 0.013086528275127832, 0.9992752287591827, 0.00013875192024001895, 0.020604660155642815, 0.040584936670205546, 0.08900935683397217, 0.05536201617576757, 0.2356701365276722, 0.021020915916362872, 0.01623397466808222, 0.28645333933551914, 0.007839483493561072, 0.20146778818850752, 0.00013875192024001895, 0.0031912941655204362, 0.015609591027002134, 0.006313212370920863, 0.0004162557607200569, 0.9952975751087237, 0.9974201878091727, 0.9883965122438099, 0.010295797002539686, 0.9952804017135273, 0.9979827924302144, 0.014549470505583284, 0.9845141708778021, 0.9976966018524654, 0.9945458704862731, 0.9951833985327175, 0.9946137500186559, 0.9983627724307603, 0.9983804670112497, 0.9938851391478477, 0.9991537861521776, 0.9958359983258327, 0.9962383776990208, 0.9985893912470448, 0.9958999671740599, 0.994408488226925, 0.10443931265985354, 0.7283333450885251, 0.04287246247612126, 0.03414841487923612, 0.0239288162657421, 0.0007477755083044406, 0.034397673382004265, 0.0029911020332177626, 0.0009970340110725874, 0.01271218364117549, 0.014207734657784372, 0.1369907094277092, 0.8310164889786862, 0.008165009171187964, 0.02268058103107768, 0.0009072232412431072, 0.9827055406423217, 0.011516080554402208, 0.9942938094296034, 0.005090241345202748, 0.993993003195223, 0.999366515511285, 0.9920114451568979, 0.9947116503246184, 0.20456285146959233, 0.04768949911561048, 0.328335926476884, 0.040473324907327315, 0.02823720342371673, 0.04659138564913261, 0.0492582326391503, 0.024942863024283113, 0.0006274934094159274, 0.009569274493592893, 0.020864155863079586, 0.0012549868188318548, 0.0036080871041415823, 0.17993373515001718, 0.01192237477890262, 0.0023531002853097276, 0.025316822050250702, 0.07023376439746969, 0.016333433580806904, 0.886905443437815, 0.32526776922592837, 0.6189389417136141, 0.038536036208791334, 0.005315315339143633, 0.011811811864763627, 0.3593035492173662, 0.25775090367391856, 0.0884532621464001, 0.026804018832242454, 0.057369246758686675, 0.03631512228884461, 0.035104618212549794, 0.025636747044386735, 0.04612885176452048, 0.0002593937306346044, 0.00293979561385885, 0.0016860592491249285, 0.010418981513823276, 0.014526048915537847, 0.005576965208643994, 0.030392298772687815, 0.001296968653173022, 4.323228843910073e-05, 0.26740160174750327, 0.4169478825718852, 0.08484998941305265, 0.021175987030796272, 0.039869272133844016, 0.024680977987617723, 0.025557225726823087, 0.0027747845074836495, 0.0284780515241743, 0.0001460412898675605, 0.014166005117153367, 0.010953096740067038, 0.030084505712717462, 0.002044578058145847, 0.017086830914504577, 0.007594147073113146, 0.005987692884569981, 0.10631087897022326, 0.028701424062410157, 5.0265191002469626e-05, 0.4428363327317574, 0.001759281685086437, 0.028651158871407685, 0.06956702434741796, 0.05383401956364497, 0.04141851738603497, 0.002412729168118542, 0.2031719020319822, 0.00015079557300740886, 0.020608728311012545, 0.0004523867190222266, 0.9990235295240756, 0.9996387468444509, 0.29614888640574644, 0.06355327674390927, 0.14955410495557073, 0.05684066489020846, 0.08397982679334291, 0.061929257747046176, 0.04157488631969533, 0.062217972235377395, 0.03479009584391172, 0.00999673915846841, 0.0147605282159335, 0.0012270365754076748, 0.024035481153573866, 0.03594495379723659, 0.03670282932910604, 0.009491488803888778, 0.00476378905746509, 0.0057382004555829496, 0.006423897365369592, 0.0003248037993726198, 0.6913431139802433, 0.3085959882226856, 0.8277144991997418, 0.17178980172070113, 0.10930532270978806, 0.8830882004237115, 0.006792986157105473, 0.9976896287428358, 0.9981482092622846, 0.018107911678868212, 0.0008230868944940097, 0.19754085467856233, 0.4304744458203671, 0.3531042777379302, 0.02804907895136148, 0.6048304556157504, 0.14048209584500457, 0.07757878165661372, 0.003372990506809292, 0.0005325774484435724, 0.14515694233689813, 0.09724909446646693, 0.1252616017591571, 0.035859982739933155, 0.10191784568191528, 0.385122307708368, 0.23502692288831536, 0.019569021051985682, 0.011534445959321606, 0.985041684926065, 0.007077442524402627, 0.2918265467562016, 0.03420763886794603, 0.10521797886278572, 0.1840135056344683, 0.3479742574497958, 0.024771048835409194, 0.004010550763828155, 0.0009436590032536836, 0.021182988718054126, 0.9760469417011094, 0.0016294606706195483, 0.9961175289090961, 0.9994412950410189, 0.9915699737916838, 0.3846510609190742, 0.0028655952962452517, 0.011572596388682747, 0.07009686955430693, 0.00738441864801661, 0.021051103907032426, 0.3188525843091351, 0.051250069721309306, 0.006282266610999206, 0.12266952172003712, 0.003416671314753954, 0.9968544088212867, 0.00041331458939934093, 0.9993946771676063, 0.004571495370837251, 0.21009425534060558, 0.002820709909665538, 0.25221037226768067, 0.03472391164657231, 0.49547228551159483, 0.9977545333590018, 0.9971612309809533, 0.9971635953861444, 0.9953040101041432, 0.00217790811838981, 0.9942493988396902, 0.9963019633136158, 0.9995853140174012, 0.9988156172692371, 0.001008565079706399, 0.9947770686462989, 0.9474112065025164, 0.048763812099394226, 0.37423970214391183, 0.07451446519872634, 0.0528960709744045, 0.011441650134680974, 0.015121376811161286, 0.14448676778117228, 0.05841566098912497, 0.06186540474832526, 0.027885428720202374, 0.0002874786466000245, 0.021215924119081804, 0.0024148206314402055, 0.06893737945468587, 0.039212087396243336, 0.010406727006920885, 0.0006899487518400587, 0.019721035156761678, 0.00022998291728001957, 0.016156299938921374, 0.9978165242310507, 0.7253060450086972, 0.13040856162782638, 0.14408436584347858, 0.5753613125758938, 0.1265667684884566, 0.045272626645254235, 0.008788555874940797, 0.003931722365105093, 0.09071871163014546, 0.015784708906966035, 0.03428693180157824, 0.036021515197948134, 0.011043514290221658, 0.023763792530267547, 0.009540208680034417, 0.007227430818207892, 0.00011563889309132627, 0.0045099168305617245, 0.0005203750189109682, 0.006591416906205598, 0.11956287005580214, 0.00013854330249803262, 0.2276266460042676, 0.4944610466154784, 0.15780082154525915, 0.00027708660499606525, 0.9978138222309837, 0.01689684738323763, 0.9800171482277824, 0.992067765406212, 0.24867798429776003, 0.08178000825899491, 0.6664792509814688, 0.002225306347183535, 0.9989785246863597, 0.37815264156153405, 0.6206995253619348, 0.9979039076435953, 0.998791507291167, 0.1583933709781831, 0.7824339205264877, 0.058664211473401146, 0.07701559144070796, 0.9225909192275482, 0.0003990445152368288, 0.9896328240292631, 0.006426187169021188, 0.1681712494387739, 0.2205289132780195, 0.2598298030925156, 0.04713495422934579, 0.27993723509062984, 0.00796463215509721, 0.016320967530936908, 0.9953056566554432, 0.7403872929638524, 0.15374491832718434, 0.017484716201915083, 0.0030146062417094966, 0.04521909362564245, 0.007235054980102792, 0.007837976228444692, 0.013867188711863685, 0.0030146062417094966, 0.00844089747678659, 0.3304721704113351, 0.012239710015234632, 0.27727650765281536, 0.008002887317653414, 0.01412274232527073, 0.3577761389068585, 0.23707451294080614, 0.054913013204307574, 0.2664991122606231, 0.046782531813305515, 0.04407237134963816, 0.07814296003574203, 0.050396079098195316, 0.05820392233876079, 0.050847772508806545, 0.0020003565327068565, 0.05323529482203731, 0.0007743315610478154, 0.03723244256038245, 0.0032909091344532153, 0.0067754011591683845, 0.001484135492008313, 0.0032263815043658975, 0.00471051699637421, 0.0003871657805239077, 0.9946003048393602, 0.08096560739756817, 0.9183813181952732, 0.271051309999249, 0.023905219701322655, 0.31566183810329207, 0.007717433131923062, 0.08300946368727001, 0.053080881541519596, 0.09449149834696041, 0.05628079284012184, 0.015246636187457757, 0.00847035343747653, 0.04837512963181041, 0.00037646015277673474, 0.018446547486060002, 0.0028234511458255103, 0.0009411503819418367, 0.6712657928496126, 0.1929580668324599, 0.009820141424193934, 0.003290518592400062, 0.001645259296200031, 0.05012899418109469, 0.023290701911831687, 0.004832949182587591, 0.014138947076719015, 0.00956306965916268, 0.002056574120250039, 0.008072053421981402, 0.008843268717075166, 0.9815116713724648, 0.013955142247001869, 0.9987780851016266, 0.1545940056673816, 0.04988890222732235, 0.6627217135382574, 0.12379838700854064, 0.008622773224475468, 0.9976433783187573, 0.996648139246626, 0.05247376544462591, 0.8068871681197188, 0.00027473175625458593, 0.13764060988354754, 0.002747317562545859, 0.9978497114917309, 0.844249163409659, 0.15551958273335825, 0.9552012408758633, 0.038829318734791195, 0.9924635180021358, 0.026191254928673646, 0.00024251161970994116, 0.019400929576795293, 0.25681980527282766, 0.036376742956491175, 0.1932817609088231, 0.4673198911810566, 0.008074524445593789, 0.9916984114542918, 0.9979505994297496, 0.9927037156383912, 0.8814784917466592, 0.11505067654789565, 0.003460170723244982, 0.044095226319898144, 0.11185130578705871, 0.16239949205621024, 0.008066199936566733, 0.006452959949253387, 0.1699279453303392, 0.0010754933248755644, 0.0005377466624377822, 0.022585359822386856, 0.0032264799746266936, 0.004839719961940041, 0.0016132399873133468, 0.4635376230213683, 0.9978545442067718, 0.9970190226259966, 0.002235468660596405, 0.9955324755395697, 0.9862684745761156, 0.9972031490065381], \"Term\": [\"aaa\", \"abc\", \"abc\", \"able\", \"able\", \"able\", \"able\", \"able\", \"able\", \"able\", \"able\", \"able\", \"able\", \"able\", \"able\", \"able\", \"able\", \"able\", \"ac\", \"acc\", \"access\", \"access\", \"access\", \"access\", \"access\", \"access\", \"access\", \"access\", \"access\", \"account\", \"accuracy\", \"accurate\", \"action\", \"action\", \"action\", \"action\", \"action\", \"action\", \"action\", \"actionresult\", \"activation\", \"activation\", \"activerecord\", \"activity\", \"activitythread\", \"actor\", \"adb\", \"add\", \"add\", \"add\", \"add\", \"add\", \"add\", \"add\", \"add\", \"add\", \"add\", \"add\", \"add\", \"add\", \"add\", \"add\", \"add\", \"add\", \"add\", \"add\", \"addeventlistener\", \"address\", \"address\", \"address\", \"address\", \"address\", \"address\", \"addsubview\", \"advantage\", \"aes\", \"aes\", \"age\", \"age\", \"ajax\", \"ajax\", \"ajax\", \"alert\", \"alert\", \"algorithm\", \"algorithm\", \"algorithm\", \"algorithm\", \"align\", \"align\", \"alloc\", \"allocation\", \"allocation\", \"allocator\", \"also\", \"also\", \"also\", \"also\", \"also\", \"also\", \"also\", \"also\", \"also\", \"also\", \"also\", \"also\", \"also\", \"also\", \"also\", \"also\", \"anaconda\", \"android\", \"androidruntime\", \"angular\", \"animated\", \"animation\", \"animation\", \"animation\", \"answer\", \"answer\", \"answer\", \"answer\", \"answer\", \"answer\", \"answer\", \"answer\", \"answer\", \"answer\", \"anyone\", \"anyone\", \"anyone\", \"anyone\", \"anyone\", \"anyone\", \"anyone\", \"anyone\", \"anyone\", \"anyone\", \"anyone\", \"anyone\", \"apache\", \"apache\", \"apache\", \"apache\", \"api\", \"api\", \"api\", \"api\", \"api\", \"api\", \"api\", \"apk\", \"app\", \"app\", \"app\", \"app\", \"app\", \"appcompat\", \"appender\", \"apple\", \"apple\", \"apple\", \"apple\", \"application\", \"application\", \"application\", \"application\", \"application\", \"application\", \"application\", \"application\", \"appname\", \"appname\", \"apps\", \"apps\", \"apps\", \"apps\", \"apps\", \"apps\", \"appsettings\", \"architecture\", \"architecture\", \"arg\", \"argc\", \"args\", \"args\", \"args\", \"args\", \"argument\", \"argument\", \"argument\", \"argument\", \"argument\", \"argument\", \"argument\", \"argv\", \"arm\", \"armv\", \"arr\", \"array\", \"array\", \"array\", \"artifactid\", \"ascii\", \"asm\", \"asp\", \"aspnet\", \"aspnetcore\", \"aspx\", \"aspx\", \"aspx\", \"aspx\", \"assembly\", \"assembly\", \"assembly\", \"assert\", \"assert\", \"assert\", \"assertion\", \"asset\", \"asset\", \"asset\", \"asset\", \"association\", \"async\", \"async\", \"async\", \"attribute\", \"attribute\", \"attribute\", \"attribute\", \"attribute\", \"attribute\", \"attribute\", \"attribute\", \"attribute\", \"attribute\", \"attribute\", \"attribute\", \"audio\", \"auth\", \"authentication\", \"authorization\", \"await\", \"await\", \"ax\", \"ax\", \"azure\", \"backbone\", \"background\", \"background\", \"background\", \"background\", \"background\", \"background\", \"bandwidth\", \"bar\", \"bar\", \"bar\", \"bar\", \"based\", \"based\", \"based\", \"based\", \"based\", \"based\", \"based\", \"based\", \"based\", \"based\", \"based\", \"based\", \"based\", \"bash\", \"baz\", \"bean\", \"bean\", \"besides\", \"besides\", \"best\", \"best\", \"best\", \"best\", \"best\", \"best\", \"best\", \"bg\", \"bin\", \"bin\", \"binding\", \"binding\", \"binding\", \"binding\", \"bit\", \"bit\", \"bit\", \"bit\", \"bit\", \"bit\", \"bit\", \"bit\", \"bit\", \"bit\", \"bit\", \"bit\", \"bitmap\", \"black\", \"black\", \"block\", \"block\", \"block\", \"block\", \"block\", \"blue\", \"bluetooth\", \"bold\", \"bool\", \"bool\", \"boolean\", \"boolean\", \"boolean\", \"boolean\", \"boolean\", \"boost\", \"boost\", \"boot\", \"boot\", \"border\", \"bottom\", \"bottom\", \"bottom\", \"bottom\", \"bottom\", \"bound\", \"bound\", \"bound\", \"bound\", \"bound\", \"bound\", \"boundary\", \"br\", \"br\", \"bracket\", \"branch\", \"branch\", \"breakpoint\", \"browser\", \"browser\", \"browser\", \"browser\", \"btn\", \"btn\", \"buffer\", \"buffer\", \"buffer\", \"buffer\", \"buffer\", \"bug\", \"bug\", \"bug\", \"bug\", \"bug\", \"bug\", \"build\", \"build\", \"build\", \"build\", \"build\", \"build\", \"bundler\", \"button\", \"button\", \"button\", \"buy\", \"byte\", \"byte\", \"byte\", \"byte\", \"byte\", \"byte\", \"cache\", \"cache\", \"cache\", \"cache\", \"cache\", \"cache\", \"calculate\", \"calculate\", \"calculate\", \"calendar\", \"calendar\", \"call\", \"call\", \"call\", \"call\", \"call\", \"call\", \"call\", \"call\", \"call\", \"call\", \"call\", \"call\", \"camera\", \"camera\", \"camera\", \"camera\", \"canvas\", \"car\", \"card\", \"card\", \"cart\", \"cascade\", \"case\", \"case\", \"case\", \"case\", \"case\", \"case\", \"case\", \"case\", \"case\", \"case\", \"case\", \"cat\", \"cat\", \"catch\", \"catch\", \"catch\", \"category\", \"category\", \"category\", \"category\", \"cell\", \"cell\", \"center\", \"center\", \"cert\", \"certificate\", \"cf\", \"cgrectmake\", \"change\", \"change\", \"change\", \"change\", \"change\", \"change\", \"change\", \"change\", \"change\", \"change\", \"change\", \"char\", \"char\", \"character\", \"charfield\", \"chart\", \"check\", \"check\", \"check\", \"check\", \"check\", \"check\", \"check\", \"check\", \"check\", \"check\", \"checkbox\", \"child\", \"child\", \"child\", \"child\", \"child\", \"choosing\", \"chrome\", \"chrome\", \"chrome\", \"ci\", \"cipher\", \"circle\", \"city\", \"clang\", \"clarification\", \"class\", \"class\", \"class\", \"class\", \"class\", \"class\", \"class\", \"class\", \"class\", \"class\", \"class\", \"class\", \"classification\", \"classname\", \"classrunner\", \"click\", \"click\", \"click\", \"click\", \"clicked\", \"clicked\", \"client\", \"client\", \"clojure\", \"closure\", \"cmd\", \"cocoapods\", \"code\", \"code\", \"code\", \"code\", \"code\", \"code\", \"code\", \"code\", \"code\", \"code\", \"code\", \"code\", \"code\", \"code\", \"code\", \"code\", \"coffee\", \"col\", \"col\", \"collapse\", \"collectionview\", \"color\", \"column\", \"column\", \"column\", \"com\", \"com\", \"com\", \"com\", \"com\", \"com\", \"com\", \"com\", \"com\", \"command\", \"command\", \"command\", \"comment\", \"comment\", \"comment\", \"comment\", \"comment\", \"comment\", \"comment\", \"comment\", \"commits\", \"common\", \"common\", \"common\", \"common\", \"common\", \"common\", \"common\", \"common\", \"common\", \"common\", \"compile\", \"compile\", \"compile\", \"compile\", \"compile\", \"compile\", \"compile\", \"compiler\", \"compiler\", \"compiler\", \"compiler\", \"compiler\", \"compiler\", \"compiler\", \"complexity\", \"complexity\", \"component\", \"component\", \"component\", \"component\", \"component\", \"component\", \"component\", \"component\", \"composer\", \"compression\", \"compression\", \"compute\", \"con\", \"con\", \"concept\", \"concurrent\", \"concurrent\", \"concurrent\", \"conda\", \"conf\", \"configuration\", \"configuration\", \"configuration\", \"configuration\", \"configuration\", \"configuration\", \"configuration\", \"confused\", \"confused\", \"confused\", \"confused\", \"confused\", \"confused\", \"confused\", \"confused\", \"confusion\", \"connect\", \"connection\", \"connection\", \"const\", \"const\", \"constexpr\", \"constraint\", \"constraint\", \"constructor\", \"contact\", \"contact\", \"content\", \"content\", \"content\", \"content\", \"content\", \"content\", \"content\", \"content\", \"context\", \"context\", \"context\", \"context\", \"context\", \"context\", \"context\", \"context\", \"context\", \"context\", \"context\", \"context\", \"contour\", \"control\", \"control\", \"control\", \"control\", \"control\", \"control\", \"control\", \"controller\", \"controller\", \"controller\", \"convention\", \"convention\", \"convert\", \"convert\", \"convert\", \"convert\", \"convert\", \"convert\", \"convert\", \"cookie\", \"cooky\", \"coordinate\", \"coordinate\", \"coordinate\", \"coordinate\", \"copy\", \"copy\", \"copy\", \"copy\", \"copy\", \"copy\", \"copy\", \"copy\", \"copy\", \"cordova\", \"core\", \"core\", \"core\", \"core\", \"core\", \"core\", \"core\", \"core\", \"core\", \"corner\", \"could\", \"could\", \"could\", \"could\", \"could\", \"could\", \"could\", \"could\", \"could\", \"could\", \"could\", \"could\", \"could\", \"could\", \"count\", \"count\", \"count\", \"count\", \"count\", \"count\", \"count\", \"country\", \"cout\", \"coverage\", \"cp\", \"crash\", \"crash\", \"crash\", \"crash\", \"create\", \"create\", \"create\", \"create\", \"create\", \"create\", \"create\", \"create\", \"create\", \"create\", \"create\", \"create\", \"create\", \"create\", \"create\", \"create\", \"create\", \"create\", \"create\", \"credential\", \"cross\", \"crt\", \"cs\", \"cs\", \"cs\", \"csv\", \"culture\", \"customer\", \"customer\", \"customer\", \"customer\", \"cv\", \"cycle\", \"cycle\", \"daemon\", \"daemon\", \"data\", \"data\", \"data\", \"data\", \"data\", \"data\", \"data\", \"data\", \"data\", \"data\", \"data\", \"data\", \"data\", \"data\", \"database\", \"database\", \"database\", \"database\", \"database\", \"datacontext\", \"dataframe\", \"datagrid\", \"datagridview\", \"dataset\", \"dataset\", \"datasource\", \"datasource\", \"datatable\", \"date\", \"date\", \"date\", \"datepicker\", \"datetime\", \"day\", \"day\", \"day\", \"db\", \"db\", \"db\", \"dbo\", \"dc\", \"dd\", \"de\", \"de\", \"de\", \"de\", \"de\", \"de\", \"de\", \"de\", \"de\", \"debug\", \"debug\", \"debug\", \"debug\", \"debug\", \"debug\", \"debug\", \"debugger\", \"debugging\", \"debugging\", \"debugging\", \"debugging\", \"decide\", \"decimal\", \"decorator\", \"dedicated\", \"def\", \"def\", \"def\", \"def\", \"def\", \"delegate\", \"delegate\", \"delete\", \"delete\", \"delete\", \"delete\", \"delete\", \"delete\", \"delta\", \"dense\", \"dependency\", \"dependency\", \"dependency\", \"dependency\", \"dependency\", \"deriveddata\", \"desc\", \"designing\", \"dev\", \"dev\", \"dev\", \"dev\", \"dev\", \"dev\", \"developer\", \"developer\", \"developer\", \"developer\", \"developer\", \"device\", \"device\", \"device\", \"device\", \"device\", \"device\", \"device\", \"device\", \"device\", \"df\", \"diagram\", \"diagram\", \"dictionary\", \"dictionary\", \"dictionary\", \"diff\", \"difference\", \"difference\", \"difference\", \"difference\", \"difference\", \"different\", \"different\", \"different\", \"different\", \"different\", \"different\", \"different\", \"different\", \"different\", \"different\", \"different\", \"different\", \"different\", \"different\", \"different\", \"digit\", \"dim\", \"dir\", \"dir\", \"directory\", \"directory\", \"disadvantage\", \"discover\", \"discussed\", \"display\", \"display\", \"display\", \"display\", \"display\", \"display\", \"display\", \"display\", \"display\", \"dispose\", \"distance\", \"distance\", \"div\", \"div\", \"django\", \"dll\", \"dlls\", \"dm\", \"docker\", \"document\", \"document\", \"document\", \"document\", \"document\", \"document\", \"document\", \"dog\", \"domain\", \"domain\", \"domain\", \"domain\", \"dotnet\", \"double\", \"double\", \"downloading\", \"dp\", \"draggable\", \"drawable\", \"drawer\", \"driver\", \"driver\", \"dropdown\", \"dt\", \"dt\", \"dtd\", \"dtd\", \"duration\", \"duration\", \"dword\", \"dylib\", \"early\", \"easier\", \"eax\", \"echo\", \"echo\", \"echo\", \"edittext\", \"ef\", \"ef\", \"egg\", \"elastic\", \"element\", \"element\", \"element\", \"element\", \"element\", \"element\", \"element\", \"elmah\", \"email\", \"emp\", \"employee\", \"employee\", \"encode\", \"encode\", \"encoding\", \"encoding\", \"encoding\", \"encoding\", \"end\", \"end\", \"end\", \"end\", \"end\", \"end\", \"end\", \"end\", \"end\", \"end\", \"end\", \"end\", \"end\", \"endl\", \"endpoint\", \"entity\", \"entity\", \"entity\", \"entitymanager\", \"entry\", \"entry\", \"entry\", \"entry\", \"entry\", \"entry\", \"entry\", \"entry\", \"entry\", \"entry\", \"enum\", \"environment\", \"environment\", \"environment\", \"environment\", \"environment\", \"epoch\", \"error\", \"error\", \"error\", \"error\", \"error\", \"error\", \"error\", \"error\", \"error\", \"escape\", \"escape\", \"eslint\", \"esp\", \"etc\", \"etc\", \"etc\", \"etc\", \"etc\", \"etc\", \"etc\", \"etc\", \"etc\", \"etc\", \"etc\", \"etc\", \"event\", \"event\", \"event\", \"event\", \"event\", \"every\", \"every\", \"every\", \"every\", \"every\", \"every\", \"every\", \"every\", \"every\", \"every\", \"every\", \"every\", \"every\", \"every\", \"every\", \"every\", \"every\", \"example\", \"example\", \"example\", \"example\", \"example\", \"example\", \"example\", \"example\", \"example\", \"example\", \"example\", \"example\", \"example\", \"example\", \"example\", \"example\", \"excel\", \"exception\", \"exception\", \"exception\", \"exception\", \"exe\", \"exe\", \"exec\", \"executor\", \"exit\", \"exit\", \"exit\", \"expensive\", \"experience\", \"experience\", \"explain\", \"explain\", \"explain\", \"explain\", \"explain\", \"explain\", \"explain\", \"explain\", \"explanation\", \"explanation\", \"explanation\", \"explanation\", \"explanation\", \"explanation\", \"fake\", \"fast\", \"fast\", \"fast\", \"fast\", \"fb\", \"fd\", \"fe\", \"feature\", \"feature\", \"feature\", \"feature\", \"feature\", \"feature\", \"feature\", \"feature\", \"ffmpeg\", \"fft\", \"field\", \"field\", \"field\", \"field\", \"field\", \"figuring\", \"file\", \"file\", \"file\", \"file\", \"file\", \"file\", \"file\", \"file\", \"file\", \"file\", \"file\", \"filter\", \"filter\", \"filter\", \"filter\", \"filter\", \"filter\", \"filter\", \"filter\", \"filter\", \"filter\", \"final\", \"final\", \"final\", \"final\", \"final\", \"final\", \"final\", \"final\", \"final\", \"final\", \"final\", \"find\", \"find\", \"find\", \"find\", \"find\", \"find\", \"find\", \"find\", \"find\", \"find\", \"find\", \"find\", \"find\", \"find\", \"findviewbyid\", \"fine\", \"fine\", \"fine\", \"fine\", \"fine\", \"fine\", \"fine\", \"fine\", \"fine\", \"fine\", \"fine\", \"fine\", \"fine\", \"fine\", \"fine\", \"fine\", \"fine\", \"firebase\", \"firefox\", \"firefox\", \"firefox\", \"firefox\", \"first\", \"first\", \"first\", \"first\", \"first\", \"first\", \"first\", \"first\", \"first\", \"first\", \"first\", \"first\", \"first\", \"first\", \"first\", \"first\", \"firstname\", \"firstname\", \"fix\", \"fix\", \"fix\", \"fix\", \"fix\", \"fix\", \"fix\", \"fix\", \"fix\", \"fix\", \"fix\", \"fixture\", \"flag\", \"flag\", \"flag\", \"float\", \"float\", \"fmt\", \"fn\", \"focused\", \"folder\", \"folder\", \"folder\", \"folder\", \"following\", \"following\", \"following\", \"following\", \"following\", \"following\", \"following\", \"following\", \"following\", \"following\", \"following\", \"following\", \"following\", \"following\", \"following\", \"following\", \"following\", \"font\", \"foo\", \"foreign\", \"foreignkey\", \"form\", \"form\", \"form\", \"form\", \"form\", \"form\", \"form\", \"form\", \"format\", \"format\", \"format\", \"format\", \"format\", \"format\", \"format\", \"format\", \"format\", \"format\", \"formatted\", \"formatted\", \"formula\", \"found\", \"found\", \"found\", \"found\", \"found\", \"found\", \"found\", \"found\", \"found\", \"found\", \"found\", \"found\", \"found\", \"found\", \"found\", \"found\", \"fr\", \"fr\", \"fragment\", \"frame\", \"frame\", \"frame\", \"framework\", \"framework\", \"framework\", \"framework\", \"framework\", \"framework\", \"framework\", \"framework\", \"framework\", \"frequency\", \"friend\", \"frontend\", \"func\", \"func\", \"func\", \"func\", \"func\", \"function\", \"function\", \"function\", \"function\", \"function\", \"function\", \"function\", \"functional\", \"functional\", \"functional\", \"functional\", \"functional\", \"gcc\", \"gcc\", \"gcc\", \"gdb\", \"gecko\", \"gem\", \"gender\", \"generate\", \"generate\", \"generate\", \"generate\", \"generate\", \"generate\", \"generate\", \"generate\", \"generate\", \"generate\", \"generatedvalue\", \"generation\", \"generator\", \"generator\", \"generator\", \"geom\", \"get\", \"get\", \"get\", \"get\", \"get\", \"get\", \"get\", \"get\", \"get\", \"get\", \"get\", \"get\", \"get\", \"get\", \"get\", \"get\", \"get\", \"get\", \"get\", \"getelementbyid\", \"getelementbyid\", \"getname\", \"getproperty\", \"getresponse\", \"ggplot\", \"git\", \"gl\", \"glibc\", \"good\", \"good\", \"good\", \"good\", \"good\", \"good\", \"good\", \"good\", \"gps\", \"gpu\", \"gradle\", \"grammar\", \"green\", \"grep\", \"group\", \"group\", \"group\", \"group\", \"group\", \"group\", \"group\", \"group\", \"group\", \"group\", \"groupby\", \"groupid\", \"gson\", \"gui\", \"gui\", \"gui\", \"gui\", \"gyp\", \"hadoop\", \"handshake\", \"hash\", \"hash\", \"hashmap\", \"haskell\", \"header\", \"header\", \"header\", \"header\", \"header\", \"header\", \"header\", \"heap\", \"hear\", \"hear\", \"heavy\", \"height\", \"height\", \"height\", \"hello\", \"hello\", \"hello\", \"heroku\", \"hint\", \"hint\", \"hour\", \"hour\", \"hour\", \"hour\", \"hover\", \"href\", \"href\", \"href\", \"html\", \"html\", \"html\", \"html\", \"http\", \"http\", \"http\", \"http\", \"http\", \"http\", \"http\", \"http\", \"http\", \"httpclient\", \"httpclient\", \"httppost\", \"huge\", \"huge\", \"huge\", \"ico\", \"icon\", \"icon\", \"icon\", \"icon\", \"id\", \"id\", \"id\", \"id\", \"id\", \"ideally\", \"ideally\", \"ideally\", \"ideally\", \"ideally\", \"ie\", \"ie\", \"ie\", \"ie\", \"ie\", \"iframe\", \"ii\", \"ii\", \"ii\", \"image\", \"image\", \"img\", \"img\", \"import\", \"import\", \"import\", \"import\", \"import\", \"include\", \"include\", \"include\", \"include\", \"include\", \"include\", \"include\", \"include\", \"include\", \"include\", \"include\", \"include\", \"include\", \"index\", \"index\", \"index\", \"index\", \"indexpath\", \"inf\", \"inf\", \"ini\", \"init\", \"init\", \"init\", \"init\", \"init\", \"init\", \"init\", \"initializer\", \"innerhtml\", \"innodb\", \"input\", \"input\", \"input\", \"input\", \"input\", \"insert\", \"insert\", \"insert\", \"install\", \"install\", \"instance\", \"instance\", \"instance\", \"instance\", \"instance\", \"instance\", \"instance\", \"instance\", \"instance\", \"instance\", \"instance\", \"instance\", \"instance\", \"instantiate\", \"int\", \"int\", \"int\", \"int\", \"integer\", \"integer\", \"integer\", \"integer\", \"intel\", \"intel\", \"intellij\", \"intent\", \"interface\", \"interface\", \"interface\", \"interface\", \"internal\", \"internal\", \"internal\", \"internal\", \"internal\", \"internal\", \"intptr\", \"involve\", \"involves\", \"io\", \"io\", \"io\", \"io\", \"io\", \"io\", \"io\", \"iostream\", \"ip\", \"ip\", \"iphone\", \"iphone\", \"iphone\", \"iphoneos\", \"iqueryable\", \"issue\", \"issue\", \"issue\", \"issue\", \"issue\", \"issue\", \"issue\", \"issue\", \"issue\", \"issue\", \"issue\", \"issue\", \"issue\", \"issue\", \"item\", \"item\", \"item\", \"item\", \"item\", \"item\", \"itemssource\", \"iter\", \"iterator\", \"itunes\", \"jam\", \"jan\", \"jar\", \"jar\", \"java\", \"java\", \"java\", \"java\", \"java\", \"java\", \"java\", \"javascript\", \"javascript\", \"javascript\", \"javascript\", \"javascript\", \"javax\", \"javax\", \"jdbc\", \"jdbc\", \"jdbc\", \"jdbc\", \"jest\", \"jetty\", \"jni\", \"job\", \"job\", \"job\", \"join\", \"join\", \"join\", \"jpeg\", \"jpg\", \"jquery\", \"jquery\", \"jquery\", \"jsf\", \"json\", \"json\", \"json\", \"json\", \"json\", \"junit\", \"junit\", \"jvm\", \"kb\", \"kb\", \"kb\", \"kb\", \"kera\", \"kera\", \"kernel\", \"kernel\", \"kernel\", \"kernel\", \"kernel\", \"key\", \"key\", \"key\", \"key\", \"key\", \"key\", \"key\", \"keyboard\", \"keyboard\", \"keycode\", \"keywords\", \"know\", \"know\", \"know\", \"know\", \"know\", \"know\", \"know\", \"know\", \"know\", \"know\", \"know\", \"know\", \"know\", \"know\", \"know\", \"know\", \"know\", \"label\", \"label\", \"label\", \"lambda\", \"lambda\", \"landscape\", \"lang\", \"language\", \"language\", \"language\", \"language\", \"laravel\", \"laravel\", \"large\", \"large\", \"large\", \"large\", \"large\", \"large\", \"lastname\", \"lat\", \"latency\", \"latex\", \"latitude\", \"latlng\", \"launcher\", \"launcher\", \"layer\", \"layer\", \"layer\", \"layer\", \"layer\", \"layer\", \"layer\", \"layer\", \"layout\", \"layout\", \"layout\", \"layoutinflater\", \"ld\", \"ld\", \"leak\", \"left\", \"left\", \"left\", \"left\", \"left\", \"left\", \"left\", \"left\", \"len\", \"len\", \"length\", \"length\", \"length\", \"length\", \"length\", \"length\", \"length\", \"length\", \"let\", \"let\", \"let\", \"let\", \"let\", \"let\", \"let\", \"let\", \"let\", \"let\", \"let\", \"level\", \"level\", \"level\", \"level\", \"level\", \"level\", \"level\", \"level\", \"level\", \"level\", \"level\", \"li\", \"lib\", \"lib\", \"library\", \"library\", \"library\", \"library\", \"library\", \"library\", \"library\", \"library\", \"like\", \"like\", \"like\", \"like\", \"like\", \"like\", \"like\", \"like\", \"like\", \"like\", \"like\", \"like\", \"like\", \"like\", \"like\", \"like\", \"like\", \"like\", \"line\", \"line\", \"line\", \"line\", \"line\", \"line\", \"line\", \"line\", \"line\", \"line\", \"line\", \"line\", \"line\", \"line\", \"linearlayout\", \"link\", \"link\", \"link\", \"link\", \"link\", \"link\", \"link\", \"link\", \"link\", \"link\", \"linker\", \"linking\", \"linq\", \"linq\", \"linq\", \"linux\", \"linux\", \"linux\", \"list\", \"list\", \"list\", \"list\", \"list\", \"list\", \"list\", \"list\", \"list\", \"list\", \"lldb\", \"llvm\", \"lnk\", \"load\", \"load\", \"load\", \"load\", \"load\", \"load\", \"load\", \"load\", \"load\", \"load\", \"load\", \"load\", \"loader\", \"loader\", \"loader\", \"loc\", \"local\", \"local\", \"local\", \"localhost\", \"localhost\", \"localhost\", \"localstorage\", \"location\", \"location\", \"location\", \"location\", \"location\", \"location\", \"location\", \"location\", \"location\", \"location\", \"location\", \"locationmanager\", \"locking\", \"log\", \"log\", \"log\", \"log\", \"log\", \"log\", \"log\", \"login\", \"login\", \"long\", \"long\", \"long\", \"long\", \"long\", \"long\", \"long\", \"long\", \"long\", \"longitude\", \"looking\", \"looking\", \"looking\", \"looking\", \"looking\", \"looking\", \"looking\", \"looking\", \"looking\", \"looking\", \"looking\", \"looking\", \"loop\", \"loop\", \"loop\", \"loop\", \"loop\", \"loop\", \"loop\", \"lot\", \"lot\", \"lot\", \"lot\", \"lot\", \"lot\", \"lot\", \"lot\", \"love\", \"love\", \"love\", \"love\", \"lstm\", \"lxml\", \"mac\", \"mac\", \"mac\", \"mac\", \"mail\", \"main\", \"main\", \"main\", \"main\", \"main\", \"main\", \"main\", \"main\", \"main\", \"main\", \"main\", \"mainactivity\", \"maintain\", \"maintain\", \"mainwindow\", \"make\", \"make\", \"make\", \"make\", \"make\", \"make\", \"make\", \"make\", \"make\", \"make\", \"make\", \"make\", \"make\", \"make\", \"make\", \"make\", \"make\", \"make\", \"make\", \"many\", \"many\", \"many\", \"many\", \"many\", \"many\", \"many\", \"many\", \"many\", \"many\", \"many\", \"map\", \"mapview\", \"mar\", \"margin\", \"margin\", \"markdown\", \"marker\", \"mat\", \"mat\", \"math\", \"matplotlib\", \"matrix\", \"matrix\", \"maven\", \"max\", \"max\", \"max\", \"max\", \"max\", \"max\", \"max\", \"max\", \"maximum\", \"maybe\", \"maybe\", \"maybe\", \"maybe\", \"maybe\", \"maybe\", \"maybe\", \"maybe\", \"maybe\", \"mb\", \"mb\", \"mb\", \"mb\", \"mb\", \"mean\", \"mean\", \"mean\", \"mean\", \"mean\", \"mean\", \"mean\", \"mean\", \"mean\", \"mean\", \"mean\", \"mean\", \"mean\", \"mean\", \"mean\", \"meaning\", \"meaning\", \"medium\", \"medium\", \"medium\", \"medium\", \"medium\", \"memory\", \"memory\", \"memory\", \"memorystream\", \"menu\", \"mercurial\", \"message\", \"message\", \"message\", \"message\", \"message\", \"message\", \"method\", \"method\", \"method\", \"method\", \"method\", \"method\", \"method\", \"method\", \"method\", \"method\", \"method\", \"method\", \"method\", \"method\", \"metric\", \"metric\", \"microsoft\", \"microsoft\", \"microsoft\", \"microsoft\", \"microsoft\", \"microsoft\", \"microsoft\", \"microsoft\", \"migration\", \"migration\", \"min\", \"min\", \"min\", \"min\", \"min\", \"min\", \"mingw\", \"minute\", \"minute\", \"minute\", \"minute\", \"mm\", \"mock\", \"mockito\", \"mod\", \"modal\", \"mode\", \"mode\", \"mode\", \"mode\", \"mode\", \"mode\", \"mode\", \"mode\", \"mode\", \"mode\", \"model\", \"model\", \"model\", \"model\", \"module\", \"module\", \"module\", \"module\", \"module\", \"module\", \"module\", \"monad\", \"mono\", \"month\", \"month\", \"movie\", \"mozilla\", \"mp\", \"mp\", \"mpi\", \"msbuild\", \"msvcr\", \"msvcrt\", \"much\", \"much\", \"much\", \"much\", \"much\", \"much\", \"much\", \"much\", \"much\", \"much\", \"mutex\", \"mutex\", \"mvc\", \"myclass\", \"myobject\", \"myproject\", \"mysql\", \"mystring\", \"mytable\", \"na\", \"na\", \"name\", \"name\", \"name\", \"name\", \"name\", \"name\", \"name\", \"name\", \"name\", \"name\", \"name\", \"nan\", \"need\", \"need\", \"need\", \"need\", \"need\", \"need\", \"need\", \"need\", \"need\", \"need\", \"need\", \"need\", \"need\", \"need\", \"need\", \"need\", \"need\", \"net\", \"net\", \"net\", \"net\", \"net\", \"net\", \"net\", \"net\", \"net\", \"net\", \"net\", \"neutral\", \"new\", \"new\", \"new\", \"new\", \"new\", \"new\", \"new\", \"new\", \"new\", \"new\", \"new\", \"new\", \"new\", \"new\", \"new\", \"new\", \"new\", \"ng\", \"ng\", \"nice\", \"nice\", \"nice\", \"nice\", \"nice\", \"nice\", \"nice\", \"nil\", \"node\", \"node\", \"node\", \"node\", \"node\", \"np\", \"npm\", \"nsarray\", \"nsdata\", \"nsdate\", \"nsdictionary\", \"nslog\", \"nsstring\", \"nsurl\", \"null\", \"null\", \"null\", \"null\", \"null\", \"num\", \"num\", \"num\", \"num\", \"num\", \"num\", \"number\", \"number\", \"number\", \"number\", \"number\", \"number\", \"number\", \"number\", \"number\", \"number\", \"number\", \"numpy\", \"numpy\", \"numpy\", \"oauth\", \"obj\", \"object\", \"object\", \"object\", \"object\", \"object\", \"object\", \"object\", \"object\", \"object\", \"object\", \"object\", \"objectid\", \"observable\", \"office\", \"offset\", \"offset\", \"offset\", \"onchange\", \"oncreate\", \"one\", \"one\", \"one\", \"one\", \"one\", \"one\", \"one\", \"one\", \"one\", \"one\", \"one\", \"one\", \"one\", \"one\", \"one\", \"oop\", \"opacity\", \"opencv\", \"openssl\", \"operand\", \"operating\", \"operator\", \"operator\", \"operator\", \"opt\", \"opt\", \"optimizer\", \"option\", \"option\", \"option\", \"option\", \"option\", \"option\", \"option\", \"option\", \"option\", \"option\", \"option\", \"option\", \"option\", \"oracle\", \"order\", \"order\", \"order\", \"order\", \"order\", \"order\", \"order\", \"order\", \"order\", \"order\", \"order\", \"order\", \"org\", \"org\", \"org\", \"org\", \"outdated\", \"output\", \"output\", \"output\", \"output\", \"output\", \"output\", \"output\", \"output\", \"output\", \"output\", \"output\", \"overlay\", \"override\", \"override\", \"override\", \"owin\", \"package\", \"package\", \"package\", \"package\", \"package\", \"package\", \"packet\", \"padding\", \"page\", \"page\", \"page\", \"paint\", \"panda\", \"pane\", \"panel\", \"panel\", \"panel\", \"parallel\", \"parallel\", \"param\", \"param\", \"param\", \"parent\", \"parent\", \"parent\", \"parent\", \"parent\", \"parent\", \"parent\", \"parentrunner\", \"parse\", \"parse\", \"parse\", \"parse\", \"parse\", \"parse\", \"password\", \"patch\", \"path\", \"path\", \"path\", \"path\", \"path\", \"path\", \"pattern\", \"pattern\", \"pattern\", \"pattern\", \"pattern\", \"pd\", \"pdb\", \"pdf\", \"pdf\", \"pdf\", \"pdo\", \"peak\", \"persistence\", \"person\", \"person\", \"person\", \"pg\", \"phonegap\", \"photo\", \"php\", \"php\", \"php\", \"php\", \"phpunit\", \"pickle\", \"pid\", \"pid\", \"pip\", \"pip\", \"pipe\", \"pipe\", \"pipe\", \"pipeline\", \"pipeline\", \"pk\", \"placeholder\", \"placeholder\", \"placeholder\", \"platform\", \"platform\", \"play\", \"play\", \"play\", \"plot\", \"plt\", \"plugin\", \"plugin\", \"plugin\", \"plugin\", \"pm\", \"png\", \"po\", \"pod\", \"point\", \"point\", \"point\", \"point\", \"point\", \"point\", \"point\", \"point\", \"point\", \"point\", \"point\", \"point\", \"point\", \"pointer\", \"pointer\", \"pointer\", \"pointer\", \"pointer\", \"pointer\", \"polygon\", \"pom\", \"populated\", \"port\", \"port\", \"port\", \"portable\", \"portaudiomodule\", \"portaudiomodule\", \"portaudiomodule\", \"position\", \"position\", \"position\", \"possible\", \"possible\", \"possible\", \"possible\", \"possible\", \"possible\", \"possible\", \"possible\", \"possible\", \"possible\", \"possible\", \"possible\", \"possible\", \"possible\", \"possible\", \"possible\", \"post\", \"post\", \"post\", \"post\", \"post\", \"post\", \"post\", \"post\", \"post\", \"post\", \"post\", \"post\", \"post\", \"post\", \"post\", \"postgres\", \"postgresql\", \"powershell\", \"practical\", \"practical\", \"preferably\", \"preferably\", \"preventdefault\", \"price\", \"primarily\", \"primary\", \"primary\", \"primary\", \"primary\", \"prime\", \"principle\", \"print\", \"print\", \"print\", \"print\", \"print\", \"printer\", \"printf\", \"printf\", \"println\", \"println\", \"printstacktrace\", \"private\", \"private\", \"problem\", \"problem\", \"problem\", \"problem\", \"problem\", \"problem\", \"problem\", \"problem\", \"problem\", \"problem\", \"problem\", \"problem\", \"problem\", \"problem\", \"problem\", \"problem\", \"problem\", \"proc\", \"proc\", \"process\", \"process\", \"process\", \"process\", \"process\", \"process\", \"process\", \"process\", \"product\", \"product\", \"product\", \"profile\", \"profile\", \"program\", \"program\", \"program\", \"program\", \"program\", \"programming\", \"programming\", \"programming\", \"programming\", \"proj\", \"project\", \"project\", \"project\", \"project\", \"project\", \"project\", \"project\", \"promise\", \"promise\", \"prop\", \"prop\", \"property\", \"property\", \"property\", \"property\", \"property\", \"property\", \"property\", \"property\", \"property\", \"property\", \"property\", \"property\", \"property\", \"protected\", \"protected\", \"protected\", \"protocol\", \"proxy\", \"proxy\", \"proxy\", \"pt\", \"pthread\", \"pthread\", \"ptr\", \"pub\", \"public\", \"public\", \"public\", \"publickeytoken\", \"px\", \"py\", \"py\", \"py\", \"pyspark\", \"python\", \"python\", \"python\", \"python\", \"python\", \"python\", \"qt\", \"query\", \"query\", \"query\", \"question\", \"question\", \"question\", \"question\", \"question\", \"question\", \"question\", \"question\", \"question\", \"question\", \"question\", \"question\", \"question\", \"question\", \"question\", \"question\", \"question\", \"queue\", \"queue\", \"queue\", \"queue\", \"quot\", \"rack\", \"radio\", \"radius\", \"rail\", \"rail\", \"rail\", \"rake\", \"ram\", \"random\", \"random\", \"random\", \"range\", \"range\", \"range\", \"range\", \"range\", \"range\", \"range\", \"rating\", \"rax\", \"razor\", \"rb\", \"react\", \"read\", \"read\", \"read\", \"read\", \"read\", \"read\", \"read\", \"read\", \"read\", \"read\", \"read\", \"read\", \"read\", \"readonly\", \"really\", \"really\", \"really\", \"really\", \"really\", \"really\", \"really\", \"really\", \"really\", \"really\", \"really\", \"recommend\", \"recommend\", \"record\", \"record\", \"record\", \"recursion\", \"recyclerview\", \"red\", \"red\", \"redirected\", \"redux\", \"ref\", \"ref\", \"ref\", \"reflect\", \"reflect\", \"reflect\", \"reflect\", \"regex\", \"regex\", \"region\", \"region\", \"region\", \"relativelayout\", \"reliable\", \"reminder\", \"render\", \"render\", \"req\", \"req\", \"request\", \"request\", \"request\", \"request\", \"response\", \"response\", \"response\", \"responsive\", \"result\", \"result\", \"result\", \"result\", \"result\", \"result\", \"result\", \"result\", \"result\", \"result\", \"result\", \"result\", \"result\", \"result\", \"result\", \"retrofit\", \"return\", \"return\", \"return\", \"return\", \"return\", \"return\", \"return\", \"return\", \"return\", \"return\", \"return\", \"right\", \"right\", \"right\", \"right\", \"right\", \"right\", \"right\", \"right\", \"right\", \"right\", \"right\", \"right\", \"right\", \"right\", \"right\", \"right\", \"rm\", \"robust\", \"role\", \"role\", \"role\", \"roll\", \"rolling\", \"root\", \"root\", \"root\", \"root\", \"root\", \"root\", \"round\", \"route\", \"route\", \"router\", \"router\", \"row\", \"row\", \"rsa\", \"rspec\", \"ruby\", \"rule\", \"rule\", \"rule\", \"rule\", \"rule\", \"run\", \"run\", \"run\", \"run\", \"run\", \"run\", \"run\", \"run\", \"run\", \"run\", \"run\", \"run\", \"run\", \"run\", \"runnable\", \"runner\", \"runner\", \"running\", \"running\", \"running\", \"running\", \"running\", \"running\", \"running\", \"running\", \"running\", \"rvm\", \"sa\", \"safari\", \"safari\", \"sas\", \"savedinstancestate\", \"say\", \"say\", \"say\", \"say\", \"say\", \"say\", \"say\", \"say\", \"say\", \"say\", \"say\", \"sb\", \"scala\", \"scanner\", \"scene\", \"scene\", \"schema\", \"schema\", \"school\", \"score\", \"screen\", \"screen\", \"screen\", \"screen\", \"screen\", \"screen\", \"script\", \"script\", \"script\", \"script\", \"scroll\", \"scroll\", \"scrolling\", \"sdk\", \"sdk\", \"sdk\", \"sdl\", \"se\", \"sec\", \"sec\", \"sec\", \"sec\", \"sec\", \"sec\", \"sec\", \"section\", \"section\", \"section\", \"section\", \"section\", \"section\", \"section\", \"section\", \"section\", \"security\", \"security\", \"security\", \"sed\", \"see\", \"see\", \"see\", \"see\", \"see\", \"see\", \"see\", \"see\", \"see\", \"see\", \"see\", \"see\", \"see\", \"see\", \"see\", \"see\", \"seed\", \"seed\", \"seems\", \"seems\", \"seems\", \"seems\", \"seems\", \"seems\", \"seems\", \"seems\", \"seems\", \"seems\", \"seems\", \"segment\", \"select\", \"select\", \"select\", \"selected\", \"selected\", \"selected\", \"selected\", \"selenium\", \"self\", \"self\", \"send\", \"send\", \"send\", \"send\", \"send\", \"sending\", \"sending\", \"sending\", \"sense\", \"sense\", \"sense\", \"sense\", \"sense\", \"sense\", \"sensor\", \"sentence\", \"sequence\", \"sequence\", \"sequence\", \"sequence\", \"sequence\", \"serializable\", \"server\", \"server\", \"server\", \"server\", \"server\", \"server\", \"service\", \"service\", \"service\", \"service\", \"service\", \"servlet\", \"servlet\", \"session\", \"set\", \"set\", \"set\", \"set\", \"set\", \"set\", \"set\", \"set\", \"set\", \"set\", \"set\", \"set\", \"set\", \"set\", \"set\", \"set\", \"set\", \"set\", \"setter\", \"settext\", \"settext\", \"setting\", \"setting\", \"setting\", \"setting\", \"setting\", \"setting\", \"setting\", \"setting\", \"setting\", \"setting\", \"setting\", \"sh\", \"sha\", \"shadow\", \"shape\", \"share\", \"share\", \"share\", \"share\", \"share\", \"shared\", \"shared\", \"shared\", \"shared\", \"shared\", \"shell\", \"shift\", \"shift\", \"signature\", \"signature\", \"signature\", \"sin\", \"sinatra\", \"singleton\", \"site\", \"site\", \"site\", \"site\", \"site\", \"site\", \"site\", \"size\", \"size\", \"size\", \"size\", \"size\", \"size\", \"size\", \"sizeof\", \"sleep\", \"sleep\", \"slider\", \"slow\", \"slow\", \"slow\", \"slow\", \"slow\", \"soap\", \"socket\", \"solr\", \"solution\", \"solution\", \"solution\", \"solution\", \"solution\", \"solution\", \"solution\", \"solution\", \"solution\", \"solution\", \"solution\", \"solution\", \"solution\", \"solution\", \"solution\", \"something\", \"something\", \"something\", \"something\", \"something\", \"something\", \"something\", \"something\", \"something\", \"something\", \"something\", \"something\", \"something\", \"something\", \"something\", \"something\", \"source\", \"source\", \"source\", \"source\", \"source\", \"source\", \"source\", \"source\", \"source\", \"source\", \"source\", \"source\", \"source\", \"source\", \"space\", \"space\", \"space\", \"space\", \"space\", \"span\", \"spark\", \"spec\", \"spec\", \"spec\", \"spec\", \"spec\", \"spec\", \"spreadsheet\", \"spring\", \"spring\", \"springframework\", \"sprite\", \"sql\", \"sqlalchemy\", \"sqlite\", \"src\", \"src\", \"src\", \"src\", \"src\", \"src\", \"src\", \"src\", \"ssh\", \"ssl\", \"start\", \"start\", \"start\", \"start\", \"start\", \"start\", \"start\", \"start\", \"start\", \"start\", \"start\", \"start\", \"start\", \"start\", \"start\", \"start\", \"static\", \"static\", \"static\", \"static\", \"static\", \"std\", \"stdio\", \"stdout\", \"stopwatch\", \"storyboard\", \"str\", \"str\", \"stream\", \"stream\", \"stream\", \"stream\", \"string\", \"string\", \"string\", \"string\", \"stringbuilder\", \"stringify\", \"strong\", \"strong\", \"struct\", \"structure\", \"structure\", \"structure\", \"structure\", \"structure\", \"structure\", \"structure\", \"structure\", \"structure\", \"structure\", \"structure\", \"student\", \"student\", \"studio\", \"studio\", \"style\", \"style\", \"style\", \"style\", \"submit\", \"submit\", \"submit\", \"subprocess\", \"subscriber\", \"substring\", \"sudo\", \"suite\", \"sum\", \"sun\", \"super\", \"super\", \"super\", \"support\", \"support\", \"support\", \"support\", \"support\", \"support\", \"support\", \"support\", \"support\", \"support\", \"svg\", \"svn\", \"swift\", \"symbol\", \"symbol\", \"symbol\", \"symbol\", \"symbol\", \"symbol\", \"synchronized\", \"system\", \"system\", \"system\", \"system\", \"system\", \"system\", \"system\", \"system\", \"system\", \"table\", \"table\", \"tablename\", \"tag\", \"tag\", \"tag\", \"tag\", \"tag\", \"tag\", \"tag\", \"tar\", \"target\", \"target\", \"target\", \"target\", \"target\", \"target\", \"target\", \"target\", \"target\", \"target\", \"target\", \"task\", \"task\", \"task\", \"task\", \"task\", \"task\", \"task\", \"tcp\", \"td\", \"team\", \"team\", \"template\", \"template\", \"template\", \"template\", \"tenant\", \"tensorflow\", \"term\", \"term\", \"term\", \"term\", \"terminal\", \"test\", \"test\", \"test\", \"testing\", \"testing\", \"text\", \"text\", \"text\", \"text\", \"text\", \"text\", \"text\", \"text\", \"textarea\", \"textblock\", \"textbox\", \"textfield\", \"textview\", \"tf\", \"th\", \"th\", \"thanks\", \"thanks\", \"thanks\", \"thanks\", \"thanks\", \"thanks\", \"thanks\", \"thanks\", \"thanks\", \"thanks\", \"thanks\", \"thanks\", \"thanks\", \"thanks\", \"thanks\", \"thanks\", \"thanks\", \"theory\", \"thing\", \"thing\", \"thing\", \"thing\", \"thing\", \"thing\", \"thing\", \"thing\", \"thing\", \"thing\", \"thing\", \"thing\", \"think\", \"think\", \"think\", \"think\", \"think\", \"think\", \"think\", \"think\", \"think\", \"think\", \"think\", \"think\", \"think\", \"thousand\", \"thousand\", \"thousand\", \"thousand\", \"thread\", \"thread\", \"thread\", \"thread\", \"thread\", \"three\", \"three\", \"three\", \"three\", \"three\", \"three\", \"three\", \"three\", \"throw\", \"throw\", \"throw\", \"throw\", \"thumbnail\", \"tile\", \"time\", \"time\", \"time\", \"time\", \"time\", \"time\", \"time\", \"time\", \"time\", \"time\", \"time\", \"time\", \"time\", \"time\", \"time\", \"time\", \"timeout\", \"timezone\", \"title\", \"title\", \"title\", \"title\", \"title\", \"title\", \"title\", \"title\", \"title\", \"tmp\", \"tmp\", \"tmp\", \"tmp\", \"toast\", \"toast\", \"token\", \"tomcat\", \"tomcat\", \"tool\", \"tool\", \"tool\", \"tool\", \"tool\", \"tool\", \"top\", \"top\", \"top\", \"top\", \"top\", \"top\", \"top\", \"top\", \"top\", \"top\", \"top\", \"total\", \"total\", \"total\", \"total\", \"total\", \"total\", \"tp\", \"tr\", \"tr\", \"trade\", \"train\", \"trait\", \"transaction\", \"transaction\", \"transaction\", \"transforms\", \"tree\", \"triangle\", \"tried\", \"tried\", \"tried\", \"tried\", \"tried\", \"tried\", \"tried\", \"tried\", \"tried\", \"tried\", \"tried\", \"tried\", \"tried\", \"tried\", \"tried\", \"tried\", \"tried\", \"tried\", \"trivial\", \"trivial\", \"true\", \"true\", \"true\", \"true\", \"true\", \"true\", \"true\", \"true\", \"true\", \"true\", \"true\", \"true\", \"true\", \"true\", \"true\", \"try\", \"try\", \"try\", \"try\", \"try\", \"try\", \"try\", \"try\", \"try\", \"try\", \"try\", \"try\", \"tuple\", \"tuple\", \"two\", \"two\", \"two\", \"two\", \"two\", \"two\", \"two\", \"two\", \"two\", \"two\", \"two\", \"two\", \"txt\", \"type\", \"type\", \"type\", \"type\", \"type\", \"type\", \"type\", \"type\", \"type\", \"type\", \"type\", \"type\", \"type\", \"type\", \"type\", \"type\", \"typedef\", \"typename\", \"ubuntu\", \"ubuntu\", \"uiapplication\", \"uibutton\", \"uicolor\", \"uicolor\", \"uiimage\", \"uiimageview\", \"uilabel\", \"uinavigationcontroller\", \"uint\", \"uitableview\", \"uitextview\", \"uiview\", \"uiviewcontroller\", \"uiwebview\", \"ul\", \"unclear\", \"underscore\", \"understand\", \"understand\", \"understand\", \"understand\", \"understand\", \"understand\", \"understand\", \"understand\", \"understand\", \"understand\", \"understand\", \"understanding\", \"understanding\", \"understanding\", \"understanding\", \"understanding\", \"understood\", \"understood\", \"unicode\", \"unicode\", \"union\", \"unit\", \"unity\", \"unsafe\", \"update\", \"update\", \"update\", \"update\", \"update\", \"update\", \"update\", \"update\", \"update\", \"update\", \"update\", \"update\", \"update\", \"update\", \"update\", \"update\", \"upload\", \"upload\", \"upload\", \"upload\", \"url\", \"url\", \"url\", \"url\", \"url\", \"use\", \"use\", \"use\", \"use\", \"use\", \"use\", \"use\", \"use\", \"use\", \"use\", \"use\", \"use\", \"use\", \"use\", \"use\", \"use\", \"use\", \"use\", \"used\", \"used\", \"used\", \"used\", \"used\", \"used\", \"used\", \"used\", \"used\", \"used\", \"used\", \"used\", \"used\", \"used\", \"used\", \"used\", \"used\", \"user\", \"user\", \"user\", \"user\", \"user\", \"user\", \"user\", \"user\", \"user\", \"user\", \"user\", \"user\", \"user\", \"user\", \"userid\", \"username\", \"using\", \"using\", \"using\", \"using\", \"using\", \"using\", \"using\", \"using\", \"using\", \"using\", \"using\", \"using\", \"using\", \"using\", \"using\", \"using\", \"using\", \"using\", \"using\", \"using\", \"usr\", \"usr\", \"utf\", \"utf\", \"util\", \"util\", \"util\", \"uuid\", \"vagrant\", \"validation\", \"validation\", \"validation\", \"validation\", \"validation\", \"value\", \"value\", \"value\", \"value\", \"value\", \"value\", \"value\", \"var\", \"var\", \"var\", \"var\", \"var\", \"var\", \"var\", \"varchar\", \"varchar\", \"variable\", \"variable\", \"variable\", \"variable\", \"variable\", \"variable\", \"variable\", \"variable\", \"variable\", \"variant\", \"variant\", \"variant\", \"vec\", \"vector\", \"vehicle\", \"version\", \"version\", \"version\", \"version\", \"version\", \"version\", \"version\", \"version\", \"version\", \"version\", \"version\", \"vertex\", \"video\", \"video\", \"view\", \"view\", \"view\", \"view\", \"view\", \"view\", \"viewcontroller\", \"viewdidload\", \"viewgroup\", \"viewmodel\", \"viewmodel\", \"viewport\", \"visitor\", \"visual\", \"void\", \"void\", \"vote\", \"vue\", \"vue\", \"want\", \"want\", \"want\", \"want\", \"want\", \"want\", \"want\", \"want\", \"want\", \"want\", \"want\", \"want\", \"want\", \"want\", \"want\", \"want\", \"want\", \"want\", \"want\", \"war\", \"warning\", \"warning\", \"warning\", \"way\", \"way\", \"way\", \"way\", \"way\", \"way\", \"way\", \"way\", \"way\", \"way\", \"way\", \"way\", \"way\", \"way\", \"way\", \"way\", \"way\", \"web\", \"web\", \"web\", \"web\", \"web\", \"web\", \"webdriver\", \"webkit\", \"webkit\", \"webrequest\", \"website\", \"website\", \"website\", \"website\", \"webview\", \"weight\", \"weight\", \"welcome\", \"white\", \"widget\", \"widget\", \"widget\", \"width\", \"width\", \"width\", \"wikipedia\", \"wikipedia\", \"window\", \"window\", \"window\", \"window\", \"window\", \"window\", \"window\", \"wise\", \"wondering\", \"wondering\", \"wondering\", \"wondering\", \"wondering\", \"wondering\", \"wondering\", \"wondering\", \"wondering\", \"wondering\", \"word\", \"word\", \"word\", \"word\", \"word\", \"word\", \"work\", \"work\", \"work\", \"work\", \"work\", \"work\", \"work\", \"work\", \"work\", \"work\", \"work\", \"work\", \"work\", \"work\", \"work\", \"work\", \"work\", \"work\", \"work\", \"workbook\", \"worker\", \"worker\", \"working\", \"working\", \"working\", \"working\", \"working\", \"working\", \"working\", \"working\", \"working\", \"working\", \"working\", \"working\", \"working\", \"working\", \"working\", \"would\", \"would\", \"would\", \"would\", \"would\", \"would\", \"would\", \"would\", \"would\", \"would\", \"would\", \"would\", \"would\", \"wp\", \"wp\", \"wpf\", \"wrap\", \"wrap\", \"wrap\", \"wrap\", \"wrap\", \"writeline\", \"wsdl\", \"www\", \"www\", \"www\", \"www\", \"www\", \"xaml\", \"xcode\", \"xcode\", \"xhtml\", \"xhtml\", \"xl\", \"xml\", \"xml\", \"xml\", \"xml\", \"xml\", \"xml\", \"xml\", \"xmlns\", \"xmlns\", \"xmm\", \"xsl\", \"year\", \"year\", \"year\", \"yes\", \"yes\", \"yes\", \"yes\", \"yes\", \"yes\", \"yes\", \"yes\", \"yes\", \"yes\", \"yes\", \"yes\", \"yes\", \"ymm\", \"youtube\", \"youtube\", \"za\", \"zookeeper\", \"zygoteinit\"]}, \"R\": 30, \"lambda.step\": 0.01, \"plot.opts\": {\"xlab\": \"PC1\", \"ylab\": \"PC2\"}, \"topic.order\": [16, 12, 7, 11, 3, 4, 17, 13, 18, 19, 14, 8, 6, 5, 2, 1, 20, 9, 10, 15]};\n",
       "\n",
       "function LDAvis_load_lib(url, callback){\n",
       "  var s = document.createElement('script');\n",
       "  s.src = url;\n",
       "  s.async = true;\n",
       "  s.onreadystatechange = s.onload = callback;\n",
       "  s.onerror = function(){console.warn(\"failed to load library \" + url);};\n",
       "  document.getElementsByTagName(\"head\")[0].appendChild(s);\n",
       "}\n",
       "\n",
       "if(typeof(LDAvis) !== \"undefined\"){\n",
       "   // already loaded: just create the visualization\n",
       "   !function(LDAvis){\n",
       "       new LDAvis(\"#\" + \"ldavis_el160391404881334022885698356519\", ldavis_el160391404881334022885698356519_data);\n",
       "   }(LDAvis);\n",
       "}else if(typeof define === \"function\" && define.amd){\n",
       "   // require.js is available: use it to load d3/LDAvis\n",
       "   require.config({paths: {d3: \"https://d3js.org/d3.v5\"}});\n",
       "   require([\"d3\"], function(d3){\n",
       "      window.d3 = d3;\n",
       "      LDAvis_load_lib(\"https://cdn.jsdelivr.net/gh/bmabey/pyLDAvis@3.3.1/pyLDAvis/js/ldavis.v3.0.0.js\", function(){\n",
       "        new LDAvis(\"#\" + \"ldavis_el160391404881334022885698356519\", ldavis_el160391404881334022885698356519_data);\n",
       "      });\n",
       "    });\n",
       "}else{\n",
       "    // require.js not available: dynamically load d3 & LDAvis\n",
       "    LDAvis_load_lib(\"https://d3js.org/d3.v5.js\", function(){\n",
       "         LDAvis_load_lib(\"https://cdn.jsdelivr.net/gh/bmabey/pyLDAvis@3.3.1/pyLDAvis/js/ldavis.v3.0.0.js\", function(){\n",
       "                 new LDAvis(\"#\" + \"ldavis_el160391404881334022885698356519\", ldavis_el160391404881334022885698356519_data);\n",
       "            })\n",
       "         });\n",
       "}\n",
       "</script>"
      ],
      "text/plain": [
       "PreparedData(topic_coordinates=              x         y  topics  cluster       Freq\n",
       "topic                                                \n",
       "15    -0.195686 -0.087601       1        1  14.106683\n",
       "11    -0.240866 -0.036800       2        1   9.409446\n",
       "6     -0.075356 -0.159602       3        1   8.020085\n",
       "10    -0.067414 -0.013278       4        1   7.365515\n",
       "2      0.042814 -0.165012       5        1   7.141228\n",
       "3     -0.129231  0.022906       6        1   6.726383\n",
       "16     0.081682 -0.123112       7        1   5.270883\n",
       "12     0.069972 -0.180230       8        1   4.552008\n",
       "17    -0.160865  0.044238       9        1   4.400122\n",
       "18     0.275073 -0.090994      10        1   4.217761\n",
       "13     0.030559 -0.030268      11        1   4.188441\n",
       "7      0.214641 -0.059298      12        1   4.086454\n",
       "5     -0.041899  0.030574      13        1   3.695443\n",
       "4     -0.035722  0.029650      14        1   3.376277\n",
       "1      0.081258  0.091296      15        1   3.255828\n",
       "0      0.056127 -0.047280      16        1   2.873944\n",
       "19    -0.084184  0.127951      17        1   2.274423\n",
       "8     -0.020819  0.289196      18        1   1.999787\n",
       "9     -0.060996  0.122359      19        1   1.576078\n",
       "14     0.260913  0.235303      20        1   1.463212, topic_info=          Term          Freq         Total Category  logprob  loglift\n",
       "152    android  18529.000000  18529.000000  Default  30.0000  30.0000\n",
       "1623      file  28794.000000  28794.000000  Default  29.0000  29.0000\n",
       "2321      java  18626.000000  18626.000000  Default  28.0000  28.0000\n",
       "4416      test  11668.000000  11668.000000  Default  27.0000  27.0000\n",
       "1767  function  17755.000000  17755.000000  Default  26.0000  26.0000\n",
       "...        ...           ...           ...      ...      ...      ...\n",
       "3232      pipe    386.875278    575.206198  Topic20  -5.0154   3.8279\n",
       "4189     start    670.542129   5738.241828  Topic20  -4.4654   2.0777\n",
       "4168       src    503.321068   3776.283359  Topic20  -4.7523   2.2093\n",
       "2649        mb    406.262644    961.787237  Topic20  -4.9665   3.3627\n",
       "2182      init    434.221258   2776.246012  Topic20  -4.8999   2.3692\n",
       "\n",
       "[1340 rows x 6 columns], token_table=      Topic      Freq        Term\n",
       "term                             \n",
       "1         6  0.991622         aaa\n",
       "5         6  0.986122         abc\n",
       "5        12  0.011601         abc\n",
       "8         1  0.552904        able\n",
       "8         2  0.011532        able\n",
       "...     ...       ...         ...\n",
       "4985      8  0.997019     youtube\n",
       "4985     12  0.002235     youtube\n",
       "4989     14  0.995532          za\n",
       "4995      1  0.986268   zookeeper\n",
       "4999     12  0.997203  zygoteinit\n",
       "\n",
       "[3961 rows x 3 columns], R=30, lambda_step=0.01, plot_opts={'xlab': 'PC1', 'ylab': 'PC2'}, topic_order=[16, 12, 7, 11, 3, 4, 17, 13, 18, 19, 14, 8, 6, 5, 2, 1, 20, 9, 10, 15])"
      ]
     },
     "execution_count": 23,
     "metadata": {},
     "output_type": "execute_result"
    }
   ],
   "source": [
    "from __future__ import print_function\n",
    "import pyLDAvis\n",
    "\n",
    "import pyLDAvis.sklearn\n",
    "pyLDAvis.enable_notebook()\n",
    "pyLDAvis.sklearn.prepare(lda, questions_features, vectorizer)"
   ]
  },
  {
   "cell_type": "markdown",
   "id": "5c9f6840",
   "metadata": {},
   "source": [
    "### Création de la Pipeline regroupant le préprocessing et le modèle LDA"
   ]
  },
  {
   "cell_type": "code",
   "execution_count": 16,
   "id": "9340f5eb",
   "metadata": {},
   "outputs": [],
   "source": [
    "# On créé le vectorizer qui va vectorizer les mots de nos questions. \n",
    "\n",
    "# Pour chaque question, on applique la fonction qui récupère les mots clés des questions posées. \n",
    "def clearing_questions(Body):\n",
    "    # On créé une liste vide déstinée à receullir les mots de nos questions. \n",
    "    questions_cleared =[]\n",
    "    for question in Body:\n",
    "        cleared_question = question_to_words_BW(question)\n",
    "        questions_cleared.append(cleared_question)\n",
    "        \n",
    "    return questions_cleared\n"
   ]
  },
  {
   "cell_type": "code",
   "execution_count": 17,
   "id": "adad4f22",
   "metadata": {},
   "outputs": [
    {
     "name": "stderr",
     "output_type": "stream",
     "text": [
      "/Users/florentmargery/opt/anaconda3/envs/work_env/lib/python3.9/site-packages/sklearn/experimental/enable_hist_gradient_boosting.py:16: UserWarning: Since version 1.0, it is not needed to import enable_hist_gradient_boosting anymore. HistGradientBoostingClassifier and HistGradientBoostingRegressor are now stable and can be normally imported from sklearn.ensemble.\n",
      "  warnings.warn(\n"
     ]
    }
   ],
   "source": [
    "from sklearn import datasets, preprocessing, model_selection, ensemble, pipeline\n",
    "from sklearn.experimental import enable_hist_gradient_boosting"
   ]
  },
  {
   "cell_type": "code",
   "execution_count": 19,
   "id": "4343e1da",
   "metadata": {},
   "outputs": [],
   "source": [
    "from sklearn.preprocessing import FunctionTransformer\n",
    "from sklearn.decomposition import LatentDirichletAllocation\n",
    "n_topics = 20\n",
    "\n",
    "from sklearn.pipeline import Pipeline\n",
    "transformer_1 = FunctionTransformer(clearing_questions)\n",
    "pipeline = Pipeline([\n",
    "   ('transformer', transformer_1), ('vectorizer',CountVectorizer(analyzer = \"word\", max_features = 5000)),\n",
    "   ('LDA',LatentDirichletAllocation(n_components = n_topics, max_iter = 5,\\\n",
    "                                                                     learning_method='online',learning_offset=50.,random_state=0))\n",
    "])"
   ]
  },
  {
   "cell_type": "code",
   "execution_count": null,
   "id": "eac42622",
   "metadata": {},
   "outputs": [],
   "source": []
  },
  {
   "cell_type": "markdown",
   "id": "ce5bad3e",
   "metadata": {
    "scrolled": true
   },
   "source": [
    "#### import joblib\n",
    "joblib.dump(pipeline, 'pipeline_housing.joblib')\n",
    "from mlflow.models.signature import infer_signature\n",
    "signature = infer_signature(data.Body)\n",
    "import mlflow\n",
    "mlflow.sklearn.save_model(pipeline, 'mlflow_model', signature=signature)"
   ]
  },
  {
   "cell_type": "code",
   "execution_count": 94,
   "id": "ab3a4eb0",
   "metadata": {},
   "outputs": [],
   "source": []
  },
  {
   "cell_type": "code",
   "execution_count": 95,
   "id": "10ce0dac",
   "metadata": {},
   "outputs": [],
   "source": []
  },
  {
   "cell_type": "code",
   "execution_count": 271,
   "id": "40dcb03b",
   "metadata": {},
   "outputs": [],
   "source": [
    "def tag_generator(questions):\n",
    "    for question in questions:\n",
    "        new_document_topic = np.where(question == question.max())\n",
    "        new_document_topic = int(new_document_topic[0])\n",
    "        print('La répartition des proba d\\'appartenance aux différents TOPICS est \\n  ', question)\n",
    "        print('Les tags suggérés pour ce document sont :  \\n',topic_list.T.iloc[new_document_topic,:5])"
   ]
  },
  {
   "cell_type": "code",
   "execution_count": 278,
   "id": "cbf93390",
   "metadata": {
    "scrolled": false
   },
   "outputs": [
    {
     "name": "stdout",
     "output_type": "stream",
     "text": [
      "La répartition des proba d'appartenance aux différents TOPICS est \n",
      "   [0.24166897 0.00092593 0.00092593 0.00092593 0.00092593 0.00092593\n",
      " 0.47526279 0.00092593 0.00092593 0.00092593 0.2673275  0.00092593\n",
      " 0.00092593 0.00092593 0.00092593 0.00092593 0.00092593 0.00092593\n",
      " 0.00092593 0.00092593]\n",
      "Les tags suggérés pour ce document sont :  \n",
      " 0         use\n",
      "1       would\n",
      "2        like\n",
      "3    question\n",
      "4       using\n",
      "Name: 6, dtype: object\n"
     ]
    }
   ],
   "source": [
    "tag_generator(question_test)"
   ]
  },
  {
   "cell_type": "code",
   "execution_count": null,
   "id": "ec613319",
   "metadata": {},
   "outputs": [],
   "source": []
  },
  {
   "cell_type": "markdown",
   "id": "85803685",
   "metadata": {},
   "source": [
    "# WORD2VEC Model"
   ]
  },
  {
   "cell_type": "code",
   "execution_count": 15,
   "id": "cd0c41b9",
   "metadata": {},
   "outputs": [
    {
     "name": "stderr",
     "output_type": "stream",
     "text": [
      "/Users/florentmargery/opt/anaconda3/envs/work_env/lib/python3.9/site-packages/bs4/__init__.py:431: MarkupResemblesLocatorWarning: \"https://stackoverflow.com/questions/66268/what-is-the-best-cc-coding-style-closed\" looks like a URL. Beautiful Soup is not an HTTP client. You should probably use an HTTP client like requests to get the document behind the URL, and feed that document to Beautiful Soup.\n",
      "  warnings.warn(\n",
      "/Users/florentmargery/opt/anaconda3/envs/work_env/lib/python3.9/site-packages/bs4/__init__.py:337: MarkupResemblesLocatorWarning: \".\" looks like a directory name, not markup. You may want to open a file found in this directory and pass the filehandle into Beautiful Soup.\n",
      "  warnings.warn(\n",
      "/Users/florentmargery/opt/anaconda3/envs/work_env/lib/python3.9/site-packages/bs4/__init__.py:431: MarkupResemblesLocatorWarning: \"https://lists.webkit.org/pipermail/webkit-dev/2008-September/005019.html\n",
      "https://lists.webkit.org/pipermail/webkit-dev/2009-June/008182.html\" looks like a URL. Beautiful Soup is not an HTTP client. You should probably use an HTTP client like requests to get the document behind the URL, and feed that document to Beautiful Soup.\n",
      "  warnings.warn(\n",
      "/Users/florentmargery/opt/anaconda3/envs/work_env/lib/python3.9/site-packages/bs4/__init__.py:431: MarkupResemblesLocatorWarning: \"http://github.com/ask/carrot/tree/master\n",
      "http://github.com/ask/celery/tree/master\" looks like a URL. Beautiful Soup is not an HTTP client. You should probably use an HTTP client like requests to get the document behind the URL, and feed that document to Beautiful Soup.\n",
      "  warnings.warn(\n",
      "/Users/florentmargery/opt/anaconda3/envs/work_env/lib/python3.9/site-packages/bs4/__init__.py:431: MarkupResemblesLocatorWarning: \"https://source.android.com/source/jack\" looks like a URL. Beautiful Soup is not an HTTP client. You should probably use an HTTP client like requests to get the document behind the URL, and feed that document to Beautiful Soup.\n",
      "  warnings.warn(\n",
      "/Users/florentmargery/opt/anaconda3/envs/work_env/lib/python3.9/site-packages/bs4/__init__.py:431: MarkupResemblesLocatorWarning: \"http://runnable.com/UWRl3KlLuONCAACG/read-files-from-filesystem-in-python\" looks like a URL. Beautiful Soup is not an HTTP client. You should probably use an HTTP client like requests to get the document behind the URL, and feed that document to Beautiful Soup.\n",
      "  warnings.warn(\n",
      "/Users/florentmargery/opt/anaconda3/envs/work_env/lib/python3.9/site-packages/bs4/__init__.py:431: MarkupResemblesLocatorWarning: \"http://www.matthidinger.com/images/onion-arch.png\" looks like a URL. Beautiful Soup is not an HTTP client. You should probably use an HTTP client like requests to get the document behind the URL, and feed that document to Beautiful Soup.\n",
      "  warnings.warn(\n",
      "/Users/florentmargery/opt/anaconda3/envs/work_env/lib/python3.9/site-packages/bs4/__init__.py:431: MarkupResemblesLocatorWarning: \"https://docs.jboss.org/hibernate/orm/4.0/devguide/en-US/html/ch05.html.\" looks like a URL. Beautiful Soup is not an HTTP client. You should probably use an HTTP client like requests to get the document behind the URL, and feed that document to Beautiful Soup.\n",
      "  warnings.warn(\n",
      "/Users/florentmargery/opt/anaconda3/envs/work_env/lib/python3.9/site-packages/bs4/__init__.py:431: MarkupResemblesLocatorWarning: \"https://hub.docker.com/r/microsoft/iis/\" looks like a URL. Beautiful Soup is not an HTTP client. You should probably use an HTTP client like requests to get the document behind the URL, and feed that document to Beautiful Soup.\n",
      "  warnings.warn(\n",
      "/Users/florentmargery/opt/anaconda3/envs/work_env/lib/python3.9/site-packages/bs4/__init__.py:431: MarkupResemblesLocatorWarning: \"http://writingminds.github.io/ffmpeg-android-java\n",
      "https://github.com/WritingMinds/ffmpeg-android-java\n",
      "https://github.com/havlenapetr/FFMpeg\n",
      "https://github.com/appunite/AndroidFFmpeg\n",
      "https://github.com/WritingMinds/ffmpeg-android\" looks like a URL. Beautiful Soup is not an HTTP client. You should probably use an HTTP client like requests to get the document behind the URL, and feed that document to Beautiful Soup.\n",
      "  warnings.warn(\n",
      "/Users/florentmargery/opt/anaconda3/envs/work_env/lib/python3.9/site-packages/bs4/__init__.py:431: MarkupResemblesLocatorWarning: \"http://dewitters.koonsolo.com/gamemvc.html\" looks like a URL. Beautiful Soup is not an HTTP client. You should probably use an HTTP client like requests to get the document behind the URL, and feed that document to Beautiful Soup.\n",
      "  warnings.warn(\n",
      "/Users/florentmargery/opt/anaconda3/envs/work_env/lib/python3.9/site-packages/bs4/__init__.py:431: MarkupResemblesLocatorWarning: \"https://www.nccgroup.trust/us/about-us/newsroom-and-events/blog/2007/july/enough-with-the-rainbow-tables-what-you-need-to-know-about-secure-password-schemes/\" looks like a URL. Beautiful Soup is not an HTTP client. You should probably use an HTTP client like requests to get the document behind the URL, and feed that document to Beautiful Soup.\n",
      "  warnings.warn(\n",
      "/Users/florentmargery/opt/anaconda3/envs/work_env/lib/python3.9/site-packages/bs4/__init__.py:431: MarkupResemblesLocatorWarning: \"https://github.com/dreftymac/stackoverflow.questions.998832\" looks like a URL. Beautiful Soup is not an HTTP client. You should probably use an HTTP client like requests to get the document behind the URL, and feed that document to Beautiful Soup.\n",
      "  warnings.warn(\n",
      "/Users/florentmargery/opt/anaconda3/envs/work_env/lib/python3.9/site-packages/bs4/__init__.py:431: MarkupResemblesLocatorWarning: \"http://lostechies.com/jimmybogard/2009/06/30/how-we-do-mvc-view-models/\" looks like a URL. Beautiful Soup is not an HTTP client. You should probably use an HTTP client like requests to get the document behind the URL, and feed that document to Beautiful Soup.\n",
      "  warnings.warn(\n",
      "/Users/florentmargery/opt/anaconda3/envs/work_env/lib/python3.9/site-packages/bs4/__init__.py:431: MarkupResemblesLocatorWarning: \"http://code.google.com/p/android/issues/detail?id=22822\" looks like a URL. Beautiful Soup is not an HTTP client. You should probably use an HTTP client like requests to get the document behind the URL, and feed that document to Beautiful Soup.\n",
      "  warnings.warn(\n",
      "/Users/florentmargery/opt/anaconda3/envs/work_env/lib/python3.9/site-packages/bs4/__init__.py:431: MarkupResemblesLocatorWarning: \"http://en.wikipedia.org/wiki/Persistent_data_structure).\" looks like a URL. Beautiful Soup is not an HTTP client. You should probably use an HTTP client like requests to get the document behind the URL, and feed that document to Beautiful Soup.\n",
      "  warnings.warn(\n",
      "/Users/florentmargery/opt/anaconda3/envs/work_env/lib/python3.9/site-packages/bs4/__init__.py:431: MarkupResemblesLocatorWarning: \"http://docs.oracle.com/javaee/6/api/javax/servlet/ServletContextListener.html\" looks like a URL. Beautiful Soup is not an HTTP client. You should probably use an HTTP client like requests to get the document behind the URL, and feed that document to Beautiful Soup.\n",
      "  warnings.warn(\n",
      "/Users/florentmargery/opt/anaconda3/envs/work_env/lib/python3.9/site-packages/bs4/__init__.py:431: MarkupResemblesLocatorWarning: \"http://pastebin.com/MzPENmHp\" looks like a URL. Beautiful Soup is not an HTTP client. You should probably use an HTTP client like requests to get the document behind the URL, and feed that document to Beautiful Soup.\n",
      "  warnings.warn(\n",
      "/Users/florentmargery/opt/anaconda3/envs/work_env/lib/python3.9/site-packages/bs4/__init__.py:431: MarkupResemblesLocatorWarning: \"https://github.com/cgeo7/spring-rest-example\" looks like a URL. Beautiful Soup is not an HTTP client. You should probably use an HTTP client like requests to get the document behind the URL, and feed that document to Beautiful Soup.\n",
      "  warnings.warn(\n",
      "/Users/florentmargery/opt/anaconda3/envs/work_env/lib/python3.9/site-packages/bs4/__init__.py:431: MarkupResemblesLocatorWarning: \"https://gist.github.com/axefrog/c347bf0f5e0723cbd09b1aaed6ec6fc6\" looks like a URL. Beautiful Soup is not an HTTP client. You should probably use an HTTP client like requests to get the document behind the URL, and feed that document to Beautiful Soup.\n",
      "  warnings.warn(\n",
      "/Users/florentmargery/opt/anaconda3/envs/work_env/lib/python3.9/site-packages/bs4/__init__.py:431: MarkupResemblesLocatorWarning: \"http://james.newtonking.com/json/help/?topic=html/M_Newtonsoft_Json_JsonConvert_DeserializeObject.htm#seeAlsoToggle\" looks like a URL. Beautiful Soup is not an HTTP client. You should probably use an HTTP client like requests to get the document behind the URL, and feed that document to Beautiful Soup.\n",
      "  warnings.warn(\n"
     ]
    },
    {
     "name": "stderr",
     "output_type": "stream",
     "text": [
      "/Users/florentmargery/opt/anaconda3/envs/work_env/lib/python3.9/site-packages/bs4/__init__.py:431: MarkupResemblesLocatorWarning: \"http://www.uploadify.com/demos/\n",
      "http://www.zamzar.com/\" looks like a URL. Beautiful Soup is not an HTTP client. You should probably use an HTTP client like requests to get the document behind the URL, and feed that document to Beautiful Soup.\n",
      "  warnings.warn(\n",
      "/Users/florentmargery/opt/anaconda3/envs/work_env/lib/python3.9/site-packages/bs4/__init__.py:431: MarkupResemblesLocatorWarning: \"https://cran.r-project.org/web/packages/gcbd/vignettes/gcbd.pdf.\" looks like a URL. Beautiful Soup is not an HTTP client. You should probably use an HTTP client like requests to get the document behind the URL, and feed that document to Beautiful Soup.\n",
      "  warnings.warn(\n",
      "/Users/florentmargery/opt/anaconda3/envs/work_env/lib/python3.9/site-packages/bs4/__init__.py:431: MarkupResemblesLocatorWarning: \"http://jsfiddle.net/RagKH/\" looks like a URL. Beautiful Soup is not an HTTP client. You should probably use an HTTP client like requests to get the document behind the URL, and feed that document to Beautiful Soup.\n",
      "  warnings.warn(\n",
      "/Users/florentmargery/opt/anaconda3/envs/work_env/lib/python3.9/site-packages/bs4/__init__.py:431: MarkupResemblesLocatorWarning: \"http://jsfiddle.net/ezZr5/\" looks like a URL. Beautiful Soup is not an HTTP client. You should probably use an HTTP client like requests to get the document behind the URL, and feed that document to Beautiful Soup.\n",
      "  warnings.warn(\n",
      "/Users/florentmargery/opt/anaconda3/envs/work_env/lib/python3.9/site-packages/bs4/__init__.py:431: MarkupResemblesLocatorWarning: \"http://code.google.com/p/google-api-objectivec-client/wiki/Introduction\n",
      "http://code.google.com/p/google-api-objectivec-client/wiki/BuildingTheLibrary\n",
      "http://code.google.com/p/gtm-oauth2/\" looks like a URL. Beautiful Soup is not an HTTP client. You should probably use an HTTP client like requests to get the document behind the URL, and feed that document to Beautiful Soup.\n",
      "  warnings.warn(\n",
      "/Users/florentmargery/opt/anaconda3/envs/work_env/lib/python3.9/site-packages/bs4/__init__.py:431: MarkupResemblesLocatorWarning: \"https://github.com/jeromeetienne/jquery-qrcode\" looks like a URL. Beautiful Soup is not an HTTP client. You should probably use an HTTP client like requests to get the document behind the URL, and feed that document to Beautiful Soup.\n",
      "  warnings.warn(\n",
      "/Users/florentmargery/opt/anaconda3/envs/work_env/lib/python3.9/site-packages/bs4/__init__.py:431: MarkupResemblesLocatorWarning: \"http://forums.java.net/jive/thread.jspa?threadID=62657&tstart=0\" looks like a URL. Beautiful Soup is not an HTTP client. You should probably use an HTTP client like requests to get the document behind the URL, and feed that document to Beautiful Soup.\n",
      "  warnings.warn(\n",
      "/Users/florentmargery/opt/anaconda3/envs/work_env/lib/python3.9/site-packages/bs4/__init__.py:431: MarkupResemblesLocatorWarning: \"http://doc.qtsoftware.com/4.5/deployment-windows.html\" looks like a URL. Beautiful Soup is not an HTTP client. You should probably use an HTTP client like requests to get the document behind the URL, and feed that document to Beautiful Soup.\n",
      "  warnings.warn(\n",
      "/Users/florentmargery/opt/anaconda3/envs/work_env/lib/python3.9/site-packages/bs4/__init__.py:337: MarkupResemblesLocatorWarning: \"..\" looks like a directory name, not markup. You may want to open a file found in this directory and pass the filehandle into Beautiful Soup.\n",
      "  warnings.warn(\n",
      "/Users/florentmargery/opt/anaconda3/envs/work_env/lib/python3.9/site-packages/bs4/__init__.py:431: MarkupResemblesLocatorWarning: \"https://issues.jenkins-ci.org/browse/JENKINS-24590\" looks like a URL. Beautiful Soup is not an HTTP client. You should probably use an HTTP client like requests to get the document behind the URL, and feed that document to Beautiful Soup.\n",
      "  warnings.warn(\n",
      "/Users/florentmargery/opt/anaconda3/envs/work_env/lib/python3.9/site-packages/bs4/__init__.py:431: MarkupResemblesLocatorWarning: \"https://developer.xamarin.com/guides/cross-platform/getting_started/installation/uninstalling_xamarin/#Using_the_Uninstall_Script\" looks like a URL. Beautiful Soup is not an HTTP client. You should probably use an HTTP client like requests to get the document behind the URL, and feed that document to Beautiful Soup.\n",
      "  warnings.warn(\n",
      "/Users/florentmargery/opt/anaconda3/envs/work_env/lib/python3.9/site-packages/bs4/__init__.py:431: MarkupResemblesLocatorWarning: \"https://wordpress.org/support/topic/read-this-first-wordpress-45-master-list#post-8271654\" looks like a URL. Beautiful Soup is not an HTTP client. You should probably use an HTTP client like requests to get the document behind the URL, and feed that document to Beautiful Soup.\n",
      "  warnings.warn(\n",
      "/Users/florentmargery/opt/anaconda3/envs/work_env/lib/python3.9/site-packages/bs4/__init__.py:431: MarkupResemblesLocatorWarning: \"http://www.mydomain.com/myimage.jpg).\" looks like a URL. Beautiful Soup is not an HTTP client. You should probably use an HTTP client like requests to get the document behind the URL, and feed that document to Beautiful Soup.\n",
      "  warnings.warn(\n",
      "/Users/florentmargery/opt/anaconda3/envs/work_env/lib/python3.9/site-packages/bs4/__init__.py:431: MarkupResemblesLocatorWarning: \"https://github.com/danialfarid/angular-file-upload\n",
      "Thanks.\" looks like a URL. Beautiful Soup is not an HTTP client. You should probably use an HTTP client like requests to get the document behind the URL, and feed that document to Beautiful Soup.\n",
      "  warnings.warn(\n",
      "/Users/florentmargery/opt/anaconda3/envs/work_env/lib/python3.9/site-packages/bs4/__init__.py:431: MarkupResemblesLocatorWarning: \"https://dl.dropboxusercontent.com/u/35758776/xenxbd/contrastic/index.html#parallux-wrapper-04\" looks like a URL. Beautiful Soup is not an HTTP client. You should probably use an HTTP client like requests to get the document behind the URL, and feed that document to Beautiful Soup.\n",
      "  warnings.warn(\n",
      "/Users/florentmargery/opt/anaconda3/envs/work_env/lib/python3.9/site-packages/bs4/__init__.py:431: MarkupResemblesLocatorWarning: \"http://jsfiddle.net/Rqx8T/\" looks like a URL. Beautiful Soup is not an HTTP client. You should probably use an HTTP client like requests to get the document behind the URL, and feed that document to Beautiful Soup.\n",
      "  warnings.warn(\n",
      "/Users/florentmargery/opt/anaconda3/envs/work_env/lib/python3.9/site-packages/bs4/__init__.py:431: MarkupResemblesLocatorWarning: \"http://java.sun.com/javase/technologies/realtime/index.jsp\" looks like a URL. Beautiful Soup is not an HTTP client. You should probably use an HTTP client like requests to get the document behind the URL, and feed that document to Beautiful Soup.\n",
      "  warnings.warn(\n",
      "/Users/florentmargery/opt/anaconda3/envs/work_env/lib/python3.9/site-packages/bs4/__init__.py:431: MarkupResemblesLocatorWarning: \"https://sites.google.com/site/x32abi/\" looks like a URL. Beautiful Soup is not an HTTP client. You should probably use an HTTP client like requests to get the document behind the URL, and feed that document to Beautiful Soup.\n",
      "  warnings.warn(\n",
      "/Users/florentmargery/opt/anaconda3/envs/work_env/lib/python3.9/site-packages/bs4/__init__.py:431: MarkupResemblesLocatorWarning: \"http://example.com/data/...\" looks like a URL. Beautiful Soup is not an HTTP client. You should probably use an HTTP client like requests to get the document behind the URL, and feed that document to Beautiful Soup.\n",
      "  warnings.warn(\n",
      "/Users/florentmargery/opt/anaconda3/envs/work_env/lib/python3.9/site-packages/bs4/__init__.py:431: MarkupResemblesLocatorWarning: \"http://www.devlounge.net/articles/using-ajax-with-your-wordpress-plugin\" looks like a URL. Beautiful Soup is not an HTTP client. You should probably use an HTTP client like requests to get the document behind the URL, and feed that document to Beautiful Soup.\n",
      "  warnings.warn(\n",
      "/Users/florentmargery/opt/anaconda3/envs/work_env/lib/python3.9/site-packages/bs4/__init__.py:431: MarkupResemblesLocatorWarning: \"http://openssl.6102.n7.nabble.com/check-certificate-chain-in-a-pem-file-td43871.html\" looks like a URL. Beautiful Soup is not an HTTP client. You should probably use an HTTP client like requests to get the document behind the URL, and feed that document to Beautiful Soup.\n",
      "  warnings.warn(\n"
     ]
    },
    {
     "name": "stderr",
     "output_type": "stream",
     "text": [
      "/Users/florentmargery/opt/anaconda3/envs/work_env/lib/python3.9/site-packages/bs4/__init__.py:431: MarkupResemblesLocatorWarning: \"http://www.outlinenone.com/\" looks like a URL. Beautiful Soup is not an HTTP client. You should probably use an HTTP client like requests to get the document behind the URL, and feed that document to Beautiful Soup.\n",
      "  warnings.warn(\n",
      "/Users/florentmargery/opt/anaconda3/envs/work_env/lib/python3.9/site-packages/bs4/__init__.py:431: MarkupResemblesLocatorWarning: \"http://github.com/MarkNijhof/Fohjin\n",
      "http://cre8ivethought.com/blog/2009/11/12/cqrs--la-greg-young/\n",
      "http://cre8ivethought.com/blog/2009/11/28/cqrs-trying-to-make-it-re-usable/\" looks like a URL. Beautiful Soup is not an HTTP client. You should probably use an HTTP client like requests to get the document behind the URL, and feed that document to Beautiful Soup.\n",
      "  warnings.warn(\n",
      "/Users/florentmargery/opt/anaconda3/envs/work_env/lib/python3.9/site-packages/bs4/__init__.py:431: MarkupResemblesLocatorWarning: \"http://bootply.com/92446\" looks like a URL. Beautiful Soup is not an HTTP client. You should probably use an HTTP client like requests to get the document behind the URL, and feed that document to Beautiful Soup.\n",
      "  warnings.warn(\n",
      "/Users/florentmargery/opt/anaconda3/envs/work_env/lib/python3.9/site-packages/bs4/__init__.py:431: MarkupResemblesLocatorWarning: \"http://remote-domain.com/script.pl.\" looks like a URL. Beautiful Soup is not an HTTP client. You should probably use an HTTP client like requests to get the document behind the URL, and feed that document to Beautiful Soup.\n",
      "  warnings.warn(\n",
      "/Users/florentmargery/opt/anaconda3/envs/work_env/lib/python3.9/site-packages/bs4/__init__.py:431: MarkupResemblesLocatorWarning: \"https://en.wikipedia.org/wiki/Two-phase_commit_protocol\n",
      "http://ws-rest.org/2014/sites/default/files/wsrest2014_submission_7.pdf\n",
      "https://www.tigerteam.dk/2014/micro-services-its-not-only-the-size-that-matters-its-also-how-you-use-them-part-1/\" looks like a URL. Beautiful Soup is not an HTTP client. You should probably use an HTTP client like requests to get the document behind the URL, and feed that document to Beautiful Soup.\n",
      "  warnings.warn(\n",
      "/Users/florentmargery/opt/anaconda3/envs/work_env/lib/python3.9/site-packages/bs4/__init__.py:431: MarkupResemblesLocatorWarning: \"https://developer.apple.com/documentation/uikit/uivisualeffectview#//apple_ref/occ/instp/UIVisualEffectView/contentView\" looks like a URL. Beautiful Soup is not an HTTP client. You should probably use an HTTP client like requests to get the document behind the URL, and feed that document to Beautiful Soup.\n",
      "  warnings.warn(\n",
      "/Users/florentmargery/opt/anaconda3/envs/work_env/lib/python3.9/site-packages/bs4/__init__.py:431: MarkupResemblesLocatorWarning: \"http://zookeeper.apache.org/\" looks like a URL. Beautiful Soup is not an HTTP client. You should probably use an HTTP client like requests to get the document behind the URL, and feed that document to Beautiful Soup.\n",
      "  warnings.warn(\n",
      "/Users/florentmargery/opt/anaconda3/envs/work_env/lib/python3.9/site-packages/bs4/__init__.py:431: MarkupResemblesLocatorWarning: \"http://plnkr.co/edit/3qcIbMvJk19OvokcHe2N?p=preview\" looks like a URL. Beautiful Soup is not an HTTP client. You should probably use an HTTP client like requests to get the document behind the URL, and feed that document to Beautiful Soup.\n",
      "  warnings.warn(\n",
      "/Users/florentmargery/opt/anaconda3/envs/work_env/lib/python3.9/site-packages/bs4/__init__.py:431: MarkupResemblesLocatorWarning: \"https://www.reddit.com/r/cpp/comments/7c208c/is_constexpr_a_macro_that_check_if_an_expression/\" looks like a URL. Beautiful Soup is not an HTTP client. You should probably use an HTTP client like requests to get the document behind the URL, and feed that document to Beautiful Soup.\n",
      "  warnings.warn(\n",
      "/Users/florentmargery/opt/anaconda3/envs/work_env/lib/python3.9/site-packages/bs4/__init__.py:431: MarkupResemblesLocatorWarning: \"http://fluidkit.codeplex.com/\" looks like a URL. Beautiful Soup is not an HTTP client. You should probably use an HTTP client like requests to get the document behind the URL, and feed that document to Beautiful Soup.\n",
      "  warnings.warn(\n",
      "/Users/florentmargery/opt/anaconda3/envs/work_env/lib/python3.9/site-packages/bs4/__init__.py:431: MarkupResemblesLocatorWarning: \"http://mangastream.com\" looks like a URL. Beautiful Soup is not an HTTP client. You should probably use an HTTP client like requests to get the document behind the URL, and feed that document to Beautiful Soup.\n",
      "  warnings.warn(\n",
      "/Users/florentmargery/opt/anaconda3/envs/work_env/lib/python3.9/site-packages/bs4/__init__.py:431: MarkupResemblesLocatorWarning: \"http://en.wikipedia.org/wiki/3D_projection\" looks like a URL. Beautiful Soup is not an HTTP client. You should probably use an HTTP client like requests to get the document behind the URL, and feed that document to Beautiful Soup.\n",
      "  warnings.warn(\n",
      "/Users/florentmargery/opt/anaconda3/envs/work_env/lib/python3.9/site-packages/bs4/__init__.py:431: MarkupResemblesLocatorWarning: \"http://cran.r-project.org/web/packages/qdap/qdap.pdf\" looks like a URL. Beautiful Soup is not an HTTP client. You should probably use an HTTP client like requests to get the document behind the URL, and feed that document to Beautiful Soup.\n",
      "  warnings.warn(\n",
      "/Users/florentmargery/opt/anaconda3/envs/work_env/lib/python3.9/site-packages/bs4/__init__.py:431: MarkupResemblesLocatorWarning: \"http://www.experts-exchange.com/Microsoft/Development/VSTO/Q_23635459.html\n",
      "Thanks.\" looks like a URL. Beautiful Soup is not an HTTP client. You should probably use an HTTP client like requests to get the document behind the URL, and feed that document to Beautiful Soup.\n",
      "  warnings.warn(\n",
      "/Users/florentmargery/opt/anaconda3/envs/work_env/lib/python3.9/site-packages/bs4/__init__.py:431: MarkupResemblesLocatorWarning: \"http://html5demos.com/history\" looks like a URL. Beautiful Soup is not an HTTP client. You should probably use an HTTP client like requests to get the document behind the URL, and feed that document to Beautiful Soup.\n",
      "  warnings.warn(\n",
      "/Users/florentmargery/opt/anaconda3/envs/work_env/lib/python3.9/site-packages/bs4/__init__.py:431: MarkupResemblesLocatorWarning: \"http://www.jooq.org\" looks like a URL. Beautiful Soup is not an HTTP client. You should probably use an HTTP client like requests to get the document behind the URL, and feed that document to Beautiful Soup.\n",
      "  warnings.warn(\n",
      "/Users/florentmargery/opt/anaconda3/envs/work_env/lib/python3.9/site-packages/bs4/__init__.py:431: MarkupResemblesLocatorWarning: \"http://www-asp.azureedge.net/v-2016-09-01-001/media/4773381/lifecycle-of-an-aspnet-mvc-5-application.pdf\" looks like a URL. Beautiful Soup is not an HTTP client. You should probably use an HTTP client like requests to get the document behind the URL, and feed that document to Beautiful Soup.\n",
      "  warnings.warn(\n",
      "/Users/florentmargery/opt/anaconda3/envs/work_env/lib/python3.9/site-packages/bs4/__init__.py:431: MarkupResemblesLocatorWarning: \"https://medium.cobeisfresh.com/why-you-shouldn-t-use-delegates-in-swift-7ef808a7f16b#.hqb7zrc1v\n",
      "2.\" looks like a URL. Beautiful Soup is not an HTTP client. You should probably use an HTTP client like requests to get the document behind the URL, and feed that document to Beautiful Soup.\n",
      "  warnings.warn(\n",
      "/Users/florentmargery/opt/anaconda3/envs/work_env/lib/python3.9/site-packages/bs4/__init__.py:431: MarkupResemblesLocatorWarning: \"https://developer.android.com/training/articles/user-data-ids.\" looks like a URL. Beautiful Soup is not an HTTP client. You should probably use an HTTP client like requests to get the document behind the URL, and feed that document to Beautiful Soup.\n",
      "  warnings.warn(\n",
      "/Users/florentmargery/opt/anaconda3/envs/work_env/lib/python3.9/site-packages/bs4/__init__.py:431: MarkupResemblesLocatorWarning: \"http://blog.andrewray.me/react-es6-autobinding-and-createclass/\" looks like a URL. Beautiful Soup is not an HTTP client. You should probably use an HTTP client like requests to get the document behind the URL, and feed that document to Beautiful Soup.\n",
      "  warnings.warn(\n",
      "/Users/florentmargery/opt/anaconda3/envs/work_env/lib/python3.9/site-packages/bs4/__init__.py:431: MarkupResemblesLocatorWarning: \"http://android-developers.blogspot.nl/2015/11/android-studio-20-preview.html\" looks like a URL. Beautiful Soup is not an HTTP client. You should probably use an HTTP client like requests to get the document behind the URL, and feed that document to Beautiful Soup.\n",
      "  warnings.warn(\n"
     ]
    },
    {
     "name": "stderr",
     "output_type": "stream",
     "text": [
      "/Users/florentmargery/opt/anaconda3/envs/work_env/lib/python3.9/site-packages/bs4/__init__.py:431: MarkupResemblesLocatorWarning: \"https://github.com/parkwookyun/firebase-angular-board\" looks like a URL. Beautiful Soup is not an HTTP client. You should probably use an HTTP client like requests to get the document behind the URL, and feed that document to Beautiful Soup.\n",
      "  warnings.warn(\n",
      "/Users/florentmargery/opt/anaconda3/envs/work_env/lib/python3.9/site-packages/bs4/__init__.py:431: MarkupResemblesLocatorWarning: \"http://en.cppreference.com/w/cpp/atomic/memory_order\" looks like a URL. Beautiful Soup is not an HTTP client. You should probably use an HTTP client like requests to get the document behind the URL, and feed that document to Beautiful Soup.\n",
      "  warnings.warn(\n",
      "/Users/florentmargery/opt/anaconda3/envs/work_env/lib/python3.9/site-packages/bs4/__init__.py:431: MarkupResemblesLocatorWarning: \"http://jsfiddle.net/4wqEm/2/\" looks like a URL. Beautiful Soup is not an HTTP client. You should probably use an HTTP client like requests to get the document behind the URL, and feed that document to Beautiful Soup.\n",
      "  warnings.warn(\n",
      "/Users/florentmargery/opt/anaconda3/envs/work_env/lib/python3.9/site-packages/bs4/__init__.py:431: MarkupResemblesLocatorWarning: \"http://www.barzilay.org/Swindle.\" looks like a URL. Beautiful Soup is not an HTTP client. You should probably use an HTTP client like requests to get the document behind the URL, and feed that document to Beautiful Soup.\n",
      "  warnings.warn(\n",
      "/Users/florentmargery/opt/anaconda3/envs/work_env/lib/python3.9/site-packages/bs4/__init__.py:431: MarkupResemblesLocatorWarning: \"http://code.google.com/p/selenium/wiki/PythonBindings\" looks like a URL. Beautiful Soup is not an HTTP client. You should probably use an HTTP client like requests to get the document behind the URL, and feed that document to Beautiful Soup.\n",
      "  warnings.warn(\n",
      "/Users/florentmargery/opt/anaconda3/envs/work_env/lib/python3.9/site-packages/bs4/__init__.py:431: MarkupResemblesLocatorWarning: \"https://codetransient.wordpress.com/2019/06/22/sftp-secured-file-transfer-protocol/\" looks like a URL. Beautiful Soup is not an HTTP client. You should probably use an HTTP client like requests to get the document behind the URL, and feed that document to Beautiful Soup.\n",
      "  warnings.warn(\n",
      "/Users/florentmargery/opt/anaconda3/envs/work_env/lib/python3.9/site-packages/bs4/__init__.py:431: MarkupResemblesLocatorWarning: \"http://docs.oracle.com/javase/tutorial/essential/concurrency/guardmeth.html\" looks like a URL. Beautiful Soup is not an HTTP client. You should probably use an HTTP client like requests to get the document behind the URL, and feed that document to Beautiful Soup.\n",
      "  warnings.warn(\n"
     ]
    }
   ],
   "source": [
    "sentences = []\n",
    "for question in data['Body']:\n",
    "    sentences += (question_to_sentences(question,tokenizer))"
   ]
  },
  {
   "cell_type": "code",
   "execution_count": 16,
   "id": "a5fc6b1a",
   "metadata": {},
   "outputs": [
    {
     "name": "stderr",
     "output_type": "stream",
     "text": [
      "2022-04-15 17:28:15,164 : INFO : collecting all words and their counts\n",
      "2022-04-15 17:28:15,164 : INFO : PROGRESS: at sentence #0, processed 0 words, keeping 0 word types\n",
      "2022-04-15 17:28:15,191 : INFO : PROGRESS: at sentence #10000, processed 207221 words, keeping 15582 word types\n",
      "2022-04-15 17:28:15,221 : INFO : PROGRESS: at sentence #20000, processed 425732 words, keeping 24491 word types\n",
      "2022-04-15 17:28:15,252 : INFO : PROGRESS: at sentence #30000, processed 646514 words, keeping 31823 word types\n",
      "2022-04-15 17:28:15,286 : INFO : PROGRESS: at sentence #40000, processed 865619 words, keeping 38257 word types\n",
      "2022-04-15 17:28:15,320 : INFO : PROGRESS: at sentence #50000, processed 1082188 words, keeping 43565 word types\n",
      "2022-04-15 17:28:15,354 : INFO : PROGRESS: at sentence #60000, processed 1323559 words, keeping 50362 word types\n",
      "2022-04-15 17:28:15,390 : INFO : PROGRESS: at sentence #70000, processed 1559511 words, keeping 56463 word types\n"
     ]
    },
    {
     "name": "stdout",
     "output_type": "stream",
     "text": [
      "Training model...\n"
     ]
    },
    {
     "name": "stderr",
     "output_type": "stream",
     "text": [
      "2022-04-15 17:28:15,424 : INFO : PROGRESS: at sentence #80000, processed 1786222 words, keeping 61530 word types\n",
      "2022-04-15 17:28:15,461 : INFO : PROGRESS: at sentence #90000, processed 2016835 words, keeping 66985 word types\n",
      "2022-04-15 17:28:15,496 : INFO : PROGRESS: at sentence #100000, processed 2261480 words, keeping 72396 word types\n",
      "2022-04-15 17:28:15,533 : INFO : PROGRESS: at sentence #110000, processed 2506493 words, keeping 78145 word types\n",
      "2022-04-15 17:28:15,569 : INFO : PROGRESS: at sentence #120000, processed 2749958 words, keeping 83330 word types\n",
      "2022-04-15 17:28:15,604 : INFO : PROGRESS: at sentence #130000, processed 2987200 words, keeping 88033 word types\n",
      "2022-04-15 17:28:15,637 : INFO : PROGRESS: at sentence #140000, processed 3203252 words, keeping 91876 word types\n",
      "2022-04-15 17:28:15,670 : INFO : PROGRESS: at sentence #150000, processed 3423062 words, keeping 95689 word types\n",
      "2022-04-15 17:28:15,703 : INFO : PROGRESS: at sentence #160000, processed 3653806 words, keeping 99798 word types\n",
      "2022-04-15 17:28:15,739 : INFO : PROGRESS: at sentence #170000, processed 3898502 words, keeping 104505 word types\n",
      "2022-04-15 17:28:15,772 : INFO : PROGRESS: at sentence #180000, processed 4122717 words, keeping 108442 word types\n",
      "2022-04-15 17:28:15,807 : INFO : PROGRESS: at sentence #190000, processed 4348737 words, keeping 112251 word types\n",
      "2022-04-15 17:28:15,842 : INFO : PROGRESS: at sentence #200000, processed 4574331 words, keeping 115792 word types\n",
      "2022-04-15 17:28:15,878 : INFO : PROGRESS: at sentence #210000, processed 4799900 words, keeping 119358 word types\n",
      "2022-04-15 17:28:15,914 : INFO : PROGRESS: at sentence #220000, processed 5032972 words, keeping 123167 word types\n",
      "2022-04-15 17:28:15,951 : INFO : PROGRESS: at sentence #230000, processed 5273147 words, keeping 127199 word types\n",
      "2022-04-15 17:28:15,984 : INFO : PROGRESS: at sentence #240000, processed 5495943 words, keeping 130361 word types\n",
      "2022-04-15 17:28:16,022 : INFO : PROGRESS: at sentence #250000, processed 5733084 words, keeping 134227 word types\n",
      "2022-04-15 17:28:16,059 : INFO : PROGRESS: at sentence #260000, processed 5973360 words, keeping 138133 word types\n",
      "2022-04-15 17:28:16,095 : INFO : PROGRESS: at sentence #270000, processed 6205649 words, keeping 141390 word types\n",
      "2022-04-15 17:28:16,133 : INFO : PROGRESS: at sentence #280000, processed 6439989 words, keeping 145012 word types\n",
      "2022-04-15 17:28:16,173 : INFO : PROGRESS: at sentence #290000, processed 6692732 words, keeping 148861 word types\n",
      "2022-04-15 17:28:16,211 : INFO : PROGRESS: at sentence #300000, processed 6935421 words, keeping 152753 word types\n",
      "2022-04-15 17:28:16,252 : INFO : PROGRESS: at sentence #310000, processed 7176038 words, keeping 156612 word types\n",
      "2022-04-15 17:28:16,292 : INFO : PROGRESS: at sentence #320000, processed 7418725 words, keeping 159989 word types\n",
      "2022-04-15 17:28:16,304 : INFO : collected 161237 word types from a corpus of 7482900 raw words and 322594 sentences\n",
      "2022-04-15 17:28:16,305 : INFO : Creating a fresh vocabulary\n",
      "2022-04-15 17:28:16,396 : INFO : Word2Vec lifecycle event {'msg': 'effective_min_count=10 retains 24296 unique words (15.06850164664438%% of original 161237, drops 136941)', 'datetime': '2022-04-15T17:28:16.396306', 'gensim': '4.1.2', 'python': '3.9.12 (main, Apr  5 2022, 01:53:17) \\n[Clang 12.0.0 ]', 'platform': 'macOS-10.16-x86_64-i386-64bit', 'event': 'prepare_vocab'}\n",
      "2022-04-15 17:28:16,396 : INFO : Word2Vec lifecycle event {'msg': 'effective_min_count=10 leaves 7167192 word corpus (95.78094054444132%% of original 7482900, drops 315708)', 'datetime': '2022-04-15T17:28:16.396810', 'gensim': '4.1.2', 'python': '3.9.12 (main, Apr  5 2022, 01:53:17) \\n[Clang 12.0.0 ]', 'platform': 'macOS-10.16-x86_64-i386-64bit', 'event': 'prepare_vocab'}\n",
      "2022-04-15 17:28:16,500 : INFO : deleting the raw counts dictionary of 161237 items\n",
      "2022-04-15 17:28:16,503 : INFO : sample=0.001 downsamples 41 most-common words\n",
      "2022-04-15 17:28:16,503 : INFO : Word2Vec lifecycle event {'msg': 'downsampling leaves estimated 5889599.829671762 word corpus (82.2%% of prior 7167192)', 'datetime': '2022-04-15T17:28:16.503608', 'gensim': '4.1.2', 'python': '3.9.12 (main, Apr  5 2022, 01:53:17) \\n[Clang 12.0.0 ]', 'platform': 'macOS-10.16-x86_64-i386-64bit', 'event': 'prepare_vocab'}\n",
      "2022-04-15 17:28:16,682 : INFO : estimated required memory for 24296 words and 300 dimensions: 70458400 bytes\n",
      "2022-04-15 17:28:16,682 : INFO : resetting layer weights\n",
      "2022-04-15 17:28:16,719 : INFO : Word2Vec lifecycle event {'update': False, 'trim_rule': 'None', 'datetime': '2022-04-15T17:28:16.719119', 'gensim': '4.1.2', 'python': '3.9.12 (main, Apr  5 2022, 01:53:17) \\n[Clang 12.0.0 ]', 'platform': 'macOS-10.16-x86_64-i386-64bit', 'event': 'build_vocab'}\n",
      "2022-04-15 17:28:16,719 : INFO : Word2Vec lifecycle event {'msg': 'training model with 5 workers on 24296 vocabulary and 300 features, using sg=0 hs=0 sample=0.001 negative=5 window=10 shrink_windows=True', 'datetime': '2022-04-15T17:28:16.719704', 'gensim': '4.1.2', 'python': '3.9.12 (main, Apr  5 2022, 01:53:17) \\n[Clang 12.0.0 ]', 'platform': 'macOS-10.16-x86_64-i386-64bit', 'event': 'train'}\n",
      "2022-04-15 17:28:17,725 : INFO : EPOCH 1 - PROGRESS: at 28.02% examples, 1585422 words/s, in_qsize 10, out_qsize 0\n",
      "2022-04-15 17:28:18,727 : INFO : EPOCH 1 - PROGRESS: at 54.81% examples, 1588306 words/s, in_qsize 9, out_qsize 0\n",
      "2022-04-15 17:28:19,734 : INFO : EPOCH 1 - PROGRESS: at 82.09% examples, 1588687 words/s, in_qsize 9, out_qsize 0\n",
      "2022-04-15 17:28:20,413 : INFO : worker thread finished; awaiting finish of 4 more threads\n",
      "2022-04-15 17:28:20,414 : INFO : worker thread finished; awaiting finish of 3 more threads\n",
      "2022-04-15 17:28:20,415 : INFO : worker thread finished; awaiting finish of 2 more threads\n",
      "2022-04-15 17:28:20,421 : INFO : worker thread finished; awaiting finish of 1 more threads\n",
      "2022-04-15 17:28:20,428 : INFO : worker thread finished; awaiting finish of 0 more threads\n",
      "2022-04-15 17:28:20,429 : INFO : EPOCH - 1 : training on 7482900 raw words (5888818 effective words) took 3.7s, 1589795 effective words/s\n",
      "2022-04-15 17:28:21,434 : INFO : EPOCH 2 - PROGRESS: at 28.26% examples, 1601256 words/s, in_qsize 9, out_qsize 0\n",
      "2022-04-15 17:28:22,437 : INFO : EPOCH 2 - PROGRESS: at 55.49% examples, 1607525 words/s, in_qsize 9, out_qsize 0\n",
      "2022-04-15 17:28:23,447 : INFO : EPOCH 2 - PROGRESS: at 82.72% examples, 1600050 words/s, in_qsize 9, out_qsize 0\n",
      "2022-04-15 17:28:24,097 : INFO : worker thread finished; awaiting finish of 4 more threads\n",
      "2022-04-15 17:28:24,098 : INFO : worker thread finished; awaiting finish of 3 more threads\n",
      "2022-04-15 17:28:24,099 : INFO : worker thread finished; awaiting finish of 2 more threads\n",
      "2022-04-15 17:28:24,102 : INFO : worker thread finished; awaiting finish of 1 more threads\n",
      "2022-04-15 17:28:24,110 : INFO : worker thread finished; awaiting finish of 0 more threads\n",
      "2022-04-15 17:28:24,111 : INFO : EPOCH - 2 : training on 7482900 raw words (5889898 effective words) took 3.7s, 1601925 effective words/s\n",
      "2022-04-15 17:28:25,117 : INFO : EPOCH 3 - PROGRESS: at 28.13% examples, 1590738 words/s, in_qsize 10, out_qsize 0\n",
      "2022-04-15 17:28:26,118 : INFO : EPOCH 3 - PROGRESS: at 55.36% examples, 1603935 words/s, in_qsize 10, out_qsize 0\n",
      "2022-04-15 17:28:27,121 : INFO : EPOCH 3 - PROGRESS: at 81.93% examples, 1588143 words/s, in_qsize 9, out_qsize 0\n",
      "2022-04-15 17:28:27,787 : INFO : worker thread finished; awaiting finish of 4 more threads\n",
      "2022-04-15 17:28:27,793 : INFO : worker thread finished; awaiting finish of 3 more threads\n",
      "2022-04-15 17:28:27,795 : INFO : worker thread finished; awaiting finish of 2 more threads\n",
      "2022-04-15 17:28:27,795 : INFO : worker thread finished; awaiting finish of 1 more threads\n",
      "2022-04-15 17:28:27,800 : INFO : worker thread finished; awaiting finish of 0 more threads\n",
      "2022-04-15 17:28:27,800 : INFO : EPOCH - 3 : training on 7482900 raw words (5889561 effective words) took 3.7s, 1598262 effective words/s\n",
      "2022-04-15 17:28:28,808 : INFO : EPOCH 4 - PROGRESS: at 28.26% examples, 1596251 words/s, in_qsize 10, out_qsize 0\n",
      "2022-04-15 17:28:29,815 : INFO : EPOCH 4 - PROGRESS: at 55.86% examples, 1613251 words/s, in_qsize 9, out_qsize 0\n"
     ]
    },
    {
     "name": "stderr",
     "output_type": "stream",
     "text": [
      "2022-04-15 17:28:30,818 : INFO : EPOCH 4 - PROGRESS: at 83.50% examples, 1615789 words/s, in_qsize 9, out_qsize 0\n",
      "2022-04-15 17:28:31,420 : INFO : worker thread finished; awaiting finish of 4 more threads\n",
      "2022-04-15 17:28:31,424 : INFO : worker thread finished; awaiting finish of 3 more threads\n",
      "2022-04-15 17:28:31,433 : INFO : worker thread finished; awaiting finish of 2 more threads\n",
      "2022-04-15 17:28:31,434 : INFO : worker thread finished; awaiting finish of 1 more threads\n",
      "2022-04-15 17:28:31,440 : INFO : worker thread finished; awaiting finish of 0 more threads\n",
      "2022-04-15 17:28:31,441 : INFO : EPOCH - 4 : training on 7482900 raw words (5890211 effective words) took 3.6s, 1619963 effective words/s\n",
      "2022-04-15 17:28:32,451 : INFO : EPOCH 5 - PROGRESS: at 28.40% examples, 1604427 words/s, in_qsize 9, out_qsize 0\n",
      "2022-04-15 17:28:33,452 : INFO : EPOCH 5 - PROGRESS: at 55.86% examples, 1618540 words/s, in_qsize 9, out_qsize 0\n",
      "2022-04-15 17:28:34,457 : INFO : EPOCH 5 - PROGRESS: at 83.65% examples, 1620561 words/s, in_qsize 9, out_qsize 0\n",
      "2022-04-15 17:28:35,054 : INFO : worker thread finished; awaiting finish of 4 more threads\n",
      "2022-04-15 17:28:35,055 : INFO : worker thread finished; awaiting finish of 3 more threads\n",
      "2022-04-15 17:28:35,058 : INFO : worker thread finished; awaiting finish of 2 more threads\n",
      "2022-04-15 17:28:35,066 : INFO : worker thread finished; awaiting finish of 1 more threads\n",
      "2022-04-15 17:28:35,070 : INFO : worker thread finished; awaiting finish of 0 more threads\n",
      "2022-04-15 17:28:35,070 : INFO : EPOCH - 5 : training on 7482900 raw words (5890630 effective words) took 3.6s, 1626043 effective words/s\n",
      "2022-04-15 17:28:35,070 : INFO : Word2Vec lifecycle event {'msg': 'training on 37414500 raw words (29449118 effective words) took 18.4s, 1604787 effective words/s', 'datetime': '2022-04-15T17:28:35.070967', 'gensim': '4.1.2', 'python': '3.9.12 (main, Apr  5 2022, 01:53:17) \\n[Clang 12.0.0 ]', 'platform': 'macOS-10.16-x86_64-i386-64bit', 'event': 'train'}\n",
      "2022-04-15 17:28:35,071 : INFO : Word2Vec lifecycle event {'params': 'Word2Vec(vocab=24296, vector_size=300, alpha=0.025)', 'datetime': '2022-04-15T17:28:35.071241', 'gensim': '4.1.2', 'python': '3.9.12 (main, Apr  5 2022, 01:53:17) \\n[Clang 12.0.0 ]', 'platform': 'macOS-10.16-x86_64-i386-64bit', 'event': 'created'}\n",
      "/var/folders/j4/7y0hj60n09q_n50qxfl1rr4w0000gn/T/ipykernel_17651/1328840251.py:23: DeprecationWarning: Call to deprecated `init_sims` (Gensim 4.0.0 implemented internal optimizations that make calls to init_sims() unnecessary. init_sims() is now obsoleted and will be completely removed in future versions. See https://github.com/RaRe-Technologies/gensim/wiki/Migrating-from-Gensim-3.x-to-4).\n",
      "  model.init_sims(replace=True)\n",
      "2022-04-15 17:28:35,081 : WARNING : destructive init_sims(replace=True) deprecated & no longer required for space-efficiency\n"
     ]
    }
   ],
   "source": [
    "# Import the built-in logging module and configure it so that Word2Vec \n",
    "# creates nice output messages\n",
    "import logging\n",
    "logging.basicConfig(format='%(asctime)s : %(levelname)s : %(message)s',\\\n",
    "    level=logging.INFO)\n",
    "\n",
    "# Set values for various parameters\n",
    "num_features = 300    # Word vector dimensionality                      \n",
    "min_word_count = 10   # Minimum word count                        \n",
    "num_workers = 5      # Number of threads to run in parallel\n",
    "context = 10          # Context window size                                                                                    \n",
    "downsampling = 1e-3   # Downsample setting for frequent words\n",
    "\n",
    "# Initialize and train the model (this will take some time)\n",
    "from gensim.models import word2vec\n",
    "print (\"Training model...\")\n",
    "model = word2vec.Word2Vec(sentences, workers=num_workers, \\\n",
    "            vector_size=num_features, min_count = min_word_count, \\\n",
    "            window = context, sample = downsampling)\n",
    "\n",
    "# If you don't plan to train the model any further, calling \n",
    "# init_sims will make the model much more memory-efficient.\n",
    "model.init_sims(replace=True)\n",
    "\n"
   ]
  },
  {
   "cell_type": "markdown",
   "id": "2b4a69b7",
   "metadata": {},
   "source": [
    "## Embedding du modèle Word2Vec"
   ]
  },
  {
   "cell_type": "code",
   "execution_count": 28,
   "id": "b454b660",
   "metadata": {
    "scrolled": true
   },
   "outputs": [],
   "source": [
    "def makeFeatureVec(words, model, num_features):\n",
    "    # Function to average all of the word vectors in a given\n",
    "    # paragraph\n",
    "    #\n",
    "    # Pre-initialize an empty numpy array (for speed)\n",
    "    featureVec = np.zeros((num_features,),dtype=\"float32\")\n",
    "    #\n",
    "    nwords = 0\n",
    "    # \n",
    "    # Index2word is a list that contains the names of the words in \n",
    "    # the model's vocabulary. Convert it to a set, for speed \n",
    "    index2word_set = set(model.wv.index_to_key)\n",
    "    #\n",
    "    # Loop over each word in the review and, if it is in the model's\n",
    "    # vocaublary, add its feature vector to the total\n",
    "    for word in words:\n",
    "        if word in index2word_set: \n",
    "            nwords = nwords + 1\n",
    "            featureVec = np.add(featureVec,model.wv[word])\n",
    "    # \n",
    "    \n",
    "    # Divide the result by the number of words to get the average\n",
    "    featureVec = np.divide(featureVec,nwords)\n",
    "    return featureVec\n",
    "\n",
    "\n",
    "def getAvgFeatureVecs(reviews, model, num_features):\n",
    "    # Given a set of reviews (each one a list of words), calculate \n",
    "    # the average feature vector for each one and return a 2D numpy array \n",
    "    # \n",
    "    # Initialize a counter\n",
    "    counter = 0\n",
    "    # \n",
    "    # Preallocate a 2D numpy array, for speed\n",
    "    reviewFeatureVecs = np.zeros((len(reviews),num_features),dtype=\"float32\")\n",
    "\n",
    "    # \n",
    "    # Loop through the reviews\n",
    "    for review in reviews:\n",
    "       #\n",
    "       # Print a status message every 1000th review\n",
    "        if counter%1000. == 0.:\n",
    "            print (\"Review %d of %d\" % (counter, len(reviews)))\n",
    "       # \n",
    "       # Call the function (defined above) that makes average feature vectors\n",
    "        reviewFeatureVecs[counter] = makeFeatureVec(review, model,num_features)\n",
    "       #\n",
    "       # Increment the counter\n",
    "        counter = counter + 1\n",
    "    return reviewFeatureVecs"
   ]
  },
  {
   "cell_type": "code",
   "execution_count": 29,
   "id": "ae78566b",
   "metadata": {
    "scrolled": true
   },
   "outputs": [
    {
     "name": "stdout",
     "output_type": "stream",
     "text": [
      "Creating average feature vecs for test questions\n",
      "Review 0 of 37339\n",
      "Review 1000 of 37339\n",
      "Review 2000 of 37339\n",
      "Review 3000 of 37339\n",
      "Review 4000 of 37339\n",
      "Review 5000 of 37339\n",
      "Review 6000 of 37339\n",
      "Review 7000 of 37339\n",
      "Review 8000 of 37339\n",
      "Review 9000 of 37339\n",
      "Review 10000 of 37339\n",
      "Review 11000 of 37339\n",
      "Review 12000 of 37339\n",
      "Review 13000 of 37339\n",
      "Review 14000 of 37339\n",
      "Review 15000 of 37339\n",
      "Review 16000 of 37339\n",
      "Review 17000 of 37339\n",
      "Review 18000 of 37339\n",
      "Review 19000 of 37339\n",
      "Review 20000 of 37339\n",
      "Review 21000 of 37339\n",
      "Review 22000 of 37339\n",
      "Review 23000 of 37339\n",
      "Review 24000 of 37339\n",
      "Review 25000 of 37339\n",
      "Review 26000 of 37339\n",
      "Review 27000 of 37339\n",
      "Review 28000 of 37339\n",
      "Review 29000 of 37339\n",
      "Review 30000 of 37339\n",
      "Review 31000 of 37339\n",
      "Review 32000 of 37339\n",
      "Review 33000 of 37339\n",
      "Review 34000 of 37339\n",
      "Review 35000 of 37339\n",
      "Review 36000 of 37339\n",
      "Review 37000 of 37339\n"
     ]
    }
   ],
   "source": [
    "# ****************************************************************\n",
    "# Calculate average feature vectors for training and testing sets,\n",
    "# using the functions we defined above. Notice that we now use stop word\n",
    "# removal.\n",
    "\n",
    "clean_train_questions = []\n",
    "# Ici, data_to_train a été défini dans la partie \"Gestion des Tags\". Cela correspond aux données avec \n",
    "# au moins 1 des 10 tags les plus récurents. C'est sur ces données que l'on va entrainer notre modèle supervisé. \n",
    "for question in data_to_train:\n",
    "    clean_train_questions.append(sentence_to_wordlist( question, \\\n",
    "        remove_stopwords=True ))\n",
    "    \n",
    "print (\"Creating average feature vecs for test questions\")\n",
    "trainDataVecs = getAvgFeatureVecs(clean_train_questions, model, num_features)"
   ]
  },
  {
   "cell_type": "code",
   "execution_count": 30,
   "id": "468b2a5e",
   "metadata": {
    "scrolled": true
   },
   "outputs": [],
   "source": [
    "X_train, X_test, y_train, y_test = train_test_split(trainDataVecs,target_to_train_encoded,test_size=0.3)"
   ]
  },
  {
   "cell_type": "code",
   "execution_count": null,
   "id": "2b31db07",
   "metadata": {},
   "outputs": [
    {
     "name": "stderr",
     "output_type": "stream",
     "text": [
      "/Users/florentmargery/opt/anaconda3/envs/work_env/lib/python3.9/site-packages/sklearn/model_selection/_validation.py:770: UserWarning: Scoring failed. The score on this train-test partition for these parameters will be set to nan. Details: \n",
      "Traceback (most recent call last):\n",
      "  File \"/Users/florentmargery/opt/anaconda3/envs/work_env/lib/python3.9/site-packages/sklearn/model_selection/_validation.py\", line 761, in _score\n",
      "    scores = scorer(estimator, X_test, y_test)\n",
      "TypeError: f1_score() takes 2 positional arguments but 3 were given\n",
      "\n",
      "  warnings.warn(\n",
      "/Users/florentmargery/opt/anaconda3/envs/work_env/lib/python3.9/site-packages/sklearn/model_selection/_validation.py:770: UserWarning: Scoring failed. The score on this train-test partition for these parameters will be set to nan. Details: \n",
      "Traceback (most recent call last):\n",
      "  File \"/Users/florentmargery/opt/anaconda3/envs/work_env/lib/python3.9/site-packages/sklearn/model_selection/_validation.py\", line 761, in _score\n",
      "    scores = scorer(estimator, X_test, y_test)\n",
      "TypeError: f1_score() takes 2 positional arguments but 3 were given\n",
      "\n",
      "  warnings.warn(\n",
      "/Users/florentmargery/opt/anaconda3/envs/work_env/lib/python3.9/site-packages/sklearn/model_selection/_validation.py:770: UserWarning: Scoring failed. The score on this train-test partition for these parameters will be set to nan. Details: \n",
      "Traceback (most recent call last):\n",
      "  File \"/Users/florentmargery/opt/anaconda3/envs/work_env/lib/python3.9/site-packages/sklearn/model_selection/_validation.py\", line 761, in _score\n",
      "    scores = scorer(estimator, X_test, y_test)\n",
      "TypeError: f1_score() takes 2 positional arguments but 3 were given\n",
      "\n",
      "  warnings.warn(\n",
      "/Users/florentmargery/opt/anaconda3/envs/work_env/lib/python3.9/site-packages/sklearn/model_selection/_validation.py:770: UserWarning: Scoring failed. The score on this train-test partition for these parameters will be set to nan. Details: \n",
      "Traceback (most recent call last):\n",
      "  File \"/Users/florentmargery/opt/anaconda3/envs/work_env/lib/python3.9/site-packages/sklearn/model_selection/_validation.py\", line 761, in _score\n",
      "    scores = scorer(estimator, X_test, y_test)\n",
      "TypeError: f1_score() takes 2 positional arguments but 3 were given\n",
      "\n",
      "  warnings.warn(\n",
      "/Users/florentmargery/opt/anaconda3/envs/work_env/lib/python3.9/site-packages/sklearn/model_selection/_validation.py:770: UserWarning: Scoring failed. The score on this train-test partition for these parameters will be set to nan. Details: \n",
      "Traceback (most recent call last):\n",
      "  File \"/Users/florentmargery/opt/anaconda3/envs/work_env/lib/python3.9/site-packages/sklearn/model_selection/_validation.py\", line 761, in _score\n",
      "    scores = scorer(estimator, X_test, y_test)\n",
      "TypeError: f1_score() takes 2 positional arguments but 3 were given\n",
      "\n",
      "  warnings.warn(\n",
      "/Users/florentmargery/opt/anaconda3/envs/work_env/lib/python3.9/site-packages/sklearn/model_selection/_validation.py:770: UserWarning: Scoring failed. The score on this train-test partition for these parameters will be set to nan. Details: \n",
      "Traceback (most recent call last):\n",
      "  File \"/Users/florentmargery/opt/anaconda3/envs/work_env/lib/python3.9/site-packages/sklearn/model_selection/_validation.py\", line 761, in _score\n",
      "    scores = scorer(estimator, X_test, y_test)\n",
      "TypeError: f1_score() takes 2 positional arguments but 3 were given\n",
      "\n",
      "  warnings.warn(\n",
      "/Users/florentmargery/opt/anaconda3/envs/work_env/lib/python3.9/site-packages/sklearn/model_selection/_validation.py:770: UserWarning: Scoring failed. The score on this train-test partition for these parameters will be set to nan. Details: \n",
      "Traceback (most recent call last):\n",
      "  File \"/Users/florentmargery/opt/anaconda3/envs/work_env/lib/python3.9/site-packages/sklearn/model_selection/_validation.py\", line 761, in _score\n",
      "    scores = scorer(estimator, X_test, y_test)\n",
      "TypeError: f1_score() takes 2 positional arguments but 3 were given\n",
      "\n",
      "  warnings.warn(\n",
      "/Users/florentmargery/opt/anaconda3/envs/work_env/lib/python3.9/site-packages/sklearn/model_selection/_validation.py:770: UserWarning: Scoring failed. The score on this train-test partition for these parameters will be set to nan. Details: \n",
      "Traceback (most recent call last):\n",
      "  File \"/Users/florentmargery/opt/anaconda3/envs/work_env/lib/python3.9/site-packages/sklearn/model_selection/_validation.py\", line 761, in _score\n",
      "    scores = scorer(estimator, X_test, y_test)\n",
      "TypeError: f1_score() takes 2 positional arguments but 3 were given\n",
      "\n",
      "  warnings.warn(\n",
      "/Users/florentmargery/opt/anaconda3/envs/work_env/lib/python3.9/site-packages/sklearn/model_selection/_validation.py:770: UserWarning: Scoring failed. The score on this train-test partition for these parameters will be set to nan. Details: \n",
      "Traceback (most recent call last):\n",
      "  File \"/Users/florentmargery/opt/anaconda3/envs/work_env/lib/python3.9/site-packages/sklearn/model_selection/_validation.py\", line 761, in _score\n",
      "    scores = scorer(estimator, X_test, y_test)\n",
      "TypeError: f1_score() takes 2 positional arguments but 3 were given\n",
      "\n",
      "  warnings.warn(\n",
      "/Users/florentmargery/opt/anaconda3/envs/work_env/lib/python3.9/site-packages/sklearn/model_selection/_validation.py:770: UserWarning: Scoring failed. The score on this train-test partition for these parameters will be set to nan. Details: \n",
      "Traceback (most recent call last):\n",
      "  File \"/Users/florentmargery/opt/anaconda3/envs/work_env/lib/python3.9/site-packages/sklearn/model_selection/_validation.py\", line 761, in _score\n",
      "    scores = scorer(estimator, X_test, y_test)\n",
      "TypeError: f1_score() takes 2 positional arguments but 3 were given\n",
      "\n",
      "  warnings.warn(\n"
     ]
    }
   ],
   "source": [
    "from sklearn.datasets import load_iris\n",
    "from sklearn.multiclass import OneVsRestClassifier\n",
    "from sklearn.svm import SVC\n",
    "from sklearn.model_selection import GridSearchCV\n",
    "from sklearn.metrics import f1_score\n",
    "\n",
    "model_to_set = OneVsRestClassifier(SVC(kernel=\"poly\"))\n",
    "\n",
    "parameters = {\n",
    "    \"estimator__C\": [1,2,4,8],\n",
    "    \"estimator__kernel\": [\"poly\",\"rbf\"],\n",
    "    \"estimator__degree\":[1, 2, 3, 4],\n",
    "}\n",
    "\n",
    "model_tunning = GridSearchCV(model_to_set, param_grid=parameters,scoring=f1_score)\n",
    "\n",
    "model_tunning.fit(X_train, y_train)\n",
    "\n",
    "print (model_tunning.best_score_)\n",
    "print (model_tunning.best_params_)\n",
    "print(model_tunning.cv_results_)"
   ]
  },
  {
   "cell_type": "code",
   "execution_count": null,
   "id": "f17d8329",
   "metadata": {},
   "outputs": [],
   "source": [
    "from sklearn.multiclass import OneVsRestClassifier\n",
    "from sklearn.svm import SVC\n",
    "\n",
    "#Avec Probas :\n",
    "#clf = OneVsRestClassifier(SVC(probability=True)).fit(X_train, y_train)\n",
    "\n",
    "#Sans Probas : \n",
    "clf = OneVsRestClassifier(SVC(probability=False)).fit(X_train, y_train)"
   ]
  },
  {
   "cell_type": "code",
   "execution_count": null,
   "id": "adf08e90",
   "metadata": {},
   "outputs": [],
   "source": [
    "clf.score(X_train,y_train)"
   ]
  },
  {
   "cell_type": "code",
   "execution_count": null,
   "id": "c4b409e1",
   "metadata": {
    "scrolled": false
   },
   "outputs": [],
   "source": [
    "clf.score(X_test,y_test)"
   ]
  },
  {
   "cell_type": "markdown",
   "id": "a5b7669f",
   "metadata": {},
   "source": [
    "### Pipeline"
   ]
  },
  {
   "cell_type": "markdown",
   "id": "03419c5a",
   "metadata": {},
   "source": [
    "### Créons une pipeline afin de faciliter la prédiction de notre notre modèle. "
   ]
  },
  {
   "cell_type": "code",
   "execution_count": 20,
   "id": "fa2db26f",
   "metadata": {},
   "outputs": [],
   "source": [
    "from sklearn.model_selection import train_test_split\n",
    "from sklearn import preprocessing\n",
    "label_encoder = preprocessing.LabelEncoder()\n",
    "target_to_train_encoded = label_encoder.fit_transform(target_to_train)\n",
    "\n",
    "X_train, X_test, y_train, y_test = train_test_split(data_to_train,target_to_train_encoded,test_size=0.3)"
   ]
  },
  {
   "cell_type": "code",
   "execution_count": 26,
   "id": "f17cd74a",
   "metadata": {},
   "outputs": [
    {
     "data": {
      "text/plain": [
       "37339"
      ]
     },
     "execution_count": 26,
     "metadata": {},
     "output_type": "execute_result"
    }
   ],
   "source": [
    "len(target_to_train_encoded)"
   ]
  },
  {
   "cell_type": "code",
   "execution_count": 21,
   "id": "b0c5f3d7",
   "metadata": {},
   "outputs": [],
   "source": [
    "def cleaning_question_W2V(data_to_train):\n",
    "    \n",
    "    clean_train_questions = []\n",
    "    # Ici, data_to_train a été défini dans la partie \"Gestion des Tags\". Cela correspond aux données avec \n",
    "    # au moins 1 des 10 tags les plus récurents. C'est sur ces données que l'on va entrainer notre modèle supervisé. \n",
    "    for question in data_to_train:\n",
    "        clean_train_questions.append(sentence_to_wordlist( question, \\\n",
    "            remove_stopwords=True ))\n",
    "    \n",
    "    print (\"Creating average feature vecs for test questions\")\n",
    "    trainDataVecs = getAvgFeatureVecs(clean_train_questions, model, num_features)\n",
    "    return trainDataVecs\n",
    "\n",
    "# Création d'un transformeur, permettant d'intégrer notre fonction dans la pipeline. \n",
    "\n",
    "from sklearn.preprocessing import FunctionTransformer\n",
    "transformer_2 = FunctionTransformer(cleaning_question_W2V)"
   ]
  },
  {
   "cell_type": "code",
   "execution_count": 23,
   "id": "2647224a",
   "metadata": {},
   "outputs": [],
   "source": [
    "from sklearn.pipeline import Pipeline\n",
    "from sklearn.multiclass import OneVsRestClassifier\n",
    "from sklearn.svm import SVC"
   ]
  },
  {
   "cell_type": "markdown",
   "id": "5a50c269",
   "metadata": {},
   "source": [
    "### Création de la pipeline "
   ]
  },
  {
   "cell_type": "code",
   "execution_count": null,
   "id": "d238e906",
   "metadata": {},
   "outputs": [],
   "source": []
  },
  {
   "cell_type": "code",
   "execution_count": 24,
   "id": "a185360c",
   "metadata": {},
   "outputs": [],
   "source": [
    "pipeline = Pipeline([\n",
    "   ('transformer', transformer_2), ('clf',OneVsRestClassifier(SVC(probability=False))), \n",
    "])"
   ]
  },
  {
   "cell_type": "code",
   "execution_count": 27,
   "id": "e3a46809",
   "metadata": {
    "scrolled": true
   },
   "outputs": [
    {
     "name": "stdout",
     "output_type": "stream",
     "text": [
      "Creating average feature vecs for test questions\n",
      "Review 0 of 26137\n",
      "Review 1000 of 26137\n",
      "Review 2000 of 26137\n",
      "Review 3000 of 26137\n",
      "Review 4000 of 26137\n",
      "Review 5000 of 26137\n",
      "Review 6000 of 26137\n",
      "Review 7000 of 26137\n",
      "Review 8000 of 26137\n",
      "Review 9000 of 26137\n",
      "Review 10000 of 26137\n",
      "Review 11000 of 26137\n",
      "Review 12000 of 26137\n",
      "Review 13000 of 26137\n",
      "Review 14000 of 26137\n",
      "Review 15000 of 26137\n",
      "Review 16000 of 26137\n",
      "Review 17000 of 26137\n",
      "Review 18000 of 26137\n",
      "Review 19000 of 26137\n",
      "Review 20000 of 26137\n",
      "Review 21000 of 26137\n",
      "Review 22000 of 26137\n",
      "Review 23000 of 26137\n",
      "Review 24000 of 26137\n",
      "Review 25000 of 26137\n",
      "Review 26000 of 26137\n"
     ]
    },
    {
     "data": {
      "text/plain": [
       "Pipeline(steps=[('transformer',\n",
       "                 FunctionTransformer(func=<function cleaning_question_W2V at 0x7fbe5d0de5e0>)),\n",
       "                ('clf', OneVsRestClassifier(estimator=SVC()))])"
      ]
     },
     "execution_count": 27,
     "metadata": {},
     "output_type": "execute_result"
    }
   ],
   "source": [
    "pipeline.fit(X_train, y_train)"
   ]
  },
  {
   "cell_type": "raw",
   "id": "307cac03",
   "metadata": {
    "scrolled": true
   },
   "source": [
    "import joblib\n",
    "joblib.dump(pipeline, 'pipeline_W2V.joblib')\n",
    "from mlflow.models.signature import infer_signature\n",
    "signature = infer_signature(X_train,y_train)\n",
    "import mlflow\n",
    "mlflow.sklearn.save_model(pipeline, 'mlflow_model_W2V', signature=signature)"
   ]
  },
  {
   "cell_type": "markdown",
   "id": "920d4bdf",
   "metadata": {},
   "source": [
    "### Prédiction du OVA"
   ]
  },
  {
   "cell_type": "code",
   "execution_count": null,
   "id": "d30933c6",
   "metadata": {},
   "outputs": [],
   "source": [
    "clean_test_questions = []\n",
    "data_to_test = data.Body[12356:12359]\n",
    "for question in data_to_test:\n",
    "    clean_test_questions.append(sentence_to_wordlist( question, \\\n",
    "        remove_stopwords=True ))\n",
    "    \n",
    "print (\"Creating average feature vecs for test questions\")\n",
    "testDataVecs = getAvgFeatureVecs(clean_test_questions, model, num_features)\n",
    "\n",
    "prediction = clf.predict(testDataVecs)\n",
    "prediction = label_encoder.inverse_transform(prediction)\n",
    "proba = clf.predict_proba(testDataVecs)\n",
    "for i in range(len(prediction)):\n",
    "    print('le texte n°',i,'est : \\n', BeautifulSoup(data_to_test.iloc[i]).get_text() )\n",
    "    print('LA PREDICTION EST :' , prediction[i])\n",
    "    print('VECTEUR DE PROBA', proba[i])"
   ]
  },
  {
   "cell_type": "markdown",
   "id": "e97250d7",
   "metadata": {},
   "source": [
    "### Optional : Clustering"
   ]
  },
  {
   "cell_type": "code",
   "execution_count": null,
   "id": "2ec1b2d6",
   "metadata": {},
   "outputs": [],
   "source": [
    "from sklearn.cluster import KMeans\n",
    "import time\n",
    "\n",
    "start = time.time() # Start time\n",
    "\n",
    "# Set \"k\" (num_clusters) to be 1/5th of the vocabulary size, or an\n",
    "# average of 5 words per cluster\n",
    "word_vectors = model.wv.vectors\n",
    "num_clusters = int(word_vectors.shape[0] / 5)\n",
    "\n",
    "# Initalize a k-means object and use it to extract centroids\n",
    "kmeans_clustering = KMeans(n_clusters = num_clusters)\n",
    "idx = kmeans_clustering.fit_predict(word_vectors)\n",
    "\n",
    "# Get the end time and print how long the process took\n",
    "end = time.time()\n",
    "elapsed = end - start\n",
    "print (\"Time taken for K Means clustering: \", elapsed, \"seconds.\")"
   ]
  },
  {
   "cell_type": "code",
   "execution_count": null,
   "id": "6c665060",
   "metadata": {},
   "outputs": [],
   "source": []
  },
  {
   "cell_type": "markdown",
   "id": "5bc369df",
   "metadata": {},
   "source": [
    "# API"
   ]
  },
  {
   "cell_type": "code",
   "execution_count": 86,
   "id": "fcaab6f8",
   "metadata": {},
   "outputs": [
    {
     "name": "stdout",
     "output_type": "stream",
     "text": [
      " * Serving Flask app 'fast_dash.fast_dash' (lazy loading)\n",
      " * Environment: production\n",
      "\u001b[31m   WARNING: This is a development server. Do not use it in a production deployment.\u001b[0m\n",
      "\u001b[2m   Use a production WSGI server instead.\u001b[0m\n",
      " * Debug mode: off\n"
     ]
    },
    {
     "name": "stderr",
     "output_type": "stream",
     "text": [
      "2022-04-14 21:54:59,694 : INFO :  * Running on http://127.0.0.1:5000 (Press CTRL+C to quit)\n",
      "2022-04-14 21:55:05,531 : INFO : 127.0.0.1 - - [14/Apr/2022 21:55:05] \"GET / HTTP/1.1\" 200 -\n",
      "2022-04-14 21:55:05,560 : INFO : 127.0.0.1 - - [14/Apr/2022 21:55:05] \"GET /_dash-component-suites/dash/deps/polyfill@7.v2_3_1m1649961764.12.1.min.js HTTP/1.1\" 200 -\n",
      "2022-04-14 21:55:05,563 : INFO : 127.0.0.1 - - [14/Apr/2022 21:55:05] \"GET /_dash-component-suites/dash/deps/react@16.v2_3_1m1649961764.14.0.min.js HTTP/1.1\" 200 -\n",
      "2022-04-14 21:55:05,568 : INFO : 127.0.0.1 - - [14/Apr/2022 21:55:05] \"GET /_dash-component-suites/dash/deps/react-dom@16.v2_3_1m1649961764.14.0.min.js HTTP/1.1\" 200 -\n",
      "2022-04-14 21:55:05,570 : INFO : 127.0.0.1 - - [14/Apr/2022 21:55:05] \"GET /_dash-component-suites/dash/deps/prop-types@15.v2_3_1m1649961764.7.2.min.js HTTP/1.1\" 200 -\n",
      "2022-04-14 21:55:05,574 : INFO : 127.0.0.1 - - [14/Apr/2022 21:55:05] \"GET /_dash-component-suites/dash/dcc/dash_core_components.v2_3_0m1649961764.js HTTP/1.1\" 200 -\n",
      "2022-04-14 21:55:05,574 : INFO : 127.0.0.1 - - [14/Apr/2022 21:55:05] \"GET /_dash-component-suites/dash/dash-renderer/build/dash_renderer.v2_3_1m1649961764.min.js HTTP/1.1\" 200 -\n",
      "2022-04-14 21:55:05,575 : INFO : 127.0.0.1 - - [14/Apr/2022 21:55:05] \"GET /_dash-component-suites/dash_bootstrap_components/_components/dash_bootstrap_components.v1_1_0m1649961764.min.js HTTP/1.1\" 200 -\n",
      "2022-04-14 21:55:05,576 : INFO : 127.0.0.1 - - [14/Apr/2022 21:55:05] \"GET /_dash-component-suites/dash/dcc/dash_core_components-shared.v2_3_0m1649961764.js HTTP/1.1\" 200 -\n",
      "2022-04-14 21:55:05,577 : INFO : 127.0.0.1 - - [14/Apr/2022 21:55:05] \"GET /_dash-component-suites/dash/html/dash_html_components.v2_0_2m1649961764.min.js HTTP/1.1\" 200 -\n",
      "2022-04-14 21:55:05,578 : INFO : 127.0.0.1 - - [14/Apr/2022 21:55:05] \"GET /_dash-component-suites/dash/dash_table/bundle.v5_1_1m1649961764.js HTTP/1.1\" 200 -\n",
      "2022-04-14 21:55:05,833 : INFO : 127.0.0.1 - - [14/Apr/2022 21:55:05] \"GET /_dash-layout HTTP/1.1\" 200 -\n",
      "2022-04-14 21:55:05,835 : INFO : 127.0.0.1 - - [14/Apr/2022 21:55:05] \"GET /_dash-dependencies HTTP/1.1\" 200 -\n",
      "2022-04-14 21:55:05,958 : INFO : 127.0.0.1 - - [14/Apr/2022 21:55:05] \"POST /_dash-update-component HTTP/1.1\" 200 -\n",
      "2022-04-14 21:55:05,981 : INFO : 127.0.0.1 - - [14/Apr/2022 21:55:05] \"GET /assets/favicon.ico?m=1649961764.648881 HTTP/1.1\" 200 -\n",
      "2022-04-14 21:55:07,023 : INFO : 127.0.0.1 - - [14/Apr/2022 21:55:07] \"POST /_dash-update-component HTTP/1.1\" 200 -\n",
      "2022-04-14 21:55:07,106 : INFO : 127.0.0.1 - - [14/Apr/2022 21:55:07] \"POST /_dash-update-component HTTP/1.1\" 200 -\n",
      "2022-04-14 21:55:07,172 : INFO : 127.0.0.1 - - [14/Apr/2022 21:55:07] \"POST /_dash-update-component HTTP/1.1\" 200 -\n",
      "2022-04-14 21:55:07,318 : INFO : 127.0.0.1 - - [14/Apr/2022 21:55:07] \"POST /_dash-update-component HTTP/1.1\" 200 -\n",
      "2022-04-14 21:55:07,447 : INFO : 127.0.0.1 - - [14/Apr/2022 21:55:07] \"POST /_dash-update-component HTTP/1.1\" 200 -\n",
      "2022-04-14 21:55:07,523 : INFO : 127.0.0.1 - - [14/Apr/2022 21:55:07] \"POST /_dash-update-component HTTP/1.1\" 200 -\n",
      "2022-04-14 21:55:09,046 : INFO : 127.0.0.1 - - [14/Apr/2022 21:55:09] \"POST /_dash-update-component HTTP/1.1\" 200 -\n",
      "2022-04-14 21:55:09,164 : INFO : 127.0.0.1 - - [14/Apr/2022 21:55:09] \"POST /_dash-update-component HTTP/1.1\" 200 -\n",
      "2022-04-14 21:55:09,225 : INFO : 127.0.0.1 - - [14/Apr/2022 21:55:09] \"POST /_dash-update-component HTTP/1.1\" 200 -\n",
      "2022-04-14 21:55:09,368 : INFO : 127.0.0.1 - - [14/Apr/2022 21:55:09] \"POST /_dash-update-component HTTP/1.1\" 200 -\n",
      "2022-04-14 21:55:09,562 : INFO : 127.0.0.1 - - [14/Apr/2022 21:55:09] \"POST /_dash-update-component HTTP/1.1\" 200 -\n",
      "2022-04-14 21:55:09,629 : INFO : 127.0.0.1 - - [14/Apr/2022 21:55:09] \"POST /_dash-update-component HTTP/1.1\" 200 -\n",
      "2022-04-14 21:55:09,890 : INFO : 127.0.0.1 - - [14/Apr/2022 21:55:09] \"POST /_dash-update-component HTTP/1.1\" 200 -\n",
      "2022-04-14 21:55:10,194 : INFO : 127.0.0.1 - - [14/Apr/2022 21:55:10] \"POST /_dash-update-component HTTP/1.1\" 200 -\n",
      "2022-04-14 21:55:10,446 : INFO : 127.0.0.1 - - [14/Apr/2022 21:55:10] \"POST /_dash-update-component HTTP/1.1\" 200 -\n",
      "2022-04-14 21:55:10,601 : INFO : 127.0.0.1 - - [14/Apr/2022 21:55:10] \"POST /_dash-update-component HTTP/1.1\" 200 -\n",
      "2022-04-14 21:55:10,760 : INFO : 127.0.0.1 - - [14/Apr/2022 21:55:10] \"POST /_dash-update-component HTTP/1.1\" 200 -\n",
      "2022-04-14 21:55:10,939 : INFO : 127.0.0.1 - - [14/Apr/2022 21:55:10] \"POST /_dash-update-component HTTP/1.1\" 200 -\n",
      "2022-04-14 21:55:11,226 : INFO : 127.0.0.1 - - [14/Apr/2022 21:55:11] \"POST /_dash-update-component HTTP/1.1\" 200 -\n",
      "2022-04-14 21:55:11,822 : INFO : 127.0.0.1 - - [14/Apr/2022 21:55:11] \"POST /_dash-update-component HTTP/1.1\" 200 -\n",
      "2022-04-14 21:55:12,286 : INFO : 127.0.0.1 - - [14/Apr/2022 21:55:12] \"POST /_dash-update-component HTTP/1.1\" 200 -\n",
      "2022-04-14 21:55:12,430 : INFO : 127.0.0.1 - - [14/Apr/2022 21:55:12] \"POST /_dash-update-component HTTP/1.1\" 200 -\n",
      "2022-04-14 21:55:12,556 : INFO : 127.0.0.1 - - [14/Apr/2022 21:55:12] \"POST /_dash-update-component HTTP/1.1\" 200 -\n",
      "2022-04-14 21:55:12,640 : INFO : 127.0.0.1 - - [14/Apr/2022 21:55:12] \"POST /_dash-update-component HTTP/1.1\" 200 -\n",
      "2022-04-14 21:55:12,741 : INFO : 127.0.0.1 - - [14/Apr/2022 21:55:12] \"POST /_dash-update-component HTTP/1.1\" 200 -\n",
      "2022-04-14 21:55:12,892 : INFO : 127.0.0.1 - - [14/Apr/2022 21:55:12] \"POST /_dash-update-component HTTP/1.1\" 200 -\n",
      "2022-04-14 21:55:13,000 : INFO : 127.0.0.1 - - [14/Apr/2022 21:55:13] \"POST /_dash-update-component HTTP/1.1\" 200 -\n",
      "2022-04-14 21:55:13,146 : INFO : 127.0.0.1 - - [14/Apr/2022 21:55:13] \"POST /_dash-update-component HTTP/1.1\" 200 -\n",
      "2022-04-14 21:55:13,355 : INFO : 127.0.0.1 - - [14/Apr/2022 21:55:13] \"POST /_dash-update-component HTTP/1.1\" 200 -\n",
      "2022-04-14 21:55:13,406 : INFO : 127.0.0.1 - - [14/Apr/2022 21:55:13] \"POST /_dash-update-component HTTP/1.1\" 200 -\n",
      "2022-04-14 21:55:13,477 : INFO : 127.0.0.1 - - [14/Apr/2022 21:55:13] \"POST /_dash-update-component HTTP/1.1\" 200 -\n",
      "2022-04-14 21:55:13,955 : INFO : 127.0.0.1 - - [14/Apr/2022 21:55:13] \"POST /_dash-update-component HTTP/1.1\" 200 -\n",
      "2022-04-14 21:55:14,922 : INFO : 127.0.0.1 - - [14/Apr/2022 21:55:14] \"POST /_dash-update-component HTTP/1.1\" 200 -\n",
      "2022-04-14 21:55:15,036 : INFO : 127.0.0.1 - - [14/Apr/2022 21:55:15] \"POST /_dash-update-component HTTP/1.1\" 200 -\n",
      "2022-04-14 21:55:15,167 : INFO : 127.0.0.1 - - [14/Apr/2022 21:55:15] \"POST /_dash-update-component HTTP/1.1\" 200 -\n",
      "2022-04-14 21:55:15,308 : INFO : 127.0.0.1 - - [14/Apr/2022 21:55:15] \"POST /_dash-update-component HTTP/1.1\" 200 -\n",
      "2022-04-14 21:55:15,485 : INFO : 127.0.0.1 - - [14/Apr/2022 21:55:15] \"POST /_dash-update-component HTTP/1.1\" 200 -\n",
      "2022-04-14 21:55:15,574 : INFO : 127.0.0.1 - - [14/Apr/2022 21:55:15] \"POST /_dash-update-component HTTP/1.1\" 200 -\n",
      "2022-04-14 21:55:15,703 : INFO : 127.0.0.1 - - [14/Apr/2022 21:55:15] \"POST /_dash-update-component HTTP/1.1\" 200 -\n",
      "2022-04-14 21:55:15,765 : INFO : 127.0.0.1 - - [14/Apr/2022 21:55:15] \"POST /_dash-update-component HTTP/1.1\" 200 -\n",
      "2022-04-14 21:55:15,981 : INFO : 127.0.0.1 - - [14/Apr/2022 21:55:15] \"POST /_dash-update-component HTTP/1.1\" 200 -\n",
      "2022-04-14 21:55:16,719 : INFO : 127.0.0.1 - - [14/Apr/2022 21:55:16] \"POST /_dash-update-component HTTP/1.1\" 200 -\n",
      "2022-04-14 21:55:17,920 : INFO : 127.0.0.1 - - [14/Apr/2022 21:55:17] \"POST /_dash-update-component HTTP/1.1\" 200 -\n",
      "2022-04-14 21:55:17,986 : INFO : 127.0.0.1 - - [14/Apr/2022 21:55:17] \"POST /_dash-update-component HTTP/1.1\" 200 -\n",
      "2022-04-14 21:55:18,105 : INFO : 127.0.0.1 - - [14/Apr/2022 21:55:18] \"POST /_dash-update-component HTTP/1.1\" 200 -\n",
      "2022-04-14 21:55:18,370 : INFO : 127.0.0.1 - - [14/Apr/2022 21:55:18] \"POST /_dash-update-component HTTP/1.1\" 200 -\n",
      "2022-04-14 21:55:18,825 : INFO : 127.0.0.1 - - [14/Apr/2022 21:55:18] \"POST /_dash-update-component HTTP/1.1\" 200 -\n",
      "2022-04-14 21:55:18,896 : INFO : 127.0.0.1 - - [14/Apr/2022 21:55:18] \"POST /_dash-update-component HTTP/1.1\" 200 -\n",
      "2022-04-14 21:55:19,286 : INFO : 127.0.0.1 - - [14/Apr/2022 21:55:19] \"POST /_dash-update-component HTTP/1.1\" 200 -\n",
      "2022-04-14 21:55:19,487 : INFO : 127.0.0.1 - - [14/Apr/2022 21:55:19] \"POST /_dash-update-component HTTP/1.1\" 200 -\n",
      "2022-04-14 21:55:19,690 : INFO : 127.0.0.1 - - [14/Apr/2022 21:55:19] \"POST /_dash-update-component HTTP/1.1\" 200 -\n"
     ]
    },
    {
     "name": "stderr",
     "output_type": "stream",
     "text": [
      "2022-04-14 21:55:19,780 : INFO : 127.0.0.1 - - [14/Apr/2022 21:55:19] \"POST /_dash-update-component HTTP/1.1\" 200 -\n",
      "2022-04-14 21:55:19,860 : INFO : 127.0.0.1 - - [14/Apr/2022 21:55:19] \"POST /_dash-update-component HTTP/1.1\" 200 -\n",
      "2022-04-14 21:55:19,932 : INFO : 127.0.0.1 - - [14/Apr/2022 21:55:19] \"POST /_dash-update-component HTTP/1.1\" 200 -\n",
      "2022-04-14 21:55:20,030 : INFO : 127.0.0.1 - - [14/Apr/2022 21:55:20] \"POST /_dash-update-component HTTP/1.1\" 200 -\n",
      "2022-04-14 21:55:20,262 : INFO : 127.0.0.1 - - [14/Apr/2022 21:55:20] \"POST /_dash-update-component HTTP/1.1\" 200 -\n",
      "2022-04-14 21:55:20,357 : INFO : 127.0.0.1 - - [14/Apr/2022 21:55:20] \"POST /_dash-update-component HTTP/1.1\" 200 -\n",
      "2022-04-14 21:55:20,504 : INFO : 127.0.0.1 - - [14/Apr/2022 21:55:20] \"POST /_dash-update-component HTTP/1.1\" 200 -\n",
      "2022-04-14 21:55:20,618 : INFO : 127.0.0.1 - - [14/Apr/2022 21:55:20] \"POST /_dash-update-component HTTP/1.1\" 200 -\n",
      "2022-04-14 21:55:20,689 : INFO : 127.0.0.1 - - [14/Apr/2022 21:55:20] \"POST /_dash-update-component HTTP/1.1\" 200 -\n",
      "2022-04-14 21:55:20,786 : INFO : 127.0.0.1 - - [14/Apr/2022 21:55:20] \"POST /_dash-update-component HTTP/1.1\" 200 -\n",
      "2022-04-14 21:55:20,928 : INFO : 127.0.0.1 - - [14/Apr/2022 21:55:20] \"POST /_dash-update-component HTTP/1.1\" 200 -\n",
      "2022-04-14 21:55:21,014 : INFO : 127.0.0.1 - - [14/Apr/2022 21:55:21] \"POST /_dash-update-component HTTP/1.1\" 200 -\n",
      "2022-04-14 21:55:21,105 : INFO : 127.0.0.1 - - [14/Apr/2022 21:55:21] \"POST /_dash-update-component HTTP/1.1\" 200 -\n",
      "2022-04-14 21:55:21,190 : INFO : 127.0.0.1 - - [14/Apr/2022 21:55:21] \"POST /_dash-update-component HTTP/1.1\" 200 -\n",
      "2022-04-14 21:55:21,246 : INFO : 127.0.0.1 - - [14/Apr/2022 21:55:21] \"POST /_dash-update-component HTTP/1.1\" 200 -\n",
      "2022-04-14 21:55:24,322 : INFO : 127.0.0.1 - - [14/Apr/2022 21:55:24] \"POST /_dash-update-component HTTP/1.1\" 200 -\n"
     ]
    },
    {
     "name": "stdout",
     "output_type": "stream",
     "text": [
      "Creating average feature vecs for test questions\n",
      "Review 0 of 1\n"
     ]
    }
   ],
   "source": [
    "from fast_dash import FastDash\n",
    "from fast_dash.Components import Text\n",
    "\n",
    "# Step 1: Define your model inference\n",
    "def text_to_text_function(question):\n",
    "    result = pipeline.predict([question])\n",
    "    result = label_encoder.inverse_transform(result)[0]\n",
    "    return result\n",
    "\n",
    "# Step 2: Specify the input and output components\n",
    "app = FastDash(callback_fn=text_to_text_function, \n",
    "                inputs=Text, \n",
    "                outputs=Text, \n",
    "                title='App title')\n",
    "\n",
    "# Step 3: Run your app!\n",
    "app.run()\n",
    "\n",
    "# * Running on http://127.0.0.1:5000/ (Press CTRL+C to quit)"
   ]
  },
  {
   "cell_type": "code",
   "execution_count": null,
   "id": "76d04bac",
   "metadata": {},
   "outputs": [],
   "source": []
  },
  {
   "cell_type": "code",
   "execution_count": null,
   "id": "acfafd07",
   "metadata": {},
   "outputs": [],
   "source": []
  }
 ],
 "metadata": {
  "kernelspec": {
   "display_name": "Python 3 (ipykernel)",
   "language": "python",
   "name": "python3"
  },
  "language_info": {
   "codemirror_mode": {
    "name": "ipython",
    "version": 3
   },
   "file_extension": ".py",
   "mimetype": "text/x-python",
   "name": "python",
   "nbconvert_exporter": "python",
   "pygments_lexer": "ipython3",
   "version": "3.9.12"
  }
 },
 "nbformat": 4,
 "nbformat_minor": 5
}
