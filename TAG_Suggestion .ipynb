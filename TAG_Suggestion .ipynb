{
 "cells": [
  {
   "cell_type": "code",
   "execution_count": 2,
   "id": "8e16bdff",
   "metadata": {},
   "outputs": [],
   "source": [
    "import numpy as np\n",
    "import pandas as pd\n",
    "from bs4 import BeautifulSoup\n",
    "import re\n",
    "from nltk.corpus import stopwords\n",
    "import nltk\n",
    "from nltk.tokenize import sent_tokenize, word_tokenize\n",
    "from nltk.stem import WordNetLemmatizer\n",
    "from sklearn.feature_extraction.text import CountVectorizer\n",
    "import seaborn as sns"
   ]
  },
  {
   "cell_type": "code",
   "execution_count": 3,
   "id": "fbd4a90d",
   "metadata": {},
   "outputs": [],
   "source": [
    "data = pd.read_csv('QueryResults_2.csv')"
   ]
  },
  {
   "cell_type": "code",
   "execution_count": 4,
   "id": "8682d679",
   "metadata": {},
   "outputs": [
    {
     "data": {
      "text/html": [
       "<div>\n",
       "<style scoped>\n",
       "    .dataframe tbody tr th:only-of-type {\n",
       "        vertical-align: middle;\n",
       "    }\n",
       "\n",
       "    .dataframe tbody tr th {\n",
       "        vertical-align: top;\n",
       "    }\n",
       "\n",
       "    .dataframe thead th {\n",
       "        text-align: right;\n",
       "    }\n",
       "</style>\n",
       "<table border=\"1\" class=\"dataframe\">\n",
       "  <thead>\n",
       "    <tr style=\"text-align: right;\">\n",
       "      <th></th>\n",
       "      <th>Title</th>\n",
       "      <th>Body</th>\n",
       "      <th>Tags</th>\n",
       "      <th>Id</th>\n",
       "      <th>Score</th>\n",
       "      <th>ViewCount</th>\n",
       "      <th>FavoriteCount</th>\n",
       "      <th>AnswerCount</th>\n",
       "    </tr>\n",
       "  </thead>\n",
       "  <tbody>\n",
       "    <tr>\n",
       "      <th>0</th>\n",
       "      <td>pandas equivalent of np.where</td>\n",
       "      <td>&lt;p&gt;&lt;code&gt;np.where&lt;/code&gt; has the semantics of ...</td>\n",
       "      <td>&lt;python&gt;&lt;pandas&gt;&lt;numpy&gt;&lt;where-clause&gt;</td>\n",
       "      <td>38579532</td>\n",
       "      <td>70</td>\n",
       "      <td>106887</td>\n",
       "      <td>17</td>\n",
       "      <td>1</td>\n",
       "    </tr>\n",
       "    <tr>\n",
       "      <th>1</th>\n",
       "      <td>The type system in Scala is Turing complete. P...</td>\n",
       "      <td>&lt;p&gt;There are claims that Scala's type system i...</td>\n",
       "      <td>&lt;language-agnostic&gt;&lt;scala&gt;&lt;type-systems&gt;&lt;turin...</td>\n",
       "      <td>4047512</td>\n",
       "      <td>57</td>\n",
       "      <td>7625</td>\n",
       "      <td>12</td>\n",
       "      <td>2</td>\n",
       "    </tr>\n",
       "    <tr>\n",
       "      <th>2</th>\n",
       "      <td>How can you publish a ClickOnce application th...</td>\n",
       "      <td>&lt;p&gt;I have CruiseControl.NET Version 1.4 set up...</td>\n",
       "      <td>&lt;msbuild&gt;&lt;clickonce&gt;&lt;cruisecontrol.net&gt;&lt;publish&gt;</td>\n",
       "      <td>12482</td>\n",
       "      <td>24</td>\n",
       "      <td>12992</td>\n",
       "      <td>13</td>\n",
       "      <td>5</td>\n",
       "    </tr>\n",
       "    <tr>\n",
       "      <th>3</th>\n",
       "      <td>How do you get a directory listing in C?</td>\n",
       "      <td>&lt;p&gt;How do you scan a directory for folders and...</td>\n",
       "      <td>&lt;c&gt;&lt;file&gt;&lt;directory&gt;&lt;cross-platform&gt;&lt;common-ta...</td>\n",
       "      <td>12489</td>\n",
       "      <td>65</td>\n",
       "      <td>135968</td>\n",
       "      <td>21</td>\n",
       "      <td>9</td>\n",
       "    </tr>\n",
       "    <tr>\n",
       "      <th>4</th>\n",
       "      <td>Expression Evaluation and Tree Walking using p...</td>\n",
       "      <td>&lt;p&gt;This morning, I was reading &lt;a href=\"http:/...</td>\n",
       "      <td>&lt;oop&gt;&lt;recursion&gt;&lt;polymorphism&gt;&lt;binary-tree&gt;</td>\n",
       "      <td>12516</td>\n",
       "      <td>27</td>\n",
       "      <td>7032</td>\n",
       "      <td>19</td>\n",
       "      <td>16</td>\n",
       "    </tr>\n",
       "    <tr>\n",
       "      <th>...</th>\n",
       "      <td>...</td>\n",
       "      <td>...</td>\n",
       "      <td>...</td>\n",
       "      <td>...</td>\n",
       "      <td>...</td>\n",
       "      <td>...</td>\n",
       "      <td>...</td>\n",
       "      <td>...</td>\n",
       "    </tr>\n",
       "    <tr>\n",
       "      <th>49995</th>\n",
       "      <td>Frontend javascript frameworks with node.js</td>\n",
       "      <td>&lt;p&gt;I am starting to learn frontend JavaScript ...</td>\n",
       "      <td>&lt;javascript&gt;&lt;node.js&gt;&lt;backbone.js&gt;&lt;ember.js&gt;&lt;j...</td>\n",
       "      <td>14072131</td>\n",
       "      <td>30</td>\n",
       "      <td>29357</td>\n",
       "      <td>11</td>\n",
       "      <td>2</td>\n",
       "    </tr>\n",
       "    <tr>\n",
       "      <th>49996</th>\n",
       "      <td>WELD-001408: Unsatisfied dependencies for type...</td>\n",
       "      <td>&lt;p&gt;I'm a Java EE-newbie. I want to test JSF an...</td>\n",
       "      <td>&lt;jsf&gt;&lt;jakarta-ee&gt;&lt;dependency-injection&gt;&lt;cdi&gt;&lt;m...</td>\n",
       "      <td>28352461</td>\n",
       "      <td>53</td>\n",
       "      <td>135308</td>\n",
       "      <td>12</td>\n",
       "      <td>7</td>\n",
       "    </tr>\n",
       "    <tr>\n",
       "      <th>49997</th>\n",
       "      <td>Optimize uploaded images with php (jpeg)</td>\n",
       "      <td>&lt;p&gt;When running Page Speed in Google Chrome it...</td>\n",
       "      <td>&lt;php&gt;&lt;gd&gt;&lt;jpeg&gt;&lt;image-compression&gt;&lt;image-optim...</td>\n",
       "      <td>14072456</td>\n",
       "      <td>16</td>\n",
       "      <td>40714</td>\n",
       "      <td>12</td>\n",
       "      <td>4</td>\n",
       "    </tr>\n",
       "    <tr>\n",
       "      <th>49998</th>\n",
       "      <td>Google Maps v2 - set both my location and zoom in</td>\n",
       "      <td>&lt;p&gt;My question is, does anyone know how to set...</td>\n",
       "      <td>&lt;android&gt;&lt;api&gt;&lt;google-maps&gt;&lt;google-maps-api-2&gt;</td>\n",
       "      <td>14074129</td>\n",
       "      <td>125</td>\n",
       "      <td>163166</td>\n",
       "      <td>41</td>\n",
       "      <td>11</td>\n",
       "    </tr>\n",
       "    <tr>\n",
       "      <th>49999</th>\n",
       "      <td>post request with multiple parameters JSON and...</td>\n",
       "      <td>&lt;p&gt;I've created a rest api using Jersey/Jackso...</td>\n",
       "      <td>&lt;java&gt;&lt;json&gt;&lt;post&gt;&lt;jersey&gt;&lt;jackson&gt;</td>\n",
       "      <td>14075422</td>\n",
       "      <td>22</td>\n",
       "      <td>71183</td>\n",
       "      <td>19</td>\n",
       "      <td>2</td>\n",
       "    </tr>\n",
       "  </tbody>\n",
       "</table>\n",
       "<p>50000 rows × 8 columns</p>\n",
       "</div>"
      ],
      "text/plain": [
       "                                                   Title  \\\n",
       "0                          pandas equivalent of np.where   \n",
       "1      The type system in Scala is Turing complete. P...   \n",
       "2      How can you publish a ClickOnce application th...   \n",
       "3               How do you get a directory listing in C?   \n",
       "4      Expression Evaluation and Tree Walking using p...   \n",
       "...                                                  ...   \n",
       "49995        Frontend javascript frameworks with node.js   \n",
       "49996  WELD-001408: Unsatisfied dependencies for type...   \n",
       "49997           Optimize uploaded images with php (jpeg)   \n",
       "49998  Google Maps v2 - set both my location and zoom in   \n",
       "49999  post request with multiple parameters JSON and...   \n",
       "\n",
       "                                                    Body  \\\n",
       "0      <p><code>np.where</code> has the semantics of ...   \n",
       "1      <p>There are claims that Scala's type system i...   \n",
       "2      <p>I have CruiseControl.NET Version 1.4 set up...   \n",
       "3      <p>How do you scan a directory for folders and...   \n",
       "4      <p>This morning, I was reading <a href=\"http:/...   \n",
       "...                                                  ...   \n",
       "49995  <p>I am starting to learn frontend JavaScript ...   \n",
       "49996  <p>I'm a Java EE-newbie. I want to test JSF an...   \n",
       "49997  <p>When running Page Speed in Google Chrome it...   \n",
       "49998  <p>My question is, does anyone know how to set...   \n",
       "49999  <p>I've created a rest api using Jersey/Jackso...   \n",
       "\n",
       "                                                    Tags        Id  Score  \\\n",
       "0                  <python><pandas><numpy><where-clause>  38579532     70   \n",
       "1      <language-agnostic><scala><type-systems><turin...   4047512     57   \n",
       "2       <msbuild><clickonce><cruisecontrol.net><publish>     12482     24   \n",
       "3      <c><file><directory><cross-platform><common-ta...     12489     65   \n",
       "4            <oop><recursion><polymorphism><binary-tree>     12516     27   \n",
       "...                                                  ...       ...    ...   \n",
       "49995  <javascript><node.js><backbone.js><ember.js><j...  14072131     30   \n",
       "49996  <jsf><jakarta-ee><dependency-injection><cdi><m...  28352461     53   \n",
       "49997  <php><gd><jpeg><image-compression><image-optim...  14072456     16   \n",
       "49998     <android><api><google-maps><google-maps-api-2>  14074129    125   \n",
       "49999                <java><json><post><jersey><jackson>  14075422     22   \n",
       "\n",
       "       ViewCount  FavoriteCount  AnswerCount  \n",
       "0         106887             17            1  \n",
       "1           7625             12            2  \n",
       "2          12992             13            5  \n",
       "3         135968             21            9  \n",
       "4           7032             19           16  \n",
       "...          ...            ...          ...  \n",
       "49995      29357             11            2  \n",
       "49996     135308             12            7  \n",
       "49997      40714             12            4  \n",
       "49998     163166             41           11  \n",
       "49999      71183             19            2  \n",
       "\n",
       "[50000 rows x 8 columns]"
      ]
     },
     "execution_count": 4,
     "metadata": {},
     "output_type": "execute_result"
    }
   ],
   "source": [
    "data"
   ]
  },
  {
   "cell_type": "markdown",
   "id": "95720be5",
   "metadata": {},
   "source": [
    "### Les titres sont tout aussi important que le Body. Nous pouvons regrouper les deux. "
   ]
  },
  {
   "cell_type": "code",
   "execution_count": 5,
   "id": "35c2cec0",
   "metadata": {},
   "outputs": [],
   "source": [
    "data.Body = data.Title + \" \" + data.Body "
   ]
  },
  {
   "cell_type": "code",
   "execution_count": 6,
   "id": "34577f3d",
   "metadata": {
    "scrolled": true
   },
   "outputs": [
    {
     "data": {
      "text/plain": [
       "0        pandas equivalent of np.where <p><code>np.wher...\n",
       "1        The type system in Scala is Turing complete. P...\n",
       "2        How can you publish a ClickOnce application th...\n",
       "3        How do you get a directory listing in C? <p>Ho...\n",
       "4        Expression Evaluation and Tree Walking using p...\n",
       "                               ...                        \n",
       "49995    Frontend javascript frameworks with node.js <p...\n",
       "49996    WELD-001408: Unsatisfied dependencies for type...\n",
       "49997    Optimize uploaded images with php (jpeg) <p>Wh...\n",
       "49998    Google Maps v2 - set both my location and zoom...\n",
       "49999    post request with multiple parameters JSON and...\n",
       "Name: Body, Length: 50000, dtype: object"
      ]
     },
     "execution_count": 6,
     "metadata": {},
     "output_type": "execute_result"
    }
   ],
   "source": [
    "data.Body"
   ]
  },
  {
   "cell_type": "markdown",
   "id": "151cdb42",
   "metadata": {},
   "source": [
    "## Gestion des TAGS ( cible ) "
   ]
  },
  {
   "cell_type": "markdown",
   "id": "af0a66bc",
   "metadata": {},
   "source": [
    "#### Définition des fonction permettant de cleaner les TAGS"
   ]
  },
  {
   "cell_type": "code",
   "execution_count": 7,
   "id": "b2d2c14d",
   "metadata": {},
   "outputs": [],
   "source": [
    "def tag_remover(tag):\n",
    "    tag = tag.replace('>' , \" \").replace('<', \" \")\n",
    "    return tag\n",
    "\n",
    "def tag_to_word_list(tag):\n",
    "    tag = BeautifulSoup(tag).get_text()\n",
    "    tag = tag.split()\n",
    "    return(tag)"
   ]
  },
  {
   "cell_type": "markdown",
   "id": "4c16dd52",
   "metadata": {},
   "source": [
    "#### Parcourons tous les TAGS pour leur appliquer nos fonctions de clean."
   ]
  },
  {
   "cell_type": "code",
   "execution_count": 8,
   "id": "bdd72025",
   "metadata": {
    "scrolled": false
   },
   "outputs": [],
   "source": [
    "Tags = []\n",
    "for tag in data.Tags:\n",
    "    tag = tag_remover(tag)\n",
    "    tag = tag_to_word_list(tag)\n",
    "    Tags.append(tag)\n",
    "    \n",
    "tag_bank = [] \n",
    "for tag in Tags : \n",
    "    for y in tag:\n",
    "        tag_bank.append(y)"
   ]
  },
  {
   "cell_type": "markdown",
   "id": "24e24616",
   "metadata": {},
   "source": [
    "#### Identifions, les TAGS les plus courants, cela pourra certainement nous être utile."
   ]
  },
  {
   "cell_type": "code",
   "execution_count": 32,
   "id": "7555216a",
   "metadata": {},
   "outputs": [],
   "source": [
    "sns.set(font_scale = 1)"
   ]
  },
  {
   "cell_type": "code",
   "execution_count": 34,
   "id": "1ded7572",
   "metadata": {
    "scrolled": false
   },
   "outputs": [
    {
     "name": "stderr",
     "output_type": "stream",
     "text": [
      "/Users/florentmargery/opt/anaconda3/envs/work_env/lib/python3.9/site-packages/seaborn/_decorators.py:36: FutureWarning: Pass the following variables as keyword args: x, y. From version 0.12, the only valid positional argument will be `data`, and passing other arguments without an explicit keyword will result in an error or misinterpretation.\n",
      "  warnings.warn(\n"
     ]
    },
    {
     "data": {
      "image/png": "[encoded data removed]",
      "text/plain": [
       "<Figure size 720x360 with 1 Axes>"
      ]
     },
     "metadata": {},
     "output_type": "display_data"
    }
   ],
   "source": [
    "import matplotlib.pylab as plt\n",
    "tags = pd.DataFrame()\n",
    "tags['Tags'] = tag_bank\n",
    "# for legend text\n",
    "plt.figure(figsize = (10,5))\n",
    "\n",
    "sns.barplot(tags['Tags'].value_counts().head(10).index,\\\n",
    "            tags['Tags'].value_counts().head(10))\n",
    "\n",
    "top_ten = tags['Tags'].value_counts().head(10).index\n",
    "top_ten_tags=[]\n",
    "for i in range(len(top_ten)):\n",
    "    top_ten_tags.append(top_ten[i])"
   ]
  },
  {
   "cell_type": "code",
   "execution_count": 10,
   "id": "3fcada7a",
   "metadata": {},
   "outputs": [
    {
     "data": {
      "text/plain": [
       "37339"
      ]
     },
     "execution_count": 10,
     "metadata": {},
     "output_type": "execute_result"
    }
   ],
   "source": [
    "tags['Tags'].value_counts().head(10).sum()"
   ]
  },
  {
   "cell_type": "code",
   "execution_count": 11,
   "id": "f87b5963",
   "metadata": {},
   "outputs": [],
   "source": [
    "#Création des data que nous utiliserons pour créer notre modèle supervisé\n",
    "data_to_train = [] #--> X\n",
    "target_to_train = [] #--> y\n",
    "counter = 0\n",
    "for tag in Tags:\n",
    "    for i in tag:\n",
    "        if i in top_ten_tags:            \n",
    "            data_to_train.append(data.Body[counter])\n",
    "            target_to_train.append(i)\n",
    "            \n",
    "            \n",
    "    counter+=1"
   ]
  },
  {
   "cell_type": "code",
   "execution_count": 12,
   "id": "2e10fa5d",
   "metadata": {
    "scrolled": true
   },
   "outputs": [
    {
     "name": "stdout",
     "output_type": "stream",
     "text": [
      "java\n",
      "python\n",
      "c#\n",
      "javascript\n",
      "android\n",
      "ios\n",
      "c++\n",
      ".net\n",
      "html\n",
      "iphone\n"
     ]
    }
   ],
   "source": [
    "for tag in top_ten:\n",
    "    print(tag)\n",
    "    top_ten_tags.append(tag)"
   ]
  },
  {
   "cell_type": "markdown",
   "id": "a00b1457",
   "metadata": {},
   "source": [
    "# Data preparation for text analysis"
   ]
  },
  {
   "cell_type": "markdown",
   "id": "d5ec8188",
   "metadata": {},
   "source": [
    "### Fonctions primaires "
   ]
  },
  {
   "cell_type": "code",
   "execution_count": 4,
   "id": "00908ef1",
   "metadata": {},
   "outputs": [],
   "source": [
    "\n",
    "def lemma_fct(list_words) :\n",
    "    lemmatizer = WordNetLemmatizer()\n",
    "    lem_w = [lemmatizer.lemmatize(w) for w in list_words]\n",
    "    return lem_w"
   ]
  },
  {
   "cell_type": "markdown",
   "id": "f5ae84ca",
   "metadata": {},
   "source": [
    "### Fonction déstinée à la création d'un \"Bag of Word\""
   ]
  },
  {
   "cell_type": "code",
   "execution_count": 5,
   "id": "4db45986",
   "metadata": {},
   "outputs": [],
   "source": [
    "def question_to_words_BW(question):\n",
    "    # On récupère le texte\n",
    "    question_text = BeautifulSoup(question).get_text()\n",
    "    \n",
    "    #On ne garde que les caractères intéressants. \n",
    "    question = re.sub(\"[^a-zA-Z+#]\",\" \", question_text)\n",
    "    \n",
    "    # On tokenize nos questions en mots.\n",
    "    words = question.lower().split()\n",
    "    \n",
    "    # On retire les mots clés plus courants avec peu de valeur ajoutée. \n",
    "    stops = set(stopwords.words('english'))\n",
    "    meaningful_words = [w for w in words if not w in stops]\n",
    "        \n",
    "    # On lemmatize les mots\n",
    "    meaningful_words = lemma_fct(meaningful_words)\n",
    "    \n",
    "    #On retourne une liste comprenant les mots ainsi récupérés. \n",
    "    return(\" \".join( meaningful_words))"
   ]
  },
  {
   "cell_type": "markdown",
   "id": "4972aff9",
   "metadata": {},
   "source": [
    "### Fonctions déstinée à la création du modèle Word2vec. "
   ]
  },
  {
   "cell_type": "code",
   "execution_count": 6,
   "id": "4922892d",
   "metadata": {},
   "outputs": [],
   "source": [
    "def sentence_to_wordlist(sentence, remove_stopwords=False, remove_ponctuation=False,lemmatize = False):\n",
    "\n",
    "    # 1. Remove HTML\n",
    "    sentence = BeautifulSoup(sentence).get_text()\n",
    "    sentence = re.sub(\"[^a-zA-Z+#]\",\" \", sentence)\n",
    "    # 1. Tokenization des phrases en liste de mots. \n",
    "    words = sentence.split()    \n",
    "    # 2. Lemmatisation des listes de mots(en option)\n",
    "    if lemmatize:\n",
    "        words = lemma_fct(words)\n",
    "    \n",
    "    # 3. Gestion des stopWords (en option)\n",
    "    if remove_stopwords:\n",
    "        stops = set(stopwords.words('english'))\n",
    "        words = [w for w in words if not w in stops]\n",
    "        \n",
    "    # 4. Gestion de la ponctuation (en option)\n",
    "    if remove_ponctuation:\n",
    "        ponct = ['[', ']', ',', '.', ':', '?', '(', ')','\\'','\\\"','`']\n",
    "        words = [w for w in words if not w in ponct]\n",
    "    \n",
    "    # 5. Return a list of words\n",
    "    return(words)"
   ]
  },
  {
   "cell_type": "code",
   "execution_count": 7,
   "id": "505aec45",
   "metadata": {},
   "outputs": [],
   "source": [
    "def question_to_sentences(question, tokenizer):\n",
    "    # Function to split a question into parsed sentences. Returns a \n",
    "    # list of sentences, where each sentence is a list of words\n",
    "    \n",
    "    question = BeautifulSoup(question).get_text()\n",
    "    # 1. Use the NLTK tokenizer to split the paragraph into sentences\n",
    "    raw_sentences = tokenizer.tokenize(question.strip())\n",
    "    # 2. Loop over each sentence\n",
    "    sentences = []\n",
    "    for raw_sentence in raw_sentences:\n",
    "        # If a sentence is empty, skip it\n",
    "        if len(raw_sentence) > 0:\n",
    "            # Otherwise, call review_to_wordlist to get a list of words\n",
    "            sentences.append(sentence_to_wordlist(raw_sentence, remove_stopwords=False,\\\n",
    "                                                  remove_ponctuation=False, lemmatize=False))\n",
    "    #\n",
    "    # Return the list of sentences (each sentence is a list of words,\n",
    "    # so this returns a list of lists\n",
    "    return sentences"
   ]
  },
  {
   "cell_type": "code",
   "execution_count": 8,
   "id": "02aeb5a6",
   "metadata": {
    "scrolled": true
   },
   "outputs": [],
   "source": [
    "#tokenizer qui décompose en phrases via la ponctuation= punkt\n",
    "tokenizer = nltk.data.load('tokenizers/punkt/english.pickle')"
   ]
  },
  {
   "cell_type": "markdown",
   "id": "722e68c3",
   "metadata": {},
   "source": [
    "# BAG Of WORDS"
   ]
  },
  {
   "cell_type": "markdown",
   "id": "a91634cc",
   "metadata": {},
   "source": [
    "### Préprocessing"
   ]
  },
  {
   "cell_type": "code",
   "execution_count": 15,
   "id": "33776930",
   "metadata": {},
   "outputs": [],
   "source": [
    "questions_cleared = []\n",
    "for question in data.Body:\n",
    "        cleared_question = question_to_words_BW(question)\n",
    "        questions_cleared.append(cleared_question)\n",
    "        \n",
    "# On créé le vectorizer qui va vectorizer les mots de nos questions. \n",
    "#vectorizer = CountVectorizer(analyzer = \"word\", max_features = 5000) \n",
    "vectorizer = TfidfVectorizer(analyzer = \"word\", max_features = 5000)\n",
    "\n",
    "\n",
    "# On fit notre vectorizer avec nos questions. \n",
    "questions_features = vectorizer.fit_transform(questions_cleared)\n",
    "#questions_features = questions_features.toarray()"
   ]
  },
  {
   "cell_type": "markdown",
   "id": "a56c3593",
   "metadata": {},
   "source": [
    "### Modèle de prédiction"
   ]
  },
  {
   "cell_type": "code",
   "execution_count": 16,
   "id": "a9563596",
   "metadata": {
    "scrolled": true
   },
   "outputs": [
    {
     "data": {
      "text/plain": [
       "LatentDirichletAllocation(learning_method='online', learning_offset=50.0,\n",
       "                          max_iter=5, n_components=20, random_state=0)"
      ]
     },
     "execution_count": 16,
     "metadata": {},
     "output_type": "execute_result"
    }
   ],
   "source": [
    "from sklearn.decomposition import LatentDirichletAllocation\n",
    "n_topics = 20\n",
    "\n",
    "lda = LatentDirichletAllocation(n_components = n_topics, max_iter = 5, learning_method='online',learning_offset=50.,random_state=0)\n",
    "\n",
    "lda.fit(questions_features)"
   ]
  },
  {
   "cell_type": "markdown",
   "id": "c50e51ba",
   "metadata": {},
   "source": [
    "#### Ici, notre modèle nous renvoie un vecteur de la taille n_topics, avec pour chacun d'entre eux la probabilité d'appartencance de notre quetioni en input "
   ]
  },
  {
   "cell_type": "code",
   "execution_count": 17,
   "id": "26fa9484",
   "metadata": {
    "scrolled": true
   },
   "outputs": [
    {
     "data": {
      "text/plain": [
       "array([[0.59287029, 0.00142857, 0.00142857, 0.00142857, 0.00142857,\n",
       "        0.00142857, 0.00142857, 0.00142857, 0.00142857, 0.00142857,\n",
       "        0.23513446, 0.14770954, 0.00142857, 0.00142857, 0.00142857,\n",
       "        0.00142857, 0.00142857, 0.00142857, 0.00142857, 0.00142857]])"
      ]
     },
     "execution_count": 17,
     "metadata": {},
     "output_type": "execute_result"
    }
   ],
   "source": [
    "lda.transform(questions_features[1])"
   ]
  },
  {
   "cell_type": "markdown",
   "id": "559d3005",
   "metadata": {},
   "source": [
    "### Affichage des topics trouvés par notre modèle.\n"
   ]
  },
  {
   "cell_type": "code",
   "execution_count": 18,
   "id": "44507ea0",
   "metadata": {
    "scrolled": true
   },
   "outputs": [
    {
     "name": "stdout",
     "output_type": "stream",
     "text": [
      "Topic 0:\n",
      "would use one question like\n",
      "Topic 1:\n",
      "file python lib import path\n",
      "Topic 2:\n",
      "server client connection web springframework\n",
      "Topic 3:\n",
      "id data name value key\n",
      "Topic 4:\n",
      "function event node component return\n",
      "Topic 5:\n",
      "self image view color width\n",
      "Topic 6:\n",
      "error app message log io\n",
      "Topic 7:\n",
      "android java org layout com\n",
      "Topic 8:\n",
      "list entity transaction collection nan\n",
      "Topic 9:\n",
      "memory byte size number time\n",
      "Topic 10:\n",
      "class public new string return\n",
      "Topic 11:\n",
      "project build version git dependency\n",
      "Topic 12:\n",
      "test html page document tag\n",
      "Topic 13:\n",
      "form date value input name\n",
      "Topic 14:\n",
      "var json div function data\n",
      "Topic 15:\n",
      "user model app password controller\n",
      "Topic 16:\n",
      "http com url request php\n",
      "Topic 17:\n",
      "like way want would using\n",
      "Topic 18:\n",
      "window file gem ruby application\n",
      "Topic 19:\n",
      "int std array type char\n"
     ]
    },
    {
     "name": "stderr",
     "output_type": "stream",
     "text": [
      "/Users/florentmargery/opt/anaconda3/envs/work_env/lib/python3.9/site-packages/sklearn/utils/deprecation.py:87: FutureWarning: Function get_feature_names is deprecated; get_feature_names is deprecated in 1.0 and will be removed in 1.2. Please use get_feature_names_out instead.\n",
      "  warnings.warn(msg, category=FutureWarning)\n"
     ]
    }
   ],
   "source": [
    "def display_topics(model, feature_names, no_top_words):\n",
    "    topic_list = pd.DataFrame()\n",
    "    for topic_idx, topic in enumerate(model.components_):\n",
    "        print(\"Topic {}:\".format(topic_idx))\n",
    "        print(\" \".join([feature_names[i] for i in topic.argsort()[:-no_top_words - 1:-1]]))\n",
    "        topic_list[topic_idx] = [feature_names[i] for i in topic.argsort()[:-no_top_words - 1:-1]]\n",
    "\n",
    "no_top_words = 5\n",
    "display_topics(lda,vectorizer.get_feature_names(), 5)"
   ]
  },
  {
   "cell_type": "code",
   "execution_count": 19,
   "id": "0b743bdb",
   "metadata": {},
   "outputs": [
    {
     "name": "stderr",
     "output_type": "stream",
     "text": [
      "/Users/florentmargery/opt/anaconda3/envs/work_env/lib/python3.9/site-packages/sklearn/utils/deprecation.py:87: FutureWarning: Function get_feature_names is deprecated; get_feature_names is deprecated in 1.0 and will be removed in 1.2. Please use get_feature_names_out instead.\n",
      "  warnings.warn(msg, category=FutureWarning)\n",
      "/Users/florentmargery/opt/anaconda3/envs/work_env/lib/python3.9/site-packages/pyLDAvis/_prepare.py:246: FutureWarning: In a future version of pandas all arguments of DataFrame.drop except for the argument 'labels' will be keyword-only.\n",
      "  default_term_info = default_term_info.sort_values(\n",
      "/Users/florentmargery/opt/anaconda3/envs/work_env/lib/python3.9/site-packages/past/builtins/misc.py:45: DeprecationWarning: the imp module is deprecated in favour of importlib; see the module's documentation for alternative uses\n",
      "  from imp import reload\n",
      "/Users/florentmargery/opt/anaconda3/envs/work_env/lib/python3.9/site-packages/past/builtins/misc.py:45: DeprecationWarning: the imp module is deprecated in favour of importlib; see the module's documentation for alternative uses\n",
      "  from imp import reload\n",
      "/Users/florentmargery/opt/anaconda3/envs/work_env/lib/python3.9/site-packages/past/builtins/misc.py:45: DeprecationWarning: the imp module is deprecated in favour of importlib; see the module's documentation for alternative uses\n",
      "  from imp import reload\n",
      "/Users/florentmargery/opt/anaconda3/envs/work_env/lib/python3.9/site-packages/past/builtins/misc.py:45: DeprecationWarning: the imp module is deprecated in favour of importlib; see the module's documentation for alternative uses\n",
      "  from imp import reload\n",
      "/Users/florentmargery/opt/anaconda3/envs/work_env/lib/python3.9/site-packages/past/builtins/misc.py:45: DeprecationWarning: the imp module is deprecated in favour of importlib; see the module's documentation for alternative uses\n",
      "  from imp import reload\n",
      "/Users/florentmargery/opt/anaconda3/envs/work_env/lib/python3.9/site-packages/past/builtins/misc.py:45: DeprecationWarning: the imp module is deprecated in favour of importlib; see the module's documentation for alternative uses\n",
      "  from imp import reload\n",
      "/Users/florentmargery/opt/anaconda3/envs/work_env/lib/python3.9/site-packages/past/builtins/misc.py:45: DeprecationWarning: the imp module is deprecated in favour of importlib; see the module's documentation for alternative uses\n",
      "  from imp import reload\n",
      "/Users/florentmargery/opt/anaconda3/envs/work_env/lib/python3.9/site-packages/past/builtins/misc.py:45: DeprecationWarning: the imp module is deprecated in favour of importlib; see the module's documentation for alternative uses\n",
      "  from imp import reload\n",
      "/Users/florentmargery/opt/anaconda3/envs/work_env/lib/python3.9/site-packages/past/builtins/misc.py:45: DeprecationWarning: the imp module is deprecated in favour of importlib; see the module's documentation for alternative uses\n",
      "  from imp import reload\n"
     ]
    },
    {
     "data": {
      "text/html": [
       "\n",
       "<link rel=\"stylesheet\" type=\"text/css\" href=\"https://cdn.jsdelivr.net/gh/bmabey/pyLDAvis@3.3.1/pyLDAvis/js/ldavis.v1.0.0.css\">\n",
       "\n",
       "\n",
       "<div id=\"ldavis_el36221405167289031528074821134\"></div>\n",
       "<script type=\"text/javascript\">\n",
       "\n",
       "var ldavis_el36221405167289031528074821134_data = {\"mdsDat\": {\"x\": [0.2548841187457354, 0.23025311835690107, 0.035648610305817986, 0.083801901035423, 0.05821941207729245, 0.07748369878170587, -0.07592285023725337, -0.08488027765864227, 0.004563152257667686, -0.11427108050991548, -0.2652986932630847, 0.1149092797883806, 0.10157423057766311, -0.11784649919435726, -0.14083947604236405, -0.088265658764846, -0.19550707755697075, 0.10683566247003558, -0.035225740780959615, 0.04988416961177034], \"y\": [0.043230331472144425, 0.012921286446588003, -0.11976756727581146, 0.12369872768959875, -0.12169757993998989, 0.08893086897187817, -0.15159323935795113, 0.16913399775327323, 0.22434623496327577, 0.08391611782174235, -0.017422814314422212, -0.17902531163108776, 0.03660273962977541, 0.19646501229327906, -0.13673974311968207, -0.07144334801792226, -0.13907155010639513, -0.15930848909839954, 0.172263049280953, -0.0554387234608453], \"topics\": [1, 2, 3, 4, 5, 6, 7, 8, 9, 10, 11, 12, 13, 14, 15, 16, 17, 18, 19, 20], \"cluster\": [1, 1, 1, 1, 1, 1, 1, 1, 1, 1, 1, 1, 1, 1, 1, 1, 1, 1, 1, 1], \"Freq\": [13.61482176946884, 11.972840067390658, 7.224179418801234, 7.086800254343179, 6.5935898288542, 5.561404353268158, 5.516265182795803, 4.921482555191054, 4.620218582490421, 4.464445640292467, 4.16372306328188, 3.883156268204048, 3.0879659203184753, 3.0633374989695557, 2.8863281915075123, 2.601676957416875, 2.5984237733442406, 2.5572723224587484, 2.2492686041761174, 1.332799747426535]}, \"tinfo\": {\"Term\": [\"android\", \"java\", \"http\", \"list\", \"public\", \"function\", \"file\", \"class\", \"user\", \"test\", \"string\", \"com\", \"int\", \"id\", \"data\", \"value\", \"project\", \"server\", \"var\", \"self\", \"name\", \"org\", \"image\", \"error\", \"html\", \"return\", \"python\", \"page\", \"div\", \"build\", \"fast\", \"game\", \"advantage\", \"benefit\", \"programmer\", \"benchmark\", \"pod\", \"heard\", \"redis\", \"especially\", \"recommend\", \"love\", \"extremely\", \"practical\", \"decision\", \"particularly\", \"hear\", \"disadvantage\", \"distributed\", \"performs\", \"worse\", \"bounty\", \"tracking\", \"critical\", \"theory\", \"sqlalchemy\", \"reliable\", \"oriented\", \"performance\", \"latency\", \"considered\", \"talking\", \"worth\", \"experience\", \"programming\", \"concept\", \"arm\", \"limited\", \"difficult\", \"popular\", \"opinion\", \"language\", \"good\", \"practice\", \"interesting\", \"interested\", \"people\", \"term\", \"question\", \"sense\", \"difference\", \"across\", \"much\", \"really\", \"lot\", \"approach\", \"real\", \"answer\", \"aware\", \"implementation\", \"better\", \"many\", \"le\", \"feature\", \"would\", \"best\", \"one\", \"thing\", \"bit\", \"use\", \"might\", \"library\", \"used\", \"well\", \"seems\", \"looking\", \"time\", \"also\", \"know\", \"like\", \"even\", \"different\", \"make\", \"could\", \"using\", \"need\", \"example\", \"way\", \"code\", \"case\", \"df\", \"dataframe\", \"panda\", \"spark\", \"pd\", \"multiprocessing\", \"animal\", \"cron\", \"closure\", \"undeclared\", \"unclear\", \"slider\", \"dataframes\", \"rdd\", \"purely\", \"regression\", \"former\", \"wav\", \"csc\", \"jframe\", \"beautifulsoup\", \"atlas\", \"sig\", \"dept\", \"intellisense\", \"ctypes\", \"grand\", \"reliably\", \"threadpool\", \"timeit\", \"series\", \"studio\", \"way\", \"mask\", \"want\", \"variable\", \"word\", \"something\", \"like\", \"able\", \"volume\", \"accomplish\", \"find\", \"possible\", \"visual\", \"would\", \"need\", \"know\", \"syntax\", \"figure\", \"work\", \"use\", \"solution\", \"example\", \"using\", \"however\", \"one\", \"thanks\", \"line\", \"code\", \"get\", \"could\", \"trying\", \"tried\", \"also\", \"method\", \"create\", \"make\", \"set\", \"file\", \"private\", \"constructor\", \"await\", \"mock\", \"abstract\", \"arg\", \"myclass\", \"typeof\", \"mutex\", \"autowired\", \"singleton\", \"readonly\", \"getname\", \"executor\", \"slot\", \"dispose\", \"serializable\", \"dosomething\", \"dbcontext\", \"jackson\", \"myobject\", \"dbset\", \"getters\", \"deserialize\", \"mapper\", \"filestream\", \"gettype\", \"getid\", \"savechanges\", \"getproperty\", \"public\", \"static\", \"println\", \"writeline\", \"obj\", \"iqueryable\", \"tostring\", \"class\", \"void\", \"string\", \"queue\", \"foo\", \"args\", \"new\", \"object\", \"boolean\", \"protected\", \"method\", \"null\", \"override\", \"return\", \"interface\", \"context\", \"throw\", \"async\", \"final\", \"thread\", \"task\", \"int\", \"instance\", \"get\", \"system\", \"type\", \"set\", \"code\", \"var\", \"call\", \"value\", \"true\", \"name\", \"using\", \"dll\", \"notification\", \"debugger\", \"thrown\", \"lldb\", \"uiapplication\", \"culture\", \"kill\", \"appname\", \"babel\", \"msvcrt\", \"usb\", \"flex\", \"msvcr\", \"publickeytoken\", \"reminder\", \"appdelegate\", \"neutral\", \"objc\", \"breakpoint\", \"keychain\", \"libsystem\", \"iphoneos\", \"transforms\", \"icloud\", \"badge\", \"printer\", \"delayed\", \"abort\", \"purchase\", \"nslog\", \"xcode\", \"policy\", \"debug\", \"message\", \"device\", \"trace\", \"dispatch\", \"io\", \"msg\", \"blocking\", \"assembly\", \"wait\", \"warning\", \"error\", \"certificate\", \"tab\", \"crash\", \"log\", \"timer\", \"console\", \"exception\", \"pool\", \"app\", \"swift\", \"stop\", \"system\", \"thread\", \"try\", \"apps\", \"process\", \"issue\", \"application\", \"run\", \"code\", \"running\", \"problem\", \"get\", \"start\", \"using\", \"getting\", \"work\", \"tried\", \"following\", \"new\", \"update\", \"column\", \"table\", \"col\", \"person\", \"country\", \"city\", \"rsa\", \"varchar\", \"foreign\", \"dbo\", \"pem\", \"nullable\", \"innodb\", \"clause\", \"desc\", \"sale\", \"cascade\", \"pivot\", \"idx\", \"tolist\", \"gender\", \"mystring\", \"mylist\", \"pyspark\", \"underscore\", \"mytable\", \"connectionstring\", \"pk\", \"emp\", \"orderby\", \"insert\", \"select\", \"john\", \"query\", \"price\", \"cart\", \"groupby\", \"key\", \"th\", \"row\", \"dict\", \"age\", \"lastname\", \"join\", \"primary\", \"employee\", \"firstname\", \"sql\", \"id\", \"unique\", \"category\", \"item\", \"map\", \"group\", \"val\", \"array\", \"name\", \"record\", \"product\", \"data\", \"value\", \"database\", \"index\", \"db\", \"string\", \"str\", \"null\", \"count\", \"result\", \"order\", \"get\", \"set\", \"object\", \"return\", \"like\", \"want\", \"token\", \"asp\", \"password\", \"login\", \"role\", \"oauth\", \"secret\", \"mongodb\", \"django\", \"utc\", \"wsdl\", \"timezone\", \"zone\", \"authenticated\", \"jwt\", \"restful\", \"aspnet\", \"routing\", \"charfield\", \"validation\", \"activation\", \"foreignkey\", \"authorize\", \"objectid\", \"appsettings\", \"payment\", \"membership\", \"tenant\", \"owin\", \"passport\", \"model\", \"auth\", \"mvc\", \"facebook\", \"route\", \"authenticate\", \"authentication\", \"account\", \"firebase\", \"controller\", \"username\", \"email\", \"admin\", \"session\", \"user\", \"userid\", \"authorization\", \"credential\", \"api\", \"identity\", \"service\", \"migration\", \"web\", \"app\", \"request\", \"access\", \"database\", \"view\", \"application\", \"client\", \"net\", \"post\", \"data\", \"get\", \"using\", \"use\", \"new\", \"px\", \"float\", \"font\", \"animation\", \"nsstring\", \"border\", \"uiview\", \"tableview\", \"canvas\", \"pixel\", \"blue\", \"uiimage\", \"circle\", \"iframe\", \"uitableview\", \"radius\", \"animated\", \"rect\", \"decimal\", \"rectangle\", \"uicolor\", \"rotate\", \"indexpath\", \"texture\", \"viewdidload\", \"zoom\", \"fff\", \"shadow\", \"storyboard\", \"round\", \"self\", \"color\", \"svg\", \"cell\", \"bar\", \"black\", \"image\", \"red\", \"scroll\", \"white\", \"width\", \"center\", \"nil\", \"height\", \"frame\", \"screen\", \"margin\", \"view\", \"background\", \"bottom\", \"top\", \"left\", \"alloc\", \"position\", \"size\", \"div\", \"style\", \"text\", \"display\", \"button\", \"class\", \"right\", \"set\", \"change\", \"usr\", \"py\", \"bin\", \"img\", \"plot\", \"cv\", \"pip\", \"jpg\", \"np\", \"plt\", \"tf\", \"ax\", \"tensorflow\", \"pg\", \"matplotlib\", \"anaconda\", \"cmake\", \"traceback\", \"stdout\", \"chart\", \"scipy\", \"uploaded\", \"cp\", \"lnk\", \"virtualenv\", \"notebook\", \"tar\", \"cmd\", \"egg\", \"ipython\", \"npm\", \"numpy\", \"tmp\", \"lib\", \"dist\", \"sys\", \"python\", \"sh\", \"path\", \"module\", \"package\", \"import\", \"file\", \"local\", \"dir\", \"line\", \"directory\", \"command\", \"library\", \"src\", \"install\", \"build\", \"image\", \"error\", \"script\", \"run\", \"include\", \"gem\", \"ruby\", \"rail\", \"rvm\", \"rake\", \"logged\", \"vagrant\", \"selenium\", \"heroku\", \"explorer\", \"bundler\", \"installer\", \"webdriver\", \"rack\", \"redux\", \"gulp\", \"downloads\", \"grunt\", \"nuget\", \"activate\", \"mount\", \"rubygems\", \"pkg\", \"razor\", \"bat\", \"extconf\", \"redirected\", \"appender\", \"xampp\", \"centos\", \"rb\", \"win\", \"sas\", \"mac\", \"installation\", \"permission\", \"window\", \"installed\", \"desktop\", \"folder\", \"locationmanager\", \"adb\", \"sdk\", \"asset\", \"chrome\", \"environment\", \"exe\", \"home\", \"installing\", \"ie\", \"config\", \"extension\", \"install\", \"location\", \"root\", \"download\", \"microsoft\", \"file\", \"option\", \"version\", \"default\", \"application\", \"setting\", \"directory\", \"app\", \"user\", \"run\", \"using\", \"work\", \"command\", \"running\", \"www\", \"bash\", \"en\", \"curl\", \"cookie\", \"mod\", \"httpclient\", \"nginx\", \"ch\", \"txt\", \"locale\", \"nsurl\", \"urllib\", \"lxml\", \"ini\", \"iso\", \"gmt\", \"okhttp\", \"attachment\", \"sb\", \"lc\", \"wsgi\", \"loadmodule\", \"powershell\", \"oct\", \"fr\", \"sed\", \"mysite\", \"apr\", \"httpwebrequest\", \"php\", \"cors\", \"http\", \"url\", \"charset\", \"utf\", \"header\", \"response\", \"encoding\", \"com\", \"cd\", \"request\", \"unicode\", \"mail\", \"echo\", \"gmail\", \"uri\", \"decode\", \"content\", \"org\", \"cache\", \"post\", \"google\", \"localhost\", \"parse\", \"file\", \"get\", \"domain\", \"site\", \"error\", \"html\", \"example\", \"type\", \"xml\", \"server\", \"path\", \"name\", \"android\", \"layout\", \"jar\", \"intent\", \"lang\", \"fragment\", \"widget\", \"textview\", \"drawable\", \"dp\", \"apk\", \"androidruntime\", \"linearlayout\", \"oncreate\", \"savedinstancestate\", \"findviewbyid\", \"launcher\", \"listview\", \"toolbar\", \"jdk\", \"activitythread\", \"toast\", \"gravity\", \"threadpoolexecutor\", \"edittext\", \"viewgroup\", \"flutter\", \"recyclerview\", \"layoutinflater\", \"drawer\", \"activity\", \"webview\", \"java\", \"util\", \"bitmap\", \"org\", \"gradle\", \"menu\", \"reflect\", \"wrap\", \"parent\", \"internal\", \"com\", \"id\", \"view\", \"support\", \"app\", \"xml\", \"content\", \"main\", \"import\", \"height\", \"item\", \"width\", \"http\", \"std\", \"vector\", \"double\", \"boost\", \"struct\", \"matrix\", \"unsigned\", \"ptr\", \"distance\", \"cout\", \"uint\", \"sizeof\", \"arr\", \"ymm\", \"iterator\", \"cycle\", \"counter\", \"typename\", \"endl\", \"tp\", \"swap\", \"elapsed\", \"eax\", \"vertex\", \"sin\", \"mingw\", \"vec\", \"sentence\", \"xmm\", \"dword\", \"char\", \"printf\", \"num\", \"train\", \"clock\", \"int\", \"const\", \"pointer\", \"operator\", \"compiler\", \"cpp\", \"array\", \"include\", \"sum\", \"point\", \"integer\", \"template\", \"type\", \"return\", \"main\", \"function\", \"value\", \"code\", \"void\", \"gcc\", \"result\", \"long\", \"test\", \"end\", \"memory\", \"pdf\", \"heap\", \"disk\", \"jvm\", \"ram\", \"grep\", \"malloc\", \"jsp\", \"allocation\", \"gdb\", \"leak\", \"gpu\", \"segment\", \"glibc\", \"allocated\", \"hadoop\", \"formula\", \"myproject\", \"allocate\", \"tm\", \"stdio\", \"dec\", \"mb\", \"jan\", \"cuda\", \"slave\", \"partition\", \"swing\", \"xy\", \"buffer\", \"byte\", \"cpu\", \"stats\", \"total\", \"gb\", \"addr\", \"random\", \"chunk\", \"graph\", \"gc\", \"card\", \"maximum\", \"max\", \"kernel\", \"range\", \"number\", \"pid\", \"size\", \"space\", \"symbol\", \"program\", \"length\", \"len\", \"algorithm\", \"stack\", \"time\", \"print\", \"read\", \"output\", \"process\", \"write\", \"file\", \"binary\", \"start\", \"line\", \"input\", \"system\", \"connection\", \"socket\", \"ip\", \"servlet\", \"tomcat\", \"tcp\", \"catalina\", \"packet\", \"xsd\", \"keystore\", \"handshake\", \"inf\", \"sock\", \"datatable\", \"connecting\", \"dofilter\", \"chat\", \"sslv\", \"jetty\", \"transport\", \"udp\", \"websocket\", \"connector\", \"interceptor\", \"glassfish\", \"springapplication\", \"offline\", \"broadcast\", \"abstractautowirecapablebeanfactory\", \"bean\", \"springframework\", \"port\", \"ssl\", \"jdbc\", \"conn\", \"connect\", \"listen\", \"datasource\", \"spring\", \"server\", \"proxy\", \"client\", \"sun\", \"apache\", \"protocol\", \"security\", \"host\", \"javax\", \"web\", \"factory\", \"service\", \"xml\", \"network\", \"address\", \"java\", \"configuration\", \"context\", \"application\", \"net\", \"localhost\", \"date\", \"binding\", \"mm\", \"wpf\", \"oracle\", \"checkbox\", \"calendar\", \"xaml\", \"textbox\", \"dd\", \"dim\", \"prop\", \"dialect\", \"tick\", \"yyyy\", \"autocomplete\", \"cocoa\", \"datagrid\", \"datepicker\", \"designer\", \"dateformatter\", \"sessionfactory\", \"hh\", \"textblock\", \"rt\", \"noise\", \"entitymanagerfactory\", \"datagridview\", \"itemssource\", \"stmt\", \"hibernate\", \"submit\", \"sec\", \"form\", \"datetime\", \"uuid\", \"excel\", \"pm\", \"input\", \"br\", \"label\", \"property\", \"activerecord\", \"dt\", \"month\", \"grid\", \"mysql\", \"ref\", \"button\", \"field\", \"timestamp\", \"customer\", \"false\", \"true\", \"value\", \"name\", \"control\", \"type\", \"text\", \"class\", \"click\", \"day\", \"schema\", \"time\", \"add\", \"window\", \"document\", \"sha\", \"li\", \"webpack\", \"runner\", \"getelementbyid\", \"blah\", \"diff\", \"foobar\", \"innerhtml\", \"responsive\", \"xsl\", \"hg\", \"rspec\", \"eset\", \"coverage\", \"esp\", \"karma\", \"parentrunner\", \"gt\", \"eslint\", \"createelement\", \"revert\", \"ticket\", \"dpi\", \"xslt\", \"phpunit\", \"jasmine\", \"ul\", \"appendchild\", \"stylesheet\", \"doctype\", \"rel\", \"loader\", \"unit\", \"keyboard\", \"test\", \"tag\", \"dom\", \"hash\", \"cs\", \"html\", \"hook\", \"page\", \"gui\", \"ci\", \"md\", \"head\", \"javascript\", \"testing\", \"element\", \"meta\", \"href\", \"browser\", \"script\", \"hello\", \"text\", \"link\", \"body\", \"style\", \"content\", \"template\", \"load\", \"ui\", \"code\", \"title\", \"td\", \"jquery\", \"video\", \"ajax\", \"tr\", \"req\", \"audio\", \"modal\", \"mp\", \"ng\", \"nav\", \"navbar\", \"movie\", \"cipher\", \"encrypt\", \"streaming\", \"xhr\", \"vue\", \"ffmpeg\", \"gson\", \"hex\", \"ac\", \"portaudiomodule\", \"decrypt\", \"retrofit\", \"mongoose\", \"sensor\", \"pyaudio\", \"nbsp\", \"encoder\", \"json\", \"alert\", \"stream\", \"bootstrap\", \"var\", \"div\", \"fb\", \"blob\", \"crypto\", \"re\", \"flash\", \"err\", \"function\", \"refresh\", \"attr\", \"data\", \"span\", \"src\", \"javascript\", \"min\", \"id\", \"type\", \"script\", \"html\", \"title\", \"body\", \"console\", \"index\", \"click\", \"post\", \"node\", \"regular\", \"react\", \"haskell\", \"interval\", \"observable\", \"fn\", \"recursive\", \"monad\", \"rename\", \"observer\", \"board\", \"typescript\", \"music\", \"recursion\", \"leaf\", \"replacing\", \"lstm\", \"jest\", \"nicol\", \"scanner\", \"ar\", \"asyncio\", \"song\", \"expr\", \"javafx\", \"symfony\", \"equation\", \"oop\", \"keycode\", \"event\", \"decorator\", \"angular\", \"router\", \"component\", \"regex\", \"book\", \"tree\", \"child\", \"expression\", \"scope\", \"job\", \"directive\", \"pattern\", \"function\", \"prototype\", \"state\", \"worker\", \"callback\", \"express\", \"export\", \"author\", \"module\", \"parent\", \"call\", \"return\", \"const\", \"case\", \"match\", \"loop\", \"let\", \"true\", \"type\", \"example\", \"git\", \"repository\", \"maven\", \"eclipse\", \"branch\", \"groupid\", \"artifactid\", \"commit\", \"merge\", \"scala\", \"repo\", \"promise\", \"history\", \"svn\", \"pom\", \"snapshot\", \"clone\", \"artifact\", \"vim\", \"jenkins\", \"cordova\", \"checkout\", \"radio\", \"commits\", \"revision\", \"actor\", \"ant\", \"backbone\", \"mercurial\", \"staging\", \"dependency\", \"jboss\", \"boot\", \"master\", \"plugin\", \"plugins\", \"car\", \"project\", \"release\", \"build\", \"github\", \"version\", \"compile\", \"common\", \"remote\", \"constraint\", \"core\", \"file\", \"target\", \"configuration\", \"change\", \"push\", \"add\", \"transaction\", \"nan\", \"pro\", \"con\", \"variant\", \"na\", \"simulator\", \"tip\", \"elegant\", \"dog\", \"predicate\", \"fft\", \"nsdate\", \"rax\", \"review\", \"bluetooth\", \"sorting\", \"tile\", \"sdl\", \"peer\", \"album\", \"delta\", \"quot\", \"aop\", \"naming\", \"armv\", \"xpath\", \"rating\", \"indicator\", \"pdo\", \"dst\", \"score\", \"list\", \"entity\", \"sub\", \"cat\", \"collection\", \"arraylist\", \"transactional\", \"apple\", \"sort\", \"linq\", \"criterion\", \"objective\", \"split\", \"framework\", \"nested\", \"iphone\", \"add\", \"article\", \"dictionary\"], \"Freq\": [18440.0, 18560.0, 16264.0, 10813.0, 17167.0, 17795.0, 28428.0, 23420.0, 19717.0, 11844.0, 20092.0, 13488.0, 13439.0, 17665.0, 20986.0, 16963.0, 9355.0, 10801.0, 10064.0, 9489.0, 18883.0, 10095.0, 10383.0, 18712.0, 7927.0, 16944.0, 8202.0, 8193.0, 7180.0, 7409.0, 984.160270784854, 905.8394818335119, 714.8637911880417, 500.60026502927116, 424.7984263598403, 381.78802105597583, 374.28003093340976, 368.6889532513876, 357.96608184529885, 591.9608359085976, 338.7474396109614, 414.7418119354483, 271.3302895306358, 257.6792283133095, 247.49938263161593, 237.04875067006554, 231.85167253840874, 222.37764146772219, 253.90977252871173, 212.78086310826944, 209.8951397567733, 208.046262472373, 199.39966198415155, 199.81288064048246, 216.02917435103024, 186.10128808681546, 184.75902250512723, 184.30813668159027, 2304.62676436125, 162.3935988733077, 426.19163194445383, 352.0952805949869, 270.5982576748754, 1013.5482215714842, 1233.24642003824, 671.8366674500035, 449.56078168007485, 376.5734946505473, 410.22444765560556, 240.0484315748054, 351.23851805559974, 2187.4815758685377, 3111.1001070149337, 960.1003541015308, 482.7195058429354, 806.0808652153197, 1418.5381779245092, 971.7902180951157, 6541.4967319150055, 848.602960039354, 2490.946132359097, 924.3731795225602, 2300.74976030976, 2806.8544902415388, 2155.521091812098, 1826.7556235129396, 1273.9037241964706, 3179.4669749348054, 661.6339002357768, 1893.4134766962313, 2203.129898023341, 2442.9081643243458, 1018.6839862421158, 1784.4818329753155, 8104.832422199436, 2342.0743908262516, 6745.248445158662, 2841.6413012647554, 2327.6004859911664, 7987.135893796114, 1609.063139915615, 3204.8545329356207, 3203.211855674342, 2101.0227856888723, 2917.162441169809, 2188.6945697735027, 4415.015997091352, 3767.8139507378155, 3878.3722598697173, 5446.394382037946, 2298.546854110529, 2465.4682919169773, 3199.9270444491326, 2843.683835178194, 4360.078572143375, 3267.7253300650523, 3205.5804664282955, 3302.3638280910827, 3354.437607750541, 2331.305743642984, 2413.4612901620358, 1159.1337657437582, 933.5514214995259, 723.5920855667194, 570.5816151236007, 235.21963246713312, 214.85488223012766, 193.54553109889952, 174.5412324639297, 163.0240596100519, 162.27248076509565, 147.50899239946705, 144.64857573658756, 130.67235332017248, 126.01127643290201, 125.89104177968541, 120.06162675608009, 112.23594717734646, 110.11635157966198, 108.11050327858119, 108.04903915767133, 107.71685275945335, 103.12860763906241, 100.70777290985924, 99.64191047742031, 99.03603401943246, 92.48628056805771, 92.05254841652948, 91.51756249267348, 133.10795764602108, 519.2251344344345, 1673.3779406769838, 10937.824476693357, 282.89912533534414, 10475.693841441363, 2947.3982550421165, 1581.9563352620573, 5633.551922608296, 14316.584828642472, 3168.9900386626996, 363.511822698505, 410.04990735660147, 4583.472722615865, 3561.796346708891, 1154.411300111204, 9136.00851050327, 6750.575413347323, 5826.964847716348, 802.4974636837107, 1263.966185470863, 6377.186561807866, 8387.66175006596, 2983.2398672357053, 5070.815392166962, 8526.592121726499, 2941.5206002369464, 5593.279193372776, 2374.827928861265, 3239.2476553007955, 6149.947936599524, 6203.419955828216, 3002.796872971544, 3054.2904478406954, 2800.354235836635, 3026.964580383242, 3347.43626810637, 2769.3408719236977, 2727.4042673202607, 2737.375775155658, 2711.2640917137887, 6197.508572943949, 1585.5012844408072, 951.5292074438486, 712.9218530209782, 649.4142105840625, 601.3202843495155, 512.9907384503529, 439.8401478275769, 361.40230000335913, 340.3804415305097, 338.79240621356627, 337.4343442330379, 317.59633324942354, 294.3029720890326, 258.6145097203943, 250.40770219740543, 243.89742998157055, 231.4414150605331, 244.02777925128643, 206.13755367167576, 204.43910699760042, 191.33374179461538, 174.1830916029709, 173.39394297384058, 172.79925813348842, 172.7386582221544, 153.75636014793844, 149.59704033189107, 146.04525409160448, 140.13098040011238, 17052.4740605779, 5446.289679025782, 1442.807325018569, 543.0119735705586, 1565.2897164557512, 199.23600674581496, 989.1673147279973, 17105.390456039768, 6867.295417762728, 12651.424497127009, 1301.2500368997105, 2911.0165995811262, 1362.4467453846419, 13045.861409031191, 7753.219466779747, 958.4542309338808, 864.4878538959717, 6995.275158054688, 4142.553457258795, 2020.850415720552, 8113.267439641339, 1889.843084357432, 3150.4431835187943, 1499.0722380416094, 1117.6154141221205, 1517.893913302046, 2868.2842779747825, 1988.254464193326, 4134.00927186644, 1728.4908875111446, 4334.1290994149795, 2727.448002961025, 2742.147418581392, 2489.7327422175017, 2935.1947960052653, 2114.72955016742, 1784.7944735216806, 1861.0264493349923, 1694.313614504527, 1774.300739834072, 1783.9310986240241, 1561.3543972193295, 1288.730610959229, 374.6307259833352, 374.0349870404326, 295.17526364447514, 287.2743144013059, 284.7293201251029, 275.32172683094825, 273.38117219464567, 268.7242350178188, 265.6454763486362, 254.98742369508184, 240.06867223525995, 231.42443332461303, 216.75573205293898, 216.34171788292883, 216.1481804160306, 214.49066530873347, 212.2749061810431, 207.9871476712672, 203.365703631753, 202.50844022123522, 192.87761334665623, 183.64829113235007, 179.7205932898814, 178.49750068699962, 170.23520323792937, 159.99935564318332, 156.55634836939257, 152.06923807425073, 818.8281521149884, 1858.9043681216797, 408.539051462275, 2705.4761704586126, 5083.6453533625645, 2934.058321760161, 644.7885271872202, 716.5656958034083, 4121.952319238276, 802.9137191162507, 322.9855238901624, 1175.6067200410844, 867.3788178599674, 1658.5439373624765, 12062.328378713535, 1322.7007296279019, 1331.4693528231087, 593.6890366910942, 4193.680270128276, 474.3185691847816, 2191.8635007372536, 2492.7394485383597, 693.2415347871732, 5491.350717558501, 714.7648088252253, 922.6140869969087, 3625.475387508623, 2431.1381953645605, 2333.0970254790955, 913.346856497477, 1853.1696727446063, 1725.9846887966828, 3006.9145074415137, 2650.3420167004074, 4054.262033064999, 1644.7452616554272, 2221.910620444442, 2852.398199669044, 1578.4071419982567, 2175.5139314195653, 1200.9718644799138, 1742.0613225648228, 1475.3657507946266, 1481.7250956643063, 1522.5689597405853, 1386.9422051942329, 4725.951425034021, 7614.791362093751, 1653.1635268889013, 1705.2694482579243, 552.7566872844318, 541.2422011427083, 460.57410065786365, 417.4925417885285, 346.7697305398666, 300.3568736252425, 267.25223007101044, 266.38047201475615, 266.0795011099096, 238.28875887798327, 237.40019048549658, 244.5085771944355, 213.3842703049694, 204.18155423460922, 195.70253540397954, 186.7658414091323, 174.13670601379755, 167.90334189134555, 164.09189412910135, 162.48153960236385, 156.55567660534322, 153.41293474619158, 153.19195982209413, 152.9762594220628, 145.34040725489322, 145.26726965309564, 2167.9089125217906, 3739.151430113178, 391.9236813414586, 4132.956403070957, 599.8141839131362, 255.91568285993677, 237.13394297694933, 7650.478740204515, 847.9105952316307, 3782.9215927557243, 663.315873419896, 726.8751890294201, 400.2698751995398, 1172.4885621165301, 806.8517683793726, 518.3036485041689, 465.5982410276299, 2320.163129752892, 10709.538027590272, 953.3831159576175, 1044.1175733343048, 4016.5185734344495, 2918.383257907494, 1833.7465645170823, 1061.8998985413236, 4225.000459383202, 9047.988535487984, 1496.1573766236438, 1662.7572679671453, 9102.35881195158, 7690.278985115033, 3328.347602849041, 2499.183881929784, 1778.35088236164, 6306.167202937035, 1091.8068485123406, 2333.5383681909793, 1355.4664456754058, 2005.0085838210052, 1439.3914161919715, 2572.688653903829, 2008.0075881359253, 1961.224999786542, 1827.20314096833, 1839.4935722128307, 1735.6864544513048, 2855.5272783092973, 1904.0390223274608, 3639.6770765862307, 2316.0575161487204, 1206.3553421091021, 772.4257033908486, 522.6229553727678, 479.5974269264701, 2012.765631434819, 420.77646235312943, 400.1202917677907, 351.92167276507257, 286.41359592050014, 263.9859391793252, 258.09707322503186, 249.8443445874989, 236.22170663010587, 235.9800602931524, 231.3214842704535, 1189.922286125525, 251.76363093623988, 197.95924586898724, 172.51577078943242, 165.99860407009874, 164.51725144890256, 155.24454163490472, 152.56589330669163, 151.76728987111267, 148.81674600379333, 148.80698705449967, 7423.107089119701, 1025.6408407230933, 1965.0020666722744, 1196.2838693107942, 1294.460313201538, 382.3545318910738, 1651.339036884871, 1503.701562385438, 638.4597894968048, 3628.206999079272, 2428.282100809137, 2467.2256189696195, 1036.9483739407049, 2833.8500681197133, 14758.97075873996, 534.2668134359242, 502.53385023035554, 557.5588571965408, 3439.88018804424, 713.6933547020238, 2556.925140199316, 640.6142815691883, 2705.7529725808567, 3693.9639869645202, 2586.5950963703153, 1803.238106449552, 2048.4720497664207, 2588.878102438425, 2658.151033127755, 1796.75216020728, 1898.4194265746596, 1781.6304313403361, 2339.7540682553577, 2416.6200003824124, 2473.0114055723416, 1939.0659416811593, 1590.6159957308723, 3037.6780842343887, 2183.307810949611, 1904.8636149235617, 1189.15565093506, 1083.160483993661, 865.471960571589, 852.3996897360224, 831.1151431475243, 1023.4897601747292, 776.5424053374292, 581.754183305933, 566.1295278042138, 558.0510408150097, 516.4055343973731, 508.85769252047623, 506.2594348319677, 440.458946261586, 439.0078955162626, 418.7493881359069, 412.70366514853663, 412.1459280429741, 393.4980027156958, 390.82364940133345, 388.17509588939714, 386.9036119945707, 375.809149954404, 375.37918841457775, 373.5845970974435, 363.66787075992426, 353.93773446929356, 9461.822519414452, 3874.311399471542, 547.2983017549727, 1816.599625100728, 3125.36599191747, 590.0133002982543, 8307.408462938616, 810.1759333563401, 1089.0396705326405, 613.201796609992, 3798.434316598837, 1168.393795544768, 1477.7829656405302, 3305.6052172592704, 2233.9665550855107, 1739.5414820797066, 684.3097314641428, 4933.8600769565155, 1904.4159295715879, 875.5109259302563, 1664.807955231563, 1588.7880288791957, 931.8030298212132, 1463.8327921949092, 2749.7113081588263, 2453.882103692546, 1639.1025392836207, 2732.8662132642653, 1329.3861893115131, 1555.4469599344868, 2469.217549153776, 1353.8288254568265, 1271.5702302817892, 1141.9305271003568, 3989.9298047921197, 3904.639705841643, 2720.954191769435, 1436.6794198811062, 1242.6912308763322, 1239.4393280408271, 1095.4562971192825, 785.6451056115479, 1578.0680889867492, 706.3035544041697, 676.8000105843279, 606.4353992215208, 602.0105317725172, 570.0497220881488, 563.2911920008368, 534.7250188481204, 454.300582672263, 424.02758250075715, 414.00224195103755, 385.1221893198896, 345.86503199983565, 339.6257562058634, 336.6463834136236, 333.9207608282803, 325.9962201675983, 318.8856268552259, 315.6858542483484, 626.9627188776734, 305.9295167568067, 304.57131426973115, 1454.444452546384, 1331.1536358270757, 913.8250891336676, 5903.706051442555, 557.8436242282235, 894.2049544055643, 6794.2716562472515, 466.5834424616778, 4756.6070590035615, 3894.456421049738, 3291.085265128855, 5223.908607878582, 13919.679044103732, 2795.8827501789, 992.8227242422528, 3352.793945788036, 1697.8566659921983, 2388.739168729338, 2445.9011870776953, 1685.9977788089682, 1627.027262820922, 2160.158152505996, 2075.6800454052745, 2592.6034818286753, 1349.1576471829944, 1447.4582404372684, 1081.7314506896098, 3421.4934732926786, 2963.816474792003, 1851.4256042281327, 945.4912869285636, 577.9636786957157, 563.4651914021135, 535.492690357403, 429.1048056232483, 411.2016163453494, 385.07254258862025, 330.5001917092947, 287.063488474975, 276.82165022064606, 238.55979012768535, 222.93810022772044, 216.99261427694924, 213.9686095528517, 191.77522918803794, 187.33429611176032, 185.93177953987072, 184.5688179631653, 172.96138763101024, 171.16843698409025, 171.05273815073556, 184.32346710638967, 160.41986404034324, 156.55489612703042, 147.56984947600697, 144.28082738129808, 143.4128211560494, 1774.9956291121866, 939.7971455376816, 239.91643949236348, 1080.5117467557095, 512.0012408195688, 1184.1473756417445, 5575.225942912205, 1855.0074620496594, 712.8771801770365, 1966.5752966188163, 270.38376862418266, 267.77268055353795, 947.859875162404, 685.2329437973344, 1191.8265441878355, 1375.4482935652745, 948.5553918951281, 1536.2855649817918, 578.8850243112569, 1030.555954441335, 1948.1903659160816, 1185.180649907121, 1868.7342316722913, 1457.9779923614196, 1294.4145126533358, 899.0499024942868, 1082.7416255935148, 5266.564506251776, 1902.3368464923235, 2394.0464442130437, 1703.5952645700008, 2616.2029355717036, 1390.8814391847704, 1288.6225181164339, 2393.149199132511, 2267.075918078226, 1691.8710669927584, 1809.8165158077538, 1301.3583894233664, 1158.5508010531235, 1128.428826201751, 3676.929174867394, 1046.0473633657414, 1001.7186238404544, 823.0754184849022, 952.2317629961954, 618.7182657010203, 528.2607043282047, 507.23418860646944, 425.0453061020264, 1458.8597995463733, 398.8067610842919, 348.91649375128065, 324.09630243587037, 315.4824144167652, 314.6690537087736, 284.73396571105076, 272.02191568323565, 270.8049500664368, 286.04008780621723, 230.41435195197755, 222.3173543576834, 214.93267441305116, 221.7738669120903, 204.22360461149754, 201.65089731217557, 200.22302688475654, 194.5928207509737, 190.416044784876, 189.53183813875782, 188.45685009676887, 4884.31451544343, 287.83513301167955, 15076.665961965387, 6375.370130391499, 418.35514111016397, 1918.7077967170776, 3471.504351728082, 3352.3165596629538, 1449.8489585337293, 9305.911462769176, 434.0125684671303, 5231.3357903980495, 530.3345620223282, 713.1116427201558, 1088.0064881163244, 408.2234396051297, 748.7601759555924, 360.5117722350769, 2342.8848316871645, 2543.572138316207, 1004.8782436924473, 1653.2548138267464, 1385.8952199544663, 838.1159773858839, 708.5366203591791, 2672.846297285599, 2149.9395669495907, 820.0239355000632, 977.3084999692354, 1456.934072580639, 1127.0313654443903, 1263.1384978739432, 1171.2191310668452, 938.7845132378912, 1090.1031882087914, 880.7485812766754, 908.7773116814509, 18439.210255523063, 5680.499008466852, 2295.161428644471, 1779.0737022317246, 1549.9227549305601, 1485.2629037615272, 1341.6042578354848, 1122.3184431329346, 779.6398275842012, 759.7334230738924, 716.7595600912487, 696.9528047052469, 696.5154504362671, 680.4297039780688, 595.9990330213074, 574.34130219941, 520.752990870308, 517.1225611791535, 517.3198096062735, 479.3933963477933, 405.99417631672407, 372.56246340251823, 338.75582194868576, 337.1444358955905, 332.48022175977815, 330.42336840979556, 335.69488335772803, 324.2414640617866, 300.873906922564, 287.26025437436135, 2465.3540234181974, 742.8488485360735, 14333.26532174369, 1439.2764151194704, 802.2534957069035, 7551.523426074724, 1251.7450610472572, 1118.9588806666331, 582.5849090328786, 1100.6262092126785, 1730.946719449002, 1240.4732038754964, 4030.58228103833, 3545.9252627246206, 2577.0553024554006, 1621.4038209543119, 2204.536459980329, 1339.449828150649, 1490.7044738464242, 1425.8521771278051, 1403.4043095466445, 1173.555326963161, 1248.4112941178112, 1130.1536265257691, 1041.1489304479674, 4406.186952593354, 2166.389683557824, 2134.9268073116773, 1728.6597127637312, 1346.0774456405456, 1095.6025856644806, 902.0643662491857, 937.0236010962656, 768.7450593091748, 699.1754428841471, 690.6947298179763, 669.4640156086729, 656.5780770395211, 630.5981611482144, 610.7495939871807, 528.0930281123265, 521.3108677409629, 511.5388862361956, 488.4305757704606, 376.7467269431239, 366.1124047151544, 363.187411056538, 356.9505775639126, 353.71526997915754, 351.4915813794016, 323.87005362076223, 322.1619066271322, 313.62489460800816, 310.9379245802359, 306.953221670193, 2422.6075597160243, 762.2604599903887, 836.4213121048632, 751.0755596851317, 473.4645246906854, 8710.532979968179, 2187.50373588529, 1271.6941774988331, 971.054991751738, 1353.4477155888835, 804.7692018152818, 2984.8866117394623, 2056.0441819957127, 791.9170305106117, 1880.3029754504614, 1126.1530435290617, 1214.9565408491417, 2461.2022697320845, 2352.649867313129, 1640.9701530988502, 2258.8003119155387, 2003.6623286764693, 1739.3755068859757, 1296.2226350683368, 839.2856767155376, 961.6106828198763, 888.5250754985672, 954.9247822647783, 885.0878409708438, 4094.6728841177346, 1209.8174086603494, 745.9189129961824, 566.5509796715854, 474.39043367915343, 399.37458771892886, 398.8592804380374, 397.15679346102485, 383.2891808896966, 318.62288250611596, 314.77743970672554, 315.46148680854014, 305.93972270040643, 285.4918017407303, 280.1100791908493, 259.13688078822787, 256.7268310762181, 256.02153967940603, 242.67393498901168, 235.2784659003786, 232.42904683826856, 225.39536625609398, 215.570059277115, 950.3547340087946, 185.53708587488325, 181.0510959978691, 167.140884523587, 170.3867828751517, 165.82971335720322, 156.0026077804328, 1792.8167281129888, 3829.7748247199534, 1176.4532183172967, 293.16708029962376, 1316.729613502816, 596.7868429318934, 414.2964900477094, 1386.005333497121, 536.3941590648602, 957.9759449957755, 515.0571170206296, 678.4455744598822, 515.965340881633, 1548.6731679643335, 800.8536277142689, 1314.474527328705, 3293.2340241226884, 508.5298454812428, 3751.026021602751, 1228.9361445400089, 939.1286238474337, 2175.3020706614548, 1750.3684635982765, 630.93427295334, 1012.8914854482827, 1054.6966196100518, 2944.301002109624, 1335.1075167535814, 1617.6125178130744, 1258.4365626620734, 1169.3321888822938, 1128.6998538935695, 1426.4604299952246, 704.1091308571017, 955.4387635711071, 981.8343819455291, 905.193806969399, 861.6509487565395, 3655.8077155209107, 1981.3587225801875, 1055.1853609458756, 1053.8592770783127, 960.0855493074174, 815.0301434434443, 783.1756249726892, 543.3281368317739, 450.0845877895876, 417.7486864336332, 391.48716817284367, 364.28036758552776, 292.40573391556916, 274.36752405574794, 273.7661777901983, 269.72453844957977, 270.4089497216493, 262.58018151336836, 257.9319358512076, 254.86281022077065, 243.20594421029546, 227.8246447135748, 203.83244734601982, 196.85241168614817, 194.60514960721676, 194.0791407182683, 187.34618492985516, 182.30908313895785, 174.63264019970498, 2235.7717439787007, 2885.902209529646, 2165.4414633805864, 1667.2338836979857, 810.6668876857457, 368.8628806845956, 1617.7178113096288, 393.35389384219553, 687.4684889571923, 2446.881576938472, 7680.1202766223505, 1067.740134497739, 3758.4027694446067, 1126.469525626067, 2396.9659171662274, 701.5364918413358, 1507.624713562416, 1223.9434831725396, 687.1896419779607, 3061.9308889924496, 964.5500590597845, 2430.0521394785524, 1774.4990613570735, 746.2851878712894, 1045.125471576563, 2300.9183537323274, 992.7325012693093, 1135.7012893357066, 1322.2588358763398, 1095.6621304475354, 818.6470395382215, 4596.228895857108, 1393.3902315475336, 634.7967949967024, 595.1162350491504, 548.0819973779726, 497.68627310641614, 444.22751705808645, 431.1661694740699, 427.51351674523625, 448.04907035226256, 282.17723803374423, 945.4602469068451, 242.5332736509066, 234.49497358719884, 223.78512032035445, 219.8721630984196, 198.34732261685153, 170.1399007895434, 169.19884088448777, 166.8401392243166, 160.93453053486212, 159.63081823573282, 157.32931205133178, 152.60932669734544, 151.08536464900712, 138.22380885904602, 132.49532991443573, 126.3319966727132, 122.20183667073977, 119.00918825885945, 1842.5542811222474, 1032.1165535139748, 647.7063107922664, 5096.202606009936, 1272.6184035852746, 304.6105788420539, 516.432092379743, 456.2657844729868, 4157.57012512983, 755.4668687715375, 1969.2533846948788, 3677.949980410645, 472.96715232822726, 480.5998801990808, 685.9137712078394, 814.5559995221877, 1822.7583745912546, 776.4842229153132, 2732.405785917837, 2208.1406391374553, 719.1068947733297, 745.2967301601755, 2439.057266959936, 3341.365926471784, 4274.210601087649, 4067.6224755580156, 1308.6142142878718, 2639.053902850352, 2056.131490022034, 2827.3475520488496, 986.020289940945, 817.0133699786373, 907.5026225602553, 1334.3707468307418, 1015.0519877329248, 757.4177050914479, 3747.9798398887388, 733.7887352848531, 1745.5440496526292, 592.3877487455824, 396.3838010419982, 422.15781464749625, 357.9756908432878, 354.61687432867086, 227.14174658533796, 209.69508370069002, 198.93229754281626, 198.71745534754072, 180.6005799317471, 168.291630172229, 164.3289557989751, 162.50045010360455, 148.38322388722557, 138.11405197843155, 129.38389834376022, 128.0490127878017, 124.93033453090551, 122.4878627506338, 118.44691544492936, 114.78572889935941, 114.50028700596913, 113.88155173672786, 111.9587781007927, 107.3203563534541, 671.0740342777887, 103.1035845585848, 329.5725522926903, 250.9932300387102, 361.8506957397783, 691.6899606474788, 1378.6129434158809, 667.6516794493327, 9766.809267384117, 2470.6076395913265, 565.4966673666514, 1405.9721354629307, 2443.961561364628, 5514.684225598589, 345.9460380577482, 5421.103568392489, 550.4455663597553, 305.1731097095691, 524.0392021027321, 1070.2813427908748, 2339.414739841017, 1280.7380414027825, 2262.7819751821535, 601.1105240551606, 864.9674100736199, 1516.580592011883, 2399.3913718712006, 927.7095549994146, 2384.778424117345, 1360.7512395266972, 1017.872515725819, 1103.5008051860893, 1426.696737982524, 899.5040780741848, 965.2614358088854, 756.4616572684564, 1074.0354563513436, 751.6655648041581, 3419.145279397086, 3113.615254717812, 2385.488270969927, 1852.6100531942857, 1334.984403599518, 813.4870482045131, 843.300919561711, 689.3685880345025, 603.7779262245813, 687.4980367747831, 561.4165790612599, 395.43495571199844, 325.7472559649174, 325.03043780209646, 296.01115578771885, 285.88118156201006, 285.6455405627429, 283.983672058803, 276.4387727846748, 276.16118820249665, 259.7414086500977, 259.37624664673626, 527.9160709720603, 251.5013191345893, 247.43659475242532, 228.4755787253582, 226.1140607141777, 199.36461067404244, 197.281053400767, 192.7684191525893, 4767.492054102639, 1373.1937085356815, 2185.6902372549425, 939.1612525449764, 6682.541770744568, 4726.068138203605, 358.5135393424713, 406.18650400399673, 323.2379313468519, 1140.7584079687458, 382.3813570642795, 981.9583061740136, 4404.352282604333, 492.61853275609434, 604.9477849287698, 3973.5075481201584, 642.1832572621669, 1316.1828878405909, 1229.3249742419023, 705.8084572791382, 2384.1928722303983, 1942.853454348755, 1315.435065795058, 1255.3148058063903, 928.2647411199254, 851.3213074592376, 859.3384874441091, 877.9914400030734, 777.0057013223995, 720.48934705366, 4855.360876412965, 748.436397539193, 1560.6635564650237, 472.79047916175455, 378.9909700530326, 339.22044977335116, 298.61759116124307, 256.78993172181106, 255.7299946153997, 222.03279473199325, 210.52584908676363, 208.3887994227672, 204.41146647587038, 197.78426446373973, 174.6121382409649, 167.3820578902807, 166.58468919394346, 164.53833668246716, 160.77583215521426, 157.82359894030188, 150.22536417779503, 146.75198578540784, 145.57682994280165, 144.7586217310157, 144.332204895261, 140.2648566796953, 139.01824524282148, 134.46184472588035, 131.705617677286, 131.30764896930802, 5302.05115303443, 162.95609607825963, 1416.66044922453, 591.7016325026627, 2690.9082939909126, 503.8879747235609, 1037.035542889816, 1027.9108818002007, 1719.803192852345, 1167.9074922104853, 1222.095720355677, 1153.6098134364083, 397.92386959713593, 1247.301642218548, 8657.737072461121, 404.03566061593955, 2020.204513220387, 637.6855025824507, 739.4389158915893, 544.0579105182018, 736.4103694750312, 405.9581085132015, 1615.877467002498, 1127.369108736815, 1575.8982268736713, 2085.448753042318, 786.3428842043467, 1034.8604481287693, 665.7125247232091, 659.9521487529265, 712.0496245280794, 799.8661880711045, 695.1091561089198, 610.8685323534537, 3357.6462227901316, 2423.708116897953, 1857.415237712835, 1800.1229017697497, 1368.6625974730139, 1170.336817454411, 1168.640048544444, 1019.6225594757303, 846.6095415199017, 806.3609449937464, 684.5428174007907, 661.9622069706744, 616.3511365614863, 505.24045442323205, 435.4813530292466, 424.9398895374164, 416.43827601426915, 367.1413974967202, 350.71588673048876, 308.2694577902507, 288.98658571794925, 257.65799629189945, 253.3463722627133, 236.32225414882046, 231.52911981347947, 216.52152356612515, 208.02550996354515, 202.4521368510201, 200.08302045072773, 195.8077473181141, 3014.6469141597336, 273.32236453404545, 961.5250453070097, 1034.8447341937756, 1852.1410380755403, 755.5287361580121, 361.8503186323729, 6338.677492588645, 1625.7909029062118, 4163.233137802069, 1196.7317758971494, 3511.5348314400007, 1250.3829076939717, 1069.6990243269477, 736.3672080282918, 572.4809337707071, 893.6437420331239, 1676.9500167771748, 762.2927537488835, 783.7498607287215, 920.5677239790168, 675.1752921565499, 688.8738356017443, 1229.203841628791, 1088.719397964382, 690.7907367077257, 667.8335135174565, 644.6696410032396, 564.1564659684776, 534.11226560422, 379.08923455739523, 357.6858350494908, 301.88609568284744, 302.46261957226477, 290.9970646291804, 286.943849423754, 286.88112920931775, 270.1780952535225, 255.0182059638183, 251.19997136222275, 249.9750099085118, 225.40792834215983, 217.68455854526903, 211.896373116707, 211.1092663871826, 208.15501123011884, 200.8144948985374, 194.27299543454055, 191.72993822089495, 189.14389165718003, 188.76585731855565, 182.27588181704166, 170.7572246752586, 233.9723026566179, 505.76588603200565, 9390.782175439439, 2425.948635954262, 864.1591060396472, 522.1822684363312, 1209.730075781995, 594.7523846421666, 249.41070033034478, 985.7561550101949, 1014.3118191573691, 485.14319724140466, 319.38195277748184, 389.3299161407643, 487.4104145503784, 758.3162911087244, 364.6543965804971, 472.8081976320884, 601.2937355624111, 367.55285222211285, 307.97971020288145], \"Total\": [18440.0, 18560.0, 16264.0, 10813.0, 17167.0, 17795.0, 28428.0, 23420.0, 19717.0, 11844.0, 20092.0, 13488.0, 13439.0, 17665.0, 20986.0, 16963.0, 9355.0, 10801.0, 10064.0, 9489.0, 18883.0, 10095.0, 10383.0, 18712.0, 7927.0, 16944.0, 8202.0, 8193.0, 7180.0, 7409.0, 985.0810862767665, 906.7602809365404, 715.7909865406504, 501.52143084948653, 425.71923052552285, 382.70883644383565, 375.2008352244211, 369.610699689958, 358.8868818480791, 593.4840652786863, 339.6688782745354, 415.875402611954, 272.25121553175234, 258.64273736487525, 248.45839807037228, 237.9705244138115, 232.77267712254215, 223.29872786699494, 254.9811838848374, 213.70256794364727, 210.81595873252635, 208.97142771129737, 200.32046367105139, 200.77433281618718, 217.08019441058957, 187.0220871052468, 185.67983748552479, 185.22894079671147, 2316.3975431763074, 163.31447904491063, 430.44045535027635, 355.084086004282, 272.2957990474276, 1041.4984268458866, 1282.084203391584, 694.2374029497015, 461.3587049842921, 384.8842880624403, 421.34820198268426, 242.19444777829287, 360.1135445555282, 2588.063489599049, 3880.9363984271213, 1083.7909454503972, 513.6805239432551, 905.1846760193689, 1724.8421162645789, 1142.5485228415764, 10434.824539440484, 999.4844385290089, 3581.5998290991247, 1110.9028182496686, 3368.710638048324, 4284.1952188048335, 3130.5442389378336, 2590.321521948295, 1679.4003364019254, 5224.252979575461, 755.0226453540758, 2813.5698753733395, 3440.6412726839003, 3952.925641983034, 1306.163288686132, 2693.466804633916, 19369.637175141233, 3882.8323128847555, 15966.873659444322, 5084.683201718656, 4072.9528312128, 23181.453672672866, 2463.6681922491866, 6838.2321160607235, 6879.241784368769, 3649.1160619325638, 6057.10882917178, 3984.569001095142, 12567.289099330173, 9792.390849973157, 11696.129425274778, 25851.59852884652, 4614.11717788529, 5426.17741393163, 9576.742112766957, 8113.326572186606, 27667.083870234634, 13875.624870757987, 13179.267662042417, 17213.434995654447, 23431.18985009864, 6318.343081431494, 2414.3831506459137, 1160.0556262201728, 934.4732819948132, 724.5139460595777, 571.5034756040606, 236.14220412042894, 215.77674296152026, 194.46739163186388, 175.48995447452043, 163.94592026811446, 163.1954665293279, 148.43085503706817, 145.5704368074533, 131.5985497658044, 126.93317813288297, 126.81291911429238, 120.98355709233421, 113.16024010198598, 111.03821366383153, 109.03238028336654, 108.9709056933272, 108.63871337256796, 104.05046863747496, 101.62963341376606, 100.56377096664623, 99.95789454068952, 93.40814118590139, 92.97440892818936, 92.43942386209369, 134.48114071717774, 548.2983515094879, 1931.6055942316661, 17213.434995654447, 316.3346197122906, 17306.074577452535, 4268.252939529748, 2152.881170936748, 8838.944975184992, 25851.59852884652, 4824.288111791492, 429.84977740438126, 502.3690610717927, 8354.859650047449, 6292.69677656663, 1687.7445720199803, 19369.637175141233, 13875.624870757987, 11696.129425274778, 1119.7988613568307, 2027.8729449450484, 15496.37865974922, 23181.453672672866, 6488.002017857592, 13179.267662042417, 27667.083870234634, 6759.23405859797, 15966.873659444322, 5167.42654284906, 8932.151981442108, 23431.18985009864, 24586.2497299811, 8113.326572186606, 8404.276477344612, 7848.947593548682, 9792.390849973157, 13364.720182728064, 8687.870167601097, 9576.742112766957, 12898.336528105956, 28428.95467991142, 6198.431158940362, 1586.4238948102234, 952.4665410877831, 713.8444188380889, 650.3379654436841, 602.2433926326189, 513.9133054477087, 440.7904179595344, 362.3249008749436, 341.3030071599971, 339.7149765865742, 338.3569119770646, 318.5189135065249, 295.2340641455789, 259.53707537175984, 251.33027121211694, 244.81999561849557, 232.36403505250613, 245.10645347907035, 207.0601207295982, 205.36167316474672, 192.25630781963113, 175.10565848287482, 174.3165087917129, 173.72182424923832, 173.6662589449059, 154.67892616084964, 150.51995111527094, 146.96782022223144, 141.05556697481694, 17167.57326562414, 5523.137915182665, 1456.0630553939654, 555.0790877542523, 1641.2755599849556, 201.6531178391642, 1101.4410959009504, 23420.10363939411, 8907.23947272484, 20092.796672748937, 1608.933807583786, 4008.2999573836637, 1743.8653192438996, 23518.29190519704, 13145.883754970171, 1194.6720720988667, 1071.3955530492528, 13364.720182728064, 7208.517971916477, 3023.1495208010715, 16944.225865878907, 2826.217221407359, 5409.883457327847, 2158.4059609717606, 1497.8873400218984, 2366.8526111375954, 5882.025961554501, 3731.498418442694, 13439.60367415793, 3705.1072845118156, 24586.2497299811, 9823.355135106178, 14422.339423947114, 12898.336528105956, 23431.18985009864, 10064.157929513818, 7539.5001472679605, 16963.052036177603, 8468.919407719945, 18883.149937839044, 27667.083870234634, 1562.2777632968528, 1289.6539777437426, 375.5542072169755, 374.9583468627321, 296.09862140568976, 288.19795150913154, 285.65333000526573, 276.24985763480805, 274.3045583634709, 269.6491275801055, 266.56883233022506, 255.91410489895202, 240.9920281346334, 232.3477966685591, 217.6790905210789, 217.265073718178, 217.0715706141519, 215.41402133253632, 213.19826330524347, 208.91050537808516, 204.28906585688563, 203.43181675566012, 193.80973258859265, 184.57164692744018, 180.6475087940591, 179.42085796896077, 171.15858070025254, 160.92272165722974, 157.47976725117266, 152.99260454579698, 826.1364670976732, 1919.5538729066936, 417.69538500460993, 2895.405019822693, 5791.821204435826, 3272.475242886622, 677.6449925735869, 760.1493261711731, 4715.444630792817, 861.2016133936914, 331.72903213821917, 1345.1705546972823, 979.4238383460071, 2028.8279241438463, 18712.46844394277, 1605.7657680523912, 1629.0587118843387, 672.602515358865, 6425.654355729599, 528.0222289978824, 3559.635402150661, 4433.071484900504, 897.5189756187035, 13906.148832621859, 972.3278661242539, 1375.1536932600463, 9823.355135106178, 5882.025961554501, 5556.883472230453, 1425.9262476809392, 4621.9991833917, 4398.370729278065, 12362.318634273735, 10308.394997586036, 23431.18985009864, 4683.730026702026, 10171.688562956366, 24586.2497299811, 5680.556828190624, 27667.083870234634, 3303.4522692564747, 15496.37865974922, 7848.947593548682, 9485.009831476651, 23518.29190519704, 6328.962579033245, 4726.887895063738, 7616.786369853753, 1654.1412437364484, 1706.4973728655045, 553.6801903044109, 542.1645506932409, 461.4964499015489, 418.4148919726983, 347.6920816660058, 301.27922280037006, 268.17461038762474, 267.3028212672472, 267.00185080174583, 239.21110818246598, 238.32262701477435, 245.48550459200655, 214.3066578857625, 205.10390463645112, 196.62489180928523, 187.68819106081006, 175.06076132503068, 168.82569188447007, 165.01424977595914, 163.4039175331707, 157.4780261397682, 154.33528391314687, 154.11457777087276, 153.89860865052697, 146.26275650035217, 146.18966545055602, 2182.74013850026, 3870.591643500842, 396.6690730999793, 4340.552525092073, 612.3529162586331, 258.85966587316085, 239.71518360596593, 8326.83326544469, 882.8579548372537, 4262.925229347367, 710.7413651785346, 789.3944390693086, 423.5604727750259, 1369.9759621717285, 910.9943617226214, 562.5288448965731, 503.3551794621695, 3046.5455105663614, 17665.483411396242, 1133.4319221486637, 1257.0522499026945, 6193.830357234455, 4325.252946037236, 2539.273988029791, 1351.8918382449378, 7271.829837139376, 18883.149937839044, 2055.7006813953976, 2344.1167656176613, 20986.466170947646, 16963.052036177603, 6001.745794640556, 4587.420473323424, 2899.1564993951492, 20092.796672748937, 1539.4180364333818, 7208.517971916477, 2736.7763980666273, 7861.347221737395, 3546.6143410283626, 24586.2497299811, 12898.336528105956, 13145.883754970171, 16944.225865878907, 25851.59852884652, 17306.074577452535, 2856.450404304236, 1904.9623020744784, 3641.506067244725, 2317.367097246693, 1207.27833431994, 773.3485367082568, 523.5468457057964, 480.5203176223715, 2017.0899235761265, 421.69929594089405, 401.0431284049826, 352.84450644154106, 287.3366655429283, 264.90914408266985, 259.019907910124, 250.76717757345017, 237.1445409800365, 236.90289403713342, 232.24431819971088, 1194.7292525882879, 252.79717217431798, 198.88208496187968, 173.43860379986992, 166.92144478772144, 165.44008418941002, 156.16737718520497, 153.48872617287523, 152.69012339783376, 149.73957922393845, 149.72982282096942, 7583.473128234956, 1032.721708680817, 2000.0075367792033, 1220.2913799691396, 1328.0406539122262, 387.47813745050377, 1701.0137927471892, 1559.020042068872, 653.2581209776561, 3861.7829442544635, 2598.9701846387375, 2646.0742216800736, 1094.3914591434605, 3122.7623066075553, 19717.035358009634, 570.1964095934366, 537.8759346841839, 613.6414309988357, 5796.892525532673, 896.6117206654454, 5716.890026568491, 772.6414180851178, 7182.64667381958, 13906.148832621859, 8071.050893249276, 4761.768429652883, 6001.745794640556, 10266.897630088359, 12362.318634273735, 5556.030668822937, 6582.024571698402, 5638.757563549057, 20986.466170947646, 24586.2497299811, 27667.083870234634, 23181.453672672866, 23518.29190519704, 3038.6017393993643, 2184.231447256391, 1905.7873692052347, 1190.0879217312097, 1084.202155368872, 866.3955971711138, 853.3233301728241, 832.0387794441423, 1024.9425968236174, 777.7370140289258, 582.6778654327852, 567.053212901461, 558.9747160727907, 517.3291708840541, 509.7813395361963, 507.18307676318676, 441.3825954646133, 439.9315320971867, 419.6730244527513, 413.62738167086576, 413.06956434599016, 394.42164505142176, 391.74728569336463, 389.09873259168245, 387.8272488263159, 376.732944331698, 376.3028327594445, 374.50824286375814, 364.59164566341724, 354.86137140488734, 9489.096761950319, 3941.7389872712743, 548.9841242556547, 1847.5422820498684, 3200.263778487338, 594.9239944257215, 10383.965651572958, 852.5222067893682, 1183.4020020867424, 638.7309063662211, 4929.466270952783, 1315.2490142597715, 1718.4958059688565, 4480.038373887186, 3023.3949024734543, 2403.500611857017, 748.7627667532903, 10266.897630088359, 2978.1111575042346, 1038.651903522557, 2522.7992734498357, 2391.5665616505066, 1139.9508618134155, 2288.449209370731, 7379.243240752475, 7180.825629173276, 3500.1211571665262, 9936.372574495126, 3062.447723789459, 5149.955171565091, 23420.10363939411, 5067.865163971303, 12898.336528105956, 6445.9554666374, 3990.8544245860594, 3905.564344901471, 2722.0990974821743, 1437.6040395701932, 1243.6158536462735, 1240.3639590470254, 1096.3809644056028, 786.5697252120272, 1579.9748728370969, 707.2281740435928, 677.7246445211077, 607.3600670535882, 602.9351515518, 570.9747500353859, 564.2158117018914, 535.6496528062748, 455.2252022392729, 424.95220217196555, 414.9268615015501, 386.0483041353124, 346.7909371896297, 340.5528343925138, 337.5710113291157, 334.8644857298564, 326.92086262943474, 319.8102675177712, 316.61047419363535, 628.8472349829739, 306.8541367624715, 305.49593387537607, 1459.8235001767946, 1340.1219144467275, 918.6064082264152, 6453.649597251671, 567.4002167781961, 931.0189042710143, 8202.50357151298, 477.4936624942992, 6404.048457969951, 5668.466800255454, 4688.88334987665, 8328.852767120716, 28428.95467991142, 4861.804814247929, 1303.0165860923291, 8932.151981442108, 3204.3887504521263, 5795.461231865699, 6838.2321160607235, 3759.4935895167014, 3590.84514772507, 7409.09663602843, 10383.965651572958, 18712.46844394277, 6352.649355109117, 10308.394997586036, 4403.178783812187, 3422.416425461527, 2964.739427801125, 1852.348820541838, 946.4143416177359, 578.8866354604219, 564.3895721853565, 536.4156498234228, 430.0277577371437, 412.12510579192497, 385.99553717914335, 331.4231441633556, 287.9864598478215, 277.7446023305057, 239.4827464809139, 223.8610524700333, 217.91572300123303, 214.89156168059571, 192.69818183413744, 188.25726618533741, 186.85473168818302, 185.49419689271485, 173.8843415189685, 172.0913926682218, 171.97569042526246, 185.33041226564382, 161.3428512298842, 157.4778483525953, 148.4928027870083, 145.20377954400513, 144.33578389344513, 1802.447160404524, 983.7495687877007, 244.5575232294371, 1171.8479618799033, 552.2195331751024, 1388.493316428587, 7541.741211241066, 2286.3622026876214, 821.2570745510552, 2591.3283022484366, 284.04063716855296, 281.35708693049145, 1210.034265473441, 863.8757639972255, 1699.1691295955065, 2022.9772086503804, 1313.0857431730462, 2410.326003085453, 725.1200354168012, 1481.2329269033303, 3291.54075475391, 1877.8571792550495, 3590.84514772507, 2710.2356387345862, 2388.635119456026, 1442.9019571640417, 1961.0187466768868, 28428.95467991142, 5935.55870242478, 9287.471099086062, 5154.6627038482175, 12362.318634273735, 3509.6658249981933, 3204.3887504521263, 13906.148832621859, 19717.035358009634, 10308.394997586036, 27667.083870234634, 15496.37865974922, 5795.461231865699, 4683.730026702026, 3677.8514624906475, 1046.9696126071788, 1002.6408812223336, 823.9976681035403, 953.485669567057, 619.6405216404208, 529.1864675175823, 508.15644229052475, 425.9675565341458, 1462.1042419885791, 399.72902230038204, 349.83874300748585, 325.0185517475902, 316.4046781164039, 315.591304281025, 285.66636072430856, 272.9441650384316, 271.7272016820731, 287.0411203397819, 231.33660197216213, 223.23960406499225, 215.855700392991, 222.72735049240413, 205.14585388186947, 202.57341769432287, 201.14527655161388, 195.51506998865042, 191.33829404846202, 190.45432214767837, 189.37909931130602, 4998.4053046880335, 289.64010266097114, 16264.092847401038, 6862.788504357276, 428.8745313454133, 2190.619378569815, 4172.035614842705, 4115.758159534155, 1720.318821724534, 13488.378434245009, 465.5152524511264, 8071.050893249276, 592.7176275518524, 856.9868431797435, 1490.1878171776186, 445.02896223209774, 1024.7634899699979, 386.13087694020953, 7120.951705977169, 10095.970997202125, 2269.6415726539317, 5638.757563549057, 4334.871803652691, 1657.7495044550528, 1231.580619197958, 28428.95467991142, 24586.2497299811, 1975.9579023260833, 3879.739068028882, 18712.46844394277, 7927.732089015086, 13179.267662042417, 14422.339423947114, 4130.384039293781, 10801.08718267087, 6404.048457969951, 18883.149937839044, 18440.134619869677, 5681.423409463014, 2296.0858655019047, 1779.9980858993242, 1550.8471192711386, 1486.1875304502946, 1342.5286223550306, 1123.242807590407, 780.5641918505028, 760.6577874082221, 717.6839251457684, 697.8771689449766, 697.4398147754112, 681.3540682267737, 596.9233973832546, 575.2656666633392, 521.6773576619744, 518.046935843565, 518.2466479143363, 480.3187180166065, 406.91854055893435, 373.4868548129157, 339.6801867584616, 338.06881627476815, 333.4045860043815, 331.3477327141407, 336.64731624606105, 325.16582835151945, 301.7982712909516, 288.1846186455413, 2485.769897182422, 756.390263003913, 18560.405727532445, 1612.477426778356, 860.4544717977469, 10095.970997202125, 1467.0907632120004, 1325.8930317207603, 648.6186804577776, 1618.5098243097086, 3118.92121221012, 2087.2866757536726, 13488.378434245009, 17665.483411396242, 10266.897630088359, 4348.247031941103, 13906.148832621859, 4130.384039293781, 7120.951705977169, 7067.925700701387, 8328.852767120716, 4480.038373887186, 6193.830357234455, 4929.466270952783, 16264.092847401038, 4407.110609005708, 2167.3133406084867, 2135.8506109741197, 1729.642486068575, 1347.0032320978137, 1096.5262823743128, 902.9880729686522, 938.0322453049585, 769.6690879666418, 700.0990985617786, 691.618389977634, 670.3876835704403, 657.518550112502, 631.5240866849208, 611.6732507834022, 529.0166973397281, 522.2377377610552, 512.462568389342, 489.3542314613121, 377.6704470969114, 367.0435614945457, 364.1118286085023, 357.87423304648553, 354.6389262912538, 352.4152817123311, 324.79371986155365, 323.0855621847047, 314.54855002978593, 311.8615994187214, 307.87688088575766, 2432.1891107986717, 765.5834180137838, 871.8559451733415, 785.1857490369546, 496.22306306720435, 13439.60367415793, 2974.9223623299918, 1638.629776403129, 1259.9909971281525, 2103.6092513492035, 1056.3855006031802, 7271.829837139376, 4403.178783812187, 1067.0548092860515, 5557.234128885342, 2256.2540394204593, 2784.6744186709975, 14422.339423947114, 16944.225865878907, 7067.925700701387, 17795.591335577956, 16963.052036177603, 23431.18985009864, 8907.23947272484, 1466.8157907424768, 7861.347221737395, 3828.571069264126, 11844.140594913291, 5814.076479895505, 4095.596097965047, 1210.7393613657498, 746.8408656668612, 567.4818843076366, 475.3154460002513, 400.2965464085299, 399.78124871287906, 398.07874656223476, 384.21113307842256, 319.544851549117, 315.6993928194208, 316.38697720169154, 306.8677079154366, 286.41392312569246, 281.03203347548305, 260.05883424523194, 257.6487848138171, 256.94349189668884, 243.59588718272616, 236.20041938016243, 233.35099964858844, 226.3173797703924, 216.5022957374653, 954.8644729514571, 186.4730521803262, 181.97615747668476, 168.0628521160477, 171.33255048198535, 166.75166552848063, 156.92455995229494, 1814.4302366650377, 3924.0743729736223, 1199.007552525255, 295.16724835577855, 1352.635929309129, 607.4399653846286, 427.213512212039, 1574.4403756934894, 570.4141102574497, 1068.2122781909766, 566.8022753196776, 785.1360780790365, 577.8027851056033, 2158.399485446367, 986.541022536777, 1799.2003477802555, 5898.592354299537, 583.0911607457167, 7379.243240752475, 1783.8400650636352, 1302.7410322279536, 4034.6693477979406, 3410.115417739336, 809.2301361460245, 1863.6583396894173, 2037.2819892952516, 12567.289099330173, 4169.041490486753, 6486.8280478059, 5150.090991091346, 4621.9991833917, 4551.212910326588, 28428.95467991142, 1311.786678859397, 5680.556828190624, 8932.151981442108, 5873.654817900488, 9823.355135106178, 3656.7317828102923, 1982.2827740304438, 1056.1094539954033, 1054.7836479553023, 961.0096403806878, 815.9542314135414, 784.0996764287621, 544.2521923641141, 451.00863924793697, 418.67397886510867, 392.41123285160893, 365.2044191138221, 293.33041166701383, 275.2915777151831, 274.69024196373834, 270.6486046350612, 271.35344974864773, 263.50559195810484, 258.85598905464246, 255.7868623563475, 244.13001350780476, 228.74869621815373, 204.75770903880473, 197.77720581747565, 195.52920382980625, 195.0053400644682, 188.27023832481424, 183.23313952463312, 175.56815898059557, 2247.8169375794737, 2913.008333342332, 2191.345363567324, 1774.8860169893721, 859.2274387822573, 380.48997878175015, 1847.4278694078105, 412.0557659853375, 749.4697023521236, 2980.5133423426187, 10801.08718267087, 1238.9003746158703, 5556.030668822937, 1441.2375977491472, 3623.99512057997, 888.3885307566459, 2327.510947520259, 1790.0656434199677, 875.1602010741075, 7182.64667381958, 1458.9397791392246, 5716.890026568491, 4130.384039293781, 1257.4457859062022, 2729.8956094575356, 18560.405727532445, 2937.849991595074, 5409.883457327847, 12362.318634273735, 6582.024571698402, 1657.7495044550528, 4597.1581386497965, 1395.1920718841254, 635.7200265666174, 596.0391158606413, 549.0037651817178, 498.60804099056975, 445.1499761937298, 432.0879388878384, 428.4365079203192, 449.0303261050429, 283.0990058324936, 948.6704243514514, 243.4550423343373, 235.41674149083497, 224.7068890763809, 220.79394405073418, 199.26909043306776, 171.06166862105042, 170.12061099543135, 167.76244812404323, 161.85629832435458, 160.552607843277, 158.25108160111398, 153.53109461490172, 152.00743963126865, 139.14557666771208, 133.4170977863824, 127.25376484422658, 123.12360457345319, 119.9309625121254, 1856.8480816404683, 1087.677171313378, 680.30273455748, 5795.643033867838, 1405.5535461857853, 322.62504678342435, 573.0278697284531, 504.3448316290982, 5873.654817900488, 888.0126724361335, 2705.8828033954273, 5776.4902437486035, 554.4601134132156, 566.5886639809605, 874.4743442165145, 1099.4076516765692, 3017.2950204962463, 1043.8147056557195, 5149.955171565091, 3973.712667234787, 969.4854232235805, 1023.7824071182754, 5089.798733540032, 8468.919407719945, 16963.052036177603, 18883.149937839044, 3174.4429916207387, 14422.339423947114, 9936.372574495126, 23420.10363939411, 2763.0624287225655, 1577.7401584001711, 2355.4126794897466, 12567.289099330173, 9185.326559041298, 7541.741211241066, 3748.901372459449, 734.7098529788177, 1748.632987830302, 593.7310793181606, 397.3049212112078, 423.18760324104557, 358.89750762780596, 355.5471851362843, 228.0628645975043, 210.61648367949306, 199.8536280172722, 199.6385732640677, 181.52169761462764, 169.21274846580187, 165.25452078276294, 163.42159140989432, 149.30435315313497, 139.03535931709402, 130.305086439338, 128.97013356780747, 125.851454153858, 123.4090005036652, 119.36803327410367, 115.70684758947854, 115.42140469666262, 114.80277690826651, 112.87989577329776, 108.24150356933956, 677.044115075231, 104.02470957951861, 332.52651565610745, 253.81508263988877, 370.5537838765153, 727.1474984657766, 1504.0470378617115, 716.6377560282564, 11844.140594913291, 2856.2932345323593, 608.5233450725, 1684.75216032837, 3083.1854369615935, 7927.732089015086, 381.36209988632265, 8193.138875668037, 654.8296315755591, 336.2351057880766, 634.3217077818769, 1475.506722876021, 3914.5008445576436, 1897.7499262043643, 4720.985181972142, 831.1386312732809, 1361.7839779739468, 3216.165458308421, 6352.649355109117, 1737.346751308781, 9936.372574495126, 4268.462289682903, 2571.1194989382047, 3500.1211571665262, 7120.951705977169, 2784.6744186709975, 3860.321888937853, 1952.7609485309708, 23431.18985009864, 3371.694677117377, 3420.0681199134174, 3114.538082903759, 2386.411111031885, 1853.5360227821961, 1335.9073986850062, 814.4098761108608, 844.4305459231332, 690.2931375712031, 604.7007610429876, 688.6078372563173, 562.3394067744136, 396.35778343938745, 326.6700837339931, 325.9535392262604, 296.93420237919554, 286.8040092703851, 286.5683682804589, 284.90650420894826, 277.36160051440527, 277.08401591807774, 260.66423785010267, 260.2991599279076, 529.8069579275084, 252.42414684525633, 248.3594244004041, 229.39840670386764, 227.0373580334297, 200.28744247423012, 198.203882606344, 193.69124764424694, 5166.846040024789, 1516.7469324789195, 2483.3426301389277, 1036.0085463951602, 10064.157929513818, 7180.825629173276, 382.56990998760205, 449.83230720052956, 342.05414975343535, 1826.1016038672085, 431.13447687683515, 1809.4959269114368, 17795.591335577956, 650.6984951686013, 935.7828952610977, 20986.466170947646, 1056.799205186443, 3759.4935895167014, 3914.5008445576436, 1396.980799236049, 17665.483411396242, 14422.339423947114, 6352.649355109117, 7927.732089015086, 3371.694677117377, 2571.1194989382047, 3559.635402150661, 4587.420473323424, 2763.0624287225655, 5638.757563549057, 4856.283684320729, 749.359251761556, 1562.6906875474256, 473.71349689125265, 379.9138803729427, 340.14475831172405, 299.552280313498, 257.71298545050956, 256.65280315428606, 222.9556022353684, 211.44927483826118, 209.3150770596585, 205.33428046031761, 198.7070741009033, 175.53494579430466, 168.3074452236401, 167.50749672296547, 165.46114434511182, 161.69865149358537, 158.74640809251585, 151.14817168466323, 147.67479383315884, 146.49963949225733, 145.68142944679826, 145.25528390550983, 141.18766424872197, 139.94105275011088, 135.38465221733296, 132.62842520821616, 132.23045945221935, 5374.57594273029, 164.3416292053389, 1480.666582026333, 607.8429254811153, 2859.668018609897, 520.0758288088923, 1109.057669921138, 1158.955991456401, 2123.522497642558, 1510.9913084326417, 1603.3070939803176, 1516.0716884025053, 455.13738951327093, 1778.1029533310088, 17795.591335577956, 483.3451243461611, 3458.0415608956578, 863.5901394695767, 1294.1734922798514, 882.4870099109131, 1411.1370858011196, 580.4149847710308, 5668.466800255454, 3118.92121221012, 7539.5001472679605, 16944.225865878907, 2974.9223623299918, 6318.343081431494, 2395.0854317530834, 2570.8985454148, 4204.635872427439, 8468.919407719945, 14422.339423947114, 13179.267662042417, 3358.568962737028, 2424.629749064985, 1858.3619096843202, 1801.0445463384538, 1369.5842293862743, 1171.2584490035313, 1169.5616818691963, 1020.5441968026665, 847.5311794493698, 807.2825762799309, 685.4645801820362, 662.8840767708401, 617.2727700111997, 506.1621188002688, 436.40298988023346, 425.86428819147255, 417.3606354910241, 368.0634393367255, 351.63751804637616, 309.1910902991532, 289.90821889718643, 258.57963376166856, 254.2684795774408, 237.24388549381356, 232.45077912921013, 217.44315505728113, 208.94716146008358, 203.3737683566736, 201.00538966227333, 196.72940513124516, 3057.498037281101, 275.8683357914754, 1023.6456353809293, 1106.7988997076113, 2031.195355146441, 811.1009667111393, 377.6310234158272, 9355.43748149347, 2329.152665495019, 7409.09663602843, 1782.5361866837072, 9287.471099086062, 2597.378161562634, 2428.614131821736, 1363.7863582345249, 956.2718585284797, 3747.5592467096612, 28428.95467991142, 2577.1224842304105, 2937.849991595074, 6445.9554666374, 1709.535406204915, 9185.326559041298, 1230.1252197572328, 1089.6405981390353, 691.7117833768259, 668.75456414035, 645.5908863728329, 565.0775293403135, 535.0333120850325, 380.01028114663166, 358.6068815439601, 302.80714247364125, 303.3914004289181, 291.9181114737729, 287.8649076891578, 287.8022096684259, 271.09922282748, 255.93925247429993, 252.12101782347375, 250.89606226479327, 226.32897485323164, 218.60560670824395, 212.8174467981655, 212.0303372727545, 209.07608198351298, 201.73562041180955, 195.19451065211135, 192.65098493674557, 190.0649387680815, 189.6869053398069, 183.19692826172064, 171.6782711106679, 235.2707283551479, 518.6483435841203, 10813.592425312738, 3030.754822274519, 1017.1856634773458, 609.1236525580671, 1751.7812133951181, 765.0726322048586, 263.06622282162317, 1680.9819403645326, 1888.5089096977108, 684.6947278876887, 386.72742076291706, 554.6836740347688, 929.832457307499, 4053.4711136767683, 739.8832537875101, 1801.6834367397998, 9185.326559041298, 1594.3802663651645, 967.2173061054423], \"Category\": [\"Default\", \"Default\", \"Default\", \"Default\", \"Default\", \"Default\", \"Default\", \"Default\", \"Default\", \"Default\", \"Default\", \"Default\", \"Default\", \"Default\", \"Default\", \"Default\", \"Default\", \"Default\", \"Default\", \"Default\", \"Default\", \"Default\", \"Default\", \"Default\", \"Default\", \"Default\", \"Default\", \"Default\", \"Default\", \"Default\", \"Topic1\", \"Topic1\", \"Topic1\", \"Topic1\", \"Topic1\", \"Topic1\", \"Topic1\", \"Topic1\", \"Topic1\", \"Topic1\", \"Topic1\", \"Topic1\", \"Topic1\", \"Topic1\", \"Topic1\", \"Topic1\", \"Topic1\", \"Topic1\", \"Topic1\", \"Topic1\", \"Topic1\", \"Topic1\", \"Topic1\", \"Topic1\", \"Topic1\", \"Topic1\", \"Topic1\", \"Topic1\", \"Topic1\", \"Topic1\", \"Topic1\", \"Topic1\", \"Topic1\", \"Topic1\", \"Topic1\", \"Topic1\", \"Topic1\", \"Topic1\", \"Topic1\", \"Topic1\", \"Topic1\", \"Topic1\", \"Topic1\", \"Topic1\", \"Topic1\", \"Topic1\", \"Topic1\", \"Topic1\", \"Topic1\", \"Topic1\", \"Topic1\", \"Topic1\", \"Topic1\", \"Topic1\", \"Topic1\", \"Topic1\", \"Topic1\", \"Topic1\", \"Topic1\", \"Topic1\", \"Topic1\", \"Topic1\", \"Topic1\", \"Topic1\", \"Topic1\", \"Topic1\", \"Topic1\", \"Topic1\", \"Topic1\", \"Topic1\", \"Topic1\", \"Topic1\", \"Topic1\", \"Topic1\", \"Topic1\", \"Topic1\", \"Topic1\", \"Topic1\", \"Topic1\", \"Topic1\", \"Topic1\", \"Topic1\", \"Topic1\", \"Topic1\", \"Topic1\", \"Topic1\", \"Topic1\", \"Topic1\", \"Topic1\", \"Topic1\", \"Topic2\", \"Topic2\", \"Topic2\", \"Topic2\", \"Topic2\", \"Topic2\", \"Topic2\", \"Topic2\", \"Topic2\", \"Topic2\", \"Topic2\", \"Topic2\", \"Topic2\", \"Topic2\", \"Topic2\", \"Topic2\", \"Topic2\", \"Topic2\", \"Topic2\", \"Topic2\", \"Topic2\", \"Topic2\", \"Topic2\", \"Topic2\", \"Topic2\", \"Topic2\", \"Topic2\", \"Topic2\", \"Topic2\", \"Topic2\", \"Topic2\", \"Topic2\", \"Topic2\", \"Topic2\", \"Topic2\", \"Topic2\", \"Topic2\", \"Topic2\", \"Topic2\", \"Topic2\", \"Topic2\", \"Topic2\", \"Topic2\", \"Topic2\", \"Topic2\", \"Topic2\", \"Topic2\", \"Topic2\", \"Topic2\", \"Topic2\", \"Topic2\", \"Topic2\", \"Topic2\", \"Topic2\", \"Topic2\", \"Topic2\", \"Topic2\", \"Topic2\", \"Topic2\", \"Topic2\", \"Topic2\", \"Topic2\", \"Topic2\", \"Topic2\", \"Topic2\", \"Topic2\", \"Topic2\", \"Topic2\", \"Topic2\", \"Topic2\", \"Topic3\", \"Topic3\", \"Topic3\", \"Topic3\", \"Topic3\", \"Topic3\", \"Topic3\", \"Topic3\", \"Topic3\", \"Topic3\", \"Topic3\", \"Topic3\", \"Topic3\", \"Topic3\", \"Topic3\", \"Topic3\", \"Topic3\", \"Topic3\", \"Topic3\", \"Topic3\", \"Topic3\", \"Topic3\", \"Topic3\", \"Topic3\", \"Topic3\", \"Topic3\", \"Topic3\", \"Topic3\", \"Topic3\", \"Topic3\", \"Topic3\", \"Topic3\", \"Topic3\", \"Topic3\", \"Topic3\", \"Topic3\", \"Topic3\", \"Topic3\", \"Topic3\", \"Topic3\", \"Topic3\", \"Topic3\", \"Topic3\", \"Topic3\", \"Topic3\", \"Topic3\", \"Topic3\", \"Topic3\", \"Topic3\", \"Topic3\", \"Topic3\", \"Topic3\", \"Topic3\", \"Topic3\", \"Topic3\", \"Topic3\", \"Topic3\", \"Topic3\", \"Topic3\", \"Topic3\", \"Topic3\", \"Topic3\", \"Topic3\", \"Topic3\", \"Topic3\", \"Topic3\", \"Topic3\", \"Topic3\", \"Topic3\", \"Topic3\", \"Topic3\", \"Topic4\", \"Topic4\", \"Topic4\", \"Topic4\", \"Topic4\", \"Topic4\", \"Topic4\", \"Topic4\", \"Topic4\", \"Topic4\", \"Topic4\", \"Topic4\", \"Topic4\", \"Topic4\", \"Topic4\", \"Topic4\", \"Topic4\", \"Topic4\", \"Topic4\", \"Topic4\", \"Topic4\", \"Topic4\", \"Topic4\", \"Topic4\", \"Topic4\", \"Topic4\", \"Topic4\", \"Topic4\", \"Topic4\", \"Topic4\", \"Topic4\", \"Topic4\", \"Topic4\", \"Topic4\", \"Topic4\", \"Topic4\", \"Topic4\", \"Topic4\", \"Topic4\", \"Topic4\", \"Topic4\", \"Topic4\", \"Topic4\", \"Topic4\", \"Topic4\", \"Topic4\", \"Topic4\", \"Topic4\", \"Topic4\", \"Topic4\", \"Topic4\", \"Topic4\", \"Topic4\", \"Topic4\", \"Topic4\", \"Topic4\", \"Topic4\", \"Topic4\", \"Topic4\", \"Topic4\", \"Topic4\", \"Topic4\", \"Topic4\", \"Topic4\", \"Topic4\", \"Topic4\", \"Topic4\", \"Topic4\", \"Topic4\", \"Topic4\", \"Topic4\", \"Topic4\", \"Topic4\", \"Topic4\", \"Topic4\", \"Topic4\", \"Topic5\", \"Topic5\", \"Topic5\", \"Topic5\", \"Topic5\", \"Topic5\", \"Topic5\", \"Topic5\", \"Topic5\", \"Topic5\", \"Topic5\", \"Topic5\", \"Topic5\", \"Topic5\", \"Topic5\", \"Topic5\", \"Topic5\", \"Topic5\", \"Topic5\", \"Topic5\", \"Topic5\", \"Topic5\", \"Topic5\", \"Topic5\", \"Topic5\", \"Topic5\", \"Topic5\", \"Topic5\", \"Topic5\", \"Topic5\", \"Topic5\", \"Topic5\", \"Topic5\", \"Topic5\", \"Topic5\", \"Topic5\", \"Topic5\", \"Topic5\", \"Topic5\", \"Topic5\", \"Topic5\", \"Topic5\", \"Topic5\", \"Topic5\", \"Topic5\", \"Topic5\", \"Topic5\", \"Topic5\", \"Topic5\", \"Topic5\", \"Topic5\", \"Topic5\", \"Topic5\", \"Topic5\", \"Topic5\", \"Topic5\", \"Topic5\", \"Topic5\", \"Topic5\", \"Topic5\", \"Topic5\", \"Topic5\", \"Topic5\", \"Topic5\", \"Topic5\", \"Topic5\", \"Topic5\", \"Topic5\", \"Topic5\", \"Topic5\", \"Topic5\", \"Topic5\", \"Topic5\", \"Topic5\", \"Topic5\", \"Topic5\", \"Topic6\", \"Topic6\", \"Topic6\", \"Topic6\", \"Topic6\", \"Topic6\", \"Topic6\", \"Topic6\", \"Topic6\", \"Topic6\", \"Topic6\", \"Topic6\", \"Topic6\", \"Topic6\", \"Topic6\", \"Topic6\", \"Topic6\", \"Topic6\", \"Topic6\", \"Topic6\", \"Topic6\", \"Topic6\", \"Topic6\", \"Topic6\", \"Topic6\", \"Topic6\", \"Topic6\", \"Topic6\", \"Topic6\", \"Topic6\", \"Topic6\", \"Topic6\", \"Topic6\", \"Topic6\", \"Topic6\", \"Topic6\", \"Topic6\", \"Topic6\", \"Topic6\", \"Topic6\", \"Topic6\", \"Topic6\", \"Topic6\", \"Topic6\", \"Topic6\", \"Topic6\", \"Topic6\", \"Topic6\", \"Topic6\", \"Topic6\", \"Topic6\", \"Topic6\", \"Topic6\", \"Topic6\", \"Topic6\", \"Topic6\", \"Topic6\", \"Topic6\", \"Topic6\", \"Topic6\", \"Topic6\", \"Topic6\", \"Topic6\", \"Topic6\", \"Topic6\", \"Topic6\", \"Topic6\", \"Topic7\", \"Topic7\", \"Topic7\", \"Topic7\", \"Topic7\", \"Topic7\", \"Topic7\", \"Topic7\", \"Topic7\", \"Topic7\", \"Topic7\", \"Topic7\", \"Topic7\", \"Topic7\", \"Topic7\", \"Topic7\", \"Topic7\", \"Topic7\", \"Topic7\", \"Topic7\", \"Topic7\", \"Topic7\", \"Topic7\", \"Topic7\", \"Topic7\", \"Topic7\", \"Topic7\", \"Topic7\", \"Topic7\", \"Topic7\", \"Topic7\", \"Topic7\", \"Topic7\", \"Topic7\", \"Topic7\", \"Topic7\", \"Topic7\", \"Topic7\", \"Topic7\", \"Topic7\", \"Topic7\", \"Topic7\", \"Topic7\", \"Topic7\", \"Topic7\", \"Topic7\", \"Topic7\", \"Topic7\", \"Topic7\", \"Topic7\", \"Topic7\", \"Topic7\", \"Topic7\", \"Topic7\", \"Topic7\", \"Topic7\", \"Topic7\", \"Topic7\", \"Topic7\", \"Topic7\", \"Topic7\", \"Topic7\", \"Topic7\", \"Topic7\", \"Topic8\", \"Topic8\", \"Topic8\", \"Topic8\", \"Topic8\", \"Topic8\", \"Topic8\", \"Topic8\", \"Topic8\", \"Topic8\", \"Topic8\", \"Topic8\", \"Topic8\", \"Topic8\", \"Topic8\", \"Topic8\", \"Topic8\", \"Topic8\", \"Topic8\", \"Topic8\", \"Topic8\", \"Topic8\", \"Topic8\", \"Topic8\", \"Topic8\", \"Topic8\", \"Topic8\", \"Topic8\", \"Topic8\", \"Topic8\", \"Topic8\", \"Topic8\", \"Topic8\", \"Topic8\", \"Topic8\", \"Topic8\", \"Topic8\", \"Topic8\", \"Topic8\", \"Topic8\", \"Topic8\", \"Topic8\", \"Topic8\", \"Topic8\", \"Topic8\", \"Topic8\", \"Topic8\", \"Topic8\", \"Topic8\", \"Topic8\", \"Topic8\", \"Topic8\", \"Topic8\", \"Topic8\", \"Topic8\", \"Topic8\", \"Topic8\", \"Topic9\", \"Topic9\", \"Topic9\", \"Topic9\", \"Topic9\", \"Topic9\", \"Topic9\", \"Topic9\", \"Topic9\", \"Topic9\", \"Topic9\", \"Topic9\", \"Topic9\", \"Topic9\", \"Topic9\", \"Topic9\", \"Topic9\", \"Topic9\", \"Topic9\", \"Topic9\", \"Topic9\", \"Topic9\", \"Topic9\", \"Topic9\", \"Topic9\", \"Topic9\", \"Topic9\", \"Topic9\", \"Topic9\", \"Topic9\", \"Topic9\", \"Topic9\", \"Topic9\", \"Topic9\", \"Topic9\", \"Topic9\", \"Topic9\", \"Topic9\", \"Topic9\", \"Topic9\", \"Topic9\", \"Topic9\", \"Topic9\", \"Topic9\", \"Topic9\", \"Topic9\", \"Topic9\", \"Topic9\", \"Topic9\", \"Topic9\", \"Topic9\", \"Topic9\", \"Topic9\", \"Topic9\", \"Topic9\", \"Topic9\", \"Topic9\", \"Topic9\", \"Topic9\", \"Topic9\", \"Topic9\", \"Topic9\", \"Topic9\", \"Topic9\", \"Topic9\", \"Topic9\", \"Topic9\", \"Topic9\", \"Topic9\", \"Topic9\", \"Topic9\", \"Topic10\", \"Topic10\", \"Topic10\", \"Topic10\", \"Topic10\", \"Topic10\", \"Topic10\", \"Topic10\", \"Topic10\", \"Topic10\", \"Topic10\", \"Topic10\", \"Topic10\", \"Topic10\", \"Topic10\", \"Topic10\", \"Topic10\", \"Topic10\", \"Topic10\", \"Topic10\", \"Topic10\", \"Topic10\", \"Topic10\", \"Topic10\", \"Topic10\", \"Topic10\", \"Topic10\", \"Topic10\", \"Topic10\", \"Topic10\", \"Topic10\", \"Topic10\", \"Topic10\", \"Topic10\", \"Topic10\", \"Topic10\", \"Topic10\", \"Topic10\", \"Topic10\", \"Topic10\", \"Topic10\", \"Topic10\", \"Topic10\", \"Topic10\", \"Topic10\", \"Topic10\", \"Topic10\", \"Topic10\", \"Topic10\", \"Topic10\", \"Topic10\", \"Topic10\", \"Topic10\", \"Topic10\", \"Topic10\", \"Topic10\", \"Topic10\", \"Topic10\", \"Topic10\", \"Topic10\", \"Topic10\", \"Topic10\", \"Topic10\", \"Topic10\", \"Topic10\", \"Topic10\", \"Topic10\", \"Topic11\", \"Topic11\", \"Topic11\", \"Topic11\", \"Topic11\", \"Topic11\", \"Topic11\", \"Topic11\", \"Topic11\", \"Topic11\", \"Topic11\", \"Topic11\", \"Topic11\", \"Topic11\", \"Topic11\", \"Topic11\", \"Topic11\", \"Topic11\", \"Topic11\", \"Topic11\", \"Topic11\", \"Topic11\", \"Topic11\", \"Topic11\", \"Topic11\", \"Topic11\", \"Topic11\", \"Topic11\", \"Topic11\", \"Topic11\", \"Topic11\", \"Topic11\", \"Topic11\", \"Topic11\", \"Topic11\", \"Topic11\", \"Topic11\", \"Topic11\", \"Topic11\", \"Topic11\", \"Topic11\", \"Topic11\", \"Topic11\", \"Topic11\", \"Topic11\", \"Topic11\", \"Topic11\", \"Topic11\", \"Topic11\", \"Topic11\", \"Topic11\", \"Topic11\", \"Topic11\", \"Topic11\", \"Topic11\", \"Topic12\", \"Topic12\", \"Topic12\", \"Topic12\", \"Topic12\", \"Topic12\", \"Topic12\", \"Topic12\", \"Topic12\", \"Topic12\", \"Topic12\", \"Topic12\", \"Topic12\", \"Topic12\", \"Topic12\", \"Topic12\", \"Topic12\", \"Topic12\", \"Topic12\", \"Topic12\", \"Topic12\", \"Topic12\", \"Topic12\", \"Topic12\", \"Topic12\", \"Topic12\", \"Topic12\", \"Topic12\", \"Topic12\", \"Topic12\", \"Topic12\", \"Topic12\", \"Topic12\", \"Topic12\", \"Topic12\", \"Topic12\", \"Topic12\", \"Topic12\", \"Topic12\", \"Topic12\", \"Topic12\", \"Topic12\", \"Topic12\", \"Topic12\", \"Topic12\", \"Topic12\", \"Topic12\", \"Topic12\", \"Topic12\", \"Topic12\", \"Topic12\", \"Topic12\", \"Topic12\", \"Topic12\", \"Topic12\", \"Topic12\", \"Topic12\", \"Topic12\", \"Topic12\", \"Topic13\", \"Topic13\", \"Topic13\", \"Topic13\", \"Topic13\", \"Topic13\", \"Topic13\", \"Topic13\", \"Topic13\", \"Topic13\", \"Topic13\", \"Topic13\", \"Topic13\", \"Topic13\", \"Topic13\", \"Topic13\", \"Topic13\", \"Topic13\", \"Topic13\", \"Topic13\", \"Topic13\", \"Topic13\", \"Topic13\", \"Topic13\", \"Topic13\", \"Topic13\", \"Topic13\", \"Topic13\", \"Topic13\", \"Topic13\", \"Topic13\", \"Topic13\", \"Topic13\", \"Topic13\", \"Topic13\", \"Topic13\", \"Topic13\", \"Topic13\", \"Topic13\", \"Topic13\", \"Topic13\", \"Topic13\", \"Topic13\", \"Topic13\", \"Topic13\", \"Topic13\", \"Topic13\", \"Topic13\", \"Topic13\", \"Topic13\", \"Topic13\", \"Topic13\", \"Topic13\", \"Topic13\", \"Topic13\", \"Topic13\", \"Topic13\", \"Topic13\", \"Topic13\", \"Topic13\", \"Topic13\", \"Topic13\", \"Topic13\", \"Topic13\", \"Topic13\", \"Topic13\", \"Topic13\", \"Topic13\", \"Topic14\", \"Topic14\", \"Topic14\", \"Topic14\", \"Topic14\", \"Topic14\", \"Topic14\", \"Topic14\", \"Topic14\", \"Topic14\", \"Topic14\", \"Topic14\", \"Topic14\", \"Topic14\", \"Topic14\", \"Topic14\", \"Topic14\", \"Topic14\", \"Topic14\", \"Topic14\", \"Topic14\", \"Topic14\", \"Topic14\", \"Topic14\", \"Topic14\", \"Topic14\", \"Topic14\", \"Topic14\", \"Topic14\", \"Topic14\", \"Topic14\", \"Topic14\", \"Topic14\", \"Topic14\", \"Topic14\", \"Topic14\", \"Topic14\", \"Topic14\", \"Topic14\", \"Topic14\", \"Topic14\", \"Topic14\", \"Topic14\", \"Topic14\", \"Topic14\", \"Topic14\", \"Topic14\", \"Topic14\", \"Topic14\", \"Topic14\", \"Topic14\", \"Topic14\", \"Topic14\", \"Topic14\", \"Topic14\", \"Topic14\", \"Topic14\", \"Topic14\", \"Topic14\", \"Topic14\", \"Topic15\", \"Topic15\", \"Topic15\", \"Topic15\", \"Topic15\", \"Topic15\", \"Topic15\", \"Topic15\", \"Topic15\", \"Topic15\", \"Topic15\", \"Topic15\", \"Topic15\", \"Topic15\", \"Topic15\", \"Topic15\", \"Topic15\", \"Topic15\", \"Topic15\", \"Topic15\", \"Topic15\", \"Topic15\", \"Topic15\", \"Topic15\", \"Topic15\", \"Topic15\", \"Topic15\", \"Topic15\", \"Topic15\", \"Topic15\", \"Topic15\", \"Topic15\", \"Topic15\", \"Topic15\", \"Topic15\", \"Topic15\", \"Topic15\", \"Topic15\", \"Topic15\", \"Topic15\", \"Topic15\", \"Topic15\", \"Topic15\", \"Topic15\", \"Topic15\", \"Topic15\", \"Topic15\", \"Topic15\", \"Topic15\", \"Topic15\", \"Topic15\", \"Topic15\", \"Topic15\", \"Topic15\", \"Topic15\", \"Topic15\", \"Topic15\", \"Topic15\", \"Topic15\", \"Topic15\", \"Topic15\", \"Topic15\", \"Topic15\", \"Topic15\", \"Topic15\", \"Topic15\", \"Topic16\", \"Topic16\", \"Topic16\", \"Topic16\", \"Topic16\", \"Topic16\", \"Topic16\", \"Topic16\", \"Topic16\", \"Topic16\", \"Topic16\", \"Topic16\", \"Topic16\", \"Topic16\", \"Topic16\", \"Topic16\", \"Topic16\", \"Topic16\", \"Topic16\", \"Topic16\", \"Topic16\", \"Topic16\", \"Topic16\", \"Topic16\", \"Topic16\", \"Topic16\", \"Topic16\", \"Topic16\", \"Topic16\", \"Topic16\", \"Topic16\", \"Topic16\", \"Topic16\", \"Topic16\", \"Topic16\", \"Topic16\", \"Topic16\", \"Topic16\", \"Topic16\", \"Topic16\", \"Topic16\", \"Topic16\", \"Topic16\", \"Topic16\", \"Topic16\", \"Topic16\", \"Topic16\", \"Topic16\", \"Topic16\", \"Topic16\", \"Topic16\", \"Topic16\", \"Topic16\", \"Topic16\", \"Topic16\", \"Topic16\", \"Topic16\", \"Topic16\", \"Topic16\", \"Topic16\", \"Topic16\", \"Topic16\", \"Topic16\", \"Topic16\", \"Topic16\", \"Topic16\", \"Topic17\", \"Topic17\", \"Topic17\", \"Topic17\", \"Topic17\", \"Topic17\", \"Topic17\", \"Topic17\", \"Topic17\", \"Topic17\", \"Topic17\", \"Topic17\", \"Topic17\", \"Topic17\", \"Topic17\", \"Topic17\", \"Topic17\", \"Topic17\", \"Topic17\", \"Topic17\", \"Topic17\", \"Topic17\", \"Topic17\", \"Topic17\", \"Topic17\", \"Topic17\", \"Topic17\", \"Topic17\", \"Topic17\", \"Topic17\", \"Topic17\", \"Topic17\", \"Topic17\", \"Topic17\", \"Topic17\", \"Topic17\", \"Topic17\", \"Topic17\", \"Topic17\", \"Topic17\", \"Topic17\", \"Topic17\", \"Topic17\", \"Topic17\", \"Topic17\", \"Topic17\", \"Topic17\", \"Topic17\", \"Topic17\", \"Topic17\", \"Topic17\", \"Topic17\", \"Topic17\", \"Topic17\", \"Topic17\", \"Topic17\", \"Topic17\", \"Topic17\", \"Topic17\", \"Topic17\", \"Topic18\", \"Topic18\", \"Topic18\", \"Topic18\", \"Topic18\", \"Topic18\", \"Topic18\", \"Topic18\", \"Topic18\", \"Topic18\", \"Topic18\", \"Topic18\", \"Topic18\", \"Topic18\", \"Topic18\", \"Topic18\", \"Topic18\", \"Topic18\", \"Topic18\", \"Topic18\", \"Topic18\", \"Topic18\", \"Topic18\", \"Topic18\", \"Topic18\", \"Topic18\", \"Topic18\", \"Topic18\", \"Topic18\", \"Topic18\", \"Topic18\", \"Topic18\", \"Topic18\", \"Topic18\", \"Topic18\", \"Topic18\", \"Topic18\", \"Topic18\", \"Topic18\", \"Topic18\", \"Topic18\", \"Topic18\", \"Topic18\", \"Topic18\", \"Topic18\", \"Topic18\", \"Topic18\", \"Topic18\", \"Topic18\", \"Topic18\", \"Topic18\", \"Topic18\", \"Topic18\", \"Topic18\", \"Topic18\", \"Topic18\", \"Topic18\", \"Topic18\", \"Topic18\", \"Topic18\", \"Topic18\", \"Topic18\", \"Topic18\", \"Topic18\", \"Topic19\", \"Topic19\", \"Topic19\", \"Topic19\", \"Topic19\", \"Topic19\", \"Topic19\", \"Topic19\", \"Topic19\", \"Topic19\", \"Topic19\", \"Topic19\", \"Topic19\", \"Topic19\", \"Topic19\", \"Topic19\", \"Topic19\", \"Topic19\", \"Topic19\", \"Topic19\", \"Topic19\", \"Topic19\", \"Topic19\", \"Topic19\", \"Topic19\", \"Topic19\", \"Topic19\", \"Topic19\", \"Topic19\", \"Topic19\", \"Topic19\", \"Topic19\", \"Topic19\", \"Topic19\", \"Topic19\", \"Topic19\", \"Topic19\", \"Topic19\", \"Topic19\", \"Topic19\", \"Topic19\", \"Topic19\", \"Topic19\", \"Topic19\", \"Topic19\", \"Topic19\", \"Topic19\", \"Topic19\", \"Topic19\", \"Topic19\", \"Topic19\", \"Topic19\", \"Topic19\", \"Topic20\", \"Topic20\", \"Topic20\", \"Topic20\", \"Topic20\", \"Topic20\", \"Topic20\", \"Topic20\", \"Topic20\", \"Topic20\", \"Topic20\", \"Topic20\", \"Topic20\", \"Topic20\", \"Topic20\", \"Topic20\", \"Topic20\", \"Topic20\", \"Topic20\", \"Topic20\", \"Topic20\", \"Topic20\", \"Topic20\", \"Topic20\", \"Topic20\", \"Topic20\", \"Topic20\", \"Topic20\", \"Topic20\", \"Topic20\", \"Topic20\", \"Topic20\", \"Topic20\", \"Topic20\", \"Topic20\", \"Topic20\", \"Topic20\", \"Topic20\", \"Topic20\", \"Topic20\", \"Topic20\", \"Topic20\", \"Topic20\", \"Topic20\", \"Topic20\", \"Topic20\", \"Topic20\", \"Topic20\", \"Topic20\", \"Topic20\", \"Topic20\"], \"logprob\": [30.0, 29.0, 28.0, 27.0, 26.0, 25.0, 24.0, 23.0, 22.0, 21.0, 20.0, 19.0, 18.0, 17.0, 16.0, 15.0, 14.0, 13.0, 12.0, 11.0, 10.0, 9.0, 8.0, 7.0, 6.0, 5.0, 4.0, 3.0, 2.0, 1.0, -6.3122, -6.3952, -6.6319, -6.9882, -7.1524, -7.2591, -7.279, -7.2941, -7.3236, -6.8206, -7.3788, -7.1764, -7.6007, -7.6523, -7.6926, -7.7357, -7.7579, -7.7996, -7.667, -7.8438, -7.8574, -7.8663, -7.9087, -7.9066, -7.8286, -7.9777, -7.985, -7.9874, -5.4613, -8.114, -7.1491, -7.3401, -7.6034, -6.2828, -6.0866, -6.694, -7.0957, -7.2729, -7.1873, -7.7232, -7.3425, -5.5135, -5.1613, -6.337, -7.0246, -6.5118, -5.9466, -6.3249, -4.4181, -6.4604, -5.3836, -6.3749, -5.463, -5.2642, -5.5282, -5.6937, -6.0542, -5.1395, -6.7093, -5.6579, -5.5064, -5.4031, -6.2777, -5.7171, -4.2038, -5.4452, -4.3874, -5.2519, -5.4514, -4.2184, -5.8206, -5.1316, -5.1321, -5.5538, -5.2256, -5.513, -4.8112, -4.9698, -4.9408, -4.6013, -5.464, -5.3939, -5.1331, -5.2512, -4.8238, -5.1122, -5.1314, -5.1016, -5.086, -5.4498, -5.2867, -6.0201, -6.2365, -6.4913, -6.7288, -7.615, -7.7055, -7.81, -7.9133, -7.9816, -7.9862, -8.0816, -8.1012, -8.2028, -8.2391, -8.2401, -8.2875, -8.3549, -8.374, -8.3923, -8.3929, -8.396, -8.4395, -8.4633, -8.4739, -8.48, -8.5484, -8.5531, -8.559, -8.1843, -6.8232, -5.6529, -3.7755, -7.4304, -3.8187, -5.0868, -5.7091, -4.439, -3.5063, -5.0143, -7.1797, -7.0592, -4.6453, -4.8975, -6.0242, -3.9555, -4.2581, -4.4052, -6.3878, -5.9335, -4.315, -4.041, -5.0747, -4.5442, -4.0246, -5.0888, -4.4462, -5.3028, -4.9924, -4.3513, -4.3426, -5.0682, -5.0512, -5.138, -5.0602, -4.9595, -5.1491, -5.1644, -5.1607, -5.1703, -3.8384, -5.2016, -5.7122, -6.0009, -6.0942, -6.1712, -6.33, -6.4839, -6.6803, -6.7402, -6.7449, -6.7489, -6.8095, -6.8857, -7.015, -7.0472, -7.0735, -7.126, -7.073, -7.2417, -7.25, -7.3163, -7.4102, -7.4147, -7.4182, -7.4185, -7.5349, -7.5623, -7.5864, -7.6277, -2.8262, -3.9676, -5.2959, -6.2732, -5.2145, -7.2758, -5.6734, -2.8231, -3.7358, -3.1248, -5.3992, -4.594, -5.3533, -3.0941, -3.6144, -5.705, -5.8082, -3.7173, -4.2412, -4.959, -3.569, -5.026, -4.515, -5.2577, -5.5513, -5.2452, -4.6088, -4.9753, -4.2433, -5.1153, -4.196, -4.6592, -4.6538, -4.7504, -4.5858, -4.9136, -5.0832, -5.0414, -5.1353, -5.0891, -5.0837, -5.1978, -5.3897, -6.6251, -6.6267, -6.8635, -6.8907, -6.8996, -6.9331, -6.9402, -6.9574, -6.9689, -7.0099, -7.0702, -7.1068, -7.1723, -7.1742, -7.1751, -7.1828, -7.1932, -7.2136, -7.2361, -7.2403, -7.289, -7.3381, -7.3597, -7.3665, -7.4139, -7.4759, -7.4977, -7.5268, -5.8432, -5.0233, -6.5385, -4.6481, -4.0173, -4.5669, -6.0822, -5.9766, -4.227, -5.8628, -6.7735, -5.4815, -5.7856, -5.1374, -3.1532, -5.3637, -5.3571, -6.1647, -4.2098, -6.3892, -4.8586, -4.73, -6.0097, -3.9402, -5.9791, -5.7239, -4.3553, -4.755, -4.7961, -5.734, -5.0264, -5.0975, -4.5424, -4.6686, -4.2436, -5.1457, -4.845, -4.5952, -5.1869, -4.8661, -5.4602, -5.0883, -5.2544, -5.2501, -5.2229, -5.3162, -4.0181, -3.5411, -5.0685, -5.0375, -6.164, -6.1851, -6.3465, -6.4447, -6.6303, -6.774, -6.8908, -6.894, -6.8952, -7.0055, -7.0092, -6.9797, -7.1159, -7.1599, -7.2024, -7.2491, -7.3191, -7.3556, -7.3785, -7.3884, -7.4255, -7.4458, -7.4473, -7.4487, -7.4999, -7.5004, -4.7974, -4.2523, -6.5079, -4.1522, -6.0823, -6.9341, -7.0103, -3.5364, -5.7362, -4.2407, -5.9817, -5.8902, -6.4868, -5.4121, -5.7858, -6.2284, -6.3356, -4.7296, -3.2001, -5.6189, -5.528, -4.1808, -4.5002, -4.9648, -5.5111, -4.1302, -3.3687, -5.1683, -5.0627, -3.3627, -3.5312, -4.3687, -4.6552, -4.9955, -3.7297, -5.4834, -4.7238, -5.2671, -4.8755, -5.207, -4.6262, -4.8741, -4.8976, -4.9684, -4.9617, -5.0198, -4.3517, -4.757, -4.1091, -4.5611, -5.2133, -5.6592, -6.0498, -6.1358, -4.7014, -6.2666, -6.3169, -6.4453, -6.6513, -6.7328, -6.7554, -6.7879, -6.8439, -6.845, -6.8649, -5.2271, -6.7802, -7.0206, -7.1582, -7.1967, -7.2057, -7.2637, -7.2811, -7.2864, -7.306, -7.3061, -3.3964, -5.3756, -4.7255, -5.2217, -5.1429, -6.3624, -4.8994, -4.993, -5.8496, -4.1122, -4.5138, -4.4979, -5.3647, -4.3593, -2.7091, -6.0278, -6.089, -5.9851, -4.1655, -5.7383, -4.4621, -5.8463, -4.4056, -4.0943, -4.4506, -4.8114, -4.6839, -4.4497, -4.4233, -4.815, -4.7599, -4.8234, -4.5509, -4.5186, -4.4955, -4.7387, -4.9368, -4.2817, -4.612, -4.7484, -5.2196, -5.3129, -5.5373, -5.5525, -5.5778, -5.3696, -5.6457, -5.9345, -5.9617, -5.9761, -6.0537, -6.0684, -6.0735, -6.2127, -6.216, -6.2633, -6.2778, -6.2792, -6.3255, -6.3323, -6.3391, -6.3424, -6.3715, -6.3726, -6.3774, -6.4043, -6.4314, -3.1455, -4.0384, -5.9956, -4.7958, -4.2532, -5.9204, -3.2757, -5.6033, -5.3075, -5.8819, -4.0582, -5.2372, -5.0023, -4.1972, -4.589, -4.8392, -5.7721, -3.7967, -4.7486, -5.5257, -4.8831, -4.9298, -5.4634, -5.0117, -4.3813, -4.4951, -4.8987, -4.3875, -5.1081, -4.951, -4.4889, -5.0899, -5.1525, -5.2601, -3.8949, -3.9165, -4.2777, -4.9164, -5.0614, -5.0641, -5.1875, -5.52, -4.8225, -5.6264, -5.6691, -5.7789, -5.7862, -5.8407, -5.8527, -5.9047, -6.0677, -6.1367, -6.1606, -6.2329, -6.3404, -6.3586, -6.3674, -6.3756, -6.3996, -6.4216, -6.4317, -5.7456, -6.4631, -6.4676, -4.9041, -4.9927, -5.3688, -3.5031, -5.8624, -5.3905, -3.3626, -6.041, -3.7192, -3.9192, -4.0875, -3.6255, -2.6454, -4.2506, -5.2859, -4.0689, -4.7493, -4.4079, -4.3843, -4.7564, -4.792, -4.5085, -4.5484, -4.326, -4.9792, -4.9089, -5.2001, -3.9855, -4.1291, -4.5996, -5.2716, -5.7638, -5.7892, -5.8401, -6.0616, -6.1042, -6.1699, -6.3227, -6.4636, -6.4999, -6.6487, -6.7164, -6.7434, -6.7575, -6.867, -6.8904, -6.8979, -6.9053, -6.9702, -6.9806, -6.9813, -6.9066, -7.0455, -7.0699, -7.129, -7.1515, -7.1576, -4.6417, -5.2776, -6.643, -5.1381, -5.885, -5.0465, -3.4972, -4.5977, -5.554, -4.5392, -6.5235, -6.5332, -5.2691, -5.5935, -5.0401, -4.8968, -5.2684, -4.7862, -5.7622, -5.1854, -4.5486, -5.0456, -4.5903, -4.8385, -4.9575, -5.322, -5.136, -3.5542, -4.5725, -4.3426, -4.6828, -4.2538, -4.8856, -4.962, -4.3429, -4.3971, -4.6897, -4.6223, -4.9521, -5.0684, -5.0947, -3.8792, -5.1362, -5.1795, -5.376, -5.2302, -5.6614, -5.8194, -5.86, -6.0368, -4.8036, -6.1005, -6.2342, -6.308, -6.3349, -6.3375, -6.4374, -6.4831, -6.4876, -6.4329, -6.6491, -6.6849, -6.7187, -6.6873, -6.7698, -6.7825, -6.7896, -6.8181, -6.8398, -6.8444, -6.8501, -3.5952, -6.4266, -2.4681, -3.3288, -6.0527, -4.5296, -3.9367, -3.9716, -4.8098, -2.9506, -6.0159, -3.5266, -5.8155, -5.5194, -5.0969, -6.0772, -5.4706, -6.2015, -4.3299, -4.2477, -5.1764, -4.6785, -4.8549, -5.3578, -5.5258, -4.1981, -4.4158, -5.3797, -5.2042, -4.8049, -5.0617, -4.9476, -5.0232, -5.2444, -5.095, -5.3082, -5.2769, -2.197, -3.3745, -4.2807, -4.5354, -4.6733, -4.7159, -4.8176, -4.9961, -5.3604, -5.3863, -5.4445, -5.4725, -5.4732, -5.4965, -5.629, -5.666, -5.764, -5.771, -5.7706, -5.8467, -6.0129, -6.0989, -6.194, -6.1988, -6.2127, -6.2189, -6.2031, -6.2378, -6.3126, -6.3589, -4.2092, -5.4088, -2.4489, -4.7474, -5.3318, -3.0898, -4.887, -4.9991, -5.6518, -5.0156, -4.5628, -4.896, -3.7176, -3.8457, -4.1649, -4.6282, -4.321, -4.8193, -4.7123, -4.7567, -4.7726, -4.9515, -4.8896, -4.9892, -5.0712, -3.5587, -4.2687, -4.2833, -4.4944, -4.7446, -4.9504, -5.1448, -5.1068, -5.3047, -5.3996, -5.4118, -5.443, -5.4625, -5.5028, -5.5348, -5.6802, -5.6932, -5.7121, -5.7583, -6.0179, -6.0466, -6.0546, -6.0719, -6.081, -6.0873, -6.1692, -6.1744, -6.2013, -6.2099, -6.2228, -4.1569, -5.3132, -5.2204, -5.328, -5.7894, -2.8772, -4.259, -4.8014, -5.0711, -4.7391, -5.2589, -3.9482, -4.321, -5.275, -4.4103, -4.9229, -4.847, -4.1411, -4.1862, -4.5465, -4.2269, -4.3468, -4.4882, -4.7823, -5.217, -5.0809, -5.1599, -5.0879, -5.1638, -3.4029, -4.6221, -5.1058, -5.3808, -5.5583, -5.7305, -5.7318, -5.736, -5.7716, -5.9564, -5.9685, -5.9663, -5.997, -6.0662, -6.0852, -6.163, -6.1724, -6.1751, -6.2286, -6.2596, -6.2718, -6.3025, -6.3471, -4.8635, -6.4971, -6.5216, -6.6015, -6.5823, -6.6094, -6.6705, -4.2288, -3.4698, -4.6501, -6.0396, -4.5375, -5.3288, -5.6938, -4.4862, -5.4355, -4.8555, -5.4761, -5.2006, -5.4743, -4.3752, -5.0347, -4.5392, -3.6207, -5.4888, -3.4906, -4.6065, -4.8754, -4.0354, -4.2528, -5.2732, -4.7998, -4.7594, -3.7327, -4.5236, -4.3317, -4.5827, -4.6562, -4.6915, -4.4574, -5.1634, -4.8582, -4.8309, -4.9122, -4.9615, -3.5083, -4.1208, -4.7509, -4.7521, -4.8453, -5.0091, -5.049, -5.4146, -5.6029, -5.6775, -5.7424, -5.8144, -6.0342, -6.0979, -6.1001, -6.115, -6.1124, -6.1418, -6.1597, -6.1716, -6.2185, -6.2838, -6.3951, -6.4299, -6.4414, -6.4441, -6.4794, -6.5067, -6.5497, -4.0, -3.7448, -4.032, -4.2934, -5.0145, -5.8019, -4.3236, -5.7377, -5.1793, -3.9098, -2.766, -4.7391, -3.4806, -4.6855, -3.9304, -5.1591, -4.3941, -4.6025, -5.1798, -3.6856, -4.8407, -3.9167, -4.2311, -5.0973, -4.7605, -3.9713, -4.8119, -4.6774, -4.5253, -4.7132, -5.0047, -3.2198, -4.4133, -5.1995, -5.2641, -5.3464, -5.4429, -5.5565, -5.5863, -5.5949, -5.5479, -6.0103, -4.8012, -6.1617, -6.1954, -6.2422, -6.2598, -6.3628, -6.5162, -6.5218, -6.5358, -6.5718, -6.58, -6.5945, -6.625, -6.635, -6.724, -6.7663, -6.8139, -6.8472, -6.8736, -4.1339, -4.7135, -5.1794, -3.1166, -4.504, -5.9338, -5.4059, -5.5298, -3.3202, -5.0255, -4.0674, -3.4427, -5.4938, -5.4778, -5.1221, -4.9502, -4.1447, -4.9981, -3.7399, -3.9529, -5.0748, -5.0391, -3.8535, -3.5387, -3.2925, -3.342, -4.4761, -3.7747, -4.0243, -3.7057, -4.7592, -4.9472, -4.8421, -4.4566, -4.7301, -5.0229, -3.32, -4.9508, -4.0842, -5.1649, -5.5666, -5.5036, -5.6685, -5.678, -6.1234, -6.2034, -6.256, -6.2571, -6.3527, -6.4233, -6.4471, -6.4583, -6.5492, -6.6209, -6.6862, -6.6966, -6.7213, -6.741, -6.7745, -6.8059, -6.8084, -6.8139, -6.8309, -6.8732, -5.0401, -6.9133, -5.7512, -6.0236, -5.6578, -5.0099, -4.3202, -5.0452, -2.3623, -3.7368, -5.2113, -4.3005, -3.7476, -2.9338, -5.7027, -2.951, -5.2383, -5.8281, -5.2874, -4.5733, -3.7914, -4.3938, -3.8247, -5.1502, -4.7863, -4.2248, -3.766, -4.7163, -3.7722, -4.3332, -4.6235, -4.5428, -4.2859, -4.7472, -4.6766, -4.9204, -4.5698, -4.9267, -3.4106, -3.5042, -3.7706, -4.0234, -4.3511, -4.8464, -4.8104, -5.012, -5.1446, -5.0147, -5.2173, -5.5678, -5.7616, -5.7638, -5.8574, -5.8922, -5.893, -5.8988, -5.9258, -5.9268, -5.9881, -5.9895, -5.2788, -6.0203, -6.0366, -6.1163, -6.1267, -6.2526, -6.2631, -6.2863, -3.0782, -4.3229, -3.8581, -4.7028, -2.7405, -3.0869, -5.6658, -5.5409, -5.7694, -4.5083, -5.6013, -4.6582, -3.1574, -5.348, -5.1426, -3.2604, -5.0829, -4.3653, -4.4335, -4.9884, -3.7711, -3.9758, -4.3658, -4.4126, -4.7144, -4.801, -4.7916, -4.7701, -4.8923, -4.9678, -3.044, -4.9138, -4.1789, -5.3731, -5.5943, -5.7051, -5.8326, -5.9835, -5.9877, -6.129, -6.1822, -6.1924, -6.2117, -6.2446, -6.3692, -6.4115, -6.4163, -6.4287, -6.4518, -6.4703, -6.5197, -6.5431, -6.5511, -6.5567, -6.5597, -6.5883, -6.5972, -6.6305, -6.6512, -6.6543, -2.9559, -6.4383, -4.2757, -5.1488, -3.6342, -5.3094, -4.5877, -4.5965, -4.0818, -4.4688, -4.4235, -4.4811, -5.5455, -4.4031, -2.4656, -5.5303, -3.9208, -5.074, -4.9259, -5.2327, -4.93, -5.5255, -4.1442, -4.5042, -4.1692, -3.8891, -4.8644, -4.5898, -5.0309, -5.0396, -4.9636, -4.8474, -4.9877, -5.1169, -3.2845, -3.6104, -3.8765, -3.9079, -4.1819, -4.3384, -4.3399, -4.4763, -4.6622, -4.7109, -4.8747, -4.9083, -4.9796, -5.1784, -5.327, -5.3515, -5.3717, -5.4977, -5.5435, -5.6725, -5.7371, -5.8518, -5.8687, -5.9383, -5.9588, -6.0258, -6.0658, -6.093, -6.1047, -6.1263, -3.3922, -5.7928, -4.5349, -4.4615, -3.8794, -4.776, -5.5122, -2.649, -4.0097, -3.0694, -4.3161, -3.2397, -4.2723, -4.4283, -4.8017, -5.0535, -4.6082, -3.9787, -4.7671, -4.7394, -4.5785, -4.8885, -4.8684, -3.766, -3.8874, -4.3423, -4.3761, -4.4114, -4.5448, -4.5995, -4.9424, -5.0005, -5.1701, -5.1682, -5.2068, -5.2209, -5.2211, -5.2811, -5.3388, -5.3539, -5.3588, -5.4622, -5.4971, -5.524, -5.5278, -5.5419, -5.5778, -5.6109, -5.624, -5.6376, -5.6396, -5.6746, -5.7399, -5.4249, -4.6541, -1.7327, -3.0862, -4.1184, -4.6221, -3.782, -4.492, -5.361, -3.9867, -3.9582, -4.6957, -5.1137, -4.9157, -4.691, -4.249, -4.9812, -4.7214, -4.4811, -4.9733, -5.1501], \"loglift\": [30.0, 29.0, 28.0, 27.0, 26.0, 25.0, 24.0, 23.0, 22.0, 21.0, 20.0, 19.0, 18.0, 17.0, 16.0, 15.0, 14.0, 13.0, 12.0, 11.0, 10.0, 9.0, 8.0, 7.0, 6.0, 5.0, 4.0, 3.0, 2.0, 1.0, 1.9931, 1.993, 1.9927, 1.9922, 1.9918, 1.9916, 1.9916, 1.9915, 1.9914, 1.9914, 1.9913, 1.9913, 1.9906, 1.9903, 1.9901, 1.9901, 1.99, 1.9899, 1.9898, 1.9897, 1.9896, 1.9896, 1.9894, 1.9892, 1.9892, 1.9891, 1.989, 1.989, 1.9889, 1.9884, 1.9841, 1.9856, 1.9878, 1.9668, 1.9552, 1.9612, 1.9681, 1.9722, 1.9673, 1.9851, 1.9691, 1.8259, 1.7729, 1.8728, 1.9318, 1.8781, 1.7985, 1.8321, 1.527, 1.8304, 1.6309, 1.8102, 1.6127, 1.5711, 1.6208, 1.6448, 1.7177, 1.4974, 1.862, 1.5979, 1.5482, 1.5127, 1.7454, 1.5823, 1.1228, 1.4885, 1.1323, 1.4122, 1.4345, 0.9285, 1.568, 1.2361, 1.2297, 1.442, 1.2634, 1.3949, 0.9479, 1.0389, 0.8902, 0.4366, 1.2972, 1.2052, 0.8978, 0.9456, 0.1463, 0.548, 0.5803, 0.343, 0.0502, 0.997, 2.1221, 2.1217, 2.1215, 2.1213, 2.1209, 2.1186, 2.1182, 2.1178, 2.1171, 2.1169, 2.1169, 2.1163, 2.1162, 2.1155, 2.1152, 2.1152, 2.1149, 2.1143, 2.1142, 2.114, 2.114, 2.114, 2.1136, 2.1134, 2.1133, 2.1133, 2.1126, 2.1126, 2.1125, 2.1123, 2.068, 1.979, 1.6691, 2.0108, 1.6205, 1.7522, 1.8144, 1.6721, 1.5316, 1.7023, 1.9549, 1.9195, 1.5221, 1.5534, 1.7427, 1.371, 1.402, 1.4258, 1.7894, 1.6498, 1.2347, 1.1059, 1.3456, 1.1674, 0.9455, 1.2905, 1.0736, 1.3451, 1.1082, 0.7849, 0.7454, 1.1286, 1.1103, 1.0919, 0.9485, 0.7381, 0.9792, 0.8665, 0.5724, -0.2275, 2.6276, 2.6272, 2.6268, 2.6264, 2.6263, 2.6262, 2.6259, 2.6256, 2.6252, 2.625, 2.625, 2.625, 2.6248, 2.6246, 2.6242, 2.6241, 2.624, 2.6238, 2.6233, 2.6233, 2.6232, 2.6229, 2.6225, 2.6224, 2.6224, 2.6224, 2.6218, 2.6216, 2.6214, 2.6212, 2.621, 2.6137, 2.6186, 2.6058, 2.5803, 2.6157, 2.5202, 2.3135, 2.3676, 2.1651, 2.4155, 2.3079, 2.3809, 2.0384, 2.0997, 2.4074, 2.4132, 1.9804, 2.0738, 2.225, 1.8913, 2.2253, 2.0871, 2.2632, 2.3349, 2.1835, 1.9095, 1.9982, 1.4488, 1.8653, 0.8921, 1.3463, 0.9677, 0.9828, 0.5504, 1.0677, 1.1869, 0.4178, 1.0186, 0.2629, -0.1137, 2.6463, 2.6462, 2.6445, 2.6445, 2.6438, 2.6437, 2.6437, 2.6436, 2.6436, 2.6435, 2.6435, 2.6433, 2.6431, 2.643, 2.6427, 2.6427, 2.6427, 2.6426, 2.6426, 2.6425, 2.6424, 2.6424, 2.6421, 2.6419, 2.6418, 2.6418, 2.6415, 2.6412, 2.6411, 2.6409, 2.6381, 2.6148, 2.6248, 2.5791, 2.5165, 2.5378, 2.5972, 2.5879, 2.5124, 2.5769, 2.6202, 2.5122, 2.5254, 2.4454, 2.2078, 2.453, 2.4452, 2.5221, 2.2202, 2.5397, 2.162, 2.0712, 2.3887, 1.7178, 2.3392, 2.2478, 1.6502, 1.7634, 1.7791, 2.2015, 1.733, 1.7115, 1.2332, 1.2887, 0.8926, 1.6004, 1.1257, 0.4929, 1.3663, 0.104, 1.6351, 0.4614, 0.9755, 0.7904, -0.0904, 1.1289, 2.7189, 2.7188, 2.7185, 2.7184, 2.7174, 2.7174, 2.7171, 2.7169, 2.7164, 2.716, 2.7156, 2.7156, 2.7156, 2.7152, 2.7152, 2.7151, 2.7148, 2.7146, 2.7144, 2.7141, 2.7138, 2.7136, 2.7135, 2.7134, 2.7132, 2.7131, 2.7131, 2.7131, 2.7127, 2.7127, 2.7123, 2.6845, 2.707, 2.6701, 2.6984, 2.7076, 2.7082, 2.6344, 2.6787, 2.5996, 2.65, 2.6366, 2.6625, 2.5634, 2.5977, 2.6372, 2.6411, 2.4467, 2.2186, 2.5461, 2.5335, 2.2859, 2.3256, 2.3936, 2.4776, 2.1761, 1.9833, 2.4014, 2.3756, 1.8837, 1.928, 2.1295, 2.1117, 2.2303, 1.5602, 2.3755, 1.5912, 2.0164, 1.3528, 1.8173, 0.4618, 0.8591, 0.8165, 0.4919, 0.0762, 0.4194, 2.889, 2.8888, 2.8888, 2.8888, 2.8886, 2.8881, 2.8876, 2.8874, 2.8872, 2.8871, 2.887, 2.8867, 2.8861, 2.8858, 2.8858, 2.8856, 2.8854, 2.8854, 2.8853, 2.8853, 2.8852, 2.8847, 2.884, 2.8838, 2.8837, 2.8834, 2.8833, 2.8833, 2.8831, 2.8831, 2.8679, 2.8824, 2.8717, 2.8694, 2.8637, 2.876, 2.8597, 2.8532, 2.8664, 2.8269, 2.8214, 2.8193, 2.8354, 2.7922, 2.5997, 2.8242, 2.8214, 2.7935, 2.3674, 2.6612, 2.0847, 2.7019, 1.913, 1.5637, 1.7514, 1.9183, 1.8144, 1.5116, 1.3523, 1.7604, 1.646, 1.7372, 0.6955, 0.5695, 0.4745, 0.4082, 0.1957, 2.8972, 2.897, 2.897, 2.8967, 2.8965, 2.8964, 2.8964, 2.8964, 2.8961, 2.8959, 2.8959, 2.8958, 2.8958, 2.8957, 2.8957, 2.8956, 2.8954, 2.8954, 2.8953, 2.8952, 2.8952, 2.8951, 2.8951, 2.8951, 2.8951, 2.895, 2.895, 2.895, 2.8949, 2.8949, 2.8946, 2.8802, 2.8944, 2.8806, 2.8738, 2.8892, 2.6744, 2.8465, 2.8144, 2.8567, 2.6368, 2.7791, 2.7466, 2.5935, 2.5949, 2.5742, 2.8075, 2.1647, 2.4504, 2.7266, 2.4818, 2.4885, 2.6959, 2.4507, 1.9103, 1.8237, 2.1388, 1.6066, 2.063, 1.7002, 0.6478, 1.5775, 0.5806, 1.1667, 3.0113, 3.0113, 3.0111, 3.0109, 3.0108, 3.0108, 3.0107, 3.0104, 3.0104, 3.0103, 3.0102, 3.01, 3.01, 3.0099, 3.0099, 3.0098, 3.0095, 3.0094, 3.0093, 3.0092, 3.0089, 3.0088, 3.0088, 3.0087, 3.0087, 3.0087, 3.0086, 3.0086, 3.0085, 3.0085, 3.0079, 3.0048, 3.0063, 2.9225, 2.9946, 2.9712, 2.8232, 2.9884, 2.7142, 2.6362, 2.6576, 2.5451, 2.2975, 2.4583, 2.7397, 2.0317, 2.3764, 2.1253, 1.9834, 2.2096, 2.2199, 1.779, 1.4016, 1.035, 1.4622, 1.0484, 1.6078, 3.0745, 3.0744, 3.0742, 3.0738, 3.0731, 3.0731, 3.073, 3.0726, 3.0725, 3.0723, 3.0719, 3.0715, 3.0714, 3.0709, 3.0706, 3.0705, 3.0704, 3.0699, 3.0698, 3.0698, 3.0697, 3.0694, 3.0694, 3.0693, 3.0693, 3.069, 3.0689, 3.0685, 3.0684, 3.0683, 3.0594, 3.029, 3.0556, 2.9936, 2.9991, 2.9155, 2.7726, 2.8657, 2.9332, 2.7989, 3.0255, 3.0252, 2.8305, 2.8431, 2.7201, 2.6889, 2.7495, 2.6243, 2.8495, 2.712, 2.5503, 2.6145, 2.4216, 2.4547, 2.4621, 2.6017, 2.4808, 1.3887, 1.9369, 1.719, 1.9676, 1.5218, 2.1491, 2.1638, 1.315, 0.9117, 1.2676, 0.3477, 0.5975, 1.4648, 1.6515, 3.1088, 3.1081, 3.1081, 3.1079, 3.1077, 3.1075, 3.1073, 3.1072, 3.1069, 3.1068, 3.1067, 3.1064, 3.1062, 3.1061, 3.1061, 3.1058, 3.1056, 3.1056, 3.1055, 3.105, 3.1049, 3.1047, 3.1047, 3.1045, 3.1045, 3.1044, 3.1043, 3.1042, 3.1042, 3.1041, 3.0859, 3.1028, 3.0332, 3.0354, 3.0842, 2.9765, 2.9252, 2.9039, 2.938, 2.7378, 3.039, 2.6754, 2.9978, 2.9252, 2.7945, 3.0227, 2.7952, 3.0404, 1.9974, 1.7305, 2.2943, 1.8821, 1.9687, 2.427, 2.5562, 0.7448, 0.6723, 2.2296, 1.7303, 0.5562, 1.1582, 0.764, 0.5983, 1.6275, 0.8157, 1.1251, 0.0751, 3.1787, 3.1786, 3.1784, 3.1782, 3.1782, 3.1781, 3.1781, 3.1779, 3.1776, 3.1775, 3.1775, 3.1774, 3.1774, 3.1774, 3.1772, 3.1772, 3.177, 3.177, 3.177, 3.1768, 3.1765, 3.1763, 3.176, 3.176, 3.176, 3.176, 3.1759, 3.1759, 3.1757, 3.1755, 3.1705, 3.1607, 2.9203, 3.0651, 3.1087, 2.8884, 3.02, 3.0091, 3.0714, 2.7931, 2.5899, 2.6584, 1.9708, 1.5729, 1.7965, 2.1923, 1.3369, 2.0526, 1.615, 1.578, 1.3979, 1.8392, 1.5771, 1.7059, 0.4301, 3.2483, 3.2481, 3.2481, 3.248, 3.2478, 3.2477, 3.2475, 3.2474, 3.2473, 3.2472, 3.2472, 3.2471, 3.2471, 3.2471, 3.247, 3.2468, 3.2467, 3.2467, 3.2466, 3.2461, 3.246, 3.246, 3.2459, 3.2459, 3.2459, 3.2457, 3.2457, 3.2456, 3.2456, 3.2455, 3.2446, 3.2442, 3.207, 3.2041, 3.2016, 2.8148, 2.9411, 2.995, 2.988, 2.8075, 2.9765, 2.3581, 2.487, 2.9503, 2.1649, 2.5536, 2.4191, 1.4804, 1.2741, 1.7882, 1.1844, 1.1125, 0.648, 1.3211, 2.6902, 1.1474, 1.7878, 0.7306, 1.3662, 3.4774, 3.4769, 3.4764, 3.476, 3.4757, 3.4754, 3.4753, 3.4753, 3.4753, 3.4748, 3.4747, 3.4747, 3.4746, 3.4744, 3.4744, 3.4741, 3.4741, 3.4741, 3.4739, 3.4737, 3.4737, 3.4736, 3.4733, 3.4729, 3.4726, 3.4726, 3.4722, 3.4721, 3.4721, 3.4718, 3.4657, 3.4533, 3.4587, 3.4709, 3.4508, 3.46, 3.447, 3.3502, 3.4162, 3.3687, 3.3819, 3.3316, 3.3645, 3.1457, 3.2691, 3.1638, 2.8948, 3.3408, 2.801, 3.105, 3.1504, 2.8599, 2.8107, 3.2288, 2.8679, 2.8193, 2.0264, 2.339, 2.0888, 2.0685, 2.1033, 2.0833, 0.4854, 2.8554, 1.695, 1.2697, 1.6076, 1.044, 3.4854, 3.4852, 3.4848, 3.4848, 3.4847, 3.4845, 3.4845, 3.484, 3.4836, 3.4835, 3.4833, 3.4831, 3.4825, 3.4823, 3.4823, 3.4822, 3.4822, 3.4821, 3.4821, 3.482, 3.4819, 3.4816, 3.4811, 3.481, 3.4809, 3.4809, 3.4807, 3.4806, 3.4803, 3.4803, 3.4763, 3.4738, 3.4231, 3.4275, 3.4546, 3.3529, 3.4392, 3.3993, 3.2884, 3.1447, 3.337, 3.0948, 3.2393, 3.0723, 3.2495, 3.0514, 3.1055, 3.2439, 2.633, 3.0719, 2.6302, 2.6408, 2.9639, 2.5255, 1.3979, 2.4007, 1.9247, 1.2504, 1.6927, 2.7801, 3.545, 3.5439, 3.5437, 3.5436, 3.5435, 3.5433, 3.5431, 3.543, 3.543, 3.543, 3.5419, 3.5418, 3.5414, 3.5413, 3.5411, 3.541, 3.5405, 3.5398, 3.5398, 3.5397, 3.5395, 3.5394, 3.5393, 3.5392, 3.5391, 3.5385, 3.5383, 3.5379, 3.5377, 3.5375, 3.5375, 3.4928, 3.4961, 3.4166, 3.4458, 3.4877, 3.4412, 3.445, 3.1996, 3.3835, 3.2274, 3.0937, 3.3862, 3.3806, 3.3023, 3.2453, 3.0412, 3.2493, 2.9114, 2.9576, 3.2464, 3.2277, 2.8096, 2.6152, 2.1667, 2.01, 2.659, 1.8468, 1.9698, 1.4309, 2.5148, 2.8871, 2.5914, 1.3025, 1.3425, 1.2469, 3.6488, 3.6478, 3.6472, 3.6467, 3.6467, 3.6466, 3.6464, 3.6464, 3.645, 3.6446, 3.6444, 3.6444, 3.6439, 3.6436, 3.6434, 3.6434, 3.6428, 3.6424, 3.6419, 3.6418, 3.6417, 3.6415, 3.6413, 3.641, 3.641, 3.641, 3.6408, 3.6405, 3.6402, 3.6401, 3.6401, 3.6378, 3.6252, 3.599, 3.5619, 3.5782, 3.4562, 3.504, 3.5757, 3.4681, 3.4167, 3.2861, 3.5515, 3.236, 3.4754, 3.5521, 3.458, 3.3279, 3.1342, 3.2558, 2.9136, 3.325, 3.1952, 2.8973, 2.6754, 3.0216, 2.2219, 2.5058, 2.7224, 2.4947, 2.0413, 2.519, 2.2629, 2.7007, 0.5664, 2.1481, 3.65, 3.65, 3.6499, 3.6498, 3.6496, 3.6491, 3.6489, 3.6489, 3.6487, 3.6487, 3.6486, 3.6479, 3.6474, 3.6474, 3.6472, 3.647, 3.647, 3.647, 3.6469, 3.6469, 3.6467, 3.6467, 3.6467, 3.6466, 3.6465, 3.6462, 3.6462, 3.6456, 3.6456, 3.6455, 3.5698, 3.5508, 3.5226, 3.5521, 3.2408, 3.2319, 3.5853, 3.5482, 3.5937, 3.1798, 3.5303, 3.039, 2.2539, 3.372, 3.214, 1.986, 3.1521, 2.6007, 2.492, 2.9675, 1.6475, 1.6456, 2.0756, 1.8073, 2.3604, 2.545, 2.229, 1.9968, 2.3816, 1.5928, 3.666, 3.665, 3.6649, 3.6643, 3.6638, 3.6635, 3.6631, 3.6626, 3.6626, 3.6621, 3.6619, 3.6618, 3.6617, 3.6616, 3.661, 3.6607, 3.6607, 3.6606, 3.6605, 3.6604, 3.6601, 3.66, 3.6599, 3.6599, 3.6599, 3.6597, 3.6596, 3.6594, 3.6592, 3.6592, 3.6526, 3.6578, 3.622, 3.6393, 3.6054, 3.6346, 3.5991, 3.5462, 3.4554, 3.4087, 3.3947, 3.393, 3.5319, 3.3117, 2.9457, 3.487, 3.1287, 3.363, 3.1065, 3.1825, 3.0159, 3.3087, 2.4112, 2.6486, 2.1009, 1.5713, 2.3356, 1.857, 2.3859, 2.3064, 1.8904, 1.3065, 0.6338, 0.5947, 3.7943, 3.7942, 3.7941, 3.7941, 3.7939, 3.7938, 3.7938, 3.7937, 3.7935, 3.7934, 3.7932, 3.7932, 3.7931, 3.7927, 3.7925, 3.7924, 3.7924, 3.7921, 3.7919, 3.7916, 3.7914, 3.791, 3.7909, 3.7907, 3.7906, 3.7903, 3.7901, 3.79, 3.79, 3.7899, 3.7805, 3.7853, 3.732, 3.7273, 3.7023, 3.7236, 3.7519, 3.4053, 3.4351, 3.2181, 3.3961, 2.822, 3.0635, 2.9746, 3.1783, 3.2815, 2.361, 0.9641, 2.5765, 2.4732, 1.8483, 2.8656, 1.2043, 4.3171, 4.317, 4.3166, 4.3165, 4.3165, 4.3163, 4.3162, 4.3155, 4.3153, 4.3148, 4.3148, 4.3147, 4.3147, 4.3147, 4.3145, 4.3143, 4.3142, 4.3142, 4.3138, 4.3137, 4.3136, 4.3135, 4.3135, 4.3133, 4.3132, 4.3131, 4.313, 4.313, 4.3128, 4.3125, 4.3124, 4.2927, 4.1768, 4.0953, 4.1549, 4.1639, 3.9477, 4.0661, 4.2646, 3.7842, 3.6963, 3.9734, 4.1266, 3.9639, 3.672, 2.6417, 3.6103, 2.9801, 1.5916, 2.8505, 3.1735]}, \"token.table\": {\"Topic\": [1, 2, 3, 4, 5, 6, 7, 9, 12, 13, 14, 16, 4, 3, 14, 17, 1, 2, 3, 4, 5, 6, 9, 10, 11, 12, 13, 14, 16, 1, 2, 5, 6, 7, 4, 6, 14, 1, 2, 4, 5, 6, 9, 12, 18, 20, 9, 6, 5, 15, 4, 11, 11, 19, 4, 9, 1, 2, 3, 4, 5, 6, 7, 8, 9, 10, 11, 12, 14, 15, 16, 17, 18, 19, 20, 10, 13, 4, 5, 6, 13, 14, 6, 10, 1, 3, 5, 6, 9, 17, 20, 4, 17, 1, 12, 13, 7, 12, 13, 13, 13, 1, 2, 3, 4, 5, 6, 7, 8, 9, 10, 12, 13, 14, 15, 16, 19, 20, 8, 11, 11, 17, 18, 2, 7, 7, 1, 2, 3, 4, 5, 6, 9, 10, 12, 13, 14, 16, 18, 19, 20, 10, 11, 14, 1, 2, 3, 4, 6, 9, 10, 11, 14, 16, 17, 20, 11, 4, 6, 7, 9, 11, 16, 4, 16, 9, 4, 20, 1, 2, 4, 6, 8, 9, 10, 11, 13, 14, 15, 16, 18, 4, 1, 2, 3, 6, 7, 12, 20, 1, 4, 6, 19, 6, 10, 18, 3, 3, 8, 1, 12, 20, 12, 1, 2, 5, 12, 13, 11, 20, 1, 2, 3, 6, 10, 16, 20, 19, 19, 6, 6, 1, 4, 12, 8, 9, 17, 3, 4, 10, 18, 2, 10, 5, 7, 11, 16, 17, 17, 6, 10, 6, 14, 6, 6, 14, 5, 6, 10, 12, 16, 18, 6, 10, 6, 15, 3, 3, 1, 5, 6, 10, 20, 8, 4, 19, 1, 4, 7, 11, 4, 7, 11, 10, 9, 3, 14, 15, 2, 1, 1, 1, 2, 3, 5, 6, 16, 18, 20, 1, 2, 3, 5, 6, 12, 13, 16, 18, 20, 8, 1, 8, 9, 10, 13, 18, 19, 8, 15, 1, 4, 7, 8, 9, 12, 13, 8, 11, 7, 11, 16, 8, 17, 3, 4, 7, 20, 18, 3, 7, 10, 16, 17, 6, 12, 18, 3, 5, 11, 15, 12, 6, 9, 10, 11, 19, 7, 8, 11, 17, 7, 1, 4, 7, 8, 11, 17, 1, 5, 7, 15, 19, 4, 14, 6, 7, 9, 10, 14, 16, 17, 12, 13, 17, 1, 4, 8, 9, 10, 11, 16, 19, 9, 7, 9, 11, 15, 4, 5, 10, 12, 13, 17, 1, 6, 9, 10, 15, 1, 2, 3, 4, 5, 6, 7, 8, 9, 10, 12, 14, 18, 4, 17, 18, 7, 8, 3, 19, 11, 13, 5, 11, 5, 1, 2, 3, 4, 5, 6, 7, 9, 11, 12, 13, 16, 18, 19, 20, 10, 13, 20, 14, 1, 5, 7, 11, 18, 20, 10, 15, 5, 7, 7, 11, 9, 4, 10, 10, 1, 2, 3, 4, 5, 6, 7, 8, 9, 10, 11, 12, 14, 15, 16, 19, 5, 12, 6, 5, 10, 8, 14, 15, 19, 3, 5, 7, 8, 11, 13, 15, 18, 7, 9, 15, 16, 17, 2, 13, 1, 16, 17, 7, 5, 1, 3, 5, 6, 7, 11, 12, 15, 16, 5, 7, 9, 11, 15, 16, 17, 18, 6, 14, 1, 12, 19, 2, 8, 8, 10, 15, 1, 2, 3, 4, 5, 6, 7, 8, 10, 11, 12, 13, 15, 16, 17, 19, 5, 1, 3, 5, 13, 20, 7, 11, 5, 4, 6, 10, 11, 15, 2, 5, 8, 9, 10, 13, 15, 19, 19, 19, 1, 2, 3, 4, 5, 9, 11, 14, 15, 16, 19, 20, 1, 2, 3, 4, 8, 11, 12, 18, 19, 1, 2, 3, 4, 8, 11, 12, 18, 15, 18, 20, 1, 3, 18, 6, 8, 9, 10, 14, 3, 4, 6, 8, 9, 10, 14, 15, 19, 10, 14, 4, 9, 10, 14, 14, 14, 5, 14, 1, 5, 3, 4, 5, 8, 9, 10, 17, 18, 12, 18, 5, 13, 19, 3, 4, 5, 7, 8, 9, 10, 11, 15, 16, 17, 19, 3, 7, 11, 14, 1, 2, 3, 4, 6, 9, 10, 14, 15, 16, 3, 6, 9, 17, 10, 19, 1, 2, 3, 4, 6, 8, 9, 12, 13, 14, 18, 19, 20, 10, 14, 1, 2, 3, 4, 5, 6, 9, 11, 12, 13, 14, 19, 2, 5, 7, 11, 12, 13, 12, 5, 12, 16, 8, 8, 12, 1, 12, 13, 4, 11, 13, 2, 3, 4, 5, 6, 7, 8, 9, 11, 12, 14, 15, 16, 17, 19, 16, 6, 14, 5, 20, 1, 2, 16, 17, 7, 9, 16, 17, 2, 2, 13, 4, 10, 3, 6, 15, 8, 12, 1, 2, 3, 4, 5, 6, 7, 8, 10, 11, 12, 13, 14, 17, 5, 6, 14, 15, 2, 2, 15, 15, 3, 7, 14, 14, 15, 15, 15, 5, 6, 15, 1, 2, 5, 6, 9, 13, 14, 15, 19, 4, 5, 6, 14, 3, 5, 3, 15, 4, 8, 11, 4, 13, 7, 1, 8, 10, 7, 18, 17, 2, 3, 4, 5, 6, 7, 8, 9, 10, 11, 13, 14, 15, 17, 19, 4, 20, 3, 9, 19, 2, 5, 3, 15, 1, 8, 9, 13, 4, 9, 11, 17, 2, 15, 5, 7, 1, 3, 5, 7, 20, 16, 1, 2, 3, 5, 6, 9, 12, 16, 18, 20, 1, 2, 3, 4, 5, 6, 7, 9, 10, 12, 13, 14, 18, 19, 20, 1, 6, 15, 8, 9, 10, 18, 8, 9, 19, 1, 13, 4, 7, 9, 11, 2, 4, 5, 6, 7, 8, 9, 10, 11, 13, 15, 16, 3, 8, 12, 12, 1, 7, 17, 6, 9, 4, 10, 16, 16, 14, 20, 16, 17, 18, 6, 10, 14, 3, 12, 4, 9, 10, 9, 11, 16, 11, 11, 20, 5, 15, 12, 12, 8, 10, 19, 11, 8, 12, 20, 2, 5, 7, 12, 15, 16, 17, 18, 4, 6, 15, 5, 3, 5, 10, 17, 10, 11, 17, 1, 2, 3, 4, 5, 6, 7, 8, 9, 10, 12, 15, 16, 17, 18, 19, 20, 12, 3, 5, 20, 15, 1, 2, 6, 8, 9, 10, 14, 18, 8, 10, 17, 3, 4, 5, 8, 9, 10, 11, 12, 14, 15, 17, 19, 16, 16, 16, 1, 4, 1, 2, 3, 4, 5, 6, 7, 9, 10, 12, 16, 18, 19, 4, 11, 15, 16, 17, 18, 1, 2, 3, 4, 5, 6, 7, 8, 9, 10, 11, 12, 13, 14, 17, 18, 19, 20, 8, 15, 3, 4, 5, 11, 4, 8, 9, 3, 1, 6, 9, 4, 5, 6, 8, 9, 18, 18, 6, 14, 18, 3, 5, 18, 9, 3, 4, 5, 8, 9, 10, 20, 1, 6, 9, 17, 3, 14, 15, 3, 4, 7, 8, 11, 14, 15, 17, 18, 1, 8, 14, 17, 1, 2, 9, 12, 19, 7, 17, 20, 3, 5, 15, 1, 2, 3, 4, 5, 6, 7, 8, 9, 11, 12, 13, 14, 16, 18, 20, 1, 2, 4, 5, 8, 9, 10, 11, 13, 14, 17, 19, 3, 1, 2, 3, 5, 8, 11, 12, 13, 14, 16, 19, 1, 2, 3, 4, 5, 6, 8, 9, 11, 12, 13, 14, 16, 17, 18, 20, 11, 4, 6, 3, 5, 13, 17, 4, 7, 11, 18, 8, 9, 11, 2, 3, 4, 5, 6, 7, 8, 9, 10, 11, 12, 13, 14, 15, 17, 18, 19, 20, 7, 3, 7, 16, 5, 6, 1, 6, 15, 2, 13, 10, 11, 2, 5, 7, 8, 14, 17, 1, 3, 4, 6, 9, 16, 20, 2, 3, 4, 5, 6, 7, 8, 12, 15, 16, 17, 18, 1, 10, 13, 3, 13, 8, 12, 13, 13, 9, 5, 1, 2, 3, 4, 5, 6, 7, 8, 9, 10, 11, 12, 13, 14, 15, 16, 17, 18, 19, 20, 16, 3, 3, 3, 3, 1, 2, 3, 4, 5, 6, 8, 9, 10, 11, 12, 13, 14, 16, 17, 19, 3, 19, 8, 9, 10, 16, 19, 14, 13, 4, 10, 10, 1, 2, 3, 4, 6, 12, 13, 15, 16, 18, 19, 20, 1, 4, 6, 9, 10, 11, 17, 19, 13, 11, 19, 2, 8, 13, 20, 11, 13, 7, 15, 4, 5, 6, 8, 9, 11, 14, 15, 16, 19, 20, 2, 5, 19, 9, 17, 16, 8, 16, 9, 13, 14, 5, 16, 18, 1, 4, 5, 6, 7, 10, 12, 16, 18, 8, 9, 10, 11, 16, 17, 20, 13, 1, 1, 7, 11, 1, 3, 4, 7, 8, 10, 11, 13, 14, 16, 9, 17, 16, 15, 11, 15, 20, 19, 8, 9, 10, 17, 15, 16, 4, 10, 14, 1, 2, 3, 4, 5, 6, 7, 8, 9, 10, 12, 13, 14, 16, 18, 19, 16, 17, 7, 9, 10, 16, 17, 6, 10, 11, 15, 16, 10, 10, 4, 5, 6, 7, 11, 15, 17, 19, 5, 6, 5, 7, 9, 15, 7, 7, 8, 8, 1, 3, 6, 7, 11, 12, 2, 3, 7, 8, 10, 11, 15, 1, 2, 3, 5, 6, 8, 9, 10, 11, 12, 13, 16, 17, 18, 19, 2, 5, 10, 13, 17, 7, 20, 14, 10, 16, 5, 2, 4, 5, 6, 7, 8, 10, 12, 13, 15, 16, 17, 18, 5, 8, 8, 9, 19, 8, 9, 8, 9, 9, 8, 9, 1, 2, 3, 5, 6, 7, 8, 9, 13, 14, 18, 19, 3, 5, 7, 11, 12, 3, 5, 12, 13, 20, 2, 11, 14, 1, 2, 5, 12, 1, 12, 18, 1, 3, 6, 9, 20, 1, 3, 4, 10, 11, 13, 14, 18, 19, 18, 4, 7, 11, 14, 1, 4, 7, 9, 20, 4, 8, 3, 5, 10, 1, 3, 4, 5, 6, 8, 9, 11, 13, 14, 17, 19, 3, 5, 7, 11, 15, 20, 15, 12, 3, 13, 11, 16, 1, 3, 11, 13, 14, 18, 6, 7, 9, 16, 17, 18, 3, 11, 14, 11, 19, 14, 15, 11, 19, 18, 14, 2, 1, 6, 18, 19, 5, 16, 3, 5, 8, 8, 17, 6, 17, 13, 13, 6, 16, 8, 13, 5, 10, 15, 19, 7, 9, 16, 4, 18, 14, 4, 1, 2, 3, 4, 5, 6, 7, 9, 10, 12, 13, 14, 15, 16, 17, 18, 19, 20, 7, 8, 11, 15, 11, 1, 10, 16, 18, 3, 5, 1, 11, 11, 11, 10, 1, 4, 7, 12, 13, 18, 18, 13, 1, 2, 5, 7, 11, 15, 18, 5, 8, 13, 3, 5, 7, 10, 11, 12, 13, 17, 1, 2, 3, 4, 5, 6, 7, 9, 10, 12, 14, 15, 18, 19, 16, 17, 8, 9, 1, 4, 8, 11, 12, 4, 1, 2, 3, 4, 5, 6, 7, 8, 9, 10, 11, 12, 13, 14, 15, 16, 17, 18, 19, 20, 1, 6, 2, 3, 4, 5, 7, 8, 9, 10, 11, 12, 13, 15, 11, 1, 2, 4, 6, 7, 8, 9, 10, 11, 13, 16, 17, 18, 20, 5, 6, 20, 2, 3, 5, 9, 11, 12, 13, 20, 14, 16, 11, 4, 8, 1, 2, 3, 4, 5, 6, 8, 9, 10, 13, 14, 16, 17, 3, 16, 10, 2, 8, 9, 14, 15, 19, 10, 10, 14, 1, 2, 3, 4, 5, 6, 7, 9, 10, 11, 13, 14, 16, 17, 7, 9, 4, 5, 8, 9, 10, 11, 14, 9, 6, 1, 2, 3, 5, 6, 7, 9, 11, 12, 13, 14, 1, 2, 4, 5, 6, 13, 15, 16, 20, 1, 2, 3, 4, 5, 11, 12, 17, 18, 1, 2, 3, 4, 5, 6, 7, 9, 13, 16, 1, 18, 10, 1, 8, 9, 13, 4, 10, 1, 2, 3, 4, 7, 8, 9, 10, 11, 12, 13, 14, 16, 18, 19, 1, 2, 3, 4, 5, 6, 7, 8, 9, 10, 11, 12, 13, 14, 15, 16, 18, 19, 20, 13, 1, 2, 3, 4, 5, 6, 9, 10, 13, 15, 18, 19, 1, 2, 5, 7, 11, 12, 3, 7, 11, 15, 2, 8, 5, 10, 13, 19, 2, 5, 8, 10, 11, 12, 13, 16, 18, 8, 12, 19, 5, 7, 13, 15, 7, 13, 8, 13, 8, 16, 6, 13, 9, 11, 19, 19, 3, 4, 5, 10, 14, 15, 6, 11, 15, 16, 19, 2, 3, 4, 5, 6, 7, 9, 10, 11, 12, 17, 20, 1, 2, 3, 4, 6, 9, 10, 14, 15, 1, 2, 3, 4, 5, 6, 13, 14, 18, 20, 6, 15, 1, 7, 11, 12, 15, 17, 18, 12, 15, 3, 10, 17, 6, 12, 15, 20, 6, 8, 10, 14, 16, 18, 18, 6, 17, 1, 15, 9, 17, 17, 4, 5, 8, 10, 14, 4, 4, 1, 2, 3, 4, 5, 6, 7, 9, 11, 12, 13, 15, 16, 17, 2, 18, 3, 6, 14, 3, 5, 3, 13, 10, 5, 15, 5, 5, 20, 2, 3, 4, 5, 6, 8, 9, 10, 11, 14, 15, 16, 17, 19, 20, 20, 17, 17, 17, 1, 2, 3, 4, 5, 6, 7, 8, 9, 10, 11, 13, 14, 15, 16, 18, 19, 3, 5, 20, 1, 3, 4, 6, 9, 10, 14, 16, 1, 13, 14, 4, 1, 2, 3, 4, 5, 6, 7, 8, 9, 10, 11, 12, 13, 14, 15, 16, 19, 20, 17, 10, 18, 4, 7, 18, 15, 8, 4, 2, 8, 8, 18, 20, 4, 10, 20, 7, 10, 9, 3, 4, 5, 11, 17, 5, 8, 10, 12, 1, 2, 4, 5, 7, 12, 13, 18, 2, 8, 6, 3, 7, 12, 4, 1, 2, 3, 5, 6, 7, 8, 13, 15, 17, 18, 6, 1, 4, 12, 20, 18, 18, 10, 14, 10, 11, 1, 2, 3, 4, 5, 6, 7, 9, 10, 12, 14, 15, 16, 18, 19, 20, 18, 12, 18, 1, 6, 1, 2, 4, 5, 6, 8, 9, 10, 12, 13, 15, 16, 17, 19, 15, 1, 2, 3, 5, 6, 9, 12, 13, 16, 18, 19, 20, 5, 10, 11, 1, 2, 3, 4, 5, 7, 8, 10, 11, 12, 13, 15, 17, 19, 3, 7, 11, 6, 1, 8, 9, 10, 11, 12, 14, 6, 7, 9, 10, 11, 13, 16, 17, 2, 2, 3, 5, 7, 11, 18, 16, 4, 5, 6, 10, 12, 14, 20, 1, 13, 6, 6, 10, 2, 4, 8, 9, 10, 3, 14, 18, 6, 2, 13, 20, 20, 5, 1, 2, 5, 6, 17, 18, 1, 5, 1, 4, 6, 9, 14, 5, 8, 6, 10, 15, 16, 4, 8, 11, 13, 8, 5, 7, 5, 9, 8, 8, 16, 17, 19, 16, 19, 10, 15, 1, 1, 2, 3, 4, 5, 6, 7, 9, 10, 12, 13, 18, 19, 2, 7, 11, 12, 13, 18, 4, 11, 19, 19, 1, 2, 3, 4, 6, 10, 1, 18, 10, 14, 12, 17, 5, 7, 11, 12, 13, 17, 18, 1, 2, 3, 4, 5, 6, 7, 9, 10, 12, 13, 16, 17, 18, 19, 20, 1, 2, 3, 4, 5, 6, 10, 15, 16, 17, 10, 1, 1, 3, 6, 18, 20, 5, 6, 1, 5, 19, 2, 7, 8, 10, 13, 4, 12, 13, 3, 11, 3, 20, 1, 2, 3, 4, 5, 6, 7, 8, 9, 10, 11, 12, 13, 14, 15, 16, 17, 18, 19, 20, 1, 2, 4, 6, 8, 9, 11, 13, 14, 1, 4, 5, 6, 19, 20, 3, 4, 8, 13, 1, 1, 2, 12, 1, 2, 4, 6, 8, 9, 11, 16, 19, 19, 10, 15, 3, 4, 5, 6, 15, 16, 19, 20, 3, 6, 11, 1, 4, 10, 14, 7, 8, 16, 18, 3, 10, 14, 12, 3, 11, 4, 4, 2, 4, 5, 7, 12, 14, 19, 7, 8, 17, 5, 2, 8, 5, 6, 14, 1, 2, 3, 4, 5, 6, 9, 10, 12, 14, 15, 16, 18, 19, 20, 2, 3, 7, 20, 9, 19, 7, 9, 9, 13, 1, 12, 13, 16, 2, 5, 7, 8, 12, 13, 15, 20, 20, 9, 8, 9, 2, 11, 17, 9, 18, 1, 2, 3, 4, 5, 6, 8, 10, 12, 13, 14, 3, 1, 3, 4, 12, 13, 16, 20, 1, 2, 3, 4, 5, 6, 9, 12, 13, 16, 18, 20, 1, 5, 6, 8, 9, 13, 14, 7, 7, 18, 18, 11, 4, 7, 11, 9, 1, 9, 3, 4, 5, 10, 15, 1, 11, 19, 9, 17, 5, 10, 18, 2, 18, 7, 10, 16, 1, 4, 7, 8, 9, 11, 19, 1, 2, 4, 14, 19, 18, 18, 19, 19, 17, 3, 6, 10, 14, 1, 3, 6, 10, 14, 17, 16, 6, 1, 2, 3, 4, 5, 6, 7, 8, 9, 10, 11, 12, 13, 16, 17, 20, 17, 2, 3, 4, 5, 6, 7, 8, 10, 11, 12, 14, 16, 18, 20, 16, 20, 19, 1, 2, 3, 4, 5, 6, 7, 8, 9, 10, 11, 12, 15, 16, 18, 20, 6, 2, 5, 8, 9, 10, 14, 15, 7, 7, 6, 9, 17, 18, 6, 5, 7, 5, 16, 15, 9, 9, 1, 2, 3, 4, 5, 6, 8, 9, 10, 11, 13, 14, 15, 16, 18, 19, 16, 1, 2, 4, 8, 9, 10, 13, 14, 16, 9, 5, 8, 9, 3, 11, 10, 19, 18, 5, 11, 14, 15, 8, 3, 6, 18, 19, 12, 20, 4, 7, 9, 11, 2, 8, 10, 16, 17, 7, 11, 17, 9, 11, 20, 2, 14, 15, 6, 4, 6, 11, 14, 10, 1, 2, 3, 4, 5, 6, 7, 9, 10, 12, 14, 16, 18, 19, 13, 4, 5, 9, 6, 7, 10, 14, 1, 3, 6, 12, 13, 18, 20, 17, 12, 3, 1, 2, 4, 5, 6, 8, 9, 10, 14, 16, 19, 3, 4, 6, 11, 14, 14, 4, 6, 10, 15, 1, 2, 3, 4, 5, 6, 7, 8, 9, 10, 11, 12, 13, 14, 15, 16, 17, 19, 20, 2, 3, 4, 5, 6, 7, 8, 9, 10, 11, 15, 19, 8, 10, 19, 16, 7, 2, 20, 12, 3, 1, 6, 8, 9, 10, 5, 7, 8, 11, 12, 13, 17, 12, 13, 2, 3, 19, 14, 14, 1, 2, 3, 4, 5, 6, 7, 9, 10, 13, 14, 16, 18, 19, 20, 1, 2, 3, 4, 5, 6, 7, 9, 10, 13, 15, 16, 18, 18, 1, 2, 20, 20, 5, 7, 13, 7, 15, 16, 17, 2, 2, 8, 10, 20, 6, 14, 19, 14, 11, 14, 19, 5, 6, 14, 1, 7, 8, 11, 16, 17, 10, 14, 14, 1, 4, 12, 13, 14, 19, 1, 2, 3, 4, 6, 7, 8, 9, 10, 11, 12, 13, 14, 15, 17, 18, 19, 1, 3, 4, 5, 6, 7, 9, 11, 14, 15, 17, 18, 3, 7, 13, 5, 13, 12, 13, 8, 15, 1, 4, 5, 7, 10, 15, 17, 18, 7, 5, 7, 10, 12, 4, 10, 14, 17, 17, 3, 5, 10, 11, 13, 12, 2, 11, 2, 5, 7, 11, 15, 16, 18, 16, 17, 2, 3, 5, 9, 10, 18, 19, 20, 15, 17, 5, 12, 11, 14, 1, 2, 4, 5, 6, 8, 9, 10, 11, 14, 16, 17, 19, 20, 7, 8, 19, 12, 4, 7, 13, 4, 12, 13, 20, 18, 1, 2, 5, 12, 16, 4, 5, 8, 1, 2, 3, 4, 6, 8, 9, 10, 13, 14, 19, 4, 11, 5, 17, 7, 7, 11, 16, 19, 1, 6, 20, 8, 1, 4, 7, 8, 9, 11, 17, 19, 2, 3, 4, 6, 9, 14, 14, 17, 2, 3, 6, 9, 12, 15, 16, 17, 6, 8, 1, 2, 13, 15, 16, 18, 20, 3, 4, 8, 12, 14, 16, 1, 3, 6, 10, 12, 16, 2, 4, 5, 7, 8, 10, 11, 15, 16, 17, 15, 15, 7, 11, 8, 2, 5, 1, 2, 3, 4, 5, 6, 7, 8, 9, 10, 11, 12, 13, 14, 15, 16, 17, 20, 1, 1, 2, 3, 4, 5, 6, 7, 9, 10, 12, 13, 14, 16, 18, 19, 1, 3, 4, 2, 11, 3, 4, 5, 4, 15, 16, 20, 1, 2, 3, 4, 5, 6, 7, 9, 12, 13, 14, 15, 16, 18, 2, 1, 4, 7, 5, 6, 15, 6, 20, 5, 7, 10, 11, 15, 16, 17, 18, 13, 8, 15, 11, 6, 5, 14, 11, 1, 2, 4, 5, 7, 8, 9, 11, 17, 3, 5, 10, 2, 7, 8, 11, 13, 12, 17, 4, 11, 8, 1, 8, 12, 20, 3, 20, 4, 14, 18, 19, 2, 4, 5, 7, 8, 9, 10, 11, 12, 15, 16, 17, 18, 3, 4, 5, 6, 7, 8, 10, 11, 15, 18, 1, 2, 3, 4, 5, 8, 9, 10, 11, 12, 14, 18, 19, 1, 2, 3, 4, 5, 6, 7, 8, 9, 10, 11, 12, 13, 14, 15, 16, 17, 18, 19, 20, 5, 10, 1, 2, 3, 4, 5, 6, 7, 8, 9, 10, 12, 14, 15, 16, 17, 18, 19, 12, 3, 18, 14, 4, 6, 7, 11, 15, 16, 17, 18, 19, 4, 7, 7, 12, 7, 7, 16, 17, 2, 2, 5, 5, 10, 5, 13, 3, 16, 12, 1, 2, 4, 5, 6, 7, 8, 9, 10, 12, 13, 15, 16, 18, 19, 20, 8, 3, 6, 10, 11, 6, 10, 10, 4, 1, 2, 3, 4, 5, 6, 8, 9, 10, 11, 12, 14, 15, 16, 17, 18, 19, 20, 1, 2, 3, 4, 5, 6, 7, 8, 9, 10, 12, 13, 14, 15, 16, 18, 19, 1, 2, 4, 5, 6, 8, 9, 10, 11, 13, 14, 16, 18, 5, 6, 6, 10, 14, 15, 1, 2, 3, 4, 5, 6, 7, 8, 9, 10, 11, 12, 13, 14, 15, 16, 17, 18, 19, 20, 8, 6, 5, 10, 11, 3, 10, 11, 15, 20, 9, 5, 12, 6, 14, 2, 3, 4, 5, 7, 10, 11, 12, 13, 14, 15, 20, 3, 5, 6, 7, 8, 10, 16, 17, 18, 5, 2, 3, 5, 8, 10, 12, 13, 20, 12, 12, 1, 2, 4, 5, 8, 9, 10, 11, 12, 14, 16, 19, 12, 17, 3, 4, 6, 7, 9, 11, 15, 17, 7, 11, 19, 8, 2, 9, 3, 7, 11, 12, 2, 5, 17, 3, 4, 18, 1, 2, 3, 4, 5, 6, 7, 8, 9, 10, 11, 12, 15, 16, 17, 18, 19, 20, 4, 8, 9, 2, 1, 2, 3, 4, 5, 6, 8, 9, 10, 12, 13, 15, 16, 18, 19, 20, 4, 6, 9, 10, 14, 16, 17, 9, 16, 14, 4, 11, 1, 2, 3, 4, 5, 6, 8, 9, 12, 14, 16, 18, 19, 20, 7, 11, 11, 7, 11, 2, 4, 9, 1, 2, 4, 9, 10, 13, 15, 16, 2, 5, 12, 13, 1, 2, 3, 4, 5, 6, 7, 8, 9, 10, 11, 12, 13, 15, 16, 17, 18, 19, 20, 3, 10, 18, 1, 1, 2, 1, 2, 3, 4, 5, 6, 7, 9, 10, 12, 13, 14, 16, 18, 19, 20, 15, 1, 2, 3, 7, 8, 11, 12, 16, 18, 20, 1, 2, 3, 4, 5, 6, 8, 10, 12, 13, 14, 15, 16, 17, 3, 4, 6, 10, 10, 15, 9, 4, 9, 20, 17, 3, 5, 10, 11, 14, 12, 20, 14, 16, 16, 13, 12, 15, 6, 7], \"Freq\": [0.040420471472958325, 0.6568844825528458, 0.013473490490986109, 0.07752439144044315, 0.025910558636511746, 0.09597270918963952, 0.000207284469092094, 0.046639005545721146, 0.000829137876368376, 0.011815214738249357, 0.006840387480039101, 0.023630429476498713, 0.99695346735935, 0.9979426613318334, 0.9967638837025206, 0.9950089737966599, 0.10563302424949443, 0.04851138887004615, 0.08526244104432353, 0.04956141893216836, 0.01638046896910649, 0.3786408404012693, 0.05229149709368611, 0.1591845574177272, 0.01239035473304209, 0.014490414857286511, 0.010920312646070993, 0.06426183980187931, 0.002100060124244422, 0.023886821322949864, 0.8161330618674536, 0.023886821322949864, 0.08758501151748282, 0.04578307420232057, 0.02822285718765393, 0.9647085729598072, 0.006414285724466803, 0.8317559239392772, 0.04770894368915767, 0.0009001687488520316, 0.012602362483928441, 0.024304556219004854, 0.027005062465560947, 0.0018003374977040632, 0.042307931196045485, 0.01170219373507641, 0.9954256888200756, 0.9968465937832236, 0.14608805582311407, 0.853082103757197, 0.008045797007466242, 0.9916444811702144, 0.9977426917985288, 0.9979619728330175, 0.046204629646352635, 0.9525262111709619, 0.004137033099013323, 0.12040943703970355, 0.13543339934664667, 0.03864859868815078, 0.08731317224759697, 0.11017572358424954, 0.07239807923273316, 0.018943256821797847, 0.04224128532676761, 0.007076503985154368, 0.018507779653480654, 0.06020471851985178, 0.0015241700891101715, 0.11050233146048744, 0.014261877262388034, 0.010451452039612605, 0.007403111861392262, 0.0750109422426363, 0.06543044453965807, 0.028088999193555557, 0.9690704721776666, 0.04175983858322452, 0.3282176786892032, 0.039561952342002174, 0.2069676210484373, 0.38279852034622475, 0.9475585644752942, 0.05208373980240286, 0.9988949476096742, 0.002533587647713845, 0.9209591099439828, 0.05320534060199075, 0.022802288829424606, 0.9997108107014875, 0.9961589295874752, 0.09428072471278097, 0.9052268183961418, 0.37560532694885296, 0.07995027673625583, 0.54355456599884, 0.8175791003108585, 0.18158677442526577, 0.9949177931888835, 0.9959284819210046, 0.9982949136984194, 0.3847885626430372, 0.3091175634608475, 0.019198580089408435, 0.08384060773087407, 0.018177379020822882, 0.04309468509431043, 0.024304585432336212, 0.0007148407480098885, 0.06372294667973864, 0.01409257474648066, 0.002553002671463888, 0.009088689510411441, 0.004391164594917887, 0.006025086304654775, 0.009190809617269997, 0.0032678434194737763, 0.004493284701776443, 0.9987871684358026, 0.9999384700874985, 0.9987430897813971, 0.04254840405311422, 0.9570014054486167, 0.9964002470754748, 0.9968675804646127, 0.9990858475988672, 0.6085080512809193, 0.3005214345740935, 0.011293480662338547, 0.02067281205987395, 0.0030626388236850294, 0.004976788088488173, 0.004785373162007858, 0.00880508661809446, 0.012633385147700746, 0.009187916471055088, 0.002296979117763772, 0.00019141492648031434, 0.012824800074181061, 0.9954669809655944, 0.9963535422732589, 0.1829472661911024, 0.15562934861505545, 0.6614247316139856, 0.006727742463435841, 0.061067200821956096, 0.008452804633547596, 0.05347692727346438, 0.5934213865184434, 0.0032776181232123326, 0.14680279067651028, 0.09039325771385591, 0.0013800497360894034, 0.00034501243402235084, 0.03243116879810098, 0.0022425808211452803, 0.9990470385056632, 0.39486129956547644, 0.2656378875605299, 0.0011505701681019163, 0.17208215076674288, 0.15856295129154535, 0.007622527363675196, 0.9950635147148926, 0.9901493637073285, 0.9966813018694574, 0.41285392979861596, 0.5865619233161893, 0.1772321248803273, 0.0021031653340431358, 0.24323915997952725, 0.21500820991871747, 0.0003235638975450978, 0.21161078899449395, 0.017957796313752928, 0.023377491597633315, 0.0016178194877254888, 0.10693786813865482, 0.00024267292315882332, 8.089097438627444e-05, 8.089097438627444e-05, 0.9952441243730908, 0.7053178474253006, 0.1308717844976338, 0.051731029860421614, 0.09303864325642991, 0.0034744721548044363, 0.003088419693159499, 0.012353678772637997, 0.21109086145902184, 0.6402855698075978, 0.14516879841201835, 0.002805194172212915, 0.9973399180037519, 0.9976145348524772, 0.9954305415593049, 0.9979353984654218, 0.7810236174606261, 0.218480174928413, 0.9753798836749404, 0.023842619378720765, 0.9966209104149698, 0.9992113528775526, 0.0002750339384710862, 0.0016502036308265174, 0.5810091950201697, 0.41048815316809617, 0.006463297554070526, 0.2208940601011434, 0.777703939409351, 0.5858075515004423, 0.001254405891863902, 0.027596929621005847, 0.10474289197063583, 0.0294785384588017, 0.019443291323890482, 0.230810684102958, 0.9971107172756907, 0.9995197501098886, 0.9994948445575902, 0.995173656642879, 0.0007434001558449518, 0.8742385832736633, 0.1248912261819519, 0.003472721570655888, 0.7929380919664277, 0.2025754249549268, 0.746384571207909, 0.22431593553296728, 0.02803949194162091, 0.9965894831278153, 0.9941207572076305, 0.9963729226720217, 0.027784222314456392, 0.12289175254471096, 0.17204845356259535, 0.028852846249627792, 0.6465174807786969, 0.9983059045767118, 0.993491268146766, 0.0058098904569986315, 0.9858620734409731, 0.010323163072680346, 0.9965680909739146, 0.9705976559623215, 0.028806350782649155, 0.1033743124734616, 0.02067486249469232, 0.06719330310775004, 0.018951957286801293, 0.09131397601822441, 0.6994995144037568, 0.9351598901619173, 0.0632116029135292, 0.9974711293203442, 0.9964041402759137, 0.9961822570189478, 0.9995101758774116, 0.8767948936015663, 0.05297854342003421, 0.01986695378251283, 0.01721802661151112, 0.031787126052020526, 0.997760690688497, 0.9975926954189285, 0.993245105463826, 0.09267619151976114, 0.1554676691074254, 0.6393314081653088, 0.1121516230710153, 0.9920808651511043, 0.9764820078290818, 0.023123093945392657, 0.9990738865813267, 0.9928214034092966, 0.0008897521709012783, 0.9947429270676292, 0.004003884769055752, 0.9910902301201425, 0.9981478440622845, 0.9989603019583763, 0.603167948362933, 0.2755720344783682, 0.006696142893866891, 0.02523930783072905, 0.07726318723692567, 0.0028329835320206075, 0.0074687747662361475, 0.0012877197872820944, 0.6402876165818739, 0.26099785732661046, 0.01569474865883849, 0.03865558465973184, 0.0101725222788768, 0.009591235291512411, 0.006394156861008274, 0.004650295898915109, 0.012497670228334354, 0.0005812869873643886, 0.999596231642268, 0.1829565766048797, 0.21573629657992066, 0.034304358113414944, 0.014484062314552978, 0.5366726247076472, 0.013721743245365979, 0.0015246381383739976, 0.0007167471921264277, 0.9984288386321138, 0.5715754874840505, 0.04959546755660576, 0.0004910442332337204, 0.010557451014524988, 0.08544169658266736, 0.21213110875696722, 0.07046484746903887, 0.06624406272293518, 0.9320655842770879, 0.9917233218497522, 0.006723547944744083, 0.9974992648075541, 0.09559117767152982, 0.9025585612707233, 0.024116068311641464, 0.9736862580825241, 0.9988366377496051, 0.9963301741908688, 0.9937172368176628, 0.033448464777897494, 0.03733782114742046, 0.20185759557824187, 0.3959364784174378, 0.3309842270464043, 0.044181651981618095, 0.019836660073379555, 0.9350280225497545, 0.801893693151236, 0.0594305346698724, 0.07784562991969202, 0.0594305346698724, 0.9996285440062037, 0.006838303957985509, 0.004884502827132506, 0.0029307016962795036, 0.04493742600961906, 0.9397783439402942, 0.047296907125426495, 0.03088777608191118, 0.013513402035836142, 0.9063631794035812, 0.9983891917552784, 0.07317177173820051, 0.012516224113113246, 0.8434009479297849, 0.007702291761915844, 0.05969276115484779, 0.0028883594107184415, 0.9953513850102061, 0.032657191614667756, 0.11486322567917623, 0.8502130920370398, 0.9995734257348041, 0.9956416486742142, 0.9932701064456337, 0.059076562590760696, 0.004353009875108683, 0.3056434790879882, 0.1495569821376626, 0.004353009875108683, 0.47167971289570515, 0.0049748684286956375, 0.007164783598345607, 0.988188999371821, 0.003857960399109173, 0.036711628065065, 0.08044165561315714, 0.29153351698728086, 0.014711645070191489, 0.00013496922082744485, 0.0144417066285366, 0.00013496922082744485, 0.5618768663046529, 0.9987232510136739, 0.30194437586287365, 0.024272055937530037, 0.1431080418076771, 0.5304900545706565, 0.0005096743358827884, 0.0002548371679413942, 0.02268050794678408, 0.0002548371679413942, 0.9760263532155397, 0.0005096743358827884, 0.4679152923508467, 0.001321794611160584, 0.08767904254031873, 0.44280119473879564, 0.9974166544867357, 0.002122156600235337, 0.15518270139220905, 0.23675309571375483, 0.1774653456946801, 0.0055706610756177605, 0.09310962083532542, 0.002254791387750046, 0.08661051624710471, 0.0010610783001176686, 0.01220240045135319, 0.014722461414132653, 0.0037137740504118405, 0.20903242512318074, 0.23026279071365854, 0.19780964571374693, 0.5710208132127303, 0.9981046774427781, 0.0009756643963272514, 0.03972131278918469, 0.9586076819789905, 0.1350084437074224, 0.8635445739021924, 0.9889528333295382, 0.007726194010387017, 0.9939028591148157, 0.3689258354536653, 0.19324686619001516, 0.11316257930045932, 0.047322533162010266, 0.05919273378793257, 0.009970968525774738, 0.0011078853917527486, 0.0001582693416789641, 0.005064618933726851, 0.025639633351992184, 0.010604045892490595, 0.0004748080250368923, 0.16380876863772784, 0.0001582693416789641, 0.0011078853917527486, 0.09850216741383272, 0.044325975336224725, 0.8569688565003447, 0.9985975298016055, 0.011932678216964423, 0.8305144039007238, 0.03579803465089327, 0.08511977128101288, 0.019887797028274038, 0.01591023762261923, 0.9323002795607968, 0.06659287711148548, 0.016237788055770325, 0.9834686965778227, 0.8880447636429943, 0.11100559545537429, 0.9907453033654409, 0.8239059683061039, 0.1756171451718226, 0.9977285675415793, 0.1658404259124761, 0.08377346117187755, 0.02187418152821247, 0.07089716991768155, 0.0584862867811071, 0.04126618642911005, 0.1771653567746003, 0.0006205441568287225, 0.08703131799522834, 0.0015513603920718063, 0.008687618195602115, 0.0048092172154226, 0.001706496431278987, 0.11030172387630544, 0.023270405881077094, 0.14288029210981337, 0.0037003701562682433, 0.9962218765153281, 0.9946422017582326, 0.023316842734002436, 0.9746440262813019, 0.997284525993035, 0.9950122257524221, 0.9987805230951314, 0.9977583936010876, 0.021662120392445663, 0.03814416851713258, 0.12714722839044193, 0.000941831321410681, 0.0004709156607053405, 0.0004709156607053405, 0.000941831321410681, 0.8099749364131856, 0.004708183464882292, 0.7015193362674614, 0.0005885229331102865, 0.16772903593643165, 0.12476686181938074, 0.057852706317355715, 0.9396681995788686, 0.08922328300516157, 0.9071033772191427, 0.9970746161292684, 0.9982562430021187, 0.997852034605081, 8.539671859674746e-05, 0.7303554357986827, 0.003928249055450383, 0.013193793023197483, 0.10542224910768475, 0.014773632317237311, 0.0002988885150886161, 0.12070826173650254, 0.011144271776875544, 0.9949370738187369, 0.0680404460086402, 0.17118686681961073, 0.05066841724047675, 0.3568504242793577, 0.06514510788061297, 0.281209715684646, 0.007238345320068107, 0.32343233994075493, 0.6763821555355354, 0.04433490024428893, 0.953200355252212, 0.9967399045925275, 0.9972080768042392, 0.9973085799440671, 0.9970625059947605, 0.001590211333324977, 0.9936312730172568, 0.14314253870406332, 0.2624706657811537, 0.1252603909053148, 0.1730172486303735, 0.03337431880339222, 0.010968286358659592, 0.044641352261314916, 0.015150745748343016, 0.03764213450715082, 0.006359045398600309, 0.07421731508836199, 0.009303838234193739, 0.018223573055049205, 0.04583634065836732, 8.535631407517193e-05, 0.0002560689422255158, 0.9993100687497094, 0.020550511516348884, 0.1860962987313816, 0.10104001495538202, 0.0011416950842416047, 0.6907255259661709, 0.9828149485569648, 0.016997573968331608, 0.9998121607528146, 0.010082753880534373, 0.0008155168579843977, 0.6899272618548005, 0.2988498595031916, 0.0002965515847215992, 0.2772859545956565, 0.00017254882053245585, 0.41221913225203705, 0.1999840829971163, 0.012768612719401733, 0.016219589130050848, 0.004658818154376308, 0.07678422513694286, 0.9994667582213769, 0.9947569333927218, 0.3232296105479552, 0.013999753832650287, 0.013999753832650287, 0.012352723969985548, 0.0045293321223280345, 0.0658811945065896, 0.037058171909956646, 0.0737045863542471, 0.0028823022596632946, 0.010705694107320808, 0.44058048826281787, 0.0012352723969985548, 0.03734535133753603, 0.022715213700150783, 0.05159048535288483, 0.014245134015348796, 0.14476136188570668, 0.04466042015622866, 0.19789186172673734, 0.005390050708510356, 0.48125452754556747, 0.16923295035504826, 0.0014261203681605191, 0.030899274643477914, 0.020441058610300773, 0.10981126834835997, 0.01949031169819376, 0.6431802860403941, 0.0057044814726420765, 0.05874807806595182, 0.9410183218778354, 0.9988716874907314, 0.9679685899157573, 0.01728515339135281, 0.014404294492794009, 0.11240936314266078, 0.12000459038202975, 0.5918201064916303, 0.002126663627023312, 0.1734749901471873, 0.005105774645714948, 0.0388038873074336, 0.06603468541791332, 0.000680769952761993, 0.2814983754670841, 0.001361539905523986, 0.33800228154632955, 0.002042309858285979, 0.26686182148270127, 0.02891009123346616, 0.969802151377183, 0.10555215888483206, 0.0010825862449726365, 0.017862673042048503, 0.875812272182863, 0.9974871988214657, 0.9997998806437671, 0.9927678628005597, 0.996299484681863, 0.9896839265568965, 0.006969605116597863, 0.0882112813605257, 0.61579340363781, 0.0019664935335149043, 0.0002809276476449863, 0.0005618552952899726, 0.01067525061050948, 0.24131684932704325, 0.040734508908523016, 0.7354813785077519, 0.2642085756430955, 0.3994679929071899, 0.0010457277301235337, 0.5981562616306613, 0.9997327985214985, 0.01980072409164743, 0.005898088027299235, 0.12568544724840036, 0.0002808613346332969, 0.025698812118946666, 0.3290290535229073, 0.20938212496912284, 0.0073023947004657195, 0.20039456226085733, 0.0762538523529401, 0.00042129200194994534, 0.5822676264371706, 0.0970446044061951, 0.11053842559029461, 0.20998603924845263, 0.2211411582608349, 0.05386771803789568, 0.0018900953697507258, 0.07560381479002903, 0.0034651748445429973, 0.02047603317229953, 0.18648940981540493, 0.0003150158949584543, 0.41235580650061665, 0.024886255701717888, 0.018126342420188468, 0.9394624328634823, 0.0012947387442991763, 0.040654796570994134, 0.9984418543304048, 0.9968672192163393, 0.04883178302268953, 0.009072571709133575, 0.0016010420663176894, 0.012007815497382671, 0.12674916358348376, 0.11634239015241878, 0.012808336530541515, 0.0005336806887725632, 0.18171827452705777, 0.19906289691216605, 0.02481615202792419, 0.23855526788133574, 0.028018236160559568, 0.994337446210303, 0.003452560577119107, 0.3505343923600402, 0.3701317792746838, 0.012695162592504973, 0.09539860045241601, 0.020213656943405975, 0.030566993426613915, 0.06138049486473278, 0.001848810086287132, 0.0038208741783267394, 0.012695162592504973, 0.033278581553168374, 0.007518494350901003, 0.0014615735515790644, 0.4951080405974081, 0.04713574703842483, 0.0014615735515790644, 0.25979469879317874, 0.19475467574791033, 0.9976299342778987, 0.998771510492299, 0.9984300814498454, 0.9974202221000474, 0.9983084704848693, 0.23760265533432898, 0.7620324204945611, 0.01417839275840752, 0.004170115517178682, 0.980811169640426, 0.883136750809017, 0.029735244134983737, 0.08623220799145283, 0.3187202325290479, 0.17173368975563, 0.040170950217637315, 0.15907235874147496, 0.1521661781882995, 0.042127701374370365, 0.025322662028310055, 0.05455882637008621, 0.006100459488638331, 0.0010359270829763203, 0.011164991894300341, 0.001611442129074276, 0.004489017359564055, 0.0027624722212701877, 0.008747828700688928, 0.9885826763208948, 0.9093258241897599, 0.08962888948106952, 0.1706628401725391, 0.8248703941672724, 0.9961432678902432, 0.9975965552479427, 0.05262324697120334, 0.9442949317610376, 0.2053071451400622, 0.0006486797634757099, 0.7926866709673176, 0.000973019645213565, 0.9906499426677133, 0.9904170196352066, 0.9946357946545287, 0.9977128570310954, 0.9987892343119897, 0.003907080227388483, 0.2676349955761111, 0.7276936923511049, 0.9989003557890593, 0.9980781375241258, 0.09363177125647877, 0.06427952133587271, 0.0025730868436894933, 0.007338062480151518, 0.43370808243077347, 0.11150042989321136, 0.0026683863564187335, 0.018916953276754238, 0.01939345084040044, 9.529951272924049e-05, 0.022490685004100754, 0.010482946400216454, 0.0235389796441224, 0.18936013179300085, 0.5545053245960267, 0.34123404590524725, 0.09164000256244433, 0.012329745799310692, 0.9990900210332048, 0.9960813691298611, 0.993793649801217, 0.9901475225840168, 0.02401698153175384, 0.057373900325856396, 0.9166481284619382, 0.9953083282608836, 0.9997480750901172, 0.994709514963461, 0.9934128440470894, 0.07826098144642314, 0.015652196289284628, 0.9056929943754242, 0.3454307714095521, 0.10077705074150235, 0.003802907575151032, 0.01394399444222045, 0.00950726893787758, 0.003802907575151032, 0.0006338179291918387, 0.5178292481497322, 0.003169089645959193, 0.0003449279127251771, 0.6132818288253649, 0.2883597350382481, 0.09761459930122512, 0.9954858247779068, 0.9957540291412074, 0.9934654533113693, 0.9977054420489144, 0.9342388997328074, 0.03453748243004833, 0.030738359362743016, 0.9985242950116777, 0.9976799519111132, 0.9983963123347541, 0.9941302122138, 0.06474488701371356, 0.9349161684780237, 0.006084885520701126, 0.9918363398742835, 0.9983197057391013, 0.008729960151690471, 0.18352316229998192, 0.031815854775049716, 0.07527165641902006, 0.04306780341500632, 0.08710560240242271, 0.004461979633086241, 0.3305744910773459, 0.04054581492674019, 0.00019399911448201047, 0.031039858317121676, 0.023085894623359245, 0.10204353421753751, 0.005625974319978304, 0.03297984946194178, 0.994266057348973, 0.9951406139045608, 0.00032706480521219115, 0.013409657013699837, 0.9861003877147563, 0.9938046277191356, 0.9944502667189365, 0.9924475954639158, 0.9954551919540452, 0.03409407464198266, 0.09497635078838029, 0.86818125784763, 0.0024352910458559046, 0.896569043991283, 0.0711999274880603, 0.02108495706727966, 0.011000847165537214, 0.9994271204860158, 0.9981308978858101, 0.9328287791909478, 0.06612813366813657, 0.0485930097645257, 0.07650814303350854, 0.5531331962557713, 0.0031016814743314277, 0.3184392980313599, 0.9984610055734949, 0.6954992514131759, 0.14183605769485882, 0.047744027294922955, 0.001954433865874039, 0.0002792048379820056, 0.0002792048379820056, 0.06756757079164535, 0.0013960241899100279, 0.026803664446272538, 0.01703149511690234, 0.4542792857585432, 0.37779818896755113, 0.038148402495747843, 0.0003685835989927328, 0.018797763548629373, 0.03556831730279872, 0.024326517533520366, 0.018244888150140273, 0.0011057507969781985, 0.006081629383380091, 0.0001842917994963664, 0.012531842365752915, 0.008477422776832855, 0.001842917994963664, 0.0020272097944600306, 0.9730669267620355, 0.02373333967712282, 0.9961179452776182, 0.7620777897984777, 0.23714203126659578, 0.12303977060616143, 0.8744612268080759, 0.529898252751143, 0.4022608055337004, 0.06771962358480449, 0.9941838993916324, 0.9991508375492469, 0.94323572397477, 0.017101902945149246, 0.030257212902956358, 0.007893185974684268, 0.04702121080513174, 0.03069440149779433, 0.036572052848435795, 0.05061310885274597, 0.4339665913890283, 0.0013061447445869927, 0.06334802011246915, 0.020898315913391884, 0.04310277657137076, 0.009796085584402446, 0.16783959967942857, 0.09469549398255697, 0.9947070792320348, 0.9834328283630693, 0.015861819812307568, 0.999130680993816, 0.9961519361158799, 0.3417434326813653, 0.6581415904042919, 0.99797236428167, 0.001487291153922012, 0.999182115161035, 0.00787975237404464, 0.9889089229426024, 0.9997595635707915, 0.9976035175354562, 0.9973344668588473, 0.928477115257896, 0.018076545606790895, 0.052586314492482605, 0.25658441376871605, 0.41498859820581296, 0.327942209313862, 0.9941297496740495, 0.9996017460351632, 0.004158286687608857, 0.6230499553600604, 0.3721666585409927, 0.995851108933161, 0.9991352387116638, 0.9963489900528406, 0.9992771999325702, 0.9958893758760998, 0.9945988675938058, 0.15002065061233966, 0.8489403875827692, 0.997151845623371, 0.9975571500662581, 0.2690935970470385, 0.7301093106912168, 0.9994200330355085, 0.9957871425189003, 0.9972164730399816, 0.9969464639126081, 0.9983076689957894, 0.04660044281437404, 0.20038190410180837, 0.09087086348802938, 0.10739283866767108, 0.02202930023952227, 0.47934910040422024, 0.012073751092815091, 0.04130493794910426, 0.003023346788405865, 0.9323245658746587, 0.06424611925362464, 0.9913665205650002, 0.07644052458839867, 0.9208416682974537, 0.9993608068109567, 0.9964311880239599, 0.842867020745868, 0.15694765213888576, 0.9968538404410465, 0.08083828990299886, 0.1358771255816364, 0.015479672534616804, 0.08651416983235836, 0.14516492910240647, 0.13329718015920025, 0.07602239178111808, 0.0013759708919659382, 0.03766720316756755, 0.011007767135727506, 0.1522167799237319, 0.061058708330988504, 0.0005159890844872268, 0.03130333779222509, 0.028207403285301733, 0.0010319781689744536, 0.0022359526994446496, 0.9972326152013274, 0.1900516649405919, 0.009238622601278772, 0.800460658239368, 0.9893784394212249, 0.11863702614826534, 0.03163654030620409, 0.004943209422844389, 0.11764838426369646, 0.6796912956411035, 0.0019772837691377555, 0.04498320574788394, 0.989772457995385, 0.42111175198975453, 0.03592160614085833, 0.5426925727741981, 0.026559831028646518, 0.6445969454075137, 0.030193771692525722, 0.13857070796233487, 0.01661993450685929, 0.07786252275399995, 0.004168343702684966, 0.03938550395998488, 0.0051837094764159205, 0.006786918592833215, 0.0036339406638792016, 0.006412836465669179, 0.9924085539274772, 0.9932344512061254, 0.9912637968981578, 0.9974994016427561, 0.0016849652054776285, 0.49825349278486714, 0.269390644424354, 0.0017338094572766146, 0.11269761472297996, 0.009319225832861804, 0.01755482075492572, 0.006068333100468152, 0.04724630771078775, 0.009752678197180958, 0.01235339238309588, 0.0032508927323936523, 0.010836309107978842, 0.001300357092957461, 0.004093346197806999, 0.006512141678329316, 0.0007442447632376362, 0.0016745507172846814, 0.00018606119080940905, 0.9864964336714868, 0.24326086108969425, 0.38477100018273225, 0.05963912564457258, 0.00022763025055180374, 0.06601277266002308, 0.024356436809042998, 0.01790691304340856, 0.0013657815033108224, 0.00022763025055180374, 0.09583233548230936, 0.004780235261587878, 0.03930415659527811, 0.005235495762691486, 7.587675018393457e-05, 0.00022763025055180374, 0.046360694362384026, 0.0006070140014714766, 0.009863977523911495, 0.09772648584533476, 0.9004797624320131, 0.3564120284055066, 0.5623640422879291, 0.00022557723316804216, 0.0807566494741591, 0.16373645142201962, 0.11271160376957629, 0.7227250809278912, 0.9958200482415526, 0.9735972459131178, 0.025924187021355207, 0.9974208583176408, 0.0347237702793291, 0.0007086483730475327, 0.0035432418652376636, 0.4131420014867116, 0.02621998980275871, 0.5215652025629841, 0.9913580843893679, 0.2311648757533482, 0.15184359485759147, 0.6164396686755952, 0.18994152937762854, 0.036399944654249373, 0.7730024610211502, 0.9916770329788528, 0.12993533411140212, 0.0005325218611123037, 0.006390262333347645, 0.14644351180588355, 0.63103840541808, 0.05271966425011807, 0.03301635538896283, 0.9954041875283881, 0.9800937871332387, 0.002458429231939562, 0.016389528212930413, 0.3310623282099898, 0.6614392271690273, 0.007539721760475958, 0.24323162168319223, 0.02239774222284646, 0.013752999610519755, 0.03575779898735136, 0.06031672686327949, 0.003143542768118801, 0.4791938007151097, 0.12986761060790797, 0.012181228226460354, 0.998902540824479, 0.0026139013390582837, 0.05750582945928224, 0.9383905807219238, 0.6623434144169723, 0.09355971997369787, 0.03898321665570745, 0.033042916974837744, 0.17152615328511278, 0.9965378077281779, 0.9950908831219607, 0.9968549006118951, 0.11072768386804012, 0.3334413207389844, 0.5556516499559832, 0.037477693160929006, 0.6233132125712403, 0.008383168207049908, 0.0512852643254818, 0.03057390757865261, 0.03501205545297315, 0.08679044732004612, 0.07495538632185801, 0.00443814787432054, 0.0014793826247735133, 0.015780081330917475, 0.0029587652495470266, 0.0014793826247735133, 0.01331444362296162, 0.011835060998188107, 0.0014793826247735133, 3.5175405190209965e-05, 0.09536052347065921, 0.01603998476673574, 0.00010552621557062989, 0.48964164024772266, 0.18526885913683586, 0.09402385807343124, 0.001864296475081128, 0.05016012780123941, 0.0032361372774993165, 0.005276310778531495, 0.05898915450398211, 0.996163567126086, 0.03084264717477002, 0.03464516531960468, 0.6413580604287793, 0.0105625504023185, 0.00887254233794754, 0.17322582659802338, 0.04351770765755222, 0.03253265523914098, 0.0084500403218548, 0.00338001612874192, 0.0126750604827822, 0.1482969256093923, 0.5485430266891405, 0.00023938163940176322, 0.0637952069005699, 0.04823540033945529, 0.024057854759877203, 0.018193004594534004, 0.07624305214946159, 0.004069487869829975, 0.006343613444146725, 0.021783729185560454, 0.014362898364105793, 0.0009575265576070529, 0.012926608527695213, 0.005505777706240554, 0.006104231804744962, 0.9977998571152693, 0.021431038590148433, 0.9766430443224785, 0.07350674336863718, 0.9257876326968898, 0.11133417199133545, 0.8860344520977113, 0.9958835645215651, 0.9994362102706936, 0.9980771679593966, 0.998156314106773, 0.23848772826807604, 0.7590701642448311, 0.0023154148375541363, 0.167316642596767, 0.10437522127964671, 0.1562465433701378, 0.1273588558644578, 0.03753290785409518, 0.03415916332788438, 0.0645228640637816, 0.060621971955350365, 0.06410114599800525, 0.0042171806577635034, 0.07675268797129577, 0.0008434361315527007, 0.01581442746661314, 0.02836053992345956, 0.00010542951644408759, 0.021929339420370217, 0.023299923134143356, 0.012546112456846423, 0.9995868535924011, 0.7262430534016462, 0.27343263020549785, 0.9953395981437834, 0.9980094983391926, 0.9955647842185044, 0.000345086815787766, 0.12026275530203645, 0.8792812066272278, 0.991870324232709, 0.9963280179243917, 0.9943062219941317, 0.9992009551782911, 0.15016232237098118, 0.04332877583832276, 0.7389044673497179, 0.0003307540140329982, 0.010584128449055942, 0.056558936399642684, 0.2948090578388396, 0.0002467021404509118, 0.29949639850740695, 0.12458458092771046, 0.07598425925888083, 0.01776255411246565, 0.18700022246179115, 0.10732995403088515, 0.0003933558524692126, 0.00016858107962966254, 0.01691430165617614, 5.619369320988751e-05, 0.002978265740124038, 5.619369320988751e-05, 0.12694155296113588, 0.00016858107962966254, 0.010957770175928064, 0.2474770248963446, 0.48652499581120606, 0.9991615414211183, 0.016462532216937747, 0.9828131733511836, 0.08997846730808534, 0.9086060914443912, 0.4267747892754343, 0.571987297447427, 0.0006817488646572432, 0.9977846241224138, 0.9995861329290646, 0.9939406105799963, 0.00016269256368620945, 0.2522954931363893, 0.17627739275400794, 0.11599979790826734, 0.10465199159115422, 0.09830698160739205, 0.02395648000279434, 0.037459962788749725, 0.038436118170866986, 0.08744725298133758, 0.0017082719187051993, 0.01480502329544506, 0.008175301325232025, 0.0031725049918810842, 0.002562407878057799, 0.013584829067798489, 0.008297320747996682, 0.004026640951233684, 0.0020743301869991706, 0.006629721970213035, 0.9971936719508083, 0.9965456332438432, 0.9983708549648991, 0.99251665852362, 0.9936857638270842, 0.0684132784672766, 0.15892465130672662, 0.008778695024562041, 0.36355905946548317, 0.08354895954410771, 0.04661789771663981, 0.03935277079976088, 0.0672024239811301, 0.09384122267635286, 0.025125230587539637, 0.015438394698367728, 0.002421708972292977, 0.006054272430732442, 0.003935277079976087, 0.014530253833757861, 0.0018162817292197327, 0.995610739111651, 0.9998305937012637, 0.0005609984287951175, 0.032537908870116816, 0.2905971861158709, 0.003926989001565823, 0.6715151192677556, 0.9972934793399615, 0.9963277016405566, 0.08089361155156634, 0.9167942642510851, 0.9965408125200308, 0.801610663153572, 0.1579515707210349, 0.008245432729319931, 0.00025766977279124785, 0.021128921368882322, 0.0007730093183737435, 0.002061358182329983, 0.00025766977279124785, 0.004122716364659966, 0.001546018636747487, 0.00025766977279124785, 0.001546018636747487, 0.20669584720936937, 0.08097125264563465, 0.164018691256542, 0.002306873294747426, 0.31973263865199325, 0.2009286639725008, 0.0249142315832722, 0.0002306873294747426, 0.9971723713735441, 0.853389600285474, 0.14586691250885897, 0.9849248559277195, 0.06272161570120208, 0.8968254901753969, 0.03931802775299235, 0.9979975671676568, 0.9980458095135919, 0.2583209236054589, 0.7413082842903134, 0.0007876267033128588, 0.7222536869378916, 0.03386794824245293, 0.003544320164907865, 0.09451520439754306, 0.005513386923190012, 0.01378346730797503, 0.08073173708956803, 0.001969066758282147, 0.03938133516564294, 0.003938133516564294, 0.008343234541569626, 0.9886732931760007, 0.9989255582279027, 0.9963768115117018, 0.996087771737803, 0.9924778431953983, 0.157292820961959, 0.8399131216415286, 0.9957978112427076, 0.9974819022946841, 0.9964036889531586, 0.16500943375897845, 0.834544114622747, 0.9984938219072604, 0.175532917596718, 0.014232398724058215, 0.01897653163207762, 0.0006777332725742008, 0.013554665451484014, 0.03456439690128424, 0.015587865269206616, 0.7251746016543947, 0.0006777332725742008, 0.06231969810492678, 0.0007190734396722321, 0.83220766084733, 0.011505175034755713, 0.005752587517377857, 0.08580943046755303, 0.001677838025901875, 0.9988741032989533, 0.9966805506037318, 0.998347721831456, 0.7379401076717764, 0.2620513268017742, 0.005180313022268067, 0.21066606290556808, 0.016116529402611764, 0.005180313022268067, 0.13411254824316218, 0.061012575595601685, 0.00748267436549832, 0.012662987387766387, 0.01323857772357395, 0.5341478316294185, 0.9972699896800439, 0.9974517492097069, 0.9971259765555124, 0.9920943251164157, 0.007001111253277597, 0.99254215690697, 0.0005385470194828921, 0.9979380752350755, 0.24602481126656808, 0.6372581957933365, 0.042732808702287545, 0.07343404990587277, 0.09177629347654863, 0.9072742155110236, 0.012290052088798497, 0.3033408311007993, 0.6837738071222437, 0.2242857677152928, 0.4352564172944534, 0.0282576396000138, 0.09705241663669661, 0.026186399001059908, 0.04941388286075712, 0.03461930715394361, 0.01020825723770132, 0.04334810682096358, 0.00932058269529251, 0.020712405989538912, 0.0023671321130901615, 0.0031068608984308366, 0.010800040265973861, 0.0023671321130901615, 0.0028109693842945666, 0.6351961941033711, 0.36422810667661515, 0.0012613947958529418, 0.0025227895917058836, 0.14215919349262654, 0.6956592299128974, 0.1583050468795442, 0.008853859932496072, 0.9270114319600228, 0.06400602909533619, 6.148513842011161e-05, 6.148513842011161e-05, 0.9977579405551544, 0.9927177850337168, 0.996415622897976, 0.6062670208668524, 0.02422803780868467, 0.029549148916199527, 0.20073042539625197, 0.004075744678096486, 0.13495243489697256, 0.00011321512994712463, 0.20298641631064518, 0.7963313255263772, 0.9968219089478695, 0.2464163423392633, 0.6960417779500835, 0.0567095144013647, 0.9974307057114474, 0.7999833858022883, 0.1999236197093476, 0.9995798289698923, 0.6728107293759013, 0.2054329643841896, 0.006397566364905558, 0.0003554203536058643, 0.04513838490794477, 0.06966238930674941, 0.001560839213213046, 0.12618784716053166, 0.036979882897662936, 0.6272172346019195, 0.018730070558556553, 0.16845057047214643, 0.020651103436357225, 0.02043977871870098, 0.007948802835050381, 0.0009084346097200435, 0.015216279712810728, 0.018850018151690903, 0.24573156192927176, 0.10106335033135484, 0.02657171233431127, 0.013399410493370642, 0.46693538939610235, 0.0013626519145800652, 0.04655727374815223, 0.001589760567010076, 0.00045421730486002175, 0.03315786325478159, 0.1037620167516833, 0.5447505879463374, 0.1571689371385791, 0.002615849161807142, 0.19139296367222255, 0.9980924291739712, 0.9934664392406696, 0.9967020686202411, 0.9981263606664573, 0.997072956167898, 0.9962477758160196, 0.012939132849343345, 0.0011917622361237291, 0.03166682513128766, 0.0011917622361237291, 0.003915790204406538, 0.03166682513128766, 0.00017025174801767559, 0.011236615369166588, 0.15407783195599642, 0.7079067682574951, 0.006469566424671672, 0.03353959435948209, 0.0040860419524242145, 0.9932469567768211, 0.0064139563629499515, 0.45309667587051566, 0.5204902810092156, 0.026177681334866917, 0.0706240863588459, 0.9271674927110026, 0.1880716885078552, 0.8113325167024915, 0.996574631153344, 0.1999668922630907, 0.7984884870367552, 0.10040195099209244, 0.18353044805006144, 0.4663832562213326, 0.01349488588603393, 0.04345353255302926, 0.0002698977177206786, 0.003238772612648143, 0.009446420120223752, 0.005937749789854929, 0.14358558582740102, 0.024290794594861075, 0.00566785207213425, 0.3075983563376187, 0.030283631115000192, 0.00014881391211302305, 0.013765286870454634, 0.6481589942082719, 0.10504136318837383, 0.3900270025559872, 0.49905727827050184, 0.0031024875203317166, 0.002216062514522655, 0.9943938959206967, 0.9994392769816829, 0.9960702963000048, 0.8904260327787006, 0.09832247756489373, 0.003314240816794171, 0.006628481633588342, 0.9402731415477136, 0.02725429395790474, 0.031147764523319705, 0.32304664803696775, 0.6687384061225291, 0.0031844686005834716, 0.00035382984450927463, 0.004245958134111295, 0.04072272438059252, 0.09965090201368523, 0.023954543753289717, 0.039285451755395134, 0.5940726850815851, 0.013414544501842242, 0.1446854442698699, 0.0426390878808557, 0.0019163635002631774, 0.9975945064917198, 0.8741487437011767, 0.12003109872267491, 0.005725865133413821, 0.9989494895711746, 0.001110072923586987, 0.4012913618766958, 0.26919268396984436, 0.06604933895342573, 0.26253224642832246, 0.9958220230853344, 0.9983766269191053, 0.9868431598400562, 0.009918021706935239, 0.9976673461914837, 0.3467192953628784, 0.006365993619777439, 0.3924180352762807, 0.03296675267384745, 0.04524402608341822, 0.007048064364753593, 0.10117382717146287, 0.004774495214833079, 0.011140488834610518, 0.0006820707449761541, 0.022280977669221037, 0.02910168511898258, 0.0016145098304670069, 0.6485485988985966, 0.11027102142089656, 0.20149082684228245, 0.028253922033172618, 0.009848509965848741, 0.990874174149256, 0.9988993293681881, 0.9948801308245028, 0.9974631606294043, 0.9995270797498388, 0.9885302446067349, 0.04822092863370761, 0.05306996056335418, 0.7722352738624929, 0.0024245159648232876, 0.12397358300129745, 0.9915880452088949, 0.008941114433187755, 0.000255460412376793, 0.0007663812371303789, 0.5975219045493187, 0.31396084681107855, 0.07842634659967544, 0.003427943816821217, 0.21024722076503466, 0.7849991340520588, 0.007249835303721733, 0.9896025189580167, 0.9438711607597078, 0.05586413775149935, 0.9972544938035063, 0.9961477211455195, 0.9956792991955589, 0.9966931842768306, 0.9905314340502935, 0.21371021072321517, 0.001319198831624785, 0.7611777258475009, 0.023085979553433736, 0.9882292988876336, 0.010083972437628914, 0.04160656943910303, 0.8554894628531359, 0.1014616342462337, 0.9992756837775907, 0.9998272350860911, 0.07702958379578319, 0.9226131305389409, 0.996847740801474, 0.997232477902158, 0.9960624342802334, 0.9925532661462563, 0.1875238796702987, 0.8119277168427528, 0.9187166064374722, 0.06845339420514499, 0.004323372265588104, 0.00840655718308798, 0.0530253948809553, 0.013954051284461921, 0.9321306258020563, 0.9936899909377006, 0.9906945838552125, 0.9983902059857276, 0.995475626139651, 0.3315626784720616, 0.49819900140709206, 0.011542279936495183, 0.043860663758681695, 0.018553146268292256, 0.036165810467684904, 0.010601797867595575, 0.016159191911093256, 0.006839869591997145, 0.005813889153197574, 0.0025649510969989295, 0.0023084559872990364, 0.001966462507699179, 0.00632687937259736, 0.00025649510969989297, 0.00376192827559843, 0.00025649510969989297, 0.00316343968629868, 0.2405869164707003, 0.0011086954676069137, 0.03030434278125564, 0.7276737919060043, 0.9994537699682888, 0.845033365212697, 0.064527010512355, 0.008886953543617754, 0.08114174974607516, 0.05194063519634727, 0.9443751853881321, 0.9919512400088595, 0.9987015774174863, 0.9997494625271823, 0.9973549507505892, 0.9944472036214893, 0.780147481426316, 0.0015312021225246633, 0.02679603714418161, 0.05129527110457622, 0.12708977616954706, 0.012249616980197307, 0.9922318039947502, 0.99561620009155, 0.11875061499605569, 0.0008362719365919415, 0.14634758890358976, 0.6644180536222976, 0.0037632237146637366, 0.00585390355614359, 0.060211579434619786, 0.10627384739967397, 0.11368830186941867, 0.7797534617348172, 0.09295873047316049, 0.1671497677277649, 0.014369015120456984, 0.06803288791726572, 0.02052716445779569, 0.002052716445779569, 0.5131791114448923, 0.12169676071407445, 0.05850684993037892, 0.3163175219813169, 0.042809890192960186, 0.035437075770839266, 0.08942510395862795, 0.05208536640143489, 0.19977948756714753, 0.004280989019296019, 0.005470152635767135, 0.015934792460712957, 0.0035674908494133487, 0.002853992679530679, 0.16933689898548696, 0.004280989019296019, 0.9984942593164909, 0.0011437505834094972, 0.91483119915811, 0.08506814504366571, 0.4686883898650538, 0.13497640681605136, 0.35769478989389125, 0.037729049792569073, 0.0008774197626178853, 0.9978773391372758, 0.2106639554193555, 0.553814882434615, 0.02123659778281788, 0.004139009039638457, 0.07113680022331892, 0.046882980897587016, 0.029398568879675027, 0.0002707762923127963, 0.006575995670453624, 0.008703523681482738, 0.0020501633560826007, 0.001972798701136087, 0.0017793870637698042, 0.0002707762923127963, 0.0030559038703872727, 0.02115923312787137, 0.0013538814615639814, 0.009322440921054845, 0.0008896935318849021, 0.005338161191309413, 0.9795151729832078, 0.018187284378998553, 0.36262258039602446, 0.0002239102070985023, 0.0643741845408194, 0.021607334985005472, 0.03828864541384389, 0.37538546220063906, 0.0011195510354925114, 0.02149537988145622, 0.0033586531064775343, 0.0013434612425910137, 0.10993991168536463, 0.00011195510354925115, 0.9993693867684442, 0.21319152852761933, 0.04076409446572062, 0.023427640497540585, 0.037249948391089534, 0.018039283183106252, 0.04380968773040089, 0.1159668204628259, 0.04872949223488442, 0.0011713820248770294, 0.010308161818917859, 0.31885018717152736, 0.1159668204628259, 0.011713820248770292, 0.00023427640497540586, 0.2891799687297697, 0.0014605048925745944, 0.7083448728986783, 0.0006473334415318094, 0.003976476855123972, 0.10847458955954463, 0.0003699048237324625, 0.015813431214562773, 0.001202190677130503, 0.0010172382652642719, 0.8684440499178888, 0.9537544003545978, 0.043683407649828906, 0.9979790714486897, 0.9962896774038522, 0.9974184012736608, 0.06061670677529532, 0.06398430159614506, 0.01450656230519888, 0.21189942795808364, 0.014247516549748901, 0.0025904575544998002, 0.11449822390889117, 0.06527953037339496, 0.00569900661989956, 0.06631571339519489, 0.056731020443545624, 0.2499791540092307, 0.07356899454779432, 0.04813328805207639, 0.9516638666296247, 0.9967343458681832, 0.027767466025038913, 0.5750950741185837, 0.19972007044676138, 0.06520212392546175, 0.053066712847852145, 0.0789830144712218, 0.9981762087321391, 0.5055045999096669, 0.4940432784320014, 0.004427659288549103, 0.030624643412464625, 0.004427659288549103, 0.06457003129134108, 0.10109822042187117, 0.02545904090915734, 0.054976769499484685, 0.5379606035587159, 0.07194946343892292, 0.01623475072468004, 0.03726613234528828, 0.0059035457180654696, 0.008486346969719113, 0.036528189130530096, 0.04576809899312277, 0.9505682098571653, 0.6526961719097624, 0.029724599149920032, 0.004980037553913304, 0.1296366025753057, 0.07827996530057475, 0.03065835619127878, 0.0740780586144604, 0.9975379201639463, 0.9994100644441197, 0.22697763324190479, 0.04753731789416187, 0.21000001970827553, 0.09481344173396022, 0.002873134597998795, 0.012276120555085758, 0.006007463250361116, 0.0146268670443575, 0.23220151432917532, 0.151231357476482, 0.001044776217454107, 0.5493693293800064, 0.3869929218382685, 0.0027606498963819413, 0.004768395275568808, 0.018571644757478516, 0.011544535930324482, 0.00150580903439015, 0.016563899378291648, 0.008030981516747466, 0.00038896906366978225, 0.28122463303325257, 0.004278659700367605, 0.001555876254679129, 0.09568638966276644, 0.025282989138535848, 0.3294567969283056, 0.005445566891376952, 0.2567195820220563, 0.6886981417427636, 0.23861665671699647, 0.007666398609381412, 0.0204437296250171, 0.006388665507817844, 0.019804863074235315, 0.001916599652345353, 0.0006388665507817844, 0.014693930667981041, 0.001597166376954461, 0.9978950363343061, 0.9972129750042706, 0.995560501428847, 0.00426676511172908, 0.04010759205025335, 0.922474617155827, 0.03328076787148682, 0.1668637052459478, 0.831984768114411, 0.05744259591745716, 0.002688200301555877, 0.15167109069831053, 0.12733580375790995, 0.02560864497797967, 0.11106511772217702, 0.010469832753428152, 0.006508274414293176, 0.20175650684308843, 0.23217561551858915, 0.002688200301555877, 0.00014148422639767772, 0.03791777267457763, 0.003537105659941943, 0.028862782185126258, 0.33414286009999294, 0.28475236859146275, 0.03633803603587423, 0.02788004488959316, 0.014409910841812196, 0.05168772367171766, 0.06045897374934247, 0.023912098425905744, 0.0714230363463735, 0.02318116091943701, 0.002610491094531195, 0.03404080387268678, 0.001044196437812478, 0.0004176785751249912, 0.005743080407968629, 0.005116562545281142, 0.01326129476021847, 0.007831473283593585, 0.0018795535880624602, 0.9972901176675452, 0.6180232620754381, 0.1834084588639757, 0.009107178647038793, 0.008095269908478928, 0.12117607144254394, 0.03440489711103544, 0.0007589315539198994, 0.00505954369279933, 0.002276794661759698, 0.002023817477119732, 0.014925653893758021, 0.0007589315539198994, 0.011097616855906019, 0.007167210886105971, 0.6746426246986201, 0.1532858328222019, 0.05456328287487126, 0.09895375029849533, 0.995844942036743, 0.9135069615786211, 0.052085923247903836, 0.0333884123383999, 0.8946222840149183, 0.1043199129770046, 0.0009035064999289167, 0.004517532499644584, 0.058727922495379586, 0.9351292274264288, 0.0250512984649917, 0.2154411667989286, 0.03006155815799004, 0.06304576780356244, 0.3590686113315477, 0.0058453029751647295, 0.02004103877199336, 0.00334017312866556, 0.27806941296140786, 0.9978451300430166, 0.999520045818534, 0.9992671450715692, 0.1060971342627251, 0.13852857268364543, 0.7176614016286514, 0.03752780731563639, 0.10557235370343743, 0.8930382706717002, 0.004189076160343595, 0.9949055880816038, 0.17183709569258765, 0.8260792490175773, 0.9968158822796875, 0.9998544539181138, 0.15536698291011505, 0.8439594848369842, 0.9949981955013119, 0.9993732626453756, 0.0008632863176388477, 0.8777895277751804, 0.00017265726352776954, 0.0481713765242477, 0.05248780811244194, 0.020373557096276806, 0.11309785932581988, 0.12272320905567688, 0.014438024594785517, 0.7231043984555079, 0.025266543040874653, 0.25043547146804507, 0.5233929258795862, 0.017882903400317528, 0.008754392041159628, 0.06719182951249013, 0.025365289760283023, 0.0007482386359965493, 0.024093284079088888, 0.052077409065359834, 7.482386359965493e-05, 0.012271113630343408, 0.01758360794591891, 0.046914390877650626, 0.0010198780625576222, 0.03569573218951678, 0.15043201422724928, 0.10045798916192579, 0.5522639708749525, 0.004079512250230489, 0.0010198780625576222, 0.10759713559982914, 0.6530911934740189, 0.21959125896174284, 0.00487078578103681, 0.057637631742268915, 0.017453649048715235, 0.010553369192246422, 0.011771065637505624, 0.008929773931900819, 0.008523875116814418, 0.006900279856468814, 0.8296215877070473, 0.16954824959379594, 0.004294976712121707, 0.09162616985859641, 0.001431658904040569, 0.3629255321742842, 0.027917348628791094, 0.5053755931263209, 0.005726635616162276, 0.9975562339632306, 0.998867384168301, 0.9988170828043128, 0.9989663012374899, 0.998126683432269, 0.9788390984551025, 0.015692018417911516, 0.004879030936661565, 0.00039559710297255927, 0.016406552825855642, 0.6869582441277621, 0.005292436395437304, 0.0001764145465145768, 0.005998094581495611, 0.2850859071675561, 0.9974564737019699, 0.9989171787262897, 0.9939040260830022, 0.21498629575969852, 0.7844712706976233, 0.9973357824611587, 0.997948744720258, 0.9988411441027809, 0.9324181324227443, 0.012772851129078689, 0.029029207111542474, 0.02206219740477228, 0.002322336568923398, 0.994199227675562, 0.997866095877554, 0.6830506526773381, 0.2048261409593061, 0.0014842473982558412, 0.015139323462209581, 0.003562193755814019, 0.0053432906337210285, 0.010686581267442057, 0.008014935950581543, 0.00029684947965116825, 0.0005936989593023365, 0.05343290633721028, 0.00029684947965116825, 0.0005936989593023365, 0.012467678145349066, 0.995163066573875, 0.9964416259254855, 0.9963433347480557, 0.9824962975711686, 0.016999935937618185, 0.9982228414052968, 0.9938535624812027, 0.9933693899949172, 0.9975537879985668, 0.9930056131465087, 0.3957186791113406, 0.6041835444053383, 0.9951092047942851, 0.9913481617470034, 0.9980931300850496, 0.0003707008641589523, 0.0939461904311402, 0.00990300879967487, 0.47915734555860007, 0.0003177435978505305, 0.05025644572669225, 0.0066196582885527195, 0.04813815507435538, 0.038658804405147885, 0.03908246253561526, 0.21543015934265972, 0.008790906207198012, 0.0009532307935515916, 0.008420205343039059, 0.9938804085825944, 0.9994121014395669, 0.9976181523857691, 0.9965743489944734, 0.9939260392353916, 0.2355209246746866, 0.48653664702533944, 0.017512724815161827, 0.014197558800769053, 0.0629881542734627, 0.08194225561662138, 0.013332732883970938, 0.0025224089239945014, 0.042664745228707, 0.005837574938387275, 7.20688263998429e-05, 0.018017206599960724, 0.0017296518335962296, 0.002954821882393559, 0.0057655061119874325, 0.007927570903982719, 0.0005044817847989003, 0.25409414125487484, 0.25139101209258896, 0.49332107211717724, 0.21710645173590806, 0.024004772130352327, 0.20844650229647715, 0.28836112343929565, 0.01990269081693769, 0.07429325045406511, 0.16651411553712753, 0.0012154315002710038, 0.15905258281641638, 0.24653150336544538, 0.5932661339052331, 0.993435797151043, 0.0022960851161162414, 0.06981799556783089, 0.5547171560157867, 0.06475810429342659, 0.06815971187285805, 0.06764947073594334, 0.024151413813963428, 0.005357531937604563, 0.029934146698996925, 0.02215296936104744, 0.029338865372596418, 0.009907182075094152, 0.0008504018948578671, 0.0050598912744043096, 0.017560799128814957, 0.0012330827475439073, 0.018793881876358862, 0.008291418474864205, 0.9976650901001598, 0.9977242396351169, 0.9952981103542144, 0.1396570181704298, 0.8600544702328968, 0.9997356652938392, 0.9917670637102048, 0.9974664118070375, 0.9994929044883134, 0.0006329214579244165, 0.9987500606047293, 0.9960108189955229, 0.003425071592144164, 0.9969954389505102, 0.9913616365069265, 0.003631361305886178, 0.003631361305886178, 0.9988912073611743, 0.9976024867906986, 0.9933215529428774, 0.5747367234347798, 0.04910856869319625, 0.32378361392632776, 0.03329394487674322, 0.01914401830412735, 0.9951260474503385, 0.02408654791684055, 0.016057698611227036, 0.9588740027847, 0.07289874840843497, 0.11477314575002434, 0.000339063946085744, 0.19970866424450323, 0.00169531973042872, 0.03238060685118855, 0.5582687872301775, 0.020004772819058898, 0.005969606133411242, 0.9931932204462953, 0.9982562368140027, 0.9535266582622757, 0.0012185644195045057, 0.04447760131191446, 0.9943795822411186, 0.03902362211335133, 0.15677911340276238, 0.589766359151682, 0.14917216952101747, 0.03537228905011378, 0.0037274025020550003, 0.0027384997974281636, 0.011714693577887144, 0.007302666126475103, 0.0006846249493570409, 0.0035752636244201024, 0.9944797698768227, 0.21453669103760356, 0.06670468544866665, 0.01622546402805405, 0.701300611879225, 0.9966344966848646, 0.9978752594985023, 0.9971693339587717, 0.9932531113992497, 0.9973237803297885, 0.9980126804991454, 0.4224371122276882, 0.3502877344239378, 0.032316908807929895, 0.027619683690498224, 0.06557326263934612, 0.021043568526093882, 0.014091675352295012, 0.004634595449199248, 0.0018788900469726682, 0.014467453361689545, 0.0016910010422754014, 0.002505186729296891, 0.0002505186729296891, 0.01678475108628917, 0.012463303978252032, 0.011962266632392655, 0.9952617607633538, 0.7706404269658766, 0.22857306175712921, 0.9746925804560429, 0.02221521550896964, 0.0648633126722714, 0.1819542277559821, 0.05054284104332836, 0.14101452651088614, 0.09165101842523543, 0.0032010465994107965, 0.3204416122147018, 0.03841255919292955, 0.004211903420277364, 0.01448894776575413, 0.005896664788388309, 0.004885807967521741, 0.06418940812502702, 0.013983519355320847, 0.9981716606599491, 0.2548909785713774, 0.1508480901943439, 0.043139734205111434, 0.40573906876572124, 0.018891256155179517, 0.015225788542980507, 0.026786109473762, 0.030451577085961013, 0.015225788542980507, 0.018609297108087286, 0.0014097952354611579, 0.018045379013902824, 0.9918621781718326, 0.2519817064356676, 0.7480211662744346, 0.9933652873496683, 0.24368501491932967, 0.004465940512465803, 0.07728018799832129, 0.06582407972721335, 0.002912569899434219, 0.2036857216337664, 0.052232086863187, 0.0005825139798868439, 0.09028966688246079, 0.24426752889921652, 0.0015533706130315835, 0.012426964904252668, 0.0007766853065157917, 0.6685081191301703, 0.052263375963664975, 0.2791790462869192, 0.9950608968732816, 0.024312824929415014, 0.7018728670412703, 0.1718959376588465, 0.0036255967000004847, 0.09810438129413077, 0.00021327039411767558, 0.9976992424069533, 0.17600092246482577, 0.0020749068529140346, 0.032832349613757375, 0.06468827247320226, 0.0006102667214453044, 0.013059707838929513, 0.6616511793909989, 0.04906544440420247, 0.9994935307365846, 0.0003206236810616268, 0.0009618710431848805, 0.009618710431848806, 0.07214032823886604, 0.554999591917676, 0.3613428885564534, 0.9899843783922774, 0.14696561246463313, 0.2541449541515479, 0.014615364775488377, 0.5756829792122922, 0.0032478588389974173, 0.0032478588389974173, 0.002435894129248063, 0.9959216612384993, 0.9922224324669383, 0.995125735092587, 0.9995864163846184, 0.00027461165285291714, 0.0009369073390650088, 0.05558983545119052, 0.7428113686553744, 0.0629289429405331, 0.1375692276193788, 0.19965098158965475, 0.09841949796673122, 0.7013092226543648, 0.9925248332510539, 0.9991190331720583, 0.9993893306938367, 0.9960491732222148, 0.9972296835503757, 0.995619979139983, 0.8226839932880762, 0.04580129349524878, 0.08754424452889324, 0.03478579252803705, 0.004058342461604323, 0.005217868879205558, 0.995079625597997, 0.004748753093960072, 0.996712402895259, 0.009362666601405004, 0.13539856315878004, 0.8527228658510403, 0.0021606153695550006, 0.9991225460470589, 0.9982928316263977, 0.017405551310215317, 0.9771116390700185, 0.005201659012248256, 0.9922050267032059, 0.03772994941625276, 0.048019935620685336, 0.03944494711699152, 0.8729338296760298, 0.9987404337995311, 0.9946178272987645, 0.999052360867965, 0.9941610346031943, 0.9936580635945813, 0.999504787877649, 0.9982633977425267, 0.006892493114720941, 0.08074063362958817, 0.9117783748902273, 0.06780906725215058, 0.9320664516841062, 0.09319020846943944, 0.9041432991928593, 0.9967994868036398, 0.35449289238334436, 0.14251693947594352, 0.012056357253646737, 0.00611815144214909, 0.0005398368919543315, 0.01223630288429818, 0.09285194541614501, 0.007197825226057753, 0.003059075721074545, 0.3382977856247144, 0.012776139776252513, 0.013675867929509731, 0.004498640766286096, 0.05370340589877735, 0.009153989641837048, 0.0012205319522449398, 0.7762583216277816, 0.06590872542122675, 0.09337069434673789, 0.9791824728814901, 0.01675862423024555, 0.0023940891757493646, 0.9967851047935796, 0.004456730284997713, 0.02674038170998628, 0.08802042312870484, 0.7721285218758538, 0.09693388369870026, 0.011141825712494283, 0.9909393142641252, 0.004128913809433855, 0.011408516619809359, 0.9879775392754906, 0.0018874799302594785, 0.9965894031770046, 0.09089124597927828, 0.6397345390079971, 0.17042108621114677, 0.006991634306098329, 0.0843365888173111, 0.00043697714413114556, 0.006991634306098329, 0.2437746572681623, 0.5660530177243769, 0.018751896712935562, 0.017321667302626916, 0.04513168361418389, 0.042430139172489785, 0.020182126123244205, 0.02447281435417014, 0.0004767431367695482, 0.002383715683847741, 0.003019373199540472, 0.007786804567235953, 0.0004767431367695482, 0.00174805816815501, 0.0041317738520027505, 0.00174805816815501, 0.09399233679172685, 0.07874075006703155, 0.015606274788060306, 0.025360196530597998, 0.019153155421710377, 0.3160270644582212, 0.2931496843711782, 0.019685187516757886, 0.010463297869267705, 0.12768770281140251, 0.9944144428942283, 0.9975149607082587, 0.8857796829083558, 0.029525989430278527, 0.07842840942417734, 0.005536123018177224, 0.9954138435468145, 0.979827129208256, 0.01959654258416512, 0.11196556673207693, 0.8858452191449616, 0.0010977016346282052, 0.33245051726222535, 0.08467174068799824, 0.19141090387825097, 0.07123939655619115, 0.3202174895707582, 0.9932309516968855, 0.9953193630772718, 0.0026123867797303722, 0.9910285098261552, 0.008241401329115635, 0.9999304406342013, 0.9989709827215157, 0.2241515738402952, 0.21707310308744376, 0.02683920160456166, 0.21844947240049822, 0.029690252324460153, 0.02988687651203936, 0.05466152414701936, 0.005013916783269761, 0.0559395813662842, 0.02113710016476468, 0.009241336816222696, 0.00039324837515841265, 0.0218252848212919, 0.007864967503168252, 0.0186792978200246, 0.020252291320658252, 0.0010814330316856347, 0.018482673632445393, 0.01150251497338357, 0.008159903784537062, 0.09671139744165509, 0.1408481425828131, 0.40090876836551875, 0.0008654263753168241, 0.04932930339305897, 0.0015144961568044422, 0.0023799225321212663, 0.25292085818634186, 0.054305505051130715, 0.07849438334251112, 0.058444187597413176, 0.7094356494488913, 0.09001258089820569, 0.02602259447768032, 0.03754079203337488, 0.03420354633901245, 0.2513217100562219, 0.17498336025610717, 0.539077632517044, 0.9983105519460913, 0.961715304453687, 0.02885925893332232, 0.008579779682879608, 0.13403969643115135, 0.002886022171962589, 0.08743578283945917, 0.02447774360664566, 0.010795860717341536, 0.05996512735077824, 0.0009620073906541963, 0.0017102353611630158, 0.6775738721507722, 0.9986663176838599, 0.002108213715387279, 0.9961309805204893, 0.2749074148819961, 0.0013849240044433051, 0.008828890528326071, 0.0020773860066649577, 0.6367188110428096, 0.0012118085038878921, 0.07322785673493976, 0.0015580395049987184, 0.8064248517188696, 0.12973733146866073, 0.06253526049208827, 0.02588957331586751, 0.06528675010088328, 0.11819153035504731, 0.7901948029451735, 0.016551320365177775, 0.10965249741930275, 0.03517155577600277, 0.8358416784414776, 0.0040358370232556305, 0.13398978917208695, 0.8620547881674028, 0.9988995630905814, 0.9932679322909568, 0.0066404260075750106, 0.9968803134951855, 0.9935120749872596, 0.9926482725272501, 0.2942319873424765, 0.029247712459490708, 0.05557065367303234, 0.22520738593807843, 0.0005849542491898141, 0.39484411820312454, 0.999801968322613, 0.999855502341881, 0.9935720259926143, 0.9914082994192247, 0.1715329944977365, 0.8282836990885727, 0.9521829251247984, 0.042851687411858824, 0.004838093740048577, 0.6268433144493227, 0.2364198833124108, 0.02999571279966947, 0.02280824168153781, 0.016674932994065455, 0.021849912199120254, 0.002683322550769154, 0.004504148567362508, 0.00680413932516464, 0.001341661275384577, 0.001149995378901066, 0.0025874896025273983, 0.023191573474504828, 0.0002874988447252665, 0.002779155499010909, 0.18832347146401868, 0.8086100210385752, 0.0024861184351685633, 0.9948531559741117, 0.9979842118565632, 0.9950112590457582, 0.997667357572857, 0.9992718323207378, 0.9984683780793856, 0.9967610352370948, 0.010797487324670556, 0.06859580182731882, 0.8803127901172583, 0.039379071419386735, 0.13672740798627564, 0.028345926045935194, 0.0038906173004224776, 0.02167629638806809, 0.074477531179516, 0.7303244475364479, 0.0038906173004224776, 0.9963787413866214, 0.9972126354785458, 0.9943265793970661, 0.014979634683959544, 0.9847722801491923, 0.9954516993776179, 0.37456842409615426, 0.624828321482035, 0.0006399219039114235, 0.9989180920057321, 0.1822154050159845, 0.2417206049619828, 0.02034892847894243, 0.0769251159923657, 0.027902697384004395, 0.02929012432575047, 0.05811777300425224, 0.08586631183917375, 0.013874269417460748, 0.24942853241612767, 0.014336745064709439, 0.9959897022078373, 0.7586041114708326, 0.001786351910841835, 0.06788137261198973, 0.09289029936377542, 0.0494224028666241, 0.005954506369472783, 0.023222574840943856, 0.6551989012263245, 0.27986586482734704, 0.002100744606710695, 0.022407942471580747, 0.0016339124718860961, 0.02147427820193155, 0.0011670803370614972, 0.003734657078596791, 0.007002482022368983, 0.0014004964044737967, 0.0014004964044737967, 0.002567576741535294, 0.9980307931714757, 0.7277324045952662, 0.0038916171368730814, 0.06858975203738805, 0.1381524083589944, 0.010701947126400975, 0.050591022779350056, 0.9978825521036285, 0.9984832201670706, 0.9969524826416529, 0.997233412785688, 0.9964146652265713, 0.03988165906908786, 0.9501218778223872, 0.008210929808341618, 0.9969656154335728, 0.9975287983681317, 0.9961536298497098, 0.1628641549873613, 0.04981727093731051, 0.011496293293225502, 0.030656782115268004, 0.7434269662952492, 0.0647529916504371, 0.8988331936239244, 0.037001709514535484, 0.2412791810119678, 0.7576473645789816, 0.0019227965319793033, 0.02884194797968955, 0.9690894521175689, 0.9935896191021379, 0.9981861146594764, 0.008095990732076105, 0.01349331788679351, 0.9769162150038501, 0.0012880220538752896, 0.20994759478167224, 0.0751346198093919, 0.009445495061752124, 0.004293406846250966, 0.0017173627385003863, 0.6981079532004071, 0.9963386574722859, 0.9895196007221517, 0.9941772798704914, 0.45974942938399543, 0.5396739713343232, 0.9957139348561442, 0.9969703044168536, 0.9993222404257375, 0.9997402700081414, 0.9982688371639187, 0.0034691888789128485, 0.32052827249098353, 0.6481188223426111, 0.02775351103130279, 0.037174195875813415, 0.014821084630226264, 0.11565305383586395, 0.8144307488609579, 0.0007289058014865375, 0.016764833434190364, 0.995728733945233, 0.9969406778794826, 0.0002544093198771076, 0.16180432744184042, 0.17325274683631028, 0.054443594453701026, 0.2550453431768004, 0.011194010074592734, 0.030529118385252914, 0.006741846976743351, 0.0076322795963132285, 0.0418503331197842, 0.0001272046599385538, 0.12237088286088876, 0.07772204722245638, 0.01564617317244212, 0.028621048486174607, 0.012466056673978272, 0.9945263828675475, 0.00212461757090327, 0.47880617646495083, 0.008616504593107706, 0.10782434172334095, 0.048748169821280586, 0.05317445642732906, 0.0061968012484678705, 0.03198729787304368, 0.00017705146424193917, 0.13886736512042763, 5.9017154747313055e-05, 0.00023606861898925222, 0.12305076764814772, 0.00017705146424193917, 0.988539366557525, 0.9959453117717733, 0.9980607544922034, 0.21330480686129816, 0.29282547028877565, 0.00611697410980596, 0.011444661237701473, 0.04222685353220888, 0.03887238385908949, 0.26717364337668614, 0.0003946434909552232, 0.03788577513170143, 0.0021705392002537276, 0.0084848350555373, 0.026638435639477567, 0.0037491131640746207, 0.002565182691208951, 0.04538400145985067, 0.0005919652364328349, 0.9989411436587569, 0.030142736918477887, 0.06782115806657525, 0.15908666706974442, 0.5417319662848665, 0.10005714060439189, 0.09963849148052413, 0.0012559473716032455, 0.9963956211093932, 0.9975726537901909, 0.9743677621525011, 0.02484863690187986, 0.02467742795250485, 0.9739358231921915, 0.9961887589393825, 0.8874188019899093, 0.11236415705872761, 0.9989242606272382, 0.9928329958776897, 0.9933724320749534, 0.999750592651013, 0.9949141969239821, 0.0011640997461593288, 0.14221418565579802, 0.03880332487197763, 0.2570720272768518, 0.0002910249365398322, 0.0002910249365398322, 0.14037102772437907, 0.16413806420846538, 0.003201274301938154, 0.06460753591184275, 0.07004000139391962, 0.042101607486095725, 9.700831217994408e-05, 0.032303767955921374, 0.0090217730327348, 0.034146925887340314, 0.9967155674608066, 0.049960181023663175, 0.04312801951615368, 0.35121580249540996, 0.10461747308373913, 0.24083369313970968, 0.003416080753754747, 0.10162840242420372, 0.09906634185888767, 0.005978141319070807, 0.9985055788405337, 0.9980222677798697, 0.016356070126893257, 0.9813642076135954, 0.9934147473864143, 0.9984530722245056, 0.9942222633134251, 0.9984112424600551, 0.9924036680572053, 0.1660006347952166, 0.31247178314393714, 0.1358572970191031, 0.38549508029170504, 0.997719267994604, 0.020582457424344877, 0.0717267455696867, 0.7621746355318012, 0.1447009128014549, 0.023137064156175606, 0.975612871918738, 0.11150402819865943, 0.7239440636778635, 0.10318283206443112, 0.06116079158657812, 0.1578868821389201, 0.2123523469645097, 0.0448631718939105, 0.3776377170999694, 0.20700024926488528, 0.9202282893553675, 0.07013677503810423, 0.009295235246013812, 0.7834488882255604, 0.2156963711253916, 0.9941281276332673, 0.004409801471621932, 0.04262808089234534, 0.9525171178703373, 0.9989554980413278, 0.059290805977529705, 0.28399436776193576, 0.009022513953102346, 0.6479024305370638, 0.9973655739750377, 0.48158289412786676, 0.35132272838673306, 0.014528383504714526, 0.05745315295046199, 0.0069340012181592055, 0.027405814338438764, 0.003301905341980574, 0.026910528537141678, 0.016344431442803842, 0.0075943822865553205, 0.00033019053419805743, 0.0021462384722873732, 0.0031368100748815453, 0.0009905716025941722, 0.9950633575691362, 0.03358659656548492, 0.96600218891037, 0.9976100200076574, 0.00010538410821247305, 0.99714443190642, 0.002002298056036988, 0.0006323046492748383, 0.849437937472559, 0.043022180578704404, 0.020010316548234604, 0.028014443167528446, 0.018009284893411144, 0.028014443167528446, 0.013006705756352493, 0.995430892772823, 0.998256071980831, 0.9966506182780374, 0.05106708769580439, 0.9465649469329456, 0.0004629163634584802, 0.02897856435250086, 0.11646975704615362, 9.258327269169604e-05, 0.039625640712045905, 0.10091576723394868, 0.7110395342722255, 0.0006480829088418722, 0.0016664989084505285, 0.0001749202792694336, 0.0687436697528874, 0.4472711540919417, 0.05859829355526025, 0.4250562786247236, 0.9992570533712564, 0.010247337727975692, 0.9075298475338474, 0.08197870182380554, 0.9965580886495694, 0.008218114000128781, 0.2121979058335139, 0.19304814962566663, 0.02465434200038634, 0.1556789897382886, 0.06458197134063466, 0.09861736800154536, 0.02775551709477456, 0.058457150529217926, 0.04868844898189504, 0.00038764688679852736, 0.002170822566071753, 0.04411421571767241, 0.011319289094517, 0.030856692189162777, 0.004729292018942034, 0.00015505875471941095, 0.009381054660524362, 0.0050394095283808555, 0.1393295043981151, 0.00028492741185708607, 0.1572799313451115, 0.004558838589713377, 0.11055183580054939, 0.05897997425441682, 0.008262894943855495, 0.3963340298932067, 0.03732549095327828, 0.026213321890851918, 0.03134201530427947, 0.029347523421279866, 0.978023451788903, 0.01884841770042854, 0.0020942686333809486, 0.9990338322319489, 0.9986429060683104, 0.9899042392482159, 0.9980686957957707, 0.9959840512435941, 0.9978953633609027, 0.09614048611508924, 0.2113544198776761, 0.27372974867084393, 0.1667637922693371, 0.25182105880547506, 0.013822555602544263, 0.37266694026467373, 0.0006775762550266795, 0.0006775762550266795, 0.10339813651707129, 0.5083177065210149, 0.0002710305020106718, 0.9979300282441801, 0.9936758652928619, 0.9970972677011085, 0.9979306410423615, 0.9979705079401164, 0.9954644605056359, 0.9993528804027109, 0.31905045564143275, 0.4597717435644415, 0.003545005062682586, 0.06627618160667444, 0.01125153780764473, 0.037145487830717534, 0.020499377101599305, 0.04623919646977286, 0.0029284824430856147, 0.005394572921473501, 0.0015413065489924289, 0.0020036985136901576, 0.007860663399861387, 0.008785447329256844, 0.007552402090062901, 0.1718530892843587, 0.6374063890902415, 0.05158986748760208, 0.03054663206502755, 0.03733477252392256, 0.03190426015680655, 0.013236873894845272, 0.004977969669856341, 0.00033940702294475055, 0.003620341578077339, 0.0010182210688342516, 0.013236873894845272, 0.0029415275321878383, 0.9953224686949745, 0.34100977585701914, 0.12178920566322113, 0.5369315414891574, 0.9955536518408844, 0.04428648147735252, 0.2662794772372462, 0.6889631105780538, 0.25548845861628555, 0.028387606512920615, 0.10787290474909834, 0.6074947793765012, 0.9992906333102725, 0.3366197829944, 0.06882960419054823, 0.06882960419054823, 0.5237502693874531, 0.049655875683373124, 0.8209995121433381, 0.12917237931147738, 0.9948445511074937, 0.0006865754474877306, 0.9907283707247952, 0.008582193093596632, 0.7615182481120085, 0.002297684369303474, 0.23567676816569919, 0.9945349390488214, 0.023407407914030457, 0.4484646561710835, 0.036973064773298106, 0.14071044075593309, 0.35004714562345546, 0.06028556142523304, 0.9392152420174156, 0.9980812856594511, 0.1821053746851895, 0.2542603344661136, 0.006381050864979686, 0.5178468201964284, 0.03926800532295191, 0.9962923431260388, 0.06883128042300417, 0.11812222292541125, 0.038552558600096966, 0.27778966881713707, 0.006513445973532364, 0.0084498758575555, 0.02059657240279153, 0.0515794505471617, 0.002816625285851833, 0.042073340207411755, 0.021652806884985967, 0.1681173217492813, 0.07745719536092541, 0.055804388475939444, 0.0052811724109721875, 0.035207816073147914, 0.0007041563214629583, 0.10931042711415397, 0.06564409247331468, 0.09167038464335134, 0.04337715361672776, 0.02342366295303299, 0.035569265965716766, 0.009542973795680108, 0.0251587490977021, 0.009253792771568589, 0.002024267168780629, 0.0008675430723345553, 0.5841456687052672, 0.9860336793382221, 0.007604372848366751, 0.006155920877249275, 0.0033879097547931687, 0.9926575581543984, 0.9997479961125916, 0.994179060522312, 0.997766205113364, 0.9922375132107251, 0.09162612195099051, 0.6711977028632082, 0.005090340108388361, 0.14761986314326248, 0.003635957220277401, 0.0058175315524438415, 0.02981484920627469, 0.04581306097549526, 0.9983772374642851, 0.7093589747265874, 0.000649596130702003, 0.04936930593335223, 0.24035056835974114, 0.011275125574771602, 0.07610709762970831, 0.031811961443105594, 0.8802651609446687, 0.9971966595849533, 0.6296286279131093, 0.31384381690143603, 0.03956641840098979, 0.01274088441591621, 0.004180602698972506, 0.9992552118109982, 0.8661188417532351, 0.1330499356429058, 0.003714157143784122, 0.000857113187027105, 0.468269504512475, 0.08742554507676471, 0.09599667694703576, 0.3154176528259746, 0.027999030776218764, 0.9924020625810174, 0.0060145579550364685, 0.000983104693573251, 0.024577617339331274, 0.001966209387146502, 0.000983104693573251, 0.013763465710025513, 0.1042090975187646, 0.002949314080719753, 0.8494024552472889, 0.9488109406156355, 0.05056647454831391, 0.2567815613738987, 0.7422299146282035, 0.21786831018729286, 0.7812729849391457, 0.3842927937914438, 0.0016098441391622423, 0.020238040606611045, 0.0004599554683320692, 0.006669354290815004, 0.004139599214988623, 0.12648775379131902, 0.027597328099924153, 0.3727939070831421, 0.027827305834090186, 0.002759732809992415, 0.003449666012490519, 0.009889042569139488, 0.01149888670830173, 0.996385825804444, 0.0018215462994596783, 0.9977040581325538, 0.9971568456607808, 0.7353486667517046, 0.2643141361611022, 0.9954923057224142, 0.21493143539137838, 0.058338532463374136, 0.7207879208303725, 0.0053732858847844595, 0.9932753632217467, 0.025004490508298196, 0.7162000495591127, 0.16342220582209177, 0.04822294598028938, 0.04643691094398236, 0.018259564786507705, 0.020407748879038023, 0.9602382893610522, 0.11625355942989192, 0.0008143857052882096, 0.27760372729011845, 0.36901852270872, 0.034305997835265827, 0.02728192112715502, 0.047539765546199236, 0.003562937460635917, 0.08775005974480458, 0.03532397996687609, 0.000508991065805131, 0.8170362371166028, 0.1823138710921345, 0.9997654693505882, 0.00013128896511498204, 0.9987515252055484, 0.0003501041097286788, 0.1106328986742625, 0.8651072551395653, 0.023807079461550158, 0.991314491057634, 0.0028162343495955512, 0.0028162343495955512, 0.9980718446059306, 0.03919099717534806, 0.25105519972722967, 0.10903633867596838, 0.19013454075168862, 0.045787501650406646, 0.00038802967500344617, 0.06829322280060653, 0.295678612352626, 0.15811342625363647, 0.5327618498173378, 0.19161203351076284, 0.009379610031995384, 0.1050516323583483, 0.0029478774386271205, 0.9988305331637434, 0.9996876904564567, 0.012927902723069944, 0.005745734543586642, 0.11814666655250032, 0.016159878403837428, 0.43631671690361057, 0.06751238088714304, 0.3231975680767486, 0.020110070902553245, 0.9954802355091714, 0.9984490014400501, 0.850729733195564, 0.049013235657357594, 0.02013043607355758, 0.036759926743018194, 0.002625709053072728, 0.022756145126630312, 0.017504727020484855, 0.07581808007122648, 0.002195178264868473, 0.01621054718672103, 0.0806305862672843, 0.00042214966632086017, 0.8246271581911683, 0.23606903829317072, 0.03952048632140135, 0.013173495440467116, 0.013173495440467116, 0.02265841215760344, 0.6750099063695351, 0.04981697257111469, 0.0020128069725702906, 0.061994454755164956, 0.2750500728017302, 0.001710885926684747, 0.07346745449881562, 0.0470996831581448, 0.20691655678022589, 0.24002723147900717, 0.041967025378090564, 0.9965408009613046, 0.9989811607735344, 0.9971762113323678, 0.9988935539297393, 0.9989307685252913, 0.038511291441291444, 0.9605169159475043, 0.2049376011867061, 0.45960982324686206, 0.015868633897365345, 0.07663389052873995, 0.042767903552655376, 0.0555402186407787, 0.05341149945942481, 0.0015481594046210091, 0.0251575903250914, 0.02651222980413478, 0.005612077841751158, 0.0019351992557762614, 0.0005805597767328785, 0.001161119553465757, 0.009869516204458932, 0.008321356799837924, 0.009482476353303682, 0.001161119553465757, 0.9950239845070966, 0.5589335435960662, 0.3235206471553585, 0.02360029036999576, 0.05644402780157319, 0.00590007259249894, 0.009636785234414934, 0.0035400435554993636, 0.0013766836049164193, 0.003146705382666101, 0.0019666908641663133, 0.0009833454320831566, 0.0007866763456665253, 0.0017700217777496818, 0.0047200580739991515, 0.0035400435554993636, 0.09894550003757364, 0.4875871032779402, 0.4132929735246418, 0.9952463587100104, 0.9968384653558243, 0.6944940048836402, 0.29095546035151837, 0.014362451068307436, 0.9974441244720897, 0.9939819849605296, 0.9938910479007569, 0.9964285519003181, 0.3513088594608137, 0.11999405664029605, 0.004376441057835731, 0.07248977824887912, 0.012811036551119141, 0.022996208467536843, 0.0017505764231342926, 0.0038990111242536516, 0.05570015891790931, 0.23425895407760713, 0.0007161449003731196, 0.10614858856641574, 0.0001591433111940266, 0.01328846648470122, 0.9889862570373888, 0.0511342108669222, 0.8976894796637452, 0.04924035120518434, 0.2227986051422937, 0.03507015080943512, 0.741630542117172, 0.9976065761939786, 0.9973414373327394, 0.086899920680392, 0.18714624556084422, 0.0011863470400053516, 0.1017292586804589, 0.11685518344052713, 0.2230332435210061, 0.2752325132812416, 0.007711255760034785, 0.9942104398497416, 0.9949854386109619, 0.004354422050813838, 0.9986964606474314, 0.9998423202784976, 0.996333327861916, 0.9989493961993058, 0.9975944891889732, 0.13041069238540906, 0.026557800576967803, 0.009909627080958135, 0.04280958898973915, 0.6599811635918118, 0.015062633163056366, 0.08284448239681001, 0.026954185660206128, 0.00515300608209823, 0.8979145627311313, 0.06990841388301022, 0.030868650286004516, 0.007392972331518349, 0.0029571889326073394, 0.0007392972331518348, 0.014785944663036697, 0.9736544560609665, 0.9982247827383238, 0.9993207622879404, 0.9518258189297518, 0.04722236621046831, 0.9977592722967459, 0.993408243736797, 0.04202827170573986, 0.9564615773033527, 0.9990852803119874, 0.04561589044495772, 0.9465297267328727, 0.9969028453884636, 0.9969237577368172, 0.8870052077716641, 0.11216991927073573, 0.3567357236913412, 0.18792328301597439, 0.057077715790614596, 0.06574129765169003, 0.040387580146483984, 0.14282169509214054, 0.06981827735101964, 0.02076711534346022, 0.0025481123120810086, 0.02917588597332755, 0.012613155944800994, 0.01172131663557264, 0.0025481123120810086, 0.2000255190120022, 0.04463379349854594, 0.01723950754176642, 0.01487793116618198, 0.03152704461405229, 0.04298069003563683, 0.05915748820839026, 0.10048507478111798, 0.39450133354138095, 0.09446305502337765, 0.034551741269991755, 0.0942974605493525, 0.20173178106073308, 0.419839647827556, 0.04067027878655279, 0.08601943920341697, 0.02735346183874347, 0.06280498803764126, 0.008817892303279146, 0.004678881630311383, 0.005578666559217418, 0.0019795268435932774, 0.01151724708999725, 0.014040470981421459, 0.36338642692594186, 0.03343535886253755, 0.11446553461124953, 0.07353399208913951, 0.05473403941910061, 0.061873261952026776, 0.04818975209725162, 0.06496692504962812, 0.06092136561430328, 0.006425300279633549, 0.012017691263759046, 0.0009518963377234888, 0.022250576894286552, 0.003688598308678519, 0.01891893971225434, 0.029627773511643588, 0.004164546477540263, 0.005830365068556369, 0.006544287321848985, 0.0013678915241226847, 0.9978768668474984, 0.008528436086850692, 0.033420375559853936, 0.19012172154589105, 0.010123184298213017, 0.1117017116741176, 0.0067950141179786, 0.0016640850901172082, 0.008181751693076274, 0.0004853581512841858, 0.08119348502196878, 0.17063805861576872, 0.00013867375750976736, 0.18298002303413802, 0.003674854574008835, 0.134721555420739, 0.048189130734644155, 0.00734970914801767, 0.99909736160673, 0.9982068168287475, 0.9935019108483667, 0.9953712634855172, 0.19510836709768284, 0.08808041769239225, 0.07271755414139361, 0.11317309482569005, 0.13928996286238773, 0.38714416148516595, 0.0025604772584997748, 0.000512095451699955, 0.000512095451699955, 0.9958433031780464, 0.9974106919552798, 0.99814265596685, 0.9991058797935463, 0.9984673045566808, 0.9984492042745907, 0.9910727898808197, 0.007385043143672278, 0.9926746339542891, 0.9942302908997825, 0.9969644898943303, 0.10460292914871355, 0.8941863298196481, 0.8408092108376335, 0.15792743834201092, 0.08310910287600529, 0.9168596229280903, 0.9989057740647628, 0.22720943314846648, 0.01864444583554871, 0.21915124045683101, 0.19703071149940035, 0.07362976067259067, 0.030178721649066133, 0.0009480226696041717, 0.10649454655220195, 0.009006215361239632, 0.0023700566740104292, 0.0022120528957430673, 0.00015800377826736194, 0.008532204026437545, 0.03160075565347239, 0.07094369644204551, 0.0017380415609409814, 0.9983766560231397, 0.0107341841387441, 0.0039033396868160364, 0.7309003563563028, 0.25371707964304235, 0.07096240831125675, 0.9289226960662459, 0.9968661735088241, 0.9964280792599808, 0.3445426724647283, 0.361840983677744, 0.03563193282282028, 0.0295494842416851, 0.01911010440739635, 0.08364445247390863, 0.01043937983428875, 0.03153382916886395, 0.010051138435492888, 0.001337275929185749, 0.011043310899082314, 0.009662897036697026, 0.0012078621295871282, 0.015012000753440021, 0.0018980690607797728, 0.018678725075400946, 0.006643241712729205, 0.008066793508314034, 0.4656036377843207, 0.22298969102752042, 0.02776468773549961, 0.027037863449229985, 0.02253155287435832, 0.05044160546711186, 0.009448715721505102, 0.0008721891435235479, 0.029799795737054553, 0.00973944543601295, 0.02093253944456515, 0.07442680691400942, 0.013518931724614993, 0.0005814594290156986, 0.006541418576426609, 0.01686232344145526, 0.0007268242862696233, 0.0018258322991430733, 0.0010650688411667926, 0.053152006930609466, 0.02682959128463016, 0.748540525084795, 0.04589939529790226, 0.11497671728214853, 0.0005578932025159391, 0.002333007937793927, 0.0005071756386508537, 0.00010143512773017074, 0.0007100458941111952, 0.0033980767789607196, 0.061382357747492344, 0.9365194010617404, 0.9342161808360635, 0.00038476778452885643, 0.05886947103291504, 0.006156284552461703, 0.15758798507459126, 0.3082001717273027, 0.06448095536079605, 0.07864941640419967, 0.047890844088035185, 0.08938419428657435, 0.022806884995886945, 0.01752985613788458, 0.06542070022591977, 0.02884293855264308, 0.0023855061960832624, 0.023421333561544754, 0.012180539213334233, 0.019553922001227953, 0.00704808648842782, 0.020385234766529696, 0.016445535139664912, 0.0029638107284670834, 0.007843255220455574, 0.006975798421879843, 0.9997859043464989, 0.9983417189745746, 0.0013694756968499948, 0.8760079540850466, 0.12233982891859953, 0.10170685014032306, 0.005581473483310412, 0.8924155936092981, 0.9453698745365672, 0.05269274710531686, 0.9973609087954671, 0.7855658048640317, 0.21377449868710469, 0.9960415696041238, 0.0033480388894256263, 0.032718168806906624, 0.10970903090027609, 0.0001768549665238196, 0.45333823085605757, 0.016388560231207282, 0.007722666871540123, 5.8951655507939865e-05, 0.11813911763791149, 0.007486860249508363, 5.8951655507939865e-05, 0.251959375640935, 0.0021812112537937752, 0.210151710139367, 0.027821502997173883, 0.0037757754067593127, 0.01947505209802172, 0.005067488045913815, 0.02533744022956907, 0.019375689587317526, 0.6640396590361181, 0.025039352697456496, 0.9966184473835826, 0.6904464289608582, 0.08082932405547881, 0.03889179070495502, 0.06021198922393639, 0.0016400152706908745, 0.12698403953063628, 0.0007028636874389462, 0.9990847355727825, 0.996640016417434, 0.9993940236587489, 0.04694496438787355, 0.0030148142267441727, 0.07924654538870397, 0.0033378300367524773, 0.10013490110257431, 0.2577666163866268, 0.04080766399771577, 0.04716030826121242, 0.04037697625103803, 0.0005383596833471737, 0.002476454543396999, 0.3781438415830548, 0.9981983751813835, 0.9994086890455036, 0.0020454085310500237, 0.000584402437442864, 0.2521696517565958, 0.4805736043905151, 0.00691542884307389, 0.25100084688171004, 0.0010714044686452506, 0.0055518231557072075, 0.9978669656945988, 0.9959325730008739, 0.9981870022006808, 0.9971832246433335, 0.683752754493432, 0.31521357486179014, 0.7709459278632481, 0.07084125243653845, 0.012574041636913324, 0.1454996246557113, 0.8468074642215457, 0.1512156186109903, 0.9968182396836983, 0.06228151451062615, 0.8852143127985717, 0.05207143016462186, 0.04651545885794377, 0.6053365801190297, 0.01675712182460086, 0.015601458250490457, 0.10031159823278309, 0.07066882755685122, 0.05963224042409686, 0.0017334953611656064, 0.02738922670641658, 0.005200486083496819, 0.006471716015018263, 0.0012134467528159244, 0.003871472973269854, 0.007396246874306587, 0.006991764623367946, 0.01109437031145988, 0.01109437031145988, 0.00271580939915945, 0.8177135085027423, 0.17842814350692748, 0.003450267968366001, 0.9897469278879197, 0.19182690734496596, 0.63543389234986, 0.01882250695934857, 0.010979795726286665, 0.047172455712935296, 0.04908956290323932, 0.00011618831456388005, 0.009701724266083983, 0.0015104480893304406, 0.0015685422466123807, 0.002439954605841481, 0.0010456948310749205, 0.015336857522432166, 0.010921701569004724, 0.0015685422466123807, 0.002556142920405361, 0.000835346672678433, 0.37674134937797327, 0.08590148284043218, 0.028819460207405934, 0.4263052519568936, 0.081028627249808, 0.0004176733363392165, 0.9973191114273405, 0.9970844050809189, 0.99672699241337, 0.017186894961302202, 0.9822971504805798, 0.5757558719267797, 0.21238020025856938, 0.013975987371854244, 0.06111068988085287, 0.013975987371854244, 0.03041832545638865, 0.005480779361511468, 0.045216429732469615, 0.01287983149955195, 0.006576935233813762, 0.015620221180307684, 0.001370194840377867, 0.0002740389680755734, 0.004658662457284748, 0.9597155764504871, 0.03914011323207533, 0.9996062487263003, 0.7704688076232461, 0.22923374213119224, 0.0010165188699724922, 0.04269379253884467, 0.9555277377741427, 0.0025193121147779837, 0.054098912780495646, 0.07902684317935148, 0.7392192126256452, 0.000928167621233994, 0.009812057710187935, 0.10037469846773334, 0.01378991894404791, 0.7348292239054004, 0.07199654216519409, 0.08360888767570927, 0.10962054161926327, 0.09066634410847169, 0.41151549920265046, 0.05001168447264452, 0.11241336045335065, 0.02826466812776555, 0.028780917773934784, 0.04620434333214642, 0.002323123407761552, 0.08395509870827164, 0.04246153339741948, 0.0013551553211942388, 0.009227962425275054, 0.0019359361731346267, 0.02064998584676935, 0.02600607592577515, 0.019940142583286656, 0.011422023421494298, 0.012260929096519302, 0.000580780851940388, 0.15400824293997795, 0.1065320176727667, 0.7387763834263603, 0.9961295210408544, 0.9952412080834127, 0.003672476782595619, 0.41843840061195686, 0.4716660367662971, 0.007744078974928258, 0.0002581359658309419, 0.034022320296518145, 0.04233429839627448, 0.009138013190415344, 0.0007227807043266374, 0.0003613903521633187, 0.0012390526359885212, 0.0035106491353008103, 0.00015488157949856515, 0.004078548260128882, 0.003975293873796506, 0.0005678991248280722, 0.0017036973744842168, 0.9982566314307394, 0.05622455831481365, 0.12851327614814548, 0.038306841928774135, 0.06302093349572518, 0.008649932048432868, 0.6802553703803277, 0.0006178522891737763, 0.0067963751809115396, 0.017299864096865736, 0.0012357045783475526, 0.01098608238840052, 0.4339502543418205, 0.09601836007462054, 0.04086822648484993, 0.04460349449690611, 0.008788865910720416, 0.009228309206256436, 0.026146876084393235, 0.020434113242424966, 0.24806574033008372, 0.02197216477680104, 0.00021972164776801038, 0.03361741210850559, 0.005053597898664239, 0.9782389788757453, 0.019816995888827252, 0.9973989620290183, 0.9960357757917299, 0.9997684891575064, 0.9974821354869597, 0.9917097230679156, 0.9684541946118972, 0.01458672267301405, 0.016670540197730344, 0.9980166398550218, 0.004357948275211151, 0.014284386013192107, 0.22733963502351506, 0.3241829300282073, 0.4295000133458101, 0.9972372378634389, 0.9943969741342934, 0.9977635921794782, 0.996801353297476, 0.9930073389347719, 0.9941082520634373, 0.9991701239968979, 0.9968541726544903, 0.9953480857014797, 0.9980544724247619], \"Term\": [\"able\", \"able\", \"able\", \"able\", \"able\", \"able\", \"able\", \"able\", \"able\", \"able\", \"able\", \"able\", \"abort\", \"abstract\", \"abstractautowirecapablebeanfactory\", \"ac\", \"access\", \"access\", \"access\", \"access\", \"access\", \"access\", \"access\", \"access\", \"access\", \"access\", \"access\", \"access\", \"access\", \"accomplish\", \"accomplish\", \"accomplish\", \"accomplish\", \"accomplish\", \"account\", \"account\", \"account\", \"across\", \"across\", \"across\", \"across\", \"across\", \"across\", \"across\", \"across\", \"across\", \"activate\", \"activation\", \"activerecord\", \"activerecord\", \"activity\", \"activity\", \"activitythread\", \"actor\", \"adb\", \"adb\", \"add\", \"add\", \"add\", \"add\", \"add\", \"add\", \"add\", \"add\", \"add\", \"add\", \"add\", \"add\", \"add\", \"add\", \"add\", \"add\", \"add\", \"add\", \"add\", \"addr\", \"addr\", \"address\", \"address\", \"address\", \"address\", \"address\", \"admin\", \"admin\", \"advantage\", \"age\", \"age\", \"age\", \"age\", \"ajax\", \"album\", \"alert\", \"alert\", \"algorithm\", \"algorithm\", \"algorithm\", \"alloc\", \"alloc\", \"allocate\", \"allocated\", \"allocation\", \"also\", \"also\", \"also\", \"also\", \"also\", \"also\", \"also\", \"also\", \"also\", \"also\", \"also\", \"also\", \"also\", \"also\", \"also\", \"also\", \"also\", \"anaconda\", \"android\", \"androidruntime\", \"angular\", \"angular\", \"animal\", \"animated\", \"animation\", \"answer\", \"answer\", \"answer\", \"answer\", \"answer\", \"answer\", \"answer\", \"answer\", \"answer\", \"answer\", \"answer\", \"answer\", \"answer\", \"ant\", \"aop\", \"apache\", \"apache\", \"apache\", \"api\", \"api\", \"api\", \"api\", \"api\", \"api\", \"api\", \"api\", \"api\", \"api\", \"api\", \"api\", \"apk\", \"app\", \"app\", \"app\", \"app\", \"app\", \"app\", \"appdelegate\", \"appendchild\", \"appender\", \"apple\", \"apple\", \"application\", \"application\", \"application\", \"application\", \"application\", \"application\", \"application\", \"application\", \"application\", \"application\", \"application\", \"application\", \"application\", \"appname\", \"approach\", \"approach\", \"approach\", \"approach\", \"approach\", \"approach\", \"approach\", \"apps\", \"apps\", \"apps\", \"apps\", \"appsettings\", \"apr\", \"ar\", \"arg\", \"args\", \"args\", \"arm\", \"arm\", \"armv\", \"arr\", \"array\", \"array\", \"array\", \"array\", \"array\", \"arraylist\", \"arraylist\", \"article\", \"article\", \"article\", \"article\", \"article\", \"article\", \"article\", \"artifact\", \"artifactid\", \"asp\", \"aspnet\", \"assembly\", \"assembly\", \"assembly\", \"asset\", \"asset\", \"asset\", \"async\", \"async\", \"async\", \"asyncio\", \"atlas\", \"attachment\", \"attr\", \"attr\", \"attr\", \"attr\", \"attr\", \"audio\", \"auth\", \"auth\", \"authenticate\", \"authenticate\", \"authenticated\", \"authentication\", \"authentication\", \"author\", \"author\", \"author\", \"author\", \"author\", \"author\", \"authorization\", \"authorization\", \"authorize\", \"autocomplete\", \"autowired\", \"await\", \"aware\", \"aware\", \"aware\", \"aware\", \"aware\", \"ax\", \"babel\", \"backbone\", \"background\", \"background\", \"background\", \"background\", \"badge\", \"bar\", \"bar\", \"bash\", \"bat\", \"bean\", \"bean\", \"bean\", \"beautifulsoup\", \"benchmark\", \"benefit\", \"best\", \"best\", \"best\", \"best\", \"best\", \"best\", \"best\", \"best\", \"better\", \"better\", \"better\", \"better\", \"better\", \"better\", \"better\", \"better\", \"better\", \"better\", \"bin\", \"binary\", \"binary\", \"binary\", \"binary\", \"binary\", \"binary\", \"binary\", \"binding\", \"binding\", \"bit\", \"bit\", \"bit\", \"bit\", \"bit\", \"bit\", \"bit\", \"bitmap\", \"bitmap\", \"black\", \"black\", \"blah\", \"blob\", \"blob\", \"blocking\", \"blocking\", \"blue\", \"bluetooth\", \"board\", \"body\", \"body\", \"body\", \"body\", \"body\", \"book\", \"book\", \"book\", \"boolean\", \"boolean\", \"boolean\", \"boolean\", \"boost\", \"boot\", \"boot\", \"boot\", \"boot\", \"boot\", \"bootstrap\", \"bootstrap\", \"bootstrap\", \"bootstrap\", \"border\", \"bottom\", \"bottom\", \"bottom\", \"bottom\", \"bottom\", \"bottom\", \"bounty\", \"br\", \"br\", \"br\", \"branch\", \"breakpoint\", \"broadcast\", \"browser\", \"browser\", \"browser\", \"browser\", \"browser\", \"browser\", \"browser\", \"buffer\", \"buffer\", \"buffer\", \"build\", \"build\", \"build\", \"build\", \"build\", \"build\", \"build\", \"build\", \"bundler\", \"button\", \"button\", \"button\", \"button\", \"byte\", \"byte\", \"byte\", \"byte\", \"byte\", \"byte\", \"cache\", \"cache\", \"cache\", \"cache\", \"calendar\", \"call\", \"call\", \"call\", \"call\", \"call\", \"call\", \"call\", \"call\", \"call\", \"call\", \"call\", \"call\", \"call\", \"callback\", \"callback\", \"callback\", \"canvas\", \"canvas\", \"car\", \"car\", \"card\", \"card\", \"cart\", \"cart\", \"cascade\", \"case\", \"case\", \"case\", \"case\", \"case\", \"case\", \"case\", \"case\", \"case\", \"case\", \"case\", \"case\", \"case\", \"case\", \"case\", \"cat\", \"cat\", \"cat\", \"catalina\", \"category\", \"category\", \"category\", \"category\", \"category\", \"category\", \"cd\", \"cd\", \"cell\", \"cell\", \"center\", \"center\", \"centos\", \"certificate\", \"certificate\", \"ch\", \"change\", \"change\", \"change\", \"change\", \"change\", \"change\", \"change\", \"change\", \"change\", \"change\", \"change\", \"change\", \"change\", \"change\", \"change\", \"change\", \"char\", \"char\", \"charfield\", \"charset\", \"charset\", \"chart\", \"chat\", \"checkbox\", \"checkout\", \"child\", \"child\", \"child\", \"child\", \"child\", \"child\", \"child\", \"child\", \"chrome\", \"chrome\", \"chrome\", \"chrome\", \"chrome\", \"chunk\", \"chunk\", \"ci\", \"ci\", \"cipher\", \"circle\", \"city\", \"class\", \"class\", \"class\", \"class\", \"class\", \"class\", \"class\", \"class\", \"class\", \"clause\", \"click\", \"click\", \"click\", \"click\", \"click\", \"click\", \"click\", \"client\", \"client\", \"clock\", \"clock\", \"clone\", \"closure\", \"cmake\", \"cmd\", \"cmd\", \"cocoa\", \"code\", \"code\", \"code\", \"code\", \"code\", \"code\", \"code\", \"code\", \"code\", \"code\", \"code\", \"code\", \"code\", \"code\", \"code\", \"code\", \"col\", \"collection\", \"collection\", \"collection\", \"collection\", \"collection\", \"color\", \"color\", \"column\", \"com\", \"com\", \"com\", \"com\", \"com\", \"command\", \"command\", \"command\", \"command\", \"command\", \"command\", \"command\", \"command\", \"commit\", \"commits\", \"common\", \"common\", \"common\", \"common\", \"common\", \"common\", \"common\", \"common\", \"common\", \"common\", \"common\", \"common\", \"compile\", \"compile\", \"compile\", \"compile\", \"compile\", \"compile\", \"compile\", \"compile\", \"compile\", \"compiler\", \"compiler\", \"compiler\", \"compiler\", \"compiler\", \"compiler\", \"compiler\", \"compiler\", \"component\", \"component\", \"con\", \"concept\", \"concept\", \"concept\", \"config\", \"config\", \"config\", \"config\", \"config\", \"configuration\", \"configuration\", \"configuration\", \"configuration\", \"configuration\", \"configuration\", \"configuration\", \"configuration\", \"configuration\", \"conn\", \"conn\", \"connect\", \"connect\", \"connect\", \"connect\", \"connecting\", \"connection\", \"connectionstring\", \"connector\", \"considered\", \"considered\", \"console\", \"console\", \"console\", \"console\", \"console\", \"console\", \"console\", \"console\", \"const\", \"const\", \"constraint\", \"constraint\", \"constraint\", \"constructor\", \"content\", \"content\", \"content\", \"content\", \"content\", \"content\", \"content\", \"content\", \"content\", \"content\", \"content\", \"context\", \"context\", \"context\", \"context\", \"control\", \"control\", \"control\", \"control\", \"control\", \"control\", \"control\", \"control\", \"control\", \"control\", \"controller\", \"controller\", \"controller\", \"controller\", \"cookie\", \"cordova\", \"core\", \"core\", \"core\", \"core\", \"core\", \"core\", \"core\", \"core\", \"core\", \"core\", \"core\", \"core\", \"core\", \"cors\", \"cors\", \"could\", \"could\", \"could\", \"could\", \"could\", \"could\", \"could\", \"could\", \"could\", \"could\", \"could\", \"could\", \"count\", \"count\", \"count\", \"count\", \"count\", \"count\", \"counter\", \"country\", \"cout\", \"coverage\", \"cp\", \"cpp\", \"cpp\", \"cpu\", \"cpu\", \"cpu\", \"crash\", \"crash\", \"crash\", \"create\", \"create\", \"create\", \"create\", \"create\", \"create\", \"create\", \"create\", \"create\", \"create\", \"create\", \"create\", \"create\", \"create\", \"create\", \"createelement\", \"credential\", \"credential\", \"criterion\", \"criterion\", \"critical\", \"cron\", \"crypto\", \"crypto\", \"cs\", \"cs\", \"cs\", \"cs\", \"csc\", \"ctypes\", \"cuda\", \"culture\", \"curl\", \"customer\", \"customer\", \"customer\", \"cv\", \"cycle\", \"data\", \"data\", \"data\", \"data\", \"data\", \"data\", \"data\", \"data\", \"data\", \"data\", \"data\", \"data\", \"data\", \"data\", \"database\", \"database\", \"database\", \"database\", \"dataframe\", \"dataframes\", \"datagrid\", \"datagridview\", \"datasource\", \"datasource\", \"datasource\", \"datatable\", \"date\", \"dateformatter\", \"datepicker\", \"datetime\", \"datetime\", \"datetime\", \"day\", \"day\", \"day\", \"day\", \"day\", \"day\", \"day\", \"day\", \"day\", \"db\", \"db\", \"db\", \"db\", \"dbcontext\", \"dbo\", \"dbset\", \"dd\", \"debug\", \"debug\", \"debug\", \"debugger\", \"dec\", \"decimal\", \"decision\", \"decode\", \"decode\", \"decorator\", \"decorator\", \"decrypt\", \"default\", \"default\", \"default\", \"default\", \"default\", \"default\", \"default\", \"default\", \"default\", \"default\", \"default\", \"default\", \"default\", \"default\", \"default\", \"delayed\", \"delta\", \"dependency\", \"dependency\", \"dependency\", \"dept\", \"desc\", \"deserialize\", \"designer\", \"desktop\", \"desktop\", \"desktop\", \"desktop\", \"device\", \"device\", \"device\", \"device\", \"df\", \"dialect\", \"dict\", \"dict\", \"dictionary\", \"dictionary\", \"dictionary\", \"dictionary\", \"dictionary\", \"diff\", \"difference\", \"difference\", \"difference\", \"difference\", \"difference\", \"difference\", \"difference\", \"difference\", \"difference\", \"difference\", \"different\", \"different\", \"different\", \"different\", \"different\", \"different\", \"different\", \"different\", \"different\", \"different\", \"different\", \"different\", \"different\", \"different\", \"different\", \"difficult\", \"difficult\", \"dim\", \"dir\", \"dir\", \"directive\", \"directive\", \"directory\", \"directory\", \"directory\", \"disadvantage\", \"disk\", \"dispatch\", \"dispatch\", \"dispatch\", \"dispatch\", \"display\", \"display\", \"display\", \"display\", \"display\", \"display\", \"display\", \"display\", \"display\", \"display\", \"display\", \"display\", \"dispose\", \"dist\", \"dist\", \"distance\", \"distributed\", \"div\", \"div\", \"django\", \"django\", \"dll\", \"doctype\", \"doctype\", \"document\", \"dofilter\", \"dog\", \"dom\", \"dom\", \"dom\", \"domain\", \"domain\", \"domain\", \"dosomething\", \"double\", \"download\", \"download\", \"download\", \"downloads\", \"dp\", \"dpi\", \"drawable\", \"drawer\", \"dst\", \"dt\", \"dt\", \"dword\", \"eax\", \"echo\", \"echo\", \"eclipse\", \"edittext\", \"egg\", \"elapsed\", \"elegant\", \"element\", \"element\", \"element\", \"element\", \"element\", \"element\", \"element\", \"element\", \"email\", \"email\", \"email\", \"emp\", \"employee\", \"employee\", \"en\", \"encoder\", \"encoding\", \"encoding\", \"encrypt\", \"end\", \"end\", \"end\", \"end\", \"end\", \"end\", \"end\", \"end\", \"end\", \"end\", \"end\", \"end\", \"end\", \"end\", \"end\", \"end\", \"end\", \"endl\", \"entity\", \"entity\", \"entity\", \"entitymanagerfactory\", \"environment\", \"environment\", \"environment\", \"environment\", \"environment\", \"environment\", \"environment\", \"equation\", \"err\", \"err\", \"err\", \"error\", \"error\", \"error\", \"error\", \"error\", \"error\", \"error\", \"error\", \"error\", \"error\", \"error\", \"error\", \"eset\", \"eslint\", \"esp\", \"especially\", \"especially\", \"even\", \"even\", \"even\", \"even\", \"even\", \"even\", \"even\", \"even\", \"even\", \"even\", \"even\", \"even\", \"even\", \"event\", \"event\", \"event\", \"event\", \"event\", \"event\", \"example\", \"example\", \"example\", \"example\", \"example\", \"example\", \"example\", \"example\", \"example\", \"example\", \"example\", \"example\", \"example\", \"example\", \"example\", \"example\", \"example\", \"example\", \"excel\", \"excel\", \"exception\", \"exception\", \"exception\", \"exception\", \"exe\", \"exe\", \"exe\", \"executor\", \"experience\", \"experience\", \"explorer\", \"export\", \"export\", \"export\", \"export\", \"export\", \"export\", \"expr\", \"express\", \"express\", \"express\", \"expression\", \"expression\", \"expression\", \"extconf\", \"extension\", \"extension\", \"extension\", \"extension\", \"extension\", \"extension\", \"extension\", \"extremely\", \"facebook\", \"facebook\", \"facebook\", \"factory\", \"factory\", \"factory\", \"false\", \"false\", \"false\", \"false\", \"false\", \"false\", \"false\", \"false\", \"false\", \"fast\", \"fb\", \"fb\", \"fb\", \"feature\", \"feature\", \"feature\", \"feature\", \"feature\", \"fff\", \"ffmpeg\", \"fft\", \"field\", \"field\", \"field\", \"figure\", \"figure\", \"figure\", \"figure\", \"figure\", \"figure\", \"figure\", \"figure\", \"figure\", \"figure\", \"figure\", \"figure\", \"figure\", \"figure\", \"figure\", \"figure\", \"file\", \"file\", \"file\", \"file\", \"file\", \"file\", \"file\", \"file\", \"file\", \"file\", \"file\", \"file\", \"filestream\", \"final\", \"final\", \"final\", \"final\", \"final\", \"final\", \"final\", \"final\", \"final\", \"final\", \"final\", \"find\", \"find\", \"find\", \"find\", \"find\", \"find\", \"find\", \"find\", \"find\", \"find\", \"find\", \"find\", \"find\", \"find\", \"find\", \"find\", \"findviewbyid\", \"firebase\", \"firebase\", \"firstname\", \"firstname\", \"flash\", \"flash\", \"flex\", \"float\", \"flutter\", \"fn\", \"folder\", \"folder\", \"folder\", \"following\", \"following\", \"following\", \"following\", \"following\", \"following\", \"following\", \"following\", \"following\", \"following\", \"following\", \"following\", \"following\", \"following\", \"following\", \"following\", \"following\", \"following\", \"font\", \"foo\", \"foo\", \"foobar\", \"foreign\", \"foreignkey\", \"form\", \"form\", \"form\", \"former\", \"formula\", \"fr\", \"fragment\", \"frame\", \"frame\", \"frame\", \"frame\", \"frame\", \"frame\", \"framework\", \"framework\", \"framework\", \"framework\", \"framework\", \"framework\", \"framework\", \"function\", \"function\", \"function\", \"function\", \"function\", \"function\", \"function\", \"function\", \"function\", \"function\", \"function\", \"function\", \"game\", \"gb\", \"gb\", \"gc\", \"gc\", \"gcc\", \"gcc\", \"gcc\", \"gdb\", \"gem\", \"gender\", \"get\", \"get\", \"get\", \"get\", \"get\", \"get\", \"get\", \"get\", \"get\", \"get\", \"get\", \"get\", \"get\", \"get\", \"get\", \"get\", \"get\", \"get\", \"get\", \"get\", \"getelementbyid\", \"getid\", \"getname\", \"getproperty\", \"getters\", \"getting\", \"getting\", \"getting\", \"getting\", \"getting\", \"getting\", \"getting\", \"getting\", \"getting\", \"getting\", \"getting\", \"getting\", \"getting\", \"getting\", \"getting\", \"getting\", \"gettype\", \"git\", \"github\", \"github\", \"github\", \"github\", \"github\", \"glassfish\", \"glibc\", \"gmail\", \"gmail\", \"gmt\", \"good\", \"good\", \"good\", \"good\", \"good\", \"good\", \"good\", \"good\", \"good\", \"good\", \"good\", \"good\", \"google\", \"google\", \"google\", \"google\", \"google\", \"google\", \"google\", \"google\", \"gpu\", \"gradle\", \"gradle\", \"grand\", \"graph\", \"graph\", \"graph\", \"gravity\", \"grep\", \"grid\", \"grid\", \"group\", \"group\", \"group\", \"group\", \"group\", \"group\", \"group\", \"group\", \"group\", \"group\", \"group\", \"groupby\", \"groupby\", \"groupid\", \"grunt\", \"gson\", \"gt\", \"gui\", \"gui\", \"gulp\", \"hadoop\", \"handshake\", \"hash\", \"hash\", \"haskell\", \"head\", \"head\", \"head\", \"head\", \"head\", \"head\", \"head\", \"head\", \"head\", \"header\", \"header\", \"header\", \"header\", \"header\", \"header\", \"header\", \"heap\", \"hear\", \"heard\", \"height\", \"height\", \"hello\", \"hello\", \"hello\", \"hello\", \"hello\", \"hello\", \"hello\", \"hello\", \"hello\", \"hello\", \"heroku\", \"hex\", \"hg\", \"hh\", \"hibernate\", \"hibernate\", \"hibernate\", \"history\", \"home\", \"home\", \"home\", \"home\", \"hook\", \"hook\", \"host\", \"host\", \"host\", \"however\", \"however\", \"however\", \"however\", \"however\", \"however\", \"however\", \"however\", \"however\", \"however\", \"however\", \"however\", \"however\", \"however\", \"however\", \"however\", \"href\", \"href\", \"html\", \"html\", \"html\", \"html\", \"html\", \"http\", \"http\", \"http\", \"http\", \"http\", \"httpclient\", \"httpwebrequest\", \"icloud\", \"id\", \"id\", \"id\", \"id\", \"id\", \"id\", \"id\", \"identity\", \"identity\", \"idx\", \"ie\", \"ie\", \"ie\", \"iframe\", \"image\", \"image\", \"img\", \"implementation\", \"implementation\", \"implementation\", \"implementation\", \"implementation\", \"implementation\", \"import\", \"import\", \"import\", \"import\", \"import\", \"import\", \"import\", \"include\", \"include\", \"include\", \"include\", \"include\", \"include\", \"include\", \"include\", \"include\", \"include\", \"include\", \"include\", \"include\", \"include\", \"include\", \"index\", \"index\", \"index\", \"index\", \"index\", \"indexpath\", \"indicator\", \"inf\", \"ini\", \"innerhtml\", \"innodb\", \"input\", \"input\", \"input\", \"input\", \"input\", \"input\", \"input\", \"input\", \"input\", \"input\", \"input\", \"input\", \"input\", \"insert\", \"insert\", \"install\", \"install\", \"install\", \"installation\", \"installation\", \"installed\", \"installed\", \"installer\", \"installing\", \"installing\", \"instance\", \"instance\", \"instance\", \"instance\", \"instance\", \"instance\", \"instance\", \"instance\", \"instance\", \"instance\", \"instance\", \"instance\", \"int\", \"int\", \"int\", \"int\", \"int\", \"integer\", \"integer\", \"integer\", \"integer\", \"integer\", \"intellisense\", \"intent\", \"interceptor\", \"interested\", \"interested\", \"interested\", \"interested\", \"interesting\", \"interesting\", \"interesting\", \"interface\", \"interface\", \"interface\", \"interface\", \"interface\", \"internal\", \"internal\", \"internal\", \"internal\", \"internal\", \"internal\", \"internal\", \"internal\", \"internal\", \"interval\", \"io\", \"io\", \"io\", \"ip\", \"iphone\", \"iphone\", \"iphone\", \"iphone\", \"iphone\", \"iphoneos\", \"ipython\", \"iqueryable\", \"iqueryable\", \"iso\", \"issue\", \"issue\", \"issue\", \"issue\", \"issue\", \"issue\", \"issue\", \"issue\", \"issue\", \"issue\", \"issue\", \"issue\", \"item\", \"item\", \"item\", \"item\", \"item\", \"item\", \"itemssource\", \"iterator\", \"jackson\", \"jan\", \"jar\", \"jasmine\", \"java\", \"java\", \"java\", \"java\", \"java\", \"javafx\", \"javascript\", \"javascript\", \"javascript\", \"javascript\", \"javascript\", \"javascript\", \"javax\", \"javax\", \"javax\", \"jboss\", \"jboss\", \"jdbc\", \"jdbc\", \"jdk\", \"jenkins\", \"jest\", \"jetty\", \"jframe\", \"job\", \"job\", \"job\", \"job\", \"john\", \"john\", \"join\", \"join\", \"join\", \"jpg\", \"jquery\", \"json\", \"json\", \"jsp\", \"jvm\", \"jwt\", \"karma\", \"kernel\", \"kernel\", \"key\", \"key\", \"key\", \"key\", \"keyboard\", \"keyboard\", \"keyboard\", \"keychain\", \"keycode\", \"keystore\", \"kill\", \"know\", \"know\", \"know\", \"know\", \"know\", \"know\", \"know\", \"know\", \"know\", \"know\", \"know\", \"know\", \"know\", \"know\", \"know\", \"know\", \"know\", \"know\", \"label\", \"label\", \"label\", \"label\", \"lang\", \"language\", \"language\", \"language\", \"language\", \"lastname\", \"lastname\", \"latency\", \"launcher\", \"layout\", \"layoutinflater\", \"lc\", \"le\", \"le\", \"le\", \"le\", \"le\", \"le\", \"leaf\", \"leak\", \"left\", \"left\", \"left\", \"left\", \"left\", \"left\", \"left\", \"len\", \"len\", \"len\", \"length\", \"length\", \"length\", \"length\", \"length\", \"length\", \"length\", \"length\", \"let\", \"let\", \"let\", \"let\", \"let\", \"let\", \"let\", \"let\", \"let\", \"let\", \"let\", \"let\", \"let\", \"let\", \"li\", \"li\", \"lib\", \"lib\", \"library\", \"library\", \"library\", \"library\", \"library\", \"libsystem\", \"like\", \"like\", \"like\", \"like\", \"like\", \"like\", \"like\", \"like\", \"like\", \"like\", \"like\", \"like\", \"like\", \"like\", \"like\", \"like\", \"like\", \"like\", \"like\", \"like\", \"limited\", \"limited\", \"line\", \"line\", \"line\", \"line\", \"line\", \"line\", \"line\", \"line\", \"line\", \"line\", \"line\", \"line\", \"linearlayout\", \"link\", \"link\", \"link\", \"link\", \"link\", \"link\", \"link\", \"link\", \"link\", \"link\", \"link\", \"link\", \"link\", \"link\", \"linq\", \"linq\", \"linq\", \"list\", \"list\", \"list\", \"list\", \"list\", \"list\", \"list\", \"list\", \"listen\", \"listen\", \"listview\", \"lldb\", \"lnk\", \"load\", \"load\", \"load\", \"load\", \"load\", \"load\", \"load\", \"load\", \"load\", \"load\", \"load\", \"load\", \"load\", \"loader\", \"loader\", \"loadmodule\", \"local\", \"local\", \"local\", \"local\", \"local\", \"local\", \"locale\", \"localhost\", \"localhost\", \"location\", \"location\", \"location\", \"location\", \"location\", \"location\", \"location\", \"location\", \"location\", \"location\", \"location\", \"location\", \"location\", \"location\", \"locationmanager\", \"locationmanager\", \"log\", \"log\", \"log\", \"log\", \"log\", \"log\", \"log\", \"logged\", \"login\", \"long\", \"long\", \"long\", \"long\", \"long\", \"long\", \"long\", \"long\", \"long\", \"long\", \"long\", \"looking\", \"looking\", \"looking\", \"looking\", \"looking\", \"looking\", \"looking\", \"looking\", \"looking\", \"loop\", \"loop\", \"loop\", \"loop\", \"loop\", \"loop\", \"loop\", \"loop\", \"loop\", \"lot\", \"lot\", \"lot\", \"lot\", \"lot\", \"lot\", \"lot\", \"lot\", \"lot\", \"lot\", \"love\", \"lstm\", \"lxml\", \"mac\", \"mac\", \"mac\", \"mac\", \"mail\", \"mail\", \"main\", \"main\", \"main\", \"main\", \"main\", \"main\", \"main\", \"main\", \"main\", \"main\", \"main\", \"main\", \"main\", \"main\", \"main\", \"make\", \"make\", \"make\", \"make\", \"make\", \"make\", \"make\", \"make\", \"make\", \"make\", \"make\", \"make\", \"make\", \"make\", \"make\", \"make\", \"make\", \"make\", \"make\", \"malloc\", \"many\", \"many\", \"many\", \"many\", \"many\", \"many\", \"many\", \"many\", \"many\", \"many\", \"many\", \"many\", \"map\", \"map\", \"map\", \"map\", \"map\", \"map\", \"mapper\", \"margin\", \"margin\", \"margin\", \"mask\", \"mask\", \"master\", \"master\", \"master\", \"master\", \"match\", \"match\", \"match\", \"match\", \"match\", \"match\", \"match\", \"match\", \"match\", \"matplotlib\", \"matrix\", \"maven\", \"max\", \"max\", \"max\", \"max\", \"maximum\", \"maximum\", \"mb\", \"mb\", \"md\", \"md\", \"membership\", \"memory\", \"menu\", \"menu\", \"mercurial\", \"merge\", \"message\", \"message\", \"message\", \"message\", \"message\", \"message\", \"meta\", \"meta\", \"meta\", \"meta\", \"meta\", \"method\", \"method\", \"method\", \"method\", \"method\", \"method\", \"method\", \"method\", \"method\", \"method\", \"method\", \"method\", \"microsoft\", \"microsoft\", \"microsoft\", \"microsoft\", \"microsoft\", \"microsoft\", \"microsoft\", \"microsoft\", \"microsoft\", \"might\", \"might\", \"might\", \"might\", \"might\", \"might\", \"might\", \"might\", \"might\", \"might\", \"migration\", \"migration\", \"min\", \"min\", \"min\", \"min\", \"min\", \"min\", \"min\", \"mingw\", \"mm\", \"mock\", \"mod\", \"modal\", \"model\", \"model\", \"model\", \"model\", \"module\", \"module\", \"module\", \"module\", \"module\", \"module\", \"monad\", \"mongodb\", \"mongoose\", \"month\", \"month\", \"mount\", \"movie\", \"mp\", \"msg\", \"msg\", \"msg\", \"msg\", \"msg\", \"msvcr\", \"msvcrt\", \"much\", \"much\", \"much\", \"much\", \"much\", \"much\", \"much\", \"much\", \"much\", \"much\", \"much\", \"much\", \"much\", \"much\", \"multiprocessing\", \"music\", \"mutex\", \"mvc\", \"mvc\", \"myclass\", \"mylist\", \"myobject\", \"myproject\", \"mysite\", \"mysql\", \"mysql\", \"mystring\", \"mytable\", \"na\", \"name\", \"name\", \"name\", \"name\", \"name\", \"name\", \"name\", \"name\", \"name\", \"name\", \"name\", \"name\", \"name\", \"name\", \"naming\", \"nan\", \"nav\", \"navbar\", \"nbsp\", \"need\", \"need\", \"need\", \"need\", \"need\", \"need\", \"need\", \"need\", \"need\", \"need\", \"need\", \"need\", \"need\", \"need\", \"need\", \"need\", \"need\", \"nested\", \"nested\", \"nested\", \"net\", \"net\", \"net\", \"net\", \"net\", \"net\", \"net\", \"net\", \"network\", \"network\", \"network\", \"neutral\", \"new\", \"new\", \"new\", \"new\", \"new\", \"new\", \"new\", \"new\", \"new\", \"new\", \"new\", \"new\", \"new\", \"new\", \"new\", \"new\", \"new\", \"new\", \"ng\", \"nginx\", \"nicol\", \"nil\", \"nil\", \"node\", \"noise\", \"notebook\", \"notification\", \"np\", \"np\", \"npm\", \"npm\", \"nsdate\", \"nslog\", \"nslog\", \"nslog\", \"nsstring\", \"nsurl\", \"nuget\", \"null\", \"null\", \"null\", \"null\", \"null\", \"nullable\", \"num\", \"num\", \"num\", \"number\", \"number\", \"number\", \"number\", \"number\", \"number\", \"number\", \"number\", \"numpy\", \"numpy\", \"oauth\", \"obj\", \"obj\", \"obj\", \"objc\", \"object\", \"object\", \"object\", \"object\", \"object\", \"object\", \"object\", \"object\", \"object\", \"object\", \"object\", \"objectid\", \"objective\", \"objective\", \"objective\", \"objective\", \"observable\", \"observer\", \"oct\", \"offline\", \"okhttp\", \"oncreate\", \"one\", \"one\", \"one\", \"one\", \"one\", \"one\", \"one\", \"one\", \"one\", \"one\", \"one\", \"one\", \"one\", \"one\", \"one\", \"one\", \"oop\", \"operator\", \"operator\", \"opinion\", \"opinion\", \"option\", \"option\", \"option\", \"option\", \"option\", \"option\", \"option\", \"option\", \"option\", \"option\", \"option\", \"option\", \"option\", \"option\", \"oracle\", \"order\", \"order\", \"order\", \"order\", \"order\", \"order\", \"order\", \"order\", \"order\", \"order\", \"order\", \"order\", \"orderby\", \"org\", \"org\", \"oriented\", \"output\", \"output\", \"output\", \"output\", \"output\", \"output\", \"output\", \"output\", \"output\", \"output\", \"output\", \"output\", \"output\", \"override\", \"override\", \"override\", \"owin\", \"package\", \"package\", \"package\", \"package\", \"package\", \"package\", \"packet\", \"page\", \"page\", \"page\", \"page\", \"page\", \"page\", \"page\", \"page\", \"panda\", \"parent\", \"parent\", \"parent\", \"parent\", \"parent\", \"parent\", \"parentrunner\", \"parse\", \"parse\", \"parse\", \"parse\", \"parse\", \"parse\", \"parse\", \"particularly\", \"partition\", \"passport\", \"password\", \"password\", \"path\", \"path\", \"path\", \"path\", \"path\", \"pattern\", \"pattern\", \"pattern\", \"payment\", \"pd\", \"pdf\", \"pdo\", \"peer\", \"pem\", \"people\", \"people\", \"people\", \"people\", \"people\", \"people\", \"performance\", \"performance\", \"performs\", \"permission\", \"permission\", \"permission\", \"permission\", \"person\", \"pg\", \"php\", \"php\", \"php\", \"phpunit\", \"pid\", \"pid\", \"pid\", \"pid\", \"pip\", \"pivot\", \"pixel\", \"pk\", \"pkg\", \"plot\", \"plt\", \"plugin\", \"plugin\", \"plugin\", \"plugins\", \"plugins\", \"pm\", \"pm\", \"pod\", \"point\", \"point\", \"point\", \"point\", \"point\", \"point\", \"point\", \"point\", \"point\", \"point\", \"point\", \"point\", \"point\", \"pointer\", \"pointer\", \"pointer\", \"pointer\", \"pointer\", \"pointer\", \"policy\", \"policy\", \"policy\", \"pom\", \"pool\", \"pool\", \"pool\", \"pool\", \"pool\", \"pool\", \"popular\", \"popular\", \"port\", \"port\", \"portaudiomodule\", \"portaudiomodule\", \"position\", \"position\", \"position\", \"position\", \"position\", \"position\", \"position\", \"possible\", \"possible\", \"possible\", \"possible\", \"possible\", \"possible\", \"possible\", \"possible\", \"possible\", \"possible\", \"possible\", \"possible\", \"possible\", \"possible\", \"possible\", \"possible\", \"post\", \"post\", \"post\", \"post\", \"post\", \"post\", \"post\", \"post\", \"post\", \"post\", \"powershell\", \"practical\", \"practice\", \"practice\", \"practice\", \"practice\", \"predicate\", \"price\", \"price\", \"primary\", \"primary\", \"primary\", \"print\", \"print\", \"print\", \"print\", \"print\", \"printer\", \"printf\", \"printf\", \"println\", \"println\", \"private\", \"pro\", \"problem\", \"problem\", \"problem\", \"problem\", \"problem\", \"problem\", \"problem\", \"problem\", \"problem\", \"problem\", \"problem\", \"problem\", \"problem\", \"problem\", \"problem\", \"problem\", \"problem\", \"problem\", \"problem\", \"problem\", \"process\", \"process\", \"process\", \"process\", \"process\", \"process\", \"process\", \"process\", \"process\", \"product\", \"product\", \"product\", \"product\", \"product\", \"product\", \"program\", \"program\", \"program\", \"program\", \"programmer\", \"programming\", \"programming\", \"programming\", \"project\", \"project\", \"project\", \"project\", \"project\", \"project\", \"project\", \"project\", \"project\", \"promise\", \"prop\", \"prop\", \"property\", \"property\", \"property\", \"property\", \"property\", \"property\", \"property\", \"property\", \"protected\", \"protected\", \"protected\", \"protocol\", \"protocol\", \"protocol\", \"protocol\", \"prototype\", \"prototype\", \"prototype\", \"prototype\", \"proxy\", \"proxy\", \"proxy\", \"ptr\", \"public\", \"public\", \"publickeytoken\", \"purchase\", \"purely\", \"push\", \"push\", \"push\", \"push\", \"push\", \"push\", \"px\", \"py\", \"pyaudio\", \"pyspark\", \"python\", \"python\", \"query\", \"query\", \"query\", \"question\", \"question\", \"question\", \"question\", \"question\", \"question\", \"question\", \"question\", \"question\", \"question\", \"question\", \"question\", \"question\", \"question\", \"question\", \"queue\", \"queue\", \"queue\", \"quot\", \"rack\", \"radio\", \"radius\", \"rail\", \"rake\", \"ram\", \"random\", \"random\", \"random\", \"random\", \"range\", \"range\", \"range\", \"range\", \"range\", \"range\", \"range\", \"rating\", \"rax\", \"razor\", \"rb\", \"rb\", \"rdd\", \"re\", \"re\", \"react\", \"react\", \"read\", \"read\", \"read\", \"read\", \"read\", \"read\", \"read\", \"read\", \"read\", \"read\", \"read\", \"readonly\", \"real\", \"real\", \"real\", \"real\", \"real\", \"real\", \"real\", \"really\", \"really\", \"really\", \"really\", \"really\", \"really\", \"really\", \"really\", \"really\", \"really\", \"really\", \"really\", \"recommend\", \"record\", \"record\", \"record\", \"record\", \"record\", \"record\", \"rect\", \"rectangle\", \"recursion\", \"recursive\", \"recyclerview\", \"red\", \"red\", \"red\", \"redirected\", \"redis\", \"redux\", \"ref\", \"ref\", \"ref\", \"ref\", \"ref\", \"reflect\", \"reflect\", \"reflect\", \"refresh\", \"refresh\", \"regex\", \"regex\", \"regex\", \"regression\", \"regular\", \"rel\", \"rel\", \"rel\", \"release\", \"release\", \"release\", \"release\", \"release\", \"release\", \"release\", \"reliable\", \"reliably\", \"reminder\", \"remote\", \"remote\", \"rename\", \"replacing\", \"repo\", \"repository\", \"req\", \"request\", \"request\", \"request\", \"request\", \"response\", \"response\", \"response\", \"response\", \"response\", \"response\", \"responsive\", \"restful\", \"result\", \"result\", \"result\", \"result\", \"result\", \"result\", \"result\", \"result\", \"result\", \"result\", \"result\", \"result\", \"result\", \"result\", \"result\", \"result\", \"retrofit\", \"return\", \"return\", \"return\", \"return\", \"return\", \"return\", \"return\", \"return\", \"return\", \"return\", \"return\", \"return\", \"return\", \"return\", \"revert\", \"review\", \"revision\", \"right\", \"right\", \"right\", \"right\", \"right\", \"right\", \"right\", \"right\", \"right\", \"right\", \"right\", \"right\", \"right\", \"right\", \"right\", \"right\", \"role\", \"root\", \"root\", \"root\", \"root\", \"root\", \"root\", \"root\", \"rotate\", \"round\", \"route\", \"route\", \"router\", \"router\", \"routing\", \"row\", \"row\", \"rsa\", \"rspec\", \"rt\", \"ruby\", \"rubygems\", \"run\", \"run\", \"run\", \"run\", \"run\", \"run\", \"run\", \"run\", \"run\", \"run\", \"run\", \"run\", \"run\", \"run\", \"run\", \"run\", \"runner\", \"running\", \"running\", \"running\", \"running\", \"running\", \"running\", \"running\", \"running\", \"running\", \"rvm\", \"sale\", \"sas\", \"sas\", \"savechanges\", \"savedinstancestate\", \"sb\", \"scala\", \"scanner\", \"schema\", \"schema\", \"schema\", \"schema\", \"scipy\", \"scope\", \"scope\", \"scope\", \"scope\", \"score\", \"score\", \"screen\", \"screen\", \"screen\", \"screen\", \"script\", \"script\", \"script\", \"script\", \"script\", \"scroll\", \"scroll\", \"scroll\", \"sdk\", \"sdk\", \"sdl\", \"sec\", \"sec\", \"sec\", \"secret\", \"security\", \"security\", \"security\", \"security\", \"sed\", \"seems\", \"seems\", \"seems\", \"seems\", \"seems\", \"seems\", \"seems\", \"seems\", \"seems\", \"seems\", \"seems\", \"seems\", \"seems\", \"seems\", \"segment\", \"select\", \"select\", \"selenium\", \"self\", \"self\", \"self\", \"self\", \"sense\", \"sense\", \"sense\", \"sense\", \"sense\", \"sense\", \"sense\", \"sensor\", \"sentence\", \"serializable\", \"series\", \"series\", \"server\", \"server\", \"server\", \"server\", \"server\", \"server\", \"server\", \"server\", \"server\", \"service\", \"service\", \"service\", \"service\", \"service\", \"servlet\", \"session\", \"session\", \"session\", \"sessionfactory\", \"set\", \"set\", \"set\", \"set\", \"set\", \"set\", \"set\", \"set\", \"set\", \"set\", \"set\", \"set\", \"set\", \"set\", \"set\", \"set\", \"set\", \"set\", \"set\", \"setting\", \"setting\", \"setting\", \"setting\", \"setting\", \"setting\", \"setting\", \"setting\", \"setting\", \"setting\", \"setting\", \"setting\", \"sh\", \"sh\", \"sh\", \"sha\", \"shadow\", \"sig\", \"simulator\", \"sin\", \"singleton\", \"site\", \"site\", \"site\", \"site\", \"site\", \"size\", \"size\", \"size\", \"size\", \"size\", \"size\", \"size\", \"sizeof\", \"slave\", \"slider\", \"slot\", \"snapshot\", \"sock\", \"socket\", \"solution\", \"solution\", \"solution\", \"solution\", \"solution\", \"solution\", \"solution\", \"solution\", \"solution\", \"solution\", \"solution\", \"solution\", \"solution\", \"solution\", \"solution\", \"something\", \"something\", \"something\", \"something\", \"something\", \"something\", \"something\", \"something\", \"something\", \"something\", \"something\", \"something\", \"something\", \"song\", \"sort\", \"sort\", \"sort\", \"sorting\", \"space\", \"space\", \"space\", \"span\", \"span\", \"span\", \"span\", \"spark\", \"split\", \"split\", \"split\", \"split\", \"spring\", \"spring\", \"spring\", \"springapplication\", \"springframework\", \"springframework\", \"springframework\", \"sql\", \"sql\", \"sql\", \"sqlalchemy\", \"src\", \"src\", \"src\", \"src\", \"src\", \"ssl\", \"ssl\", \"sslv\", \"stack\", \"stack\", \"stack\", \"stack\", \"stack\", \"staging\", \"start\", \"start\", \"start\", \"start\", \"start\", \"start\", \"start\", \"start\", \"start\", \"start\", \"start\", \"start\", \"start\", \"start\", \"start\", \"start\", \"start\", \"state\", \"state\", \"state\", \"state\", \"state\", \"state\", \"state\", \"state\", \"state\", \"state\", \"state\", \"state\", \"static\", \"static\", \"static\", \"stats\", \"stats\", \"std\", \"stdio\", \"stdout\", \"stmt\", \"stop\", \"stop\", \"stop\", \"stop\", \"stop\", \"stop\", \"stop\", \"stop\", \"storyboard\", \"str\", \"str\", \"str\", \"str\", \"stream\", \"stream\", \"stream\", \"stream\", \"streaming\", \"string\", \"string\", \"string\", \"string\", \"string\", \"struct\", \"studio\", \"studio\", \"style\", \"style\", \"style\", \"style\", \"style\", \"style\", \"style\", \"stylesheet\", \"stylesheet\", \"sub\", \"sub\", \"sub\", \"sub\", \"sub\", \"sub\", \"sub\", \"sub\", \"submit\", \"submit\", \"sum\", \"sum\", \"sun\", \"sun\", \"support\", \"support\", \"support\", \"support\", \"support\", \"support\", \"support\", \"support\", \"support\", \"support\", \"support\", \"support\", \"support\", \"support\", \"svg\", \"svg\", \"svn\", \"swap\", \"swift\", \"swift\", \"swing\", \"symbol\", \"symbol\", \"symbol\", \"symbol\", \"symfony\", \"syntax\", \"syntax\", \"syntax\", \"syntax\", \"syntax\", \"sys\", \"sys\", \"sys\", \"system\", \"system\", \"system\", \"system\", \"system\", \"system\", \"system\", \"system\", \"system\", \"system\", \"system\", \"tab\", \"tab\", \"table\", \"table\", \"tableview\", \"tag\", \"tag\", \"tag\", \"tag\", \"talking\", \"talking\", \"talking\", \"tar\", \"target\", \"target\", \"target\", \"target\", \"target\", \"target\", \"target\", \"target\", \"task\", \"task\", \"task\", \"task\", \"task\", \"task\", \"tcp\", \"td\", \"template\", \"template\", \"template\", \"template\", \"template\", \"template\", \"template\", \"template\", \"tenant\", \"tensorflow\", \"term\", \"term\", \"term\", \"term\", \"term\", \"term\", \"term\", \"test\", \"test\", \"test\", \"test\", \"test\", \"test\", \"testing\", \"testing\", \"testing\", \"testing\", \"testing\", \"testing\", \"text\", \"text\", \"text\", \"text\", \"text\", \"text\", \"text\", \"text\", \"text\", \"text\", \"textblock\", \"textbox\", \"texture\", \"textview\", \"tf\", \"th\", \"th\", \"thanks\", \"thanks\", \"thanks\", \"thanks\", \"thanks\", \"thanks\", \"thanks\", \"thanks\", \"thanks\", \"thanks\", \"thanks\", \"thanks\", \"thanks\", \"thanks\", \"thanks\", \"thanks\", \"thanks\", \"thanks\", \"theory\", \"thing\", \"thing\", \"thing\", \"thing\", \"thing\", \"thing\", \"thing\", \"thing\", \"thing\", \"thing\", \"thing\", \"thing\", \"thing\", \"thing\", \"thing\", \"thread\", \"thread\", \"thread\", \"threadpool\", \"threadpoolexecutor\", \"throw\", \"throw\", \"throw\", \"thrown\", \"tick\", \"ticket\", \"tile\", \"time\", \"time\", \"time\", \"time\", \"time\", \"time\", \"time\", \"time\", \"time\", \"time\", \"time\", \"time\", \"time\", \"time\", \"timeit\", \"timer\", \"timer\", \"timer\", \"timestamp\", \"timestamp\", \"timestamp\", \"timezone\", \"tip\", \"title\", \"title\", \"title\", \"title\", \"title\", \"title\", \"title\", \"title\", \"tm\", \"tmp\", \"tmp\", \"toast\", \"token\", \"tolist\", \"tomcat\", \"toolbar\", \"top\", \"top\", \"top\", \"top\", \"top\", \"top\", \"top\", \"top\", \"top\", \"tostring\", \"tostring\", \"tostring\", \"total\", \"total\", \"total\", \"total\", \"total\", \"tp\", \"tr\", \"trace\", \"trace\", \"traceback\", \"tracking\", \"train\", \"train\", \"transaction\", \"transactional\", \"transactional\", \"transforms\", \"transport\", \"tree\", \"tree\", \"tried\", \"tried\", \"tried\", \"tried\", \"tried\", \"tried\", \"tried\", \"tried\", \"tried\", \"tried\", \"tried\", \"tried\", \"tried\", \"true\", \"true\", \"true\", \"true\", \"true\", \"true\", \"true\", \"true\", \"true\", \"true\", \"try\", \"try\", \"try\", \"try\", \"try\", \"try\", \"try\", \"try\", \"try\", \"try\", \"try\", \"try\", \"try\", \"trying\", \"trying\", \"trying\", \"trying\", \"trying\", \"trying\", \"trying\", \"trying\", \"trying\", \"trying\", \"trying\", \"trying\", \"trying\", \"trying\", \"trying\", \"trying\", \"trying\", \"trying\", \"trying\", \"trying\", \"txt\", \"txt\", \"type\", \"type\", \"type\", \"type\", \"type\", \"type\", \"type\", \"type\", \"type\", \"type\", \"type\", \"type\", \"type\", \"type\", \"type\", \"type\", \"type\", \"typename\", \"typeof\", \"typescript\", \"udp\", \"ui\", \"ui\", \"ui\", \"ui\", \"ui\", \"ui\", \"ui\", \"ui\", \"ui\", \"uiapplication\", \"uicolor\", \"uiimage\", \"uint\", \"uitableview\", \"uiview\", \"ul\", \"ul\", \"unclear\", \"undeclared\", \"underscore\", \"unicode\", \"unicode\", \"unique\", \"unique\", \"unit\", \"unit\", \"unsigned\", \"update\", \"update\", \"update\", \"update\", \"update\", \"update\", \"update\", \"update\", \"update\", \"update\", \"update\", \"update\", \"update\", \"update\", \"update\", \"update\", \"uploaded\", \"uri\", \"uri\", \"uri\", \"uri\", \"url\", \"url\", \"urllib\", \"usb\", \"use\", \"use\", \"use\", \"use\", \"use\", \"use\", \"use\", \"use\", \"use\", \"use\", \"use\", \"use\", \"use\", \"use\", \"use\", \"use\", \"use\", \"use\", \"used\", \"used\", \"used\", \"used\", \"used\", \"used\", \"used\", \"used\", \"used\", \"used\", \"used\", \"used\", \"used\", \"used\", \"used\", \"used\", \"used\", \"user\", \"user\", \"user\", \"user\", \"user\", \"user\", \"user\", \"user\", \"user\", \"user\", \"user\", \"user\", \"user\", \"userid\", \"userid\", \"username\", \"username\", \"username\", \"username\", \"using\", \"using\", \"using\", \"using\", \"using\", \"using\", \"using\", \"using\", \"using\", \"using\", \"using\", \"using\", \"using\", \"using\", \"using\", \"using\", \"using\", \"using\", \"using\", \"using\", \"usr\", \"utc\", \"utf\", \"utf\", \"utf\", \"util\", \"util\", \"util\", \"uuid\", \"uuid\", \"vagrant\", \"val\", \"val\", \"validation\", \"validation\", \"value\", \"value\", \"value\", \"value\", \"value\", \"value\", \"value\", \"value\", \"value\", \"value\", \"value\", \"value\", \"var\", \"var\", \"var\", \"var\", \"var\", \"var\", \"var\", \"var\", \"var\", \"varchar\", \"variable\", \"variable\", \"variable\", \"variable\", \"variable\", \"variable\", \"variable\", \"variant\", \"vec\", \"vector\", \"version\", \"version\", \"version\", \"version\", \"version\", \"version\", \"version\", \"version\", \"version\", \"version\", \"version\", \"version\", \"vertex\", \"video\", \"view\", \"view\", \"view\", \"view\", \"view\", \"view\", \"view\", \"view\", \"viewdidload\", \"viewgroup\", \"vim\", \"virtualenv\", \"visual\", \"visual\", \"void\", \"void\", \"void\", \"void\", \"volume\", \"volume\", \"vue\", \"wait\", \"wait\", \"wait\", \"want\", \"want\", \"want\", \"want\", \"want\", \"want\", \"want\", \"want\", \"want\", \"want\", \"want\", \"want\", \"want\", \"want\", \"want\", \"want\", \"want\", \"want\", \"warning\", \"warning\", \"warning\", \"wav\", \"way\", \"way\", \"way\", \"way\", \"way\", \"way\", \"way\", \"way\", \"way\", \"way\", \"way\", \"way\", \"way\", \"way\", \"way\", \"way\", \"web\", \"web\", \"web\", \"web\", \"web\", \"web\", \"web\", \"webdriver\", \"webpack\", \"websocket\", \"webview\", \"webview\", \"well\", \"well\", \"well\", \"well\", \"well\", \"well\", \"well\", \"well\", \"well\", \"well\", \"well\", \"well\", \"well\", \"well\", \"white\", \"white\", \"widget\", \"width\", \"width\", \"win\", \"win\", \"win\", \"window\", \"window\", \"window\", \"window\", \"window\", \"window\", \"window\", \"window\", \"word\", \"word\", \"word\", \"word\", \"work\", \"work\", \"work\", \"work\", \"work\", \"work\", \"work\", \"work\", \"work\", \"work\", \"work\", \"work\", \"work\", \"work\", \"work\", \"work\", \"work\", \"work\", \"work\", \"worker\", \"worker\", \"worker\", \"worse\", \"worth\", \"worth\", \"would\", \"would\", \"would\", \"would\", \"would\", \"would\", \"would\", \"would\", \"would\", \"would\", \"would\", \"would\", \"would\", \"would\", \"would\", \"would\", \"wpf\", \"wrap\", \"wrap\", \"wrap\", \"wrap\", \"wrap\", \"wrap\", \"wrap\", \"wrap\", \"wrap\", \"wrap\", \"write\", \"write\", \"write\", \"write\", \"write\", \"write\", \"write\", \"write\", \"write\", \"write\", \"write\", \"write\", \"write\", \"write\", \"writeline\", \"writeline\", \"wsdl\", \"wsgi\", \"www\", \"xaml\", \"xampp\", \"xcode\", \"xcode\", \"xcode\", \"xhr\", \"xml\", \"xml\", \"xml\", \"xml\", \"xml\", \"xmm\", \"xpath\", \"xsd\", \"xsl\", \"xslt\", \"xy\", \"ymm\", \"yyyy\", \"zone\", \"zoom\"]}, \"R\": 30, \"lambda.step\": 0.01, \"plot.opts\": {\"xlab\": \"PC1\", \"ylab\": \"PC2\"}, \"topic.order\": [1, 18, 11, 7, 4, 16, 6, 2, 19, 17, 8, 20, 10, 3, 14, 13, 15, 5, 12, 9]};\n",
       "\n",
       "function LDAvis_load_lib(url, callback){\n",
       "  var s = document.createElement('script');\n",
       "  s.src = url;\n",
       "  s.async = true;\n",
       "  s.onreadystatechange = s.onload = callback;\n",
       "  s.onerror = function(){console.warn(\"failed to load library \" + url);};\n",
       "  document.getElementsByTagName(\"head\")[0].appendChild(s);\n",
       "}\n",
       "\n",
       "if(typeof(LDAvis) !== \"undefined\"){\n",
       "   // already loaded: just create the visualization\n",
       "   !function(LDAvis){\n",
       "       new LDAvis(\"#\" + \"ldavis_el36221405167289031528074821134\", ldavis_el36221405167289031528074821134_data);\n",
       "   }(LDAvis);\n",
       "}else if(typeof define === \"function\" && define.amd){\n",
       "   // require.js is available: use it to load d3/LDAvis\n",
       "   require.config({paths: {d3: \"https://d3js.org/d3.v5\"}});\n",
       "   require([\"d3\"], function(d3){\n",
       "      window.d3 = d3;\n",
       "      LDAvis_load_lib(\"https://cdn.jsdelivr.net/gh/bmabey/pyLDAvis@3.3.1/pyLDAvis/js/ldavis.v3.0.0.js\", function(){\n",
       "        new LDAvis(\"#\" + \"ldavis_el36221405167289031528074821134\", ldavis_el36221405167289031528074821134_data);\n",
       "      });\n",
       "    });\n",
       "}else{\n",
       "    // require.js not available: dynamically load d3 & LDAvis\n",
       "    LDAvis_load_lib(\"https://d3js.org/d3.v5.js\", function(){\n",
       "         LDAvis_load_lib(\"https://cdn.jsdelivr.net/gh/bmabey/pyLDAvis@3.3.1/pyLDAvis/js/ldavis.v3.0.0.js\", function(){\n",
       "                 new LDAvis(\"#\" + \"ldavis_el36221405167289031528074821134\", ldavis_el36221405167289031528074821134_data);\n",
       "            })\n",
       "         });\n",
       "}\n",
       "</script>"
      ],
      "text/plain": [
       "PreparedData(topic_coordinates=              x         y  topics  cluster       Freq\n",
       "topic                                                \n",
       "0      0.254884  0.043230       1        1  13.614822\n",
       "17     0.230253  0.012921       2        1  11.972840\n",
       "10     0.035649 -0.119768       3        1   7.224179\n",
       "6      0.083802  0.123699       4        1   7.086800\n",
       "3      0.058219 -0.121698       5        1   6.593590\n",
       "15     0.077484  0.088931       6        1   5.561404\n",
       "5     -0.075923 -0.151593       7        1   5.516265\n",
       "1     -0.084880  0.169134       8        1   4.921483\n",
       "18     0.004563  0.224346       9        1   4.620219\n",
       "16    -0.114271  0.083916      10        1   4.464446\n",
       "7     -0.265299 -0.017423      11        1   4.163723\n",
       "19     0.114909 -0.179025      12        1   3.883156\n",
       "9      0.101574  0.036603      13        1   3.087966\n",
       "2     -0.117846  0.196465      14        1   3.063337\n",
       "13    -0.140839 -0.136740      15        1   2.886328\n",
       "12    -0.088266 -0.071443      16        1   2.601677\n",
       "14    -0.195507 -0.139072      17        1   2.598424\n",
       "4      0.106836 -0.159308      18        1   2.557272\n",
       "11    -0.035226  0.172263      19        1   2.249269\n",
       "8      0.049884 -0.055439      20        1   1.332800, topic_info=            Term          Freq         Total Category  logprob  loglift\n",
       "152      android  18440.000000  18440.000000  Default  30.0000  30.0000\n",
       "2321        java  18560.000000  18560.000000  Default  29.0000  29.0000\n",
       "2041        http  16264.000000  16264.000000  Default  28.0000  28.0000\n",
       "2496        list  10813.000000  10813.000000  Default  27.0000  27.0000\n",
       "3444      public  17167.000000  17167.000000  Default  26.0000  26.0000\n",
       "...          ...           ...           ...      ...      ...      ...\n",
       "2874      nested    364.654397    739.883254  Topic20  -4.9812   3.6103\n",
       "2288      iphone    472.808198   1801.683437  Topic20  -4.7214   2.9801\n",
       "63           add    601.293736   9185.326559  Topic20  -4.4811   1.5916\n",
       "251      article    367.552852   1594.380266  Topic20  -4.9733   2.8505\n",
       "1174  dictionary    307.979710    967.217306  Topic20  -5.1501   3.1735\n",
       "\n",
       "[1341 rows x 6 columns], token_table=      Topic      Freq  Term\n",
       "term                       \n",
       "8         1  0.040420  able\n",
       "8         2  0.656884  able\n",
       "8         3  0.013473  able\n",
       "8         4  0.077524  able\n",
       "8         5  0.025911  able\n",
       "...     ...       ...   ...\n",
       "4971     13  0.994108    xy\n",
       "4984     12  0.999170   ymm\n",
       "4988     15  0.996854  yyyy\n",
       "4994      6  0.995348  zone\n",
       "4996      7  0.998054  zoom\n",
       "\n",
       "[3860 rows x 3 columns], R=30, lambda_step=0.01, plot_opts={'xlab': 'PC1', 'ylab': 'PC2'}, topic_order=[1, 18, 11, 7, 4, 16, 6, 2, 19, 17, 8, 20, 10, 3, 14, 13, 15, 5, 12, 9])"
      ]
     },
     "execution_count": 19,
     "metadata": {},
     "output_type": "execute_result"
    }
   ],
   "source": [
    "from __future__ import print_function\n",
    "import pyLDAvis\n",
    "\n",
    "import pyLDAvis.sklearn\n",
    "pyLDAvis.enable_notebook()\n",
    "pyLDAvis.sklearn.prepare(lda, questions_features, vectorizer)"
   ]
  },
  {
   "cell_type": "markdown",
   "id": "5c9f6840",
   "metadata": {},
   "source": [
    "### Création de la Pipeline regroupant le préprocessing et le modèle LDA"
   ]
  },
  {
   "cell_type": "code",
   "execution_count": 20,
   "id": "9340f5eb",
   "metadata": {},
   "outputs": [],
   "source": [
    "# On créé le vectorizer qui va vectorizer les mots de nos questions. \n",
    "\n",
    "# Pour chaque question, on applique la fonction qui récupère les mots clés des questions posées. \n",
    "def clearing_questions(Body):\n",
    "    # On créé une liste vide déstinée à receullir les mots de nos questions. \n",
    "    questions_cleared =[]\n",
    "    for question in Body:\n",
    "        cleared_question = question_to_words_BW(question)\n",
    "        questions_cleared.append(cleared_question)\n",
    "        \n",
    "    return questions_cleared\n"
   ]
  },
  {
   "cell_type": "code",
   "execution_count": 21,
   "id": "adad4f22",
   "metadata": {},
   "outputs": [
    {
     "name": "stderr",
     "output_type": "stream",
     "text": [
      "/Users/florentmargery/opt/anaconda3/envs/work_env/lib/python3.9/site-packages/sklearn/experimental/enable_hist_gradient_boosting.py:16: UserWarning: Since version 1.0, it is not needed to import enable_hist_gradient_boosting anymore. HistGradientBoostingClassifier and HistGradientBoostingRegressor are now stable and can be normally imported from sklearn.ensemble.\n",
      "  warnings.warn(\n"
     ]
    }
   ],
   "source": [
    "from sklearn import datasets, preprocessing, model_selection, ensemble, pipeline\n",
    "from sklearn.experimental import enable_hist_gradient_boosting"
   ]
  },
  {
   "cell_type": "code",
   "execution_count": 22,
   "id": "4343e1da",
   "metadata": {},
   "outputs": [],
   "source": [
    "from sklearn.preprocessing import FunctionTransformer\n",
    "from sklearn.decomposition import LatentDirichletAllocation\n",
    "n_topics = 20\n",
    "\n",
    "from sklearn.pipeline import Pipeline\n",
    "transformer_1 = FunctionTransformer(clearing_questions)\n",
    "\"\"\"\n",
    "pipeline_BOW = Pipeline([\n",
    "   ('transformer', transformer_1), ('vectorizer',CountVectorizer(analyzer = \"word\", max_features = 5000)),\n",
    "   ('LDA',LatentDirichletAllocation(n_components = n_topics, max_iter = 5,\\\n",
    "                                                                     learning_method='online',learning_offset=50.,random_state=0))\n",
    "])\n",
    "\"\"\"\n",
    "pipeline_BOW = Pipeline([\n",
    "   ('transformer', transformer_1), ('vectorizer',TfidfVectorizer(analyzer = \"word\", max_features = 5000)),\n",
    "   ('LDA',LatentDirichletAllocation(n_components = n_topics, max_iter = 5,\\\n",
    "                                                                     learning_method='online',learning_offset=50.,random_state=0))\n",
    "])"
   ]
  },
  {
   "cell_type": "code",
   "execution_count": null,
   "id": "06f51c76",
   "metadata": {},
   "outputs": [],
   "source": [
    "pipeline_BOW.fit(data.Body)"
   ]
  },
  {
   "cell_type": "code",
   "execution_count": null,
   "id": "a1546a26",
   "metadata": {},
   "outputs": [],
   "source": [
    "def create_topic_list(model, feature_names, no_top_words):\n",
    "    topic_list = pd.DataFrame()\n",
    "    for topic_idx, topic in enumerate(model.components_):\n",
    "        topic_list[topic_idx] = [feature_names[i] for i in topic.argsort()[:-no_top_words - 1:-1]]\n",
    "    return topic_list\n",
    "\n",
    "def tag_generator(questions):\n",
    "    for question in questions:\n",
    "        new_document_topic = np.where(question == question.max())\n",
    "        new_document_topic = int(new_document_topic[0])\n",
    "        print('La répartition des proba d\\'appartenance aux différents TOPICS est \\n  ', question)\n",
    "        print('Les tags suggérés pour ce document sont :  \\n',topic_list.T.iloc[new_document_topic,:5])\n",
    "    return topic_list.T.iloc[new_document_topic,:5].tolist()\n",
    "\n"
   ]
  },
  {
   "cell_type": "code",
   "execution_count": null,
   "id": "19e9b196",
   "metadata": {},
   "outputs": [],
   "source": [
    "no_top_words = 5\n",
    "topic_list = create_topic_list(pipeline_BOW['LDA'],pipeline_BOW['vectorizer'].get_feature_names_out(),no_top_words)"
   ]
  },
  {
   "cell_type": "markdown",
   "id": "6b554c45",
   "metadata": {},
   "source": [
    "### Essai de la pipeline avant API"
   ]
  },
  {
   "cell_type": "code",
   "execution_count": 16,
   "id": "27fd0783",
   "metadata": {
    "scrolled": true
   },
   "outputs": [
    {
     "name": "stdout",
     "output_type": "stream",
     "text": [
      "La répartition des proba d'appartenance aux différents TOPICS est \n",
      "   [0.08098836 0.0085541  0.0085541  0.0085541  0.0085541  0.0085541\n",
      " 0.0085541  0.0085541  0.0085541  0.0085541  0.0085541  0.0085541\n",
      " 0.0085541  0.0085541  0.0085541  0.10318764 0.0085541  0.67040431\n",
      " 0.0085541  0.0085541 ]\n",
      "Les tags suggérés pour ce document sont :  \n",
      " 0    would\n",
      "1      use\n",
      "2     like\n",
      "3      one\n",
      "4    using\n",
      "Name: 17, dtype: object\n"
     ]
    },
    {
     "data": {
      "text/plain": [
       "['would', 'use', 'like', 'one', 'using']"
      ]
     },
     "execution_count": 16,
     "metadata": {},
     "output_type": "execute_result"
    }
   ],
   "source": [
    "test_text = pipeline_BOW.transform([data.Body[10]])\n",
    "tag_generator(test_text)"
   ]
  },
  {
   "cell_type": "markdown",
   "id": "5bc369df",
   "metadata": {},
   "source": [
    "# API Tf-Idf"
   ]
  },
  {
   "cell_type": "code",
   "execution_count": 18,
   "id": "a3258340",
   "metadata": {},
   "outputs": [
    {
     "name": "stdout",
     "output_type": "stream",
     "text": [
      " * Serving Flask app 'fast_dash.fast_dash' (lazy loading)\n",
      " * Environment: production\n",
      "\u001b[31m   WARNING: This is a development server. Do not use it in a production deployment.\u001b[0m\n",
      "\u001b[2m   Use a production WSGI server instead.\u001b[0m\n",
      " * Debug mode: off\n"
     ]
    },
    {
     "name": "stderr",
     "output_type": "stream",
     "text": [
      " * Running on http://127.0.0.1:5000 (Press CTRL+C to quit)\n",
      "127.0.0.1 - - [19/Apr/2022 17:08:45] \"GET / HTTP/1.1\" 200 -\n",
      "127.0.0.1 - - [19/Apr/2022 17:08:46] \"GET /_dash-layout HTTP/1.1\" 200 -\n",
      "127.0.0.1 - - [19/Apr/2022 17:08:46] \"GET /_dash-dependencies HTTP/1.1\" 200 -\n",
      "127.0.0.1 - - [19/Apr/2022 17:08:46] \"GET /assets/favicon.ico?m=1649961764.648881 HTTP/1.1\" 200 -\n",
      "127.0.0.1 - - [19/Apr/2022 17:08:46] \"POST /_dash-update-component HTTP/1.1\" 200 -\n",
      "127.0.0.1 - - [19/Apr/2022 17:08:48] \"POST /_dash-update-component HTTP/1.1\" 200 -\n",
      "127.0.0.1 - - [19/Apr/2022 17:08:48] \"POST /_dash-update-component HTTP/1.1\" 200 -\n",
      "127.0.0.1 - - [19/Apr/2022 17:08:48] \"POST /_dash-update-component HTTP/1.1\" 200 -\n",
      "127.0.0.1 - - [19/Apr/2022 17:08:48] \"POST /_dash-update-component HTTP/1.1\" 200 -\n",
      "127.0.0.1 - - [19/Apr/2022 17:08:49] \"POST /_dash-update-component HTTP/1.1\" 200 -\n",
      "127.0.0.1 - - [19/Apr/2022 17:08:49] \"POST /_dash-update-component HTTP/1.1\" 200 -\n",
      "127.0.0.1 - - [19/Apr/2022 17:08:49] \"POST /_dash-update-component HTTP/1.1\" 200 -\n",
      "127.0.0.1 - - [19/Apr/2022 17:08:50] \"POST /_dash-update-component HTTP/1.1\" 200 -\n",
      "127.0.0.1 - - [19/Apr/2022 17:08:50] \"POST /_dash-update-component HTTP/1.1\" 200 -\n",
      "127.0.0.1 - - [19/Apr/2022 17:08:50] \"POST /_dash-update-component HTTP/1.1\" 200 -\n",
      "127.0.0.1 - - [19/Apr/2022 17:08:51] \"POST /_dash-update-component HTTP/1.1\" 200 -\n",
      "127.0.0.1 - - [19/Apr/2022 17:08:51] \"POST /_dash-update-component HTTP/1.1\" 200 -\n",
      "127.0.0.1 - - [19/Apr/2022 17:08:51] \"POST /_dash-update-component HTTP/1.1\" 200 -\n",
      "127.0.0.1 - - [19/Apr/2022 17:08:51] \"POST /_dash-update-component HTTP/1.1\" 200 -\n",
      "127.0.0.1 - - [19/Apr/2022 17:08:51] \"POST /_dash-update-component HTTP/1.1\" 200 -\n",
      "127.0.0.1 - - [19/Apr/2022 17:08:51] \"POST /_dash-update-component HTTP/1.1\" 200 -\n",
      "127.0.0.1 - - [19/Apr/2022 17:08:51] \"POST /_dash-update-component HTTP/1.1\" 200 -\n",
      "127.0.0.1 - - [19/Apr/2022 17:08:52] \"POST /_dash-update-component HTTP/1.1\" 200 -\n",
      "127.0.0.1 - - [19/Apr/2022 17:08:52] \"POST /_dash-update-component HTTP/1.1\" 200 -\n",
      "127.0.0.1 - - [19/Apr/2022 17:08:52] \"POST /_dash-update-component HTTP/1.1\" 200 -\n",
      "127.0.0.1 - - [19/Apr/2022 17:08:52] \"POST /_dash-update-component HTTP/1.1\" 200 -\n",
      "127.0.0.1 - - [19/Apr/2022 17:08:52] \"POST /_dash-update-component HTTP/1.1\" 200 -\n",
      "127.0.0.1 - - [19/Apr/2022 17:08:52] \"POST /_dash-update-component HTTP/1.1\" 200 -\n",
      "127.0.0.1 - - [19/Apr/2022 17:08:53] \"POST /_dash-update-component HTTP/1.1\" 200 -\n",
      "127.0.0.1 - - [19/Apr/2022 17:08:53] \"POST /_dash-update-component HTTP/1.1\" 200 -\n",
      "127.0.0.1 - - [19/Apr/2022 17:08:53] \"POST /_dash-update-component HTTP/1.1\" 200 -\n",
      "127.0.0.1 - - [19/Apr/2022 17:08:54] \"POST /_dash-update-component HTTP/1.1\" 200 -\n",
      "127.0.0.1 - - [19/Apr/2022 17:08:54] \"POST /_dash-update-component HTTP/1.1\" 200 -\n",
      "127.0.0.1 - - [19/Apr/2022 17:08:54] \"POST /_dash-update-component HTTP/1.1\" 200 -\n",
      "127.0.0.1 - - [19/Apr/2022 17:08:54] \"POST /_dash-update-component HTTP/1.1\" 200 -\n",
      "127.0.0.1 - - [19/Apr/2022 17:08:55] \"POST /_dash-update-component HTTP/1.1\" 200 -\n",
      "127.0.0.1 - - [19/Apr/2022 17:08:55] \"POST /_dash-update-component HTTP/1.1\" 200 -\n",
      "127.0.0.1 - - [19/Apr/2022 17:08:56] \"POST /_dash-update-component HTTP/1.1\" 200 -\n",
      "127.0.0.1 - - [19/Apr/2022 17:08:56] \"POST /_dash-update-component HTTP/1.1\" 200 -\n",
      "127.0.0.1 - - [19/Apr/2022 17:08:56] \"POST /_dash-update-component HTTP/1.1\" 200 -\n",
      "127.0.0.1 - - [19/Apr/2022 17:08:58] \"POST /_dash-update-component HTTP/1.1\" 200 -\n",
      "127.0.0.1 - - [19/Apr/2022 17:08:58] \"POST /_dash-update-component HTTP/1.1\" 200 -\n",
      "127.0.0.1 - - [19/Apr/2022 17:08:58] \"POST /_dash-update-component HTTP/1.1\" 200 -\n",
      "127.0.0.1 - - [19/Apr/2022 17:08:58] \"POST /_dash-update-component HTTP/1.1\" 200 -\n",
      "127.0.0.1 - - [19/Apr/2022 17:08:58] \"POST /_dash-update-component HTTP/1.1\" 200 -\n",
      "127.0.0.1 - - [19/Apr/2022 17:08:58] \"POST /_dash-update-component HTTP/1.1\" 200 -\n",
      "127.0.0.1 - - [19/Apr/2022 17:08:59] \"POST /_dash-update-component HTTP/1.1\" 200 -\n",
      "127.0.0.1 - - [19/Apr/2022 17:08:59] \"POST /_dash-update-component HTTP/1.1\" 200 -\n",
      "127.0.0.1 - - [19/Apr/2022 17:08:59] \"POST /_dash-update-component HTTP/1.1\" 200 -\n",
      "127.0.0.1 - - [19/Apr/2022 17:08:59] \"POST /_dash-update-component HTTP/1.1\" 200 -\n",
      "127.0.0.1 - - [19/Apr/2022 17:08:59] \"POST /_dash-update-component HTTP/1.1\" 200 -\n",
      "127.0.0.1 - - [19/Apr/2022 17:08:59] \"POST /_dash-update-component HTTP/1.1\" 200 -\n",
      "127.0.0.1 - - [19/Apr/2022 17:09:00] \"POST /_dash-update-component HTTP/1.1\" 200 -\n",
      "127.0.0.1 - - [19/Apr/2022 17:09:00] \"POST /_dash-update-component HTTP/1.1\" 200 -\n",
      "127.0.0.1 - - [19/Apr/2022 17:09:00] \"POST /_dash-update-component HTTP/1.1\" 200 -\n",
      "127.0.0.1 - - [19/Apr/2022 17:09:00] \"POST /_dash-update-component HTTP/1.1\" 200 -\n",
      "127.0.0.1 - - [19/Apr/2022 17:09:00] \"POST /_dash-update-component HTTP/1.1\" 200 -\n",
      "127.0.0.1 - - [19/Apr/2022 17:09:00] \"POST /_dash-update-component HTTP/1.1\" 200 -\n",
      "127.0.0.1 - - [19/Apr/2022 17:09:01] \"POST /_dash-update-component HTTP/1.1\" 200 -\n",
      "127.0.0.1 - - [19/Apr/2022 17:09:01] \"POST /_dash-update-component HTTP/1.1\" 200 -\n",
      "127.0.0.1 - - [19/Apr/2022 17:09:01] \"POST /_dash-update-component HTTP/1.1\" 200 -\n",
      "127.0.0.1 - - [19/Apr/2022 17:09:01] \"POST /_dash-update-component HTTP/1.1\" 200 -\n",
      "127.0.0.1 - - [19/Apr/2022 17:09:01] \"POST /_dash-update-component HTTP/1.1\" 200 -\n",
      "127.0.0.1 - - [19/Apr/2022 17:09:02] \"POST /_dash-update-component HTTP/1.1\" 200 -\n",
      "127.0.0.1 - - [19/Apr/2022 17:09:03] \"POST /_dash-update-component HTTP/1.1\" 200 -\n",
      "127.0.0.1 - - [19/Apr/2022 17:09:03] \"POST /_dash-update-component HTTP/1.1\" 200 -\n",
      "127.0.0.1 - - [19/Apr/2022 17:09:03] \"POST /_dash-update-component HTTP/1.1\" 200 -\n",
      "127.0.0.1 - - [19/Apr/2022 17:09:03] \"POST /_dash-update-component HTTP/1.1\" 200 -\n",
      "127.0.0.1 - - [19/Apr/2022 17:09:03] \"POST /_dash-update-component HTTP/1.1\" 200 -\n",
      "127.0.0.1 - - [19/Apr/2022 17:09:04] \"POST /_dash-update-component HTTP/1.1\" 200 -\n",
      "127.0.0.1 - - [19/Apr/2022 17:09:04] \"POST /_dash-update-component HTTP/1.1\" 200 -\n",
      "127.0.0.1 - - [19/Apr/2022 17:09:04] \"POST /_dash-update-component HTTP/1.1\" 200 -\n",
      "127.0.0.1 - - [19/Apr/2022 17:09:04] \"POST /_dash-update-component HTTP/1.1\" 200 -\n",
      "127.0.0.1 - - [19/Apr/2022 17:09:04] \"POST /_dash-update-component HTTP/1.1\" 200 -\n",
      "127.0.0.1 - - [19/Apr/2022 17:09:05] \"POST /_dash-update-component HTTP/1.1\" 200 -\n",
      "127.0.0.1 - - [19/Apr/2022 17:09:05] \"POST /_dash-update-component HTTP/1.1\" 200 -\n",
      "127.0.0.1 - - [19/Apr/2022 17:09:05] \"POST /_dash-update-component HTTP/1.1\" 200 -\n",
      "127.0.0.1 - - [19/Apr/2022 17:09:06] \"POST /_dash-update-component HTTP/1.1\" 200 -\n",
      "127.0.0.1 - - [19/Apr/2022 17:09:06] \"POST /_dash-update-component HTTP/1.1\" 200 -\n",
      "127.0.0.1 - - [19/Apr/2022 17:09:06] \"POST /_dash-update-component HTTP/1.1\" 200 -\n",
      "127.0.0.1 - - [19/Apr/2022 17:09:07] \"POST /_dash-update-component HTTP/1.1\" 200 -\n",
      "127.0.0.1 - - [19/Apr/2022 17:09:07] \"POST /_dash-update-component HTTP/1.1\" 200 -\n",
      "127.0.0.1 - - [19/Apr/2022 17:09:07] \"POST /_dash-update-component HTTP/1.1\" 200 -\n",
      "127.0.0.1 - - [19/Apr/2022 17:09:07] \"POST /_dash-update-component HTTP/1.1\" 200 -\n",
      "127.0.0.1 - - [19/Apr/2022 17:09:08] \"POST /_dash-update-component HTTP/1.1\" 200 -\n",
      "127.0.0.1 - - [19/Apr/2022 17:09:08] \"POST /_dash-update-component HTTP/1.1\" 200 -\n",
      "127.0.0.1 - - [19/Apr/2022 17:09:09] \"POST /_dash-update-component HTTP/1.1\" 200 -\n",
      "127.0.0.1 - - [19/Apr/2022 17:09:09] \"POST /_dash-update-component HTTP/1.1\" 200 -\n",
      "127.0.0.1 - - [19/Apr/2022 17:09:09] \"POST /_dash-update-component HTTP/1.1\" 200 -\n",
      "127.0.0.1 - - [19/Apr/2022 17:09:09] \"POST /_dash-update-component HTTP/1.1\" 200 -\n",
      "127.0.0.1 - - [19/Apr/2022 17:09:09] \"POST /_dash-update-component HTTP/1.1\" 200 -\n",
      "127.0.0.1 - - [19/Apr/2022 17:09:09] \"POST /_dash-update-component HTTP/1.1\" 200 -\n",
      "127.0.0.1 - - [19/Apr/2022 17:09:10] \"POST /_dash-update-component HTTP/1.1\" 200 -\n",
      "127.0.0.1 - - [19/Apr/2022 17:09:10] \"POST /_dash-update-component HTTP/1.1\" 200 -\n",
      "127.0.0.1 - - [19/Apr/2022 17:09:10] \"POST /_dash-update-component HTTP/1.1\" 200 -\n",
      "127.0.0.1 - - [19/Apr/2022 17:09:10] \"POST /_dash-update-component HTTP/1.1\" 200 -\n",
      "127.0.0.1 - - [19/Apr/2022 17:09:10] \"POST /_dash-update-component HTTP/1.1\" 200 -\n",
      "127.0.0.1 - - [19/Apr/2022 17:09:10] \"POST /_dash-update-component HTTP/1.1\" 200 -\n",
      "127.0.0.1 - - [19/Apr/2022 17:09:11] \"POST /_dash-update-component HTTP/1.1\" 200 -\n"
     ]
    },
    {
     "name": "stderr",
     "output_type": "stream",
     "text": [
      "127.0.0.1 - - [19/Apr/2022 17:09:11] \"POST /_dash-update-component HTTP/1.1\" 200 -\n",
      "127.0.0.1 - - [19/Apr/2022 17:09:11] \"POST /_dash-update-component HTTP/1.1\" 200 -\n",
      "127.0.0.1 - - [19/Apr/2022 17:09:11] \"POST /_dash-update-component HTTP/1.1\" 200 -\n",
      "127.0.0.1 - - [19/Apr/2022 17:09:11] \"POST /_dash-update-component HTTP/1.1\" 200 -\n",
      "127.0.0.1 - - [19/Apr/2022 17:09:11] \"POST /_dash-update-component HTTP/1.1\" 200 -\n",
      "127.0.0.1 - - [19/Apr/2022 17:09:12] \"POST /_dash-update-component HTTP/1.1\" 200 -\n",
      "127.0.0.1 - - [19/Apr/2022 17:09:12] \"POST /_dash-update-component HTTP/1.1\" 200 -\n",
      "127.0.0.1 - - [19/Apr/2022 17:09:12] \"POST /_dash-update-component HTTP/1.1\" 200 -\n",
      "127.0.0.1 - - [19/Apr/2022 17:09:12] \"POST /_dash-update-component HTTP/1.1\" 200 -\n",
      "127.0.0.1 - - [19/Apr/2022 17:09:12] \"POST /_dash-update-component HTTP/1.1\" 200 -\n",
      "127.0.0.1 - - [19/Apr/2022 17:09:13] \"POST /_dash-update-component HTTP/1.1\" 200 -\n",
      "127.0.0.1 - - [19/Apr/2022 17:09:14] \"POST /_dash-update-component HTTP/1.1\" 200 -\n",
      "127.0.0.1 - - [19/Apr/2022 17:09:14] \"POST /_dash-update-component HTTP/1.1\" 200 -\n",
      "127.0.0.1 - - [19/Apr/2022 17:09:14] \"POST /_dash-update-component HTTP/1.1\" 200 -\n",
      "127.0.0.1 - - [19/Apr/2022 17:09:14] \"POST /_dash-update-component HTTP/1.1\" 200 -\n",
      "127.0.0.1 - - [19/Apr/2022 17:09:14] \"POST /_dash-update-component HTTP/1.1\" 200 -\n",
      "127.0.0.1 - - [19/Apr/2022 17:09:14] \"POST /_dash-update-component HTTP/1.1\" 200 -\n",
      "127.0.0.1 - - [19/Apr/2022 17:09:15] \"POST /_dash-update-component HTTP/1.1\" 200 -\n",
      "127.0.0.1 - - [19/Apr/2022 17:09:15] \"POST /_dash-update-component HTTP/1.1\" 200 -\n",
      "127.0.0.1 - - [19/Apr/2022 17:09:15] \"POST /_dash-update-component HTTP/1.1\" 200 -\n",
      "127.0.0.1 - - [19/Apr/2022 17:09:15] \"POST /_dash-update-component HTTP/1.1\" 200 -\n",
      "127.0.0.1 - - [19/Apr/2022 17:09:15] \"POST /_dash-update-component HTTP/1.1\" 200 -\n",
      "127.0.0.1 - - [19/Apr/2022 17:09:15] \"POST /_dash-update-component HTTP/1.1\" 200 -\n",
      "127.0.0.1 - - [19/Apr/2022 17:09:16] \"POST /_dash-update-component HTTP/1.1\" 200 -\n",
      "127.0.0.1 - - [19/Apr/2022 17:09:16] \"POST /_dash-update-component HTTP/1.1\" 200 -\n",
      "127.0.0.1 - - [19/Apr/2022 17:09:16] \"POST /_dash-update-component HTTP/1.1\" 200 -\n",
      "127.0.0.1 - - [19/Apr/2022 17:09:16] \"POST /_dash-update-component HTTP/1.1\" 200 -\n",
      "127.0.0.1 - - [19/Apr/2022 17:09:16] \"POST /_dash-update-component HTTP/1.1\" 200 -\n",
      "127.0.0.1 - - [19/Apr/2022 17:09:16] \"POST /_dash-update-component HTTP/1.1\" 200 -\n",
      "127.0.0.1 - - [19/Apr/2022 17:09:17] \"POST /_dash-update-component HTTP/1.1\" 200 -\n",
      "127.0.0.1 - - [19/Apr/2022 17:09:17] \"POST /_dash-update-component HTTP/1.1\" 200 -\n",
      "127.0.0.1 - - [19/Apr/2022 17:09:17] \"POST /_dash-update-component HTTP/1.1\" 200 -\n",
      "127.0.0.1 - - [19/Apr/2022 17:09:17] \"POST /_dash-update-component HTTP/1.1\" 200 -\n",
      "127.0.0.1 - - [19/Apr/2022 17:09:18] \"POST /_dash-update-component HTTP/1.1\" 200 -\n",
      "127.0.0.1 - - [19/Apr/2022 17:09:18] \"POST /_dash-update-component HTTP/1.1\" 200 -\n",
      "127.0.0.1 - - [19/Apr/2022 17:09:18] \"POST /_dash-update-component HTTP/1.1\" 200 -\n",
      "127.0.0.1 - - [19/Apr/2022 17:09:18] \"POST /_dash-update-component HTTP/1.1\" 200 -\n",
      "127.0.0.1 - - [19/Apr/2022 17:09:19] \"POST /_dash-update-component HTTP/1.1\" 200 -\n",
      "127.0.0.1 - - [19/Apr/2022 17:09:19] \"POST /_dash-update-component HTTP/1.1\" 200 -\n",
      "127.0.0.1 - - [19/Apr/2022 17:09:19] \"POST /_dash-update-component HTTP/1.1\" 200 -\n",
      "127.0.0.1 - - [19/Apr/2022 17:09:19] \"POST /_dash-update-component HTTP/1.1\" 200 -\n",
      "127.0.0.1 - - [19/Apr/2022 17:09:19] \"POST /_dash-update-component HTTP/1.1\" 200 -\n",
      "127.0.0.1 - - [19/Apr/2022 17:09:19] \"POST /_dash-update-component HTTP/1.1\" 200 -\n",
      "127.0.0.1 - - [19/Apr/2022 17:09:19] \"POST /_dash-update-component HTTP/1.1\" 200 -\n",
      "127.0.0.1 - - [19/Apr/2022 17:09:20] \"POST /_dash-update-component HTTP/1.1\" 200 -\n",
      "127.0.0.1 - - [19/Apr/2022 17:09:20] \"POST /_dash-update-component HTTP/1.1\" 200 -\n",
      "127.0.0.1 - - [19/Apr/2022 17:09:20] \"POST /_dash-update-component HTTP/1.1\" 200 -\n",
      "127.0.0.1 - - [19/Apr/2022 17:09:21] \"POST /_dash-update-component HTTP/1.1\" 200 -\n",
      "127.0.0.1 - - [19/Apr/2022 17:09:21] \"POST /_dash-update-component HTTP/1.1\" 200 -\n",
      "127.0.0.1 - - [19/Apr/2022 17:09:21] \"POST /_dash-update-component HTTP/1.1\" 200 -\n",
      "127.0.0.1 - - [19/Apr/2022 17:09:21] \"POST /_dash-update-component HTTP/1.1\" 200 -\n",
      "127.0.0.1 - - [19/Apr/2022 17:09:22] \"POST /_dash-update-component HTTP/1.1\" 200 -\n",
      "127.0.0.1 - - [19/Apr/2022 17:09:22] \"POST /_dash-update-component HTTP/1.1\" 200 -\n",
      "127.0.0.1 - - [19/Apr/2022 17:09:22] \"POST /_dash-update-component HTTP/1.1\" 200 -\n",
      "127.0.0.1 - - [19/Apr/2022 17:09:22] \"POST /_dash-update-component HTTP/1.1\" 200 -\n",
      "127.0.0.1 - - [19/Apr/2022 17:09:22] \"POST /_dash-update-component HTTP/1.1\" 200 -\n",
      "127.0.0.1 - - [19/Apr/2022 17:09:22] \"POST /_dash-update-component HTTP/1.1\" 200 -\n",
      "127.0.0.1 - - [19/Apr/2022 17:09:23] \"POST /_dash-update-component HTTP/1.1\" 200 -\n",
      "127.0.0.1 - - [19/Apr/2022 17:09:23] \"POST /_dash-update-component HTTP/1.1\" 200 -\n",
      "127.0.0.1 - - [19/Apr/2022 17:09:23] \"POST /_dash-update-component HTTP/1.1\" 200 -\n",
      "127.0.0.1 - - [19/Apr/2022 17:09:24] \"POST /_dash-update-component HTTP/1.1\" 200 -\n"
     ]
    },
    {
     "name": "stdout",
     "output_type": "stream",
     "text": [
      "La répartition des proba d'appartenance aux différents TOPICS est \n",
      "   [0.01187696 0.01187696 0.01187696 0.01187696 0.01187696 0.01187696\n",
      " 0.01187696 0.01187696 0.01187696 0.01187696 0.01187696 0.01187696\n",
      " 0.77433777 0.01187696 0.01187696 0.01187696 0.01187697 0.01187696\n",
      " 0.01187696 0.01187696]\n",
      "Les tags suggérés pour ce document sont :  \n",
      " 0       file\n",
      "1    project\n",
      "2    command\n",
      "3      error\n",
      "4        run\n",
      "Name: 12, dtype: object\n"
     ]
    },
    {
     "name": "stderr",
     "output_type": "stream",
     "text": [
      "127.0.0.1 - - [19/Apr/2022 17:09:33] \"\u001b[36mGET /assets/favicon.ico?m=1649961764.648881 HTTP/1.1\u001b[0m\" 304 -\n",
      "127.0.0.1 - - [19/Apr/2022 17:09:34] \"GET / HTTP/1.1\" 200 -\n",
      "127.0.0.1 - - [19/Apr/2022 17:09:34] \"GET /_dash-layout HTTP/1.1\" 200 -\n",
      "127.0.0.1 - - [19/Apr/2022 17:09:34] \"GET /_dash-dependencies HTTP/1.1\" 200 -\n",
      "127.0.0.1 - - [19/Apr/2022 17:09:34] \"\u001b[36mGET /assets/favicon.ico?m=1649961764.648881 HTTP/1.1\u001b[0m\" 304 -\n",
      "127.0.0.1 - - [19/Apr/2022 17:09:34] \"POST /_dash-update-component HTTP/1.1\" 200 -\n"
     ]
    }
   ],
   "source": [
    "from fast_dash import FastDash\n",
    "from fast_dash.Components import Text\n",
    "\n",
    "# Step 1: Define your model inference\n",
    "def text_to_text_function(question):\n",
    "    \n",
    "    result = pipeline_BOW.transform([question])\n",
    "    result = tag_generator(result)\n",
    "    \n",
    "    return result\n",
    "\n",
    "# Step 2: Specify the input and output components\n",
    "app = FastDash(callback_fn=text_to_text_function, \n",
    "                inputs=Text, \n",
    "                outputs=Text, \n",
    "                title='Unsupervised Question TAG Generator')\n",
    "\n",
    "# Step 3: Run your app!\n",
    "app.run()\n",
    "\n",
    "# * Running on http://127.0.0.1:5000/ (Press CTRL+C to quit)"
   ]
  },
  {
   "cell_type": "markdown",
   "id": "85803685",
   "metadata": {},
   "source": [
    "# WORD2VEC Model"
   ]
  },
  {
   "cell_type": "code",
   "execution_count": null,
   "id": "cd0c41b9",
   "metadata": {},
   "outputs": [],
   "source": [
    "sentences = []\n",
    "for question in data['Body']:\n",
    "    sentences += (question_to_sentences(question,tokenizer))"
   ]
  },
  {
   "cell_type": "code",
   "execution_count": null,
   "id": "a5fc6b1a",
   "metadata": {},
   "outputs": [],
   "source": [
    "# Import the built-in logging module and configure it so that Word2Vec \n",
    "# creates nice output messages\n",
    "import logging\n",
    "logging.basicConfig(format='%(asctime)s : %(levelname)s : %(message)s',\\\n",
    "    level=logging.INFO)\n",
    "\n",
    "# Set values for various parameters\n",
    "num_features = 300    # Word vector dimensionality                      \n",
    "min_word_count = 10   # Minimum word count                        \n",
    "num_workers = 5      # Number of threads to run in parallel\n",
    "context = 10          # Context window size                                                                                    \n",
    "downsampling = 1e-3   # Downsample setting for frequent words\n",
    "\n",
    "# Initialize and train the model (this will take some time)\n",
    "from gensim.models import word2vec\n",
    "print (\"Training model...\")\n",
    "model = word2vec.Word2Vec(sentences, workers=num_workers, \\\n",
    "            vector_size=num_features, min_count = min_word_count, \\\n",
    "            window = context, sample = downsampling)\n",
    "\n",
    "# If you don't plan to train the model any further, calling \n",
    "# init_sims will make the model much more memory-efficient.\n",
    "model.init_sims(replace=True)\n",
    "\n"
   ]
  },
  {
   "cell_type": "markdown",
   "id": "2b4a69b7",
   "metadata": {},
   "source": [
    "## Embedding du modèle Word2Vec"
   ]
  },
  {
   "cell_type": "code",
   "execution_count": null,
   "id": "b454b660",
   "metadata": {
    "scrolled": true
   },
   "outputs": [],
   "source": [
    "def makeFeatureVec(words, model, num_features):\n",
    "    # Function to average all of the word vectors in a given\n",
    "    # paragraph\n",
    "    #\n",
    "    # Pre-initialize an empty numpy array (for speed)\n",
    "    featureVec = np.zeros((num_features,),dtype=\"float32\")\n",
    "    #\n",
    "    nwords = 0\n",
    "    # \n",
    "    # Index2word is a list that contains the names of the words in \n",
    "    # the model's vocabulary. Convert it to a set, for speed \n",
    "    index2word_set = set(model.wv.index_to_key)\n",
    "    #\n",
    "    # Loop over each word in the review and, if it is in the model's\n",
    "    # vocaublary, add its feature vector to the total\n",
    "    for word in words:\n",
    "        if word in index2word_set: \n",
    "            nwords = nwords + 1\n",
    "            featureVec = np.add(featureVec,model.wv[word])\n",
    "    # \n",
    "    \n",
    "    # Divide the result by the number of words to get the average\n",
    "    featureVec = np.divide(featureVec,nwords)\n",
    "    return featureVec\n",
    "\n",
    "\n",
    "def getAvgFeatureVecs(reviews, model, num_features):\n",
    "    # Given a set of reviews (each one a list of words), calculate \n",
    "    # the average feature vector for each one and return a 2D numpy array \n",
    "    # \n",
    "    # Initialize a counter\n",
    "    counter = 0\n",
    "    # \n",
    "    # Preallocate a 2D numpy array, for speed\n",
    "    reviewFeatureVecs = np.zeros((len(reviews),num_features),dtype=\"float32\")\n",
    "\n",
    "    # \n",
    "    # Loop through the reviews\n",
    "    for review in reviews:\n",
    "       #\n",
    "       # Print a status message every 1000th review\n",
    "        if counter%1000. == 0.:\n",
    "            print (\"Review %d of %d\" % (counter, len(reviews)))\n",
    "       # \n",
    "       # Call the function (defined above) that makes average feature vectors\n",
    "        reviewFeatureVecs[counter] = makeFeatureVec(review, model,num_features)\n",
    "       #\n",
    "       # Increment the counter\n",
    "        counter = counter + 1\n",
    "    return reviewFeatureVecs"
   ]
  },
  {
   "cell_type": "code",
   "execution_count": null,
   "id": "ae78566b",
   "metadata": {
    "scrolled": true
   },
   "outputs": [],
   "source": [
    "# ****************************************************************\n",
    "# Calculate average feature vectors for training and testing sets,\n",
    "# using the functions we defined above. Notice that we now use stop word\n",
    "# removal.\n",
    "\n",
    "clean_train_questions = []\n",
    "# Ici, data_to_train a été défini dans la partie \"Gestion des Tags\". Cela correspond aux données avec \n",
    "# au moins 1 des 10 tags les plus récurents. C'est sur ces données que l'on va entrainer notre modèle supervisé. \n",
    "for question in data_to_train:\n",
    "    clean_train_questions.append(sentence_to_wordlist( question, \\\n",
    "        remove_stopwords=True ))\n",
    "    \n",
    "print (\"Creating average feature vecs for test questions\")\n",
    "trainDataVecs = getAvgFeatureVecs(clean_train_questions, model, num_features)"
   ]
  },
  {
   "cell_type": "code",
   "execution_count": null,
   "id": "468b2a5e",
   "metadata": {
    "scrolled": true
   },
   "outputs": [],
   "source": [
    "X_train, X_test, y_train, y_test = train_test_split(trainDataVecs,target_to_train_encoded,test_size=0.3)"
   ]
  },
  {
   "cell_type": "code",
   "execution_count": null,
   "id": "de00474f",
   "metadata": {},
   "outputs": [],
   "source": [
    "from sklearn.datasets import load_iris\n",
    "from sklearn.multiclass import OneVsRestClassifier\n",
    "from sklearn.svm import SVC\n",
    "from sklearn.model_selection import GridSearchCV\n",
    "\n",
    "\n",
    "model_to_set = OneVsRestClassifier(SVC(kernel=\"poly\"))\n",
    "\n",
    "parameters = {\n",
    "    \"estimator__C\": [0.1,1,10],\n",
    "    \"estimator__kernel\": [\"poly\",\"rbf\"],\n",
    "    \"estimator__degree\":[1, 2, 3],\n",
    "}\n",
    "\n",
    "model_tunning = GridSearchCV(model_to_set, param_grid=parameters)\n",
    "\n",
    "model_tunning.fit(X_train[0:5000], y_train[0:5000])\n",
    "\n",
    "print (model_tunning.best_score_)\n",
    "print (model_tunning.best_params_)\n"
   ]
  },
  {
   "cell_type": "code",
   "execution_count": null,
   "id": "f17d8329",
   "metadata": {},
   "outputs": [],
   "source": [
    "from sklearn.multiclass import OneVsRestClassifier\n",
    "from sklearn.svm import SVC\n",
    "\n",
    "#Avec Probas :\n",
    "clf = OneVsRestClassifier(SVC(probability=True))\n",
    "clf.fit(X_train[0:1000], y_train[0:1000])\n",
    "\n",
    "#Sans Probas : \n",
    "#clf = OneVsRestClassifier(SVC(probability=False)).fit(X_train, y_train)"
   ]
  },
  {
   "cell_type": "code",
   "execution_count": null,
   "id": "c6d25e43",
   "metadata": {},
   "outputs": [],
   "source": [
    "x = np.sort(clf.predict_proba(X_train[0:1]))\n",
    "x[x>0.1]"
   ]
  },
  {
   "cell_type": "markdown",
   "id": "a5b7669f",
   "metadata": {},
   "source": [
    "### Pipeline"
   ]
  },
  {
   "cell_type": "markdown",
   "id": "aa2adfae",
   "metadata": {},
   "source": [
    "### Créons une pipeline afin de faciliter la prédiction de notre notre modèle. "
   ]
  },
  {
   "cell_type": "code",
   "execution_count": null,
   "id": "fa2db26f",
   "metadata": {},
   "outputs": [],
   "source": [
    "from sklearn.model_selection import train_test_split\n",
    "from sklearn import preprocessing\n",
    "label_encoder = preprocessing.LabelEncoder()\n",
    "target_to_train_encoded = label_encoder.fit_transform(target_to_train)\n",
    "\n",
    "X_train, X_test, y_train, y_test = train_test_split(data_to_train,target_to_train_encoded,test_size=0.3)"
   ]
  },
  {
   "cell_type": "code",
   "execution_count": null,
   "id": "18893090",
   "metadata": {},
   "outputs": [],
   "source": [
    "len(target_to_train_encoded)"
   ]
  },
  {
   "cell_type": "code",
   "execution_count": null,
   "id": "b0c5f3d7",
   "metadata": {},
   "outputs": [],
   "source": [
    "def cleaning_question_W2V(data_to_train):\n",
    "    \n",
    "    clean_train_questions = []\n",
    "    # Ici, data_to_train a été défini dans la partie \"Gestion des Tags\". Cela correspond aux données avec \n",
    "    # au moins 1 des 10 tags les plus récurents. C'est sur ces données que l'on va entrainer notre modèle supervisé. \n",
    "    for question in data_to_train:\n",
    "        clean_train_questions.append(sentence_to_wordlist( question, \\\n",
    "            remove_stopwords=True ))\n",
    "    \n",
    "    print (\"Creating average feature vecs for test questions\")\n",
    "    trainDataVecs = getAvgFeatureVecs(clean_train_questions, model, num_features)\n",
    "    return trainDataVecs\n",
    "\n",
    "# Création d'un transformeur, permettant d'intégrer notre fonction dans la pipeline. \n",
    "\n",
    "from sklearn.preprocessing import FunctionTransformer\n",
    "transformer_2 = FunctionTransformer(cleaning_question_W2V)"
   ]
  },
  {
   "cell_type": "code",
   "execution_count": null,
   "id": "32a269b9",
   "metadata": {},
   "outputs": [],
   "source": [
    "from sklearn.pipeline import Pipeline\n",
    "from sklearn.multiclass import OneVsRestClassifier\n",
    "from sklearn.svm import SVC"
   ]
  },
  {
   "cell_type": "markdown",
   "id": "24c10a1a",
   "metadata": {},
   "source": [
    "### Création de la pipeline "
   ]
  },
  {
   "cell_type": "code",
   "execution_count": null,
   "id": "a185360c",
   "metadata": {},
   "outputs": [],
   "source": [
    "pipeline = Pipeline([\n",
    "   ('transformer', transformer_2), ('clf',OneVsRestClassifier(SVC(probability=True))), \n",
    "])"
   ]
  },
  {
   "cell_type": "code",
   "execution_count": null,
   "id": "e3a46809",
   "metadata": {
    "scrolled": false
   },
   "outputs": [],
   "source": [
    "pipeline.fit(X_train, y_train)"
   ]
  },
  {
   "cell_type": "markdown",
   "id": "920d4bdf",
   "metadata": {},
   "source": [
    "### Prédiction du classifier"
   ]
  },
  {
   "cell_type": "code",
   "execution_count": 36,
   "id": "d30933c6",
   "metadata": {},
   "outputs": [
    {
     "ename": "NameError",
     "evalue": "name 'sentence_to_wordlist' is not defined",
     "output_type": "error",
     "traceback": [
      "\u001b[0;31m---------------------------------------------------------------------------\u001b[0m",
      "\u001b[0;31mNameError\u001b[0m                                 Traceback (most recent call last)",
      "Input \u001b[0;32mIn [36]\u001b[0m, in \u001b[0;36m<cell line: 3>\u001b[0;34m()\u001b[0m\n\u001b[1;32m      2\u001b[0m data_to_test \u001b[38;5;241m=\u001b[39m data\u001b[38;5;241m.\u001b[39mBody[\u001b[38;5;241m12356\u001b[39m:\u001b[38;5;241m12359\u001b[39m]\n\u001b[1;32m      3\u001b[0m \u001b[38;5;28;01mfor\u001b[39;00m question \u001b[38;5;129;01min\u001b[39;00m data_to_test:\n\u001b[0;32m----> 4\u001b[0m     clean_test_questions\u001b[38;5;241m.\u001b[39mappend(\u001b[43msentence_to_wordlist\u001b[49m( question, \\\n\u001b[1;32m      5\u001b[0m         remove_stopwords\u001b[38;5;241m=\u001b[39m\u001b[38;5;28;01mTrue\u001b[39;00m ))\n\u001b[1;32m      7\u001b[0m \u001b[38;5;28mprint\u001b[39m (\u001b[38;5;124m\"\u001b[39m\u001b[38;5;124mCreating average feature vecs for test questions\u001b[39m\u001b[38;5;124m\"\u001b[39m)\n\u001b[1;32m      8\u001b[0m testDataVecs \u001b[38;5;241m=\u001b[39m getAvgFeatureVecs(clean_test_questions, model, num_features)\n",
      "\u001b[0;31mNameError\u001b[0m: name 'sentence_to_wordlist' is not defined"
     ]
    }
   ],
   "source": [
    "clean_test_questions = []\n",
    "data_to_test = data.Body[12356:12359]\n",
    "for question in data_to_test:\n",
    "    clean_test_questions.append(sentence_to_wordlist( question, \\\n",
    "        remove_stopwords=True ))\n",
    "    \n",
    "print (\"Creating average feature vecs for test questions\")\n",
    "testDataVecs = getAvgFeatureVecs(clean_test_questions, model, num_features)\n",
    "\n",
    "prediction = clf.predict(testDataVecs)\n",
    "prediction = label_encoder.inverse_transform(prediction)\n",
    "proba = clf.predict_proba(testDataVecs)\n",
    "for i in range(len(prediction)):\n",
    "    print('le texte n°',i,'est : \\n', BeautifulSoup(data_to_test.iloc[i]).get_text() )\n",
    "    print('LA PREDICTION EST :' , prediction[i])\n",
    "    print('VECTEUR DE PROBA', proba[i])"
   ]
  },
  {
   "cell_type": "markdown",
   "id": "e97250d7",
   "metadata": {},
   "source": [
    "### Optional : Clustering"
   ]
  },
  {
   "cell_type": "code",
   "execution_count": null,
   "id": "2ec1b2d6",
   "metadata": {},
   "outputs": [],
   "source": [
    "from sklearn.cluster import KMeans\n",
    "import time\n",
    "\n",
    "start = time.time() # Start time\n",
    "\n",
    "# Set \"k\" (num_clusters) to be 1/5th of the vocabulary size, or an\n",
    "# average of 5 words per cluster\n",
    "word_vectors = model.wv.vectors\n",
    "num_clusters = int(word_vectors.shape[0] / 5)\n",
    "\n",
    "# Initalize a k-means object and use it to extract centroids\n",
    "kmeans_clustering = KMeans(n_clusters = num_clusters)\n",
    "idx = kmeans_clustering.fit_predict(word_vectors)\n",
    "\n",
    "# Get the end time and print how long the process took\n",
    "end = time.time()\n",
    "elapsed = end - start\n",
    "print (\"Time taken for K Means clustering: \", elapsed, \"seconds.\")"
   ]
  },
  {
   "cell_type": "code",
   "execution_count": null,
   "id": "898fd87a",
   "metadata": {},
   "outputs": [],
   "source": [
    "pipeline.predict_proba(X_train[200:201])[0]"
   ]
  },
  {
   "cell_type": "code",
   "execution_count": null,
   "id": "6c665060",
   "metadata": {
    "scrolled": true
   },
   "outputs": [],
   "source": [
    "probas = pipeline.predict_proba(X_train[200:201])[0]\n",
    "print(probas)\n",
    "\n",
    "result = []\n",
    "for idx, prob in enumerate(probas) : \n",
    "    if prob > 0.1:\n",
    "        result.append(idx)\n",
    "result = label_encoder.inverse_transform(result)\n",
    "print(result)\n"
   ]
  },
  {
   "cell_type": "code",
   "execution_count": null,
   "id": "3cbf4ef9",
   "metadata": {
    "scrolled": true
   },
   "outputs": [],
   "source": [
    "pipeline.predict(X_train[200:201])[-1]"
   ]
  },
  {
   "cell_type": "code",
   "execution_count": null,
   "id": "af63aebb",
   "metadata": {},
   "outputs": [],
   "source": [
    "probas = pipeline.predict_proba(X_train[200:201])[0]\n",
    "print(probas)\n",
    "\n",
    "result = []\n",
    "for idx, prob in enumerate(probas) : \n",
    "    if prob > 0.1:\n",
    "        result.append(idx)\n",
    "result = label_encoder.inverse_transform(result)\n",
    "print(result)\n"
   ]
  },
  {
   "cell_type": "code",
   "execution_count": null,
   "id": "842056d7",
   "metadata": {},
   "outputs": [],
   "source": [
    "result_2 =[]\n",
    "for idx,i in enumerate(result) : \n",
    "    result_2.append(i)\n",
    "    result_2.append(probas[idx])\n",
    "result_2"
   ]
  },
  {
   "cell_type": "markdown",
   "id": "bb963ed5",
   "metadata": {},
   "source": [
    "# API Word2Vec"
   ]
  },
  {
   "cell_type": "code",
   "execution_count": null,
   "id": "89ad3f59",
   "metadata": {},
   "outputs": [],
   "source": [
    "from fast_dash import FastDash\n",
    "from fast_dash.Components import Text\n",
    "\n",
    "# Step 1: Define your model inference\n",
    "def text_to_text_function(question):\n",
    "    result = []\n",
    "    result_2  = []\n",
    "    probas = []\n",
    "    #result = pipeline.predict([question])\n",
    "    #result = label_encoder.inverse_transform(result)[0]\n",
    "    result_proba = pipeline.predict_proba([question])\n",
    "    print(result_proba)\n",
    "    for idx, prob in enumerate(result_proba[0]) : \n",
    "        if prob > 0.1:\n",
    "            result.append(idx)\n",
    "            probas.append(probas)\n",
    "    print(result)\n",
    "    result = label_encoder.inverse_transform(result)\n",
    "    return result\n",
    "\n",
    "# Step 2: Specify the input and output components\n",
    "app = FastDash(callback_fn=text_to_text_function, \n",
    "                inputs=Text, \n",
    "                outputs=Text, \n",
    "                title='App title')\n",
    "\n",
    "# Step 3: Run your app!\n",
    "app.run()\n",
    "\n",
    "# * Running on http://127.0.0.1:5000/ (Press CTRL+C to quit)"
   ]
  },
  {
   "cell_type": "markdown",
   "id": "f8d5f96f",
   "metadata": {},
   "source": [
    "# API BagOfWords"
   ]
  },
  {
   "cell_type": "code",
   "execution_count": null,
   "id": "76d04bac",
   "metadata": {},
   "outputs": [],
   "source": [
    "from fast_dash import FastDash\n",
    "from fast_dash.Components import Text\n",
    "\n",
    "# Step 1: Define your model inference\n",
    "def text_to_text_function(question):\n",
    "    \n",
    "    result = pipeline_BOW.transform([question])\n",
    "    \n",
    "    \n",
    "    return result\n",
    "\n",
    "# Step 2: Specify the input and output components\n",
    "app = FastDash(callback_fn=text_to_text_function, \n",
    "                inputs=Text, \n",
    "                outputs=Text, \n",
    "                title='Tag Generator')\n",
    "\n",
    "# Step 3: Run your app!\n",
    "app.run()\n",
    "\n",
    "# * Running on http://127.0.0.1:5000/ (Press CTRL+C to quit)"
   ]
  }
 ],
 "metadata": {
  "kernelspec": {
   "display_name": "Python 3 (ipykernel)",
   "language": "python",
   "name": "python3"
  },
  "language_info": {
   "codemirror_mode": {
    "name": "ipython",
    "version": 3
   },
   "file_extension": ".py",
   "mimetype": "text/x-python",
   "name": "python",
   "nbconvert_exporter": "python",
   "pygments_lexer": "ipython3",
   "version": "3.9.12"
  }
 },
 "nbformat": 4,
 "nbformat_minor": 5
}
