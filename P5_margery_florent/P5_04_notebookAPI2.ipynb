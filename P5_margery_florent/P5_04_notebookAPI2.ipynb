{
 "cells": [
  {
   "cell_type": "code",
   "execution_count": 1,
   "id": "8e16bdff",
   "metadata": {},
   "outputs": [],
   "source": [
    "import numpy as np\n",
    "import pandas as pd\n",
    "from bs4 import BeautifulSoup\n",
    "import re\n",
    "from nltk.corpus import stopwords\n",
    "import nltk\n",
    "from nltk.tokenize import sent_tokenize, word_tokenize\n",
    "from nltk.stem import WordNetLemmatizer\n",
    "from sklearn.feature_extraction.text import CountVectorizer\n",
    "import seaborn as sns"
   ]
  },
  {
   "cell_type": "code",
   "execution_count": 2,
   "id": "fbd4a90d",
   "metadata": {},
   "outputs": [],
   "source": [
    "data = pd.read_csv('QueryResults_2.csv')"
   ]
  },
  {
   "cell_type": "markdown",
   "id": "a00b1457",
   "metadata": {},
   "source": [
    "# Data preparation for text analysis"
   ]
  },
  {
   "cell_type": "code",
   "execution_count": 3,
   "id": "5d375e1d",
   "metadata": {},
   "outputs": [],
   "source": [
    "data = pd.read_csv('QueryResults_2.csv')"
   ]
  },
  {
   "cell_type": "markdown",
   "id": "4972aff9",
   "metadata": {},
   "source": [
    "### Fonctions déstinée à la création du modèle Word2vec. "
   ]
  },
  {
   "cell_type": "code",
   "execution_count": 4,
   "id": "4922892d",
   "metadata": {},
   "outputs": [],
   "source": [
    "def sentence_to_wordlist(sentence, remove_stopwords=False, remove_ponctuation=False,lemmatize = False):\n",
    "\n",
    "    # 1. Remove HTML\n",
    "    sentence = BeautifulSoup(sentence).get_text()\n",
    "    sentence = re.sub(\"[^a-zA-Z+#]\",\" \", sentence)\n",
    "    # 1. Tokenization des phrases en liste de mots. \n",
    "    words = sentence.split()    \n",
    "    # 2. Lemmatisation des listes de mots(en option)\n",
    "    if lemmatize:\n",
    "        words = lemma_fct(words)\n",
    "    \n",
    "    # 3. Gestion des stopWords (en option)\n",
    "    if remove_stopwords:\n",
    "        stops = set(stopwords.words('english'))\n",
    "        words = [w for w in words if not w in stops]\n",
    "        \n",
    "    # 4. Gestion de la ponctuation (en option)\n",
    "    if remove_ponctuation:\n",
    "        ponct = ['[', ']', ',', '.', ':', '?', '(', ')','\\'','\\\"','`']\n",
    "        words = [w for w in words if not w in ponct]\n",
    "    \n",
    "    # 5. Return a list of words\n",
    "    return(words)"
   ]
  },
  {
   "cell_type": "code",
   "execution_count": 5,
   "id": "505aec45",
   "metadata": {},
   "outputs": [],
   "source": [
    "def question_to_sentences(question, tokenizer):\n",
    "    # Function to split a question into parsed sentences. Returns a \n",
    "    # list of sentences, where each sentence is a list of words\n",
    "    \n",
    "    question = BeautifulSoup(question).get_text()\n",
    "    # 1. Use the NLTK tokenizer to split the paragraph into sentences\n",
    "    raw_sentences = tokenizer.tokenize(question.strip())\n",
    "    # 2. Loop over each sentence\n",
    "    sentences = []\n",
    "    for raw_sentence in raw_sentences:\n",
    "        # If a sentence is empty, skip it\n",
    "        if len(raw_sentence) > 0:\n",
    "            # Otherwise, call review_to_wordlist to get a list of words\n",
    "            sentences.append(sentence_to_wordlist(raw_sentence, remove_stopwords=False,\\\n",
    "                                                  remove_ponctuation=False, lemmatize=False))\n",
    "    #\n",
    "    # Return the list of sentences (each sentence is a list of words,\n",
    "    # so this returns a list of lists\n",
    "    return sentences"
   ]
  },
  {
   "cell_type": "code",
   "execution_count": 6,
   "id": "02aeb5a6",
   "metadata": {
    "scrolled": true
   },
   "outputs": [],
   "source": [
    "#tokenizer qui décompose en phrases via la ponctuation= punkt\n",
    "tokenizer = nltk.data.load('tokenizers/punkt/english.pickle')"
   ]
  },
  {
   "cell_type": "markdown",
   "id": "151cdb42",
   "metadata": {},
   "source": [
    "## Gestion des TAGS ( cible ) "
   ]
  },
  {
   "cell_type": "code",
   "execution_count": 7,
   "id": "b2d2c14d",
   "metadata": {},
   "outputs": [],
   "source": [
    "def tag_remover(tag):\n",
    "    tag = tag.replace('>' , \" \").replace('<', \" \")\n",
    "    return tag\n",
    "\n",
    "def tag_to_word_list(tag):\n",
    "    tag = BeautifulSoup(tag).get_text()\n",
    "    tag = tag.split()\n",
    "    return(tag)"
   ]
  },
  {
   "cell_type": "code",
   "execution_count": 8,
   "id": "bdd72025",
   "metadata": {
    "scrolled": false
   },
   "outputs": [],
   "source": [
    "Tags = []\n",
    "for tag in data.Tags:\n",
    "    tag = tag_remover(tag)\n",
    "    tag = tag_to_word_list(tag)\n",
    "    Tags.append(tag)\n",
    "    \n",
    "tag_bank = [] \n",
    "for tag in Tags : \n",
    "    for y in tag:\n",
    "        tag_bank.append(y)"
   ]
  },
  {
   "cell_type": "code",
   "execution_count": 9,
   "id": "1ded7572",
   "metadata": {
    "scrolled": true
   },
   "outputs": [
    {
     "name": "stderr",
     "output_type": "stream",
     "text": [
      "/Users/florentmargery/opt/anaconda3/envs/work_env/lib/python3.9/site-packages/seaborn/_decorators.py:36: FutureWarning: Pass the following variables as keyword args: x, y. From version 0.12, the only valid positional argument will be `data`, and passing other arguments without an explicit keyword will result in an error or misinterpretation.\n",
      "  warnings.warn(\n"
     ]
    },
    {
     "data": {
      "image/png": "[encoded data removed]",
      "text/plain": [
       "<Figure size 432x288 with 1 Axes>"
      ]
     },
     "metadata": {
      "needs_background": "light"
     },
     "output_type": "display_data"
    }
   ],
   "source": [
    "tags = pd.DataFrame()\n",
    "tags['Tags'] = tag_bank\n",
    "sns.barplot(tags['Tags'].value_counts().head(10).index,\\\n",
    "            tags['Tags'].value_counts().head(10))\n",
    "top_ten = tags['Tags'].value_counts().head(10).index\n",
    "top_ten_tags=[]\n",
    "for i in range(len(top_ten)):\n",
    "    top_ten_tags.append(top_ten[i])"
   ]
  },
  {
   "cell_type": "code",
   "execution_count": 10,
   "id": "3fcada7a",
   "metadata": {},
   "outputs": [
    {
     "data": {
      "text/plain": [
       "37339"
      ]
     },
     "execution_count": 10,
     "metadata": {},
     "output_type": "execute_result"
    }
   ],
   "source": [
    "tags['Tags'].value_counts().head(10).sum()"
   ]
  },
  {
   "cell_type": "code",
   "execution_count": 11,
   "id": "f87b5963",
   "metadata": {},
   "outputs": [],
   "source": [
    "#Création des data que nous utiliserons pour créer notre modèle supervisé\n",
    "data_to_train = [] #--> X\n",
    "target_to_train = [] #--> y\n",
    "counter = 0\n",
    "for tag in Tags:\n",
    "    for i in tag:\n",
    "        if i in top_ten_tags:            \n",
    "            data_to_train.append(data.Body[counter])\n",
    "            target_to_train.append(i)\n",
    "            \n",
    "            \n",
    "    counter+=1"
   ]
  },
  {
   "cell_type": "code",
   "execution_count": 12,
   "id": "2e10fa5d",
   "metadata": {
    "scrolled": true
   },
   "outputs": [
    {
     "name": "stdout",
     "output_type": "stream",
     "text": [
      "java\n",
      "python\n",
      "c#\n",
      "javascript\n",
      "android\n",
      "ios\n",
      "c++\n",
      ".net\n",
      "html\n",
      "iphone\n"
     ]
    }
   ],
   "source": [
    "for tag in top_ten:\n",
    "    print(tag)\n",
    "    top_ten_tags.append(tag)"
   ]
  },
  {
   "cell_type": "markdown",
   "id": "85803685",
   "metadata": {},
   "source": [
    "# WORD2VEC Model"
   ]
  },
  {
   "cell_type": "code",
   "execution_count": 13,
   "id": "cd0c41b9",
   "metadata": {},
   "outputs": [
    {
     "name": "stderr",
     "output_type": "stream",
     "text": [
      "/Users/florentmargery/opt/anaconda3/envs/work_env/lib/python3.9/site-packages/bs4/__init__.py:431: MarkupResemblesLocatorWarning: \"https://stackoverflow.com/questions/66268/what-is-the-best-cc-coding-style-closed\" looks like a URL. Beautiful Soup is not an HTTP client. You should probably use an HTTP client like requests to get the document behind the URL, and feed that document to Beautiful Soup.\n",
      "  warnings.warn(\n",
      "/Users/florentmargery/opt/anaconda3/envs/work_env/lib/python3.9/site-packages/bs4/__init__.py:337: MarkupResemblesLocatorWarning: \".\" looks like a directory name, not markup. You may want to open a file found in this directory and pass the filehandle into Beautiful Soup.\n",
      "  warnings.warn(\n",
      "/Users/florentmargery/opt/anaconda3/envs/work_env/lib/python3.9/site-packages/bs4/__init__.py:431: MarkupResemblesLocatorWarning: \"https://lists.webkit.org/pipermail/webkit-dev/2008-September/005019.html\n",
      "https://lists.webkit.org/pipermail/webkit-dev/2009-June/008182.html\" looks like a URL. Beautiful Soup is not an HTTP client. You should probably use an HTTP client like requests to get the document behind the URL, and feed that document to Beautiful Soup.\n",
      "  warnings.warn(\n",
      "/Users/florentmargery/opt/anaconda3/envs/work_env/lib/python3.9/site-packages/bs4/__init__.py:431: MarkupResemblesLocatorWarning: \"http://github.com/ask/carrot/tree/master\n",
      "http://github.com/ask/celery/tree/master\" looks like a URL. Beautiful Soup is not an HTTP client. You should probably use an HTTP client like requests to get the document behind the URL, and feed that document to Beautiful Soup.\n",
      "  warnings.warn(\n",
      "/Users/florentmargery/opt/anaconda3/envs/work_env/lib/python3.9/site-packages/bs4/__init__.py:431: MarkupResemblesLocatorWarning: \"https://source.android.com/source/jack\" looks like a URL. Beautiful Soup is not an HTTP client. You should probably use an HTTP client like requests to get the document behind the URL, and feed that document to Beautiful Soup.\n",
      "  warnings.warn(\n",
      "/Users/florentmargery/opt/anaconda3/envs/work_env/lib/python3.9/site-packages/bs4/__init__.py:431: MarkupResemblesLocatorWarning: \"http://runnable.com/UWRl3KlLuONCAACG/read-files-from-filesystem-in-python\" looks like a URL. Beautiful Soup is not an HTTP client. You should probably use an HTTP client like requests to get the document behind the URL, and feed that document to Beautiful Soup.\n",
      "  warnings.warn(\n",
      "/Users/florentmargery/opt/anaconda3/envs/work_env/lib/python3.9/site-packages/bs4/__init__.py:431: MarkupResemblesLocatorWarning: \"http://www.matthidinger.com/images/onion-arch.png\" looks like a URL. Beautiful Soup is not an HTTP client. You should probably use an HTTP client like requests to get the document behind the URL, and feed that document to Beautiful Soup.\n",
      "  warnings.warn(\n",
      "/Users/florentmargery/opt/anaconda3/envs/work_env/lib/python3.9/site-packages/bs4/__init__.py:431: MarkupResemblesLocatorWarning: \"https://docs.jboss.org/hibernate/orm/4.0/devguide/en-US/html/ch05.html.\" looks like a URL. Beautiful Soup is not an HTTP client. You should probably use an HTTP client like requests to get the document behind the URL, and feed that document to Beautiful Soup.\n",
      "  warnings.warn(\n",
      "/Users/florentmargery/opt/anaconda3/envs/work_env/lib/python3.9/site-packages/bs4/__init__.py:431: MarkupResemblesLocatorWarning: \"https://hub.docker.com/r/microsoft/iis/\" looks like a URL. Beautiful Soup is not an HTTP client. You should probably use an HTTP client like requests to get the document behind the URL, and feed that document to Beautiful Soup.\n",
      "  warnings.warn(\n",
      "/Users/florentmargery/opt/anaconda3/envs/work_env/lib/python3.9/site-packages/bs4/__init__.py:431: MarkupResemblesLocatorWarning: \"http://writingminds.github.io/ffmpeg-android-java\n",
      "https://github.com/WritingMinds/ffmpeg-android-java\n",
      "https://github.com/havlenapetr/FFMpeg\n",
      "https://github.com/appunite/AndroidFFmpeg\n",
      "https://github.com/WritingMinds/ffmpeg-android\" looks like a URL. Beautiful Soup is not an HTTP client. You should probably use an HTTP client like requests to get the document behind the URL, and feed that document to Beautiful Soup.\n",
      "  warnings.warn(\n",
      "/Users/florentmargery/opt/anaconda3/envs/work_env/lib/python3.9/site-packages/bs4/__init__.py:431: MarkupResemblesLocatorWarning: \"http://dewitters.koonsolo.com/gamemvc.html\" looks like a URL. Beautiful Soup is not an HTTP client. You should probably use an HTTP client like requests to get the document behind the URL, and feed that document to Beautiful Soup.\n",
      "  warnings.warn(\n",
      "/Users/florentmargery/opt/anaconda3/envs/work_env/lib/python3.9/site-packages/bs4/__init__.py:431: MarkupResemblesLocatorWarning: \"https://www.nccgroup.trust/us/about-us/newsroom-and-events/blog/2007/july/enough-with-the-rainbow-tables-what-you-need-to-know-about-secure-password-schemes/\" looks like a URL. Beautiful Soup is not an HTTP client. You should probably use an HTTP client like requests to get the document behind the URL, and feed that document to Beautiful Soup.\n",
      "  warnings.warn(\n",
      "/Users/florentmargery/opt/anaconda3/envs/work_env/lib/python3.9/site-packages/bs4/__init__.py:431: MarkupResemblesLocatorWarning: \"https://github.com/dreftymac/stackoverflow.questions.998832\" looks like a URL. Beautiful Soup is not an HTTP client. You should probably use an HTTP client like requests to get the document behind the URL, and feed that document to Beautiful Soup.\n",
      "  warnings.warn(\n",
      "/Users/florentmargery/opt/anaconda3/envs/work_env/lib/python3.9/site-packages/bs4/__init__.py:431: MarkupResemblesLocatorWarning: \"http://lostechies.com/jimmybogard/2009/06/30/how-we-do-mvc-view-models/\" looks like a URL. Beautiful Soup is not an HTTP client. You should probably use an HTTP client like requests to get the document behind the URL, and feed that document to Beautiful Soup.\n",
      "  warnings.warn(\n",
      "/Users/florentmargery/opt/anaconda3/envs/work_env/lib/python3.9/site-packages/bs4/__init__.py:431: MarkupResemblesLocatorWarning: \"http://code.google.com/p/android/issues/detail?id=22822\" looks like a URL. Beautiful Soup is not an HTTP client. You should probably use an HTTP client like requests to get the document behind the URL, and feed that document to Beautiful Soup.\n",
      "  warnings.warn(\n",
      "/Users/florentmargery/opt/anaconda3/envs/work_env/lib/python3.9/site-packages/bs4/__init__.py:431: MarkupResemblesLocatorWarning: \"http://en.wikipedia.org/wiki/Persistent_data_structure).\" looks like a URL. Beautiful Soup is not an HTTP client. You should probably use an HTTP client like requests to get the document behind the URL, and feed that document to Beautiful Soup.\n",
      "  warnings.warn(\n",
      "/Users/florentmargery/opt/anaconda3/envs/work_env/lib/python3.9/site-packages/bs4/__init__.py:431: MarkupResemblesLocatorWarning: \"http://docs.oracle.com/javaee/6/api/javax/servlet/ServletContextListener.html\" looks like a URL. Beautiful Soup is not an HTTP client. You should probably use an HTTP client like requests to get the document behind the URL, and feed that document to Beautiful Soup.\n",
      "  warnings.warn(\n",
      "/Users/florentmargery/opt/anaconda3/envs/work_env/lib/python3.9/site-packages/bs4/__init__.py:431: MarkupResemblesLocatorWarning: \"http://pastebin.com/MzPENmHp\" looks like a URL. Beautiful Soup is not an HTTP client. You should probably use an HTTP client like requests to get the document behind the URL, and feed that document to Beautiful Soup.\n",
      "  warnings.warn(\n",
      "/Users/florentmargery/opt/anaconda3/envs/work_env/lib/python3.9/site-packages/bs4/__init__.py:431: MarkupResemblesLocatorWarning: \"https://github.com/cgeo7/spring-rest-example\" looks like a URL. Beautiful Soup is not an HTTP client. You should probably use an HTTP client like requests to get the document behind the URL, and feed that document to Beautiful Soup.\n",
      "  warnings.warn(\n",
      "/Users/florentmargery/opt/anaconda3/envs/work_env/lib/python3.9/site-packages/bs4/__init__.py:431: MarkupResemblesLocatorWarning: \"https://gist.github.com/axefrog/c347bf0f5e0723cbd09b1aaed6ec6fc6\" looks like a URL. Beautiful Soup is not an HTTP client. You should probably use an HTTP client like requests to get the document behind the URL, and feed that document to Beautiful Soup.\n",
      "  warnings.warn(\n",
      "/Users/florentmargery/opt/anaconda3/envs/work_env/lib/python3.9/site-packages/bs4/__init__.py:431: MarkupResemblesLocatorWarning: \"http://james.newtonking.com/json/help/?topic=html/M_Newtonsoft_Json_JsonConvert_DeserializeObject.htm#seeAlsoToggle\" looks like a URL. Beautiful Soup is not an HTTP client. You should probably use an HTTP client like requests to get the document behind the URL, and feed that document to Beautiful Soup.\n",
      "  warnings.warn(\n"
     ]
    },
    {
     "name": "stderr",
     "output_type": "stream",
     "text": [
      "/Users/florentmargery/opt/anaconda3/envs/work_env/lib/python3.9/site-packages/bs4/__init__.py:431: MarkupResemblesLocatorWarning: \"http://www.uploadify.com/demos/\n",
      "http://www.zamzar.com/\" looks like a URL. Beautiful Soup is not an HTTP client. You should probably use an HTTP client like requests to get the document behind the URL, and feed that document to Beautiful Soup.\n",
      "  warnings.warn(\n",
      "/Users/florentmargery/opt/anaconda3/envs/work_env/lib/python3.9/site-packages/bs4/__init__.py:431: MarkupResemblesLocatorWarning: \"https://cran.r-project.org/web/packages/gcbd/vignettes/gcbd.pdf.\" looks like a URL. Beautiful Soup is not an HTTP client. You should probably use an HTTP client like requests to get the document behind the URL, and feed that document to Beautiful Soup.\n",
      "  warnings.warn(\n",
      "/Users/florentmargery/opt/anaconda3/envs/work_env/lib/python3.9/site-packages/bs4/__init__.py:431: MarkupResemblesLocatorWarning: \"http://jsfiddle.net/RagKH/\" looks like a URL. Beautiful Soup is not an HTTP client. You should probably use an HTTP client like requests to get the document behind the URL, and feed that document to Beautiful Soup.\n",
      "  warnings.warn(\n",
      "/Users/florentmargery/opt/anaconda3/envs/work_env/lib/python3.9/site-packages/bs4/__init__.py:431: MarkupResemblesLocatorWarning: \"http://jsfiddle.net/ezZr5/\" looks like a URL. Beautiful Soup is not an HTTP client. You should probably use an HTTP client like requests to get the document behind the URL, and feed that document to Beautiful Soup.\n",
      "  warnings.warn(\n",
      "/Users/florentmargery/opt/anaconda3/envs/work_env/lib/python3.9/site-packages/bs4/__init__.py:431: MarkupResemblesLocatorWarning: \"http://code.google.com/p/google-api-objectivec-client/wiki/Introduction\n",
      "http://code.google.com/p/google-api-objectivec-client/wiki/BuildingTheLibrary\n",
      "http://code.google.com/p/gtm-oauth2/\" looks like a URL. Beautiful Soup is not an HTTP client. You should probably use an HTTP client like requests to get the document behind the URL, and feed that document to Beautiful Soup.\n",
      "  warnings.warn(\n",
      "/Users/florentmargery/opt/anaconda3/envs/work_env/lib/python3.9/site-packages/bs4/__init__.py:431: MarkupResemblesLocatorWarning: \"https://github.com/jeromeetienne/jquery-qrcode\" looks like a URL. Beautiful Soup is not an HTTP client. You should probably use an HTTP client like requests to get the document behind the URL, and feed that document to Beautiful Soup.\n",
      "  warnings.warn(\n",
      "/Users/florentmargery/opt/anaconda3/envs/work_env/lib/python3.9/site-packages/bs4/__init__.py:431: MarkupResemblesLocatorWarning: \"http://forums.java.net/jive/thread.jspa?threadID=62657&tstart=0\" looks like a URL. Beautiful Soup is not an HTTP client. You should probably use an HTTP client like requests to get the document behind the URL, and feed that document to Beautiful Soup.\n",
      "  warnings.warn(\n",
      "/Users/florentmargery/opt/anaconda3/envs/work_env/lib/python3.9/site-packages/bs4/__init__.py:431: MarkupResemblesLocatorWarning: \"http://doc.qtsoftware.com/4.5/deployment-windows.html\" looks like a URL. Beautiful Soup is not an HTTP client. You should probably use an HTTP client like requests to get the document behind the URL, and feed that document to Beautiful Soup.\n",
      "  warnings.warn(\n",
      "/Users/florentmargery/opt/anaconda3/envs/work_env/lib/python3.9/site-packages/bs4/__init__.py:337: MarkupResemblesLocatorWarning: \"..\" looks like a directory name, not markup. You may want to open a file found in this directory and pass the filehandle into Beautiful Soup.\n",
      "  warnings.warn(\n",
      "/Users/florentmargery/opt/anaconda3/envs/work_env/lib/python3.9/site-packages/bs4/__init__.py:431: MarkupResemblesLocatorWarning: \"https://issues.jenkins-ci.org/browse/JENKINS-24590\" looks like a URL. Beautiful Soup is not an HTTP client. You should probably use an HTTP client like requests to get the document behind the URL, and feed that document to Beautiful Soup.\n",
      "  warnings.warn(\n",
      "/Users/florentmargery/opt/anaconda3/envs/work_env/lib/python3.9/site-packages/bs4/__init__.py:431: MarkupResemblesLocatorWarning: \"https://developer.xamarin.com/guides/cross-platform/getting_started/installation/uninstalling_xamarin/#Using_the_Uninstall_Script\" looks like a URL. Beautiful Soup is not an HTTP client. You should probably use an HTTP client like requests to get the document behind the URL, and feed that document to Beautiful Soup.\n",
      "  warnings.warn(\n",
      "/Users/florentmargery/opt/anaconda3/envs/work_env/lib/python3.9/site-packages/bs4/__init__.py:431: MarkupResemblesLocatorWarning: \"https://wordpress.org/support/topic/read-this-first-wordpress-45-master-list#post-8271654\" looks like a URL. Beautiful Soup is not an HTTP client. You should probably use an HTTP client like requests to get the document behind the URL, and feed that document to Beautiful Soup.\n",
      "  warnings.warn(\n",
      "/Users/florentmargery/opt/anaconda3/envs/work_env/lib/python3.9/site-packages/bs4/__init__.py:431: MarkupResemblesLocatorWarning: \"http://www.mydomain.com/myimage.jpg).\" looks like a URL. Beautiful Soup is not an HTTP client. You should probably use an HTTP client like requests to get the document behind the URL, and feed that document to Beautiful Soup.\n",
      "  warnings.warn(\n",
      "/Users/florentmargery/opt/anaconda3/envs/work_env/lib/python3.9/site-packages/bs4/__init__.py:431: MarkupResemblesLocatorWarning: \"https://github.com/danialfarid/angular-file-upload\n",
      "Thanks.\" looks like a URL. Beautiful Soup is not an HTTP client. You should probably use an HTTP client like requests to get the document behind the URL, and feed that document to Beautiful Soup.\n",
      "  warnings.warn(\n",
      "/Users/florentmargery/opt/anaconda3/envs/work_env/lib/python3.9/site-packages/bs4/__init__.py:431: MarkupResemblesLocatorWarning: \"https://dl.dropboxusercontent.com/u/35758776/xenxbd/contrastic/index.html#parallux-wrapper-04\" looks like a URL. Beautiful Soup is not an HTTP client. You should probably use an HTTP client like requests to get the document behind the URL, and feed that document to Beautiful Soup.\n",
      "  warnings.warn(\n",
      "/Users/florentmargery/opt/anaconda3/envs/work_env/lib/python3.9/site-packages/bs4/__init__.py:431: MarkupResemblesLocatorWarning: \"http://jsfiddle.net/Rqx8T/\" looks like a URL. Beautiful Soup is not an HTTP client. You should probably use an HTTP client like requests to get the document behind the URL, and feed that document to Beautiful Soup.\n",
      "  warnings.warn(\n",
      "/Users/florentmargery/opt/anaconda3/envs/work_env/lib/python3.9/site-packages/bs4/__init__.py:431: MarkupResemblesLocatorWarning: \"http://java.sun.com/javase/technologies/realtime/index.jsp\" looks like a URL. Beautiful Soup is not an HTTP client. You should probably use an HTTP client like requests to get the document behind the URL, and feed that document to Beautiful Soup.\n",
      "  warnings.warn(\n",
      "/Users/florentmargery/opt/anaconda3/envs/work_env/lib/python3.9/site-packages/bs4/__init__.py:431: MarkupResemblesLocatorWarning: \"https://sites.google.com/site/x32abi/\" looks like a URL. Beautiful Soup is not an HTTP client. You should probably use an HTTP client like requests to get the document behind the URL, and feed that document to Beautiful Soup.\n",
      "  warnings.warn(\n",
      "/Users/florentmargery/opt/anaconda3/envs/work_env/lib/python3.9/site-packages/bs4/__init__.py:431: MarkupResemblesLocatorWarning: \"http://example.com/data/...\" looks like a URL. Beautiful Soup is not an HTTP client. You should probably use an HTTP client like requests to get the document behind the URL, and feed that document to Beautiful Soup.\n",
      "  warnings.warn(\n",
      "/Users/florentmargery/opt/anaconda3/envs/work_env/lib/python3.9/site-packages/bs4/__init__.py:431: MarkupResemblesLocatorWarning: \"http://www.devlounge.net/articles/using-ajax-with-your-wordpress-plugin\" looks like a URL. Beautiful Soup is not an HTTP client. You should probably use an HTTP client like requests to get the document behind the URL, and feed that document to Beautiful Soup.\n",
      "  warnings.warn(\n",
      "/Users/florentmargery/opt/anaconda3/envs/work_env/lib/python3.9/site-packages/bs4/__init__.py:431: MarkupResemblesLocatorWarning: \"http://openssl.6102.n7.nabble.com/check-certificate-chain-in-a-pem-file-td43871.html\" looks like a URL. Beautiful Soup is not an HTTP client. You should probably use an HTTP client like requests to get the document behind the URL, and feed that document to Beautiful Soup.\n",
      "  warnings.warn(\n"
     ]
    },
    {
     "name": "stderr",
     "output_type": "stream",
     "text": [
      "/Users/florentmargery/opt/anaconda3/envs/work_env/lib/python3.9/site-packages/bs4/__init__.py:431: MarkupResemblesLocatorWarning: \"http://www.outlinenone.com/\" looks like a URL. Beautiful Soup is not an HTTP client. You should probably use an HTTP client like requests to get the document behind the URL, and feed that document to Beautiful Soup.\n",
      "  warnings.warn(\n",
      "/Users/florentmargery/opt/anaconda3/envs/work_env/lib/python3.9/site-packages/bs4/__init__.py:431: MarkupResemblesLocatorWarning: \"http://github.com/MarkNijhof/Fohjin\n",
      "http://cre8ivethought.com/blog/2009/11/12/cqrs--la-greg-young/\n",
      "http://cre8ivethought.com/blog/2009/11/28/cqrs-trying-to-make-it-re-usable/\" looks like a URL. Beautiful Soup is not an HTTP client. You should probably use an HTTP client like requests to get the document behind the URL, and feed that document to Beautiful Soup.\n",
      "  warnings.warn(\n",
      "/Users/florentmargery/opt/anaconda3/envs/work_env/lib/python3.9/site-packages/bs4/__init__.py:431: MarkupResemblesLocatorWarning: \"http://bootply.com/92446\" looks like a URL. Beautiful Soup is not an HTTP client. You should probably use an HTTP client like requests to get the document behind the URL, and feed that document to Beautiful Soup.\n",
      "  warnings.warn(\n",
      "/Users/florentmargery/opt/anaconda3/envs/work_env/lib/python3.9/site-packages/bs4/__init__.py:431: MarkupResemblesLocatorWarning: \"http://remote-domain.com/script.pl.\" looks like a URL. Beautiful Soup is not an HTTP client. You should probably use an HTTP client like requests to get the document behind the URL, and feed that document to Beautiful Soup.\n",
      "  warnings.warn(\n",
      "/Users/florentmargery/opt/anaconda3/envs/work_env/lib/python3.9/site-packages/bs4/__init__.py:431: MarkupResemblesLocatorWarning: \"https://en.wikipedia.org/wiki/Two-phase_commit_protocol\n",
      "http://ws-rest.org/2014/sites/default/files/wsrest2014_submission_7.pdf\n",
      "https://www.tigerteam.dk/2014/micro-services-its-not-only-the-size-that-matters-its-also-how-you-use-them-part-1/\" looks like a URL. Beautiful Soup is not an HTTP client. You should probably use an HTTP client like requests to get the document behind the URL, and feed that document to Beautiful Soup.\n",
      "  warnings.warn(\n",
      "/Users/florentmargery/opt/anaconda3/envs/work_env/lib/python3.9/site-packages/bs4/__init__.py:431: MarkupResemblesLocatorWarning: \"https://developer.apple.com/documentation/uikit/uivisualeffectview#//apple_ref/occ/instp/UIVisualEffectView/contentView\" looks like a URL. Beautiful Soup is not an HTTP client. You should probably use an HTTP client like requests to get the document behind the URL, and feed that document to Beautiful Soup.\n",
      "  warnings.warn(\n",
      "/Users/florentmargery/opt/anaconda3/envs/work_env/lib/python3.9/site-packages/bs4/__init__.py:431: MarkupResemblesLocatorWarning: \"http://zookeeper.apache.org/\" looks like a URL. Beautiful Soup is not an HTTP client. You should probably use an HTTP client like requests to get the document behind the URL, and feed that document to Beautiful Soup.\n",
      "  warnings.warn(\n",
      "/Users/florentmargery/opt/anaconda3/envs/work_env/lib/python3.9/site-packages/bs4/__init__.py:431: MarkupResemblesLocatorWarning: \"http://plnkr.co/edit/3qcIbMvJk19OvokcHe2N?p=preview\" looks like a URL. Beautiful Soup is not an HTTP client. You should probably use an HTTP client like requests to get the document behind the URL, and feed that document to Beautiful Soup.\n",
      "  warnings.warn(\n",
      "/Users/florentmargery/opt/anaconda3/envs/work_env/lib/python3.9/site-packages/bs4/__init__.py:431: MarkupResemblesLocatorWarning: \"https://www.reddit.com/r/cpp/comments/7c208c/is_constexpr_a_macro_that_check_if_an_expression/\" looks like a URL. Beautiful Soup is not an HTTP client. You should probably use an HTTP client like requests to get the document behind the URL, and feed that document to Beautiful Soup.\n",
      "  warnings.warn(\n",
      "/Users/florentmargery/opt/anaconda3/envs/work_env/lib/python3.9/site-packages/bs4/__init__.py:431: MarkupResemblesLocatorWarning: \"http://fluidkit.codeplex.com/\" looks like a URL. Beautiful Soup is not an HTTP client. You should probably use an HTTP client like requests to get the document behind the URL, and feed that document to Beautiful Soup.\n",
      "  warnings.warn(\n",
      "/Users/florentmargery/opt/anaconda3/envs/work_env/lib/python3.9/site-packages/bs4/__init__.py:431: MarkupResemblesLocatorWarning: \"http://mangastream.com\" looks like a URL. Beautiful Soup is not an HTTP client. You should probably use an HTTP client like requests to get the document behind the URL, and feed that document to Beautiful Soup.\n",
      "  warnings.warn(\n",
      "/Users/florentmargery/opt/anaconda3/envs/work_env/lib/python3.9/site-packages/bs4/__init__.py:431: MarkupResemblesLocatorWarning: \"http://en.wikipedia.org/wiki/3D_projection\" looks like a URL. Beautiful Soup is not an HTTP client. You should probably use an HTTP client like requests to get the document behind the URL, and feed that document to Beautiful Soup.\n",
      "  warnings.warn(\n",
      "/Users/florentmargery/opt/anaconda3/envs/work_env/lib/python3.9/site-packages/bs4/__init__.py:431: MarkupResemblesLocatorWarning: \"http://cran.r-project.org/web/packages/qdap/qdap.pdf\" looks like a URL. Beautiful Soup is not an HTTP client. You should probably use an HTTP client like requests to get the document behind the URL, and feed that document to Beautiful Soup.\n",
      "  warnings.warn(\n",
      "/Users/florentmargery/opt/anaconda3/envs/work_env/lib/python3.9/site-packages/bs4/__init__.py:431: MarkupResemblesLocatorWarning: \"http://www.experts-exchange.com/Microsoft/Development/VSTO/Q_23635459.html\n",
      "Thanks.\" looks like a URL. Beautiful Soup is not an HTTP client. You should probably use an HTTP client like requests to get the document behind the URL, and feed that document to Beautiful Soup.\n",
      "  warnings.warn(\n",
      "/Users/florentmargery/opt/anaconda3/envs/work_env/lib/python3.9/site-packages/bs4/__init__.py:431: MarkupResemblesLocatorWarning: \"http://html5demos.com/history\" looks like a URL. Beautiful Soup is not an HTTP client. You should probably use an HTTP client like requests to get the document behind the URL, and feed that document to Beautiful Soup.\n",
      "  warnings.warn(\n",
      "/Users/florentmargery/opt/anaconda3/envs/work_env/lib/python3.9/site-packages/bs4/__init__.py:431: MarkupResemblesLocatorWarning: \"http://www.jooq.org\" looks like a URL. Beautiful Soup is not an HTTP client. You should probably use an HTTP client like requests to get the document behind the URL, and feed that document to Beautiful Soup.\n",
      "  warnings.warn(\n",
      "/Users/florentmargery/opt/anaconda3/envs/work_env/lib/python3.9/site-packages/bs4/__init__.py:431: MarkupResemblesLocatorWarning: \"http://www-asp.azureedge.net/v-2016-09-01-001/media/4773381/lifecycle-of-an-aspnet-mvc-5-application.pdf\" looks like a URL. Beautiful Soup is not an HTTP client. You should probably use an HTTP client like requests to get the document behind the URL, and feed that document to Beautiful Soup.\n",
      "  warnings.warn(\n",
      "/Users/florentmargery/opt/anaconda3/envs/work_env/lib/python3.9/site-packages/bs4/__init__.py:431: MarkupResemblesLocatorWarning: \"https://medium.cobeisfresh.com/why-you-shouldn-t-use-delegates-in-swift-7ef808a7f16b#.hqb7zrc1v\n",
      "2.\" looks like a URL. Beautiful Soup is not an HTTP client. You should probably use an HTTP client like requests to get the document behind the URL, and feed that document to Beautiful Soup.\n",
      "  warnings.warn(\n",
      "/Users/florentmargery/opt/anaconda3/envs/work_env/lib/python3.9/site-packages/bs4/__init__.py:431: MarkupResemblesLocatorWarning: \"https://developer.android.com/training/articles/user-data-ids.\" looks like a URL. Beautiful Soup is not an HTTP client. You should probably use an HTTP client like requests to get the document behind the URL, and feed that document to Beautiful Soup.\n",
      "  warnings.warn(\n",
      "/Users/florentmargery/opt/anaconda3/envs/work_env/lib/python3.9/site-packages/bs4/__init__.py:431: MarkupResemblesLocatorWarning: \"http://blog.andrewray.me/react-es6-autobinding-and-createclass/\" looks like a URL. Beautiful Soup is not an HTTP client. You should probably use an HTTP client like requests to get the document behind the URL, and feed that document to Beautiful Soup.\n",
      "  warnings.warn(\n",
      "/Users/florentmargery/opt/anaconda3/envs/work_env/lib/python3.9/site-packages/bs4/__init__.py:431: MarkupResemblesLocatorWarning: \"http://android-developers.blogspot.nl/2015/11/android-studio-20-preview.html\" looks like a URL. Beautiful Soup is not an HTTP client. You should probably use an HTTP client like requests to get the document behind the URL, and feed that document to Beautiful Soup.\n",
      "  warnings.warn(\n"
     ]
    },
    {
     "name": "stderr",
     "output_type": "stream",
     "text": [
      "/Users/florentmargery/opt/anaconda3/envs/work_env/lib/python3.9/site-packages/bs4/__init__.py:431: MarkupResemblesLocatorWarning: \"https://github.com/parkwookyun/firebase-angular-board\" looks like a URL. Beautiful Soup is not an HTTP client. You should probably use an HTTP client like requests to get the document behind the URL, and feed that document to Beautiful Soup.\n",
      "  warnings.warn(\n",
      "/Users/florentmargery/opt/anaconda3/envs/work_env/lib/python3.9/site-packages/bs4/__init__.py:431: MarkupResemblesLocatorWarning: \"http://en.cppreference.com/w/cpp/atomic/memory_order\" looks like a URL. Beautiful Soup is not an HTTP client. You should probably use an HTTP client like requests to get the document behind the URL, and feed that document to Beautiful Soup.\n",
      "  warnings.warn(\n",
      "/Users/florentmargery/opt/anaconda3/envs/work_env/lib/python3.9/site-packages/bs4/__init__.py:431: MarkupResemblesLocatorWarning: \"http://jsfiddle.net/4wqEm/2/\" looks like a URL. Beautiful Soup is not an HTTP client. You should probably use an HTTP client like requests to get the document behind the URL, and feed that document to Beautiful Soup.\n",
      "  warnings.warn(\n",
      "/Users/florentmargery/opt/anaconda3/envs/work_env/lib/python3.9/site-packages/bs4/__init__.py:431: MarkupResemblesLocatorWarning: \"http://www.barzilay.org/Swindle.\" looks like a URL. Beautiful Soup is not an HTTP client. You should probably use an HTTP client like requests to get the document behind the URL, and feed that document to Beautiful Soup.\n",
      "  warnings.warn(\n",
      "/Users/florentmargery/opt/anaconda3/envs/work_env/lib/python3.9/site-packages/bs4/__init__.py:431: MarkupResemblesLocatorWarning: \"http://code.google.com/p/selenium/wiki/PythonBindings\" looks like a URL. Beautiful Soup is not an HTTP client. You should probably use an HTTP client like requests to get the document behind the URL, and feed that document to Beautiful Soup.\n",
      "  warnings.warn(\n",
      "/Users/florentmargery/opt/anaconda3/envs/work_env/lib/python3.9/site-packages/bs4/__init__.py:431: MarkupResemblesLocatorWarning: \"https://codetransient.wordpress.com/2019/06/22/sftp-secured-file-transfer-protocol/\" looks like a URL. Beautiful Soup is not an HTTP client. You should probably use an HTTP client like requests to get the document behind the URL, and feed that document to Beautiful Soup.\n",
      "  warnings.warn(\n",
      "/Users/florentmargery/opt/anaconda3/envs/work_env/lib/python3.9/site-packages/bs4/__init__.py:431: MarkupResemblesLocatorWarning: \"http://docs.oracle.com/javase/tutorial/essential/concurrency/guardmeth.html\" looks like a URL. Beautiful Soup is not an HTTP client. You should probably use an HTTP client like requests to get the document behind the URL, and feed that document to Beautiful Soup.\n",
      "  warnings.warn(\n"
     ]
    }
   ],
   "source": [
    "sentences = []\n",
    "for question in data['Body']:\n",
    "    sentences += (question_to_sentences(question,tokenizer))"
   ]
  },
  {
   "cell_type": "code",
   "execution_count": 14,
   "id": "a5fc6b1a",
   "metadata": {},
   "outputs": [
    {
     "name": "stderr",
     "output_type": "stream",
     "text": [
      "2022-04-20 10:22:50,245 : INFO : collecting all words and their counts\n",
      "2022-04-20 10:22:50,246 : INFO : PROGRESS: at sentence #0, processed 0 words, keeping 0 word types\n",
      "2022-04-20 10:22:50,272 : INFO : PROGRESS: at sentence #10000, processed 207221 words, keeping 15582 word types\n",
      "2022-04-20 10:22:50,302 : INFO : PROGRESS: at sentence #20000, processed 425732 words, keeping 24491 word types\n",
      "2022-04-20 10:22:50,336 : INFO : PROGRESS: at sentence #30000, processed 646514 words, keeping 31823 word types\n",
      "2022-04-20 10:22:50,369 : INFO : PROGRESS: at sentence #40000, processed 865619 words, keeping 38257 word types\n",
      "2022-04-20 10:22:50,401 : INFO : PROGRESS: at sentence #50000, processed 1082188 words, keeping 43565 word types\n",
      "2022-04-20 10:22:50,436 : INFO : PROGRESS: at sentence #60000, processed 1323559 words, keeping 50362 word types\n",
      "2022-04-20 10:22:50,472 : INFO : PROGRESS: at sentence #70000, processed 1559511 words, keeping 56463 word types\n"
     ]
    },
    {
     "name": "stdout",
     "output_type": "stream",
     "text": [
      "Training model...\n"
     ]
    },
    {
     "name": "stderr",
     "output_type": "stream",
     "text": [
      "2022-04-20 10:22:50,507 : INFO : PROGRESS: at sentence #80000, processed 1786222 words, keeping 61530 word types\n",
      "2022-04-20 10:22:50,542 : INFO : PROGRESS: at sentence #90000, processed 2016835 words, keeping 66985 word types\n",
      "2022-04-20 10:22:50,578 : INFO : PROGRESS: at sentence #100000, processed 2261480 words, keeping 72396 word types\n",
      "2022-04-20 10:22:50,613 : INFO : PROGRESS: at sentence #110000, processed 2506493 words, keeping 78145 word types\n",
      "2022-04-20 10:22:50,648 : INFO : PROGRESS: at sentence #120000, processed 2749958 words, keeping 83330 word types\n",
      "2022-04-20 10:22:50,686 : INFO : PROGRESS: at sentence #130000, processed 2987200 words, keeping 88033 word types\n",
      "2022-04-20 10:22:50,720 : INFO : PROGRESS: at sentence #140000, processed 3203252 words, keeping 91876 word types\n",
      "2022-04-20 10:22:50,755 : INFO : PROGRESS: at sentence #150000, processed 3423062 words, keeping 95689 word types\n",
      "2022-04-20 10:22:50,793 : INFO : PROGRESS: at sentence #160000, processed 3653806 words, keeping 99798 word types\n",
      "2022-04-20 10:22:50,831 : INFO : PROGRESS: at sentence #170000, processed 3898502 words, keeping 104505 word types\n",
      "2022-04-20 10:22:50,869 : INFO : PROGRESS: at sentence #180000, processed 4122717 words, keeping 108442 word types\n",
      "2022-04-20 10:22:50,906 : INFO : PROGRESS: at sentence #190000, processed 4348737 words, keeping 112251 word types\n",
      "2022-04-20 10:22:50,941 : INFO : PROGRESS: at sentence #200000, processed 4574331 words, keeping 115792 word types\n",
      "2022-04-20 10:22:50,975 : INFO : PROGRESS: at sentence #210000, processed 4799900 words, keeping 119358 word types\n",
      "2022-04-20 10:22:51,010 : INFO : PROGRESS: at sentence #220000, processed 5032972 words, keeping 123167 word types\n",
      "2022-04-20 10:22:51,049 : INFO : PROGRESS: at sentence #230000, processed 5273147 words, keeping 127199 word types\n",
      "2022-04-20 10:22:51,086 : INFO : PROGRESS: at sentence #240000, processed 5495943 words, keeping 130361 word types\n",
      "2022-04-20 10:22:51,123 : INFO : PROGRESS: at sentence #250000, processed 5733084 words, keeping 134227 word types\n",
      "2022-04-20 10:22:51,163 : INFO : PROGRESS: at sentence #260000, processed 5973360 words, keeping 138133 word types\n",
      "2022-04-20 10:22:51,199 : INFO : PROGRESS: at sentence #270000, processed 6205649 words, keeping 141390 word types\n",
      "2022-04-20 10:22:51,237 : INFO : PROGRESS: at sentence #280000, processed 6439989 words, keeping 145012 word types\n",
      "2022-04-20 10:22:51,277 : INFO : PROGRESS: at sentence #290000, processed 6692732 words, keeping 148861 word types\n",
      "2022-04-20 10:22:51,317 : INFO : PROGRESS: at sentence #300000, processed 6935421 words, keeping 152753 word types\n",
      "2022-04-20 10:22:51,353 : INFO : PROGRESS: at sentence #310000, processed 7176038 words, keeping 156612 word types\n",
      "2022-04-20 10:22:51,393 : INFO : PROGRESS: at sentence #320000, processed 7418725 words, keeping 159989 word types\n",
      "2022-04-20 10:22:51,404 : INFO : collected 161237 word types from a corpus of 7482900 raw words and 322594 sentences\n",
      "2022-04-20 10:22:51,405 : INFO : Creating a fresh vocabulary\n",
      "2022-04-20 10:22:51,502 : INFO : Word2Vec lifecycle event {'msg': 'effective_min_count=10 retains 24296 unique words (15.06850164664438%% of original 161237, drops 136941)', 'datetime': '2022-04-20T10:22:51.502303', 'gensim': '4.1.2', 'python': '3.9.12 (main, Apr  5 2022, 01:53:17) \\n[Clang 12.0.0 ]', 'platform': 'macOS-10.16-x86_64-i386-64bit', 'event': 'prepare_vocab'}\n",
      "2022-04-20 10:22:51,502 : INFO : Word2Vec lifecycle event {'msg': 'effective_min_count=10 leaves 7167192 word corpus (95.78094054444132%% of original 7482900, drops 315708)', 'datetime': '2022-04-20T10:22:51.502812', 'gensim': '4.1.2', 'python': '3.9.12 (main, Apr  5 2022, 01:53:17) \\n[Clang 12.0.0 ]', 'platform': 'macOS-10.16-x86_64-i386-64bit', 'event': 'prepare_vocab'}\n",
      "2022-04-20 10:22:51,605 : INFO : deleting the raw counts dictionary of 161237 items\n",
      "2022-04-20 10:22:51,608 : INFO : sample=0.001 downsamples 41 most-common words\n",
      "2022-04-20 10:22:51,609 : INFO : Word2Vec lifecycle event {'msg': 'downsampling leaves estimated 5889599.829671762 word corpus (82.2%% of prior 7167192)', 'datetime': '2022-04-20T10:22:51.609066', 'gensim': '4.1.2', 'python': '3.9.12 (main, Apr  5 2022, 01:53:17) \\n[Clang 12.0.0 ]', 'platform': 'macOS-10.16-x86_64-i386-64bit', 'event': 'prepare_vocab'}\n",
      "2022-04-20 10:22:51,792 : INFO : estimated required memory for 24296 words and 300 dimensions: 70458400 bytes\n",
      "2022-04-20 10:22:51,792 : INFO : resetting layer weights\n",
      "2022-04-20 10:22:51,827 : INFO : Word2Vec lifecycle event {'update': False, 'trim_rule': 'None', 'datetime': '2022-04-20T10:22:51.827027', 'gensim': '4.1.2', 'python': '3.9.12 (main, Apr  5 2022, 01:53:17) \\n[Clang 12.0.0 ]', 'platform': 'macOS-10.16-x86_64-i386-64bit', 'event': 'build_vocab'}\n",
      "2022-04-20 10:22:51,827 : INFO : Word2Vec lifecycle event {'msg': 'training model with 5 workers on 24296 vocabulary and 300 features, using sg=0 hs=0 sample=0.001 negative=5 window=10 shrink_windows=True', 'datetime': '2022-04-20T10:22:51.827634', 'gensim': '4.1.2', 'python': '3.9.12 (main, Apr  5 2022, 01:53:17) \\n[Clang 12.0.0 ]', 'platform': 'macOS-10.16-x86_64-i386-64bit', 'event': 'train'}\n",
      "2022-04-20 10:22:52,838 : INFO : EPOCH 1 - PROGRESS: at 28.53% examples, 1615627 words/s, in_qsize 9, out_qsize 0\n",
      "2022-04-20 10:22:53,845 : INFO : EPOCH 1 - PROGRESS: at 56.58% examples, 1634753 words/s, in_qsize 9, out_qsize 0\n",
      "2022-04-20 10:22:54,846 : INFO : EPOCH 1 - PROGRESS: at 84.30% examples, 1633701 words/s, in_qsize 9, out_qsize 0\n",
      "2022-04-20 10:22:55,471 : INFO : worker thread finished; awaiting finish of 4 more threads\n",
      "2022-04-20 10:22:55,476 : INFO : worker thread finished; awaiting finish of 3 more threads\n",
      "2022-04-20 10:22:55,477 : INFO : worker thread finished; awaiting finish of 2 more threads\n",
      "2022-04-20 10:22:55,481 : INFO : worker thread finished; awaiting finish of 1 more threads\n",
      "2022-04-20 10:22:55,482 : INFO : worker thread finished; awaiting finish of 0 more threads\n",
      "2022-04-20 10:22:55,482 : INFO : EPOCH - 1 : training on 7482900 raw words (5890455 effective words) took 3.6s, 1615800 effective words/s\n",
      "2022-04-20 10:22:56,492 : INFO : EPOCH 2 - PROGRESS: at 26.84% examples, 1513329 words/s, in_qsize 9, out_qsize 0\n",
      "2022-04-20 10:22:57,492 : INFO : EPOCH 2 - PROGRESS: at 51.53% examples, 1494878 words/s, in_qsize 10, out_qsize 0\n",
      "2022-04-20 10:22:58,496 : INFO : EPOCH 2 - PROGRESS: at 75.68% examples, 1462634 words/s, in_qsize 10, out_qsize 0\n",
      "2022-04-20 10:22:59,453 : INFO : worker thread finished; awaiting finish of 4 more threads\n",
      "2022-04-20 10:22:59,456 : INFO : worker thread finished; awaiting finish of 3 more threads\n",
      "2022-04-20 10:22:59,467 : INFO : worker thread finished; awaiting finish of 2 more threads\n",
      "2022-04-20 10:22:59,468 : INFO : worker thread finished; awaiting finish of 1 more threads\n",
      "2022-04-20 10:22:59,474 : INFO : worker thread finished; awaiting finish of 0 more threads\n",
      "2022-04-20 10:22:59,475 : INFO : EPOCH - 2 : training on 7482900 raw words (5890026 effective words) took 4.0s, 1478304 effective words/s\n",
      "2022-04-20 10:23:00,482 : INFO : EPOCH 3 - PROGRESS: at 27.09% examples, 1528568 words/s, in_qsize 9, out_qsize 0\n",
      "2022-04-20 10:23:01,488 : INFO : EPOCH 3 - PROGRESS: at 53.67% examples, 1553491 words/s, in_qsize 8, out_qsize 1\n",
      "2022-04-20 10:23:02,491 : INFO : EPOCH 3 - PROGRESS: at 80.46% examples, 1557149 words/s, in_qsize 10, out_qsize 0\n",
      "2022-04-20 10:23:03,272 : INFO : worker thread finished; awaiting finish of 4 more threads\n",
      "2022-04-20 10:23:03,278 : INFO : worker thread finished; awaiting finish of 3 more threads\n",
      "2022-04-20 10:23:03,280 : INFO : worker thread finished; awaiting finish of 2 more threads\n",
      "2022-04-20 10:23:03,283 : INFO : worker thread finished; awaiting finish of 1 more threads\n",
      "2022-04-20 10:23:03,285 : INFO : worker thread finished; awaiting finish of 0 more threads\n",
      "2022-04-20 10:23:03,286 : INFO : EPOCH - 3 : training on 7482900 raw words (5889376 effective words) took 3.8s, 1547796 effective words/s\n",
      "2022-04-20 10:23:04,313 : INFO : EPOCH 4 - PROGRESS: at 24.64% examples, 1362338 words/s, in_qsize 9, out_qsize 1\n",
      "2022-04-20 10:23:05,316 : INFO : EPOCH 4 - PROGRESS: at 48.08% examples, 1373134 words/s, in_qsize 9, out_qsize 0\n"
     ]
    },
    {
     "name": "stderr",
     "output_type": "stream",
     "text": [
      "2022-04-20 10:23:06,318 : INFO : EPOCH 4 - PROGRESS: at 73.69% examples, 1414125 words/s, in_qsize 9, out_qsize 0\n",
      "2022-04-20 10:23:07,318 : INFO : EPOCH 4 - PROGRESS: at 97.68% examples, 1426368 words/s, in_qsize 9, out_qsize 0\n",
      "2022-04-20 10:23:07,397 : INFO : worker thread finished; awaiting finish of 4 more threads\n",
      "2022-04-20 10:23:07,404 : INFO : worker thread finished; awaiting finish of 3 more threads\n",
      "2022-04-20 10:23:07,405 : INFO : worker thread finished; awaiting finish of 2 more threads\n",
      "2022-04-20 10:23:07,408 : INFO : worker thread finished; awaiting finish of 1 more threads\n",
      "2022-04-20 10:23:07,409 : INFO : worker thread finished; awaiting finish of 0 more threads\n",
      "2022-04-20 10:23:07,409 : INFO : EPOCH - 4 : training on 7482900 raw words (5890340 effective words) took 4.1s, 1430598 effective words/s\n",
      "2022-04-20 10:23:08,425 : INFO : EPOCH 5 - PROGRESS: at 24.93% examples, 1398752 words/s, in_qsize 9, out_qsize 0\n",
      "2022-04-20 10:23:09,435 : INFO : EPOCH 5 - PROGRESS: at 50.09% examples, 1437303 words/s, in_qsize 9, out_qsize 0\n",
      "2022-04-20 10:23:10,436 : INFO : EPOCH 5 - PROGRESS: at 74.87% examples, 1441456 words/s, in_qsize 9, out_qsize 0\n",
      "2022-04-20 10:23:11,443 : INFO : EPOCH 5 - PROGRESS: at 98.89% examples, 1446895 words/s, in_qsize 8, out_qsize 1\n",
      "2022-04-20 10:23:11,467 : INFO : worker thread finished; awaiting finish of 4 more threads\n",
      "2022-04-20 10:23:11,469 : INFO : worker thread finished; awaiting finish of 3 more threads\n",
      "2022-04-20 10:23:11,473 : INFO : worker thread finished; awaiting finish of 2 more threads\n",
      "2022-04-20 10:23:11,474 : INFO : worker thread finished; awaiting finish of 1 more threads\n",
      "2022-04-20 10:23:11,476 : INFO : worker thread finished; awaiting finish of 0 more threads\n",
      "2022-04-20 10:23:11,476 : INFO : EPOCH - 5 : training on 7482900 raw words (5889235 effective words) took 4.1s, 1451723 effective words/s\n",
      "2022-04-20 10:23:11,477 : INFO : Word2Vec lifecycle event {'msg': 'training on 37414500 raw words (29449432 effective words) took 19.6s, 1498737 effective words/s', 'datetime': '2022-04-20T10:23:11.477312', 'gensim': '4.1.2', 'python': '3.9.12 (main, Apr  5 2022, 01:53:17) \\n[Clang 12.0.0 ]', 'platform': 'macOS-10.16-x86_64-i386-64bit', 'event': 'train'}\n",
      "2022-04-20 10:23:11,477 : INFO : Word2Vec lifecycle event {'params': 'Word2Vec(vocab=24296, vector_size=300, alpha=0.025)', 'datetime': '2022-04-20T10:23:11.477685', 'gensim': '4.1.2', 'python': '3.9.12 (main, Apr  5 2022, 01:53:17) \\n[Clang 12.0.0 ]', 'platform': 'macOS-10.16-x86_64-i386-64bit', 'event': 'created'}\n",
      "/var/folders/j4/7y0hj60n09q_n50qxfl1rr4w0000gn/T/ipykernel_12341/1328840251.py:23: DeprecationWarning: Call to deprecated `init_sims` (Gensim 4.0.0 implemented internal optimizations that make calls to init_sims() unnecessary. init_sims() is now obsoleted and will be completely removed in future versions. See https://github.com/RaRe-Technologies/gensim/wiki/Migrating-from-Gensim-3.x-to-4).\n",
      "  model.init_sims(replace=True)\n",
      "2022-04-20 10:23:11,490 : WARNING : destructive init_sims(replace=True) deprecated & no longer required for space-efficiency\n"
     ]
    }
   ],
   "source": [
    "# Import the built-in logging module and configure it so that Word2Vec \n",
    "# creates nice output messages\n",
    "import logging\n",
    "logging.basicConfig(format='%(asctime)s : %(levelname)s : %(message)s',\\\n",
    "    level=logging.INFO)\n",
    "\n",
    "# Set values for various parameters\n",
    "num_features = 300    # Word vector dimensionality                      \n",
    "min_word_count = 10   # Minimum word count                        \n",
    "num_workers = 5      # Number of threads to run in parallel\n",
    "context = 10          # Context window size                                                                                    \n",
    "downsampling = 1e-3   # Downsample setting for frequent words\n",
    "\n",
    "# Initialize and train the model (this will take some time)\n",
    "from gensim.models import word2vec\n",
    "print (\"Training model...\")\n",
    "model = word2vec.Word2Vec(sentences, workers=num_workers, \\\n",
    "            vector_size=num_features, min_count = min_word_count, \\\n",
    "            window = context, sample = downsampling)\n",
    "\n",
    "# If you don't plan to train the model any further, calling \n",
    "# init_sims will make the model much more memory-efficient.\n",
    "model.init_sims(replace=True)\n",
    "\n"
   ]
  },
  {
   "cell_type": "markdown",
   "id": "2b4a69b7",
   "metadata": {},
   "source": [
    "## Embedding du modèle Word2Vec"
   ]
  },
  {
   "cell_type": "code",
   "execution_count": 15,
   "id": "b454b660",
   "metadata": {
    "scrolled": true
   },
   "outputs": [],
   "source": [
    "def makeFeatureVec(words, model, num_features):\n",
    "    # Function to average all of the word vectors in a given\n",
    "    # paragraph\n",
    "    #\n",
    "    # Pre-initialize an empty numpy array (for speed)\n",
    "    featureVec = np.zeros((num_features,),dtype=\"float32\")\n",
    "    #\n",
    "    nwords = 0\n",
    "    # \n",
    "    # Index2word is a list that contains the names of the words in \n",
    "    # the model's vocabulary. Convert it to a set, for speed \n",
    "    index2word_set = set(model.wv.index_to_key)\n",
    "    #\n",
    "    # Loop over each word in the review and, if it is in the model's\n",
    "    # vocaublary, add its feature vector to the total\n",
    "    for word in words:\n",
    "        if word in index2word_set: \n",
    "            nwords = nwords + 1\n",
    "            featureVec = np.add(featureVec,model.wv[word])\n",
    "    # \n",
    "    \n",
    "    # Divide the result by the number of words to get the average\n",
    "    featureVec = np.divide(featureVec,nwords)\n",
    "    return featureVec\n",
    "\n",
    "\n",
    "def getAvgFeatureVecs(reviews, model, num_features):\n",
    "    # Given a set of reviews (each one a list of words), calculate \n",
    "    # the average feature vector for each one and return a 2D numpy array \n",
    "    # \n",
    "    # Initialize a counter\n",
    "    counter = 0\n",
    "    # \n",
    "    # Preallocate a 2D numpy array, for speed\n",
    "    reviewFeatureVecs = np.zeros((len(reviews),num_features),dtype=\"float32\")\n",
    "\n",
    "    # \n",
    "    # Loop through the reviews\n",
    "    for review in reviews:\n",
    "       #\n",
    "       # Print a status message every 1000th review\n",
    "        if counter%1000. == 0.:\n",
    "            print (\"Review %d of %d\" % (counter, len(reviews)))\n",
    "       # \n",
    "       # Call the function (defined above) that makes average feature vectors\n",
    "        reviewFeatureVecs[counter] = makeFeatureVec(review, model,num_features)\n",
    "       #\n",
    "       # Increment the counter\n",
    "        counter = counter + 1\n",
    "    return reviewFeatureVecs"
   ]
  },
  {
   "cell_type": "code",
   "execution_count": 16,
   "id": "ae78566b",
   "metadata": {
    "scrolled": true
   },
   "outputs": [
    {
     "name": "stdout",
     "output_type": "stream",
     "text": [
      "Creating average feature vecs for test questions\n",
      "Review 0 of 37339\n",
      "Review 1000 of 37339\n",
      "Review 2000 of 37339\n",
      "Review 3000 of 37339\n",
      "Review 4000 of 37339\n",
      "Review 5000 of 37339\n",
      "Review 6000 of 37339\n",
      "Review 7000 of 37339\n",
      "Review 8000 of 37339\n",
      "Review 9000 of 37339\n",
      "Review 10000 of 37339\n",
      "Review 11000 of 37339\n",
      "Review 12000 of 37339\n",
      "Review 13000 of 37339\n",
      "Review 14000 of 37339\n",
      "Review 15000 of 37339\n",
      "Review 16000 of 37339\n",
      "Review 17000 of 37339\n",
      "Review 18000 of 37339\n",
      "Review 19000 of 37339\n",
      "Review 20000 of 37339\n",
      "Review 21000 of 37339\n",
      "Review 22000 of 37339\n",
      "Review 23000 of 37339\n",
      "Review 24000 of 37339\n",
      "Review 25000 of 37339\n",
      "Review 26000 of 37339\n",
      "Review 27000 of 37339\n",
      "Review 28000 of 37339\n",
      "Review 29000 of 37339\n",
      "Review 30000 of 37339\n",
      "Review 31000 of 37339\n",
      "Review 32000 of 37339\n",
      "Review 33000 of 37339\n",
      "Review 34000 of 37339\n",
      "Review 35000 of 37339\n",
      "Review 36000 of 37339\n",
      "Review 37000 of 37339\n"
     ]
    }
   ],
   "source": [
    "# ****************************************************************\n",
    "# Calculate average feature vectors for training and testing sets,\n",
    "# using the functions we defined above. Notice that we now use stop word\n",
    "# removal.\n",
    "\n",
    "clean_train_questions = []\n",
    "# Ici, data_to_train a été défini dans la partie \"Gestion des Tags\". Cela correspond aux données avec \n",
    "# au moins 1 des 10 tags les plus récurents. C'est sur ces données que l'on va entrainer notre modèle supervisé. \n",
    "for question in data_to_train:\n",
    "    clean_train_questions.append(sentence_to_wordlist( question, \\\n",
    "        remove_stopwords=True ))\n",
    "    \n",
    "print (\"Creating average feature vecs for test questions\")\n",
    "trainDataVecs = getAvgFeatureVecs(clean_train_questions, model, num_features)"
   ]
  },
  {
   "cell_type": "code",
   "execution_count": 17,
   "id": "826f6284",
   "metadata": {},
   "outputs": [],
   "source": [
    "from sklearn.model_selection import train_test_split\n",
    "from sklearn import preprocessing\n",
    "label_encoder = preprocessing.LabelEncoder()\n",
    "target_to_train_encoded = label_encoder.fit_transform(target_to_train)\n",
    "\n",
    "X_train, X_test, y_train, y_test = train_test_split(trainDataVecs,target_to_train_encoded,test_size=0.3)"
   ]
  },
  {
   "cell_type": "code",
   "execution_count": 114,
   "id": "de00474f",
   "metadata": {
    "scrolled": true
   },
   "outputs": [
    {
     "name": "stdout",
     "output_type": "stream",
     "text": [
      "Fitting 5 folds for each of 4 candidates, totalling 20 fits\n",
      "0.6743\n",
      "{'estimator__C': 1, 'estimator__degree': 2, 'estimator__kernel': 'poly'}\n"
     ]
    }
   ],
   "source": [
    "from sklearn.multiclass import OneVsRestClassifier\n",
    "from sklearn.svm import SVC\n",
    "from sklearn.model_selection import GridSearchCV\n",
    "from sklearn.metrics import f1_score\n",
    "\n",
    "model_to_set = OneVsRestClassifier(SVC())\n",
    "\n",
    "parameters = {\n",
    "    \"estimator__C\": [1],\n",
    "    \"estimator__kernel\":[\"poly\",\"rbf\"],\n",
    "    \"estimator__degree\":[1, 2],\n",
    "}\n",
    "\n",
    "model_tunning = GridSearchCV(model_to_set, param_grid=parameters,cv= 5,verbose = 4, scoring = 'f1_micro',n_jobs=-1)\n",
    "model_tunning.fit(X_train[:10000], y_train[:10000])\n",
    "\n",
    "print (model_tunning.best_score_)\n",
    "print (model_tunning.best_params_)\n"
   ]
  },
  {
   "cell_type": "code",
   "execution_count": 115,
   "id": "d9bef49e",
   "metadata": {},
   "outputs": [
    {
     "data": {
      "text/plain": [
       "0.69"
      ]
     },
     "execution_count": 115,
     "metadata": {},
     "output_type": "execute_result"
    },
    {
     "name": "stdout",
     "output_type": "stream",
     "text": [
      "[CV 4/5] END estimator__C=0.9, estimator__kernel=rbf;, score=0.670 total time=   0.4s\n",
      "[CV 4/5] END estimator__C=1, estimator__kernel=rbf;, score=0.675 total time=   0.4s\n",
      "[CV 2/5] END estimator__C=1.2, estimator__kernel=rbf;, score=0.630 total time=   0.3s\n",
      "[CV 4/5] END estimator__C=3, estimator__kernel=rbf;, score=0.620 total time=   0.3s\n",
      "[CV 2/5] END estimator__C=0.1, estimator__degree=1, estimator__kernel=rbf;, score=0.620 total time=   0.3s\n",
      "[CV 1/5] END estimator__C=0.1, estimator__degree=2, estimator__kernel=rbf;, score=0.610 total time=   0.3s\n",
      "[CV 4/5] END estimator__C=0.1, estimator__degree=3, estimator__kernel=rbf;, score=0.670 total time=   0.3s\n",
      "[CV 1/5] END estimator__C=0.01, estimator__degree=2, estimator__kernel=poly;, score=0.590 total time=   0.2s\n",
      "[CV 4/5] END estimator__C=0.01, estimator__degree=2, estimator__kernel=rbf;, score=0.670 total time=   0.3s\n",
      "[CV 1/5] END estimator__C=1, estimator__degree=1, estimator__kernel=poly;, score=0.615 total time=   0.2s\n",
      "[CV 1/5] END estimator__C=1, estimator__degree=1, estimator__kernel=rbf;, score=0.620 total time=   0.4s\n",
      "[CV 1/5] END estimator__C=1, estimator__degree=3, estimator__kernel=poly;, score=0.595 total time=   0.3s\n",
      "[CV 1/5] END estimator__C=1, estimator__degree=3, estimator__kernel=rbf;, score=0.620 total time=   0.3s\n",
      "[CV 3/5] END estimator__C=0.1, estimator__kernel=poly;, score=0.640 total time=   0.3s\n",
      "[CV 1/5] END estimator__C=0.01, estimator__kernel=poly;, score=0.570 total time=   0.2s\n",
      "[CV 1/5] END estimator__C=1, estimator__kernel=poly;, score=0.595 total time=   0.3s\n",
      "[CV 5/5] END estimator__C=1, estimator__kernel=rbf;, score=0.620 total time=   0.3s\n",
      "[CV 2/5] END estimator__C=0.1, estimator__degree=1, estimator__kernel=rbf;, score=0.620 total time=   0.3s\n",
      "[CV 2/5] END estimator__C=0.1, estimator__degree=2, estimator__kernel=rbf;, score=0.620 total time=   0.3s\n",
      "[CV 3/5] END estimator__C=0.01, estimator__degree=2, estimator__kernel=poly;, score=0.630 total time=   0.2s\n",
      "[CV 2/5] END estimator__C=1, estimator__degree=1, estimator__kernel=poly;, score=0.640 total time=   0.2s\n",
      "[CV 1/5] END estimator__C=1, estimator__degree=1, estimator__kernel=rbf;, score=0.620 total time=   0.3s\n",
      "[CV 3/5] END estimator__C=1, estimator__degree=2, estimator__kernel=rbf;, score=0.630 total time=   0.3s\n",
      "[CV 5/5] END estimator__C=0.1, estimator__kernel=rbf;, score=0.615 total time=   0.3s\n",
      "[CV 3/5] END estimator__C=0.01, estimator__kernel=rbf;, score=0.630 total time=   0.3s\n",
      "[CV 3/5] END estimator__C=1, estimator__kernel=rbf;, score=0.630 total time=   0.3s\n",
      "[CV 3/5] END estimator__C=1, estimator__degree=1, estimator__kernel=poly;, score=0.670 total time=   0.2s\n",
      "[CV 1/5] END estimator__C=1, estimator__degree=2, estimator__kernel=poly;, score=0.600 total time=   0.2s\n",
      "[CV 3/5] END estimator__C=2, estimator__degree=1, estimator__kernel=poly;, score=0.660 total time=   0.2s\n",
      "[CV 2/5] END estimator__C=2, estimator__degree=1, estimator__kernel=rbf;, score=0.615 total time=   0.3s\n",
      "[CV 4/5] END estimator__C=2, estimator__degree=2, estimator__kernel=rbf;, score=0.635 total time=   0.4s\n",
      "[CV 5/5] END estimator__C=4, estimator__degree=2, estimator__kernel=poly;, score=0.620 total time=   0.2s\n",
      "[CV 5/5] END estimator__C=4, estimator__degree=2, estimator__kernel=rbf;, score=0.615 total time=   0.3s\n",
      "[CV 5/5] END estimator__C=1, estimator__kernel=poly;, score=0.610 total time=   0.3s\n",
      "[CV 4/5] END estimator__C=2, estimator__kernel=poly;, score=0.600 total time=   0.3s\n",
      "[CV 1/5] END estimator__C=4, estimator__kernel=poly;, score=0.610 total time=   0.3s\n",
      "[CV 1/5] END estimator__C=1, estimator__degree=1, estimator__kernel=poly;, score=0.615 total time=   0.2s\n",
      "[CV 1/5] END estimator__C=1, estimator__degree=2, estimator__kernel=poly;, score=0.600 total time=   0.2s\n",
      "[CV 2/5] END estimator__C=2, estimator__degree=1, estimator__kernel=poly;, score=0.655 total time=   0.2s\n",
      "[CV 2/5] END estimator__C=2, estimator__degree=1, estimator__kernel=rbf;, score=0.615 total time=   0.4s\n",
      "[CV 3/5] END estimator__C=4, estimator__degree=1, estimator__kernel=poly;, score=0.645 total time=   0.2s\n",
      "[CV 3/5] END estimator__C=4, estimator__degree=1, estimator__kernel=rbf;, score=0.610 total time=   0.3s\n",
      "[CV 4/5] END estimator__C=4, estimator__degree=2, estimator__kernel=rbf;, score=0.610 total time=   0.3s\n",
      "[CV 2/5] END estimator__C=1, estimator__degree=1, estimator__kernel=poly;, score=0.659 total time=  35.7s\n",
      "[CV 1/5] END estimator__C=1, estimator__degree=2, estimator__kernel=poly;, score=0.665 total time=  35.9s\n",
      "[CV 5/5] END estimator__C=0.9, estimator__kernel=rbf;, score=0.620 total time=   0.4s\n",
      "[CV 5/5] END estimator__C=1.2, estimator__kernel=poly;, score=0.605 total time=   0.3s\n",
      "[CV 4/5] END estimator__C=3, estimator__kernel=poly;, score=0.585 total time=   0.3s\n",
      "[CV 1/5] END estimator__C=0.1, estimator__degree=1, estimator__kernel=rbf;, score=0.610 total time=   0.4s\n",
      "[CV 2/5] END estimator__C=0.1, estimator__degree=2, estimator__kernel=rbf;, score=0.620 total time=   0.3s\n",
      "[CV 5/5] END estimator__C=0.1, estimator__degree=3, estimator__kernel=rbf;, score=0.615 total time=   0.3s\n",
      "[CV 5/5] END estimator__C=0.01, estimator__degree=2, estimator__kernel=poly;, score=0.615 total time=   0.2s\n",
      "[CV 5/5] END estimator__C=0.01, estimator__degree=2, estimator__kernel=rbf;, score=0.610 total time=   0.3s\n",
      "[CV 4/5] END estimator__C=1, estimator__degree=1, estimator__kernel=poly;, score=0.655 total time=   0.2s\n",
      "[CV 4/5] END estimator__C=1, estimator__degree=1, estimator__kernel=rbf;, score=0.675 total time=   0.3s\n",
      "[CV 3/5] END estimator__C=1, estimator__degree=3, estimator__kernel=poly;, score=0.635 total time=   0.3s\n",
      "[CV 5/5] END estimator__C=1, estimator__degree=3, estimator__kernel=rbf;, score=0.620 total time=   0.3s\n",
      "[CV 4/5] END estimator__C=0.1, estimator__kernel=poly;, score=0.630 total time=   0.3s\n",
      "[CV 5/5] END estimator__C=0.01, estimator__kernel=poly;, score=0.600 total time=   0.2s\n",
      "[CV 5/5] END estimator__C=1, estimator__kernel=poly;, score=0.610 total time=   0.3s\n",
      "[CV 4/5] END estimator__C=0.1, estimator__degree=1, estimator__kernel=poly;, score=0.655 total time=   0.2s\n",
      "[CV 4/5] END estimator__C=0.1, estimator__degree=2, estimator__kernel=poly;, score=0.640 total time=   0.2s\n",
      "[CV 1/5] END estimator__C=0.01, estimator__degree=1, estimator__kernel=poly;, score=0.595 total time=   0.2s\n",
      "[CV 1/5] END estimator__C=0.01, estimator__degree=1, estimator__kernel=rbf;, score=0.605 total time=   0.3s\n",
      "[CV 1/5] END estimator__C=0.01, estimator__degree=2, estimator__kernel=rbf;, score=0.605 total time=   0.3s\n",
      "[CV 5/5] END estimator__C=1, estimator__degree=1, estimator__kernel=rbf;, score=0.620 total time=   0.3s\n",
      "[CV 5/5] END estimator__C=0.1, estimator__kernel=poly;, score=0.600 total time=   0.3s\n",
      "[CV 5/5] END estimator__C=0.01, estimator__kernel=poly;, score=0.600 total time=   0.2s\n",
      "[CV 3/5] END estimator__C=1, estimator__kernel=poly;, score=0.635 total time=   0.3s\n",
      "[CV 3/5] END estimator__C=1, estimator__degree=1, estimator__kernel=rbf;, score=0.630 total time=   0.4s\n",
      "[CV 2/5] END estimator__C=1, estimator__degree=2, estimator__kernel=rbf;, score=0.630 total time=   0.4s\n",
      "[CV 3/5] END estimator__C=2, estimator__degree=2, estimator__kernel=poly;, score=0.660 total time=   0.3s\n",
      "[CV 4/5] END estimator__C=4, estimator__degree=1, estimator__kernel=poly;, score=0.635 total time=   0.2s\n",
      "[CV 3/5] END estimator__C=4, estimator__degree=1, estimator__kernel=rbf;, score=0.610 total time=   0.4s\n",
      "[CV 4/5] END estimator__C=1, estimator__kernel=poly;, score=0.650 total time=   0.3s\n",
      "[CV 3/5] END estimator__C=2, estimator__kernel=poly;, score=0.645 total time=   0.3s\n",
      "[CV 4/5] END estimator__C=4, estimator__kernel=poly;, score=0.580 total time=   0.3s\n",
      "[CV 5/5] END estimator__C=1, estimator__degree=1, estimator__kernel=poly;, score=0.635 total time=   0.2s\n",
      "[CV 4/5] END estimator__C=1, estimator__degree=2, estimator__kernel=poly;, score=0.635 total time=   0.2s\n",
      "[CV 3/5] END estimator__C=2, estimator__degree=1, estimator__kernel=poly;, score=0.660 total time=   0.2s\n",
      "[CV 4/5] END estimator__C=2, estimator__degree=1, estimator__kernel=rbf;, score=0.635 total time=   0.4s\n",
      "[CV 4/5] END estimator__C=4, estimator__degree=1, estimator__kernel=poly;, score=0.635 total time=   0.2s\n",
      "[CV 4/5] END estimator__C=4, estimator__degree=1, estimator__kernel=rbf;, score=0.610 total time=   0.4s\n",
      "[CV 3/5] END estimator__C=1, estimator__degree=1, estimator__kernel=poly;, score=0.670 total time=  36.2s\n",
      "[CV 2/5] END estimator__C=1, estimator__degree=2, estimator__kernel=poly;, score=0.667 total time=  36.1s\n",
      "[CV 2/5] END estimator__C=0.9, estimator__kernel=poly;, score=0.600 total time=   0.3s\n",
      "[CV 2/5] END estimator__C=1, estimator__kernel=poly;, score=0.585 total time=   0.3s\n",
      "[CV 2/5] END estimator__C=1.2, estimator__kernel=poly;, score=0.580 total time=   0.3s\n",
      "[CV 3/5] END estimator__C=1.2, estimator__kernel=rbf;, score=0.630 total time=   0.4s\n",
      "[CV 3/5] END estimator__C=0.1, estimator__degree=1, estimator__kernel=rbf;, score=0.625 total time=   0.4s\n",
      "[CV 4/5] END estimator__C=0.1, estimator__degree=2, estimator__kernel=rbf;, score=0.670 total time=   0.3s\n",
      "[CV 3/5] END estimator__C=0.01, estimator__degree=1, estimator__kernel=poly;, score=0.655 total time=   0.2s\n",
      "[CV 3/5] END estimator__C=0.01, estimator__degree=1, estimator__kernel=rbf;, score=0.630 total time=   0.3s\n",
      "[CV 3/5] END estimator__C=0.01, estimator__degree=2, estimator__kernel=rbf;, score=0.630 total time=   0.3s\n",
      "[CV 2/5] END estimator__C=1, estimator__degree=1, estimator__kernel=poly;, score=0.640 total time=   0.2s\n",
      "[CV 3/5] END estimator__C=1, estimator__degree=1, estimator__kernel=rbf;, score=0.630 total time=   0.4s\n",
      "[CV 4/5] END estimator__C=1, estimator__degree=3, estimator__kernel=poly;, score=0.650 total time=   0.3s\n",
      "[CV 4/5] END estimator__C=1, estimator__degree=3, estimator__kernel=rbf;, score=0.675 total time=   0.3s\n",
      "[CV 5/5] END estimator__C=0.1, estimator__kernel=rbf;, score=0.615 total time=   0.4s\n",
      "[CV 5/5] END estimator__C=0.01, estimator__kernel=rbf;, score=0.610 total time=   0.3s\n",
      "[CV 1/5] END estimator__C=0.1, estimator__degree=1, estimator__kernel=poly;, score=0.600 total time=   0.2s\n",
      "[CV 3/5] END estimator__C=0.1, estimator__degree=2, estimator__kernel=poly;, score=0.630 total time=   0.2s\n",
      "[CV 4/5] END estimator__C=0.01, estimator__degree=1, estimator__kernel=poly;, score=0.655 total time=   0.2s\n",
      "[CV 2/5] END estimator__C=0.01, estimator__degree=1, estimator__kernel=rbf;, score=0.610 total time=   0.3s\n",
      "[CV 3/5] END estimator__C=1, estimator__degree=1, estimator__kernel=poly;, score=0.670 total time=   0.2s\n",
      "[CV 2/5] END estimator__C=1, estimator__degree=1, estimator__kernel=rbf;, score=0.630 total time=   0.3s\n",
      "[CV 1/5] END estimator__C=0.1, estimator__kernel=poly;, score=0.570 total time=   0.3s\n",
      "[CV 2/5] END estimator__C=0.01, estimator__kernel=poly;, score=0.605 total time=   0.3s\n",
      "[CV 5/5] END estimator__C=1, estimator__kernel=poly;, score=0.610 total time=   0.3s\n",
      "[CV 4/5] END estimator__C=1, estimator__degree=1, estimator__kernel=rbf;, score=0.675 total time=   0.4s\n",
      "[CV 3/5] END estimator__C=1, estimator__degree=2, estimator__kernel=rbf;, score=0.630 total time=   0.4s\n",
      "[CV 5/5] END estimator__C=2, estimator__degree=2, estimator__kernel=poly;, score=0.650 total time=   0.2s\n",
      "[CV 2/5] END estimator__C=4, estimator__degree=1, estimator__kernel=poly;, score=0.620 total time=   0.2s\n",
      "[CV 1/5] END estimator__C=4, estimator__degree=1, estimator__kernel=rbf;, score=0.625 total time=   0.4s\n",
      "[CV 3/5] END estimator__C=4, estimator__degree=2, estimator__kernel=rbf;, score=0.610 total time=   0.3s\n",
      "[CV 3/5] END estimator__C=1, estimator__kernel=rbf;, score=0.630 total time=   0.4s\n",
      "[CV 3/5] END estimator__C=2, estimator__kernel=rbf;, score=0.650 total time=   0.4s\n",
      "[CV 4/5] END estimator__C=4, estimator__kernel=rbf;, score=0.610 total time=   0.3s\n",
      "[CV 3/5] END estimator__C=1, estimator__degree=1, estimator__kernel=rbf;, score=0.630 total time=   0.4s\n",
      "[CV 4/5] END estimator__C=1, estimator__degree=2, estimator__kernel=rbf;, score=0.675 total time=   0.3s\n",
      "[CV 4/5] END estimator__C=2, estimator__degree=2, estimator__kernel=poly;, score=0.625 total time=   0.2s\n",
      "[CV 4/5] END estimator__C=2, estimator__degree=2, estimator__kernel=rbf;, score=0.635 total time=   0.4s\n",
      "[CV 3/5] END estimator__C=4, estimator__degree=2, estimator__kernel=poly;, score=0.630 total time=   0.2s\n",
      "[CV 5/5] END estimator__C=4, estimator__degree=2, estimator__kernel=rbf;, score=0.615 total time=   0.3s\n",
      "[CV 4/5] END estimator__C=1, estimator__degree=1, estimator__kernel=poly;, score=0.681 total time=  36.2s\n",
      "[CV 3/5] END estimator__C=1, estimator__degree=2, estimator__kernel=poly;, score=0.673 total time=  36.1s\n"
     ]
    },
    {
     "name": "stdout",
     "output_type": "stream",
     "text": [
      "[CV 1/5] END estimator__C=0.9, estimator__kernel=poly;, score=0.585 total time=   0.3s\n",
      "[CV 1/5] END estimator__C=1, estimator__kernel=poly;, score=0.595 total time=   0.3s\n",
      "[CV 5/5] END estimator__C=1, estimator__kernel=rbf;, score=0.620 total time=   0.4s\n",
      "[CV 3/5] END estimator__C=3, estimator__kernel=poly;, score=0.640 total time=   0.3s\n",
      "[CV 4/5] END estimator__C=0.1, estimator__degree=1, estimator__kernel=poly;, score=0.655 total time=   0.2s\n",
      "[CV 4/5] END estimator__C=0.1, estimator__degree=2, estimator__kernel=poly;, score=0.640 total time=   0.2s\n",
      "[CV 2/5] END estimator__C=0.1, estimator__degree=3, estimator__kernel=poly;, score=0.615 total time=   0.3s\n",
      "[CV 3/5] END estimator__C=0.1, estimator__degree=3, estimator__kernel=rbf;, score=0.625 total time=   0.3s\n",
      "[CV 4/5] END estimator__C=0.01, estimator__degree=2, estimator__kernel=poly;, score=0.645 total time=   0.2s\n",
      "[CV 4/5] END estimator__C=0.01, estimator__degree=3, estimator__kernel=poly;, score=0.620 total time=   0.2s\n",
      "[CV 3/5] END estimator__C=0.01, estimator__degree=3, estimator__kernel=rbf;, score=0.630 total time=   0.3s\n",
      "[CV 4/5] END estimator__C=1, estimator__degree=2, estimator__kernel=poly;, score=0.635 total time=   0.2s\n",
      "[CV 4/5] END estimator__C=1, estimator__degree=2, estimator__kernel=rbf;, score=0.675 total time=   0.3s\n",
      "[CV 4/5] END estimator__C=0.1, estimator__kernel=rbf;, score=0.670 total time=   0.4s\n",
      "[CV 4/5] END estimator__C=0.01, estimator__kernel=rbf;, score=0.670 total time=   0.3s\n",
      "[CV 3/5] END estimator__C=1, estimator__kernel=rbf;, score=0.630 total time=   0.3s\n",
      "[CV 5/5] END estimator__C=0.1, estimator__degree=1, estimator__kernel=poly;, score=0.635 total time=   0.2s\n",
      "[CV 5/5] END estimator__C=0.1, estimator__degree=2, estimator__kernel=poly;, score=0.615 total time=   0.2s\n",
      "[CV 2/5] END estimator__C=0.01, estimator__degree=1, estimator__kernel=poly;, score=0.600 total time=   0.2s\n",
      "[CV 4/5] END estimator__C=0.01, estimator__degree=1, estimator__kernel=rbf;, score=0.670 total time=   0.3s\n",
      "[CV 5/5] END estimator__C=0.01, estimator__degree=2, estimator__kernel=rbf;, score=0.610 total time=   0.4s\n",
      "[CV 5/5] END estimator__C=1, estimator__degree=2, estimator__kernel=poly;, score=0.640 total time=   0.2s\n",
      "[CV 2/5] END estimator__C=0.1, estimator__kernel=poly;, score=0.615 total time=   0.3s\n",
      "[CV 4/5] END estimator__C=0.01, estimator__kernel=poly;, score=0.620 total time=   0.2s\n",
      "[CV 2/5] END estimator__C=1, estimator__kernel=poly;, score=0.585 total time=   0.3s\n",
      "[CV 1/5] END estimator__C=1, estimator__degree=1, estimator__kernel=poly;, score=0.615 total time=   0.2s\n",
      "[CV 3/5] END estimator__C=1, estimator__degree=2, estimator__kernel=poly;, score=0.645 total time=   0.2s\n",
      "[CV 1/5] END estimator__C=2, estimator__degree=1, estimator__kernel=poly;, score=0.630 total time=   0.2s\n",
      "[CV 1/5] END estimator__C=2, estimator__degree=1, estimator__kernel=rbf;, score=0.605 total time=   0.3s\n",
      "[CV 3/5] END estimator__C=2, estimator__degree=2, estimator__kernel=rbf;, score=0.650 total time=   0.4s\n",
      "[CV 4/5] END estimator__C=4, estimator__degree=2, estimator__kernel=poly;, score=0.605 total time=   0.2s\n",
      "[CV 2/5] END estimator__C=1, estimator__kernel=rbf;, score=0.630 total time=   0.4s\n",
      "[CV 4/5] END estimator__C=2, estimator__kernel=rbf;, score=0.635 total time=   0.3s\n",
      "[CV 2/5] END estimator__C=4, estimator__kernel=rbf;, score=0.595 total time=   0.3s\n",
      "[CV 1/5] END estimator__C=1, estimator__degree=1, estimator__kernel=rbf;, score=0.620 total time=   0.4s\n",
      "[CV 1/5] END estimator__C=1, estimator__degree=2, estimator__kernel=rbf;, score=0.620 total time=   0.4s\n",
      "[CV 3/5] END estimator__C=2, estimator__degree=2, estimator__kernel=poly;, score=0.660 total time=   0.2s\n",
      "[CV 3/5] END estimator__C=2, estimator__degree=2, estimator__kernel=rbf;, score=0.650 total time=   0.4s\n",
      "[CV 4/5] END estimator__C=4, estimator__degree=2, estimator__kernel=poly;, score=0.605 total time=   0.2s\n",
      "[CV 1/5] END estimator__C=1, estimator__degree=1, estimator__kernel=poly;, score=0.674 total time=  36.7s\n",
      "[CV 4/5] END estimator__C=1, estimator__degree=2, estimator__kernel=poly;, score=0.681 total time=  36.1s\n",
      "[CV 4/5] END estimator__C=0.9, estimator__kernel=poly;, score=0.645 total time=   0.3s\n",
      "[CV 5/5] END estimator__C=1, estimator__kernel=poly;, score=0.610 total time=   0.3s\n",
      "[CV 4/5] END estimator__C=1.2, estimator__kernel=poly;, score=0.625 total time=   0.3s\n",
      "[CV 5/5] END estimator__C=3, estimator__kernel=poly;, score=0.615 total time=   0.3s\n",
      "[CV 5/5] END estimator__C=0.1, estimator__degree=1, estimator__kernel=rbf;, score=0.615 total time=   0.4s\n",
      "[CV 5/5] END estimator__C=0.1, estimator__degree=2, estimator__kernel=rbf;, score=0.615 total time=   0.4s\n",
      "[CV 5/5] END estimator__C=0.01, estimator__degree=1, estimator__kernel=poly;, score=0.630 total time=   0.2s\n",
      "[CV 5/5] END estimator__C=0.01, estimator__degree=1, estimator__kernel=rbf;, score=0.610 total time=   0.3s\n",
      "[CV 5/5] END estimator__C=0.01, estimator__degree=3, estimator__kernel=poly;, score=0.600 total time=   0.3s\n",
      "[CV 5/5] END estimator__C=1, estimator__degree=1, estimator__kernel=poly;, score=0.635 total time=   0.2s\n",
      "[CV 1/5] END estimator__C=1, estimator__degree=2, estimator__kernel=poly;, score=0.600 total time=   0.2s\n",
      "[CV 1/5] END estimator__C=1, estimator__degree=2, estimator__kernel=rbf;, score=0.620 total time=   0.3s\n",
      "[CV 2/5] END estimator__C=1, estimator__degree=3, estimator__kernel=rbf;, score=0.630 total time=   0.3s\n",
      "[CV 5/5] END estimator__C=0.1, estimator__kernel=poly;, score=0.600 total time=   0.3s\n",
      "[CV 3/5] END estimator__C=0.01, estimator__kernel=poly;, score=0.640 total time=   0.3s\n",
      "[CV 4/5] END estimator__C=1, estimator__kernel=poly;, score=0.650 total time=   0.3s\n",
      "[CV 1/5] END estimator__C=0.1, estimator__degree=1, estimator__kernel=rbf;, score=0.610 total time=   0.3s\n",
      "[CV 1/5] END estimator__C=0.1, estimator__degree=2, estimator__kernel=rbf;, score=0.610 total time=   0.3s\n",
      "[CV 2/5] END estimator__C=0.01, estimator__degree=2, estimator__kernel=poly;, score=0.620 total time=   0.2s\n",
      "[CV 1/5] END estimator__C=1, estimator__degree=1, estimator__kernel=poly;, score=0.615 total time=   0.3s\n",
      "[CV 4/5] END estimator__C=1, estimator__degree=1, estimator__kernel=rbf;, score=0.675 total time=   0.4s\n",
      "[CV 2/5] END estimator__C=0.1, estimator__kernel=rbf;, score=0.620 total time=   0.4s\n",
      "[CV 2/5] END estimator__C=0.01, estimator__kernel=rbf;, score=0.610 total time=   0.3s\n",
      "[CV 2/5] END estimator__C=1, estimator__kernel=rbf;, score=0.630 total time=   0.3s\n",
      "[CV 5/5] END estimator__C=1, estimator__degree=1, estimator__kernel=rbf;, score=0.620 total time=   0.4s\n",
      "[CV 5/5] END estimator__C=1, estimator__degree=2, estimator__kernel=rbf;, score=0.620 total time=   0.4s\n",
      "[CV 4/5] END estimator__C=2, estimator__degree=2, estimator__kernel=poly;, score=0.625 total time=   0.2s\n",
      "[CV 1/5] END estimator__C=4, estimator__degree=1, estimator__kernel=poly;, score=0.635 total time=   0.2s\n",
      "[CV 2/5] END estimator__C=4, estimator__degree=1, estimator__kernel=rbf;, score=0.595 total time=   0.4s\n",
      "[CV 2/5] END estimator__C=4, estimator__degree=2, estimator__kernel=rbf;, score=0.595 total time=   0.3s\n",
      "[CV 4/5] END estimator__C=1, estimator__kernel=rbf;, score=0.675 total time=   0.4s\n",
      "[CV 2/5] END estimator__C=2, estimator__kernel=rbf;, score=0.615 total time=   0.4s\n",
      "[CV 1/5] END estimator__C=4, estimator__kernel=rbf;, score=0.625 total time=   0.3s\n",
      "[CV 4/5] END estimator__C=1, estimator__degree=1, estimator__kernel=poly;, score=0.655 total time=   0.2s\n",
      "[CV 5/5] END estimator__C=1, estimator__degree=2, estimator__kernel=poly;, score=0.640 total time=   0.2s\n",
      "[CV 5/5] END estimator__C=2, estimator__degree=1, estimator__kernel=poly;, score=0.605 total time=   0.2s\n",
      "[CV 5/5] END estimator__C=2, estimator__degree=1, estimator__kernel=rbf;, score=0.630 total time=   0.4s\n",
      "[CV 5/5] END estimator__C=4, estimator__degree=1, estimator__kernel=poly;, score=0.595 total time=   0.2s\n",
      "[CV 5/5] END estimator__C=4, estimator__degree=1, estimator__kernel=rbf;, score=0.615 total time=   0.3s\n",
      "[CV 5/5] END estimator__C=1, estimator__degree=1, estimator__kernel=poly;, score=0.680 total time=  37.3s\n",
      "[CV 5/5] END estimator__C=1, estimator__degree=2, estimator__kernel=poly;, score=0.684 total time=  36.0s\n",
      "[CV 1/5] END estimator__C=0.9, estimator__kernel=rbf;, score=0.620 total time=   0.3s\n",
      "[CV 1/5] END estimator__C=1, estimator__kernel=rbf;, score=0.620 total time=   0.4s\n",
      "[CV 1/5] END estimator__C=1.2, estimator__kernel=rbf;, score=0.630 total time=   0.4s\n",
      "[CV 2/5] END estimator__C=3, estimator__kernel=rbf;, score=0.600 total time=   0.3s\n",
      "[CV 4/5] END estimator__C=0.1, estimator__degree=1, estimator__kernel=rbf;, score=0.670 total time=   0.4s\n",
      "[CV 3/5] END estimator__C=0.1, estimator__degree=2, estimator__kernel=rbf;, score=0.625 total time=   0.4s\n",
      "[CV 4/5] END estimator__C=0.01, estimator__degree=1, estimator__kernel=poly;, score=0.655 total time=   0.2s\n",
      "[CV 4/5] END estimator__C=0.01, estimator__degree=1, estimator__kernel=rbf;, score=0.670 total time=   0.3s\n",
      "[CV 1/5] END estimator__C=0.01, estimator__degree=3, estimator__kernel=poly;, score=0.570 total time=   0.2s\n",
      "[CV 1/5] END estimator__C=0.01, estimator__degree=3, estimator__kernel=rbf;, score=0.605 total time=   0.3s\n",
      "[CV 5/5] END estimator__C=1, estimator__degree=1, estimator__kernel=rbf;, score=0.620 total time=   0.4s\n",
      "[CV 5/5] END estimator__C=1, estimator__degree=3, estimator__kernel=poly;, score=0.610 total time=   0.3s\n",
      "[CV 2/5] END estimator__C=0.1, estimator__kernel=poly;, score=0.615 total time=   0.3s\n",
      "[CV 2/5] END estimator__C=0.01, estimator__kernel=poly;, score=0.605 total time=   0.2s\n",
      "[CV 2/5] END estimator__C=1, estimator__kernel=poly;, score=0.585 total time=   0.3s\n",
      "[CV 3/5] END estimator__C=0.1, estimator__degree=1, estimator__kernel=poly;, score=0.650 total time=   0.2s\n",
      "[CV 1/5] END estimator__C=0.1, estimator__degree=2, estimator__kernel=poly;, score=0.600 total time=   0.2s\n",
      "[CV 3/5] END estimator__C=0.1, estimator__degree=2, estimator__kernel=rbf;, score=0.625 total time=   0.3s\n",
      "[CV 1/5] END estimator__C=0.01, estimator__degree=2, estimator__kernel=poly;, score=0.590 total time=   0.2s\n",
      "[CV 4/5] END estimator__C=0.01, estimator__degree=2, estimator__kernel=rbf;, score=0.670 total time=   0.3s\n",
      "[CV 1/5] END estimator__C=1, estimator__degree=2, estimator__kernel=poly;, score=0.600 total time=   0.2s\n",
      "[CV 1/5] END estimator__C=1, estimator__degree=2, estimator__kernel=rbf;, score=0.620 total time=   0.3s\n",
      "[CV 4/5] END estimator__C=0.1, estimator__kernel=rbf;, score=0.670 total time=   0.3s\n",
      "[CV 5/5] END estimator__C=0.01, estimator__kernel=rbf;, score=0.610 total time=   0.3s\n",
      "[CV 5/5] END estimator__C=1, estimator__kernel=rbf;, score=0.620 total time=   0.3s\n",
      "[CV 2/5] END estimator__C=1, estimator__degree=1, estimator__kernel=poly;, score=0.640 total time=   0.2s\n",
      "[CV 4/5] END estimator__C=1, estimator__degree=2, estimator__kernel=poly;, score=0.635 total time=   0.2s\n",
      "[CV 4/5] END estimator__C=2, estimator__degree=1, estimator__kernel=poly;, score=0.655 total time=   0.2s\n",
      "[CV 4/5] END estimator__C=2, estimator__degree=1, estimator__kernel=rbf;, score=0.635 total time=   0.4s\n",
      "[CV 3/5] END estimator__C=4, estimator__degree=1, estimator__kernel=poly;, score=0.645 total time=   0.2s\n",
      "[CV 4/5] END estimator__C=4, estimator__degree=1, estimator__kernel=rbf;, score=0.610 total time=   0.3s\n",
      "[CV 3/5] END estimator__C=1, estimator__kernel=poly;, score=0.635 total time=   0.3s\n",
      "[CV 5/5] END estimator__C=2, estimator__kernel=poly;, score=0.615 total time=   0.3s\n",
      "[CV 3/5] END estimator__C=4, estimator__kernel=poly;, score=0.635 total time=   0.3s\n",
      "[CV 5/5] END estimator__C=1, estimator__degree=1, estimator__kernel=rbf;, score=0.620 total time=   0.4s\n",
      "[CV 3/5] END estimator__C=1, estimator__degree=2, estimator__kernel=rbf;, score=0.630 total time=   0.3s\n",
      "[CV 2/5] END estimator__C=2, estimator__degree=2, estimator__kernel=poly;, score=0.630 total time=   0.2s\n",
      "[CV 1/5] END estimator__C=2, estimator__degree=2, estimator__kernel=rbf;, score=0.605 total time=   0.4s\n",
      "[CV 1/5] END estimator__C=4, estimator__degree=2, estimator__kernel=poly;, score=0.600 total time=   0.2s\n",
      "[CV 1/5] END estimator__C=4, estimator__degree=2, estimator__kernel=rbf;, score=0.625 total time=   0.3s\n",
      "[CV 1/5] END estimator__C=1, estimator__degree=1, estimator__kernel=rbf;, score=0.668 total time=  43.7s\n",
      "[CV 4/5] END estimator__C=1, estimator__degree=2, estimator__kernel=rbf;, score=0.680 total time=  38.9s\n",
      "[CV 5/5] END estimator__C=0.9, estimator__kernel=poly;, score=0.600 total time=   0.3s\n",
      "[CV 4/5] END estimator__C=1, estimator__kernel=poly;, score=0.650 total time=   0.3s\n",
      "[CV 3/5] END estimator__C=1.2, estimator__kernel=poly;, score=0.645 total time=   0.3s\n",
      "[CV 2/5] END estimator__C=3, estimator__kernel=poly;, score=0.565 total time=   0.3s\n",
      "[CV 3/5] END estimator__C=3, estimator__kernel=rbf;, score=0.640 total time=   0.3s\n",
      "[CV 3/5] END estimator__C=0.1, estimator__degree=1, estimator__kernel=poly;, score=0.650 total time=   0.2s\n",
      "[CV 3/5] END estimator__C=0.1, estimator__degree=2, estimator__kernel=poly;, score=0.630 total time=   0.2s\n",
      "[CV 4/5] END estimator__C=0.1, estimator__degree=3, estimator__kernel=poly;, score=0.630 total time=   0.3s\n",
      "[CV 1/5] END estimator__C=0.01, estimator__degree=1, estimator__kernel=poly;, score=0.595 total time=   0.2s\n",
      "[CV 2/5] END estimator__C=0.01, estimator__degree=1, estimator__kernel=rbf;, score=0.610 total time=   0.3s\n",
      "[CV 2/5] END estimator__C=0.01, estimator__degree=2, estimator__kernel=rbf;, score=0.610 total time=   0.3s\n",
      "[CV 3/5] END estimator__C=1, estimator__degree=1, estimator__kernel=poly;, score=0.670 total time=   0.2s\n",
      "[CV 2/5] END estimator__C=1, estimator__degree=1, estimator__kernel=rbf;, score=0.630 total time=   0.4s\n",
      "[CV 2/5] END estimator__C=1, estimator__degree=3, estimator__kernel=poly;, score=0.585 total time=   0.3s\n",
      "[CV 3/5] END estimator__C=1, estimator__degree=3, estimator__kernel=rbf;, score=0.630 total time=   0.3s\n",
      "[CV 1/5] END estimator__C=0.1, estimator__kernel=rbf;, score=0.610 total time=   0.3s\n",
      "[CV 1/5] END estimator__C=0.01, estimator__kernel=rbf;, score=0.605 total time=   0.3s\n",
      "[CV 1/5] END estimator__C=1, estimator__kernel=rbf;, score=0.620 total time=   0.3s\n",
      "[CV 2/5] END estimator__C=0.1, estimator__degree=1, estimator__kernel=poly;, score=0.610 total time=   0.2s\n",
      "[CV 2/5] END estimator__C=0.1, estimator__degree=2, estimator__kernel=poly;, score=0.620 total time=   0.2s\n",
      "[CV 4/5] END estimator__C=0.1, estimator__degree=2, estimator__kernel=rbf;, score=0.670 total time=   0.3s\n",
      "[CV 4/5] END estimator__C=0.01, estimator__degree=2, estimator__kernel=poly;, score=0.645 total time=   0.3s\n",
      "[CV 5/5] END estimator__C=1, estimator__degree=1, estimator__kernel=poly;, score=0.635 total time=   0.2s\n",
      "[CV 2/5] END estimator__C=1, estimator__degree=2, estimator__kernel=poly;, score=0.635 total time=   0.2s\n",
      "[CV 2/5] END estimator__C=1, estimator__degree=2, estimator__kernel=rbf;, score=0.630 total time=   0.3s\n",
      "[CV 4/5] END estimator__C=0.1, estimator__kernel=poly;, score=0.630 total time=   0.3s\n",
      "[CV 3/5] END estimator__C=0.01, estimator__kernel=poly;, score=0.640 total time=   0.3s\n",
      "[CV 4/5] END estimator__C=1, estimator__kernel=poly;, score=0.650 total time=   0.3s\n",
      "[CV 4/5] END estimator__C=1, estimator__degree=1, estimator__kernel=poly;, score=0.655 total time=   0.2s\n",
      "[CV 5/5] END estimator__C=1, estimator__degree=2, estimator__kernel=poly;, score=0.640 total time=   0.2s\n",
      "[CV 5/5] END estimator__C=2, estimator__degree=1, estimator__kernel=poly;, score=0.605 total time=   0.2s\n",
      "[CV 5/5] END estimator__C=2, estimator__degree=1, estimator__kernel=rbf;, score=0.630 total time=   0.3s\n",
      "[CV 5/5] END estimator__C=4, estimator__degree=1, estimator__kernel=poly;, score=0.595 total time=   0.2s\n",
      "[CV 5/5] END estimator__C=4, estimator__degree=1, estimator__kernel=rbf;, score=0.615 total time=   0.3s\n",
      "[CV 5/5] END estimator__C=1, estimator__kernel=rbf;, score=0.620 total time=   0.4s\n",
      "[CV 5/5] END estimator__C=2, estimator__kernel=rbf;, score=0.630 total time=   0.4s\n",
      "[CV 5/5] END estimator__C=4, estimator__kernel=rbf;, score=0.615 total time=   0.3s\n",
      "[CV 4/5] END estimator__C=1, estimator__degree=1, estimator__kernel=rbf;, score=0.675 total time=   0.4s\n",
      "[CV 5/5] END estimator__C=1, estimator__degree=2, estimator__kernel=rbf;, score=0.620 total time=   0.4s\n",
      "[CV 5/5] END estimator__C=2, estimator__degree=2, estimator__kernel=poly;, score=0.650 total time=   0.2s\n",
      "[CV 5/5] END estimator__C=2, estimator__degree=2, estimator__kernel=rbf;, score=0.630 total time=   0.4s\n",
      "[CV 5/5] END estimator__C=4, estimator__degree=2, estimator__kernel=poly;, score=0.620 total time=   0.2s\n",
      "[CV 3/5] END estimator__C=1, estimator__degree=1, estimator__kernel=rbf;, score=0.672 total time=  43.6s\n",
      "[CV 2/5] END estimator__C=1, estimator__degree=2, estimator__kernel=rbf;, score=0.670 total time=  39.1s\n",
      "[CV 3/5] END estimator__C=0.9, estimator__kernel=rbf;, score=0.625 total time=   0.4s\n",
      "[CV 2/5] END estimator__C=1, estimator__kernel=rbf;, score=0.630 total time=   0.4s\n",
      "[CV 4/5] END estimator__C=1.2, estimator__kernel=rbf;, score=0.675 total time=   0.4s\n",
      "[CV 5/5] END estimator__C=3, estimator__kernel=rbf;, score=0.630 total time=   0.3s\n",
      "[CV 2/5] END estimator__C=0.1, estimator__degree=1, estimator__kernel=poly;, score=0.610 total time=   0.2s\n",
      "[CV 5/5] END estimator__C=0.1, estimator__degree=2, estimator__kernel=poly;, score=0.615 total time=   0.2s\n",
      "[CV 5/5] END estimator__C=0.1, estimator__degree=3, estimator__kernel=poly;, score=0.600 total time=   0.2s\n",
      "[CV 2/5] END estimator__C=0.01, estimator__degree=1, estimator__kernel=poly;, score=0.600 total time=   0.2s\n",
      "[CV 1/5] END estimator__C=0.01, estimator__degree=1, estimator__kernel=rbf;, score=0.605 total time=   0.3s\n",
      "[CV 1/5] END estimator__C=0.01, estimator__degree=2, estimator__kernel=rbf;, score=0.605 total time=   0.3s\n",
      "[CV 5/5] END estimator__C=0.01, estimator__degree=3, estimator__kernel=rbf;, score=0.610 total time=   0.3s\n",
      "[CV 5/5] END estimator__C=1, estimator__degree=2, estimator__kernel=poly;, score=0.640 total time=   0.2s\n",
      "[CV 5/5] END estimator__C=1, estimator__degree=2, estimator__kernel=rbf;, score=0.620 total time=   0.3s\n",
      "[CV 1/5] END estimator__C=0.1, estimator__kernel=poly;, score=0.570 total time=   0.3s\n",
      "[CV 4/5] END estimator__C=0.01, estimator__kernel=poly;, score=0.620 total time=   0.2s\n",
      "[CV 3/5] END estimator__C=1, estimator__kernel=poly;, score=0.635 total time=   0.3s\n",
      "[CV 4/5] END estimator__C=0.1, estimator__degree=1, estimator__kernel=rbf;, score=0.670 total time=   0.3s\n",
      "[CV 3/5] END estimator__C=0.01, estimator__degree=1, estimator__kernel=poly;, score=0.655 total time=   0.2s\n",
      "[CV 3/5] END estimator__C=0.01, estimator__degree=1, estimator__kernel=rbf;, score=0.630 total time=   0.3s\n",
      "[CV 4/5] END estimator__C=1, estimator__degree=1, estimator__kernel=poly;, score=0.655 total time=   0.2s\n",
      "[CV 3/5] END estimator__C=1, estimator__degree=1, estimator__kernel=rbf;, score=0.630 total time=   0.4s\n",
      "[CV 3/5] END estimator__C=0.1, estimator__kernel=poly;, score=0.640 total time=   0.3s\n",
      "[CV 1/5] END estimator__C=0.01, estimator__kernel=poly;, score=0.570 total time=   0.2s\n",
      "[CV 1/5] END estimator__C=1, estimator__kernel=poly;, score=0.595 total time=   0.3s\n",
      "[CV 5/5] END estimator__C=1, estimator__degree=1, estimator__kernel=poly;, score=0.635 total time=   0.2s\n",
      "[CV 2/5] END estimator__C=1, estimator__degree=2, estimator__kernel=poly;, score=0.635 total time=   0.2s\n",
      "[CV 2/5] END estimator__C=2, estimator__degree=1, estimator__kernel=poly;, score=0.655 total time=   0.2s\n",
      "[CV 3/5] END estimator__C=2, estimator__degree=1, estimator__kernel=rbf;, score=0.650 total time=   0.3s\n",
      "[CV 5/5] END estimator__C=2, estimator__degree=2, estimator__kernel=rbf;, score=0.630 total time=   0.3s\n",
      "[CV 3/5] END estimator__C=4, estimator__degree=2, estimator__kernel=poly;, score=0.630 total time=   0.2s\n",
      "[CV 1/5] END estimator__C=1, estimator__kernel=poly;, score=0.595 total time=   0.3s\n",
      "[CV 2/5] END estimator__C=2, estimator__kernel=poly;, score=0.570 total time=   0.3s\n",
      "[CV 5/5] END estimator__C=4, estimator__kernel=poly;, score=0.615 total time=   0.3s\n",
      "[CV 2/5] END estimator__C=1, estimator__degree=1, estimator__kernel=poly;, score=0.640 total time=   0.2s\n",
      "[CV 3/5] END estimator__C=1, estimator__degree=2, estimator__kernel=poly;, score=0.645 total time=   0.2s\n",
      "[CV 1/5] END estimator__C=2, estimator__degree=1, estimator__kernel=poly;, score=0.630 total time=   0.2s\n",
      "[CV 1/5] END estimator__C=2, estimator__degree=1, estimator__kernel=rbf;, score=0.605 total time=   0.3s\n",
      "[CV 2/5] END estimator__C=2, estimator__degree=2, estimator__kernel=rbf;, score=0.615 total time=   0.4s\n",
      "[CV 2/5] END estimator__C=4, estimator__degree=2, estimator__kernel=poly;, score=0.585 total time=   0.2s\n",
      "[CV 2/5] END estimator__C=4, estimator__degree=2, estimator__kernel=rbf;, score=0.595 total time=   0.3s\n",
      "[CV 2/5] END estimator__C=1, estimator__degree=1, estimator__kernel=rbf;, score=0.670 total time=  43.6s\n",
      "[CV 1/5] END estimator__C=1, estimator__degree=2, estimator__kernel=rbf;, score=0.668 total time=  39.2s\n"
     ]
    },
    {
     "name": "stdout",
     "output_type": "stream",
     "text": [
      "[CV 2/5] END estimator__C=0.9, estimator__kernel=rbf;, score=0.620 total time=   0.4s\n",
      "[CV 3/5] END estimator__C=1, estimator__kernel=rbf;, score=0.630 total time=   0.4s\n",
      "[CV 5/5] END estimator__C=1.2, estimator__kernel=rbf;, score=0.625 total time=   0.4s\n",
      "[CV 1/5] END estimator__C=0.1, estimator__degree=1, estimator__kernel=poly;, score=0.600 total time=   0.2s\n",
      "[CV 1/5] END estimator__C=0.1, estimator__degree=2, estimator__kernel=poly;, score=0.600 total time=   0.2s\n",
      "[CV 3/5] END estimator__C=0.1, estimator__degree=3, estimator__kernel=poly;, score=0.640 total time=   0.2s\n",
      "[CV 2/5] END estimator__C=0.1, estimator__degree=3, estimator__kernel=rbf;, score=0.620 total time=   0.3s\n",
      "[CV 2/5] END estimator__C=0.01, estimator__degree=2, estimator__kernel=poly;, score=0.620 total time=   0.2s\n",
      "[CV 2/5] END estimator__C=0.01, estimator__degree=3, estimator__kernel=poly;, score=0.605 total time=   0.2s\n",
      "[CV 2/5] END estimator__C=0.01, estimator__degree=3, estimator__kernel=rbf;, score=0.610 total time=   0.3s\n",
      "[CV 2/5] END estimator__C=1, estimator__degree=2, estimator__kernel=poly;, score=0.635 total time=   0.2s\n",
      "[CV 2/5] END estimator__C=1, estimator__degree=2, estimator__kernel=rbf;, score=0.630 total time=   0.4s\n",
      "[CV 2/5] END estimator__C=0.1, estimator__kernel=rbf;, score=0.620 total time=   0.4s\n",
      "[CV 2/5] END estimator__C=0.01, estimator__kernel=rbf;, score=0.610 total time=   0.3s\n",
      "[CV 4/5] END estimator__C=1, estimator__kernel=rbf;, score=0.675 total time=   0.3s\n",
      "[CV 3/5] END estimator__C=0.1, estimator__degree=1, estimator__kernel=rbf;, score=0.625 total time=   0.3s\n",
      "[CV 5/5] END estimator__C=0.1, estimator__degree=2, estimator__kernel=rbf;, score=0.615 total time=   0.3s\n",
      "[CV 5/5] END estimator__C=0.01, estimator__degree=2, estimator__kernel=poly;, score=0.615 total time=   0.2s\n",
      "[CV 2/5] END estimator__C=0.01, estimator__degree=2, estimator__kernel=rbf;, score=0.610 total time=   0.4s\n",
      "[CV 4/5] END estimator__C=1, estimator__degree=2, estimator__kernel=poly;, score=0.635 total time=   0.2s\n",
      "[CV 4/5] END estimator__C=1, estimator__degree=2, estimator__kernel=rbf;, score=0.675 total time=   0.3s\n",
      "[CV 1/5] END estimator__C=0.1, estimator__kernel=rbf;, score=0.610 total time=   0.3s\n",
      "[CV 1/5] END estimator__C=0.01, estimator__kernel=rbf;, score=0.605 total time=   0.3s\n",
      "[CV 1/5] END estimator__C=1, estimator__kernel=rbf;, score=0.620 total time=   0.3s\n",
      "[CV 1/5] END estimator__C=1, estimator__degree=1, estimator__kernel=rbf;, score=0.620 total time=   0.3s\n",
      "[CV 1/5] END estimator__C=1, estimator__degree=2, estimator__kernel=rbf;, score=0.620 total time=   0.4s\n",
      "[CV 1/5] END estimator__C=2, estimator__degree=2, estimator__kernel=poly;, score=0.625 total time=   0.2s\n",
      "[CV 1/5] END estimator__C=2, estimator__degree=2, estimator__kernel=rbf;, score=0.605 total time=   0.3s\n",
      "[CV 1/5] END estimator__C=4, estimator__degree=2, estimator__kernel=poly;, score=0.600 total time=   0.2s\n",
      "[CV 1/5] END estimator__C=4, estimator__degree=2, estimator__kernel=rbf;, score=0.625 total time=   0.3s\n",
      "[CV 2/5] END estimator__C=1, estimator__kernel=poly;, score=0.585 total time=   0.3s\n",
      "[CV 1/5] END estimator__C=2, estimator__kernel=poly;, score=0.575 total time=   0.3s\n",
      "[CV 2/5] END estimator__C=4, estimator__kernel=poly;, score=0.565 total time=   0.3s\n",
      "[CV 2/5] END estimator__C=1, estimator__degree=1, estimator__kernel=rbf;, score=0.630 total time=   0.4s\n",
      "[CV 2/5] END estimator__C=1, estimator__degree=2, estimator__kernel=rbf;, score=0.630 total time=   0.3s\n",
      "[CV 1/5] END estimator__C=2, estimator__degree=2, estimator__kernel=poly;, score=0.625 total time=   0.3s\n",
      "[CV 1/5] END estimator__C=4, estimator__degree=1, estimator__kernel=poly;, score=0.635 total time=   0.2s\n",
      "[CV 1/5] END estimator__C=4, estimator__degree=1, estimator__kernel=rbf;, score=0.625 total time=   0.3s\n",
      "[CV 3/5] END estimator__C=4, estimator__degree=2, estimator__kernel=rbf;, score=0.610 total time=   0.3s\n",
      "[CV 4/5] END estimator__C=1, estimator__degree=1, estimator__kernel=rbf;, score=0.680 total time=  43.7s\n",
      "[CV 3/5] END estimator__C=1, estimator__degree=2, estimator__kernel=rbf;, score=0.672 total time=  39.2s\n",
      "[CV 3/5] END estimator__C=0.9, estimator__kernel=poly;, score=0.635 total time=   0.3s\n",
      "[CV 3/5] END estimator__C=1, estimator__kernel=poly;, score=0.635 total time=   0.3s\n",
      "[CV 1/5] END estimator__C=1.2, estimator__kernel=poly;, score=0.585 total time=   0.3s\n",
      "[CV 1/5] END estimator__C=3, estimator__kernel=poly;, score=0.585 total time=   0.3s\n",
      "[CV 1/5] END estimator__C=3, estimator__kernel=rbf;, score=0.620 total time=   0.3s\n",
      "[CV 5/5] END estimator__C=0.1, estimator__degree=1, estimator__kernel=poly;, score=0.635 total time=   0.2s\n",
      "[CV 2/5] END estimator__C=0.1, estimator__degree=2, estimator__kernel=poly;, score=0.620 total time=   0.2s\n",
      "[CV 1/5] END estimator__C=0.1, estimator__degree=3, estimator__kernel=poly;, score=0.570 total time=   0.2s\n",
      "[CV 1/5] END estimator__C=0.1, estimator__degree=3, estimator__kernel=rbf;, score=0.610 total time=   0.3s\n",
      "[CV 3/5] END estimator__C=0.01, estimator__degree=2, estimator__kernel=poly;, score=0.630 total time=   0.2s\n",
      "[CV 3/5] END estimator__C=0.01, estimator__degree=3, estimator__kernel=poly;, score=0.640 total time=   0.2s\n",
      "[CV 4/5] END estimator__C=0.01, estimator__degree=3, estimator__kernel=rbf;, score=0.670 total time=   0.3s\n",
      "[CV 3/5] END estimator__C=1, estimator__degree=2, estimator__kernel=poly;, score=0.645 total time=   0.2s\n",
      "[CV 3/5] END estimator__C=1, estimator__degree=2, estimator__kernel=rbf;, score=0.630 total time=   0.3s\n",
      "[CV 3/5] END estimator__C=0.1, estimator__kernel=rbf;, score=0.625 total time=   0.3s\n",
      "[CV 3/5] END estimator__C=0.01, estimator__kernel=rbf;, score=0.630 total time=   0.3s\n",
      "[CV 2/5] END estimator__C=1, estimator__kernel=rbf;, score=0.630 total time=   0.3s\n",
      "[CV 5/5] END estimator__C=0.1, estimator__degree=1, estimator__kernel=rbf;, score=0.615 total time=   0.3s\n",
      "[CV 5/5] END estimator__C=0.01, estimator__degree=1, estimator__kernel=poly;, score=0.630 total time=   0.2s\n",
      "[CV 5/5] END estimator__C=0.01, estimator__degree=1, estimator__kernel=rbf;, score=0.610 total time=   0.3s\n",
      "[CV 3/5] END estimator__C=0.01, estimator__degree=2, estimator__kernel=rbf;, score=0.630 total time=   0.3s\n",
      "[CV 3/5] END estimator__C=1, estimator__degree=2, estimator__kernel=poly;, score=0.645 total time=   0.2s\n",
      "[CV 5/5] END estimator__C=1, estimator__degree=2, estimator__kernel=rbf;, score=0.620 total time=   0.3s\n",
      "[CV 3/5] END estimator__C=0.1, estimator__kernel=rbf;, score=0.625 total time=   0.4s\n",
      "[CV 4/5] END estimator__C=0.01, estimator__kernel=rbf;, score=0.670 total time=   0.3s\n",
      "[CV 4/5] END estimator__C=1, estimator__kernel=rbf;, score=0.675 total time=   0.3s\n",
      "[CV 2/5] END estimator__C=1, estimator__degree=1, estimator__kernel=rbf;, score=0.630 total time=   0.4s\n",
      "[CV 4/5] END estimator__C=1, estimator__degree=2, estimator__kernel=rbf;, score=0.675 total time=   0.3s\n",
      "[CV 2/5] END estimator__C=2, estimator__degree=2, estimator__kernel=poly;, score=0.630 total time=   0.2s\n",
      "[CV 2/5] END estimator__C=2, estimator__degree=2, estimator__kernel=rbf;, score=0.615 total time=   0.4s\n",
      "[CV 2/5] END estimator__C=4, estimator__degree=2, estimator__kernel=poly;, score=0.585 total time=   0.2s\n",
      "[CV 4/5] END estimator__C=4, estimator__degree=2, estimator__kernel=rbf;, score=0.610 total time=   0.3s\n",
      "[CV 1/5] END estimator__C=1, estimator__kernel=rbf;, score=0.620 total time=   0.4s\n",
      "[CV 1/5] END estimator__C=2, estimator__kernel=rbf;, score=0.605 total time=   0.4s\n",
      "[CV 3/5] END estimator__C=4, estimator__kernel=rbf;, score=0.610 total time=   0.3s\n",
      "[CV 3/5] END estimator__C=1, estimator__degree=1, estimator__kernel=poly;, score=0.670 total time=   0.2s\n",
      "[CV 2/5] END estimator__C=1, estimator__degree=2, estimator__kernel=poly;, score=0.635 total time=   0.2s\n",
      "[CV 4/5] END estimator__C=2, estimator__degree=1, estimator__kernel=poly;, score=0.655 total time=   0.2s\n",
      "[CV 3/5] END estimator__C=2, estimator__degree=1, estimator__kernel=rbf;, score=0.650 total time=   0.4s\n",
      "[CV 2/5] END estimator__C=4, estimator__degree=1, estimator__kernel=poly;, score=0.620 total time=   0.2s\n",
      "[CV 2/5] END estimator__C=4, estimator__degree=1, estimator__kernel=rbf;, score=0.595 total time=   0.4s\n",
      "[CV 5/5] END estimator__C=1, estimator__degree=1, estimator__kernel=rbf;, score=0.676 total time=  44.0s\n",
      "[CV 5/5] END estimator__C=1, estimator__degree=2, estimator__kernel=rbf;, score=0.676 total time=  39.1s\n"
     ]
    }
   ],
   "source": [
    "model_tunning.score(X_test[:1000],y_test[:1000])"
   ]
  },
  {
   "cell_type": "code",
   "execution_count": 69,
   "id": "f17d8329",
   "metadata": {},
   "outputs": [
    {
     "data": {
      "text/plain": [
       "OneVsRestClassifier(estimator=SVC())"
      ]
     },
     "execution_count": 69,
     "metadata": {},
     "output_type": "execute_result"
    }
   ],
   "source": [
    "from sklearn.multiclass import OneVsRestClassifier\n",
    "from sklearn.svm import SVC\n",
    "\n",
    "#Avec Probas :\n",
    "clf = OneVsRestClassifier(SVC(probability=False))\n",
    "clf.fit(X_train[:1000], y_train[:1000])\n",
    "\n",
    "#Sans Probas : \n",
    "#clf = OneVsRestClassifier(SVC(probability=False)).fit(X_train, y_train)\n",
    "\n"
   ]
  },
  {
   "cell_type": "code",
   "execution_count": 88,
   "id": "87ca59a4",
   "metadata": {},
   "outputs": [
    {
     "data": {
      "text/plain": [
       "OneVsRestClassifier(estimator=SVC())"
      ]
     },
     "execution_count": 88,
     "metadata": {},
     "output_type": "execute_result"
    }
   ],
   "source": [
    "from sklearn.multiclass import OneVsRestClassifier\n",
    "from sklearn.svm import SVC\n",
    "\n",
    "#Avec Probas :\n",
    "clf = OneVsRestClassifier(SVC(probability=False))\n",
    "clf.fit(X_train[:10000], y_train[:10000])\n",
    "\n",
    "#Sans Probas : \n",
    "#clf = OneVsRestClassifier(SVC(probability=False)).fit(X_train, y_train)\n",
    "\n"
   ]
  },
  {
   "cell_type": "code",
   "execution_count": 93,
   "id": "ad04ec35",
   "metadata": {},
   "outputs": [
    {
     "data": {
      "text/plain": [
       "{'estimator__C': 1.0,\n",
       " 'estimator__break_ties': False,\n",
       " 'estimator__cache_size': 200,\n",
       " 'estimator__class_weight': None,\n",
       " 'estimator__coef0': 0.0,\n",
       " 'estimator__decision_function_shape': 'ovr',\n",
       " 'estimator__degree': 3,\n",
       " 'estimator__gamma': 'scale',\n",
       " 'estimator__kernel': 'rbf',\n",
       " 'estimator__max_iter': -1,\n",
       " 'estimator__probability': False,\n",
       " 'estimator__random_state': None,\n",
       " 'estimator__shrinking': True,\n",
       " 'estimator__tol': 0.001,\n",
       " 'estimator__verbose': False,\n",
       " 'estimator': SVC(),\n",
       " 'n_jobs': None}"
      ]
     },
     "execution_count": 93,
     "metadata": {},
     "output_type": "execute_result"
    }
   ],
   "source": [
    "clf.get_params()"
   ]
  },
  {
   "cell_type": "code",
   "execution_count": 81,
   "id": "634e3361",
   "metadata": {},
   "outputs": [
    {
     "data": {
      "text/plain": [
       "0.668"
      ]
     },
     "execution_count": 81,
     "metadata": {},
     "output_type": "execute_result"
    }
   ],
   "source": [
    "clf.score(X_test[:5000],y_test[:5000])"
   ]
  },
  {
   "cell_type": "code",
   "execution_count": 82,
   "id": "338260fb",
   "metadata": {},
   "outputs": [
    {
     "data": {
      "text/plain": [
       "0.6845100599243413"
      ]
     },
     "execution_count": 82,
     "metadata": {},
     "output_type": "execute_result"
    }
   ],
   "source": [
    "clf.score(X_train,y_train)"
   ]
  },
  {
   "cell_type": "markdown",
   "id": "a5b7669f",
   "metadata": {},
   "source": [
    "### Pipeline"
   ]
  },
  {
   "cell_type": "markdown",
   "id": "aa2adfae",
   "metadata": {},
   "source": [
    "### Créons une pipeline afin de faciliter la prédiction de notre notre modèle. "
   ]
  },
  {
   "cell_type": "code",
   "execution_count": 28,
   "id": "fa2db26f",
   "metadata": {},
   "outputs": [],
   "source": [
    "from sklearn.model_selection import train_test_split\n",
    "from sklearn import preprocessing\n",
    "label_encoder = preprocessing.LabelEncoder()\n",
    "target_to_train_encoded = label_encoder.fit_transform(target_to_train)\n",
    "\n",
    "X_train, X_test, y_train, y_test = train_test_split(data_to_train,target_to_train_encoded,test_size=0.3)"
   ]
  },
  {
   "cell_type": "code",
   "execution_count": 29,
   "id": "18893090",
   "metadata": {},
   "outputs": [
    {
     "data": {
      "text/plain": [
       "37339"
      ]
     },
     "execution_count": 29,
     "metadata": {},
     "output_type": "execute_result"
    }
   ],
   "source": [
    "len(target_to_train_encoded)"
   ]
  },
  {
   "cell_type": "code",
   "execution_count": 30,
   "id": "b0c5f3d7",
   "metadata": {},
   "outputs": [],
   "source": [
    "def cleaning_question_W2V(data_to_train):\n",
    "    \n",
    "    clean_train_questions = []\n",
    "    # Ici, data_to_train a été défini dans la partie \"Gestion des Tags\". Cela correspond aux données avec \n",
    "    # au moins 1 des 10 tags les plus récurents. C'est sur ces données que l'on va entrainer notre modèle supervisé. \n",
    "    for question in data_to_train:\n",
    "        clean_train_questions.append(sentence_to_wordlist( question, \\\n",
    "            remove_stopwords=True ))\n",
    "    \n",
    "    print (\"Creating average feature vecs for test questions\")\n",
    "    trainDataVecs = getAvgFeatureVecs(clean_train_questions, model, num_features)\n",
    "    return trainDataVecs\n",
    "\n",
    "# Création d'un transformeur, permettant d'intégrer notre fonction dans la pipeline. \n",
    "\n",
    "from sklearn.preprocessing import FunctionTransformer\n",
    "transformer_2 = FunctionTransformer(cleaning_question_W2V)"
   ]
  },
  {
   "cell_type": "code",
   "execution_count": 31,
   "id": "32a269b9",
   "metadata": {},
   "outputs": [],
   "source": [
    "from sklearn.pipeline import Pipeline\n",
    "from sklearn.multiclass import OneVsRestClassifier\n",
    "from sklearn.svm import SVC"
   ]
  },
  {
   "cell_type": "markdown",
   "id": "24c10a1a",
   "metadata": {},
   "source": [
    "### Création de la pipeline "
   ]
  },
  {
   "cell_type": "code",
   "execution_count": null,
   "id": "c8a0932c",
   "metadata": {},
   "outputs": [],
   "source": []
  },
  {
   "cell_type": "code",
   "execution_count": 32,
   "id": "a185360c",
   "metadata": {},
   "outputs": [],
   "source": [
    "pipeline = Pipeline([\n",
    "   ('transformer', transformer_2), ('clf',OneVsRestClassifier(SVC(probability=True))), \n",
    "])"
   ]
  },
  {
   "cell_type": "code",
   "execution_count": null,
   "id": "e3a46809",
   "metadata": {
    "scrolled": false
   },
   "outputs": [],
   "source": [
    "pipeline.fit(X_train, y_train)"
   ]
  },
  {
   "cell_type": "code",
   "execution_count": null,
   "id": "c3ac3b6b",
   "metadata": {},
   "outputs": [],
   "source": []
  },
  {
   "cell_type": "raw",
   "id": "adeceb11",
   "metadata": {
    "scrolled": true
   },
   "source": [
    "import joblib\n",
    "joblib.dump(pipeline, 'pipeline_W2V.joblib')\n",
    "from mlflow.models.signature import infer_signature\n",
    "signature = infer_signature(X_train,y_train)\n",
    "import mlflow\n",
    "mlflow.sklearn.save_model(pipeline, 'mlflow_model_W2V', signature=signature)"
   ]
  },
  {
   "cell_type": "markdown",
   "id": "8a7b8b7d",
   "metadata": {},
   "source": [
    "# API"
   ]
  },
  {
   "cell_type": "code",
   "execution_count": null,
   "id": "f69b516f",
   "metadata": {
    "scrolled": true
   },
   "outputs": [],
   "source": [
    "## from fast_dash import FastDash\n",
    "from fast_dash.Components import Text\n",
    "\n",
    "# Step 1: Define your model inference\n",
    "def text_to_text_function(question):\n",
    "    result = []\n",
    "    result_2  = []\n",
    "    probas = []\n",
    "    #result = pipeline.predict([question])\n",
    "    #result = label_encoder.inverse_transform(result)[0]\n",
    "    result_proba = pipeline.predict_proba([question])\n",
    "    print(result_proba)\n",
    "    for idx, prob in enumerate(result_proba[0]) : \n",
    "        if prob > 0.1:\n",
    "            result.append(idx)\n",
    "            probas.append(probas)\n",
    "    print(result)\n",
    "    result = label_encoder.inverse_transform(result)\n",
    "    \n",
    "    \"\"\"for idx,i in enumerate(result) : \n",
    "        result_2.append(i)\n",
    "        result_2.append(probas[idx] )\n",
    "    print(result)\"\"\"\n",
    "    \n",
    "    return result\n",
    "\n",
    "# Step 2: Specify the input and output components\n",
    "app = FastDash(callback_fn=text_to_text_function, \n",
    "                inputs=Text, \n",
    "                outputs=Text, \n",
    "                title='App title')\n",
    "\n",
    "# Step 3: Run your app!\n",
    "app.run()\n",
    "\n",
    "# * Running on http://127.0.0.1:5000/ (Press CTRL+C to quit)"
   ]
  }
 ],
 "metadata": {
  "kernelspec": {
   "display_name": "Python 3 (ipykernel)",
   "language": "python",
   "name": "python3"
  },
  "language_info": {
   "codemirror_mode": {
    "name": "ipython",
    "version": 3
   },
   "file_extension": ".py",
   "mimetype": "text/x-python",
   "name": "python",
   "nbconvert_exporter": "python",
   "pygments_lexer": "ipython3",
   "version": "3.9.12"
  }
 },
 "nbformat": 4,
 "nbformat_minor": 5
}
